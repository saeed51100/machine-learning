{
 "cells": [
  {
   "cell_type": "markdown",
   "source": [
    "# House price\n",
    "### For this project, we have collected data on approximately 4,000 apartments. Our task is to estimate the price of the apartment using the features of the dataset, which we will describe below. The data is stored in the file 14.csv.\n",
    "- Area of the house in meters (Area)\n",
    "- Number of bedrooms (Room)\n",
    "- Parking or not (Parking)\n",
    "- Warehouse or not (Warehouse)\n",
    "- Elevator or not (Elevator)\n",
    "- Approximate address (Address)\n",
    "- Price in dollars (Price)\n",
    "\n",
    "### In this dataset, some houses do not have addresses, and the area of some houses is entered incorrectly (they have very large values). For this purpose, you should also manage these items and remove them from your dataset."
   ],
   "metadata": {
    "collapsed": false,
    "pycharm": {
     "name": "#%% md\n"
    }
   }
  }
 ],
 "metadata": {
  "kernelspec": {
   "display_name": "Python 3",
   "language": "python",
   "name": "python3"
  },
  "language_info": {
   "codemirror_mode": {
    "name": "ipython",
    "version": 2
   },
   "file_extension": ".py",
   "mimetype": "text/x-python",
   "name": "python",
   "nbconvert_exporter": "python",
   "pygments_lexer": "ipython2",
   "version": "2.7.6"
  }
 },
 "nbformat": 4,
 "nbformat_minor": 0
}