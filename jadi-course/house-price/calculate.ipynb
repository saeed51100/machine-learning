{
 "cells": [
  {
   "cell_type": "markdown",
   "source": [
    "# House price\n",
    "### For this project, we have collected data on approximately 4,000 apartments. Our task is to estimate the price of the apartment using the features of the dataset, which we will describe below. The data is stored in the file 15.csv.\n",
    "- Area of the house in meters (Area)\n",
    "- Number of bedrooms (Room)\n",
    "- Parking or not (Parking)\n",
    "- Warehouse or not (Warehouse)\n",
    "- Elevator or not (Elevator)\n",
    "- Approximate address (Address)\n",
    "- Price in dollars (Price)\n",
    "\n",
    "### In this dataset, some houses do not have addresses, and the area of some houses is entered incorrectly (they have very large values). For this purpose, you should also manage these items and remove them from your dataset."
   ],
   "metadata": {
    "collapsed": false,
    "pycharm": {
     "name": "#%% md\n"
    }
   },
   "outputs": [
    {
     "ename": "SyntaxError",
     "evalue": "invalid syntax (2857894107.py, line 3)",
     "output_type": "error",
     "traceback": [
      "\u001B[1;36m  Cell \u001B[1;32mIn[1], line 3\u001B[1;36m\u001B[0m\n\u001B[1;33m    - Area of the house in meters (Area)\u001B[0m\n\u001B[1;37m           ^\u001B[0m\n\u001B[1;31mSyntaxError\u001B[0m\u001B[1;31m:\u001B[0m invalid syntax\n"
     ]
    }
   ],
   "execution_count": 1
  },
  {
   "cell_type": "code",
   "execution_count": 3,
   "outputs": [],
   "source": [
    "import pandas as pd\n",
    "import numpy as np\n",
    "import matplotlib.pyplot as plt\n",
    "import seaborn as sns"
   ],
   "metadata": {
    "collapsed": false,
    "pycharm": {
     "name": "#%%\n"
    }
   }
  },
  {
   "cell_type": "code",
   "execution_count": 7,
   "outputs": [],
   "source": [
    "# Load the dataset\n",
    "df = pd.read_csv('15.csv')\n",
    "\n",
    "# Data Cleaning\n",
    "\n",
    "# 1. Handle Missing Addresses\n",
    "df = df.dropna(subset=['Address'])\n",
    "\n",
    "# 2. Handle Incorrect Area Values\n",
    "# Define a threshold for reasonable area values (adjust as needed)\n",
    "max_area_threshold = 500  # Example threshold, adjust based on your data analysis\n",
    "\n",
    "\n",
    "\n",
    "# Filter out rows with excessively large areas\n",
    "# 1. Handle empty cells and non-numeric values\n",
    "df['Area'] = pd.to_numeric(df['Area'], errors='coerce')\n",
    "\n",
    "# 2. Filter out rows with excessively large areas and invalid values\n",
    "df = df[(df['Area'].notna()) & (df['Area'] <= max_area_threshold)]"
   ],
   "metadata": {
    "collapsed": false,
    "pycharm": {
     "name": "#%%\n"
    }
   }
  }
 ],
 "metadata": {
  "kernelspec": {
   "display_name": "Python 3",
   "language": "python",
   "name": "python3"
  },
  "language_info": {
   "codemirror_mode": {
    "name": "ipython",
    "version": 2
   },
   "file_extension": ".py",
   "mimetype": "text/x-python",
   "name": "python",
   "nbconvert_exporter": "python",
   "pygments_lexer": "ipython2",
   "version": "2.7.6"
  }
 },
 "nbformat": 4,
 "nbformat_minor": 0
}