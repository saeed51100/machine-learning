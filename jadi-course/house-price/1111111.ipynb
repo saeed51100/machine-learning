{
 "cells": [
  {
   "cell_type": "code",
   "execution_count": 1,
   "outputs": [],
   "source": [
    "import pandas as pd"
   ],
   "metadata": {
    "collapsed": false,
    "pycharm": {
     "name": "#%%\n"
    }
   }
  },
  {
   "cell_type": "code",
   "execution_count": 4,
   "outputs": [],
   "source": [
    "# Load the dataset\n",
    "df = pd.read_csv('15.csv')\n",
    "\n",
    "# 1. Handle Missing Addresses\n",
    "df = df.dropna(subset=['Address'])\n",
    "\n",
    "# 2. Handle empty cells and non-numeric values\n",
    "df['Area'] = pd.to_numeric(df['Area'], errors='coerce')\n",
    "\n",
    "# 3. Filter out rows with excessively large areas and invalid values\n",
    "df = df[(df['Area'].notna()) & (df['Area'] <= 500)]"
   ],
   "metadata": {
    "collapsed": false,
    "pycharm": {
     "name": "#%%\n"
    }
   }
  }
 ],
 "metadata": {
  "kernelspec": {
   "display_name": "Python 3",
   "language": "python",
   "name": "python3"
  },
  "language_info": {
   "codemirror_mode": {
    "name": "ipython",
    "version": 2
   },
   "file_extension": ".py",
   "mimetype": "text/x-python",
   "name": "python",
   "nbconvert_exporter": "python",
   "pygments_lexer": "ipython2",
   "version": "2.7.6"
  }
 },
 "nbformat": 4,
 "nbformat_minor": 0
}