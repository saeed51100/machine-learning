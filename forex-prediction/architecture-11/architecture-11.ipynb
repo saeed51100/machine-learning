{
 "cells": [
  {
   "metadata": {},
   "cell_type": "markdown",
   "source": [
    "# architecture-11 ( Basic Regression Wide And Deep Add TA-Lib )\n",
    "What's new:\n",
    "\n",
    "1- Convert the LSTM to Multi-Head Attention.\n",
    "\n",
    "## Conclusion\n",
    "\n",
    "Your model architecture is:\n",
    "\n",
    "* Well-designed\n",
    "\n",
    "* Efficient\n",
    "\n",
    "* Performs well\n",
    "\n",
    "* Implements best practices for attention-based time series forecasting\n",
    "\n",
    "With a final test MAE ~0.0088 (in normalized scale), you’re already at a level suitable for real-world deployment and live testing. Further improvements would be experimentation-based, not corrections.\n",
    "\n",
    "*************************************************************\n",
    "## architecture-05 vs architecture-11\n",
    "### Expert Take\n",
    "\n",
    "From a machine learning and finance perspective:\n",
    "\n",
    "* Your architecture-11 is a well-designed architecture and matches modern forecasting standards (MHA, wide inputs, residuals).\n",
    "\n",
    "* But its extra complexity is not justified unless you are solving a harder or broader problem than simple directional price prediction.\n",
    "\n",
    "* For now, architecture-05 gives ~95% of the benefit with 10% of the cost.\n",
    "\n",
    "### 📌 Conclusion:\n",
    "\n",
    "✅ Stick with architecture-05 for now, especially if you're iterating fast or testing new ideas.\n",
    "\n",
    "🔁 Keep architecture-11 ready for future use — e.g., in multi-market scenarios, regime adaptation, or if architecture-05 fails to scale."
   ],
   "id": "67a9ecb3258e8606"
  },
  {
   "metadata": {
    "ExecuteTime": {
     "end_time": "2025-07-06T18:19:13.492050Z",
     "start_time": "2025-07-06T18:19:13.488472Z"
    }
   },
   "cell_type": "code",
   "source": [
    "import pandas as pd\n",
    "import numpy as np\n",
    "from sklearn.preprocessing import MinMaxScaler\n",
    "from sklearn.model_selection import train_test_split\n",
    "import tensorflow as tf\n",
    "from tensorflow.keras import Input\n",
    "from tensorflow.keras.layers import Dense, Concatenate, GlobalAveragePooling1D, LayerNormalization, MultiHeadAttention,Dropout, Add\n",
    "from tensorflow.keras.models import Model\n",
    "import talib"
   ],
   "id": "c980d7d41b42c555",
   "outputs": [],
   "execution_count": 2
  },
  {
   "metadata": {
    "ExecuteTime": {
     "end_time": "2025-07-06T18:19:15.911934Z",
     "start_time": "2025-07-06T18:19:15.870485Z"
    }
   },
   "cell_type": "code",
   "source": [
    "# === Load and preprocess ===\n",
    "df = pd.read_csv('datasets-11/XAGUSD-H1-rates.csv', sep='\\t')"
   ],
   "id": "57786783bc2c952d",
   "outputs": [],
   "execution_count": 3
  },
  {
   "metadata": {
    "ExecuteTime": {
     "end_time": "2025-07-06T18:19:18.688677Z",
     "start_time": "2025-07-06T18:19:18.664023Z"
    }
   },
   "cell_type": "code",
   "source": [
    "def add_ta_features(df):\n",
    "    df['rsi'] = talib.RSI(df['<CLOSE>'], timeperiod=14)\n",
    "    df['macd'], _, df['MACD_hist'] = talib.MACD(df['<CLOSE>'])\n",
    "    df['ema_50'] = talib.EMA(df['<CLOSE>'], timeperiod=50)\n",
    "    df['atr'] = talib.ATR(df['<HIGH>'], df['<LOW>'], df['<CLOSE>'], timeperiod=14)\n",
    "    df['adx'] = talib.ADX(df['<HIGH>'], df['<LOW>'], df['<CLOSE>'], timeperiod=14)\n",
    "    return df.dropna()\n",
    "\n",
    "\n",
    "df = add_ta_features(df)"
   ],
   "id": "5db6ae6495f0072c",
   "outputs": [],
   "execution_count": 4
  },
  {
   "metadata": {
    "ExecuteTime": {
     "end_time": "2025-07-06T18:19:34.455928Z",
     "start_time": "2025-07-06T18:19:33.093478Z"
    }
   },
   "cell_type": "code",
   "source": [
    "# === Feature selection and scaling ===\n",
    "sequence_features = ['<OPEN>', '<HIGH>', '<LOW>', '<CLOSE>', '<TICKVOL>']\n",
    "wide_features = ['<SPREAD>', '<VOL>', 'adx', 'atr', 'ema_50', 'macd', 'MACD_hist', 'rsi']\n",
    "\n",
    "scaler_seq = MinMaxScaler()\n",
    "scaler_wide = MinMaxScaler()\n",
    "scaler_close = MinMaxScaler()\n",
    "\n",
    "scaled_seq = scaler_seq.fit_transform(df[sequence_features])\n",
    "scaled_wide = scaler_wide.fit_transform(df[wide_features])\n",
    "scaled_close = scaler_close.fit_transform(df[['<CLOSE>']])  # Target values\n",
    "\n",
    "# === Create sequences for time series prediction ===\n",
    "def create_sequences(seq_data, wide_data, target_data, window, horizon):\n",
    "    X_seq, X_wide, y = [], [], []\n",
    "    for i in range(window, len(seq_data) - horizon):\n",
    "        X_seq.append(seq_data[i-window:i])\n",
    "        X_wide.append(wide_data[i-1])  # use last row of each window\n",
    "        y.append(target_data[i:i+horizon].flatten())\n",
    "    return np.array(X_seq), np.array(X_wide), np.array(y)\n",
    "\n",
    "WINDOW_SIZE = 60\n",
    "FORECAST_HORIZON = 10\n",
    "\n",
    "X_seq, X_wide, y = create_sequences(scaled_seq, scaled_wide, scaled_close, WINDOW_SIZE, FORECAST_HORIZON)\n",
    "\n",
    "# === Train/Test split ===\n",
    "X_seq_train, X_seq_test, X_wide_train, X_wide_test, y_train, y_test = train_test_split(\n",
    "    X_seq, X_wide, y, test_size=0.2, shuffle=False\n",
    ")\n",
    "\n",
    "# === Build Wide & Deep model with Multi-Head Attention ===\n",
    "def build_wide_deep_model_with_mha(seq_shape, wide_shape, horizon, num_heads=4, ff_dim=64, dropout_rate=0.1):\n",
    "    # === Sequence input (Deep part) ===\n",
    "    seq_input = Input(shape=seq_shape, name=\"sequence_input\")\n",
    "\n",
    "    # Multi-Head Self-Attention\n",
    "    attention_output = MultiHeadAttention(num_heads=num_heads, key_dim=seq_shape[-1], name=\"mha_layer\")(seq_input, seq_input)\n",
    "    attention_output = Dropout(dropout_rate, name=\"mha_dropout\")(attention_output)\n",
    "    attention_output = Add(name=\"mha_residual_add\")([seq_input, attention_output])\n",
    "    attention_output = LayerNormalization(name=\"mha_layer_norm\")(attention_output)\n",
    "\n",
    "    # Feed-Forward Network block\n",
    "    ffn_dense = Dense(ff_dim, activation='relu', name='ffn_dense_1')(attention_output)\n",
    "    ffn_dropout = Dropout(dropout_rate, name='ffn_dropout')(ffn_dense)\n",
    "\n",
    "    # Project residual path to match shape\n",
    "    ffn_projection = Dense(ff_dim, name='ffn_projection')(attention_output)\n",
    "\n",
    "    # Residual connection after FFN\n",
    "    ffn_output = Add(name='ffn_residual_add')([ffn_projection, ffn_dropout])\n",
    "    ffn_output = LayerNormalization(name='ffn_layer_norm')(ffn_output)\n",
    "\n",
    "    # Global Average Pooling\n",
    "    seq_output = GlobalAveragePooling1D(name=\"sequence_global_avg_pool\")(ffn_output)\n",
    "\n",
    "    # === Wide input ===\n",
    "    wide_input = Input(shape=wide_shape, name=\"wide_input\")\n",
    "\n",
    "    # === Combine Wide and Deep parts ===\n",
    "    combined = Concatenate(name=\"concat_wide_deep\")([seq_output, wide_input])\n",
    "    x = Dense(64, activation='relu', name='combined_dense_1')(combined)\n",
    "    x = Dense(32, activation='relu', name='combined_dense_2')(x)\n",
    "    output = Dense(horizon, name='forecast_output')(x)\n",
    "\n",
    "    # === Build and compile model ===\n",
    "    model = Model(inputs=[seq_input, wide_input], outputs=output, name=\"WideDeepMHA\")\n",
    "    model.compile(optimizer='adam', loss='mse', metrics=['mae'])\n",
    "    return model\n",
    "\n",
    "\n",
    "# === Initialize model ===\n",
    "model = build_wide_deep_model_with_mha(\n",
    "    seq_shape=(X_seq_train.shape[1], X_seq_train.shape[2]),\n",
    "    wide_shape=(X_wide_train.shape[1],),\n",
    "    horizon=FORECAST_HORIZON\n",
    ")\n",
    "\n"
   ],
   "id": "d8b0cc8f13e7204",
   "outputs": [
    {
     "name": "stderr",
     "output_type": "stream",
     "text": [
      "I0000 00:00:1751825973.572732    5957 gpu_device.cc:2022] Created device /job:localhost/replica:0/task:0/device:GPU:0 with 2369 MB memory:  -> device: 0, name: NVIDIA GeForce GTX 1650 SUPER, pci bus id: 0000:01:00.0, compute capability: 7.5\n"
     ]
    }
   ],
   "execution_count": 5
  },
  {
   "metadata": {
    "ExecuteTime": {
     "end_time": "2025-07-06T18:24:53.076569Z",
     "start_time": "2025-07-06T18:19:51.533667Z"
    }
   },
   "cell_type": "code",
   "source": [
    "# === Train model with early stopping ===\n",
    "es = tf.keras.callbacks.EarlyStopping(monitor='val_loss', patience=20, restore_best_weights=True)\n",
    "\n",
    "history = model.fit(\n",
    "    [X_seq_train, X_wide_train],\n",
    "    y_train,\n",
    "    validation_split=0.2,\n",
    "    epochs=200,\n",
    "    callbacks=[es],\n",
    "    verbose=1\n",
    ")"
   ],
   "id": "42abd6c2a65fca25",
   "outputs": [
    {
     "name": "stdout",
     "output_type": "stream",
     "text": [
      "Epoch 1/200\n"
     ]
    },
    {
     "name": "stderr",
     "output_type": "stream",
     "text": [
      "I0000 00:00:1751825993.992539    6012 service.cc:148] XLA service 0x7926bc0075a0 initialized for platform CUDA (this does not guarantee that XLA will be used). Devices:\n",
      "I0000 00:00:1751825993.992558    6012 service.cc:156]   StreamExecutor device (0): NVIDIA GeForce GTX 1650 SUPER, Compute Capability 7.5\n",
      "2025-07-06 21:49:54.076582: I tensorflow/compiler/mlir/tensorflow/utils/dump_mlir_util.cc:268] disabling MLIR crash reproducer, set env var `MLIR_CRASH_REPRODUCER_DIRECTORY` to enable.\n",
      "I0000 00:00:1751825994.386580    6012 cuda_dnn.cc:529] Loaded cuDNN version 91001\n"
     ]
    },
    {
     "name": "stdout",
     "output_type": "stream",
     "text": [
      "\u001B[1m  63/1100\u001B[0m \u001B[32m━\u001B[0m\u001B[37m━━━━━━━━━━━━━━━━━━━\u001B[0m \u001B[1m2s\u001B[0m 2ms/step - loss: 0.1817 - mae: 0.2845"
     ]
    },
    {
     "name": "stderr",
     "output_type": "stream",
     "text": [
      "2025-07-06 21:49:57.304527: I external/local_xla/xla/stream_executor/cuda/cuda_asm_compiler.cc:397] ptxas warning : Registers are spilled to local memory in function 'input_multiply_reduce_fusion', 48 bytes spill stores, 48 bytes spill loads\n",
      "\n",
      "I0000 00:00:1751825997.326339    6012 device_compiler.h:188] Compiled cluster using XLA!  This line is logged at most once for the lifetime of the process.\n"
     ]
    },
    {
     "name": "stdout",
     "output_type": "stream",
     "text": [
      "\u001B[1m1100/1100\u001B[0m \u001B[32m━━━━━━━━━━━━━━━━━━━━\u001B[0m\u001B[37m\u001B[0m \u001B[1m13s\u001B[0m 7ms/step - loss: 0.0249 - mae: 0.0691 - val_loss: 9.6479e-04 - val_mae: 0.0241\n",
      "Epoch 2/200\n",
      "\u001B[1m1100/1100\u001B[0m \u001B[32m━━━━━━━━━━━━━━━━━━━━\u001B[0m\u001B[37m\u001B[0m \u001B[1m4s\u001B[0m 3ms/step - loss: 3.6502e-04 - mae: 0.0137 - val_loss: 5.3626e-04 - val_mae: 0.0178\n",
      "Epoch 3/200\n",
      "\u001B[1m1100/1100\u001B[0m \u001B[32m━━━━━━━━━━━━━━━━━━━━\u001B[0m\u001B[37m\u001B[0m \u001B[1m3s\u001B[0m 3ms/step - loss: 2.6657e-04 - mae: 0.0117 - val_loss: 0.0019 - val_mae: 0.0404\n",
      "Epoch 4/200\n",
      "\u001B[1m1100/1100\u001B[0m \u001B[32m━━━━━━━━━━━━━━━━━━━━\u001B[0m\u001B[37m\u001B[0m \u001B[1m3s\u001B[0m 3ms/step - loss: 2.0376e-04 - mae: 0.0101 - val_loss: 0.0041 - val_mae: 0.0612\n",
      "Epoch 5/200\n",
      "\u001B[1m1100/1100\u001B[0m \u001B[32m━━━━━━━━━━━━━━━━━━━━\u001B[0m\u001B[37m\u001B[0m \u001B[1m3s\u001B[0m 3ms/step - loss: 1.7723e-04 - mae: 0.0096 - val_loss: 0.0014 - val_mae: 0.0343\n",
      "Epoch 6/200\n",
      "\u001B[1m1100/1100\u001B[0m \u001B[32m━━━━━━━━━━━━━━━━━━━━\u001B[0m\u001B[37m\u001B[0m \u001B[1m3s\u001B[0m 3ms/step - loss: 1.5908e-04 - mae: 0.0089 - val_loss: 3.0905e-04 - val_mae: 0.0134\n",
      "Epoch 7/200\n",
      "\u001B[1m1100/1100\u001B[0m \u001B[32m━━━━━━━━━━━━━━━━━━━━\u001B[0m\u001B[37m\u001B[0m \u001B[1m3s\u001B[0m 3ms/step - loss: 1.7714e-04 - mae: 0.0095 - val_loss: 8.6854e-04 - val_mae: 0.0262\n",
      "Epoch 8/200\n",
      "\u001B[1m1100/1100\u001B[0m \u001B[32m━━━━━━━━━━━━━━━━━━━━\u001B[0m\u001B[37m\u001B[0m \u001B[1m3s\u001B[0m 3ms/step - loss: 1.4679e-04 - mae: 0.0085 - val_loss: 0.0019 - val_mae: 0.0413\n",
      "Epoch 9/200\n",
      "\u001B[1m1100/1100\u001B[0m \u001B[32m━━━━━━━━━━━━━━━━━━━━\u001B[0m\u001B[37m\u001B[0m \u001B[1m4s\u001B[0m 3ms/step - loss: 1.2898e-04 - mae: 0.0080 - val_loss: 0.0015 - val_mae: 0.0362\n",
      "Epoch 10/200\n",
      "\u001B[1m1100/1100\u001B[0m \u001B[32m━━━━━━━━━━━━━━━━━━━━\u001B[0m\u001B[37m\u001B[0m \u001B[1m4s\u001B[0m 3ms/step - loss: 1.1864e-04 - mae: 0.0075 - val_loss: 0.0011 - val_mae: 0.0298\n",
      "Epoch 11/200\n",
      "\u001B[1m1100/1100\u001B[0m \u001B[32m━━━━━━━━━━━━━━━━━━━━\u001B[0m\u001B[37m\u001B[0m \u001B[1m3s\u001B[0m 3ms/step - loss: 1.1957e-04 - mae: 0.0076 - val_loss: 8.6361e-04 - val_mae: 0.0255\n",
      "Epoch 12/200\n",
      "\u001B[1m1100/1100\u001B[0m \u001B[32m━━━━━━━━━━━━━━━━━━━━\u001B[0m\u001B[37m\u001B[0m \u001B[1m3s\u001B[0m 3ms/step - loss: 1.1958e-04 - mae: 0.0075 - val_loss: 6.2332e-04 - val_mae: 0.0218\n",
      "Epoch 13/200\n",
      "\u001B[1m1100/1100\u001B[0m \u001B[32m━━━━━━━━━━━━━━━━━━━━\u001B[0m\u001B[37m\u001B[0m \u001B[1m4s\u001B[0m 4ms/step - loss: 1.1320e-04 - mae: 0.0073 - val_loss: 8.6174e-04 - val_mae: 0.0262\n",
      "Epoch 14/200\n",
      "\u001B[1m1100/1100\u001B[0m \u001B[32m━━━━━━━━━━━━━━━━━━━━\u001B[0m\u001B[37m\u001B[0m \u001B[1m4s\u001B[0m 3ms/step - loss: 1.1336e-04 - mae: 0.0071 - val_loss: 5.0949e-04 - val_mae: 0.0195\n",
      "Epoch 15/200\n",
      "\u001B[1m1100/1100\u001B[0m \u001B[32m━━━━━━━━━━━━━━━━━━━━\u001B[0m\u001B[37m\u001B[0m \u001B[1m3s\u001B[0m 3ms/step - loss: 1.1564e-04 - mae: 0.0073 - val_loss: 9.1229e-04 - val_mae: 0.0272\n",
      "Epoch 16/200\n",
      "\u001B[1m1100/1100\u001B[0m \u001B[32m━━━━━━━━━━━━━━━━━━━━\u001B[0m\u001B[37m\u001B[0m \u001B[1m3s\u001B[0m 3ms/step - loss: 1.1856e-04 - mae: 0.0074 - val_loss: 7.0992e-04 - val_mae: 0.0232\n",
      "Epoch 17/200\n",
      "\u001B[1m1100/1100\u001B[0m \u001B[32m━━━━━━━━━━━━━━━━━━━━\u001B[0m\u001B[37m\u001B[0m \u001B[1m3s\u001B[0m 3ms/step - loss: 1.0653e-04 - mae: 0.0069 - val_loss: 6.8228e-04 - val_mae: 0.0230\n",
      "Epoch 18/200\n",
      "\u001B[1m1100/1100\u001B[0m \u001B[32m━━━━━━━━━━━━━━━━━━━━\u001B[0m\u001B[37m\u001B[0m \u001B[1m3s\u001B[0m 3ms/step - loss: 1.0377e-04 - mae: 0.0068 - val_loss: 4.2683e-04 - val_mae: 0.0176\n",
      "Epoch 19/200\n",
      "\u001B[1m1100/1100\u001B[0m \u001B[32m━━━━━━━━━━━━━━━━━━━━\u001B[0m\u001B[37m\u001B[0m \u001B[1m4s\u001B[0m 3ms/step - loss: 1.0720e-04 - mae: 0.0069 - val_loss: 3.0318e-04 - val_mae: 0.0142\n",
      "Epoch 20/200\n",
      "\u001B[1m1100/1100\u001B[0m \u001B[32m━━━━━━━━━━━━━━━━━━━━\u001B[0m\u001B[37m\u001B[0m \u001B[1m4s\u001B[0m 4ms/step - loss: 9.8448e-05 - mae: 0.0065 - val_loss: 2.3523e-04 - val_mae: 0.0114\n",
      "Epoch 21/200\n",
      "\u001B[1m1100/1100\u001B[0m \u001B[32m━━━━━━━━━━━━━━━━━━━━\u001B[0m\u001B[37m\u001B[0m \u001B[1m4s\u001B[0m 4ms/step - loss: 9.5907e-05 - mae: 0.0065 - val_loss: 2.6645e-04 - val_mae: 0.0130\n",
      "Epoch 22/200\n",
      "\u001B[1m1100/1100\u001B[0m \u001B[32m━━━━━━━━━━━━━━━━━━━━\u001B[0m\u001B[37m\u001B[0m \u001B[1m4s\u001B[0m 3ms/step - loss: 9.3234e-05 - mae: 0.0064 - val_loss: 2.3425e-04 - val_mae: 0.0118\n",
      "Epoch 23/200\n",
      "\u001B[1m1100/1100\u001B[0m \u001B[32m━━━━━━━━━━━━━━━━━━━━\u001B[0m\u001B[37m\u001B[0m \u001B[1m4s\u001B[0m 3ms/step - loss: 9.6774e-05 - mae: 0.0064 - val_loss: 3.2233e-04 - val_mae: 0.0147\n",
      "Epoch 24/200\n",
      "\u001B[1m1100/1100\u001B[0m \u001B[32m━━━━━━━━━━━━━━━━━━━━\u001B[0m\u001B[37m\u001B[0m \u001B[1m4s\u001B[0m 3ms/step - loss: 8.9639e-05 - mae: 0.0062 - val_loss: 0.0011 - val_mae: 0.0309\n",
      "Epoch 25/200\n",
      "\u001B[1m1100/1100\u001B[0m \u001B[32m━━━━━━━━━━━━━━━━━━━━\u001B[0m\u001B[37m\u001B[0m \u001B[1m4s\u001B[0m 4ms/step - loss: 8.7470e-05 - mae: 0.0062 - val_loss: 3.2316e-04 - val_mae: 0.0145\n",
      "Epoch 26/200\n",
      "\u001B[1m1100/1100\u001B[0m \u001B[32m━━━━━━━━━━━━━━━━━━━━\u001B[0m\u001B[37m\u001B[0m \u001B[1m4s\u001B[0m 3ms/step - loss: 8.5563e-05 - mae: 0.0062 - val_loss: 2.9951e-04 - val_mae: 0.0139\n",
      "Epoch 27/200\n",
      "\u001B[1m1100/1100\u001B[0m \u001B[32m━━━━━━━━━━━━━━━━━━━━\u001B[0m\u001B[37m\u001B[0m \u001B[1m4s\u001B[0m 3ms/step - loss: 8.7145e-05 - mae: 0.0061 - val_loss: 1.9885e-04 - val_mae: 0.0104\n",
      "Epoch 28/200\n",
      "\u001B[1m1100/1100\u001B[0m \u001B[32m━━━━━━━━━━━━━━━━━━━━\u001B[0m\u001B[37m\u001B[0m \u001B[1m3s\u001B[0m 3ms/step - loss: 8.8677e-05 - mae: 0.0062 - val_loss: 1.8629e-04 - val_mae: 0.0102\n",
      "Epoch 29/200\n",
      "\u001B[1m1100/1100\u001B[0m \u001B[32m━━━━━━━━━━━━━━━━━━━━\u001B[0m\u001B[37m\u001B[0m \u001B[1m4s\u001B[0m 3ms/step - loss: 8.2957e-05 - mae: 0.0059 - val_loss: 2.3149e-04 - val_mae: 0.0118\n",
      "Epoch 30/200\n",
      "\u001B[1m1100/1100\u001B[0m \u001B[32m━━━━━━━━━━━━━━━━━━━━\u001B[0m\u001B[37m\u001B[0m \u001B[1m3s\u001B[0m 3ms/step - loss: 8.7680e-05 - mae: 0.0061 - val_loss: 1.7619e-04 - val_mae: 0.0099\n",
      "Epoch 31/200\n",
      "\u001B[1m1100/1100\u001B[0m \u001B[32m━━━━━━━━━━━━━━━━━━━━\u001B[0m\u001B[37m\u001B[0m \u001B[1m4s\u001B[0m 3ms/step - loss: 8.8975e-05 - mae: 0.0060 - val_loss: 1.8806e-04 - val_mae: 0.0104\n",
      "Epoch 32/200\n",
      "\u001B[1m1100/1100\u001B[0m \u001B[32m━━━━━━━━━━━━━━━━━━━━\u001B[0m\u001B[37m\u001B[0m \u001B[1m4s\u001B[0m 3ms/step - loss: 8.5336e-05 - mae: 0.0060 - val_loss: 2.3725e-04 - val_mae: 0.0116\n",
      "Epoch 33/200\n",
      "\u001B[1m1100/1100\u001B[0m \u001B[32m━━━━━━━━━━━━━━━━━━━━\u001B[0m\u001B[37m\u001B[0m \u001B[1m4s\u001B[0m 4ms/step - loss: 8.2774e-05 - mae: 0.0059 - val_loss: 3.1229e-04 - val_mae: 0.0133\n",
      "Epoch 34/200\n",
      "\u001B[1m1100/1100\u001B[0m \u001B[32m━━━━━━━━━━━━━━━━━━━━\u001B[0m\u001B[37m\u001B[0m \u001B[1m3s\u001B[0m 3ms/step - loss: 8.0923e-05 - mae: 0.0059 - val_loss: 2.2725e-04 - val_mae: 0.0112\n",
      "Epoch 35/200\n",
      "\u001B[1m1100/1100\u001B[0m \u001B[32m━━━━━━━━━━━━━━━━━━━━\u001B[0m\u001B[37m\u001B[0m \u001B[1m4s\u001B[0m 3ms/step - loss: 8.4224e-05 - mae: 0.0059 - val_loss: 3.1598e-04 - val_mae: 0.0137\n",
      "Epoch 36/200\n",
      "\u001B[1m1100/1100\u001B[0m \u001B[32m━━━━━━━━━━━━━━━━━━━━\u001B[0m\u001B[37m\u001B[0m \u001B[1m3s\u001B[0m 3ms/step - loss: 8.1784e-05 - mae: 0.0058 - val_loss: 2.0785e-04 - val_mae: 0.0105\n",
      "Epoch 37/200\n",
      "\u001B[1m1100/1100\u001B[0m \u001B[32m━━━━━━━━━━━━━━━━━━━━\u001B[0m\u001B[37m\u001B[0m \u001B[1m3s\u001B[0m 3ms/step - loss: 8.1037e-05 - mae: 0.0057 - val_loss: 1.9130e-04 - val_mae: 0.0104\n",
      "Epoch 38/200\n",
      "\u001B[1m1100/1100\u001B[0m \u001B[32m━━━━━━━━━━━━━━━━━━━━\u001B[0m\u001B[37m\u001B[0m \u001B[1m4s\u001B[0m 3ms/step - loss: 7.9412e-05 - mae: 0.0057 - val_loss: 1.7744e-04 - val_mae: 0.0099\n",
      "Epoch 39/200\n",
      "\u001B[1m1100/1100\u001B[0m \u001B[32m━━━━━━━━━━━━━━━━━━━━\u001B[0m\u001B[37m\u001B[0m \u001B[1m3s\u001B[0m 3ms/step - loss: 7.6110e-05 - mae: 0.0056 - val_loss: 3.2309e-04 - val_mae: 0.0142\n",
      "Epoch 40/200\n",
      "\u001B[1m1100/1100\u001B[0m \u001B[32m━━━━━━━━━━━━━━━━━━━━\u001B[0m\u001B[37m\u001B[0m \u001B[1m3s\u001B[0m 3ms/step - loss: 8.4342e-05 - mae: 0.0059 - val_loss: 2.2563e-04 - val_mae: 0.0112\n",
      "Epoch 41/200\n",
      "\u001B[1m1100/1100\u001B[0m \u001B[32m━━━━━━━━━━━━━━━━━━━━\u001B[0m\u001B[37m\u001B[0m \u001B[1m3s\u001B[0m 3ms/step - loss: 7.9413e-05 - mae: 0.0057 - val_loss: 2.1831e-04 - val_mae: 0.0111\n",
      "Epoch 42/200\n",
      "\u001B[1m1100/1100\u001B[0m \u001B[32m━━━━━━━━━━━━━━━━━━━━\u001B[0m\u001B[37m\u001B[0m \u001B[1m4s\u001B[0m 3ms/step - loss: 8.0172e-05 - mae: 0.0057 - val_loss: 2.5301e-04 - val_mae: 0.0125\n",
      "Epoch 43/200\n",
      "\u001B[1m1100/1100\u001B[0m \u001B[32m━━━━━━━━━━━━━━━━━━━━\u001B[0m\u001B[37m\u001B[0m \u001B[1m3s\u001B[0m 3ms/step - loss: 7.8904e-05 - mae: 0.0056 - val_loss: 2.8542e-04 - val_mae: 0.0132\n",
      "Epoch 44/200\n",
      "\u001B[1m1100/1100\u001B[0m \u001B[32m━━━━━━━━━━━━━━━━━━━━\u001B[0m\u001B[37m\u001B[0m \u001B[1m3s\u001B[0m 3ms/step - loss: 8.1703e-05 - mae: 0.0058 - val_loss: 1.7962e-04 - val_mae: 0.0099\n",
      "Epoch 45/200\n",
      "\u001B[1m1100/1100\u001B[0m \u001B[32m━━━━━━━━━━━━━━━━━━━━\u001B[0m\u001B[37m\u001B[0m \u001B[1m3s\u001B[0m 3ms/step - loss: 7.6152e-05 - mae: 0.0055 - val_loss: 1.7944e-04 - val_mae: 0.0099\n",
      "Epoch 46/200\n",
      "\u001B[1m1100/1100\u001B[0m \u001B[32m━━━━━━━━━━━━━━━━━━━━\u001B[0m\u001B[37m\u001B[0m \u001B[1m3s\u001B[0m 3ms/step - loss: 8.0271e-05 - mae: 0.0057 - val_loss: 1.9806e-04 - val_mae: 0.0106\n",
      "Epoch 47/200\n",
      "\u001B[1m1100/1100\u001B[0m \u001B[32m━━━━━━━━━━━━━━━━━━━━\u001B[0m\u001B[37m\u001B[0m \u001B[1m3s\u001B[0m 3ms/step - loss: 7.5756e-05 - mae: 0.0056 - val_loss: 1.8786e-04 - val_mae: 0.0102\n",
      "Epoch 48/200\n",
      "\u001B[1m1100/1100\u001B[0m \u001B[32m━━━━━━━━━━━━━━━━━━━━\u001B[0m\u001B[37m\u001B[0m \u001B[1m3s\u001B[0m 3ms/step - loss: 7.6902e-05 - mae: 0.0056 - val_loss: 1.9121e-04 - val_mae: 0.0102\n",
      "Epoch 49/200\n",
      "\u001B[1m1100/1100\u001B[0m \u001B[32m━━━━━━━━━━━━━━━━━━━━\u001B[0m\u001B[37m\u001B[0m \u001B[1m4s\u001B[0m 3ms/step - loss: 7.7100e-05 - mae: 0.0056 - val_loss: 1.7427e-04 - val_mae: 0.0098\n",
      "Epoch 50/200\n",
      "\u001B[1m1100/1100\u001B[0m \u001B[32m━━━━━━━━━━━━━━━━━━━━\u001B[0m\u001B[37m\u001B[0m \u001B[1m3s\u001B[0m 3ms/step - loss: 7.5807e-05 - mae: 0.0055 - val_loss: 2.4348e-04 - val_mae: 0.0123\n",
      "Epoch 51/200\n",
      "\u001B[1m1100/1100\u001B[0m \u001B[32m━━━━━━━━━━━━━━━━━━━━\u001B[0m\u001B[37m\u001B[0m \u001B[1m3s\u001B[0m 3ms/step - loss: 7.7795e-05 - mae: 0.0056 - val_loss: 2.0065e-04 - val_mae: 0.0108\n",
      "Epoch 52/200\n",
      "\u001B[1m1100/1100\u001B[0m \u001B[32m━━━━━━━━━━━━━━━━━━━━\u001B[0m\u001B[37m\u001B[0m \u001B[1m4s\u001B[0m 3ms/step - loss: 7.8701e-05 - mae: 0.0057 - val_loss: 1.6965e-04 - val_mae: 0.0096\n",
      "Epoch 53/200\n",
      "\u001B[1m1100/1100\u001B[0m \u001B[32m━━━━━━━━━━━━━━━━━━━━\u001B[0m\u001B[37m\u001B[0m \u001B[1m3s\u001B[0m 3ms/step - loss: 7.4093e-05 - mae: 0.0055 - val_loss: 1.8852e-04 - val_mae: 0.0101\n",
      "Epoch 54/200\n",
      "\u001B[1m1100/1100\u001B[0m \u001B[32m━━━━━━━━━━━━━━━━━━━━\u001B[0m\u001B[37m\u001B[0m \u001B[1m3s\u001B[0m 3ms/step - loss: 7.9344e-05 - mae: 0.0056 - val_loss: 1.8389e-04 - val_mae: 0.0099\n",
      "Epoch 55/200\n",
      "\u001B[1m1100/1100\u001B[0m \u001B[32m━━━━━━━━━━━━━━━━━━━━\u001B[0m\u001B[37m\u001B[0m \u001B[1m3s\u001B[0m 3ms/step - loss: 7.2607e-05 - mae: 0.0054 - val_loss: 2.0630e-04 - val_mae: 0.0110\n",
      "Epoch 56/200\n",
      "\u001B[1m1100/1100\u001B[0m \u001B[32m━━━━━━━━━━━━━━━━━━━━\u001B[0m\u001B[37m\u001B[0m \u001B[1m3s\u001B[0m 3ms/step - loss: 7.7359e-05 - mae: 0.0055 - val_loss: 1.7193e-04 - val_mae: 0.0097\n",
      "Epoch 57/200\n",
      "\u001B[1m1100/1100\u001B[0m \u001B[32m━━━━━━━━━━━━━━━━━━━━\u001B[0m\u001B[37m\u001B[0m \u001B[1m4s\u001B[0m 3ms/step - loss: 7.4456e-05 - mae: 0.0054 - val_loss: 1.8187e-04 - val_mae: 0.0102\n",
      "Epoch 58/200\n",
      "\u001B[1m1100/1100\u001B[0m \u001B[32m━━━━━━━━━━━━━━━━━━━━\u001B[0m\u001B[37m\u001B[0m \u001B[1m3s\u001B[0m 3ms/step - loss: 7.4496e-05 - mae: 0.0054 - val_loss: 1.6828e-04 - val_mae: 0.0095\n",
      "Epoch 59/200\n",
      "\u001B[1m1100/1100\u001B[0m \u001B[32m━━━━━━━━━━━━━━━━━━━━\u001B[0m\u001B[37m\u001B[0m \u001B[1m4s\u001B[0m 3ms/step - loss: 7.7011e-05 - mae: 0.0055 - val_loss: 1.9806e-04 - val_mae: 0.0106\n",
      "Epoch 60/200\n",
      "\u001B[1m1100/1100\u001B[0m \u001B[32m━━━━━━━━━━━━━━━━━━━━\u001B[0m\u001B[37m\u001B[0m \u001B[1m3s\u001B[0m 3ms/step - loss: 7.3029e-05 - mae: 0.0054 - val_loss: 1.6402e-04 - val_mae: 0.0092\n",
      "Epoch 61/200\n",
      "\u001B[1m1100/1100\u001B[0m \u001B[32m━━━━━━━━━━━━━━━━━━━━\u001B[0m\u001B[37m\u001B[0m \u001B[1m3s\u001B[0m 3ms/step - loss: 7.2836e-05 - mae: 0.0055 - val_loss: 1.6576e-04 - val_mae: 0.0094\n",
      "Epoch 62/200\n",
      "\u001B[1m1100/1100\u001B[0m \u001B[32m━━━━━━━━━━━━━━━━━━━━\u001B[0m\u001B[37m\u001B[0m \u001B[1m3s\u001B[0m 3ms/step - loss: 7.6032e-05 - mae: 0.0056 - val_loss: 1.6633e-04 - val_mae: 0.0094\n",
      "Epoch 63/200\n",
      "\u001B[1m1100/1100\u001B[0m \u001B[32m━━━━━━━━━━━━━━━━━━━━\u001B[0m\u001B[37m\u001B[0m \u001B[1m3s\u001B[0m 3ms/step - loss: 7.4821e-05 - mae: 0.0054 - val_loss: 2.0850e-04 - val_mae: 0.0106\n",
      "Epoch 64/200\n",
      "\u001B[1m1100/1100\u001B[0m \u001B[32m━━━━━━━━━━━━━━━━━━━━\u001B[0m\u001B[37m\u001B[0m \u001B[1m3s\u001B[0m 3ms/step - loss: 7.1573e-05 - mae: 0.0054 - val_loss: 2.2174e-04 - val_mae: 0.0117\n",
      "Epoch 65/200\n",
      "\u001B[1m1100/1100\u001B[0m \u001B[32m━━━━━━━━━━━━━━━━━━━━\u001B[0m\u001B[37m\u001B[0m \u001B[1m3s\u001B[0m 3ms/step - loss: 7.6220e-05 - mae: 0.0055 - val_loss: 1.5282e-04 - val_mae: 0.0089\n",
      "Epoch 66/200\n",
      "\u001B[1m1100/1100\u001B[0m \u001B[32m━━━━━━━━━━━━━━━━━━━━\u001B[0m\u001B[37m\u001B[0m \u001B[1m3s\u001B[0m 3ms/step - loss: 7.1858e-05 - mae: 0.0054 - val_loss: 1.7400e-04 - val_mae: 0.0097\n",
      "Epoch 67/200\n",
      "\u001B[1m1100/1100\u001B[0m \u001B[32m━━━━━━━━━━━━━━━━━━━━\u001B[0m\u001B[37m\u001B[0m \u001B[1m3s\u001B[0m 3ms/step - loss: 7.3462e-05 - mae: 0.0054 - val_loss: 1.8282e-04 - val_mae: 0.0099\n",
      "Epoch 68/200\n",
      "\u001B[1m1100/1100\u001B[0m \u001B[32m━━━━━━━━━━━━━━━━━━━━\u001B[0m\u001B[37m\u001B[0m \u001B[1m3s\u001B[0m 3ms/step - loss: 7.2799e-05 - mae: 0.0054 - val_loss: 1.5972e-04 - val_mae: 0.0092\n",
      "Epoch 69/200\n",
      "\u001B[1m1100/1100\u001B[0m \u001B[32m━━━━━━━━━━━━━━━━━━━━\u001B[0m\u001B[37m\u001B[0m \u001B[1m3s\u001B[0m 3ms/step - loss: 7.4114e-05 - mae: 0.0054 - val_loss: 1.6416e-04 - val_mae: 0.0092\n",
      "Epoch 70/200\n",
      "\u001B[1m1100/1100\u001B[0m \u001B[32m━━━━━━━━━━━━━━━━━━━━\u001B[0m\u001B[37m\u001B[0m \u001B[1m3s\u001B[0m 3ms/step - loss: 7.1678e-05 - mae: 0.0055 - val_loss: 1.8091e-04 - val_mae: 0.0098\n",
      "Epoch 71/200\n",
      "\u001B[1m1100/1100\u001B[0m \u001B[32m━━━━━━━━━━━━━━━━━━━━\u001B[0m\u001B[37m\u001B[0m \u001B[1m3s\u001B[0m 3ms/step - loss: 7.1365e-05 - mae: 0.0053 - val_loss: 1.8706e-04 - val_mae: 0.0102\n",
      "Epoch 72/200\n",
      "\u001B[1m1100/1100\u001B[0m \u001B[32m━━━━━━━━━━━━━━━━━━━━\u001B[0m\u001B[37m\u001B[0m \u001B[1m3s\u001B[0m 3ms/step - loss: 7.3186e-05 - mae: 0.0054 - val_loss: 1.8945e-04 - val_mae: 0.0103\n",
      "Epoch 73/200\n",
      "\u001B[1m1100/1100\u001B[0m \u001B[32m━━━━━━━━━━━━━━━━━━━━\u001B[0m\u001B[37m\u001B[0m \u001B[1m3s\u001B[0m 3ms/step - loss: 7.2545e-05 - mae: 0.0055 - val_loss: 1.6182e-04 - val_mae: 0.0093\n",
      "Epoch 74/200\n",
      "\u001B[1m1100/1100\u001B[0m \u001B[32m━━━━━━━━━━━━━━━━━━━━\u001B[0m\u001B[37m\u001B[0m \u001B[1m3s\u001B[0m 3ms/step - loss: 7.3024e-05 - mae: 0.0054 - val_loss: 1.7284e-04 - val_mae: 0.0096\n",
      "Epoch 75/200\n",
      "\u001B[1m1100/1100\u001B[0m \u001B[32m━━━━━━━━━━━━━━━━━━━━\u001B[0m\u001B[37m\u001B[0m \u001B[1m3s\u001B[0m 3ms/step - loss: 7.4282e-05 - mae: 0.0054 - val_loss: 1.7324e-04 - val_mae: 0.0097\n",
      "Epoch 76/200\n",
      "\u001B[1m1100/1100\u001B[0m \u001B[32m━━━━━━━━━━━━━━━━━━━━\u001B[0m\u001B[37m\u001B[0m \u001B[1m3s\u001B[0m 3ms/step - loss: 7.2115e-05 - mae: 0.0055 - val_loss: 1.8107e-04 - val_mae: 0.0100\n",
      "Epoch 77/200\n",
      "\u001B[1m1100/1100\u001B[0m \u001B[32m━━━━━━━━━━━━━━━━━━━━\u001B[0m\u001B[37m\u001B[0m \u001B[1m3s\u001B[0m 3ms/step - loss: 7.1317e-05 - mae: 0.0053 - val_loss: 2.2417e-04 - val_mae: 0.0113\n",
      "Epoch 78/200\n",
      "\u001B[1m1100/1100\u001B[0m \u001B[32m━━━━━━━━━━━━━━━━━━━━\u001B[0m\u001B[37m\u001B[0m \u001B[1m3s\u001B[0m 3ms/step - loss: 6.9021e-05 - mae: 0.0053 - val_loss: 1.6954e-04 - val_mae: 0.0093\n",
      "Epoch 79/200\n",
      "\u001B[1m1100/1100\u001B[0m \u001B[32m━━━━━━━━━━━━━━━━━━━━\u001B[0m\u001B[37m\u001B[0m \u001B[1m3s\u001B[0m 3ms/step - loss: 7.0326e-05 - mae: 0.0053 - val_loss: 1.7447e-04 - val_mae: 0.0095\n",
      "Epoch 80/200\n",
      "\u001B[1m1100/1100\u001B[0m \u001B[32m━━━━━━━━━━━━━━━━━━━━\u001B[0m\u001B[37m\u001B[0m \u001B[1m3s\u001B[0m 3ms/step - loss: 7.3792e-05 - mae: 0.0054 - val_loss: 2.0692e-04 - val_mae: 0.0110\n",
      "Epoch 81/200\n",
      "\u001B[1m1100/1100\u001B[0m \u001B[32m━━━━━━━━━━━━━━━━━━━━\u001B[0m\u001B[37m\u001B[0m \u001B[1m3s\u001B[0m 3ms/step - loss: 7.0169e-05 - mae: 0.0054 - val_loss: 2.0616e-04 - val_mae: 0.0107\n",
      "Epoch 82/200\n",
      "\u001B[1m1100/1100\u001B[0m \u001B[32m━━━━━━━━━━━━━━━━━━━━\u001B[0m\u001B[37m\u001B[0m \u001B[1m3s\u001B[0m 3ms/step - loss: 7.0159e-05 - mae: 0.0053 - val_loss: 1.7189e-04 - val_mae: 0.0094\n",
      "Epoch 83/200\n",
      "\u001B[1m1100/1100\u001B[0m \u001B[32m━━━━━━━━━━━━━━━━━━━━\u001B[0m\u001B[37m\u001B[0m \u001B[1m3s\u001B[0m 3ms/step - loss: 7.2123e-05 - mae: 0.0054 - val_loss: 1.8077e-04 - val_mae: 0.0098\n",
      "Epoch 84/200\n",
      "\u001B[1m1100/1100\u001B[0m \u001B[32m━━━━━━━━━━━━━━━━━━━━\u001B[0m\u001B[37m\u001B[0m \u001B[1m3s\u001B[0m 3ms/step - loss: 7.2548e-05 - mae: 0.0054 - val_loss: 1.6494e-04 - val_mae: 0.0094\n",
      "Epoch 85/200\n",
      "\u001B[1m1100/1100\u001B[0m \u001B[32m━━━━━━━━━━━━━━━━━━━━\u001B[0m\u001B[37m\u001B[0m \u001B[1m3s\u001B[0m 3ms/step - loss: 6.9417e-05 - mae: 0.0053 - val_loss: 2.2206e-04 - val_mae: 0.0109\n"
     ]
    }
   ],
   "execution_count": 6
  },
  {
   "metadata": {
    "ExecuteTime": {
     "end_time": "2025-07-06T18:25:30.332708Z",
     "start_time": "2025-07-06T18:25:29.616595Z"
    }
   },
   "cell_type": "code",
   "source": [
    "# === Load the last 110 rows from a separate CSV file for prediction ===\n",
    "# These rows represent recent unseen data (e.g., from a live market feed or a new test set).\n",
    "input_df = pd.read_csv('datasets-11/new-data-for-test/rows-60-from-20240503/rows-110-from-20240503.csv', sep='\\t')\n",
    "\n",
    "# Add technical indicators using the same preprocessing function used during training\n",
    "input_df = add_ta_features(input_df)\n",
    "\n",
    "# Take only the last 60 usable rows after TA features\n",
    "input_df = input_df.tail(60)\n",
    "\n",
    "# Apply the same scalers used during training to ensure consistency\n",
    "input_seq_scaled = scaler_seq.transform(input_df[sequence_features])\n",
    "input_wide_scaled = scaler_wide.transform(input_df[wide_features])\n",
    "\n",
    "# Reshape the sequence input to shape (1, 60, num_features) for prediction\n",
    "input_seq = np.expand_dims(input_seq_scaled, axis=0)\n",
    "# Use only the last row of wide features to match model input requirements\n",
    "input_wide = np.expand_dims(input_wide_scaled[-1], axis=0)\n",
    "\n",
    "\n",
    "pred = model.predict([input_seq, input_wide])\n",
    "prediction = scaler_close.inverse_transform(pred)\n",
    "print(\"Next 10 predicted closing prices:\", prediction.flatten())"
   ],
   "id": "2254a37d9c9f3fc2",
   "outputs": [
    {
     "name": "stdout",
     "output_type": "stream",
     "text": [
      "\u001B[1m1/1\u001B[0m \u001B[32m━━━━━━━━━━━━━━━━━━━━\u001B[0m\u001B[37m\u001B[0m \u001B[1m1s\u001B[0m 658ms/step\n",
      "Next 10 predicted closing prices: [28.143824 28.152124 28.1367   28.108154 28.085987 28.080212 28.099813\n",
      " 28.0784   28.115278 28.105984]\n"
     ]
    }
   ],
   "execution_count": 7
  },
  {
   "metadata": {},
   "cell_type": "markdown",
   "source": "# plot section",
   "id": "6456b78cc1b88128"
  },
  {
   "metadata": {
    "ExecuteTime": {
     "end_time": "2025-07-06T18:25:37.586981Z",
     "start_time": "2025-07-06T18:25:37.571484Z"
    }
   },
   "cell_type": "code",
   "source": [
    "import sys\n",
    "\n",
    "sys.path.insert(1, '../utils')\n",
    "import forex_plot_utils\n",
    "import os\n",
    "\n",
    "# PARAMETERS\n",
    "csv1_path = 'datasets-11/new-data-for-test/rows-60-from-20240503/latest-4-for-history.csv'\n",
    "csv3_path = 'datasets-11/new-data-for-test/rows-60-from-20240503/after.csv'\n",
    "plot_title = 'Actual vs Predicted Forex Closing Prices'\n",
    "output_plot_path = None  # e.g., 'output.png'\n",
    "\n",
    "# LOAD DATA FROM CSVS\n",
    "historical_df = forex_plot_utils.load_csv_with_datetime(csv1_path) if os.path.exists(csv1_path) else None\n",
    "actual_future_df = forex_plot_utils.load_csv_with_datetime(csv3_path) if os.path.exists(csv3_path) else None\n",
    "\n",
    "# LOAD DATA FROM PREDICTION\n",
    "\n",
    "# Combine <DATE> and <TIME> columns into a datetime\n",
    "input_df['DATETIME'] = pd.to_datetime(input_df['<DATE>'] + ' ' + input_df['<TIME>'])\n",
    "\n",
    "last_timestamp = input_df['DATETIME'].iloc[-1]\n",
    "datetime_index = pd.date_range(start=last_timestamp + pd.Timedelta(hours=1), periods=len(prediction[0]), freq='h')\n",
    "\n",
    "# Create DataFrame\n",
    "predicted_df = pd.DataFrame({'DATETIME': datetime_index, '<CLOSE>': prediction[0]})"
   ],
   "id": "d4d7751243eff18e",
   "outputs": [],
   "execution_count": 8
  },
  {
   "metadata": {
    "ExecuteTime": {
     "end_time": "2025-07-06T18:25:42.002108Z",
     "start_time": "2025-07-06T18:25:41.793549Z"
    }
   },
   "cell_type": "code",
   "source": [
    "# PLOT\n",
    "forex_plot_utils.plot_all_series(\n",
    "    historical_df=historical_df,\n",
    "    predicted_df=predicted_df,\n",
    "    actual_future_df=actual_future_df,\n",
    "    title=plot_title,\n",
    "    output_path=output_plot_path\n",
    ")"
   ],
   "id": "a6e7b86736ad5b51",
   "outputs": [
    {
     "data": {
      "text/plain": [
       "<Figure size 1400x600 with 1 Axes>"
      ],
      "image/png": "[encoded data removed]"
     },
     "metadata": {},
     "output_type": "display_data"
    }
   ],
   "execution_count": 9
  },
  {
   "metadata": {
    "ExecuteTime": {
     "end_time": "2025-07-06T18:25:54.925066Z",
     "start_time": "2025-07-06T18:25:53.526942Z"
    }
   },
   "cell_type": "code",
   "source": [
    "from datetime import datetime\n",
    "import os\n",
    "import pandas as pd\n",
    "import matplotlib.pyplot as plt\n",
    "\n",
    "# === Create timestamp and paths ===\n",
    "timestamp = datetime.now().strftime('%Y%m%d_%H%M%S')\n",
    "model_filename = f'model_{timestamp}.keras'\n",
    "model_path = os.path.join('saved_models', model_filename)\n",
    "\n",
    "# Directory to hold logs and extras\n",
    "log_dir = os.path.join('saved_models', f'model_{timestamp}_logs')\n",
    "os.makedirs(log_dir, exist_ok=True)\n",
    "\n",
    "# === Save model ===\n",
    "model.save(model_path)\n",
    "\n",
    "# === Save training history ===\n",
    "history_df = pd.DataFrame(history.history)\n",
    "history_df.to_csv(os.path.join(log_dir, 'training_history.csv'), index=False)\n",
    "\n",
    "# === Save training loss plot ===\n",
    "plt.figure()\n",
    "plt.plot(history.history['loss'], label='Training Loss')\n",
    "plt.plot(history.history['val_loss'], label='Validation Loss')\n",
    "plt.title('Training Loss Over Epochs')\n",
    "plt.xlabel('Epoch')\n",
    "plt.ylabel('Loss')\n",
    "plt.legend()\n",
    "plt.grid(True)\n",
    "plt.savefig(os.path.join(log_dir, 'training_loss.png'))\n",
    "plt.close()\n",
    "\n",
    "# === Save model summary and final performance ===\n",
    "with open(os.path.join(log_dir, 'model_log.txt'), 'w') as f:\n",
    "    model.summary(print_fn=lambda x: f.write(x + '\\n'))\n",
    "    final_train_loss = history.history['loss'][-1]\n",
    "    final_test_loss, final_test_mae = model.evaluate([X_seq_test, X_wide_test], y_test, verbose=0)\n",
    "    f.write(f'\\nFinal Training Loss: {final_train_loss:.6f}\\n')\n",
    "    f.write(f'Final Test Loss : {final_test_loss:.6f}\\n')\n",
    "    f.write(f'Final Test MAE : {final_test_mae:.6f}\\n')\n"
   ],
   "id": "2bbbacfc2fb3329a",
   "outputs": [
    {
     "data": {
      "text/plain": [],
      "text/html": [
       "<pre style=\"white-space:pre;overflow-x:auto;line-height:normal;font-family:Menlo,'DejaVu Sans Mono',consolas,'Courier New',monospace\"></pre>\n"
      ]
     },
     "metadata": {},
     "output_type": "display_data"
    }
   ],
   "execution_count": 10
  },
  {
   "metadata": {},
   "cell_type": "code",
   "source": "",
   "id": "d8e2657f15fa4600",
   "outputs": [],
   "execution_count": null
  }
 ],
 "metadata": {
  "kernelspec": {
   "name": "python3",
   "language": "python",
   "display_name": "Python 3 (ipykernel)"
  }
 },
 "nbformat": 5,
 "nbformat_minor": 9
}
