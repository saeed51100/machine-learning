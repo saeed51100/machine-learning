{
 "cells": [
  {
   "metadata": {},
   "cell_type": "markdown",
   "source": [
    "# architecture-11 ( Basic Regression Wide And Deep Add TA-Lib )\n",
    "What's new:\n",
    "\n",
    "1- Convert the LSTM to Multi-Head Attention.\n",
    "\n",
    "## Conclusion\n",
    "\n",
    "Your model architecture is:\n",
    "\n",
    "* Well-designed\n",
    "\n",
    "* Efficient\n",
    "\n",
    "* Performs well\n",
    "\n",
    "* Implements best practices for attention-based time series forecasting\n",
    "\n",
    "With a final test MAE ~0.0088 (in normalized scale), you’re already at a level suitable for real-world deployment and live testing. Further improvements would be experimentation-based, not corrections.\n",
    "\n",
    "*************************************************************\n",
    "## architecture-05 vs architecture-11\n",
    "### Expert Take\n",
    "\n",
    "From a machine learning and finance perspective:\n",
    "\n",
    "* Your architecture-11 is a well-designed architecture and matches modern forecasting standards (MHA, wide inputs, residuals).\n",
    "\n",
    "* But its extra complexity is not justified unless you are solving a harder or broader problem than simple directional price prediction.\n",
    "\n",
    "* For now, architecture-05 gives ~95% of the benefit with 10% of the cost.\n",
    "\n",
    "### 📌 Conclusion:\n",
    "\n",
    "✅ Stick with architecture-05 for now, especially if you're iterating fast or testing new ideas.\n",
    "\n",
    "🔁 Keep architecture-11 ready for future use — e.g., in multi-market scenarios, regime adaptation, or if architecture-05 fails to scale."
   ],
   "id": "67a9ecb3258e8606"
  },
  {
   "metadata": {},
   "cell_type": "code",
   "source": [
    "import pandas as pd\n",
    "import numpy as np\n",
    "from sklearn.preprocessing import MinMaxScaler\n",
    "from sklearn.model_selection import train_test_split\n",
    "import tensorflow as tf\n",
    "from tensorflow.keras import Input\n",
    "from tensorflow.keras.layers import Dense, Concatenate, GlobalAveragePooling1D, LayerNormalization, MultiHeadAttention,Dropout, Add\n",
    "from tensorflow.keras.models import Model\n",
    "import talib"
   ],
   "id": "c980d7d41b42c555",
   "outputs": [],
   "execution_count": null
  },
  {
   "metadata": {},
   "cell_type": "code",
   "source": [
    "# === Load and preprocess ===\n",
    "df = pd.read_csv('datasets-11/XAGUSD-H1-rates.csv', sep='\\t')"
   ],
   "id": "57786783bc2c952d",
   "outputs": [],
   "execution_count": null
  },
  {
   "metadata": {},
   "cell_type": "code",
   "source": [
    "def add_ta_features(df):\n",
    "    df['rsi'] = talib.RSI(df['<CLOSE>'], timeperiod=14)\n",
    "    df['macd'], _, df['MACD_hist'] = talib.MACD(df['<CLOSE>'])\n",
    "    df['ema_50'] = talib.EMA(df['<CLOSE>'], timeperiod=50)\n",
    "    df['atr'] = talib.ATR(df['<HIGH>'], df['<LOW>'], df['<CLOSE>'], timeperiod=14)\n",
    "    df['adx'] = talib.ADX(df['<HIGH>'], df['<LOW>'], df['<CLOSE>'], timeperiod=14)\n",
    "    return df.dropna()\n",
    "\n",
    "\n",
    "df = add_ta_features(df)"
   ],
   "id": "5db6ae6495f0072c",
   "outputs": [],
   "execution_count": null
  },
  {
   "metadata": {
    "ExecuteTime": {
     "end_time": "2025-07-05T13:18:24.712458Z",
     "start_time": "2025-07-05T13:18:24.454624Z"
    }
   },
   "cell_type": "code",
   "source": [
    "# Scale sequence features\n",
    "sequence_features = ['<OPEN>', '<HIGH>', '<LOW>', '<CLOSE>', '<TICKVOL>']\n",
    "wide_features = ['<SPREAD>', '<VOL>', 'adx', 'atr', 'ema_50', 'macd', 'MACD_hist', 'rsi']\n",
    "\n",
    "scaler_seq = MinMaxScaler()\n",
    "scaler_wide = MinMaxScaler()\n",
    "scaler_close = MinMaxScaler()\n",
    "\n",
    "scaled_seq = scaler_seq.fit_transform(df[sequence_features])\n",
    "scaled_wide = scaler_wide.fit_transform(df[wide_features])\n",
    "scaled_close = scaler_close.fit_transform(df[['<CLOSE>']])\n",
    "\n",
    "# === Create sequences ===\n",
    "def create_sequences(seq_data, wide_data, target_data, window, horizon):\n",
    "    X_seq, X_wide, y = [], [], []\n",
    "    for i in range(window, len(seq_data) - horizon):\n",
    "        X_seq.append(seq_data[i-window:i])\n",
    "        X_wide.append(wide_data[i-1])  # use last row of each window\n",
    "        y.append(target_data[i:i+horizon].flatten())\n",
    "    return np.array(X_seq), np.array(X_wide), np.array(y)\n",
    "\n",
    "WINDOW_SIZE = 60\n",
    "FORECAST_HORIZON = 10\n",
    "\n",
    "X_seq, X_wide, y = create_sequences(scaled_seq, scaled_wide, scaled_close, WINDOW_SIZE, FORECAST_HORIZON)\n",
    "\n",
    "# === Train/Test split ===\n",
    "X_seq_train, X_seq_test, X_wide_train, X_wide_test, y_train, y_test = train_test_split(\n",
    "    X_seq, X_wide, y, test_size=0.2, shuffle=False\n",
    ")\n",
    "\n",
    "# === Build Wide & Deep model with MHA ===\n",
    "def build_wide_deep_model_with_mha(seq_shape, wide_shape, horizon, num_heads=4, ff_dim=64, dropout_rate=0.1):\n",
    "    # === Sequence input (Deep part with Multi-Head Attention) ===\n",
    "    seq_input = Input(shape=seq_shape, name=\"sequence_input\")\n",
    "\n",
    "    # Multi-Head Self-Attention\n",
    "    attention_output = MultiHeadAttention(num_heads=num_heads, key_dim=seq_shape[-1])(seq_input, seq_input)\n",
    "    attention_output = Dropout(dropout_rate)(attention_output)\n",
    "    attention_output = Add()([seq_input, attention_output])  # Residual connection\n",
    "    attention_output = LayerNormalization()(attention_output)\n",
    "\n",
    "    # Feed Forward Network\n",
    "    ff_output = Dense(ff_dim, activation='relu')(attention_output)\n",
    "    ff_output = Dropout(dropout_rate)(ff_output)\n",
    "\n",
    "    # Project attention_output to ff_dim so Add() is valid\n",
    "    projection = Dense(ff_dim)(attention_output)\n",
    "\n",
    "    ff_output = Add()([projection, ff_output])  # Residual connection with matching shape\n",
    "    ff_output = LayerNormalization()(ff_output)\n",
    "\n",
    "    # Global average pooling\n",
    "    seq_output = GlobalAveragePooling1D()(ff_output)\n",
    "\n",
    "    # === Wide input ===\n",
    "    wide_input = Input(shape=wide_shape, name=\"wide_input\")\n",
    "\n",
    "    # === Combine Wide and Deep ===\n",
    "    combined = Concatenate()([seq_output, wide_input])\n",
    "    x = Dense(64, activation='relu')(combined)\n",
    "    x = Dense(32, activation='relu')(x)\n",
    "    output = Dense(horizon)(x)\n",
    "\n",
    "    model = Model(inputs=[seq_input, wide_input], outputs=output)\n",
    "    model.compile(optimizer='adam', loss='mse', metrics=['mae'])\n",
    "    return model\n",
    "\n",
    "\n",
    "model = build_wide_deep_model_with_mha(\n",
    "    seq_shape=(X_seq_train.shape[1], X_seq_train.shape[2]),\n",
    "    wide_shape=(X_wide_train.shape[1],),\n",
    "    horizon=FORECAST_HORIZON\n",
    ")\n",
    "\n"
   ],
   "id": "d8b0cc8f13e7204",
   "outputs": [],
   "execution_count": 14
  },
  {
   "metadata": {
    "ExecuteTime": {
     "end_time": "2025-07-05T13:21:02.886418Z",
     "start_time": "2025-07-05T13:18:31.226853Z"
    }
   },
   "cell_type": "code",
   "source": [
    "# === Train ===\n",
    "es = tf.keras.callbacks.EarlyStopping(monitor='val_loss', patience=5, restore_best_weights=True)\n",
    "\n",
    "history = model.fit(\n",
    "    [X_seq_train, X_wide_train],\n",
    "    y_train,\n",
    "    validation_split=0.2,\n",
    "    epochs=50,\n",
    "    callbacks=[es],\n",
    "    verbose=1\n",
    ")"
   ],
   "id": "42abd6c2a65fca25",
   "outputs": [
    {
     "name": "stdout",
     "output_type": "stream",
     "text": [
      "Epoch 1/50\n"
     ]
    },
    {
     "name": "stderr",
     "output_type": "stream",
     "text": [
      "I0000 00:00:1751721513.704460   15603 service.cc:148] XLA service 0x74b92400bfd0 initialized for platform CUDA (this does not guarantee that XLA will be used). Devices:\n",
      "I0000 00:00:1751721513.704482   15603 service.cc:156]   StreamExecutor device (0): NVIDIA GeForce GTX 1650 SUPER, Compute Capability 7.5\n",
      "2025-07-05 16:48:33.791340: I tensorflow/compiler/mlir/tensorflow/utils/dump_mlir_util.cc:268] disabling MLIR crash reproducer, set env var `MLIR_CRASH_REPRODUCER_DIRECTORY` to enable.\n",
      "I0000 00:00:1751721514.129308   15603 cuda_dnn.cc:529] Loaded cuDNN version 91001\n"
     ]
    },
    {
     "name": "stdout",
     "output_type": "stream",
     "text": [
      "\u001B[1m  63/1100\u001B[0m \u001B[32m━\u001B[0m\u001B[37m━━━━━━━━━━━━━━━━━━━\u001B[0m \u001B[1m2s\u001B[0m 2ms/step - loss: 0.0260 - mae: 0.1103"
     ]
    },
    {
     "name": "stderr",
     "output_type": "stream",
     "text": [
      "2025-07-05 16:48:37.064614: I external/local_xla/xla/stream_executor/cuda/cuda_asm_compiler.cc:397] ptxas warning : Registers are spilled to local memory in function 'input_multiply_reduce_fusion', 48 bytes spill stores, 48 bytes spill loads\n",
      "\n",
      "I0000 00:00:1751721517.086287   15603 device_compiler.h:188] Compiled cluster using XLA!  This line is logged at most once for the lifetime of the process.\n"
     ]
    },
    {
     "name": "stdout",
     "output_type": "stream",
     "text": [
      "\u001B[1m1100/1100\u001B[0m \u001B[32m━━━━━━━━━━━━━━━━━━━━\u001B[0m\u001B[37m\u001B[0m \u001B[1m13s\u001B[0m 7ms/step - loss: 0.0049 - mae: 0.0373 - val_loss: 0.0019 - val_mae: 0.0384\n",
      "Epoch 2/50\n",
      "\u001B[1m1100/1100\u001B[0m \u001B[32m━━━━━━━━━━━━━━━━━━━━\u001B[0m\u001B[37m\u001B[0m \u001B[1m4s\u001B[0m 3ms/step - loss: 3.5251e-04 - mae: 0.0136 - val_loss: 0.0014 - val_mae: 0.0329\n",
      "Epoch 3/50\n",
      "\u001B[1m1100/1100\u001B[0m \u001B[32m━━━━━━━━━━━━━━━━━━━━\u001B[0m\u001B[37m\u001B[0m \u001B[1m4s\u001B[0m 4ms/step - loss: 2.4145e-04 - mae: 0.0112 - val_loss: 0.0039 - val_mae: 0.0597\n",
      "Epoch 4/50\n",
      "\u001B[1m1100/1100\u001B[0m \u001B[32m━━━━━━━━━━━━━━━━━━━━\u001B[0m\u001B[37m\u001B[0m \u001B[1m3s\u001B[0m 3ms/step - loss: 1.9107e-04 - mae: 0.0098 - val_loss: 0.0017 - val_mae: 0.0379\n",
      "Epoch 5/50\n",
      "\u001B[1m1100/1100\u001B[0m \u001B[32m━━━━━━━━━━━━━━━━━━━━\u001B[0m\u001B[37m\u001B[0m \u001B[1m4s\u001B[0m 3ms/step - loss: 1.8362e-04 - mae: 0.0096 - val_loss: 3.4942e-04 - val_mae: 0.0149\n",
      "Epoch 6/50\n",
      "\u001B[1m1100/1100\u001B[0m \u001B[32m━━━━━━━━━━━━━━━━━━━━\u001B[0m\u001B[37m\u001B[0m \u001B[1m3s\u001B[0m 3ms/step - loss: 1.5429e-04 - mae: 0.0087 - val_loss: 6.2990e-04 - val_mae: 0.0211\n",
      "Epoch 7/50\n",
      "\u001B[1m1100/1100\u001B[0m \u001B[32m━━━━━━━━━━━━━━━━━━━━\u001B[0m\u001B[37m\u001B[0m \u001B[1m4s\u001B[0m 3ms/step - loss: 1.4585e-04 - mae: 0.0084 - val_loss: 4.1742e-04 - val_mae: 0.0165\n",
      "Epoch 8/50\n",
      "\u001B[1m1100/1100\u001B[0m \u001B[32m━━━━━━━━━━━━━━━━━━━━\u001B[0m\u001B[37m\u001B[0m \u001B[1m4s\u001B[0m 3ms/step - loss: 1.4523e-04 - mae: 0.0084 - val_loss: 6.9523e-04 - val_mae: 0.0231\n",
      "Epoch 9/50\n",
      "\u001B[1m1100/1100\u001B[0m \u001B[32m━━━━━━━━━━━━━━━━━━━━\u001B[0m\u001B[37m\u001B[0m \u001B[1m4s\u001B[0m 3ms/step - loss: 1.2928e-04 - mae: 0.0079 - val_loss: 0.0014 - val_mae: 0.0340\n",
      "Epoch 10/50\n",
      "\u001B[1m1100/1100\u001B[0m \u001B[32m━━━━━━━━━━━━━━━━━━━━\u001B[0m\u001B[37m\u001B[0m \u001B[1m3s\u001B[0m 3ms/step - loss: 1.2078e-04 - mae: 0.0075 - val_loss: 2.5635e-04 - val_mae: 0.0122\n",
      "Epoch 11/50\n",
      "\u001B[1m1100/1100\u001B[0m \u001B[32m━━━━━━━━━━━━━━━━━━━━\u001B[0m\u001B[37m\u001B[0m \u001B[1m3s\u001B[0m 3ms/step - loss: 1.2445e-04 - mae: 0.0077 - val_loss: 3.3827e-04 - val_mae: 0.0141\n",
      "Epoch 12/50\n",
      "\u001B[1m1100/1100\u001B[0m \u001B[32m━━━━━━━━━━━━━━━━━━━━\u001B[0m\u001B[37m\u001B[0m \u001B[1m4s\u001B[0m 3ms/step - loss: 1.1478e-04 - mae: 0.0073 - val_loss: 4.7911e-04 - val_mae: 0.0165\n",
      "Epoch 13/50\n",
      "\u001B[1m1100/1100\u001B[0m \u001B[32m━━━━━━━━━━━━━━━━━━━━\u001B[0m\u001B[37m\u001B[0m \u001B[1m4s\u001B[0m 3ms/step - loss: 1.1215e-04 - mae: 0.0074 - val_loss: 9.4670e-04 - val_mae: 0.0279\n",
      "Epoch 14/50\n",
      "\u001B[1m1100/1100\u001B[0m \u001B[32m━━━━━━━━━━━━━━━━━━━━\u001B[0m\u001B[37m\u001B[0m \u001B[1m4s\u001B[0m 3ms/step - loss: 1.1759e-04 - mae: 0.0074 - val_loss: 2.1161e-04 - val_mae: 0.0111\n",
      "Epoch 15/50\n",
      "\u001B[1m1100/1100\u001B[0m \u001B[32m━━━━━━━━━━━━━━━━━━━━\u001B[0m\u001B[37m\u001B[0m \u001B[1m3s\u001B[0m 3ms/step - loss: 1.0707e-04 - mae: 0.0070 - val_loss: 2.7059e-04 - val_mae: 0.0126\n",
      "Epoch 16/50\n",
      "\u001B[1m1100/1100\u001B[0m \u001B[32m━━━━━━━━━━━━━━━━━━━━\u001B[0m\u001B[37m\u001B[0m \u001B[1m4s\u001B[0m 3ms/step - loss: 1.1518e-04 - mae: 0.0074 - val_loss: 2.7876e-04 - val_mae: 0.0124\n",
      "Epoch 17/50\n",
      "\u001B[1m1100/1100\u001B[0m \u001B[32m━━━━━━━━━━━━━━━━━━━━\u001B[0m\u001B[37m\u001B[0m \u001B[1m3s\u001B[0m 3ms/step - loss: 1.0640e-04 - mae: 0.0069 - val_loss: 1.9145e-04 - val_mae: 0.0104\n",
      "Epoch 18/50\n",
      "\u001B[1m1100/1100\u001B[0m \u001B[32m━━━━━━━━━━━━━━━━━━━━\u001B[0m\u001B[37m\u001B[0m \u001B[1m3s\u001B[0m 3ms/step - loss: 1.0036e-04 - mae: 0.0067 - val_loss: 2.5249e-04 - val_mae: 0.0118\n",
      "Epoch 19/50\n",
      "\u001B[1m1100/1100\u001B[0m \u001B[32m━━━━━━━━━━━━━━━━━━━━\u001B[0m\u001B[37m\u001B[0m \u001B[1m4s\u001B[0m 3ms/step - loss: 1.0089e-04 - mae: 0.0067 - val_loss: 7.4803e-04 - val_mae: 0.0246\n",
      "Epoch 20/50\n",
      "\u001B[1m1100/1100\u001B[0m \u001B[32m━━━━━━━━━━━━━━━━━━━━\u001B[0m\u001B[37m\u001B[0m \u001B[1m4s\u001B[0m 3ms/step - loss: 1.0140e-04 - mae: 0.0068 - val_loss: 2.4657e-04 - val_mae: 0.0123\n",
      "Epoch 21/50\n",
      "\u001B[1m1100/1100\u001B[0m \u001B[32m━━━━━━━━━━━━━━━━━━━━\u001B[0m\u001B[37m\u001B[0m \u001B[1m3s\u001B[0m 3ms/step - loss: 1.0005e-04 - mae: 0.0066 - val_loss: 6.6106e-04 - val_mae: 0.0217\n",
      "Epoch 22/50\n",
      "\u001B[1m1100/1100\u001B[0m \u001B[32m━━━━━━━━━━━━━━━━━━━━\u001B[0m\u001B[37m\u001B[0m \u001B[1m3s\u001B[0m 3ms/step - loss: 9.5976e-05 - mae: 0.0066 - val_loss: 1.9125e-04 - val_mae: 0.0105\n",
      "Epoch 23/50\n",
      "\u001B[1m1100/1100\u001B[0m \u001B[32m━━━━━━━━━━━━━━━━━━━━\u001B[0m\u001B[37m\u001B[0m \u001B[1m4s\u001B[0m 3ms/step - loss: 9.3079e-05 - mae: 0.0063 - val_loss: 2.2882e-04 - val_mae: 0.0116\n",
      "Epoch 24/50\n",
      "\u001B[1m1100/1100\u001B[0m \u001B[32m━━━━━━━━━━━━━━━━━━━━\u001B[0m\u001B[37m\u001B[0m \u001B[1m3s\u001B[0m 3ms/step - loss: 8.5642e-05 - mae: 0.0061 - val_loss: 2.0012e-04 - val_mae: 0.0104\n",
      "Epoch 25/50\n",
      "\u001B[1m1100/1100\u001B[0m \u001B[32m━━━━━━━━━━━━━━━━━━━━\u001B[0m\u001B[37m\u001B[0m \u001B[1m4s\u001B[0m 3ms/step - loss: 8.6830e-05 - mae: 0.0061 - val_loss: 2.6891e-04 - val_mae: 0.0128\n",
      "Epoch 26/50\n",
      "\u001B[1m1100/1100\u001B[0m \u001B[32m━━━━━━━━━━━━━━━━━━━━\u001B[0m\u001B[37m\u001B[0m \u001B[1m4s\u001B[0m 4ms/step - loss: 8.6681e-05 - mae: 0.0060 - val_loss: 1.7435e-04 - val_mae: 0.0097\n",
      "Epoch 27/50\n",
      "\u001B[1m1100/1100\u001B[0m \u001B[32m━━━━━━━━━━━━━━━━━━━━\u001B[0m\u001B[37m\u001B[0m \u001B[1m4s\u001B[0m 3ms/step - loss: 9.2779e-05 - mae: 0.0063 - val_loss: 1.7668e-04 - val_mae: 0.0098\n",
      "Epoch 28/50\n",
      "\u001B[1m1100/1100\u001B[0m \u001B[32m━━━━━━━━━━━━━━━━━━━━\u001B[0m\u001B[37m\u001B[0m \u001B[1m4s\u001B[0m 3ms/step - loss: 9.1459e-05 - mae: 0.0062 - val_loss: 1.8346e-04 - val_mae: 0.0102\n",
      "Epoch 29/50\n",
      "\u001B[1m1100/1100\u001B[0m \u001B[32m━━━━━━━━━━━━━━━━━━━━\u001B[0m\u001B[37m\u001B[0m \u001B[1m4s\u001B[0m 3ms/step - loss: 8.4593e-05 - mae: 0.0060 - val_loss: 2.2532e-04 - val_mae: 0.0118\n",
      "Epoch 30/50\n",
      "\u001B[1m1100/1100\u001B[0m \u001B[32m━━━━━━━━━━━━━━━━━━━━\u001B[0m\u001B[37m\u001B[0m \u001B[1m3s\u001B[0m 3ms/step - loss: 8.1960e-05 - mae: 0.0059 - val_loss: 2.4585e-04 - val_mae: 0.0114\n",
      "Epoch 31/50\n",
      "\u001B[1m1100/1100\u001B[0m \u001B[32m━━━━━━━━━━━━━━━━━━━━\u001B[0m\u001B[37m\u001B[0m \u001B[1m4s\u001B[0m 3ms/step - loss: 8.3428e-05 - mae: 0.0058 - val_loss: 1.6905e-04 - val_mae: 0.0096\n",
      "Epoch 32/50\n",
      "\u001B[1m1100/1100\u001B[0m \u001B[32m━━━━━━━━━━━━━━━━━━━━\u001B[0m\u001B[37m\u001B[0m \u001B[1m3s\u001B[0m 3ms/step - loss: 8.2744e-05 - mae: 0.0059 - val_loss: 1.6783e-04 - val_mae: 0.0095\n",
      "Epoch 33/50\n",
      "\u001B[1m1100/1100\u001B[0m \u001B[32m━━━━━━━━━━━━━━━━━━━━\u001B[0m\u001B[37m\u001B[0m \u001B[1m4s\u001B[0m 3ms/step - loss: 8.2213e-05 - mae: 0.0057 - val_loss: 1.7294e-04 - val_mae: 0.0097\n",
      "Epoch 34/50\n",
      "\u001B[1m1100/1100\u001B[0m \u001B[32m━━━━━━━━━━━━━━━━━━━━\u001B[0m\u001B[37m\u001B[0m \u001B[1m4s\u001B[0m 3ms/step - loss: 8.2164e-05 - mae: 0.0058 - val_loss: 2.9171e-04 - val_mae: 0.0130\n",
      "Epoch 35/50\n",
      "\u001B[1m1100/1100\u001B[0m \u001B[32m━━━━━━━━━━━━━━━━━━━━\u001B[0m\u001B[37m\u001B[0m \u001B[1m4s\u001B[0m 3ms/step - loss: 7.7372e-05 - mae: 0.0056 - val_loss: 1.6441e-04 - val_mae: 0.0093\n",
      "Epoch 36/50\n",
      "\u001B[1m1100/1100\u001B[0m \u001B[32m━━━━━━━━━━━━━━━━━━━━\u001B[0m\u001B[37m\u001B[0m \u001B[1m3s\u001B[0m 3ms/step - loss: 8.2388e-05 - mae: 0.0057 - val_loss: 1.7875e-04 - val_mae: 0.0099\n",
      "Epoch 37/50\n",
      "\u001B[1m1100/1100\u001B[0m \u001B[32m━━━━━━━━━━━━━━━━━━━━\u001B[0m\u001B[37m\u001B[0m \u001B[1m4s\u001B[0m 3ms/step - loss: 7.6895e-05 - mae: 0.0056 - val_loss: 2.3448e-04 - val_mae: 0.0113\n",
      "Epoch 38/50\n",
      "\u001B[1m1100/1100\u001B[0m \u001B[32m━━━━━━━━━━━━━━━━━━━━\u001B[0m\u001B[37m\u001B[0m \u001B[1m4s\u001B[0m 3ms/step - loss: 7.7665e-05 - mae: 0.0057 - val_loss: 2.0798e-04 - val_mae: 0.0111\n",
      "Epoch 39/50\n",
      "\u001B[1m1100/1100\u001B[0m \u001B[32m━━━━━━━━━━━━━━━━━━━━\u001B[0m\u001B[37m\u001B[0m \u001B[1m3s\u001B[0m 3ms/step - loss: 7.9608e-05 - mae: 0.0057 - val_loss: 1.7325e-04 - val_mae: 0.0096\n",
      "Epoch 40/50\n",
      "\u001B[1m1100/1100\u001B[0m \u001B[32m━━━━━━━━━━━━━━━━━━━━\u001B[0m\u001B[37m\u001B[0m \u001B[1m3s\u001B[0m 3ms/step - loss: 8.0319e-05 - mae: 0.0057 - val_loss: 1.7471e-04 - val_mae: 0.0096\n"
     ]
    }
   ],
   "execution_count": 15
  },
  {
   "metadata": {
    "ExecuteTime": {
     "end_time": "2025-07-05T13:21:39.140591Z",
     "start_time": "2025-07-05T13:21:38.428802Z"
    }
   },
   "cell_type": "code",
   "source": [
    "# === Load the last 110 rows from a separate CSV file for prediction ===\n",
    "input_df = pd.read_csv('datasets-11/new-data-for-test/rows-60-from-20240503/rows-110-from-20240503.csv', sep='\\t')\n",
    "\n",
    "input_df = add_ta_features(input_df)\n",
    "\n",
    "# Take only the last 60 usable rows after TA features\n",
    "input_df = input_df.tail(60)\n",
    "\n",
    "input_seq_scaled = scaler_seq.transform(input_df[sequence_features])\n",
    "input_wide_scaled = scaler_wide.transform(input_df[wide_features])\n",
    "\n",
    "input_seq = np.expand_dims(input_seq_scaled, axis=0)\n",
    "input_wide = np.expand_dims(input_wide_scaled[-1], axis=0)\n",
    "\n",
    "pred = model.predict([input_seq, input_wide])\n",
    "prediction = scaler_close.inverse_transform(pred)\n",
    "print(\"Next 10 predicted closing prices:\", prediction.flatten())"
   ],
   "id": "2254a37d9c9f3fc2",
   "outputs": [
    {
     "name": "stdout",
     "output_type": "stream",
     "text": [
      "\u001B[1m1/1\u001B[0m \u001B[32m━━━━━━━━━━━━━━━━━━━━\u001B[0m\u001B[37m\u001B[0m \u001B[1m1s\u001B[0m 647ms/step\n",
      "Next 10 predicted closing prices: [27.96962  27.982756 27.904884 27.98621  27.947393 27.87582  27.868181\n",
      " 27.888683 27.895943 27.936104]\n"
     ]
    }
   ],
   "execution_count": 16
  },
  {
   "metadata": {},
   "cell_type": "markdown",
   "source": "# plot section",
   "id": "6456b78cc1b88128"
  },
  {
   "metadata": {
    "ExecuteTime": {
     "end_time": "2025-07-05T13:21:42.806439Z",
     "start_time": "2025-07-05T13:21:42.791342Z"
    }
   },
   "cell_type": "code",
   "source": [
    "import sys\n",
    "\n",
    "sys.path.insert(1, '../utils')\n",
    "import forex_plot_utils\n",
    "import os\n",
    "\n",
    "# PARAMETERS\n",
    "csv1_path = 'datasets-11/new-data-for-test/rows-60-from-20240503/latest-4-for-history.csv'\n",
    "csv3_path = 'datasets-11/new-data-for-test/rows-60-from-20240503/after.csv'\n",
    "plot_title = 'Actual vs Predicted Forex Closing Prices'\n",
    "output_plot_path = None  # e.g., 'output.png'\n",
    "\n",
    "# LOAD DATA FROM CSVS\n",
    "historical_df = forex_plot_utils.load_csv_with_datetime(csv1_path) if os.path.exists(csv1_path) else None\n",
    "actual_future_df = forex_plot_utils.load_csv_with_datetime(csv3_path) if os.path.exists(csv3_path) else None\n",
    "\n",
    "# LOAD DATA FROM PREDICTION\n",
    "\n",
    "# Combine <DATE> and <TIME> columns into a datetime\n",
    "input_df['DATETIME'] = pd.to_datetime(input_df['<DATE>'] + ' ' + input_df['<TIME>'])\n",
    "\n",
    "last_timestamp = input_df['DATETIME'].iloc[-1]\n",
    "datetime_index = pd.date_range(start=last_timestamp + pd.Timedelta(hours=1), periods=len(prediction[0]), freq='h')\n",
    "\n",
    "# Create DataFrame\n",
    "predicted_df = pd.DataFrame({'DATETIME': datetime_index, '<CLOSE>': prediction[0]})"
   ],
   "id": "d4d7751243eff18e",
   "outputs": [],
   "execution_count": 17
  },
  {
   "metadata": {
    "ExecuteTime": {
     "end_time": "2025-07-05T13:21:46.358758Z",
     "start_time": "2025-07-05T13:21:46.150096Z"
    }
   },
   "cell_type": "code",
   "source": [
    "# PLOT\n",
    "forex_plot_utils.plot_all_series(\n",
    "    historical_df=historical_df,\n",
    "    predicted_df=predicted_df,\n",
    "    actual_future_df=actual_future_df,\n",
    "    title=plot_title,\n",
    "    output_path=output_plot_path\n",
    ")"
   ],
   "id": "a6e7b86736ad5b51",
   "outputs": [
    {
     "data": {
      "text/plain": [
       "<Figure size 1400x600 with 1 Axes>"
      ],
      "image/png": "[encoded data removed]"
     },
     "metadata": {},
     "output_type": "display_data"
    }
   ],
   "execution_count": 18
  },
  {
   "metadata": {
    "ExecuteTime": {
     "end_time": "2025-07-05T13:22:27.092698Z",
     "start_time": "2025-07-05T13:22:25.657973Z"
    }
   },
   "cell_type": "code",
   "source": [
    "from datetime import datetime\n",
    "import os\n",
    "import pandas as pd\n",
    "import matplotlib.pyplot as plt\n",
    "\n",
    "# === Create timestamp and paths ===\n",
    "timestamp = datetime.now().strftime('%Y%m%d_%H%M%S')\n",
    "model_filename = f'model_{timestamp}.keras'\n",
    "model_path = os.path.join('saved_models', model_filename)\n",
    "\n",
    "# Directory to hold logs and extras\n",
    "log_dir = os.path.join('saved_models', f'model_{timestamp}_logs')\n",
    "os.makedirs(log_dir, exist_ok=True)\n",
    "\n",
    "# === Save model ===\n",
    "model.save(model_path)\n",
    "\n",
    "# === Save training history ===\n",
    "history_df = pd.DataFrame(history.history)\n",
    "history_df.to_csv(os.path.join(log_dir, 'training_history.csv'), index=False)\n",
    "\n",
    "# === Save training loss plot ===\n",
    "plt.figure()\n",
    "plt.plot(history.history['loss'], label='Training Loss')\n",
    "plt.plot(history.history['val_loss'], label='Validation Loss')\n",
    "plt.title('Training Loss Over Epochs')\n",
    "plt.xlabel('Epoch')\n",
    "plt.ylabel('Loss')\n",
    "plt.legend()\n",
    "plt.grid(True)\n",
    "plt.savefig(os.path.join(log_dir, 'training_loss.png'))\n",
    "plt.close()\n",
    "\n",
    "# === Save model summary and final performance ===\n",
    "with open(os.path.join(log_dir, 'model_log.txt'), 'w') as f:\n",
    "    model.summary(print_fn=lambda x: f.write(x + '\\n'))\n",
    "    final_train_loss = history.history['loss'][-1]\n",
    "    final_test_loss, final_test_mae = model.evaluate([X_seq_test, X_wide_test], y_test, verbose=0)\n",
    "    f.write(f'\\nFinal Training Loss: {final_train_loss:.6f}\\n')\n",
    "    f.write(f'Final Test Loss : {final_test_loss:.6f}\\n')\n",
    "    f.write(f'Final Test MAE : {final_test_mae:.6f}\\n')\n"
   ],
   "id": "2bbbacfc2fb3329a",
   "outputs": [
    {
     "data": {
      "text/plain": [],
      "text/html": [
       "<pre style=\"white-space:pre;overflow-x:auto;line-height:normal;font-family:Menlo,'DejaVu Sans Mono',consolas,'Courier New',monospace\"></pre>\n"
      ]
     },
     "metadata": {},
     "output_type": "display_data"
    }
   ],
   "execution_count": 19
  },
  {
   "metadata": {},
   "cell_type": "code",
   "source": "",
   "id": "d8e2657f15fa4600",
   "outputs": [],
   "execution_count": null
  }
 ],
 "metadata": {
  "kernelspec": {
   "name": "python3",
   "language": "python",
   "display_name": "Python 3 (ipykernel)"
  }
 },
 "nbformat": 5,
 "nbformat_minor": 9
}
