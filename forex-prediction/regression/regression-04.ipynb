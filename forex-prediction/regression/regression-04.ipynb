{
 "cells": [
  {
   "metadata": {},
   "cell_type": "markdown",
   "source": [
    "# regression-04\n",
    "\n",
    "## What's new:\n",
    "\n",
    "1-\n",
    "\n",
    "\n"
   ],
   "id": "67a9ecb3258e8606"
  },
  {
   "metadata": {
    "ExecuteTime": {
     "end_time": "2025-10-17T13:27:03.888271Z",
     "start_time": "2025-10-17T13:27:01.145774Z"
    }
   },
   "cell_type": "code",
   "source": [
    "import pandas as pd\n",
    "import numpy as np\n",
    "from tensorflow.keras.models import Sequential\n",
    "from tensorflow.keras.layers import LSTM, Dense, Dropout\n",
    "from sklearn.preprocessing import MinMaxScaler\n",
    "from sklearn.model_selection import train_test_split\n",
    "from tensorflow.keras import callbacks"
   ],
   "id": "c980d7d41b42c555",
   "outputs": [
    {
     "name": "stderr",
     "output_type": "stream",
     "text": [
      "2025-10-17 16:57:01.718330: E external/local_xla/xla/stream_executor/cuda/cuda_fft.cc:477] Unable to register cuFFT factory: Attempting to register factory for plugin cuFFT when one has already been registered\n",
      "WARNING: All log messages before absl::InitializeLog() is called are written to STDERR\n",
      "E0000 00:00:1760707621.734675    5390 cuda_dnn.cc:8310] Unable to register cuDNN factory: Attempting to register factory for plugin cuDNN when one has already been registered\n",
      "E0000 00:00:1760707621.740051    5390 cuda_blas.cc:1418] Unable to register cuBLAS factory: Attempting to register factory for plugin cuBLAS when one has already been registered\n"
     ]
    }
   ],
   "execution_count": 1
  },
  {
   "metadata": {
    "ExecuteTime": {
     "end_time": "2025-10-17T13:27:06.277922Z",
     "start_time": "2025-10-17T13:27:06.110714Z"
    }
   },
   "cell_type": "code",
   "source": [
    "# 1- Load and Scaling Features\n",
    "\n",
    "df = pd.read_csv('XAGUSD-197001010000--H1-rates.csv', sep='\\t')\n",
    "# Rename columns for easier access\n",
    "df.rename(columns={\n",
    "    '<DATE>': 'DATE',\n",
    "    '<TIME>': 'TIME',\n",
    "    '<OPEN>': 'OPEN',\n",
    "    '<HIGH>': 'HIGH',\n",
    "    '<LOW>': 'LOW',\n",
    "    '<CLOSE>': 'CLOSE',\n",
    "    '<TICKVOL>': 'TICKVOL',\n",
    "    '<VOL>': 'VOL',\n",
    "    '<SPREAD>': 'SPREAD'\n",
    "}, inplace=True)\n",
    "\n",
    "# ensure strings and strip any weird whitespace\n",
    "df['DATE'] = df['DATE'].astype(str).str.strip()\n",
    "df['TIME'] = df['TIME'].astype(str).str.strip()\n",
    "\n",
    "df['DATETIME'] = pd.to_datetime(df['DATE'] + ' ' + df['TIME'], dayfirst=False, errors='coerce')\n",
    "if df['DATETIME'].isna().any():\n",
    "    raise ValueError(\"Some DATETIME values could not be parsed. Check date/time formats.\")\n",
    "\n",
    "# set DATETIME as index for reindexing\n",
    "df = df.set_index('DATETIME').sort_index()\n",
    "\n",
    "# --------------------------\n",
    "# Create continuous hourly index & fill weekend gaps\n",
    "# --------------------------\n",
    "full_index = pd.date_range(start=df.index.min(), end=df.index.max(), freq='h')\n",
    "\n",
    "# Reindex to full hourly range so weekends/missing hours appear as NaN rows\n",
    "df = df.reindex(full_index)\n",
    "\n",
    "# Columns expected in your CSV\n",
    "num_cols = ['OPEN', 'HIGH', 'LOW', 'CLOSE', 'TICKVOL', 'VOL', 'SPREAD']\n",
    "for c in num_cols:\n",
    "    if c not in df.columns:\n",
    "        raise KeyError(f\"Expected column '{c}' not found in dataframe.\")\n",
    "\n",
    "# Fill strategy:\n",
    "# - Prices: forward-fill last known price across weekend gap (common approach for modeling continuity).\n",
    "# - TICKVOL / VOL: set missing to 0 (no ticks during weekend).\n",
    "# - SPREAD: forward-fill last known.\n",
    "# Alternative: you could leave NaNs and drop sequences that cross weekends (safer but reduces data).\n",
    "df[['OPEN','HIGH','LOW','CLOSE']] = df[['OPEN','HIGH','LOW','CLOSE']].ffill()\n",
    "df['SPREAD'] = df['SPREAD'].ffill()\n",
    "df['TICKVOL'] = df['TICKVOL'].fillna(0)\n",
    "df['VOL'] = df['VOL'].fillna(0)\n",
    "\n",
    "# If you want to mark weekend-filled rows, you could add a flag column:\n",
    "df['WEEKEND_FILLED'] = df['CLOSE'].isna().astype(int)  # before ffill this flagged NaNs; after ffill it would be 0\n",
    "# But we've already filled, so instead do:\n",
    "# df['WEEKEND_FILLED'] = df.index.to_series().dt.weekday.isin([5,6]).astype(int)\n",
    "\n",
    "# Reset index to make DATETIME a regular column again\n",
    "df = df.reset_index().rename(columns={'index': 'DATETIME'})\n"
   ],
   "id": "27be8804efc0b24c",
   "outputs": [],
   "execution_count": 2
  },
  {
   "metadata": {
    "ExecuteTime": {
     "end_time": "2025-10-17T13:27:12.278025Z",
     "start_time": "2025-10-17T13:27:12.271805Z"
    }
   },
   "cell_type": "code",
   "source": [
    "# Specify how many rows to remove for model\n",
    "nn = 1000   # Delete the first nn rows that do not follow the one-hour timeframe.\n",
    "mm = 500   # Remove mm last row that the model should not see.\n",
    "\n",
    "# Delete first nn and last mm rows\n",
    "df_model = df.iloc[nn:len(df)-mm].reset_index(drop=True)\n"
   ],
   "id": "fdfb1892b0cb90ee",
   "outputs": [],
   "execution_count": 3
  },
  {
   "metadata": {
    "ExecuteTime": {
     "end_time": "2025-10-17T13:27:14.051365Z",
     "start_time": "2025-10-17T13:27:14.037158Z"
    }
   },
   "cell_type": "code",
   "source": [
    "# Select features to scale\n",
    "features = ['OPEN', 'HIGH', 'LOW', 'CLOSE', 'TICKVOL']\n",
    "\n",
    "# Apply MinMaxScaler\n",
    "scaler = MinMaxScaler()\n",
    "scaled = scaler.fit_transform(df_model[features])\n",
    "\n",
    "close_scaler = MinMaxScaler()\n",
    "scaled_close = close_scaler.fit_transform(df_model[['CLOSE']])\n"
   ],
   "id": "3813efa7b7b96154",
   "outputs": [],
   "execution_count": 4
  },
  {
   "metadata": {
    "ExecuteTime": {
     "end_time": "2025-10-17T13:27:19.093661Z",
     "start_time": "2025-10-17T13:27:19.091575Z"
    }
   },
   "cell_type": "code",
   "source": [
    "# --- Parameters ---\n",
    "\n",
    "WINDOW_SIZE = 60\n",
    "FORECAST_HORIZON = 10"
   ],
   "id": "f3103d27aa971ac",
   "outputs": [],
   "execution_count": 5
  },
  {
   "metadata": {
    "ExecuteTime": {
     "end_time": "2025-10-17T13:37:29.638122Z",
     "start_time": "2025-10-17T13:27:21.379859Z"
    }
   },
   "cell_type": "code",
   "source": [
    "# Prepare sequences\n",
    "def create_sequences(features_arr, target_arr, window, horizon):\n",
    "    X, y = [], []\n",
    "    # features_arr: (N, n_features), target_arr: (N, 1)\n",
    "    for i in range(window, len(features_arr) - horizon + 1):\n",
    "        X.append(features_arr[i - window:i])         # shape (window, n_features)\n",
    "        y.append(target_arr[i:i + horizon].reshape(horizon))  # shape (horizon,)\n",
    "    return np.array(X), np.array(y)  # X: (samples, window, n_features), y: (samples, horizon)\n",
    "\n",
    "X, y = create_sequences(scaled, scaled_close, WINDOW_SIZE, FORECAST_HORIZON)\n",
    "\n",
    "\n",
    "# Check shapes\n",
    "print(\"X.shape:\", X.shape)  # expected (samples, 60, 5)\n",
    "print(\"y.shape:\", y.shape)  # expected (samples, 10)\n",
    "\n",
    "\n",
    "# Train/test split (time series: no shuffle)\n",
    "X_train, X_test, y_train, y_test = train_test_split(X, y, test_size=0.2, shuffle=False)\n",
    "\n",
    "\n",
    "# --------------------------\n",
    "# Build LSTM model (output matches y shape)\n",
    "# --------------------------\n",
    "model = Sequential([\n",
    "    LSTM(32, input_shape=(X_train.shape[1], X_train.shape[2])),\n",
    "    Dense(FORECAST_HORIZON)   # outputs (batch_size, horizon)\n",
    "])\n",
    "model.compile(optimizer='adam', loss='mse', metrics=['mae'])\n",
    "\n",
    "\n",
    "# Train\n",
    "mc = callbacks.ModelCheckpoint(filepath='mcp_saved_model.keras', monitor='val_loss', save_best_only=True)\n",
    "es = callbacks.EarlyStopping(monitor='val_loss', patience=10, restore_best_weights=True)\n",
    "history = model.fit(\n",
    "    X_train, y_train,\n",
    "    epochs=50,\n",
    "    verbose=1,\n",
    "    callbacks=[mc, es],\n",
    "    validation_split=0.2,\n",
    ")"
   ],
   "id": "cb7841301ce30d5b",
   "outputs": [
    {
     "name": "stdout",
     "output_type": "stream",
     "text": [
      "X.shape: (178287, 60, 5)\n",
      "y.shape: (178287, 10)\n"
     ]
    },
    {
     "name": "stderr",
     "output_type": "stream",
     "text": [
      "I0000 00:00:1760707642.067079    5390 gpu_device.cc:2022] Created device /job:localhost/replica:0/task:0/device:GPU:0 with 2370 MB memory:  -> device: 0, name: NVIDIA GeForce GTX 1650 SUPER, pci bus id: 0000:01:00.0, compute capability: 7.5\n",
      "/home/saeed/repositories/machine-learning/forex-prediction/envs/lib/python3.11/site-packages/keras/src/layers/rnn/rnn.py:199: UserWarning: Do not pass an `input_shape`/`input_dim` argument to a layer. When using Sequential models, prefer using an `Input(shape)` object as the first layer in the model instead.\n",
      "  super().__init__(**kwargs)\n"
     ]
    },
    {
     "name": "stdout",
     "output_type": "stream",
     "text": [
      "Epoch 1/50\n",
      "\u001B[1m   1/3566\u001B[0m \u001B[37m━━━━━━━━━━━━━━━━━━━━\u001B[0m \u001B[1m1:25:20\u001B[0m 1s/step - loss: 0.0716 - mae: 0.2348"
     ]
    },
    {
     "name": "stderr",
     "output_type": "stream",
     "text": [
      "I0000 00:00:1760707644.331092    5496 cuda_dnn.cc:529] Loaded cuDNN version 91301\n"
     ]
    },
    {
     "name": "stdout",
     "output_type": "stream",
     "text": [
      "\u001B[1m3566/3566\u001B[0m \u001B[32m━━━━━━━━━━━━━━━━━━━━\u001B[0m\u001B[37m\u001B[0m \u001B[1m22s\u001B[0m 6ms/step - loss: 4.4005e-04 - mae: 0.0058 - val_loss: 1.9335e-05 - val_mae: 0.0024\n",
      "Epoch 2/50\n",
      "\u001B[1m3566/3566\u001B[0m \u001B[32m━━━━━━━━━━━━━━━━━━━━\u001B[0m\u001B[37m\u001B[0m \u001B[1m21s\u001B[0m 6ms/step - loss: 2.9749e-05 - mae: 0.0034 - val_loss: 2.6337e-05 - val_mae: 0.0037\n",
      "Epoch 3/50\n",
      "\u001B[1m3566/3566\u001B[0m \u001B[32m━━━━━━━━━━━━━━━━━━━━\u001B[0m\u001B[37m\u001B[0m \u001B[1m23s\u001B[0m 6ms/step - loss: 2.7220e-05 - mae: 0.0032 - val_loss: 2.0342e-05 - val_mae: 0.0028\n",
      "Epoch 4/50\n",
      "\u001B[1m3566/3566\u001B[0m \u001B[32m━━━━━━━━━━━━━━━━━━━━\u001B[0m\u001B[37m\u001B[0m \u001B[1m24s\u001B[0m 7ms/step - loss: 2.4696e-05 - mae: 0.0030 - val_loss: 2.1893e-05 - val_mae: 0.0033\n",
      "Epoch 5/50\n",
      "\u001B[1m3566/3566\u001B[0m \u001B[32m━━━━━━━━━━━━━━━━━━━━\u001B[0m\u001B[37m\u001B[0m \u001B[1m21s\u001B[0m 6ms/step - loss: 2.3083e-05 - mae: 0.0029 - val_loss: 3.0638e-05 - val_mae: 0.0044\n",
      "Epoch 6/50\n",
      "\u001B[1m3566/3566\u001B[0m \u001B[32m━━━━━━━━━━━━━━━━━━━━\u001B[0m\u001B[37m\u001B[0m \u001B[1m22s\u001B[0m 6ms/step - loss: 2.2023e-05 - mae: 0.0028 - val_loss: 1.5748e-05 - val_mae: 0.0023\n",
      "Epoch 7/50\n",
      "\u001B[1m3566/3566\u001B[0m \u001B[32m━━━━━━━━━━━━━━━━━━━━\u001B[0m\u001B[37m\u001B[0m \u001B[1m21s\u001B[0m 6ms/step - loss: 2.1152e-05 - mae: 0.0027 - val_loss: 1.6359e-05 - val_mae: 0.0025\n",
      "Epoch 8/50\n",
      "\u001B[1m3566/3566\u001B[0m \u001B[32m━━━━━━━━━━━━━━━━━━━━\u001B[0m\u001B[37m\u001B[0m \u001B[1m21s\u001B[0m 6ms/step - loss: 2.0807e-05 - mae: 0.0026 - val_loss: 1.5262e-05 - val_mae: 0.0022\n",
      "Epoch 9/50\n",
      "\u001B[1m3566/3566\u001B[0m \u001B[32m━━━━━━━━━━━━━━━━━━━━\u001B[0m\u001B[37m\u001B[0m \u001B[1m21s\u001B[0m 6ms/step - loss: 2.0694e-05 - mae: 0.0026 - val_loss: 1.7128e-05 - val_mae: 0.0026\n",
      "Epoch 10/50\n",
      "\u001B[1m3566/3566\u001B[0m \u001B[32m━━━━━━━━━━━━━━━━━━━━\u001B[0m\u001B[37m\u001B[0m \u001B[1m20s\u001B[0m 6ms/step - loss: 2.0000e-05 - mae: 0.0025 - val_loss: 1.4003e-05 - val_mae: 0.0019\n",
      "Epoch 11/50\n",
      "\u001B[1m3566/3566\u001B[0m \u001B[32m━━━━━━━━━━━━━━━━━━━━\u001B[0m\u001B[37m\u001B[0m \u001B[1m22s\u001B[0m 6ms/step - loss: 1.9992e-05 - mae: 0.0025 - val_loss: 1.5551e-05 - val_mae: 0.0024\n",
      "Epoch 12/50\n",
      "\u001B[1m3566/3566\u001B[0m \u001B[32m━━━━━━━━━━━━━━━━━━━━\u001B[0m\u001B[37m\u001B[0m \u001B[1m21s\u001B[0m 6ms/step - loss: 2.0405e-05 - mae: 0.0026 - val_loss: 1.4573e-05 - val_mae: 0.0020\n",
      "Epoch 13/50\n",
      "\u001B[1m3566/3566\u001B[0m \u001B[32m━━━━━━━━━━━━━━━━━━━━\u001B[0m\u001B[37m\u001B[0m \u001B[1m21s\u001B[0m 6ms/step - loss: 1.9691e-05 - mae: 0.0025 - val_loss: 1.7932e-05 - val_mae: 0.0027\n",
      "Epoch 14/50\n",
      "\u001B[1m3566/3566\u001B[0m \u001B[32m━━━━━━━━━━━━━━━━━━━━\u001B[0m\u001B[37m\u001B[0m \u001B[1m22s\u001B[0m 6ms/step - loss: 1.9656e-05 - mae: 0.0025 - val_loss: 1.3896e-05 - val_mae: 0.0019\n",
      "Epoch 15/50\n",
      "\u001B[1m3566/3566\u001B[0m \u001B[32m━━━━━━━━━━━━━━━━━━━━\u001B[0m\u001B[37m\u001B[0m \u001B[1m20s\u001B[0m 6ms/step - loss: 1.9528e-05 - mae: 0.0025 - val_loss: 1.4305e-05 - val_mae: 0.0020\n",
      "Epoch 16/50\n",
      "\u001B[1m3566/3566\u001B[0m \u001B[32m━━━━━━━━━━━━━━━━━━━━\u001B[0m\u001B[37m\u001B[0m \u001B[1m20s\u001B[0m 6ms/step - loss: 1.9410e-05 - mae: 0.0025 - val_loss: 1.5371e-05 - val_mae: 0.0023\n",
      "Epoch 17/50\n",
      "\u001B[1m3566/3566\u001B[0m \u001B[32m━━━━━━━━━━━━━━━━━━━━\u001B[0m\u001B[37m\u001B[0m \u001B[1m22s\u001B[0m 6ms/step - loss: 1.9128e-05 - mae: 0.0024 - val_loss: 1.3981e-05 - val_mae: 0.0019\n",
      "Epoch 18/50\n",
      "\u001B[1m3566/3566\u001B[0m \u001B[32m━━━━━━━━━━━━━━━━━━━━\u001B[0m\u001B[37m\u001B[0m \u001B[1m22s\u001B[0m 6ms/step - loss: 1.9496e-05 - mae: 0.0025 - val_loss: 1.3732e-05 - val_mae: 0.0018\n",
      "Epoch 19/50\n",
      "\u001B[1m3566/3566\u001B[0m \u001B[32m━━━━━━━━━━━━━━━━━━━━\u001B[0m\u001B[37m\u001B[0m \u001B[1m23s\u001B[0m 6ms/step - loss: 1.9128e-05 - mae: 0.0024 - val_loss: 1.4182e-05 - val_mae: 0.0020\n",
      "Epoch 20/50\n",
      "\u001B[1m3566/3566\u001B[0m \u001B[32m━━━━━━━━━━━━━━━━━━━━\u001B[0m\u001B[37m\u001B[0m \u001B[1m22s\u001B[0m 6ms/step - loss: 1.9366e-05 - mae: 0.0024 - val_loss: 1.3964e-05 - val_mae: 0.0019\n",
      "Epoch 21/50\n",
      "\u001B[1m3566/3566\u001B[0m \u001B[32m━━━━━━━━━━━━━━━━━━━━\u001B[0m\u001B[37m\u001B[0m \u001B[1m23s\u001B[0m 6ms/step - loss: 1.9068e-05 - mae: 0.0024 - val_loss: 1.4394e-05 - val_mae: 0.0021\n",
      "Epoch 22/50\n",
      "\u001B[1m3566/3566\u001B[0m \u001B[32m━━━━━━━━━━━━━━━━━━━━\u001B[0m\u001B[37m\u001B[0m \u001B[1m22s\u001B[0m 6ms/step - loss: 1.9057e-05 - mae: 0.0024 - val_loss: 1.3928e-05 - val_mae: 0.0019\n",
      "Epoch 23/50\n",
      "\u001B[1m3566/3566\u001B[0m \u001B[32m━━━━━━━━━━━━━━━━━━━━\u001B[0m\u001B[37m\u001B[0m \u001B[1m22s\u001B[0m 6ms/step - loss: 1.8976e-05 - mae: 0.0024 - val_loss: 1.3959e-05 - val_mae: 0.0019\n",
      "Epoch 24/50\n",
      "\u001B[1m3566/3566\u001B[0m \u001B[32m━━━━━━━━━━━━━━━━━━━━\u001B[0m\u001B[37m\u001B[0m \u001B[1m22s\u001B[0m 6ms/step - loss: 1.8943e-05 - mae: 0.0024 - val_loss: 1.3891e-05 - val_mae: 0.0019\n",
      "Epoch 25/50\n",
      "\u001B[1m3566/3566\u001B[0m \u001B[32m━━━━━━━━━━━━━━━━━━━━\u001B[0m\u001B[37m\u001B[0m \u001B[1m21s\u001B[0m 6ms/step - loss: 1.8958e-05 - mae: 0.0024 - val_loss: 1.4160e-05 - val_mae: 0.0020\n",
      "Epoch 26/50\n",
      "\u001B[1m3566/3566\u001B[0m \u001B[32m━━━━━━━━━━━━━━━━━━━━\u001B[0m\u001B[37m\u001B[0m \u001B[1m21s\u001B[0m 6ms/step - loss: 1.8950e-05 - mae: 0.0024 - val_loss: 1.4330e-05 - val_mae: 0.0020\n",
      "Epoch 27/50\n",
      "\u001B[1m3566/3566\u001B[0m \u001B[32m━━━━━━━━━━━━━━━━━━━━\u001B[0m\u001B[37m\u001B[0m \u001B[1m22s\u001B[0m 6ms/step - loss: 1.8820e-05 - mae: 0.0024 - val_loss: 1.3810e-05 - val_mae: 0.0019\n",
      "Epoch 28/50\n",
      "\u001B[1m3566/3566\u001B[0m \u001B[32m━━━━━━━━━━━━━━━━━━━━\u001B[0m\u001B[37m\u001B[0m \u001B[1m21s\u001B[0m 6ms/step - loss: 1.8735e-05 - mae: 0.0023 - val_loss: 1.3829e-05 - val_mae: 0.0019\n"
     ]
    }
   ],
   "execution_count": 6
  },
  {
   "metadata": {
    "ExecuteTime": {
     "end_time": "2025-10-17T13:42:21.136064Z",
     "start_time": "2025-10-17T13:42:20.958808Z"
    }
   },
   "cell_type": "code",
   "source": [
    "import matplotlib.pyplot as plt\n",
    "\n",
    "import matplotlib.pyplot as plt\n",
    "\n",
    "# === Parameters ===\n",
    "xx = 500  # number of last candles to show\n",
    "\n",
    "# === Select last n rows ===\n",
    "df_tail = df.tail(xx)\n",
    "\n",
    "# === Plot Close Price ===\n",
    "plt.figure(figsize=(12, 6))\n",
    "plt.plot(df_tail['DATETIME'], df_tail['CLOSE'], color='blue', linewidth=1.5)\n",
    "plt.title(f'Last Forex Candles - Close Price', fontsize=14)\n",
    "plt.xlabel('Date / Time')\n",
    "plt.ylabel('Close Price')\n",
    "plt.grid(True, linestyle='--', alpha=0.6)\n",
    "plt.tight_layout()\n",
    "plt.show()\n"
   ],
   "id": "8574b967d208b42c",
   "outputs": [
    {
     "data": {
      "text/plain": [
       "<Figure size 1200x600 with 1 Axes>"
      ],
      "image/png": "[encoded data removed]"
     },
     "metadata": {},
     "output_type": "display_data"
    }
   ],
   "execution_count": 7
  },
  {
   "metadata": {
    "ExecuteTime": {
     "end_time": "2025-10-17T13:49:48.504685Z",
     "start_time": "2025-10-17T13:49:48.344124Z"
    }
   },
   "cell_type": "code",
   "source": [
    "# === Load and clean the last 60 rows from a separate CSV file for prediction ===\n",
    "# --------------------------\n",
    "# === Prediction block ===\n",
    "# --------------------------\n",
    "# Given_time should match format similar to the DATETIME column.\n",
    "# Example: \"2025.08.13 04:00:00\"  (note: use a space, not a tab, for clarity)\n",
    "given_time = \"2025.07.31 10:00:00\"\n",
    "given_dt = pd.to_datetime(given_time, errors='coerce')\n",
    "if pd.isna(given_dt):\n",
    "    raise ValueError(\"given_time could not be parsed. Use format 'YYYY.MM.DD HH:MM:SS' or similar.\")\n",
    "\n",
    "# find the starting index in the reindexed df (not df_model)\n",
    "# We used df reset earlier; find the row in df (not df_model) that matches given_dt.\n",
    "# If you want to use df_model (i.e. after trimming nn/mm), map given_dt to df_model index:\n",
    "df_full = df.copy()  # this is the reindexed, reset dataframe with full range\n",
    "# find row in df_full\n",
    "matches = df_full.index[df_full['DATETIME'] == given_dt].tolist()\n",
    "if not matches:\n",
    "    raise ValueError(f\"{given_dt} not found in the dataset index after reindexing. Choose another time within range.\")\n",
    "start_idx_full = matches[0]\n",
    "\n",
    "# If you want the window to be located inside df_model (i.e., after trimming nn rows),\n",
    "# compute its index in df_model:\n",
    "start_idx_in_df_model = start_idx_full - nn\n",
    "if start_idx_in_df_model < 0 or (start_idx_in_df_model + WINDOW_SIZE) > len(df_model):\n",
    "    raise ValueError(\"Requested start time is outside the usable df_model window (after applying nn/mm).\")\n",
    "\n",
    "# Extract previous WINDOW_SIZE rows starting at start_idx_in_df_model (so it is the historical window)\n",
    "input_df = df_model.iloc[start_idx_in_df_model : start_idx_in_df_model + WINDOW_SIZE].copy()\n",
    "if input_df.shape[0] != WINDOW_SIZE:\n",
    "    raise RuntimeError(\"input_df does not contain WINDOW_SIZE rows - check start index and dataset bounds.\")\n",
    "\n",
    "# scale input features with the same scaler used for training\n",
    "input_scaled = scaler.transform(input_df[features])  # shape: (WINDOW_SIZE, n_features)\n",
    "input_sequence = np.expand_dims(input_scaled, axis=0)  # shape: (1, WINDOW_SIZE, n_features)\n",
    "\n",
    "# Predict\n",
    "pred = model.predict(input_sequence)  # shape (1, horizon)\n",
    "pred = pred.reshape(-1, 1)            # shape (horizon, 1) for inverse transform\n",
    "prediction_close = close_scaler.inverse_transform(pred).flatten()  # final predicted CLOSE prices\n",
    "\n",
    "print(\"Predicted CLOSEs (next {} candles):\".format(FORECAST_HORIZON))\n",
    "print(prediction_close)"
   ],
   "id": "7ad768ead6620c73",
   "outputs": [
    {
     "name": "stdout",
     "output_type": "stream",
     "text": [
      "\u001B[1m1/1\u001B[0m \u001B[32m━━━━━━━━━━━━━━━━━━━━\u001B[0m\u001B[37m\u001B[0m \u001B[1m0s\u001B[0m 95ms/step\n",
      "Predicted CLOSEs (next 10 candles):\n",
      "[37.09092  37.01791  37.02711  37.05371  37.039764 37.01468  36.991955\n",
      " 37.010567 37.012035 36.996124]\n"
     ]
    }
   ],
   "execution_count": 12
  },
  {
   "metadata": {},
   "cell_type": "markdown",
   "source": "# plot section",
   "id": "6456b78cc1b88128"
  },
  {
   "metadata": {
    "ExecuteTime": {
     "end_time": "2025-10-17T13:49:52.357179Z",
     "start_time": "2025-10-17T13:49:52.323966Z"
    }
   },
   "cell_type": "code",
   "source": [
    "# --- 2. Extract last 4 candles from input_df ---\n",
    "historical_df = input_df.tail(4).copy()\n",
    "\n",
    "# --- 3. Extract next 10 candles immediately after input_df ---\n",
    "actual_future_df = df.iloc[start_idx + WINDOW_SIZE - 1 : start_idx + WINDOW_SIZE + FORECAST_HORIZON].copy()\n",
    "\n",
    "plot_title = 'Actual vs Predicted Forex Closing Prices'\n",
    "output_plot_path = None  # e.g., 'output.png'\n",
    "\n",
    "# LOAD DATA FROM PREDICTION\n",
    "\n",
    "last_timestamp = input_df['DATETIME'].iloc[-1]\n",
    "datetime_index = pd.date_range(start=last_timestamp + pd.Timedelta(hours=1), periods=len(prediction[0]), freq='h')\n",
    "\n",
    "# Create DataFrame\n",
    "predicted_df = pd.DataFrame({'DATETIME': datetime_index, 'CLOSE': prediction[0]})"
   ],
   "id": "d4d7751243eff18e",
   "outputs": [
    {
     "ename": "NameError",
     "evalue": "name 'start_idx' is not defined",
     "output_type": "error",
     "traceback": [
      "\u001B[31m---------------------------------------------------------------------------\u001B[39m",
      "\u001B[31mNameError\u001B[39m                                 Traceback (most recent call last)",
      "\u001B[36mCell\u001B[39m\u001B[36m \u001B[39m\u001B[32mIn[13]\u001B[39m\u001B[32m, line 5\u001B[39m\n\u001B[32m      2\u001B[39m historical_df = input_df.tail(\u001B[32m4\u001B[39m).copy()\n\u001B[32m      4\u001B[39m \u001B[38;5;66;03m# --- 3. Extract next 10 candles immediately after input_df ---\u001B[39;00m\n\u001B[32m----> \u001B[39m\u001B[32m5\u001B[39m actual_future_df = df.iloc[\u001B[43mstart_idx\u001B[49m + WINDOW_SIZE - \u001B[32m1\u001B[39m : start_idx + WINDOW_SIZE + FORECAST_HORIZON].copy()\n\u001B[32m      7\u001B[39m plot_title = \u001B[33m'\u001B[39m\u001B[33mActual vs Predicted Forex Closing Prices\u001B[39m\u001B[33m'\u001B[39m\n\u001B[32m      8\u001B[39m output_plot_path = \u001B[38;5;28;01mNone\u001B[39;00m  \u001B[38;5;66;03m# e.g., 'output.png'\u001B[39;00m\n",
      "\u001B[31mNameError\u001B[39m: name 'start_idx' is not defined"
     ]
    }
   ],
   "execution_count": 13
  },
  {
   "metadata": {},
   "cell_type": "code",
   "source": [
    "import sys\n",
    "sys.path.insert(1, '../utils')\n",
    "import forex_plot_utils_2\n",
    "\n",
    "# PLOT\n",
    "forex_plot_utils_2.plot_all_series(\n",
    "    historical_df=historical_df,\n",
    "    predicted_df=predicted_df,\n",
    "    actual_future_df=actual_future_df,\n",
    "    title=plot_title,\n",
    "    output_path=output_plot_path\n",
    ")"
   ],
   "id": "a6e7b86736ad5b51",
   "outputs": [],
   "execution_count": null
  },
  {
   "metadata": {},
   "cell_type": "code",
   "source": [
    "from datetime import datetime\n",
    "import os\n",
    "import pandas as pd\n",
    "import matplotlib.pyplot as plt\n",
    "\n",
    "# === Create timestamp and paths ===\n",
    "timestamp = datetime.now().strftime('%Y%m%d_%H%M%S')\n",
    "model_filename = f'model_{timestamp}.keras'\n",
    "model_path = os.path.join('saved_models', model_filename)\n",
    "\n",
    "# Directory to hold logs and extras\n",
    "log_dir = os.path.join('saved_models', f'model_{timestamp}_logs')\n",
    "os.makedirs(log_dir, exist_ok=True)\n",
    "\n",
    "# === Save model ===\n",
    "model.save(model_path)\n",
    "\n",
    "# === Save training history ===\n",
    "history_df = pd.DataFrame(history.history)\n",
    "history_df.to_csv(os.path.join(log_dir, 'training_history.csv'), index=False)\n",
    "\n",
    "# === Save training loss plot ===\n",
    "plt.figure()\n",
    "plt.plot(history.history['loss'], label='Training Loss')\n",
    "plt.plot(history.history['val_loss'], label='Validation Loss')\n",
    "plt.title('Training Loss Over Epochs')\n",
    "plt.xlabel('Epoch')\n",
    "plt.ylabel('Loss')\n",
    "plt.legend()\n",
    "plt.grid(True)\n",
    "plt.savefig(os.path.join(log_dir, 'training_loss.png'))\n",
    "plt.close()\n",
    "\n",
    "# === Save model summary and final performance ===\n",
    "with open(os.path.join(log_dir, 'model_log.txt'), 'w') as f:\n",
    "    model.summary(print_fn=lambda x: f.write(x + '\\n'))\n",
    "    final_train_loss = history.history['loss'][-1]\n",
    "    final_test_loss, final_test_mae = model.evaluate(X_test, y_test, verbose=0)\n",
    "    f.write(f'\\nFinal Training Loss: {final_train_loss:.6f}\\n')\n",
    "    f.write(f'Final Test Loss: {final_test_loss:.6f}\\n')\n",
    "    f.write(f'Final Test MAE : {final_test_mae:.6f}\\n')\n"
   ],
   "id": "2bbbacfc2fb3329a",
   "outputs": [],
   "execution_count": null
  },
  {
   "metadata": {},
   "cell_type": "code",
   "source": [
    "# Load the trained model\n",
    "from tensorflow import keras\n",
    "model = keras.models.load_model('saved_models/model_20251014_073309.keras')"
   ],
   "id": "d7da78eb7a6aa931",
   "outputs": [],
   "execution_count": null
  },
  {
   "metadata": {},
   "cell_type": "code",
   "source": "",
   "id": "76283b1b2280e6fd",
   "outputs": [],
   "execution_count": null
  }
 ],
 "metadata": {
  "kernelspec": {
   "name": "python3",
   "language": "python",
   "display_name": "Python 3 (ipykernel)"
  }
 },
 "nbformat": 5,
 "nbformat_minor": 9
}
