{
 "cells": [
  {
   "metadata": {},
   "cell_type": "markdown",
   "source": [
    "# aaaa\n",
    "\n",
    "## What's new:\n",
    "\n",
    "1-\n"
   ],
   "id": "67a9ecb3258e8606"
  },
  {
   "metadata": {
    "ExecuteTime": {
     "end_time": "2025-09-17T04:22:02.274364Z",
     "start_time": "2025-09-17T04:22:02.272609Z"
    }
   },
   "cell_type": "code",
   "source": "import pandas as pd",
   "id": "c980d7d41b42c555",
   "outputs": [],
   "execution_count": 13
  },
  {
   "metadata": {
    "ExecuteTime": {
     "end_time": "2025-09-17T04:22:03.328806Z",
     "start_time": "2025-09-17T04:22:03.280456Z"
    }
   },
   "cell_type": "code",
   "source": [
    "# 1- Load Features\n",
    "df = pd.read_csv('XAGUSD-197001010000--H1-rates.csv', sep='\\t')\n"
   ],
   "id": "27be8804efc0b24c",
   "outputs": [],
   "execution_count": 14
  },
  {
   "metadata": {
    "ExecuteTime": {
     "end_time": "2025-09-17T04:22:05.006486Z",
     "start_time": "2025-09-17T04:22:05.001413Z"
    }
   },
   "cell_type": "code",
   "source": [
    "# 2- Load 60 rows from a separate CSV file\n",
    "input_df_1 = pd.read_csv('datasets-29-11111/new-data-for-test/rows-60-from-20240503/rows-60-from-20240503.csv', sep='\\t')"
   ],
   "id": "de46c37a98ec74fc",
   "outputs": [],
   "execution_count": 15
  },
  {
   "metadata": {},
   "cell_type": "code",
   "outputs": [],
   "execution_count": null,
   "source": [
    "# 3- Load latest 4 rows from 60 rows from a separate CSV file\n",
    "historical_df_1 = pd.read_csv('datasets-29-11111/new-data-for-test/rows-60-from-20240503/latest-4-for-history.csv', sep='\\t')"
   ],
   "id": "523084a040979020"
  },
  {
   "metadata": {
    "ExecuteTime": {
     "end_time": "2025-09-17T04:22:06.181780Z",
     "start_time": "2025-09-17T04:22:06.177264Z"
    }
   },
   "cell_type": "code",
   "source": [
    "# 4- Load 10 rows after 60 rows from a separate CSV file\n",
    "actual_future_df_1 = pd.read_csv('datasets-29-11111/new-data-for-test/rows-60-from-20240503/after.csv', sep='\\t')\n"
   ],
   "id": "d4d7751243eff18e",
   "outputs": [],
   "execution_count": 16
  }
 ],
 "metadata": {
  "kernelspec": {
   "name": "python3",
   "language": "python",
   "display_name": "Python 3 (ipykernel)"
  }
 },
 "nbformat": 5,
 "nbformat_minor": 9
}
