{
 "cells": [
  {
   "metadata": {},
   "cell_type": "markdown",
   "source": [
    "# aaaa\n",
    "\n",
    "## What's new:\n",
    "\n",
    "1-\n"
   ],
   "id": "67a9ecb3258e8606"
  },
  {
   "metadata": {
    "ExecuteTime": {
     "end_time": "2025-09-17T04:09:29.835247Z",
     "start_time": "2025-09-17T04:09:29.831797Z"
    }
   },
   "cell_type": "code",
   "source": "import pandas as pd",
   "id": "c980d7d41b42c555",
   "outputs": [],
   "execution_count": 6
  },
  {
   "metadata": {
    "ExecuteTime": {
     "end_time": "2025-09-17T04:09:31.668355Z",
     "start_time": "2025-09-17T04:09:31.608008Z"
    }
   },
   "cell_type": "code",
   "source": [
    "# 1- Load Features\n",
    "df = pd.read_csv('XAGUSD-197001010000--H1-rates.csv', sep='\\t')\n"
   ],
   "id": "27be8804efc0b24c",
   "outputs": [],
   "execution_count": 7
  },
  {
   "metadata": {
    "ExecuteTime": {
     "end_time": "2025-09-17T04:09:33.800475Z",
     "start_time": "2025-09-17T04:09:33.795990Z"
    }
   },
   "cell_type": "code",
   "source": [
    "# === Load last 60 rows from a separate CSV file for prediction ===\n",
    "input_df = pd.read_csv('datasets-29-11111/new-data-for-test/rows-60-from-20240503/rows-60-from-20240503.csv', sep='\\t')"
   ],
   "id": "de46c37a98ec74fc",
   "outputs": [],
   "execution_count": 8
  },
  {
   "metadata": {},
   "cell_type": "code",
   "source": [
    "# LOAD DATA FROM CSVS\n",
    "historical_df = pd.read_csv('datasets-29-11111/new-data-for-test/rows-60-from-20240503/latest-4-for-history.csv', sep='\\t')\n",
    "actual_future_df = pd.read_csv('datasets-29-11111/new-data-for-test/rows-60-from-20240503/after.csv', sep='\\t')\n"
   ],
   "id": "d4d7751243eff18e",
   "outputs": [],
   "execution_count": null
  }
 ],
 "metadata": {
  "kernelspec": {
   "name": "python3",
   "language": "python",
   "display_name": "Python 3 (ipykernel)"
  }
 },
 "nbformat": 5,
 "nbformat_minor": 9
}
