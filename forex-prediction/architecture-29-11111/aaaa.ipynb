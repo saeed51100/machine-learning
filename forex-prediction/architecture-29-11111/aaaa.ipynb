{
 "cells": [
  {
   "metadata": {},
   "cell_type": "markdown",
   "source": [
    "# aaaa\n",
    "\n",
    "## What's new:\n",
    "\n",
    "1-\n"
   ],
   "id": "67a9ecb3258e8606"
  },
  {
   "metadata": {},
   "cell_type": "code",
   "source": "import pandas as pd",
   "id": "c980d7d41b42c555",
   "outputs": [],
   "execution_count": null
  },
  {
   "metadata": {},
   "cell_type": "code",
   "source": [
    "\n",
    "# --- Parameters ---\n",
    "given_time = \"2024.05.03 01:00:00\"   # starting datetime\n",
    "n = 60                               # number of candles to extract starting from given_time\n",
    "future_horizon = 10                  # how many candles after input_df to extract"
   ],
   "id": "9a29e0ad6cfa9f1c",
   "outputs": [],
   "execution_count": null
  },
  {
   "metadata": {},
   "cell_type": "code",
   "source": [
    "# 1- Load Features\n",
    "df = pd.read_csv('XAGUSD-197001010000--H1-rates.csv', sep='\\t')\n",
    "# Rename columns for easier access\n",
    "df.rename(columns={\n",
    "    '<DATE>': 'DATE',\n",
    "    '<TIME>': 'TIME',\n",
    "    '<OPEN>': 'OPEN',\n",
    "    '<HIGH>': 'HIGH',\n",
    "    '<LOW>': 'LOW',\n",
    "    '<CLOSE>': 'CLOSE',\n",
    "    '<TICKVOL>': 'TICKVOL',\n",
    "    '<VOL>': 'VOL',\n",
    "    '<SPREAD>': 'SPREAD'\n",
    "}, inplace=True)\n",
    "df['DATETIME'] = pd.to_datetime(df['DATE'] + ' ' + df['TIME'])\n"
   ],
   "id": "27be8804efc0b24c",
   "outputs": [],
   "execution_count": null
  },
  {
   "metadata": {},
   "cell_type": "code",
   "source": [
    "# 2- Load 60 rows from a separate CSV file\n",
    "input_df_1 = pd.read_csv('datasets-29-11111/new-data-for-test/rows-60-from-20240503/rows-60-from-20240503.csv', sep='\\t')"
   ],
   "id": "de46c37a98ec74fc",
   "outputs": [],
   "execution_count": null
  },
  {
   "metadata": {},
   "cell_type": "code",
   "source": [
    "# 3- Load latest 4 rows from 60 rows from a separate CSV file\n",
    "historical_df_1 = pd.read_csv('datasets-29-11111/new-data-for-test/rows-60-from-20240503/latest-4-for-history.csv', sep='\\t')"
   ],
   "id": "523084a040979020",
   "outputs": [],
   "execution_count": null
  },
  {
   "metadata": {},
   "cell_type": "code",
   "source": [
    "# 4- Load 10 rows after 60 rows from a separate CSV file\n",
    "actual_future_df_1 = pd.read_csv('datasets-29-11111/new-data-for-test/rows-60-from-20240503/after.csv', sep='\\t')\n"
   ],
   "id": "d4d7751243eff18e",
   "outputs": [],
   "execution_count": null
  },
  {
   "metadata": {},
   "cell_type": "code",
   "source": [
    "\n",
    "# --- Ensure DATETIME column is datetime type ---\n",
    "df['DATETIME'] = pd.to_datetime(df['DATE'] + ' ' + df['TIME'])\n",
    "\n",
    "# --- Find the starting index ---\n",
    "start_idx = df.index[df['DATETIME'] == pd.to_datetime(given_time)][0]\n",
    "\n",
    "# --- 1. Extract next n candles ---\n",
    "input_df = df.iloc[start_idx : start_idx + n].copy()\n",
    "\n",
    "# --- 2. Extract last 4 candles from input_df ---\n",
    "historical_df = input_df.tail(4).copy()\n",
    "\n",
    "# --- 3. Extract next 10 candles immediately after input_df ---\n",
    "actual_future_df = df.iloc[start_idx + n : start_idx + n + future_horizon].copy()\n"
   ],
   "id": "b3eface880c4fd6d",
   "outputs": [],
   "execution_count": null
  },
  {
   "metadata": {},
   "cell_type": "code",
   "source": "input_df",
   "id": "37c533e36a52c263",
   "outputs": [],
   "execution_count": null
  },
  {
   "metadata": {},
   "cell_type": "code",
   "source": "input_df_1",
   "id": "2ac9929c1f1e8fec",
   "outputs": [],
   "execution_count": null
  }
 ],
 "metadata": {
  "kernelspec": {
   "name": "python3",
   "language": "python",
   "display_name": "Python 3 (ipykernel)"
  }
 },
 "nbformat": 5,
 "nbformat_minor": 9
}
