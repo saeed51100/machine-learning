{
 "cells": [
  {
   "metadata": {},
   "cell_type": "markdown",
   "source": [
    "# aaaa\n",
    "\n",
    "## What's new:\n",
    "\n",
    "1-\n"
   ],
   "id": "67a9ecb3258e8606"
  },
  {
   "metadata": {
    "ExecuteTime": {
     "end_time": "2025-09-17T03:50:57.368516Z",
     "start_time": "2025-09-17T03:50:56.924446Z"
    }
   },
   "cell_type": "code",
   "source": "import pandas as pd",
   "id": "c980d7d41b42c555",
   "outputs": [],
   "execution_count": 1
  },
  {
   "metadata": {
    "ExecuteTime": {
     "end_time": "2025-09-17T03:52:41.899012Z",
     "start_time": "2025-09-17T03:52:41.759495Z"
    }
   },
   "cell_type": "code",
   "source": [
    "# 1- Load Features\n",
    "df = pd.read_csv('XAGUSD-197001010000--H1-rates.csv', sep='\\t')\n"
   ],
   "id": "27be8804efc0b24c",
   "outputs": [],
   "execution_count": 5
  },
  {
   "metadata": {},
   "cell_type": "code",
   "outputs": [],
   "execution_count": null,
   "source": [
    "# === Load last 60 rows from a separate CSV file for prediction ===\n",
    "input_df = pd.read_csv('datasets-29-11111/new-data-for-test/rows-60-from-20240503/rows-60-from-20240503.csv', sep='\\t')\n",
    "input_df.dropna(inplace=True)"
   ],
   "id": "de46c37a98ec74fc"
  },
  {
   "metadata": {},
   "cell_type": "code",
   "source": [
    "import sys\n",
    "\n",
    "sys.path.insert(1, '../utils')\n",
    "import forex_plot_utils\n",
    "import os\n",
    "\n",
    "# PARAMETERS\n",
    "csv1_path = 'datasets-29-11111/new-data-for-test/rows-60-from-20240503/latest-4-for-history.csv'\n",
    "csv3_path = 'datasets-29-11111/new-data-for-test/rows-60-from-20240503/after.csv'\n",
    "plot_title = 'Actual vs Predicted Forex Closing Prices'\n",
    "output_plot_path = None  # e.g., 'output.png'\n",
    "\n",
    "# LOAD DATA FROM CSVS\n",
    "historical_df = forex_plot_utils.load_csv_with_datetime(csv1_path) if os.path.exists(csv1_path) else None\n",
    "actual_future_df = forex_plot_utils.load_csv_with_datetime(csv3_path) if os.path.exists(csv3_path) else None\n",
    "\n",
    "# LOAD DATA FROM PREDICTION\n",
    "\n",
    "# Combine <DATE> and <TIME> columns into a datetime\n",
    "input_df['DATETIME'] = pd.to_datetime(input_df['DATE'] + ' ' + input_df['TIME'])\n",
    "\n",
    "last_timestamp = input_df['DATETIME'].iloc[-1]"
   ],
   "id": "d4d7751243eff18e",
   "outputs": [],
   "execution_count": null
  }
 ],
 "metadata": {
  "kernelspec": {
   "name": "python3",
   "language": "python",
   "display_name": "Python 3 (ipykernel)"
  }
 },
 "nbformat": 5,
 "nbformat_minor": 9
}
