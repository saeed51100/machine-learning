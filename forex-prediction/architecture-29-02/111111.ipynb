{
 "cells": [
  {
   "metadata": {},
   "cell_type": "markdown",
   "source": [
    "# architecture-29-02\n",
    "\n",
    "## What's new:\n",
    "\n",
    "1- Extract data rows with a formula instead of manually extracting them.\n"
   ],
   "id": "67a9ecb3258e8606"
  },
  {
   "metadata": {
    "ExecuteTime": {
     "end_time": "2025-10-06T12:28:43.890292Z",
     "start_time": "2025-10-06T12:28:40.995703Z"
    }
   },
   "cell_type": "code",
   "source": [
    "import pandas as pd\n",
    "import numpy as np\n",
    "from tensorflow.keras.models import Sequential\n",
    "from tensorflow.keras.layers import LSTM, Dense, Dropout\n",
    "from sklearn.preprocessing import MinMaxScaler\n",
    "from sklearn.model_selection import train_test_split\n"
   ],
   "id": "c980d7d41b42c555",
   "outputs": [
    {
     "name": "stderr",
     "output_type": "stream",
     "text": [
      "2025-10-06 15:58:41.526082: I tensorflow/core/util/port.cc:153] oneDNN custom operations are on. You may see slightly different numerical results due to floating-point round-off errors from different computation orders. To turn them off, set the environment variable `TF_ENABLE_ONEDNN_OPTS=0`.\n",
      "2025-10-06 15:58:41.537175: E external/local_xla/xla/stream_executor/cuda/cuda_fft.cc:477] Unable to register cuFFT factory: Attempting to register factory for plugin cuFFT when one has already been registered\n",
      "WARNING: All log messages before absl::InitializeLog() is called are written to STDERR\n",
      "E0000 00:00:1759753721.548897    9127 cuda_dnn.cc:8310] Unable to register cuDNN factory: Attempting to register factory for plugin cuDNN when one has already been registered\n",
      "E0000 00:00:1759753721.552652    9127 cuda_blas.cc:1418] Unable to register cuBLAS factory: Attempting to register factory for plugin cuBLAS when one has already been registered\n",
      "2025-10-06 15:58:41.564746: I tensorflow/core/platform/cpu_feature_guard.cc:210] This TensorFlow binary is optimized to use available CPU instructions in performance-critical operations.\n",
      "To enable the following instructions: AVX512F AVX512_VNNI, in other operations, rebuild TensorFlow with the appropriate compiler flags.\n"
     ]
    }
   ],
   "execution_count": 1
  },
  {
   "metadata": {
    "ExecuteTime": {
     "end_time": "2025-10-06T12:28:48.375939Z",
     "start_time": "2025-10-06T12:28:48.315876Z"
    }
   },
   "cell_type": "code",
   "source": [
    "# Load and Scaling Features\n",
    "\n",
    "df = pd.read_csv('XAGUSD-197001010000--H1-rates.csv', sep='\\t')\n",
    "\n",
    "# Select features to scale\n",
    "features = ['<OPEN>', '<HIGH>', '<LOW>', '<CLOSE>', '<TICKVOL>']\n",
    "\n",
    "# Apply MinMaxScaler\n",
    "scaler = MinMaxScaler()\n",
    "scaled = scaler.fit_transform(df[features])"
   ],
   "id": "27be8804efc0b24c",
   "outputs": [],
   "execution_count": 2
  },
  {
   "metadata": {
    "ExecuteTime": {
     "end_time": "2025-10-06T12:28:49.694953Z",
     "start_time": "2025-10-06T12:28:49.689488Z"
    }
   },
   "cell_type": "code",
   "source": [
    "close_scaler = MinMaxScaler()\n",
    "scaled_close = close_scaler.fit_transform(df[['<CLOSE>']])"
   ],
   "id": "3813efa7b7b96154",
   "outputs": [],
   "execution_count": 3
  },
  {
   "metadata": {
    "ExecuteTime": {
     "end_time": "2025-10-06T12:28:54.386705Z",
     "start_time": "2025-10-06T12:28:54.094839Z"
    }
   },
   "cell_type": "code",
   "source": [
    "# Prepare sequences\n",
    "def create_sequences(features, target, window, horizon):\n",
    "    X, y = [], []\n",
    "    for i in range(window, len(features) - horizon):\n",
    "        X.append(features[i - window:i])\n",
    "        y.append(target[i:i + horizon])\n",
    "    return np.array(X), np.array(y)\n",
    "\n",
    "X, y = create_sequences(scaled, scaled_close, 60, 10)\n",
    "\n",
    "X_train, X_test, y_train, y_test = train_test_split(X, y, test_size=0.2, shuffle=False)\n",
    "\n",
    "# Build basic LSTM model\n",
    "model = Sequential([\n",
    "    LSTM(32, input_shape=(X_train.shape[1], X_train.shape[2])),\n",
    "    Dense(10)\n",
    "])\n",
    "model.compile(optimizer='adam', loss='mse', metrics=['mae'])\n",
    "\n"
   ],
   "id": "cb7841301ce30d5b",
   "outputs": [
    {
     "name": "stderr",
     "output_type": "stream",
     "text": [
      "2025-10-06 15:58:54.309475: E external/local_xla/xla/stream_executor/cuda/cuda_driver.cc:152] failed call to cuInit: INTERNAL: CUDA error: Failed call to cuInit: CUDA_ERROR_UNKNOWN: unknown error\n",
      "2025-10-06 15:58:54.309495: I external/local_xla/xla/stream_executor/cuda/cuda_diagnostics.cc:137] retrieving CUDA diagnostic information for host: saeed-VivoBook-ASUSLaptop-X513EPN-R528EP\n",
      "2025-10-06 15:58:54.309499: I external/local_xla/xla/stream_executor/cuda/cuda_diagnostics.cc:144] hostname: saeed-VivoBook-ASUSLaptop-X513EPN-R528EP\n",
      "2025-10-06 15:58:54.309578: I external/local_xla/xla/stream_executor/cuda/cuda_diagnostics.cc:168] libcuda reported version is: 570.172.8\n",
      "2025-10-06 15:58:54.309589: I external/local_xla/xla/stream_executor/cuda/cuda_diagnostics.cc:172] kernel reported version is: 570.172.8\n",
      "2025-10-06 15:58:54.309592: I external/local_xla/xla/stream_executor/cuda/cuda_diagnostics.cc:259] kernel version seems to match DSO: 570.172.8\n",
      "/home/saeed/repositories/machine-learning/forex-prediction/envs/lib/python3.11/site-packages/keras/src/layers/rnn/rnn.py:199: UserWarning: Do not pass an `input_shape`/`input_dim` argument to a layer. When using Sequential models, prefer using an `Input(shape)` object as the first layer in the model instead.\n",
      "  super().__init__(**kwargs)\n"
     ]
    }
   ],
   "execution_count": 4
  },
  {
   "metadata": {},
   "cell_type": "code",
   "source": [
    "history = model.fit(\n",
    "    X_train, y_train,\n",
    "    epochs=50,\n",
    "    verbose=1,\n",
    "    validation_split=0.2,\n",
    ")"
   ],
   "id": "c5ee8f4f9cc8052",
   "outputs": [],
   "execution_count": null
  },
  {
   "metadata": {
    "ExecuteTime": {
     "end_time": "2025-10-06T12:28:58.311354Z",
     "start_time": "2025-10-06T12:28:58.224088Z"
    }
   },
   "cell_type": "code",
   "source": [
    "# If X.dtype or y.dtype is float64 or float128, convert them (next step). If NaN/Inf is True, fix those entries.\n",
    "\n",
    "import numpy as np, tensorflow as tf\n",
    "print(\"tf:\", tf.__version__)\n",
    "print(\"GPUs:\", tf.config.list_physical_devices('GPU'))\n",
    "print(\"X dtype / y dtype:\", X.dtype, y.dtype)\n",
    "print(\"X shape / y shape:\", X.shape, y.shape)\n",
    "print(\"Any NaN/Inf in X/y:\", np.any(np.isnan(X)), np.any(np.isinf(X)), np.any(np.isnan(y)), np.any(np.isinf(y)))"
   ],
   "id": "6f62c1c657a25705",
   "outputs": [
    {
     "name": "stdout",
     "output_type": "stream",
     "text": [
      "tf: 2.18.0\n",
      "GPUs: []\n",
      "X dtype / y dtype: float64 float64\n",
      "X shape / y shape: (99930, 60, 5) (99930, 10, 1)\n",
      "Any NaN/Inf in X/y: False False False False\n"
     ]
    }
   ],
   "execution_count": 5
  },
  {
   "metadata": {
    "ExecuteTime": {
     "end_time": "2025-10-06T12:29:00.301430Z",
     "start_time": "2025-10-06T12:29:00.296518Z"
    }
   },
   "cell_type": "code",
   "source": [
    "# If tf.config.list_physical_devices('GPU') is empty, TF can't see a GPU. If GPUs exist but CUDA/CUDNN versions are missing or incompatible, that points to driver/stack issues.\n",
    "\n",
    "print(\"TF version:\", tf.__version__)\n",
    "print(\"GPUs visible:\", tf.config.list_physical_devices('GPU'))\n",
    "print(\"CUDA/CUDNN build info:\", tf.sysconfig.get_build_info().get('cuda_version', None),\n",
    "      tf.sysconfig.get_build_info().get('cudnn_version', None))"
   ],
   "id": "20deba004749671d",
   "outputs": [
    {
     "name": "stdout",
     "output_type": "stream",
     "text": [
      "TF version: 2.18.0\n",
      "GPUs visible: []\n",
      "CUDA/CUDNN build info: 12.8 9\n"
     ]
    }
   ],
   "execution_count": 6
  }
 ],
 "metadata": {
  "kernelspec": {
   "name": "python3",
   "language": "python",
   "display_name": "Python 3 (ipykernel)"
  }
 },
 "nbformat": 5,
 "nbformat_minor": 9
}
