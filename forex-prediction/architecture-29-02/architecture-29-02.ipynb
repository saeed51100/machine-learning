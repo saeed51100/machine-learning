{
 "cells": [
  {
   "metadata": {},
   "cell_type": "markdown",
   "source": [
    "# architecture-29-02\n",
    "\n",
    "## What's new:\n",
    "\n",
    "1- Extract data rows with a formula instead of manually extracting them.\n"
   ],
   "id": "67a9ecb3258e8606"
  },
  {
   "metadata": {},
   "cell_type": "code",
   "source": [
    "import pandas as pd\n",
    "import numpy as np\n",
    "from tensorflow.keras.models import Sequential\n",
    "from tensorflow.keras.layers import LSTM, Dense, Dropout\n",
    "from sklearn.preprocessing import MinMaxScaler\n",
    "from sklearn.model_selection import train_test_split\n",
    "from tensorflow.keras import callbacks"
   ],
   "id": "c980d7d41b42c555",
   "outputs": [],
   "execution_count": null
  },
  {
   "metadata": {},
   "cell_type": "code",
   "source": [
    "# 1- Load and Scaling Features\n",
    "\n",
    "df = pd.read_csv('XAGUSD-197001010000--H1-rates.csv', sep='\\t')\n",
    "# Rename columns for easier access\n",
    "df.rename(columns={\n",
    "    '<DATE>': 'DATE',\n",
    "    '<TIME>': 'TIME',\n",
    "    '<OPEN>': 'OPEN',\n",
    "    '<HIGH>': 'HIGH',\n",
    "    '<LOW>': 'LOW',\n",
    "    '<CLOSE>': 'CLOSE',\n",
    "    '<TICKVOL>': 'TICKVOL',\n",
    "    '<VOL>': 'VOL',\n",
    "    '<SPREAD>': 'SPREAD'\n",
    "}, inplace=True)\n",
    "df['DATETIME'] = pd.to_datetime(df['DATE'] + ' ' + df['TIME'])\n",
    "\n",
    "\n",
    "# Drop rows with missing values\n",
    "df.dropna(inplace=True)\n",
    "\n",
    "# Sort data chronologically by DATETIME\n",
    "df.sort_values(by='DATETIME', inplace=True)\n",
    "\n",
    "# Reset index to ensure clean row order\n",
    "df.reset_index(drop=True, inplace=True)\n",
    "\n",
    "# Select features to scale\n",
    "features = ['OPEN', 'HIGH', 'LOW', 'CLOSE', 'TICKVOL']\n",
    "\n",
    "# Apply MinMaxScaler\n",
    "scaler = MinMaxScaler()\n",
    "scaled = scaler.fit_transform(df[features])"
   ],
   "id": "27be8804efc0b24c",
   "outputs": [],
   "execution_count": null
  },
  {
   "metadata": {
    "ExecuteTime": {
     "end_time": "2025-09-30T19:24:21.659937Z",
     "start_time": "2025-09-30T19:24:21.652569Z"
    }
   },
   "cell_type": "code",
   "source": [
    "close_scaler = MinMaxScaler()\n",
    "scaled_close = close_scaler.fit_transform(df[['CLOSE']])"
   ],
   "id": "3813efa7b7b96154",
   "outputs": [],
   "execution_count": 3
  },
  {
   "metadata": {
    "ExecuteTime": {
     "end_time": "2025-09-30T19:24:23.248167Z",
     "start_time": "2025-09-30T19:24:23.244565Z"
    }
   },
   "cell_type": "code",
   "source": [
    "# --- Parameters ---\n",
    "given_time = \"2024.05.03 01:00:00\"   # starting datetime\n",
    "\n",
    "WINDOW_SIZE = 60\n",
    "FORECAST_HORIZON = 10"
   ],
   "id": "f3103d27aa971ac",
   "outputs": [],
   "execution_count": 4
  },
  {
   "metadata": {
    "ExecuteTime": {
     "end_time": "2025-09-30T19:24:29.077572Z",
     "start_time": "2025-09-30T19:24:26.644157Z"
    }
   },
   "cell_type": "code",
   "source": [
    "# Prepare sequences\n",
    "def create_sequences(features, target, window, horizon):\n",
    "    X, y = [], []\n",
    "    for i in range(window, len(features) - horizon):\n",
    "        X.append(features[i - window:i])\n",
    "        y.append(target[i:i + horizon])\n",
    "    return np.array(X), np.array(y)\n",
    "\n",
    "X, y = create_sequences(scaled, scaled_close, WINDOW_SIZE, FORECAST_HORIZON)\n",
    "\n",
    "X_train, X_test, y_train, y_test = train_test_split(X, y, test_size=0.2, shuffle=False)\n",
    "\n",
    "# Build basic LSTM model\n",
    "model = Sequential([\n",
    "    LSTM(32, input_shape=(X_train.shape[1], X_train.shape[2])),\n",
    "    Dense(FORECAST_HORIZON)\n",
    "])\n",
    "model.compile(optimizer='adam', loss='mse', metrics=['mae'])\n",
    "\n",
    "# Train\n",
    "mc = callbacks.ModelCheckpoint(filepath='mcp_saved_model.keras', monitor='val_loss', save_best_only=True)\n",
    "es = callbacks.EarlyStopping(monitor='val_loss', patience=10, restore_best_weights=True)\n",
    "history = model.fit(\n",
    "    X_train, y_train,\n",
    "    epochs=50,\n",
    "    verbose=1,\n",
    "    callbacks=[mc, es],\n",
    "    validation_split=0.2,\n",
    ")"
   ],
   "id": "cb7841301ce30d5b",
   "outputs": [
    {
     "name": "stderr",
     "output_type": "stream",
     "text": [
      "I0000 00:00:1759260266.919159   13181 gpu_device.cc:2022] Created device /job:localhost/replica:0/task:0/device:GPU:0 with 1526 MB memory:  -> device: 0, name: NVIDIA GeForce MX330, pci bus id: 0000:02:00.0, compute capability: 6.1\n",
      "/media/saeed/9e9baace-4b04-4b10-9642-9956879cddb6/repositories/machine-learning/forex-prediction/envs/lib/python3.11/site-packages/keras/src/layers/rnn/rnn.py:199: UserWarning: Do not pass an `input_shape`/`input_dim` argument to a layer. When using Sequential models, prefer using an `Input(shape)` object as the first layer in the model instead.\n",
      "  super().__init__(**kwargs)\n"
     ]
    },
    {
     "name": "stdout",
     "output_type": "stream",
     "text": [
      "Epoch 1/50\n"
     ]
    },
    {
     "name": "stderr",
     "output_type": "stream",
     "text": [
      "I0000 00:00:1759260268.746294   13237 cuda_dnn.cc:529] Loaded cuDNN version 91300\n",
      "E0000 00:00:1759260268.755197   13237 dnn.cc:1137] CUDNN_STATUS_EXECUTION_FAILED\n",
      "in external/local_xla/xla/stream_executor/cuda/cuda_dnn.cc(2307): 'cudnnRNNForward( cudnn.handle(), rnn_desc.handle(), rnn_fwd_mode, reinterpret_cast<const int*>(seq_lengths_data.opaque()), input_desc.data_handle(), input_data.opaque(), output_desc.data_handle(), output_data->opaque(), input_h_desc.handle(), input_h_data.opaque(), output_h_data->opaque(), input_c_desc.handle(), input_c_data.opaque(), output_c_data->opaque(), rnn_desc.ParamsSizeInBytes(), params.opaque(), workspace.size(), workspace.opaque(), reserve_space.size(), reserve_space.opaque())'\n",
      "2025-09-30 22:54:28.755235: W tensorflow/core/framework/op_kernel.cc:1841] OP_REQUIRES failed at cudnn_rnn_ops.cc:1776 : INTERNAL: Failed to call DoRnnForward with model config: [rnn_mode, rnn_input_mode, rnn_direction_mode]: 2, 0, 0 , [num_layers, input_size, num_units, dir_count, max_seq_length, batch_size, cell_num_units]: [1, 5, 32, 1, 60, 32, 32] \n",
      "2025-09-30 22:54:28.755269: I tensorflow/core/framework/local_rendezvous.cc:405] Local rendezvous is aborting with status: INTERNAL: Failed to call DoRnnForward with model config: [rnn_mode, rnn_input_mode, rnn_direction_mode]: 2, 0, 0 , [num_layers, input_size, num_units, dir_count, max_seq_length, batch_size, cell_num_units]: [1, 5, 32, 1, 60, 32, 32] \n",
      "\t [[{{function_node __inference_one_step_on_data_1563}}{{node sequential_1/lstm_1/CudnnRNNV3}}]]\n"
     ]
    },
    {
     "ename": "InternalError",
     "evalue": "Graph execution error:\n\nDetected at node sequential_1/lstm_1/CudnnRNNV3 defined at (most recent call last):\n  File \"<frozen runpy>\", line 198, in _run_module_as_main\n\n  File \"<frozen runpy>\", line 88, in _run_code\n\n  File \"/media/saeed/9e9baace-4b04-4b10-9642-9956879cddb6/repositories/machine-learning/forex-prediction/envs/lib/python3.11/site-packages/ipykernel_launcher.py\", line 18, in <module>\n\n  File \"/media/saeed/9e9baace-4b04-4b10-9642-9956879cddb6/repositories/machine-learning/forex-prediction/envs/lib/python3.11/site-packages/traitlets/config/application.py\", line 1075, in launch_instance\n\n  File \"/media/saeed/9e9baace-4b04-4b10-9642-9956879cddb6/repositories/machine-learning/forex-prediction/envs/lib/python3.11/site-packages/ipykernel/kernelapp.py\", line 739, in start\n\n  File \"/media/saeed/9e9baace-4b04-4b10-9642-9956879cddb6/repositories/machine-learning/forex-prediction/envs/lib/python3.11/site-packages/tornado/platform/asyncio.py\", line 211, in start\n\n  File \"/media/saeed/9e9baace-4b04-4b10-9642-9956879cddb6/repositories/machine-learning/forex-prediction/envs/lib/python3.11/asyncio/base_events.py\", line 608, in run_forever\n\n  File \"/media/saeed/9e9baace-4b04-4b10-9642-9956879cddb6/repositories/machine-learning/forex-prediction/envs/lib/python3.11/asyncio/base_events.py\", line 1936, in _run_once\n\n  File \"/media/saeed/9e9baace-4b04-4b10-9642-9956879cddb6/repositories/machine-learning/forex-prediction/envs/lib/python3.11/asyncio/events.py\", line 84, in _run\n\n  File \"/media/saeed/9e9baace-4b04-4b10-9642-9956879cddb6/repositories/machine-learning/forex-prediction/envs/lib/python3.11/site-packages/ipykernel/kernelbase.py\", line 519, in dispatch_queue\n\n  File \"/media/saeed/9e9baace-4b04-4b10-9642-9956879cddb6/repositories/machine-learning/forex-prediction/envs/lib/python3.11/site-packages/ipykernel/kernelbase.py\", line 508, in process_one\n\n  File \"/media/saeed/9e9baace-4b04-4b10-9642-9956879cddb6/repositories/machine-learning/forex-prediction/envs/lib/python3.11/site-packages/ipykernel/kernelbase.py\", line 400, in dispatch_shell\n\n  File \"/media/saeed/9e9baace-4b04-4b10-9642-9956879cddb6/repositories/machine-learning/forex-prediction/envs/lib/python3.11/site-packages/ipykernel/ipkernel.py\", line 368, in execute_request\n\n  File \"/media/saeed/9e9baace-4b04-4b10-9642-9956879cddb6/repositories/machine-learning/forex-prediction/envs/lib/python3.11/site-packages/ipykernel/kernelbase.py\", line 767, in execute_request\n\n  File \"/media/saeed/9e9baace-4b04-4b10-9642-9956879cddb6/repositories/machine-learning/forex-prediction/envs/lib/python3.11/site-packages/ipykernel/ipkernel.py\", line 455, in do_execute\n\n  File \"/media/saeed/9e9baace-4b04-4b10-9642-9956879cddb6/repositories/machine-learning/forex-prediction/envs/lib/python3.11/site-packages/ipykernel/zmqshell.py\", line 577, in run_cell\n\n  File \"/media/saeed/9e9baace-4b04-4b10-9642-9956879cddb6/repositories/machine-learning/forex-prediction/envs/lib/python3.11/site-packages/IPython/core/interactiveshell.py\", line 3116, in run_cell\n\n  File \"/media/saeed/9e9baace-4b04-4b10-9642-9956879cddb6/repositories/machine-learning/forex-prediction/envs/lib/python3.11/site-packages/IPython/core/interactiveshell.py\", line 3171, in _run_cell\n\n  File \"/media/saeed/9e9baace-4b04-4b10-9642-9956879cddb6/repositories/machine-learning/forex-prediction/envs/lib/python3.11/site-packages/IPython/core/async_helpers.py\", line 128, in _pseudo_sync_runner\n\n  File \"/media/saeed/9e9baace-4b04-4b10-9642-9956879cddb6/repositories/machine-learning/forex-prediction/envs/lib/python3.11/site-packages/IPython/core/interactiveshell.py\", line 3394, in run_cell_async\n\n  File \"/media/saeed/9e9baace-4b04-4b10-9642-9956879cddb6/repositories/machine-learning/forex-prediction/envs/lib/python3.11/site-packages/IPython/core/interactiveshell.py\", line 3639, in run_ast_nodes\n\n  File \"/media/saeed/9e9baace-4b04-4b10-9642-9956879cddb6/repositories/machine-learning/forex-prediction/envs/lib/python3.11/site-packages/IPython/core/interactiveshell.py\", line 3699, in run_code\n\n  File \"/tmp/ipykernel_13181/3311512211.py\", line 23, in <module>\n\n  File \"/media/saeed/9e9baace-4b04-4b10-9642-9956879cddb6/repositories/machine-learning/forex-prediction/envs/lib/python3.11/site-packages/keras/src/utils/traceback_utils.py\", line 117, in error_handler\n\n  File \"/media/saeed/9e9baace-4b04-4b10-9642-9956879cddb6/repositories/machine-learning/forex-prediction/envs/lib/python3.11/site-packages/keras/src/backend/tensorflow/trainer.py\", line 377, in fit\n\n  File \"/media/saeed/9e9baace-4b04-4b10-9642-9956879cddb6/repositories/machine-learning/forex-prediction/envs/lib/python3.11/site-packages/keras/src/backend/tensorflow/trainer.py\", line 220, in function\n\n  File \"/media/saeed/9e9baace-4b04-4b10-9642-9956879cddb6/repositories/machine-learning/forex-prediction/envs/lib/python3.11/site-packages/keras/src/backend/tensorflow/trainer.py\", line 133, in multi_step_on_iterator\n\n  File \"/media/saeed/9e9baace-4b04-4b10-9642-9956879cddb6/repositories/machine-learning/forex-prediction/envs/lib/python3.11/site-packages/keras/src/backend/tensorflow/trainer.py\", line 114, in one_step_on_data\n\n  File \"/media/saeed/9e9baace-4b04-4b10-9642-9956879cddb6/repositories/machine-learning/forex-prediction/envs/lib/python3.11/site-packages/keras/src/backend/tensorflow/trainer.py\", line 58, in train_step\n\n  File \"/media/saeed/9e9baace-4b04-4b10-9642-9956879cddb6/repositories/machine-learning/forex-prediction/envs/lib/python3.11/site-packages/keras/src/utils/traceback_utils.py\", line 117, in error_handler\n\n  File \"/media/saeed/9e9baace-4b04-4b10-9642-9956879cddb6/repositories/machine-learning/forex-prediction/envs/lib/python3.11/site-packages/keras/src/layers/layer.py\", line 936, in __call__\n\n  File \"/media/saeed/9e9baace-4b04-4b10-9642-9956879cddb6/repositories/machine-learning/forex-prediction/envs/lib/python3.11/site-packages/keras/src/utils/traceback_utils.py\", line 117, in error_handler\n\n  File \"/media/saeed/9e9baace-4b04-4b10-9642-9956879cddb6/repositories/machine-learning/forex-prediction/envs/lib/python3.11/site-packages/keras/src/ops/operation.py\", line 58, in __call__\n\n  File \"/media/saeed/9e9baace-4b04-4b10-9642-9956879cddb6/repositories/machine-learning/forex-prediction/envs/lib/python3.11/site-packages/keras/src/utils/traceback_utils.py\", line 156, in error_handler\n\n  File \"/media/saeed/9e9baace-4b04-4b10-9642-9956879cddb6/repositories/machine-learning/forex-prediction/envs/lib/python3.11/site-packages/keras/src/models/sequential.py\", line 220, in call\n\n  File \"/media/saeed/9e9baace-4b04-4b10-9642-9956879cddb6/repositories/machine-learning/forex-prediction/envs/lib/python3.11/site-packages/keras/src/models/functional.py\", line 183, in call\n\n  File \"/media/saeed/9e9baace-4b04-4b10-9642-9956879cddb6/repositories/machine-learning/forex-prediction/envs/lib/python3.11/site-packages/keras/src/ops/function.py\", line 177, in _run_through_graph\n\n  File \"/media/saeed/9e9baace-4b04-4b10-9642-9956879cddb6/repositories/machine-learning/forex-prediction/envs/lib/python3.11/site-packages/keras/src/models/functional.py\", line 648, in call\n\n  File \"/media/saeed/9e9baace-4b04-4b10-9642-9956879cddb6/repositories/machine-learning/forex-prediction/envs/lib/python3.11/site-packages/keras/src/utils/traceback_utils.py\", line 117, in error_handler\n\n  File \"/media/saeed/9e9baace-4b04-4b10-9642-9956879cddb6/repositories/machine-learning/forex-prediction/envs/lib/python3.11/site-packages/keras/src/layers/layer.py\", line 936, in __call__\n\n  File \"/media/saeed/9e9baace-4b04-4b10-9642-9956879cddb6/repositories/machine-learning/forex-prediction/envs/lib/python3.11/site-packages/keras/src/utils/traceback_utils.py\", line 117, in error_handler\n\n  File \"/media/saeed/9e9baace-4b04-4b10-9642-9956879cddb6/repositories/machine-learning/forex-prediction/envs/lib/python3.11/site-packages/keras/src/ops/operation.py\", line 58, in __call__\n\n  File \"/media/saeed/9e9baace-4b04-4b10-9642-9956879cddb6/repositories/machine-learning/forex-prediction/envs/lib/python3.11/site-packages/keras/src/utils/traceback_utils.py\", line 156, in error_handler\n\n  File \"/media/saeed/9e9baace-4b04-4b10-9642-9956879cddb6/repositories/machine-learning/forex-prediction/envs/lib/python3.11/site-packages/keras/src/layers/rnn/lstm.py\", line 583, in call\n\n  File \"/media/saeed/9e9baace-4b04-4b10-9642-9956879cddb6/repositories/machine-learning/forex-prediction/envs/lib/python3.11/site-packages/keras/src/layers/rnn/rnn.py\", line 406, in call\n\n  File \"/media/saeed/9e9baace-4b04-4b10-9642-9956879cddb6/repositories/machine-learning/forex-prediction/envs/lib/python3.11/site-packages/keras/src/layers/rnn/lstm.py\", line 550, in inner_loop\n\n  File \"/media/saeed/9e9baace-4b04-4b10-9642-9956879cddb6/repositories/machine-learning/forex-prediction/envs/lib/python3.11/site-packages/keras/src/backend/tensorflow/rnn.py\", line 841, in lstm\n\n  File \"/media/saeed/9e9baace-4b04-4b10-9642-9956879cddb6/repositories/machine-learning/forex-prediction/envs/lib/python3.11/site-packages/keras/src/backend/tensorflow/rnn.py\", line 933, in _cudnn_lstm\n\nFailed to call DoRnnForward with model config: [rnn_mode, rnn_input_mode, rnn_direction_mode]: 2, 0, 0 , [num_layers, input_size, num_units, dir_count, max_seq_length, batch_size, cell_num_units]: [1, 5, 32, 1, 60, 32, 32] \n\t [[{{node sequential_1/lstm_1/CudnnRNNV3}}]] [Op:__inference_multi_step_on_iterator_1610]",
     "output_type": "error",
     "traceback": [
      "\u001B[31m---------------------------------------------------------------------------\u001B[39m",
      "\u001B[31mInternalError\u001B[39m                             Traceback (most recent call last)",
      "\u001B[36mCell\u001B[39m\u001B[36m \u001B[39m\u001B[32mIn[5]\u001B[39m\u001B[32m, line 23\u001B[39m\n\u001B[32m     21\u001B[39m mc = callbacks.ModelCheckpoint(filepath=\u001B[33m'\u001B[39m\u001B[33mmcp_saved_model.keras\u001B[39m\u001B[33m'\u001B[39m, monitor=\u001B[33m'\u001B[39m\u001B[33mval_loss\u001B[39m\u001B[33m'\u001B[39m, save_best_only=\u001B[38;5;28;01mTrue\u001B[39;00m)\n\u001B[32m     22\u001B[39m es = callbacks.EarlyStopping(monitor=\u001B[33m'\u001B[39m\u001B[33mval_loss\u001B[39m\u001B[33m'\u001B[39m, patience=\u001B[32m10\u001B[39m, restore_best_weights=\u001B[38;5;28;01mTrue\u001B[39;00m)\n\u001B[32m---> \u001B[39m\u001B[32m23\u001B[39m history = \u001B[43mmodel\u001B[49m\u001B[43m.\u001B[49m\u001B[43mfit\u001B[49m\u001B[43m(\u001B[49m\n\u001B[32m     24\u001B[39m \u001B[43m    \u001B[49m\u001B[43mX_train\u001B[49m\u001B[43m,\u001B[49m\u001B[43m \u001B[49m\u001B[43my_train\u001B[49m\u001B[43m,\u001B[49m\n\u001B[32m     25\u001B[39m \u001B[43m    \u001B[49m\u001B[43mepochs\u001B[49m\u001B[43m=\u001B[49m\u001B[32;43m50\u001B[39;49m\u001B[43m,\u001B[49m\n\u001B[32m     26\u001B[39m \u001B[43m    \u001B[49m\u001B[43mverbose\u001B[49m\u001B[43m=\u001B[49m\u001B[32;43m1\u001B[39;49m\u001B[43m,\u001B[49m\n\u001B[32m     27\u001B[39m \u001B[43m    \u001B[49m\u001B[43mcallbacks\u001B[49m\u001B[43m=\u001B[49m\u001B[43m[\u001B[49m\u001B[43mmc\u001B[49m\u001B[43m,\u001B[49m\u001B[43m \u001B[49m\u001B[43mes\u001B[49m\u001B[43m]\u001B[49m\u001B[43m,\u001B[49m\n\u001B[32m     28\u001B[39m \u001B[43m    \u001B[49m\u001B[43mvalidation_split\u001B[49m\u001B[43m=\u001B[49m\u001B[32;43m0.2\u001B[39;49m\u001B[43m,\u001B[49m\n\u001B[32m     29\u001B[39m \u001B[43m)\u001B[49m\n",
      "\u001B[36mFile \u001B[39m\u001B[32m/media/saeed/9e9baace-4b04-4b10-9642-9956879cddb6/repositories/machine-learning/forex-prediction/envs/lib/python3.11/site-packages/keras/src/utils/traceback_utils.py:122\u001B[39m, in \u001B[36mfilter_traceback.<locals>.error_handler\u001B[39m\u001B[34m(*args, **kwargs)\u001B[39m\n\u001B[32m    119\u001B[39m     filtered_tb = _process_traceback_frames(e.__traceback__)\n\u001B[32m    120\u001B[39m     \u001B[38;5;66;03m# To get the full stack trace, call:\u001B[39;00m\n\u001B[32m    121\u001B[39m     \u001B[38;5;66;03m# `keras.config.disable_traceback_filtering()`\u001B[39;00m\n\u001B[32m--> \u001B[39m\u001B[32m122\u001B[39m     \u001B[38;5;28;01mraise\u001B[39;00m e.with_traceback(filtered_tb) \u001B[38;5;28;01mfrom\u001B[39;00m\u001B[38;5;250m \u001B[39m\u001B[38;5;28;01mNone\u001B[39;00m\n\u001B[32m    123\u001B[39m \u001B[38;5;28;01mfinally\u001B[39;00m:\n\u001B[32m    124\u001B[39m     \u001B[38;5;28;01mdel\u001B[39;00m filtered_tb\n",
      "\u001B[36mFile \u001B[39m\u001B[32m/media/saeed/9e9baace-4b04-4b10-9642-9956879cddb6/repositories/machine-learning/forex-prediction/envs/lib/python3.11/site-packages/tensorflow/python/eager/execute.py:53\u001B[39m, in \u001B[36mquick_execute\u001B[39m\u001B[34m(op_name, num_outputs, inputs, attrs, ctx, name)\u001B[39m\n\u001B[32m     51\u001B[39m \u001B[38;5;28;01mtry\u001B[39;00m:\n\u001B[32m     52\u001B[39m   ctx.ensure_initialized()\n\u001B[32m---> \u001B[39m\u001B[32m53\u001B[39m   tensors = pywrap_tfe.TFE_Py_Execute(ctx._handle, device_name, op_name,\n\u001B[32m     54\u001B[39m                                       inputs, attrs, num_outputs)\n\u001B[32m     55\u001B[39m \u001B[38;5;28;01mexcept\u001B[39;00m core._NotOkStatusException \u001B[38;5;28;01mas\u001B[39;00m e:\n\u001B[32m     56\u001B[39m   \u001B[38;5;28;01mif\u001B[39;00m name \u001B[38;5;129;01mis\u001B[39;00m \u001B[38;5;129;01mnot\u001B[39;00m \u001B[38;5;28;01mNone\u001B[39;00m:\n",
      "\u001B[31mInternalError\u001B[39m: Graph execution error:\n\nDetected at node sequential_1/lstm_1/CudnnRNNV3 defined at (most recent call last):\n  File \"<frozen runpy>\", line 198, in _run_module_as_main\n\n  File \"<frozen runpy>\", line 88, in _run_code\n\n  File \"/media/saeed/9e9baace-4b04-4b10-9642-9956879cddb6/repositories/machine-learning/forex-prediction/envs/lib/python3.11/site-packages/ipykernel_launcher.py\", line 18, in <module>\n\n  File \"/media/saeed/9e9baace-4b04-4b10-9642-9956879cddb6/repositories/machine-learning/forex-prediction/envs/lib/python3.11/site-packages/traitlets/config/application.py\", line 1075, in launch_instance\n\n  File \"/media/saeed/9e9baace-4b04-4b10-9642-9956879cddb6/repositories/machine-learning/forex-prediction/envs/lib/python3.11/site-packages/ipykernel/kernelapp.py\", line 739, in start\n\n  File \"/media/saeed/9e9baace-4b04-4b10-9642-9956879cddb6/repositories/machine-learning/forex-prediction/envs/lib/python3.11/site-packages/tornado/platform/asyncio.py\", line 211, in start\n\n  File \"/media/saeed/9e9baace-4b04-4b10-9642-9956879cddb6/repositories/machine-learning/forex-prediction/envs/lib/python3.11/asyncio/base_events.py\", line 608, in run_forever\n\n  File \"/media/saeed/9e9baace-4b04-4b10-9642-9956879cddb6/repositories/machine-learning/forex-prediction/envs/lib/python3.11/asyncio/base_events.py\", line 1936, in _run_once\n\n  File \"/media/saeed/9e9baace-4b04-4b10-9642-9956879cddb6/repositories/machine-learning/forex-prediction/envs/lib/python3.11/asyncio/events.py\", line 84, in _run\n\n  File \"/media/saeed/9e9baace-4b04-4b10-9642-9956879cddb6/repositories/machine-learning/forex-prediction/envs/lib/python3.11/site-packages/ipykernel/kernelbase.py\", line 519, in dispatch_queue\n\n  File \"/media/saeed/9e9baace-4b04-4b10-9642-9956879cddb6/repositories/machine-learning/forex-prediction/envs/lib/python3.11/site-packages/ipykernel/kernelbase.py\", line 508, in process_one\n\n  File \"/media/saeed/9e9baace-4b04-4b10-9642-9956879cddb6/repositories/machine-learning/forex-prediction/envs/lib/python3.11/site-packages/ipykernel/kernelbase.py\", line 400, in dispatch_shell\n\n  File \"/media/saeed/9e9baace-4b04-4b10-9642-9956879cddb6/repositories/machine-learning/forex-prediction/envs/lib/python3.11/site-packages/ipykernel/ipkernel.py\", line 368, in execute_request\n\n  File \"/media/saeed/9e9baace-4b04-4b10-9642-9956879cddb6/repositories/machine-learning/forex-prediction/envs/lib/python3.11/site-packages/ipykernel/kernelbase.py\", line 767, in execute_request\n\n  File \"/media/saeed/9e9baace-4b04-4b10-9642-9956879cddb6/repositories/machine-learning/forex-prediction/envs/lib/python3.11/site-packages/ipykernel/ipkernel.py\", line 455, in do_execute\n\n  File \"/media/saeed/9e9baace-4b04-4b10-9642-9956879cddb6/repositories/machine-learning/forex-prediction/envs/lib/python3.11/site-packages/ipykernel/zmqshell.py\", line 577, in run_cell\n\n  File \"/media/saeed/9e9baace-4b04-4b10-9642-9956879cddb6/repositories/machine-learning/forex-prediction/envs/lib/python3.11/site-packages/IPython/core/interactiveshell.py\", line 3116, in run_cell\n\n  File \"/media/saeed/9e9baace-4b04-4b10-9642-9956879cddb6/repositories/machine-learning/forex-prediction/envs/lib/python3.11/site-packages/IPython/core/interactiveshell.py\", line 3171, in _run_cell\n\n  File \"/media/saeed/9e9baace-4b04-4b10-9642-9956879cddb6/repositories/machine-learning/forex-prediction/envs/lib/python3.11/site-packages/IPython/core/async_helpers.py\", line 128, in _pseudo_sync_runner\n\n  File \"/media/saeed/9e9baace-4b04-4b10-9642-9956879cddb6/repositories/machine-learning/forex-prediction/envs/lib/python3.11/site-packages/IPython/core/interactiveshell.py\", line 3394, in run_cell_async\n\n  File \"/media/saeed/9e9baace-4b04-4b10-9642-9956879cddb6/repositories/machine-learning/forex-prediction/envs/lib/python3.11/site-packages/IPython/core/interactiveshell.py\", line 3639, in run_ast_nodes\n\n  File \"/media/saeed/9e9baace-4b04-4b10-9642-9956879cddb6/repositories/machine-learning/forex-prediction/envs/lib/python3.11/site-packages/IPython/core/interactiveshell.py\", line 3699, in run_code\n\n  File \"/tmp/ipykernel_13181/3311512211.py\", line 23, in <module>\n\n  File \"/media/saeed/9e9baace-4b04-4b10-9642-9956879cddb6/repositories/machine-learning/forex-prediction/envs/lib/python3.11/site-packages/keras/src/utils/traceback_utils.py\", line 117, in error_handler\n\n  File \"/media/saeed/9e9baace-4b04-4b10-9642-9956879cddb6/repositories/machine-learning/forex-prediction/envs/lib/python3.11/site-packages/keras/src/backend/tensorflow/trainer.py\", line 377, in fit\n\n  File \"/media/saeed/9e9baace-4b04-4b10-9642-9956879cddb6/repositories/machine-learning/forex-prediction/envs/lib/python3.11/site-packages/keras/src/backend/tensorflow/trainer.py\", line 220, in function\n\n  File \"/media/saeed/9e9baace-4b04-4b10-9642-9956879cddb6/repositories/machine-learning/forex-prediction/envs/lib/python3.11/site-packages/keras/src/backend/tensorflow/trainer.py\", line 133, in multi_step_on_iterator\n\n  File \"/media/saeed/9e9baace-4b04-4b10-9642-9956879cddb6/repositories/machine-learning/forex-prediction/envs/lib/python3.11/site-packages/keras/src/backend/tensorflow/trainer.py\", line 114, in one_step_on_data\n\n  File \"/media/saeed/9e9baace-4b04-4b10-9642-9956879cddb6/repositories/machine-learning/forex-prediction/envs/lib/python3.11/site-packages/keras/src/backend/tensorflow/trainer.py\", line 58, in train_step\n\n  File \"/media/saeed/9e9baace-4b04-4b10-9642-9956879cddb6/repositories/machine-learning/forex-prediction/envs/lib/python3.11/site-packages/keras/src/utils/traceback_utils.py\", line 117, in error_handler\n\n  File \"/media/saeed/9e9baace-4b04-4b10-9642-9956879cddb6/repositories/machine-learning/forex-prediction/envs/lib/python3.11/site-packages/keras/src/layers/layer.py\", line 936, in __call__\n\n  File \"/media/saeed/9e9baace-4b04-4b10-9642-9956879cddb6/repositories/machine-learning/forex-prediction/envs/lib/python3.11/site-packages/keras/src/utils/traceback_utils.py\", line 117, in error_handler\n\n  File \"/media/saeed/9e9baace-4b04-4b10-9642-9956879cddb6/repositories/machine-learning/forex-prediction/envs/lib/python3.11/site-packages/keras/src/ops/operation.py\", line 58, in __call__\n\n  File \"/media/saeed/9e9baace-4b04-4b10-9642-9956879cddb6/repositories/machine-learning/forex-prediction/envs/lib/python3.11/site-packages/keras/src/utils/traceback_utils.py\", line 156, in error_handler\n\n  File \"/media/saeed/9e9baace-4b04-4b10-9642-9956879cddb6/repositories/machine-learning/forex-prediction/envs/lib/python3.11/site-packages/keras/src/models/sequential.py\", line 220, in call\n\n  File \"/media/saeed/9e9baace-4b04-4b10-9642-9956879cddb6/repositories/machine-learning/forex-prediction/envs/lib/python3.11/site-packages/keras/src/models/functional.py\", line 183, in call\n\n  File \"/media/saeed/9e9baace-4b04-4b10-9642-9956879cddb6/repositories/machine-learning/forex-prediction/envs/lib/python3.11/site-packages/keras/src/ops/function.py\", line 177, in _run_through_graph\n\n  File \"/media/saeed/9e9baace-4b04-4b10-9642-9956879cddb6/repositories/machine-learning/forex-prediction/envs/lib/python3.11/site-packages/keras/src/models/functional.py\", line 648, in call\n\n  File \"/media/saeed/9e9baace-4b04-4b10-9642-9956879cddb6/repositories/machine-learning/forex-prediction/envs/lib/python3.11/site-packages/keras/src/utils/traceback_utils.py\", line 117, in error_handler\n\n  File \"/media/saeed/9e9baace-4b04-4b10-9642-9956879cddb6/repositories/machine-learning/forex-prediction/envs/lib/python3.11/site-packages/keras/src/layers/layer.py\", line 936, in __call__\n\n  File \"/media/saeed/9e9baace-4b04-4b10-9642-9956879cddb6/repositories/machine-learning/forex-prediction/envs/lib/python3.11/site-packages/keras/src/utils/traceback_utils.py\", line 117, in error_handler\n\n  File \"/media/saeed/9e9baace-4b04-4b10-9642-9956879cddb6/repositories/machine-learning/forex-prediction/envs/lib/python3.11/site-packages/keras/src/ops/operation.py\", line 58, in __call__\n\n  File \"/media/saeed/9e9baace-4b04-4b10-9642-9956879cddb6/repositories/machine-learning/forex-prediction/envs/lib/python3.11/site-packages/keras/src/utils/traceback_utils.py\", line 156, in error_handler\n\n  File \"/media/saeed/9e9baace-4b04-4b10-9642-9956879cddb6/repositories/machine-learning/forex-prediction/envs/lib/python3.11/site-packages/keras/src/layers/rnn/lstm.py\", line 583, in call\n\n  File \"/media/saeed/9e9baace-4b04-4b10-9642-9956879cddb6/repositories/machine-learning/forex-prediction/envs/lib/python3.11/site-packages/keras/src/layers/rnn/rnn.py\", line 406, in call\n\n  File \"/media/saeed/9e9baace-4b04-4b10-9642-9956879cddb6/repositories/machine-learning/forex-prediction/envs/lib/python3.11/site-packages/keras/src/layers/rnn/lstm.py\", line 550, in inner_loop\n\n  File \"/media/saeed/9e9baace-4b04-4b10-9642-9956879cddb6/repositories/machine-learning/forex-prediction/envs/lib/python3.11/site-packages/keras/src/backend/tensorflow/rnn.py\", line 841, in lstm\n\n  File \"/media/saeed/9e9baace-4b04-4b10-9642-9956879cddb6/repositories/machine-learning/forex-prediction/envs/lib/python3.11/site-packages/keras/src/backend/tensorflow/rnn.py\", line 933, in _cudnn_lstm\n\nFailed to call DoRnnForward with model config: [rnn_mode, rnn_input_mode, rnn_direction_mode]: 2, 0, 0 , [num_layers, input_size, num_units, dir_count, max_seq_length, batch_size, cell_num_units]: [1, 5, 32, 1, 60, 32, 32] \n\t [[{{node sequential_1/lstm_1/CudnnRNNV3}}]] [Op:__inference_multi_step_on_iterator_1610]"
     ]
    }
   ],
   "execution_count": 5
  },
  {
   "metadata": {},
   "cell_type": "code",
   "source": [
    "# === Load and clean the last 60 rows from a separate CSV file for prediction ===\n",
    "# --- Find the starting index ---\n",
    "start_idx = df.index[df['DATETIME'] == pd.to_datetime(given_time)][0]\n",
    "\n",
    "# --- 1. Extract next n candles ---\n",
    "input_df = df.iloc[start_idx : start_idx + WINDOW_SIZE].copy()\n",
    "\n",
    "\n",
    "input_scaled = scaler.transform(\n",
    "    input_df[['OPEN', 'HIGH', 'LOW', 'CLOSE', 'TICKVOL']])\n",
    "input_sequence = np.expand_dims(input_scaled, axis=0)  # shape: (1, 60, 5)\n",
    "\n",
    "# === Predict the next 10 candles + Inverse scale ===\n",
    "pred = model.predict(input_sequence)\n",
    "prediction = close_scaler.inverse_transform(pred)"
   ],
   "id": "7ad768ead6620c73",
   "outputs": [],
   "execution_count": null
  },
  {
   "metadata": {},
   "cell_type": "markdown",
   "source": "# plot section",
   "id": "6456b78cc1b88128"
  },
  {
   "metadata": {},
   "cell_type": "code",
   "source": [
    "# --- 2. Extract last 4 candles from input_df ---\n",
    "historical_df = input_df.tail(4).copy()\n",
    "\n",
    "# --- 3. Extract next 10 candles immediately after input_df ---\n",
    "actual_future_df = df.iloc[start_idx + WINDOW_SIZE - 1 : start_idx + WINDOW_SIZE + FORECAST_HORIZON].copy()\n",
    "\n",
    "plot_title = 'Actual vs Predicted Forex Closing Prices'\n",
    "output_plot_path = None  # e.g., 'output.png'\n",
    "\n",
    "# LOAD DATA FROM PREDICTION\n",
    "\n",
    "# Combine <DATE> and <TIME> columns into a datetime\n",
    "input_df['DATETIME'] = pd.to_datetime(input_df['DATE'] + ' ' + input_df['TIME'])\n",
    "\n",
    "last_timestamp = input_df['DATETIME'].iloc[-1]\n",
    "datetime_index = pd.date_range(start=last_timestamp + pd.Timedelta(hours=1), periods=len(prediction[0]), freq='h')\n",
    "\n",
    "# Create DataFrame\n",
    "predicted_df = pd.DataFrame({'DATETIME': datetime_index, 'CLOSE': prediction[0]})"
   ],
   "id": "d4d7751243eff18e",
   "outputs": [],
   "execution_count": null
  },
  {
   "metadata": {},
   "cell_type": "code",
   "source": [
    "# PLOT\n",
    "forex_plot_utils_2.plot_all_series(\n",
    "    historical_df=historical_df,\n",
    "    predicted_df=predicted_df,\n",
    "    actual_future_df=actual_future_df,\n",
    "    title=plot_title,\n",
    "    output_path=output_plot_path\n",
    ")"
   ],
   "id": "a6e7b86736ad5b51",
   "outputs": [],
   "execution_count": null
  },
  {
   "metadata": {},
   "cell_type": "code",
   "source": [
    "from datetime import datetime\n",
    "import os\n",
    "import pandas as pd\n",
    "import matplotlib.pyplot as plt\n",
    "\n",
    "# === Create timestamp and paths ===\n",
    "timestamp = datetime.now().strftime('%Y%m%d_%H%M%S')\n",
    "model_filename = f'model_{timestamp}.keras'\n",
    "model_path = os.path.join('saved_models', model_filename)\n",
    "\n",
    "# Directory to hold logs and extras\n",
    "log_dir = os.path.join('saved_models', f'model_{timestamp}_logs')\n",
    "os.makedirs(log_dir, exist_ok=True)\n",
    "\n",
    "# === Save model ===\n",
    "model.save(model_path)\n",
    "\n",
    "# === Save training history ===\n",
    "history_df = pd.DataFrame(history.history)\n",
    "history_df.to_csv(os.path.join(log_dir, 'training_history.csv'), index=False)\n",
    "\n",
    "# === Save training loss plot ===\n",
    "plt.figure()\n",
    "plt.plot(history.history['loss'], label='Training Loss')\n",
    "plt.plot(history.history['val_loss'], label='Validation Loss')\n",
    "plt.title('Training Loss Over Epochs')\n",
    "plt.xlabel('Epoch')\n",
    "plt.ylabel('Loss')\n",
    "plt.legend()\n",
    "plt.grid(True)\n",
    "plt.savefig(os.path.join(log_dir, 'training_loss.png'))\n",
    "plt.close()\n",
    "\n",
    "# === Save model summary and final performance ===\n",
    "with open(os.path.join(log_dir, 'model_log.txt'), 'w') as f:\n",
    "    model.summary(print_fn=lambda x: f.write(x + '\\n'))\n",
    "    final_train_loss = history.history['loss'][-1]\n",
    "    final_test_loss, final_test_mae = model.evaluate(X_test, y_test, verbose=0)\n",
    "    f.write(f'\\nFinal Training Loss: {final_train_loss:.6f}\\n')\n",
    "    f.write(f'Final Test Loss: {final_test_loss:.6f}\\n')\n",
    "    f.write(f'Final Test MAE : {final_test_mae:.6f}\\n')\n"
   ],
   "id": "2bbbacfc2fb3329a",
   "outputs": [],
   "execution_count": null
  }
 ],
 "metadata": {
  "kernelspec": {
   "name": "python3",
   "language": "python",
   "display_name": "Python 3 (ipykernel)"
  }
 },
 "nbformat": 5,
 "nbformat_minor": 9
}
