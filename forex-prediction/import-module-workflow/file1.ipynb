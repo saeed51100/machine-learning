{
 "cells": [
  {
   "metadata": {
    "ExecuteTime": {
     "end_time": "2025-05-03T18:03:17.472679Z",
     "start_time": "2025-05-03T18:03:17.467627Z"
    }
   },
   "cell_type": "code",
   "source": [
    "# file1.ipynb\n",
    "def show_message():\n",
    "    print(\"Text from file1\")"
   ],
   "id": "c447a25f028da299",
   "outputs": [],
   "execution_count": 19
  },
  {
   "metadata": {
    "ExecuteTime": {
     "end_time": "2025-05-03T18:05:52.866106Z",
     "start_time": "2025-05-03T18:05:52.854246Z"
    }
   },
   "cell_type": "code",
   "source": [
    "import json\n",
    "\n",
    "with open(\"file1.ipynb\", \"r\") as f:\n",
    "    data = json.load(f)\n",
    "\n",
    "# Just change the format version\n",
    "data[\"nbformat\"] = 4\n",
    "data[\"nbformat_minor\"] = 5\n",
    "\n",
    "with open(\"file1_downgraded.ipynb\", \"w\") as f:\n",
    "    json.dump(data, f, indent=2)\n"
   ],
   "id": "234814ba03189e3",
   "outputs": [],
   "execution_count": 21
  }
 ],
 "metadata": {
  "kernelspec": {
   "name": "python3",
   "language": "python",
   "display_name": "Python 3 (ipykernel)"
  }
 },
 "nbformat": 5,
 "nbformat_minor": 9
}
