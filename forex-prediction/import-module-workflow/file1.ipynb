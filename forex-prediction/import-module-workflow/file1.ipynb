{
 "cells": [
  {
   "metadata": {},
   "cell_type": "code",
   "outputs": [],
   "execution_count": null,
   "source": [
    "# file1.ipynb\n",
    "def show_message():\n",
    "    print(\"Text from file1\")"
   ],
   "id": "c447a25f028da299"
  },
  {
   "metadata": {
    "ExecuteTime": {
     "end_time": "2025-05-03T17:29:11.277885Z",
     "start_time": "2025-05-03T17:29:11.275230Z"
    }
   },
   "cell_type": "code",
   "source": "print(\"hghgdhdg\")",
   "id": "f39eefc83a55c337",
   "outputs": [
    {
     "name": "stdout",
     "output_type": "stream",
     "text": [
      "hghgdhdg\n"
     ]
    }
   ],
   "execution_count": 3
  },
  {
   "metadata": {
    "ExecuteTime": {
     "end_time": "2025-05-03T17:29:33.920001Z",
     "start_time": "2025-05-03T17:29:33.885739Z"
    }
   },
   "cell_type": "code",
   "source": "show_message()",
   "id": "5b69b3cb1107ec36",
   "outputs": [
    {
     "ename": "NameError",
     "evalue": "name 'show_message' is not defined",
     "output_type": "error",
     "traceback": [
      "\u001B[31m---------------------------------------------------------------------------\u001B[39m",
      "\u001B[31mNameError\u001B[39m                                 Traceback (most recent call last)",
      "\u001B[36mCell\u001B[39m\u001B[36m \u001B[39m\u001B[32mIn[4]\u001B[39m\u001B[32m, line 1\u001B[39m\n\u001B[32m----> \u001B[39m\u001B[32m1\u001B[39m \u001B[43mshow_message\u001B[49m()\n",
      "\u001B[31mNameError\u001B[39m: name 'show_message' is not defined"
     ]
    }
   ],
   "execution_count": 4
  },
  {
   "metadata": {},
   "cell_type": "code",
   "outputs": [],
   "execution_count": null,
   "source": "",
   "id": "e4012efbcd979206"
  }
 ],
 "metadata": {
  "kernelspec": {
   "name": "python3",
   "language": "python",
   "display_name": "Python 3 (ipykernel)"
  }
 },
 "nbformat": 5,
 "nbformat_minor": 9
}
