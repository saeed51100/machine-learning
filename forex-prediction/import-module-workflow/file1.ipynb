{
 "cells": [
  {
   "metadata": {
    "ExecuteTime": {
     "end_time": "2025-05-03T17:32:47.944228Z",
     "start_time": "2025-05-03T17:32:47.941923Z"
    }
   },
   "cell_type": "code",
   "source": [
    "# file1.ipynb\n",
    "def show_message():\n",
    "    print(\"Text from file1\")"
   ],
   "id": "c447a25f028da299",
   "outputs": [],
   "execution_count": 3
  }
 ],
 "metadata": {
  "kernelspec": {
   "name": "python3",
   "language": "python",
   "display_name": "Python 3 (ipykernel)"
  }
 },
 "nbformat": 5,
 "nbformat_minor": 9
}
