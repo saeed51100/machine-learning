{
 "cells": [
  {
   "metadata": {},
   "cell_type": "markdown",
   "source": [
    "# ta-lib-008 ( Feature‑Engineering + Sequence Models)\n",
    "https://chatgpt.com/c/680d231a-52f4-800a-a105-9f5bfe49fca1\n",
    "\n",
    "What's new:\n",
    "\n",
    "1- Add EarlyStopping"
   ],
   "id": "67a9ecb3258e8606"
  },
  {
   "metadata": {
    "ExecuteTime": {
     "end_time": "2025-05-05T15:01:47.654527Z",
     "start_time": "2025-05-05T15:01:47.651166Z"
    }
   },
   "cell_type": "code",
   "source": [
    "import pandas as pd\n",
    "import numpy as np\n",
    "import matplotlib.pyplot as plt\n",
    "import talib\n",
    "import tensorflow as tf\n",
    "from tensorflow.keras.models import Sequential\n",
    "from tensorflow.keras.layers import LSTM, Dense, Dropout\n",
    "from sklearn.preprocessing import MinMaxScaler\n",
    "from sklearn.model_selection import train_test_split\n",
    "from tensorflow.keras import callbacks"
   ],
   "id": "c980d7d41b42c555",
   "outputs": [],
   "execution_count": 3
  },
  {
   "metadata": {
    "ExecuteTime": {
     "end_time": "2025-05-05T15:04:21.651734Z",
     "start_time": "2025-05-05T15:04:21.646975Z"
    }
   },
   "cell_type": "code",
   "source": [
    "# PARAMETERS\n",
    "DATA_PATH = 'datasets/XAGUSD-H1-rates.csv'   # Path to your historical Forex data CSV\n",
    "MODEL_SAVE_PATH = 'lstm_forex_model.h5'\n",
    "WINDOW_SIZE = 30              # Number of past candles used as input\n",
    "FORECAST_HORIZON = 10         # Number of future candles to predict\n",
    "BATCH_SIZE = 32\n",
    "EPOCHS = 50\n",
    "LEARNING_RATE = 0.001\n",
    "TEST_SIZE = 0.2               # % of data for validation\n",
    "TARGET_COLUMN = '<CLOSE>'       # Which price to predict: '<CLOSE>', 'open', etc."
   ],
   "id": "a0a3442ad90bf80e",
   "outputs": [],
   "execution_count": 10
  },
  {
   "metadata": {
    "ExecuteTime": {
     "end_time": "2025-05-05T15:04:23.457028Z",
     "start_time": "2025-05-05T15:04:23.400253Z"
    }
   },
   "cell_type": "code",
   "source": [
    "# Load your historical Forex data\n",
    "df = pd.read_csv(DATA_PATH, sep='\\t')\n",
    "\n",
    "# Basic cleaning if necessary\n",
    "df = df.dropna()\n",
    "df.head()"
   ],
   "id": "6d0917a2521c48e7",
   "outputs": [
    {
     "data": {
      "text/plain": [
       "       <DATE>    <TIME>  <OPEN>  <HIGH>   <LOW>  <CLOSE>  <TICKVOL>     <VOL>  \\\n",
       "0  2015.01.02  09:00:00  15.889  15.896  15.807   15.834        993  18451000   \n",
       "1  2015.01.02  10:00:00  15.836  15.864  15.822   15.834       1116  25764000   \n",
       "2  2015.01.02  11:00:00  15.836  15.838  15.790   15.822       1023  18885000   \n",
       "3  2015.01.02  12:00:00  15.827  15.828  15.725   15.772       1286  23593000   \n",
       "4  2015.01.02  13:00:00  15.781  15.786  15.667   15.734       1584  28750000   \n",
       "\n",
       "   <SPREAD>  \n",
       "0        21  \n",
       "1        22  \n",
       "2        19  \n",
       "3        21  \n",
       "4        17  "
      ],
      "text/html": [
       "<div>\n",
       "<style scoped>\n",
       "    .dataframe tbody tr th:only-of-type {\n",
       "        vertical-align: middle;\n",
       "    }\n",
       "\n",
       "    .dataframe tbody tr th {\n",
       "        vertical-align: top;\n",
       "    }\n",
       "\n",
       "    .dataframe thead th {\n",
       "        text-align: right;\n",
       "    }\n",
       "</style>\n",
       "<table border=\"1\" class=\"dataframe\">\n",
       "  <thead>\n",
       "    <tr style=\"text-align: right;\">\n",
       "      <th></th>\n",
       "      <th>&lt;DATE&gt;</th>\n",
       "      <th>&lt;TIME&gt;</th>\n",
       "      <th>&lt;OPEN&gt;</th>\n",
       "      <th>&lt;HIGH&gt;</th>\n",
       "      <th>&lt;LOW&gt;</th>\n",
       "      <th>&lt;CLOSE&gt;</th>\n",
       "      <th>&lt;TICKVOL&gt;</th>\n",
       "      <th>&lt;VOL&gt;</th>\n",
       "      <th>&lt;SPREAD&gt;</th>\n",
       "    </tr>\n",
       "  </thead>\n",
       "  <tbody>\n",
       "    <tr>\n",
       "      <th>0</th>\n",
       "      <td>2015.01.02</td>\n",
       "      <td>09:00:00</td>\n",
       "      <td>15.889</td>\n",
       "      <td>15.896</td>\n",
       "      <td>15.807</td>\n",
       "      <td>15.834</td>\n",
       "      <td>993</td>\n",
       "      <td>18451000</td>\n",
       "      <td>21</td>\n",
       "    </tr>\n",
       "    <tr>\n",
       "      <th>1</th>\n",
       "      <td>2015.01.02</td>\n",
       "      <td>10:00:00</td>\n",
       "      <td>15.836</td>\n",
       "      <td>15.864</td>\n",
       "      <td>15.822</td>\n",
       "      <td>15.834</td>\n",
       "      <td>1116</td>\n",
       "      <td>25764000</td>\n",
       "      <td>22</td>\n",
       "    </tr>\n",
       "    <tr>\n",
       "      <th>2</th>\n",
       "      <td>2015.01.02</td>\n",
       "      <td>11:00:00</td>\n",
       "      <td>15.836</td>\n",
       "      <td>15.838</td>\n",
       "      <td>15.790</td>\n",
       "      <td>15.822</td>\n",
       "      <td>1023</td>\n",
       "      <td>18885000</td>\n",
       "      <td>19</td>\n",
       "    </tr>\n",
       "    <tr>\n",
       "      <th>3</th>\n",
       "      <td>2015.01.02</td>\n",
       "      <td>12:00:00</td>\n",
       "      <td>15.827</td>\n",
       "      <td>15.828</td>\n",
       "      <td>15.725</td>\n",
       "      <td>15.772</td>\n",
       "      <td>1286</td>\n",
       "      <td>23593000</td>\n",
       "      <td>21</td>\n",
       "    </tr>\n",
       "    <tr>\n",
       "      <th>4</th>\n",
       "      <td>2015.01.02</td>\n",
       "      <td>13:00:00</td>\n",
       "      <td>15.781</td>\n",
       "      <td>15.786</td>\n",
       "      <td>15.667</td>\n",
       "      <td>15.734</td>\n",
       "      <td>1584</td>\n",
       "      <td>28750000</td>\n",
       "      <td>17</td>\n",
       "    </tr>\n",
       "  </tbody>\n",
       "</table>\n",
       "</div>"
      ]
     },
     "execution_count": 11,
     "metadata": {},
     "output_type": "execute_result"
    }
   ],
   "execution_count": 11
  },
  {
   "metadata": {
    "ExecuteTime": {
     "end_time": "2025-05-05T15:04:36.972155Z",
     "start_time": "2025-05-05T15:04:36.938146Z"
    }
   },
   "cell_type": "code",
   "source": [
    "# Feature Engineering (TA-Lib indicators)\n",
    "def add_ta_features(df):\n",
    "    df['rsi'] = talib.RSI(df['<CLOSE>'], timeperiod=14)\n",
    "    df['macd'], df['MACD_signal'], df['MACD_hist'] = talib.MACD(df['<CLOSE>'])\n",
    "    df['ema_10'] = talib.EMA(df['<CLOSE>'], timeperiod=10)\n",
    "    df['ema_50'] = talib.EMA(df['<CLOSE>'], timeperiod=50)\n",
    "    df['atr'] = talib.ATR(df['<HIGH>'], df['<LOW>'], df['<CLOSE>'], timeperiod=14)\n",
    "    df['adx'] = talib.ADX(df['<HIGH>'], df['<LOW>'], df['<CLOSE>'], timeperiod=14)\n",
    "    df = df.dropna()\n",
    "    return df\n",
    "\n",
    "\n",
    "df = add_ta_features(df)\n",
    "df.head()\n"
   ],
   "id": "af3ae3cdb2f1d06",
   "outputs": [
    {
     "data": {
      "text/plain": [
       "        <DATE>    <TIME>  <OPEN>  <HIGH>   <LOW>  <CLOSE>  <TICKVOL>  \\\n",
       "49  2015.01.06  11:00:00  16.335  16.363  16.291   16.337       1619   \n",
       "50  2015.01.06  12:00:00  16.339  16.339  16.267   16.280        935   \n",
       "51  2015.01.06  13:00:00  16.282  16.293  16.207   16.218        996   \n",
       "52  2015.01.06  14:00:00  16.218  16.270  16.188   16.245       1055   \n",
       "53  2015.01.06  15:00:00  16.249  16.336  16.187   16.242       1910   \n",
       "\n",
       "       <VOL>  <SPREAD>        rsi      macd  MACD_signal  MACD_hist  \\\n",
       "49  27298000        14  63.967811  0.090198     0.085270   0.004928   \n",
       "50  17768000        19  59.030236  0.087423     0.085701   0.001722   \n",
       "51  21705000        20  54.135432  0.079307     0.084422  -0.005115   \n",
       "52  21843000        18  55.852257  0.074198     0.082377  -0.008179   \n",
       "53  43189000        15  55.603205  0.069111     0.079724  -0.010613   \n",
       "\n",
       "       ema_10     ema_50       atr        adx  \n",
       "49  16.245239  15.994400  0.093989  25.032045  \n",
       "50  16.251559  16.005600  0.092418  25.807159  \n",
       "51  16.245458  16.013929  0.091960  25.448281  \n",
       "52  16.245374  16.022991  0.091248  24.800014  \n",
       "53  16.244761  16.031580  0.095373  24.915935  "
      ],
      "text/html": [
       "<div>\n",
       "<style scoped>\n",
       "    .dataframe tbody tr th:only-of-type {\n",
       "        vertical-align: middle;\n",
       "    }\n",
       "\n",
       "    .dataframe tbody tr th {\n",
       "        vertical-align: top;\n",
       "    }\n",
       "\n",
       "    .dataframe thead th {\n",
       "        text-align: right;\n",
       "    }\n",
       "</style>\n",
       "<table border=\"1\" class=\"dataframe\">\n",
       "  <thead>\n",
       "    <tr style=\"text-align: right;\">\n",
       "      <th></th>\n",
       "      <th>&lt;DATE&gt;</th>\n",
       "      <th>&lt;TIME&gt;</th>\n",
       "      <th>&lt;OPEN&gt;</th>\n",
       "      <th>&lt;HIGH&gt;</th>\n",
       "      <th>&lt;LOW&gt;</th>\n",
       "      <th>&lt;CLOSE&gt;</th>\n",
       "      <th>&lt;TICKVOL&gt;</th>\n",
       "      <th>&lt;VOL&gt;</th>\n",
       "      <th>&lt;SPREAD&gt;</th>\n",
       "      <th>rsi</th>\n",
       "      <th>macd</th>\n",
       "      <th>MACD_signal</th>\n",
       "      <th>MACD_hist</th>\n",
       "      <th>ema_10</th>\n",
       "      <th>ema_50</th>\n",
       "      <th>atr</th>\n",
       "      <th>adx</th>\n",
       "    </tr>\n",
       "  </thead>\n",
       "  <tbody>\n",
       "    <tr>\n",
       "      <th>49</th>\n",
       "      <td>2015.01.06</td>\n",
       "      <td>11:00:00</td>\n",
       "      <td>16.335</td>\n",
       "      <td>16.363</td>\n",
       "      <td>16.291</td>\n",
       "      <td>16.337</td>\n",
       "      <td>1619</td>\n",
       "      <td>27298000</td>\n",
       "      <td>14</td>\n",
       "      <td>63.967811</td>\n",
       "      <td>0.090198</td>\n",
       "      <td>0.085270</td>\n",
       "      <td>0.004928</td>\n",
       "      <td>16.245239</td>\n",
       "      <td>15.994400</td>\n",
       "      <td>0.093989</td>\n",
       "      <td>25.032045</td>\n",
       "    </tr>\n",
       "    <tr>\n",
       "      <th>50</th>\n",
       "      <td>2015.01.06</td>\n",
       "      <td>12:00:00</td>\n",
       "      <td>16.339</td>\n",
       "      <td>16.339</td>\n",
       "      <td>16.267</td>\n",
       "      <td>16.280</td>\n",
       "      <td>935</td>\n",
       "      <td>17768000</td>\n",
       "      <td>19</td>\n",
       "      <td>59.030236</td>\n",
       "      <td>0.087423</td>\n",
       "      <td>0.085701</td>\n",
       "      <td>0.001722</td>\n",
       "      <td>16.251559</td>\n",
       "      <td>16.005600</td>\n",
       "      <td>0.092418</td>\n",
       "      <td>25.807159</td>\n",
       "    </tr>\n",
       "    <tr>\n",
       "      <th>51</th>\n",
       "      <td>2015.01.06</td>\n",
       "      <td>13:00:00</td>\n",
       "      <td>16.282</td>\n",
       "      <td>16.293</td>\n",
       "      <td>16.207</td>\n",
       "      <td>16.218</td>\n",
       "      <td>996</td>\n",
       "      <td>21705000</td>\n",
       "      <td>20</td>\n",
       "      <td>54.135432</td>\n",
       "      <td>0.079307</td>\n",
       "      <td>0.084422</td>\n",
       "      <td>-0.005115</td>\n",
       "      <td>16.245458</td>\n",
       "      <td>16.013929</td>\n",
       "      <td>0.091960</td>\n",
       "      <td>25.448281</td>\n",
       "    </tr>\n",
       "    <tr>\n",
       "      <th>52</th>\n",
       "      <td>2015.01.06</td>\n",
       "      <td>14:00:00</td>\n",
       "      <td>16.218</td>\n",
       "      <td>16.270</td>\n",
       "      <td>16.188</td>\n",
       "      <td>16.245</td>\n",
       "      <td>1055</td>\n",
       "      <td>21843000</td>\n",
       "      <td>18</td>\n",
       "      <td>55.852257</td>\n",
       "      <td>0.074198</td>\n",
       "      <td>0.082377</td>\n",
       "      <td>-0.008179</td>\n",
       "      <td>16.245374</td>\n",
       "      <td>16.022991</td>\n",
       "      <td>0.091248</td>\n",
       "      <td>24.800014</td>\n",
       "    </tr>\n",
       "    <tr>\n",
       "      <th>53</th>\n",
       "      <td>2015.01.06</td>\n",
       "      <td>15:00:00</td>\n",
       "      <td>16.249</td>\n",
       "      <td>16.336</td>\n",
       "      <td>16.187</td>\n",
       "      <td>16.242</td>\n",
       "      <td>1910</td>\n",
       "      <td>43189000</td>\n",
       "      <td>15</td>\n",
       "      <td>55.603205</td>\n",
       "      <td>0.069111</td>\n",
       "      <td>0.079724</td>\n",
       "      <td>-0.010613</td>\n",
       "      <td>16.244761</td>\n",
       "      <td>16.031580</td>\n",
       "      <td>0.095373</td>\n",
       "      <td>24.915935</td>\n",
       "    </tr>\n",
       "  </tbody>\n",
       "</table>\n",
       "</div>"
      ]
     },
     "execution_count": 12,
     "metadata": {},
     "output_type": "execute_result"
    }
   ],
   "execution_count": 12
  },
  {
   "metadata": {
    "ExecuteTime": {
     "end_time": "2025-05-05T15:04:40.217427Z",
     "start_time": "2025-05-05T15:04:40.199378Z"
    }
   },
   "cell_type": "code",
   "source": [
    "# Scaling Features\n",
    "scaler = MinMaxScaler()\n",
    "scaled_features = scaler.fit_transform(df[['<OPEN>', '<HIGH>', '<LOW>', '<CLOSE>', '<TICKVOL>', 'rsi', 'macd', 'ema_10', 'ema_50', 'atr', 'adx']])"
   ],
   "id": "2576ba2f7960ee2e",
   "outputs": [],
   "execution_count": 13
  },
  {
   "metadata": {
    "ExecuteTime": {
     "end_time": "2025-05-05T15:04:53.907166Z",
     "start_time": "2025-05-05T15:04:53.822221Z"
    }
   },
   "cell_type": "code",
   "source": [
    "def create_sequences(features, target, window_size, forecast_horizon):\n",
    "    X, y = [], []\n",
    "    for i in range(window_size, len(features) - forecast_horizon):\n",
    "        X.append(features[i-window_size:i])\n",
    "        y.append(target[i:i+forecast_horizon])\n",
    "    return np.array(X), np.array(y)\n",
    "\n",
    "# Prepare data\n",
    "target_data = df[TARGET_COLUMN].values\n",
    "X, y = create_sequences(scaled_features, target_data, WINDOW_SIZE, FORECAST_HORIZON)\n",
    "\n",
    "print(f'Input shape: {X.shape}')\n",
    "print(f'Target shape: {y.shape}')"
   ],
   "id": "ed1f7ad746dc353b",
   "outputs": [
    {
     "name": "stdout",
     "output_type": "stream",
     "text": [
      "Input shape: (54994, 30, 11)\n",
      "Target shape: (54994, 10)\n"
     ]
    }
   ],
   "execution_count": 14
  },
  {
   "metadata": {
    "ExecuteTime": {
     "end_time": "2025-05-05T15:04:58.280314Z",
     "start_time": "2025-05-05T15:04:58.247987Z"
    }
   },
   "cell_type": "code",
   "source": [
    "# Train-test split\n",
    "X_train, X_test, y_train, y_test = train_test_split(X, y, test_size=TEST_SIZE, shuffle=False)\n",
    "\n",
    "print(\"Train:\", X_train.shape, y_train.shape)\n",
    "print(\"Test :\", X_test.shape, y_test.shape)"
   ],
   "id": "cd10cdb75fc6d0cc",
   "outputs": [
    {
     "name": "stdout",
     "output_type": "stream",
     "text": [
      "Train: (43995, 30, 11) (43995, 10)\n",
      "Test : (10999, 30, 11) (10999, 10)\n"
     ]
    }
   ],
   "execution_count": 15
  },
  {
   "metadata": {
    "ExecuteTime": {
     "end_time": "2025-05-05T15:05:12.032127Z",
     "start_time": "2025-05-05T15:05:11.978146Z"
    }
   },
   "cell_type": "code",
   "source": [
    "def build_model(input_shape, forecast_horizon, learning_rate):\n",
    "    model = Sequential([\n",
    "        LSTM(64, return_sequences=True, input_shape=input_shape),\n",
    "        Dropout(0.2),\n",
    "        LSTM(32),\n",
    "        Dropout(0.2),\n",
    "        Dense(forecast_horizon)\n",
    "    ])\n",
    "    optimizer = tf.keras.optimizers.Adam(learning_rate=learning_rate)\n",
    "    model.compile(optimizer=optimizer, loss='mse')\n",
    "    return model\n",
    "\n",
    "model = build_model((X_train.shape[1], X_train.shape[2]), FORECAST_HORIZON, LEARNING_RATE)\n",
    "model.summary()"
   ],
   "id": "10ade00f57ee68e",
   "outputs": [
    {
     "name": "stderr",
     "output_type": "stream",
     "text": [
      "/home/saeed/repositories/machine-learning/forex-prediction/envs/lib/python3.11/site-packages/keras/src/layers/rnn/rnn.py:200: UserWarning: Do not pass an `input_shape`/`input_dim` argument to a layer. When using Sequential models, prefer using an `Input(shape)` object as the first layer in the model instead.\n",
      "  super().__init__(**kwargs)\n"
     ]
    },
    {
     "data": {
      "text/plain": [
       "\u001B[1mModel: \"sequential_1\"\u001B[0m\n"
      ],
      "text/html": [
       "<pre style=\"white-space:pre;overflow-x:auto;line-height:normal;font-family:Menlo,'DejaVu Sans Mono',consolas,'Courier New',monospace\"><span style=\"font-weight: bold\">Model: \"sequential_1\"</span>\n",
       "</pre>\n"
      ]
     },
     "metadata": {},
     "output_type": "display_data"
    },
    {
     "data": {
      "text/plain": [
       "┏━━━━━━━━━━━━━━━━━━━━━━━━━━━━━━━━━┳━━━━━━━━━━━━━━━━━━━━━━━━┳━━━━━━━━━━━━━━━┓\n",
       "┃\u001B[1m \u001B[0m\u001B[1mLayer (type)                   \u001B[0m\u001B[1m \u001B[0m┃\u001B[1m \u001B[0m\u001B[1mOutput Shape          \u001B[0m\u001B[1m \u001B[0m┃\u001B[1m \u001B[0m\u001B[1m      Param #\u001B[0m\u001B[1m \u001B[0m┃\n",
       "┡━━━━━━━━━━━━━━━━━━━━━━━━━━━━━━━━━╇━━━━━━━━━━━━━━━━━━━━━━━━╇━━━━━━━━━━━━━━━┩\n",
       "│ lstm_2 (\u001B[38;5;33mLSTM\u001B[0m)                   │ (\u001B[38;5;45mNone\u001B[0m, \u001B[38;5;34m30\u001B[0m, \u001B[38;5;34m64\u001B[0m)         │        \u001B[38;5;34m19,456\u001B[0m │\n",
       "├─────────────────────────────────┼────────────────────────┼───────────────┤\n",
       "│ dropout_2 (\u001B[38;5;33mDropout\u001B[0m)             │ (\u001B[38;5;45mNone\u001B[0m, \u001B[38;5;34m30\u001B[0m, \u001B[38;5;34m64\u001B[0m)         │             \u001B[38;5;34m0\u001B[0m │\n",
       "├─────────────────────────────────┼────────────────────────┼───────────────┤\n",
       "│ lstm_3 (\u001B[38;5;33mLSTM\u001B[0m)                   │ (\u001B[38;5;45mNone\u001B[0m, \u001B[38;5;34m32\u001B[0m)             │        \u001B[38;5;34m12,416\u001B[0m │\n",
       "├─────────────────────────────────┼────────────────────────┼───────────────┤\n",
       "│ dropout_3 (\u001B[38;5;33mDropout\u001B[0m)             │ (\u001B[38;5;45mNone\u001B[0m, \u001B[38;5;34m32\u001B[0m)             │             \u001B[38;5;34m0\u001B[0m │\n",
       "├─────────────────────────────────┼────────────────────────┼───────────────┤\n",
       "│ dense_1 (\u001B[38;5;33mDense\u001B[0m)                 │ (\u001B[38;5;45mNone\u001B[0m, \u001B[38;5;34m10\u001B[0m)             │           \u001B[38;5;34m330\u001B[0m │\n",
       "└─────────────────────────────────┴────────────────────────┴───────────────┘\n"
      ],
      "text/html": [
       "<pre style=\"white-space:pre;overflow-x:auto;line-height:normal;font-family:Menlo,'DejaVu Sans Mono',consolas,'Courier New',monospace\">┏━━━━━━━━━━━━━━━━━━━━━━━━━━━━━━━━━┳━━━━━━━━━━━━━━━━━━━━━━━━┳━━━━━━━━━━━━━━━┓\n",
       "┃<span style=\"font-weight: bold\"> Layer (type)                    </span>┃<span style=\"font-weight: bold\"> Output Shape           </span>┃<span style=\"font-weight: bold\">       Param # </span>┃\n",
       "┡━━━━━━━━━━━━━━━━━━━━━━━━━━━━━━━━━╇━━━━━━━━━━━━━━━━━━━━━━━━╇━━━━━━━━━━━━━━━┩\n",
       "│ lstm_2 (<span style=\"color: #0087ff; text-decoration-color: #0087ff\">LSTM</span>)                   │ (<span style=\"color: #00d7ff; text-decoration-color: #00d7ff\">None</span>, <span style=\"color: #00af00; text-decoration-color: #00af00\">30</span>, <span style=\"color: #00af00; text-decoration-color: #00af00\">64</span>)         │        <span style=\"color: #00af00; text-decoration-color: #00af00\">19,456</span> │\n",
       "├─────────────────────────────────┼────────────────────────┼───────────────┤\n",
       "│ dropout_2 (<span style=\"color: #0087ff; text-decoration-color: #0087ff\">Dropout</span>)             │ (<span style=\"color: #00d7ff; text-decoration-color: #00d7ff\">None</span>, <span style=\"color: #00af00; text-decoration-color: #00af00\">30</span>, <span style=\"color: #00af00; text-decoration-color: #00af00\">64</span>)         │             <span style=\"color: #00af00; text-decoration-color: #00af00\">0</span> │\n",
       "├─────────────────────────────────┼────────────────────────┼───────────────┤\n",
       "│ lstm_3 (<span style=\"color: #0087ff; text-decoration-color: #0087ff\">LSTM</span>)                   │ (<span style=\"color: #00d7ff; text-decoration-color: #00d7ff\">None</span>, <span style=\"color: #00af00; text-decoration-color: #00af00\">32</span>)             │        <span style=\"color: #00af00; text-decoration-color: #00af00\">12,416</span> │\n",
       "├─────────────────────────────────┼────────────────────────┼───────────────┤\n",
       "│ dropout_3 (<span style=\"color: #0087ff; text-decoration-color: #0087ff\">Dropout</span>)             │ (<span style=\"color: #00d7ff; text-decoration-color: #00d7ff\">None</span>, <span style=\"color: #00af00; text-decoration-color: #00af00\">32</span>)             │             <span style=\"color: #00af00; text-decoration-color: #00af00\">0</span> │\n",
       "├─────────────────────────────────┼────────────────────────┼───────────────┤\n",
       "│ dense_1 (<span style=\"color: #0087ff; text-decoration-color: #0087ff\">Dense</span>)                 │ (<span style=\"color: #00d7ff; text-decoration-color: #00d7ff\">None</span>, <span style=\"color: #00af00; text-decoration-color: #00af00\">10</span>)             │           <span style=\"color: #00af00; text-decoration-color: #00af00\">330</span> │\n",
       "└─────────────────────────────────┴────────────────────────┴───────────────┘\n",
       "</pre>\n"
      ]
     },
     "metadata": {},
     "output_type": "display_data"
    },
    {
     "data": {
      "text/plain": [
       "\u001B[1m Total params: \u001B[0m\u001B[38;5;34m32,202\u001B[0m (125.79 KB)\n"
      ],
      "text/html": [
       "<pre style=\"white-space:pre;overflow-x:auto;line-height:normal;font-family:Menlo,'DejaVu Sans Mono',consolas,'Courier New',monospace\"><span style=\"font-weight: bold\"> Total params: </span><span style=\"color: #00af00; text-decoration-color: #00af00\">32,202</span> (125.79 KB)\n",
       "</pre>\n"
      ]
     },
     "metadata": {},
     "output_type": "display_data"
    },
    {
     "data": {
      "text/plain": [
       "\u001B[1m Trainable params: \u001B[0m\u001B[38;5;34m32,202\u001B[0m (125.79 KB)\n"
      ],
      "text/html": [
       "<pre style=\"white-space:pre;overflow-x:auto;line-height:normal;font-family:Menlo,'DejaVu Sans Mono',consolas,'Courier New',monospace\"><span style=\"font-weight: bold\"> Trainable params: </span><span style=\"color: #00af00; text-decoration-color: #00af00\">32,202</span> (125.79 KB)\n",
       "</pre>\n"
      ]
     },
     "metadata": {},
     "output_type": "display_data"
    },
    {
     "data": {
      "text/plain": [
       "\u001B[1m Non-trainable params: \u001B[0m\u001B[38;5;34m0\u001B[0m (0.00 B)\n"
      ],
      "text/html": [
       "<pre style=\"white-space:pre;overflow-x:auto;line-height:normal;font-family:Menlo,'DejaVu Sans Mono',consolas,'Courier New',monospace\"><span style=\"font-weight: bold\"> Non-trainable params: </span><span style=\"color: #00af00; text-decoration-color: #00af00\">0</span> (0.00 B)\n",
       "</pre>\n"
      ]
     },
     "metadata": {},
     "output_type": "display_data"
    }
   ],
   "execution_count": 17
  },
  {
   "metadata": {
    "ExecuteTime": {
     "end_time": "2025-05-05T15:08:39.920704Z",
     "start_time": "2025-05-05T15:05:32.744482Z"
    }
   },
   "cell_type": "code",
   "source": [
    "# Training model\n",
    "es = callbacks.EarlyStopping(monitor='val_loss', patience=5, restore_best_weights=True)\n",
    "history = model.fit(\n",
    "    X_train, y_train,\n",
    "    validation_data=(X_test, y_test),\n",
    "    epochs=EPOCHS,\n",
    "    batch_size=BATCH_SIZE,\n",
    "    verbose=1,\n",
    "    callbacks=[es]\n",
    ")"
   ],
   "id": "51a6930d877b1d8c",
   "outputs": [
    {
     "name": "stdout",
     "output_type": "stream",
     "text": [
      "Epoch 1/50\n"
     ]
    },
    {
     "name": "stderr",
     "output_type": "stream",
     "text": [
      "I0000 00:00:1746457534.523942    6863 cuda_dnn.cc:529] Loaded cuDNN version 90800\n"
     ]
    },
    {
     "name": "stdout",
     "output_type": "stream",
     "text": [
      "\u001B[1m1375/1375\u001B[0m \u001B[32m━━━━━━━━━━━━━━━━━━━━\u001B[0m\u001B[37m\u001B[0m \u001B[1m13s\u001B[0m 8ms/step - loss: 125.4268 - val_loss: 22.9161\n",
      "Epoch 2/50\n",
      "\u001B[1m1375/1375\u001B[0m \u001B[32m━━━━━━━━━━━━━━━━━━━━\u001B[0m\u001B[37m\u001B[0m \u001B[1m11s\u001B[0m 8ms/step - loss: 18.1984 - val_loss: 22.4737\n",
      "Epoch 3/50\n",
      "\u001B[1m1375/1375\u001B[0m \u001B[32m━━━━━━━━━━━━━━━━━━━━\u001B[0m\u001B[37m\u001B[0m \u001B[1m10s\u001B[0m 7ms/step - loss: 17.7075 - val_loss: 1.3021\n",
      "Epoch 4/50\n",
      "\u001B[1m1375/1375\u001B[0m \u001B[32m━━━━━━━━━━━━━━━━━━━━\u001B[0m\u001B[37m\u001B[0m \u001B[1m11s\u001B[0m 8ms/step - loss: 3.3364 - val_loss: 0.1396\n",
      "Epoch 5/50\n",
      "\u001B[1m1375/1375\u001B[0m \u001B[32m━━━━━━━━━━━━━━━━━━━━\u001B[0m\u001B[37m\u001B[0m \u001B[1m11s\u001B[0m 8ms/step - loss: 2.6746 - val_loss: 0.0950\n",
      "Epoch 6/50\n",
      "\u001B[1m1375/1375\u001B[0m \u001B[32m━━━━━━━━━━━━━━━━━━━━\u001B[0m\u001B[37m\u001B[0m \u001B[1m10s\u001B[0m 7ms/step - loss: 2.5661 - val_loss: 0.1130\n",
      "Epoch 7/50\n",
      "\u001B[1m1375/1375\u001B[0m \u001B[32m━━━━━━━━━━━━━━━━━━━━\u001B[0m\u001B[37m\u001B[0m \u001B[1m9s\u001B[0m 7ms/step - loss: 2.4088 - val_loss: 0.4329\n",
      "Epoch 8/50\n",
      "\u001B[1m1375/1375\u001B[0m \u001B[32m━━━━━━━━━━━━━━━━━━━━\u001B[0m\u001B[37m\u001B[0m \u001B[1m9s\u001B[0m 7ms/step - loss: 2.2926 - val_loss: 0.3850\n",
      "Epoch 9/50\n",
      "\u001B[1m1375/1375\u001B[0m \u001B[32m━━━━━━━━━━━━━━━━━━━━\u001B[0m\u001B[37m\u001B[0m \u001B[1m9s\u001B[0m 7ms/step - loss: 2.1443 - val_loss: 0.0567\n",
      "Epoch 10/50\n",
      "\u001B[1m1375/1375\u001B[0m \u001B[32m━━━━━━━━━━━━━━━━━━━━\u001B[0m\u001B[37m\u001B[0m \u001B[1m10s\u001B[0m 7ms/step - loss: 2.0277 - val_loss: 0.1956\n",
      "Epoch 11/50\n",
      "\u001B[1m1375/1375\u001B[0m \u001B[32m━━━━━━━━━━━━━━━━━━━━\u001B[0m\u001B[37m\u001B[0m \u001B[1m9s\u001B[0m 7ms/step - loss: 1.8867 - val_loss: 0.0903\n",
      "Epoch 12/50\n",
      "\u001B[1m1375/1375\u001B[0m \u001B[32m━━━━━━━━━━━━━━━━━━━━\u001B[0m\u001B[37m\u001B[0m \u001B[1m10s\u001B[0m 7ms/step - loss: 1.7803 - val_loss: 0.0711\n",
      "Epoch 13/50\n",
      "\u001B[1m1375/1375\u001B[0m \u001B[32m━━━━━━━━━━━━━━━━━━━━\u001B[0m\u001B[37m\u001B[0m \u001B[1m9s\u001B[0m 7ms/step - loss: 1.7122 - val_loss: 0.1759\n",
      "Epoch 14/50\n",
      "\u001B[1m1375/1375\u001B[0m \u001B[32m━━━━━━━━━━━━━━━━━━━━\u001B[0m\u001B[37m\u001B[0m \u001B[1m9s\u001B[0m 7ms/step - loss: 1.6193 - val_loss: 0.0545\n",
      "Epoch 15/50\n",
      "\u001B[1m1375/1375\u001B[0m \u001B[32m━━━━━━━━━━━━━━━━━━━━\u001B[0m\u001B[37m\u001B[0m \u001B[1m10s\u001B[0m 7ms/step - loss: 1.4767 - val_loss: 0.1992\n",
      "Epoch 16/50\n",
      "\u001B[1m1375/1375\u001B[0m \u001B[32m━━━━━━━━━━━━━━━━━━━━\u001B[0m\u001B[37m\u001B[0m \u001B[1m10s\u001B[0m 7ms/step - loss: 1.3922 - val_loss: 0.2083\n",
      "Epoch 17/50\n",
      "\u001B[1m1375/1375\u001B[0m \u001B[32m━━━━━━━━━━━━━━━━━━━━\u001B[0m\u001B[37m\u001B[0m \u001B[1m9s\u001B[0m 6ms/step - loss: 1.2895 - val_loss: 0.0738\n",
      "Epoch 18/50\n",
      "\u001B[1m1375/1375\u001B[0m \u001B[32m━━━━━━━━━━━━━━━━━━━━\u001B[0m\u001B[37m\u001B[0m \u001B[1m9s\u001B[0m 7ms/step - loss: 1.1978 - val_loss: 0.0766\n",
      "Epoch 19/50\n",
      "\u001B[1m1375/1375\u001B[0m \u001B[32m━━━━━━━━━━━━━━━━━━━━\u001B[0m\u001B[37m\u001B[0m \u001B[1m9s\u001B[0m 6ms/step - loss: 1.1221 - val_loss: 0.1932\n"
     ]
    }
   ],
   "execution_count": 18
  },
  {
   "metadata": {
    "ExecuteTime": {
     "end_time": "2025-05-05T15:09:03.289094Z",
     "start_time": "2025-05-05T15:09:02.295107Z"
    }
   },
   "cell_type": "code",
   "source": [
    "# Predict\n",
    "y_pred = model.predict(X_test)\n",
    "\n",
    "# Inverse Scaling (Optional, if needed)\n",
    "# Example if you had scaled target separately, here we skipped that\n"
   ],
   "id": "35548e4d50cceec2",
   "outputs": [
    {
     "name": "stdout",
     "output_type": "stream",
     "text": [
      "\u001B[1m344/344\u001B[0m \u001B[32m━━━━━━━━━━━━━━━━━━━━\u001B[0m\u001B[37m\u001B[0m \u001B[1m1s\u001B[0m 2ms/step\n"
     ]
    }
   ],
   "execution_count": 19
  },
  {
   "metadata": {
    "ExecuteTime": {
     "end_time": "2025-05-05T15:09:10.941830Z",
     "start_time": "2025-05-05T15:09:10.669193Z"
    }
   },
   "cell_type": "code",
   "source": [
    "# Plot first prediction vs true future prices\n",
    "plt.figure(figsize=(12,6))\n",
    "plt.plot(range(FORECAST_HORIZON), y_test[0], label='True Future')\n",
    "plt.plot(range(FORECAST_HORIZON), y_pred[0], label='Predicted Future')\n",
    "plt.title('Future Candle Price Prediction')\n",
    "plt.xlabel('Time Step into Future')\n",
    "plt.ylabel('Price')\n",
    "plt.legend()\n",
    "plt.show()\n"
   ],
   "id": "e72d77e2b76e7929",
   "outputs": [
    {
     "data": {
      "text/plain": [
       "<Figure size 1200x600 with 1 Axes>"
      ],
      "image/png": "[encoded data removed]"
     },
     "metadata": {},
     "output_type": "display_data"
    }
   ],
   "execution_count": 20
  },
  {
   "metadata": {},
   "cell_type": "code",
   "source": [
    "model.save(MODEL_SAVE_PATH)\n",
    "print(f\"Model saved to {MODEL_SAVE_PATH}\")\n"
   ],
   "id": "80f197fd15cc8aa1",
   "outputs": [],
   "execution_count": null
  }
 ],
 "metadata": {
  "kernelspec": {
   "name": "python3",
   "language": "python",
   "display_name": "Python 3 (ipykernel)"
  }
 },
 "nbformat": 5,
 "nbformat_minor": 9
}
