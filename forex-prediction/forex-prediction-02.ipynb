{
 "cells": [
  {
   "metadata": {},
   "cell_type": "markdown",
   "source": [
    "# ta-lib-008 ( Feature‑Engineering + Sequence Models)\n",
    "https://chatgpt.com/c/680d231a-52f4-800a-a105-9f5bfe49fca1\n",
    "\n",
    "What's new:\n",
    "\n",
    "1-"
   ],
   "id": "67a9ecb3258e8606"
  },
  {
   "metadata": {},
   "cell_type": "markdown",
   "source": "# Load your historical Forex data",
   "id": "19c70a234af05a4e"
  },
  {
   "metadata": {
    "ExecuteTime": {
     "end_time": "2025-05-06T11:44:26.268127Z",
     "start_time": "2025-05-06T11:44:26.259141Z"
    }
   },
   "cell_type": "code",
   "source": [
    "import pandas as pd\n",
    "import numpy as np\n",
    "import matplotlib.pyplot as plt\n",
    "import talib\n",
    "import tensorflow as tf\n",
    "from tensorflow.keras.models import Sequential\n",
    "from tensorflow.keras.layers import LSTM, Dense, Dropout\n",
    "from sklearn.preprocessing import MinMaxScaler\n",
    "from sklearn.model_selection import train_test_split\n",
    "from tensorflow.keras import callbacks"
   ],
   "id": "c980d7d41b42c555",
   "outputs": [],
   "execution_count": 2
  },
  {
   "metadata": {
    "ExecuteTime": {
     "end_time": "2025-05-06T11:44:27.808729Z",
     "start_time": "2025-05-06T11:44:27.802588Z"
    }
   },
   "cell_type": "code",
   "source": [
    "# PARAMETERS\n",
    "DATA_PATH = 'datasets/XAGUSD-H1-rates.csv'   # Path to your historical Forex data CSV\n",
    "MODEL_SAVE_PATH = 'lstm_forex_model.h5'\n",
    "WINDOW_SIZE = 30              # Number of past candles used as input\n",
    "FORECAST_HORIZON = 10         # Number of future candles to predict\n",
    "BATCH_SIZE = 32\n",
    "EPOCHS = 2\n",
    "LEARNING_RATE = 0.001\n",
    "TEST_SIZE = 0.2               # % of data for validation\n",
    "TARGET_COLUMN = '<CLOSE>'       # Which price to predict: '<CLOSE>', 'open', etc."
   ],
   "id": "a0a3442ad90bf80e",
   "outputs": [],
   "execution_count": 3
  },
  {
   "metadata": {
    "ExecuteTime": {
     "end_time": "2025-05-06T11:46:04.837283Z",
     "start_time": "2025-05-06T11:44:29.618430Z"
    }
   },
   "cell_type": "code",
   "source": [
    "\n",
    "df = pd.read_csv(DATA_PATH, sep='\\t')\n",
    "\n",
    "# Basic cleaning if necessary\n",
    "df = df.dropna()\n",
    "# Feature Engineering (TA-Lib indicators)\n",
    "def add_ta_features(df):\n",
    "    df['rsi'] = talib.RSI(df['<CLOSE>'], timeperiod=14)\n",
    "    df['macd'], df['MACD_signal'], df['MACD_hist'] = talib.MACD(df['<CLOSE>'])\n",
    "    df['ema_10'] = talib.EMA(df['<CLOSE>'], timeperiod=10)\n",
    "    df['ema_50'] = talib.EMA(df['<CLOSE>'], timeperiod=50)\n",
    "    df['atr'] = talib.ATR(df['<HIGH>'], df['<LOW>'], df['<CLOSE>'], timeperiod=14)\n",
    "    df['adx'] = talib.ADX(df['<HIGH>'], df['<LOW>'], df['<CLOSE>'], timeperiod=14)\n",
    "    df = df.dropna()\n",
    "    return df\n",
    "\n",
    "\n",
    "df = add_ta_features(df)\n",
    "# Scaling Features\n",
    "scaler = MinMaxScaler()\n",
    "scaled_features = scaler.fit_transform(df[['<OPEN>', '<HIGH>', '<LOW>', '<CLOSE>', '<TICKVOL>', 'rsi', 'macd', 'ema_10', 'ema_50', 'atr', 'adx']])\n",
    "def create_sequences(features, target, window_size, forecast_horizon):\n",
    "    X, y = [], []\n",
    "    for i in range(window_size, len(features) - forecast_horizon):\n",
    "        X.append(features[i-window_size:i])\n",
    "        y.append(target[i:i+forecast_horizon])\n",
    "    return np.array(X), np.array(y)\n",
    "\n",
    "# Prepare data\n",
    "target_data = df[TARGET_COLUMN].values\n",
    "X, y = create_sequences(scaled_features, target_data, WINDOW_SIZE, FORECAST_HORIZON)\n",
    "# Train-test split\n",
    "X_train, X_test, y_train, y_test = train_test_split(X, y, test_size=TEST_SIZE, shuffle=False)\n",
    "def build_model(input_shape, forecast_horizon, learning_rate):\n",
    "    model = Sequential([\n",
    "        LSTM(64, return_sequences=True, input_shape=input_shape),\n",
    "        Dropout(0.2),\n",
    "        LSTM(32),\n",
    "        Dropout(0.2),\n",
    "        Dense(forecast_horizon)\n",
    "    ])\n",
    "    optimizer = tf.keras.optimizers.Adam(learning_rate=learning_rate)\n",
    "    model.compile(optimizer=optimizer, loss='mse')\n",
    "    return model\n",
    "\n",
    "model = build_model((X_train.shape[1], X_train.shape[2]), FORECAST_HORIZON, LEARNING_RATE)\n",
    "# Training model\n",
    "es = callbacks.EarlyStopping(monitor='val_loss', patience=5, restore_best_weights=True)\n",
    "history = model.fit(\n",
    "    X_train, y_train,\n",
    "    validation_data=(X_test, y_test),\n",
    "    epochs=EPOCHS,\n",
    "    batch_size=BATCH_SIZE,\n",
    "    verbose=1,\n",
    "    callbacks=[es]\n",
    ")\n",
    "# Predict\n",
    "y_pred = model.predict(X_test)\n"
   ],
   "id": "cb7841301ce30d5b",
   "outputs": [
    {
     "name": "stderr",
     "output_type": "stream",
     "text": [
      "/home/saeed/repozitories/machine-learning/forex-prediction/envs/lib/python3.11/site-packages/keras/src/layers/rnn/rnn.py:200: UserWarning: Do not pass an `input_shape`/`input_dim` argument to a layer. When using Sequential models, prefer using an `Input(shape)` object as the first layer in the model instead.\n",
      "  super().__init__(**kwargs)\n"
     ]
    },
    {
     "name": "stdout",
     "output_type": "stream",
     "text": [
      "Epoch 1/2\n"
     ]
    },
    {
     "name": "stderr",
     "output_type": "stream",
     "text": [
      "2025-05-06 15:14:30.916309: W external/local_xla/xla/tsl/framework/cpu_allocator_impl.cc:83] Allocation of 58073400 exceeds 10% of free system memory.\n"
     ]
    },
    {
     "name": "stdout",
     "output_type": "stream",
     "text": [
      "\u001B[1m1375/1375\u001B[0m \u001B[32m━━━━━━━━━━━━━━━━━━━━\u001B[0m\u001B[37m\u001B[0m \u001B[1m48s\u001B[0m 32ms/step - loss: 124.6592 - val_loss: 22.5559\n",
      "Epoch 2/2\n",
      "\u001B[1m1375/1375\u001B[0m \u001B[32m━━━━━━━━━━━━━━━━━━━━\u001B[0m\u001B[37m\u001B[0m \u001B[1m41s\u001B[0m 30ms/step - loss: 18.3774 - val_loss: 22.5356\n",
      "\u001B[1m344/344\u001B[0m \u001B[32m━━━━━━━━━━━━━━━━━━━━\u001B[0m\u001B[37m\u001B[0m \u001B[1m5s\u001B[0m 13ms/step\n"
     ]
    }
   ],
   "execution_count": 4
  },
  {
   "metadata": {},
   "cell_type": "markdown",
   "source": "# plot section",
   "id": "6456b78cc1b88128"
  },
  {
   "metadata": {
    "ExecuteTime": {
     "end_time": "2025-05-06T11:46:08.237660Z",
     "start_time": "2025-05-06T11:46:07.801477Z"
    }
   },
   "cell_type": "code",
   "source": [
    "plt.plot(range(10), y_pred[0])\n",
    "plt.show()\n"
   ],
   "id": "e72d77e2b76e7929",
   "outputs": [
    {
     "data": {
      "text/plain": [
       "<Figure size 640x480 with 1 Axes>"
      ],
      "image/png": "[encoded data removed]"
     },
     "metadata": {},
     "output_type": "display_data"
    }
   ],
   "execution_count": 5
  },
  {
   "metadata": {
    "ExecuteTime": {
     "end_time": "2025-05-06T12:06:32.383364Z",
     "start_time": "2025-05-06T12:06:32.379839Z"
    }
   },
   "cell_type": "code",
   "source": [
    "from utils import forex_plot_utils\n",
    "from datetime import datetime\n",
    "\n",
    "# LOAD DATA\n",
    "start_time = datetime.now()\n",
    "\n",
    "# Create datetime index starting from now, one per hour\n",
    "datetime_index = pd.date_range(start=start_time, periods=len(y_pred[0]), freq='h')\n",
    "\n",
    "# Create DataFrame\n",
    "predicted_df = pd.DataFrame({'DATETIME': datetime_index, '<CLOSE>': y_pred[0]})\n",
    "\n",
    "# PLOT\n",
    "forex_plot_utils.plot_all_series(\n",
    "    predicted_df=predicted_df,\n",
    ")"
   ],
   "id": "a1add9f3788e184d",
   "outputs": [],
   "execution_count": 22
  }
 ],
 "metadata": {
  "kernelspec": {
   "name": "python3",
   "language": "python",
   "display_name": "Python 3 (ipykernel)"
  }
 },
 "nbformat": 5,
 "nbformat_minor": 9
}
