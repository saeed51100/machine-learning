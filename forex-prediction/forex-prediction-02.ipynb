{
 "cells": [
  {
   "metadata": {},
   "cell_type": "markdown",
   "source": [
    "# ta-lib-008 ( Feature‑Engineering + Sequence Models)\n",
    "https://chatgpt.com/c/680d231a-52f4-800a-a105-9f5bfe49fca1\n",
    "\n",
    "What's new:\n",
    "\n",
    "1-"
   ],
   "id": "67a9ecb3258e8606"
  },
  {
   "metadata": {},
   "cell_type": "markdown",
   "source": "# Load your historical Forex data",
   "id": "19c70a234af05a4e"
  },
  {
   "metadata": {
    "ExecuteTime": {
     "end_time": "2025-05-05T16:40:36.096190Z",
     "start_time": "2025-05-05T16:40:33.558755Z"
    }
   },
   "cell_type": "code",
   "source": [
    "import pandas as pd\n",
    "import numpy as np\n",
    "import matplotlib.pyplot as plt\n",
    "import talib\n",
    "import tensorflow as tf\n",
    "from tensorflow.keras.models import Sequential\n",
    "from tensorflow.keras.layers import LSTM, Dense, Dropout\n",
    "from sklearn.preprocessing import MinMaxScaler\n",
    "from sklearn.model_selection import train_test_split\n",
    "from tensorflow.keras import callbacks"
   ],
   "id": "c980d7d41b42c555",
   "outputs": [
    {
     "name": "stderr",
     "output_type": "stream",
     "text": [
      "2025-05-05 20:10:34.304720: E external/local_xla/xla/stream_executor/cuda/cuda_fft.cc:477] Unable to register cuFFT factory: Attempting to register factory for plugin cuFFT when one has already been registered\n",
      "WARNING: All log messages before absl::InitializeLog() is called are written to STDERR\n",
      "E0000 00:00:1746463234.319009   13577 cuda_dnn.cc:8310] Unable to register cuDNN factory: Attempting to register factory for plugin cuDNN when one has already been registered\n",
      "E0000 00:00:1746463234.323876   13577 cuda_blas.cc:1418] Unable to register cuBLAS factory: Attempting to register factory for plugin cuBLAS when one has already been registered\n",
      "2025-05-05 20:10:34.337583: I tensorflow/core/platform/cpu_feature_guard.cc:210] This TensorFlow binary is optimized to use available CPU instructions in performance-critical operations.\n",
      "To enable the following instructions: SSE4.1 SSE4.2 AVX AVX2 FMA, in other operations, rebuild TensorFlow with the appropriate compiler flags.\n"
     ]
    }
   ],
   "execution_count": 2
  },
  {
   "metadata": {
    "ExecuteTime": {
     "end_time": "2025-05-05T16:40:38.294329Z",
     "start_time": "2025-05-05T16:40:38.291619Z"
    }
   },
   "cell_type": "code",
   "source": [
    "# PARAMETERS\n",
    "DATA_PATH = 'datasets/XAGUSD-H1-rates.csv'   # Path to your historical Forex data CSV\n",
    "MODEL_SAVE_PATH = 'lstm_forex_model.h5'\n",
    "WINDOW_SIZE = 30              # Number of past candles used as input\n",
    "FORECAST_HORIZON = 10         # Number of future candles to predict\n",
    "BATCH_SIZE = 32\n",
    "EPOCHS = 2\n",
    "LEARNING_RATE = 0.001\n",
    "TEST_SIZE = 0.2               # % of data for validation\n",
    "TARGET_COLUMN = '<CLOSE>'       # Which price to predict: '<CLOSE>', 'open', etc."
   ],
   "id": "a0a3442ad90bf80e",
   "outputs": [],
   "execution_count": 3
  },
  {
   "metadata": {
    "ExecuteTime": {
     "end_time": "2025-05-05T16:41:12.472906Z",
     "start_time": "2025-05-05T16:40:42.118334Z"
    }
   },
   "cell_type": "code",
   "source": [
    "\n",
    "df = pd.read_csv(DATA_PATH, sep='\\t')\n",
    "\n",
    "# Basic cleaning if necessary\n",
    "df = df.dropna()\n",
    "# Feature Engineering (TA-Lib indicators)\n",
    "def add_ta_features(df):\n",
    "    df['rsi'] = talib.RSI(df['<CLOSE>'], timeperiod=14)\n",
    "    df['macd'], df['MACD_signal'], df['MACD_hist'] = talib.MACD(df['<CLOSE>'])\n",
    "    df['ema_10'] = talib.EMA(df['<CLOSE>'], timeperiod=10)\n",
    "    df['ema_50'] = talib.EMA(df['<CLOSE>'], timeperiod=50)\n",
    "    df['atr'] = talib.ATR(df['<HIGH>'], df['<LOW>'], df['<CLOSE>'], timeperiod=14)\n",
    "    df['adx'] = talib.ADX(df['<HIGH>'], df['<LOW>'], df['<CLOSE>'], timeperiod=14)\n",
    "    df = df.dropna()\n",
    "    return df\n",
    "\n",
    "\n",
    "df = add_ta_features(df)\n",
    "# Scaling Features\n",
    "scaler = MinMaxScaler()\n",
    "scaled_features = scaler.fit_transform(df[['<OPEN>', '<HIGH>', '<LOW>', '<CLOSE>', '<TICKVOL>', 'rsi', 'macd', 'ema_10', 'ema_50', 'atr', 'adx']])\n",
    "def create_sequences(features, target, window_size, forecast_horizon):\n",
    "    X, y = [], []\n",
    "    for i in range(window_size, len(features) - forecast_horizon):\n",
    "        X.append(features[i-window_size:i])\n",
    "        y.append(target[i:i+forecast_horizon])\n",
    "    return np.array(X), np.array(y)\n",
    "\n",
    "# Prepare data\n",
    "target_data = df[TARGET_COLUMN].values\n",
    "X, y = create_sequences(scaled_features, target_data, WINDOW_SIZE, FORECAST_HORIZON)\n",
    "# Train-test split\n",
    "X_train, X_test, y_train, y_test = train_test_split(X, y, test_size=TEST_SIZE, shuffle=False)\n",
    "def build_model(input_shape, forecast_horizon, learning_rate):\n",
    "    model = Sequential([\n",
    "        LSTM(64, return_sequences=True, input_shape=input_shape),\n",
    "        Dropout(0.2),\n",
    "        LSTM(32),\n",
    "        Dropout(0.2),\n",
    "        Dense(forecast_horizon)\n",
    "    ])\n",
    "    optimizer = tf.keras.optimizers.Adam(learning_rate=learning_rate)\n",
    "    model.compile(optimizer=optimizer, loss='mse')\n",
    "    return model\n",
    "\n",
    "model = build_model((X_train.shape[1], X_train.shape[2]), FORECAST_HORIZON, LEARNING_RATE)\n",
    "# Training model\n",
    "es = callbacks.EarlyStopping(monitor='val_loss', patience=5, restore_best_weights=True)\n",
    "history = model.fit(\n",
    "    X_train, y_train,\n",
    "    validation_data=(X_test, y_test),\n",
    "    epochs=EPOCHS,\n",
    "    batch_size=BATCH_SIZE,\n",
    "    verbose=1,\n",
    "    callbacks=[es]\n",
    ")\n",
    "# Predict\n",
    "y_pred = model.predict(X_test)\n"
   ],
   "id": "6d0917a2521c48e7",
   "outputs": [
    {
     "name": "stderr",
     "output_type": "stream",
     "text": [
      "I0000 00:00:1746463242.449304   13577 gpu_device.cc:2022] Created device /job:localhost/replica:0/task:0/device:GPU:0 with 2284 MB memory:  -> device: 0, name: NVIDIA GeForce GTX 1650 SUPER, pci bus id: 0000:01:00.0, compute capability: 7.5\n",
      "/home/saeed/repositories/machine-learning/forex-prediction/envs/lib/python3.11/site-packages/keras/src/layers/rnn/rnn.py:200: UserWarning: Do not pass an `input_shape`/`input_dim` argument to a layer. When using Sequential models, prefer using an `Input(shape)` object as the first layer in the model instead.\n",
      "  super().__init__(**kwargs)\n"
     ]
    },
    {
     "name": "stdout",
     "output_type": "stream",
     "text": [
      "Epoch 1/2\n"
     ]
    },
    {
     "name": "stderr",
     "output_type": "stream",
     "text": [
      "2025-05-05 20:10:43.172156: W external/local_xla/xla/tsl/framework/cpu_allocator_impl.cc:83] Allocation of 58073400 exceeds 10% of free system memory.\n",
      "2025-05-05 20:10:43.207283: W external/local_xla/xla/tsl/framework/cpu_allocator_impl.cc:83] Allocation of 58073400 exceeds 10% of free system memory.\n",
      "I0000 00:00:1746463244.960623   14157 cuda_dnn.cc:529] Loaded cuDNN version 90800\n"
     ]
    },
    {
     "name": "stdout",
     "output_type": "stream",
     "text": [
      "\u001B[1m1375/1375\u001B[0m \u001B[32m━━━━━━━━━━━━━━━━━━━━\u001B[0m\u001B[37m\u001B[0m \u001B[1m15s\u001B[0m 9ms/step - loss: 122.6534 - val_loss: 23.0695\n",
      "Epoch 2/2\n",
      "\u001B[1m1375/1375\u001B[0m \u001B[32m━━━━━━━━━━━━━━━━━━━━\u001B[0m\u001B[37m\u001B[0m \u001B[1m13s\u001B[0m 10ms/step - loss: 18.1381 - val_loss: 22.6920\n",
      "\u001B[1m344/344\u001B[0m \u001B[32m━━━━━━━━━━━━━━━━━━━━\u001B[0m\u001B[37m\u001B[0m \u001B[1m1s\u001B[0m 3ms/step\n"
     ]
    }
   ],
   "execution_count": 4
  },
  {
   "metadata": {},
   "cell_type": "markdown",
   "source": "# plot section",
   "id": "6456b78cc1b88128"
  },
  {
   "metadata": {
    "ExecuteTime": {
     "end_time": "2025-05-05T16:41:23.369276Z",
     "start_time": "2025-05-05T16:41:23.259690Z"
    }
   },
   "cell_type": "code",
   "source": [
    "plt.plot(range(10), y_pred[0])\n",
    "plt.show()\n"
   ],
   "id": "e72d77e2b76e7929",
   "outputs": [
    {
     "data": {
      "text/plain": [
       "<Figure size 640x480 with 1 Axes>"
      ],
      "image/png": "[encoded data removed]"
     },
     "metadata": {},
     "output_type": "display_data"
    }
   ],
   "execution_count": 5
  },
  {
   "metadata": {
    "ExecuteTime": {
     "end_time": "2025-05-05T16:41:33.840546Z",
     "start_time": "2025-05-05T16:41:33.837736Z"
    }
   },
   "cell_type": "code",
   "source": "from utils import forex_plot_utils",
   "id": "a1add9f3788e184d",
   "outputs": [],
   "execution_count": 6
  },
  {
   "metadata": {
    "ExecuteTime": {
     "end_time": "2025-05-05T16:12:00.303219Z",
     "start_time": "2025-05-05T16:12:00.116861Z"
    }
   },
   "cell_type": "code",
   "source": [
    "# LOAD DATA\n",
    "predicted_df = forex_plot_utils.load_csv_with_datetime(csv2_path)\n",
    "\n",
    "\n",
    "# PLOT\n",
    "forex_plot_utils.plot_all_series(\n",
    "    predicted_df=predicted_df,\n",
    ")"
   ],
   "id": "fa4caa90a0ece535",
   "outputs": [
    {
     "ename": "NameError",
     "evalue": "name 'forex_plot_utils' is not defined",
     "output_type": "error",
     "traceback": [
      "\u001B[31m---------------------------------------------------------------------------\u001B[39m",
      "\u001B[31mNameError\u001B[39m                                 Traceback (most recent call last)",
      "\u001B[36mCell\u001B[39m\u001B[36m \u001B[39m\u001B[32mIn[14]\u001B[39m\u001B[32m, line 2\u001B[39m\n\u001B[32m      1\u001B[39m \u001B[38;5;66;03m# LOAD DATA\u001B[39;00m\n\u001B[32m----> \u001B[39m\u001B[32m2\u001B[39m predicted_df = \u001B[43mforex_plot_utils\u001B[49m.load_csv_with_datetime(csv2_path)\n\u001B[32m      5\u001B[39m \u001B[38;5;66;03m# PLOT\u001B[39;00m\n\u001B[32m      6\u001B[39m forex_plot_utils.plot_all_series(\n\u001B[32m      7\u001B[39m     predicted_df=predicted_df,\n\u001B[32m      8\u001B[39m )\n",
      "\u001B[31mNameError\u001B[39m: name 'forex_plot_utils' is not defined"
     ]
    }
   ],
   "execution_count": 14
  }
 ],
 "metadata": {
  "kernelspec": {
   "name": "python3",
   "language": "python",
   "display_name": "Python 3 (ipykernel)"
  }
 },
 "nbformat": 5,
 "nbformat_minor": 9
}
