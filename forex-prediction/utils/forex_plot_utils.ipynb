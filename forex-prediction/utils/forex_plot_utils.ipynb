{
 "cells": [
  {
   "metadata": {},
   "cell_type": "markdown",
   "source": "# After changes: refactor > Convert To Python File",
   "id": "d4e83671ae8a6b8"
  },
  {
   "metadata": {
    "ExecuteTime": {
     "end_time": "2025-05-02T18:32:30.043337Z",
     "start_time": "2025-05-02T18:32:29.522333Z"
    }
   },
   "cell_type": "code",
   "source": [
    "# forex_plot_utils.ipynb\n",
    "\n",
    "# PARAMETERS (can be overridden in calling notebook)\n",
    "vertical_line_color = 'gray'\n",
    "vertical_line_width = 2  # Bolder vertical line\n",
    "\n",
    "colors = {\n",
    "    'historical': 'black',\n",
    "    'actual': 'green',\n",
    "    'predicted': 'red'\n",
    "}\n",
    "\n",
    "# IMPORTS\n",
    "import pandas as pd\n",
    "import matplotlib.pyplot as plt\n",
    "import os\n",
    "\n",
    "# UTILITY FUNCTIONS\n",
    "def load_csv_with_datetime(csv_path):\n",
    "    \"\"\"\n",
    "    Loads a CSV file and returns a DataFrame with a DATETIME column and <CLOSE>.\n",
    "    \"\"\"\n",
    "    df = pd.read_csv(csv_path, sep='\\t' if '\\t' in open(csv_path).readline() else ',')\n",
    "    df['DATETIME'] = pd.to_datetime(df['<DATE>'] + ' ' + df['<TIME>'], format='%Y.%m.%d %H:%M:%S')\n",
    "    return df[['DATETIME', '<CLOSE>']].reset_index(drop=True)\n",
    "\n",
    "def plot_all_series(historical_df, predicted_df, actual_future_df, title, output_path=None):\n",
    "    \"\"\"\n",
    "    Plots available data series for closing prices.\n",
    "    \"\"\"\n",
    "    plt.figure(figsize=(14, 6))\n",
    "    plotted = False\n",
    "\n",
    "    if historical_df is not None:\n",
    "        plt.plot(historical_df['DATETIME'], historical_df['<CLOSE>'],\n",
    "                 label='Historical', color=colors['historical'])\n",
    "        plotted = True\n",
    "\n",
    "    if actual_future_df is not None:\n",
    "        plt.plot(actual_future_df['DATETIME'], actual_future_df['<CLOSE>'],\n",
    "                 label='Actual Future', color=colors['actual'])\n",
    "        plotted = True\n",
    "\n",
    "    if predicted_df is not None:\n",
    "        plt.plot(predicted_df['DATETIME'], predicted_df['<CLOSE>'],\n",
    "                 label='Predicted', color=colors['predicted'], linestyle='--')\n",
    "        plotted = True\n",
    "\n",
    "    if historical_df is not None:\n",
    "        prediction_start_time = historical_df['DATETIME'].iloc[-1]\n",
    "        plt.axvline(x=prediction_start_time, color=vertical_line_color,\n",
    "                    linestyle='--', linewidth=vertical_line_width, label='Prediction Start')\n",
    "\n",
    "    plt.title(title)\n",
    "    plt.xlabel('Time')\n",
    "    plt.ylabel('Close Price')\n",
    "    if plotted:\n",
    "        plt.legend()\n",
    "    plt.grid(True)\n",
    "    plt.tight_layout()\n",
    "\n",
    "    if output_path:\n",
    "        plt.savefig(output_path)\n",
    "    plt.show()\n"
   ],
   "id": "bedee463fd6b6807",
   "outputs": [],
   "execution_count": 1
  },
  {
   "metadata": {},
   "cell_type": "code",
   "outputs": [],
   "execution_count": null,
   "source": "",
   "id": "db909151c567f80d"
  }
 ],
 "metadata": {
  "kernelspec": {
   "name": "python3",
   "language": "python",
   "display_name": "Python 3 (ipykernel)"
  }
 },
 "nbformat": 5,
 "nbformat_minor": 9
}
