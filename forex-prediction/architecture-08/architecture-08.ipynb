{
 "cells": [
  {
   "metadata": {},
   "cell_type": "markdown",
   "source": [
    "# architecture-08 ( Add Multi-Head Attention ) - v01\n",
    "\n",
    "What's new:\n",
    "\n",
    "1- Add 110 rows to predict instead 60 rows\n",
    "\n",
    "2- and: input_df = input_df.tail(60)\n",
    "\n",
    "3- Remove .dropna from after the load data because this is in add_ta_features function."
   ],
   "id": "67a9ecb3258e8606"
  },
  {
   "metadata": {
    "ExecuteTime": {
     "end_time": "2025-06-16T04:32:30.166059Z",
     "start_time": "2025-06-16T04:32:30.156440Z"
    }
   },
   "cell_type": "code",
   "source": [
    "import pandas as pd\n",
    "import numpy as np\n",
    "from sklearn.preprocessing import MinMaxScaler\n",
    "from sklearn.model_selection import train_test_split\n",
    "import talib\n",
    "from tensorflow.keras import layers, models, callbacks"
   ],
   "id": "c980d7d41b42c555",
   "outputs": [],
   "execution_count": 2
  },
  {
   "metadata": {
    "ExecuteTime": {
     "end_time": "2025-06-16T04:32:31.748233Z",
     "start_time": "2025-06-16T04:32:31.650048Z"
    }
   },
   "cell_type": "code",
   "source": "df = pd.read_csv('datasets-08/XAGUSD-H1-rates.csv', sep='\\t')",
   "id": "27be8804efc0b24c",
   "outputs": [],
   "execution_count": 3
  },
  {
   "metadata": {
    "ExecuteTime": {
     "end_time": "2025-06-16T04:32:36.957257Z",
     "start_time": "2025-06-16T04:32:36.911945Z"
    }
   },
   "cell_type": "code",
   "source": [
    "def add_ta_features(df):\n",
    "    df['rsi'] = talib.RSI(df['<CLOSE>'], timeperiod=14)\n",
    "    df['macd'], _, df['MACD_hist'] = talib.MACD(df['<CLOSE>'])\n",
    "    df['ema_50'] = talib.EMA(df['<CLOSE>'], timeperiod=50)\n",
    "    df['atr'] = talib.ATR(df['<HIGH>'], df['<LOW>'], df['<CLOSE>'], timeperiod=14)\n",
    "    df['adx'] = talib.ADX(df['<HIGH>'], df['<LOW>'], df['<CLOSE>'], timeperiod=14)\n",
    "    return df.dropna()\n",
    "\n",
    "\n",
    "df = add_ta_features(df)"
   ],
   "id": "ac2c2ed535f2da44",
   "outputs": [],
   "execution_count": 5
  },
  {
   "metadata": {
    "ExecuteTime": {
     "end_time": "2025-06-16T04:32:40.600418Z",
     "start_time": "2025-06-16T04:32:40.553810Z"
    }
   },
   "cell_type": "code",
   "source": [
    "# Scaling Features\n",
    "scaler = MinMaxScaler()\n",
    "scaled = scaler.fit_transform(\n",
    "    df[['<OPEN>', '<HIGH>', '<LOW>', '<CLOSE>', '<TICKVOL>', 'rsi', 'macd', 'ema_50', 'atr', 'adx']])"
   ],
   "id": "3813efa7b7b96154",
   "outputs": [],
   "execution_count": 6
  },
  {
   "metadata": {
    "ExecuteTime": {
     "end_time": "2025-06-16T04:32:42.637011Z",
     "start_time": "2025-06-16T04:32:42.626777Z"
    }
   },
   "cell_type": "code",
   "source": [
    "# Prepare sequences\n",
    "def create_sequences(features, target, window, horizon):\n",
    "    X, y = [], []\n",
    "    for i in range(window, len(features) - horizon):\n",
    "        X.append(features[i - window:i])\n",
    "        y.append(target[i:i + horizon])\n",
    "    return np.array(X), np.array(y)"
   ],
   "id": "ba73f79603cf9f44",
   "outputs": [],
   "execution_count": 7
  },
  {
   "metadata": {
    "ExecuteTime": {
     "end_time": "2025-06-16T04:32:46.299580Z",
     "start_time": "2025-06-16T04:32:46.293837Z"
    }
   },
   "cell_type": "code",
   "source": [
    "# Constants\n",
    "WINDOW_SIZE = 60\n",
    "FORECAST_HORIZON = 10\n",
    "NUM_HEADS = 4  # You can try 2, 4, 8 depending on GPU and dataset\n",
    "KEY_DIM = 16  # Size of each attention head"
   ],
   "id": "78dcd2e9ae0c85d1",
   "outputs": [],
   "execution_count": 8
  },
  {
   "metadata": {
    "ExecuteTime": {
     "end_time": "2025-06-16T04:32:49.832697Z",
     "start_time": "2025-06-16T04:32:49.581944Z"
    }
   },
   "cell_type": "code",
   "source": [
    "close_scaler = MinMaxScaler()\n",
    "scaled_close = close_scaler.fit_transform(df[['<CLOSE>']])\n",
    "X, y = create_sequences(scaled, scaled_close, WINDOW_SIZE, FORECAST_HORIZON)"
   ],
   "id": "27484974f06818b5",
   "outputs": [],
   "execution_count": 9
  },
  {
   "metadata": {
    "ExecuteTime": {
     "end_time": "2025-06-16T04:32:53.755328Z",
     "start_time": "2025-06-16T04:32:53.635692Z"
    }
   },
   "cell_type": "code",
   "source": [
    "# Train/Test Split\n",
    "X_train, X_test, y_train, y_test = train_test_split(X, y, test_size=0.2, shuffle=False)"
   ],
   "id": "e5d74f22728f847b",
   "outputs": [],
   "execution_count": 10
  },
  {
   "metadata": {
    "ExecuteTime": {
     "end_time": "2025-06-16T04:52:36.803719Z",
     "start_time": "2025-06-16T04:32:57.604676Z"
    }
   },
   "cell_type": "code",
   "source": [
    "def build_attention_model(input_shape, forecast_horizon, num_heads=4, key_dim=16):\n",
    "    inputs = layers.Input(shape=input_shape)\n",
    "\n",
    "    # Ensure projection matches MHA output dimension\n",
    "    projection_dim = num_heads * key_dim\n",
    "    x = layers.Dense(projection_dim, activation='relu')(inputs)  # Now shape = (None, 60, 64)\n",
    "\n",
    "    # Multi-head self-attention\n",
    "    attn_output = layers.MultiHeadAttention(num_heads=num_heads, key_dim=key_dim)(x, x)\n",
    "    attn_output = layers.LayerNormalization(epsilon=1e-6)(attn_output + x)  # Shapes now match\n",
    "\n",
    "    # Feed-forward network\n",
    "    ffn = layers.Dense(64, activation='relu')(attn_output)\n",
    "    ffn = layers.Dense(projection_dim, activation='relu')(ffn)\n",
    "    ffn_output = layers.LayerNormalization(epsilon=1e-6)(ffn + attn_output)\n",
    "\n",
    "    # Global average pooling and output\n",
    "    pooled = layers.GlobalAveragePooling1D()(ffn_output)\n",
    "    outputs = layers.Dense(forecast_horizon)(pooled)\n",
    "\n",
    "    model = models.Model(inputs, outputs)\n",
    "    model.compile(optimizer='adam', loss='mse')\n",
    "    return model\n",
    "\n",
    "\n",
    "# Instantiate the model\n",
    "model = build_attention_model(\n",
    "    input_shape=(X_train.shape[1], X_train.shape[2]),\n",
    "    forecast_horizon=FORECAST_HORIZON\n",
    ")\n",
    "\n",
    "# Train\n",
    "es = callbacks.EarlyStopping(monitor='val_loss', patience=5, restore_best_weights=True)\n",
    "history = model.fit(\n",
    "    X_train, y_train,\n",
    "    epochs=50,\n",
    "    verbose=1,\n",
    "    callbacks=[es],\n",
    "    validation_split=0.2,\n",
    ")"
   ],
   "id": "cb7841301ce30d5b",
   "outputs": [
    {
     "name": "stdout",
     "output_type": "stream",
     "text": [
      "Epoch 1/50\n",
      "\u001B[1m1099/1099\u001B[0m \u001B[32m━━━━━━━━━━━━━━━━━━━━\u001B[0m\u001B[37m\u001B[0m \u001B[1m50s\u001B[0m 42ms/step - loss: 0.0291 - val_loss: 0.0017\n",
      "Epoch 2/50\n",
      "\u001B[1m1099/1099\u001B[0m \u001B[32m━━━━━━━━━━━━━━━━━━━━\u001B[0m\u001B[37m\u001B[0m \u001B[1m42s\u001B[0m 38ms/step - loss: 4.0825e-04 - val_loss: 0.0020\n",
      "Epoch 3/50\n",
      "\u001B[1m1099/1099\u001B[0m \u001B[32m━━━━━━━━━━━━━━━━━━━━\u001B[0m\u001B[37m\u001B[0m \u001B[1m41s\u001B[0m 38ms/step - loss: 3.1580e-04 - val_loss: 0.0012\n",
      "Epoch 4/50\n",
      "\u001B[1m1099/1099\u001B[0m \u001B[32m━━━━━━━━━━━━━━━━━━━━\u001B[0m\u001B[37m\u001B[0m \u001B[1m48s\u001B[0m 44ms/step - loss: 2.8412e-04 - val_loss: 0.0024\n",
      "Epoch 5/50\n",
      "\u001B[1m1099/1099\u001B[0m \u001B[32m━━━━━━━━━━━━━━━━━━━━\u001B[0m\u001B[37m\u001B[0m \u001B[1m83s\u001B[0m 44ms/step - loss: 2.7747e-04 - val_loss: 9.8401e-04\n",
      "Epoch 6/50\n",
      "\u001B[1m1099/1099\u001B[0m \u001B[32m━━━━━━━━━━━━━━━━━━━━\u001B[0m\u001B[37m\u001B[0m \u001B[1m50s\u001B[0m 45ms/step - loss: 2.5693e-04 - val_loss: 8.6945e-04\n",
      "Epoch 7/50\n",
      "\u001B[1m1099/1099\u001B[0m \u001B[32m━━━━━━━━━━━━━━━━━━━━\u001B[0m\u001B[37m\u001B[0m \u001B[1m48s\u001B[0m 44ms/step - loss: 2.4398e-04 - val_loss: 7.3512e-04\n",
      "Epoch 8/50\n",
      "\u001B[1m1099/1099\u001B[0m \u001B[32m━━━━━━━━━━━━━━━━━━━━\u001B[0m\u001B[37m\u001B[0m \u001B[1m88s\u001B[0m 49ms/step - loss: 2.2255e-04 - val_loss: 5.7397e-04\n",
      "Epoch 9/50\n",
      "\u001B[1m1099/1099\u001B[0m \u001B[32m━━━━━━━━━━━━━━━━━━━━\u001B[0m\u001B[37m\u001B[0m \u001B[1m58s\u001B[0m 53ms/step - loss: 2.3281e-04 - val_loss: 6.2662e-04\n",
      "Epoch 10/50\n",
      "\u001B[1m1099/1099\u001B[0m \u001B[32m━━━━━━━━━━━━━━━━━━━━\u001B[0m\u001B[37m\u001B[0m \u001B[1m61s\u001B[0m 55ms/step - loss: 2.1568e-04 - val_loss: 7.1373e-04\n",
      "Epoch 11/50\n",
      "\u001B[1m1099/1099\u001B[0m \u001B[32m━━━━━━━━━━━━━━━━━━━━\u001B[0m\u001B[37m\u001B[0m \u001B[1m50s\u001B[0m 46ms/step - loss: 2.0074e-04 - val_loss: 8.2433e-04\n",
      "Epoch 12/50\n",
      "\u001B[1m1099/1099\u001B[0m \u001B[32m━━━━━━━━━━━━━━━━━━━━\u001B[0m\u001B[37m\u001B[0m \u001B[1m50s\u001B[0m 45ms/step - loss: 2.0700e-04 - val_loss: 5.1483e-04\n",
      "Epoch 13/50\n",
      "\u001B[1m1099/1099\u001B[0m \u001B[32m━━━━━━━━━━━━━━━━━━━━\u001B[0m\u001B[37m\u001B[0m \u001B[1m50s\u001B[0m 45ms/step - loss: 1.8004e-04 - val_loss: 5.6428e-04\n",
      "Epoch 14/50\n",
      "\u001B[1m1099/1099\u001B[0m \u001B[32m━━━━━━━━━━━━━━━━━━━━\u001B[0m\u001B[37m\u001B[0m \u001B[1m56s\u001B[0m 51ms/step - loss: 1.8517e-04 - val_loss: 8.6279e-04\n",
      "Epoch 15/50\n",
      "\u001B[1m1099/1099\u001B[0m \u001B[32m━━━━━━━━━━━━━━━━━━━━\u001B[0m\u001B[37m\u001B[0m \u001B[1m40s\u001B[0m 37ms/step - loss: 1.7229e-04 - val_loss: 9.0656e-04\n",
      "Epoch 16/50\n",
      "\u001B[1m1099/1099\u001B[0m \u001B[32m━━━━━━━━━━━━━━━━━━━━\u001B[0m\u001B[37m\u001B[0m \u001B[1m44s\u001B[0m 40ms/step - loss: 1.7312e-04 - val_loss: 5.0748e-04\n",
      "Epoch 17/50\n",
      "\u001B[1m1099/1099\u001B[0m \u001B[32m━━━━━━━━━━━━━━━━━━━━\u001B[0m\u001B[37m\u001B[0m \u001B[1m53s\u001B[0m 49ms/step - loss: 1.6390e-04 - val_loss: 9.1220e-04\n",
      "Epoch 18/50\n",
      "\u001B[1m1099/1099\u001B[0m \u001B[32m━━━━━━━━━━━━━━━━━━━━\u001B[0m\u001B[37m\u001B[0m \u001B[1m50s\u001B[0m 45ms/step - loss: 1.6554e-04 - val_loss: 4.7703e-04\n",
      "Epoch 19/50\n",
      "\u001B[1m1099/1099\u001B[0m \u001B[32m━━━━━━━━━━━━━━━━━━━━\u001B[0m\u001B[37m\u001B[0m \u001B[1m45s\u001B[0m 41ms/step - loss: 1.5116e-04 - val_loss: 4.8726e-04\n",
      "Epoch 20/50\n",
      "\u001B[1m1099/1099\u001B[0m \u001B[32m━━━━━━━━━━━━━━━━━━━━\u001B[0m\u001B[37m\u001B[0m \u001B[1m45s\u001B[0m 40ms/step - loss: 1.4638e-04 - val_loss: 6.8741e-04\n",
      "Epoch 21/50\n",
      "\u001B[1m1099/1099\u001B[0m \u001B[32m━━━━━━━━━━━━━━━━━━━━\u001B[0m\u001B[37m\u001B[0m \u001B[1m43s\u001B[0m 39ms/step - loss: 1.3582e-04 - val_loss: 5.6176e-04\n",
      "Epoch 22/50\n",
      "\u001B[1m1099/1099\u001B[0m \u001B[32m━━━━━━━━━━━━━━━━━━━━\u001B[0m\u001B[37m\u001B[0m \u001B[1m43s\u001B[0m 39ms/step - loss: 1.4885e-04 - val_loss: 5.7160e-04\n",
      "Epoch 23/50\n",
      "\u001B[1m1099/1099\u001B[0m \u001B[32m━━━━━━━━━━━━━━━━━━━━\u001B[0m\u001B[37m\u001B[0m \u001B[1m41s\u001B[0m 38ms/step - loss: 1.3541e-04 - val_loss: 6.9795e-04\n"
     ]
    }
   ],
   "execution_count": 11
  },
  {
   "metadata": {
    "ExecuteTime": {
     "end_time": "2025-06-16T04:54:12.188901Z",
     "start_time": "2025-06-16T04:54:11.718012Z"
    }
   },
   "cell_type": "code",
   "source": [
    "# === Load the last 110 rows from a separate CSV file for prediction ===\n",
    "input_df = pd.read_csv('datasets-08/new-data-for-test/rows-60-from-20240503/rows-110-from-20240503.csv', sep='\\t')\n",
    "input_df = add_ta_features(input_df)\n",
    "\n",
    "# Take only the last 60 usable rows after TA features\n",
    "input_df = input_df.tail(60)\n",
    "\n",
    "input_scaled = scaler.transform(\n",
    "    input_df[['<OPEN>', '<HIGH>', '<LOW>', '<CLOSE>', '<TICKVOL>', 'rsi', 'macd', 'ema_50', 'atr', 'adx']])\n",
    "input_sequence = np.expand_dims(input_scaled, axis=0)  # shape: (1, 60, 5)\n",
    "\n",
    "# === Predict the next 10 candles + Inverse scale ===\n",
    "pred = model.predict(input_sequence)\n",
    "prediction = close_scaler.inverse_transform(pred)"
   ],
   "id": "7ad768ead6620c73",
   "outputs": [
    {
     "name": "stdout",
     "output_type": "stream",
     "text": [
      "\u001B[1m1/1\u001B[0m \u001B[32m━━━━━━━━━━━━━━━━━━━━\u001B[0m\u001B[37m\u001B[0m \u001B[1m0s\u001B[0m 291ms/step\n"
     ]
    }
   ],
   "execution_count": 12
  },
  {
   "metadata": {},
   "cell_type": "markdown",
   "source": "# plot section",
   "id": "6456b78cc1b88128"
  },
  {
   "metadata": {
    "ExecuteTime": {
     "end_time": "2025-06-16T04:54:23.757317Z",
     "start_time": "2025-06-16T04:54:23.694518Z"
    }
   },
   "cell_type": "code",
   "source": [
    "import sys\n",
    "\n",
    "sys.path.insert(1, '../utils')\n",
    "import forex_plot_utils\n",
    "import os\n",
    "\n",
    "# PARAMETERS\n",
    "csv1_path = 'datasets-08/new-data-for-test/rows-60-from-20240503/latest-4-for-history.csv'\n",
    "csv3_path = 'datasets-08/new-data-for-test/rows-60-from-20240503/after.csv'\n",
    "plot_title = 'Actual vs Predicted Forex Closing Prices'\n",
    "output_plot_path = None  # e.g., 'output.png'\n",
    "\n",
    "# LOAD DATA FROM CSVS\n",
    "historical_df = forex_plot_utils.load_csv_with_datetime(csv1_path) if os.path.exists(csv1_path) else None\n",
    "actual_future_df = forex_plot_utils.load_csv_with_datetime(csv3_path) if os.path.exists(csv3_path) else None\n",
    "\n",
    "# LOAD DATA FROM PREDICTION\n",
    "\n",
    "# Combine <DATE> and <TIME> columns into a datetime\n",
    "input_df['DATETIME'] = pd.to_datetime(input_df['<DATE>'] + ' ' + input_df['<TIME>'])\n",
    "\n",
    "last_timestamp = input_df['DATETIME'].iloc[-1]\n",
    "datetime_index = pd.date_range(start=last_timestamp + pd.Timedelta(hours=1), periods=len(prediction[0]), freq='h')\n",
    "\n",
    "# Create DataFrame\n",
    "predicted_df = pd.DataFrame({'DATETIME': datetime_index, '<CLOSE>': prediction[0]})"
   ],
   "id": "d4d7751243eff18e",
   "outputs": [],
   "execution_count": 13
  },
  {
   "metadata": {
    "ExecuteTime": {
     "end_time": "2025-06-16T04:54:28.244024Z",
     "start_time": "2025-06-16T04:54:27.710756Z"
    }
   },
   "cell_type": "code",
   "source": [
    "# PLOT\n",
    "forex_plot_utils.plot_all_series(\n",
    "    historical_df=historical_df,\n",
    "    predicted_df=predicted_df,\n",
    "    actual_future_df=actual_future_df,\n",
    "    title=plot_title,\n",
    "    output_path=output_plot_path\n",
    ")"
   ],
   "id": "a6e7b86736ad5b51",
   "outputs": [
    {
     "data": {
      "text/plain": [
       "<Figure size 1400x600 with 1 Axes>"
      ],
      "image/png": "[encoded data removed]"
     },
     "metadata": {},
     "output_type": "display_data"
    }
   ],
   "execution_count": 14
  },
  {
   "metadata": {
    "ExecuteTime": {
     "end_time": "2025-06-16T04:54:56.135933Z",
     "start_time": "2025-06-16T04:54:50.429565Z"
    }
   },
   "cell_type": "code",
   "source": [
    "from datetime import datetime\n",
    "import os\n",
    "import pandas as pd\n",
    "import matplotlib.pyplot as plt\n",
    "\n",
    "# === Create timestamp and paths ===\n",
    "timestamp = datetime.now().strftime('%Y%m%d_%H%M%S')\n",
    "model_filename = f'model_{timestamp}.keras'\n",
    "model_path = os.path.join('saved_models', model_filename)\n",
    "\n",
    "# Directory to hold logs and extras\n",
    "log_dir = os.path.join('saved_models', f'model_{timestamp}_logs')\n",
    "os.makedirs(log_dir, exist_ok=True)\n",
    "\n",
    "# === Save model ===\n",
    "model.save(model_path)\n",
    "\n",
    "# === Save training history ===\n",
    "history_df = pd.DataFrame(history.history)\n",
    "history_df.to_csv(os.path.join(log_dir, 'training_history.csv'), index=False)\n",
    "\n",
    "# === Save training loss plot ===\n",
    "plt.figure()\n",
    "plt.plot(history.history['loss'], label='Training Loss')\n",
    "plt.plot(history.history['val_loss'], label='Validation Loss')\n",
    "plt.title('Training Loss Over Epochs')\n",
    "plt.xlabel('Epoch')\n",
    "plt.ylabel('Loss')\n",
    "plt.legend()\n",
    "plt.grid(True)\n",
    "plt.savefig(os.path.join(log_dir, 'training_loss.png'))\n",
    "plt.close()\n",
    "\n",
    "# === Save model summary and final performance ===\n",
    "with open(os.path.join(log_dir, 'model_log.txt'), 'w') as f:\n",
    "    model.summary(print_fn=lambda x: f.write(x + '\\n'))\n",
    "    final_train_loss = history.history['loss'][-1]\n",
    "    final_test_loss = model.evaluate(X_test, y_test, verbose=0)\n",
    "    f.write(f'\\nFinal Training Loss: {final_train_loss:.6f}\\n')\n",
    "    f.write(f'Final Test Loss: {final_test_loss:.6f}\\n')\n"
   ],
   "id": "2bbbacfc2fb3329a",
   "outputs": [
    {
     "data": {
      "text/plain": [],
      "text/html": [
       "<pre style=\"white-space:pre;overflow-x:auto;line-height:normal;font-family:Menlo,'DejaVu Sans Mono',consolas,'Courier New',monospace\"></pre>\n"
      ]
     },
     "metadata": {},
     "output_type": "display_data"
    }
   ],
   "execution_count": 15
  }
 ],
 "metadata": {
  "kernelspec": {
   "name": "python3",
   "language": "python",
   "display_name": "Python 3 (ipykernel)"
  }
 },
 "nbformat": 5,
 "nbformat_minor": 9
}
