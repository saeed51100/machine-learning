{
 "cells": [
  {
   "metadata": {},
   "cell_type": "markdown",
   "source": [
    "# architecture-08 ( Add Multi-Head Attention ) - v01\n",
    "\n",
    "What's new:\n",
    "\n",
    "1- Remove correlated indicators."
   ],
   "id": "67a9ecb3258e8606"
  },
  {
   "metadata": {
    "ExecuteTime": {
     "end_time": "2025-06-12T09:10:14.156192Z",
     "start_time": "2025-06-12T09:10:14.147527Z"
    }
   },
   "cell_type": "code",
   "source": [
    "import pandas as pd\n",
    "import numpy as np\n",
    "from sklearn.preprocessing import MinMaxScaler\n",
    "from sklearn.model_selection import train_test_split\n",
    "import talib\n",
    "from tensorflow.keras import layers, models, callbacks"
   ],
   "id": "c980d7d41b42c555",
   "outputs": [],
   "execution_count": 2
  },
  {
   "metadata": {
    "ExecuteTime": {
     "end_time": "2025-06-12T09:10:16.539253Z",
     "start_time": "2025-06-12T09:10:16.456110Z"
    }
   },
   "cell_type": "code",
   "source": "df = pd.read_csv('datasets-08/XAGUSD-H1-rates.csv', sep='\\t').dropna()",
   "id": "27be8804efc0b24c",
   "outputs": [],
   "execution_count": 3
  },
  {
   "metadata": {
    "ExecuteTime": {
     "end_time": "2025-06-12T09:10:18.418902Z",
     "start_time": "2025-06-12T09:10:18.371256Z"
    }
   },
   "cell_type": "code",
   "source": [
    "\n",
    "def add_ta_features(df):\n",
    "    df['rsi'] = talib.RSI(df['<CLOSE>'], timeperiod=14)\n",
    "    macd, macd_signal, macd_hist = talib.MACD(df['<CLOSE>'])\n",
    "    df['macd'] = macd\n",
    "    df['MACD_signal'] = macd_signal\n",
    "    df['MACD_hist'] = macd_hist\n",
    "    df['ema_10'] = talib.EMA(df['<CLOSE>'], timeperiod=10)\n",
    "    df['ema_50'] = talib.EMA(df['<CLOSE>'], timeperiod=50)\n",
    "    df['atr'] = talib.ATR(df['<HIGH>'], df['<LOW>'], df['<CLOSE>'], timeperiod=14)\n",
    "    df['adx'] = talib.ADX(df['<HIGH>'], df['<LOW>'], df['<CLOSE>'], timeperiod=14)\n",
    "    return df.dropna()\n",
    "\n",
    "\n",
    "df = add_ta_features(df)"
   ],
   "id": "ac2c2ed535f2da44",
   "outputs": [],
   "execution_count": 4
  },
  {
   "metadata": {
    "ExecuteTime": {
     "end_time": "2025-06-12T09:10:21.422953Z",
     "start_time": "2025-06-12T09:10:21.400084Z"
    }
   },
   "cell_type": "code",
   "source": [
    "# Scaling Features\n",
    "scaler = MinMaxScaler()\n",
    "scaled = scaler.fit_transform(\n",
    "    df[['<OPEN>', '<HIGH>', '<LOW>', '<CLOSE>', '<TICKVOL>', 'rsi', 'macd', 'ema_50', 'atr', 'adx']])"
   ],
   "id": "3813efa7b7b96154",
   "outputs": [],
   "execution_count": 5
  },
  {
   "metadata": {
    "ExecuteTime": {
     "end_time": "2025-06-12T09:13:57.091551Z",
     "start_time": "2025-06-12T09:13:57.085651Z"
    }
   },
   "cell_type": "code",
   "source": [
    "# Prepare sequences\n",
    "def create_sequences(features, target, window, horizon):\n",
    "    X, y = [], []\n",
    "    for i in range(window, len(features) - horizon):\n",
    "        X.append(features[i - window:i])\n",
    "        y.append(target[i:i + horizon])\n",
    "    return np.array(X), np.array(y)"
   ],
   "id": "ba73f79603cf9f44",
   "outputs": [],
   "execution_count": 7
  },
  {
   "metadata": {
    "ExecuteTime": {
     "end_time": "2025-06-12T09:13:58.871049Z",
     "start_time": "2025-06-12T09:13:58.866185Z"
    }
   },
   "cell_type": "code",
   "source": [
    "# Constants\n",
    "WINDOW_SIZE = 60\n",
    "FORECAST_HORIZON = 10\n",
    "NUM_HEADS = 4  # You can try 2, 4, 8 depending on GPU and dataset\n",
    "KEY_DIM = 16  # Size of each attention head"
   ],
   "id": "78dcd2e9ae0c85d1",
   "outputs": [],
   "execution_count": 8
  },
  {
   "metadata": {
    "ExecuteTime": {
     "end_time": "2025-06-12T09:14:01.571065Z",
     "start_time": "2025-06-12T09:14:01.091628Z"
    }
   },
   "cell_type": "code",
   "source": [
    "close_scaler = MinMaxScaler()\n",
    "scaled_close = close_scaler.fit_transform(df[['<CLOSE>']])\n",
    "X, y = create_sequences(scaled, scaled_close, WINDOW_SIZE, FORECAST_HORIZON)"
   ],
   "id": "27484974f06818b5",
   "outputs": [],
   "execution_count": 9
  },
  {
   "metadata": {
    "ExecuteTime": {
     "end_time": "2025-06-12T09:14:03.834564Z",
     "start_time": "2025-06-12T09:14:03.693408Z"
    }
   },
   "cell_type": "code",
   "source": [
    "# Train/Test Split\n",
    "X_train, X_test, y_train, y_test = train_test_split(X, y, test_size=0.2, shuffle=False)"
   ],
   "id": "e5d74f22728f847b",
   "outputs": [],
   "execution_count": 10
  },
  {
   "metadata": {
    "ExecuteTime": {
     "end_time": "2025-06-12T09:14:32.369217Z",
     "start_time": "2025-06-12T09:14:32.151432Z"
    }
   },
   "cell_type": "code",
   "source": [
    "# Build Attention-based Model\n",
    "def build_attention_model(input_shape, forecast_horizon, num_heads=NUM_HEADS, key_dim=KEY_DIM):\n",
    "    inputs = layers.Input(shape=input_shape)\n",
    "\n",
    "    # Positional encoding (optional but recommended)\n",
    "    x = layers.Dense(64, activation='relu')(inputs)\n",
    "\n",
    "    # Multi-head self-attention\n",
    "    attn_output = layers.MultiHeadAttention(num_heads=num_heads, key_dim=key_dim)(x, x)\n",
    "    attn_output = layers.LayerNormalization(epsilon=1e-6)(attn_output + x)\n",
    "\n",
    "    # Feed-forward network\n",
    "    ffn = layers.Dense(64, activation='relu')(attn_output)\n",
    "    ffn = layers.Dense(32, activation='relu')(ffn)\n",
    "    ffn_output = layers.LayerNormalization(epsilon=1e-6)(ffn + attn_output)\n",
    "\n",
    "    # Global average pooling over time\n",
    "    pooled = layers.GlobalAveragePooling1D()(ffn_output)\n",
    "\n",
    "    # Output layer for forecasting next N values\n",
    "    outputs = layers.Dense(forecast_horizon)(pooled)\n",
    "\n",
    "    model = models.Model(inputs, outputs)\n",
    "    model.compile(optimizer='adam', loss='mse')\n",
    "    return model\n",
    "\n",
    "# Instantiate the model\n",
    "model = build_attention_model(\n",
    "    input_shape=(X_train.shape[1], X_train.shape[2]),\n",
    "    forecast_horizon=FORECAST_HORIZON\n",
    ")\n",
    "\n",
    "# Train\n",
    "es = callbacks.EarlyStopping(monitor='val_loss', patience=5, restore_best_weights=True)\n",
    "history = model.fit(\n",
    "    X_train, y_train,\n",
    "    epochs=50,\n",
    "    verbose=1,\n",
    "    callbacks=[es],\n",
    "    validation_split=0.2,\n",
    ")"
   ],
   "id": "cb7841301ce30d5b",
   "outputs": [
    {
     "ename": "ValueError",
     "evalue": "Cannot broadcast shape, the failure dim has value 32, which cannot be broadcasted to 64. Input shapes are: [None, 60, 32] and [None, 60, 64].",
     "output_type": "error",
     "traceback": [
      "\u001B[31m---------------------------------------------------------------------------\u001B[39m",
      "\u001B[31mValueError\u001B[39m                                Traceback (most recent call last)",
      "\u001B[36mCell\u001B[39m\u001B[36m \u001B[39m\u001B[32mIn[12]\u001B[39m\u001B[32m, line 28\u001B[39m\n\u001B[32m     25\u001B[39m     \u001B[38;5;28;01mreturn\u001B[39;00m model\n\u001B[32m     27\u001B[39m \u001B[38;5;66;03m# Instantiate the model\u001B[39;00m\n\u001B[32m---> \u001B[39m\u001B[32m28\u001B[39m model = \u001B[43mbuild_attention_model\u001B[49m\u001B[43m(\u001B[49m\n\u001B[32m     29\u001B[39m \u001B[43m    \u001B[49m\u001B[43minput_shape\u001B[49m\u001B[43m=\u001B[49m\u001B[43m(\u001B[49m\u001B[43mX_train\u001B[49m\u001B[43m.\u001B[49m\u001B[43mshape\u001B[49m\u001B[43m[\u001B[49m\u001B[32;43m1\u001B[39;49m\u001B[43m]\u001B[49m\u001B[43m,\u001B[49m\u001B[43m \u001B[49m\u001B[43mX_train\u001B[49m\u001B[43m.\u001B[49m\u001B[43mshape\u001B[49m\u001B[43m[\u001B[49m\u001B[32;43m2\u001B[39;49m\u001B[43m]\u001B[49m\u001B[43m)\u001B[49m\u001B[43m,\u001B[49m\n\u001B[32m     30\u001B[39m \u001B[43m    \u001B[49m\u001B[43mforecast_horizon\u001B[49m\u001B[43m=\u001B[49m\u001B[43mFORECAST_HORIZON\u001B[49m\n\u001B[32m     31\u001B[39m \u001B[43m)\u001B[49m\n\u001B[32m     33\u001B[39m \u001B[38;5;66;03m# Train\u001B[39;00m\n\u001B[32m     34\u001B[39m es = callbacks.EarlyStopping(monitor=\u001B[33m'\u001B[39m\u001B[33mval_loss\u001B[39m\u001B[33m'\u001B[39m, patience=\u001B[32m5\u001B[39m, restore_best_weights=\u001B[38;5;28;01mTrue\u001B[39;00m)\n",
      "\u001B[36mCell\u001B[39m\u001B[36m \u001B[39m\u001B[32mIn[12]\u001B[39m\u001B[32m, line 15\u001B[39m, in \u001B[36mbuild_attention_model\u001B[39m\u001B[34m(input_shape, forecast_horizon, num_heads, key_dim)\u001B[39m\n\u001B[32m     13\u001B[39m ffn = layers.Dense(\u001B[32m64\u001B[39m, activation=\u001B[33m'\u001B[39m\u001B[33mrelu\u001B[39m\u001B[33m'\u001B[39m)(attn_output)\n\u001B[32m     14\u001B[39m ffn = layers.Dense(\u001B[32m32\u001B[39m, activation=\u001B[33m'\u001B[39m\u001B[33mrelu\u001B[39m\u001B[33m'\u001B[39m)(ffn)\n\u001B[32m---> \u001B[39m\u001B[32m15\u001B[39m ffn_output = layers.LayerNormalization(epsilon=\u001B[32m1e-6\u001B[39m)(\u001B[43mffn\u001B[49m\u001B[43m \u001B[49m\u001B[43m+\u001B[49m\u001B[43m \u001B[49m\u001B[43mattn_output\u001B[49m)\n\u001B[32m     17\u001B[39m \u001B[38;5;66;03m# Global average pooling over time\u001B[39;00m\n\u001B[32m     18\u001B[39m pooled = layers.GlobalAveragePooling1D()(ffn_output)\n",
      "\u001B[36mFile \u001B[39m\u001B[32m~/repozitories/machine-learning/forex-prediction/envs/lib/python3.11/site-packages/keras/src/backend/common/keras_tensor.py:195\u001B[39m, in \u001B[36mKerasTensor.__add__\u001B[39m\u001B[34m(self, other)\u001B[39m\n\u001B[32m    192\u001B[39m \u001B[38;5;28;01mdef\u001B[39;00m\u001B[38;5;250m \u001B[39m\u001B[34m__add__\u001B[39m(\u001B[38;5;28mself\u001B[39m, other):\n\u001B[32m    193\u001B[39m     \u001B[38;5;28;01mfrom\u001B[39;00m\u001B[38;5;250m \u001B[39m\u001B[34;01mkeras\u001B[39;00m\u001B[34;01m.\u001B[39;00m\u001B[34;01msrc\u001B[39;00m\u001B[38;5;250m \u001B[39m\u001B[38;5;28;01mimport\u001B[39;00m ops\n\u001B[32m--> \u001B[39m\u001B[32m195\u001B[39m     \u001B[38;5;28;01mreturn\u001B[39;00m \u001B[43mops\u001B[49m\u001B[43m.\u001B[49m\u001B[43mAdd\u001B[49m\u001B[43m(\u001B[49m\u001B[43m)\u001B[49m\u001B[43m.\u001B[49m\u001B[43msymbolic_call\u001B[49m\u001B[43m(\u001B[49m\u001B[38;5;28;43mself\u001B[39;49m\u001B[43m,\u001B[49m\u001B[43m \u001B[49m\u001B[43mother\u001B[49m\u001B[43m)\u001B[49m\n",
      "\u001B[36mFile \u001B[39m\u001B[32m~/repozitories/machine-learning/forex-prediction/envs/lib/python3.11/site-packages/keras/src/ops/operation.py:80\u001B[39m, in \u001B[36mOperation.symbolic_call\u001B[39m\u001B[34m(self, *args, **kwargs)\u001B[39m\n\u001B[32m     78\u001B[39m \u001B[38;5;28;01mdef\u001B[39;00m\u001B[38;5;250m \u001B[39m\u001B[34msymbolic_call\u001B[39m(\u001B[38;5;28mself\u001B[39m, *args, **kwargs):\n\u001B[32m     79\u001B[39m     \u001B[38;5;66;03m# Perform shape/dtype inference.\u001B[39;00m\n\u001B[32m---> \u001B[39m\u001B[32m80\u001B[39m     outputs = \u001B[38;5;28;43mself\u001B[39;49m\u001B[43m.\u001B[49m\u001B[43mcompute_output_spec\u001B[49m\u001B[43m(\u001B[49m\u001B[43m*\u001B[49m\u001B[43margs\u001B[49m\u001B[43m,\u001B[49m\u001B[43m \u001B[49m\u001B[43m*\u001B[49m\u001B[43m*\u001B[49m\u001B[43mkwargs\u001B[49m\u001B[43m)\u001B[49m\n\u001B[32m     81\u001B[39m     \u001B[38;5;66;03m# Record a new node in the operations graph.\u001B[39;00m\n\u001B[32m     82\u001B[39m     \u001B[38;5;66;03m# The Node wires itself to inbound and outbound ops.  The\u001B[39;00m\n\u001B[32m     83\u001B[39m     \u001B[38;5;66;03m# Node constructor updates this op's self._inbound_nodes,\u001B[39;00m\n\u001B[32m     84\u001B[39m     \u001B[38;5;66;03m# sets _keras_history on the outputs, and adds itself to the\u001B[39;00m\n\u001B[32m     85\u001B[39m     \u001B[38;5;66;03m# `_outbound_nodes` of the ops that produced the inputs to this\u001B[39;00m\n\u001B[32m     86\u001B[39m     \u001B[38;5;66;03m# call.\u001B[39;00m\n\u001B[32m     87\u001B[39m     Node(\n\u001B[32m     88\u001B[39m         operation=\u001B[38;5;28mself\u001B[39m, call_args=args, call_kwargs=kwargs, outputs=outputs\n\u001B[32m     89\u001B[39m     )\n",
      "\u001B[36mFile \u001B[39m\u001B[32m~/repozitories/machine-learning/forex-prediction/envs/lib/python3.11/site-packages/keras/src/ops/numpy.py:195\u001B[39m, in \u001B[36mAdd.compute_output_spec\u001B[39m\u001B[34m(self, x1, x2)\u001B[39m\n\u001B[32m    193\u001B[39m x1_shape = \u001B[38;5;28mgetattr\u001B[39m(x1, \u001B[33m\"\u001B[39m\u001B[33mshape\u001B[39m\u001B[33m\"\u001B[39m, [])\n\u001B[32m    194\u001B[39m x2_shape = \u001B[38;5;28mgetattr\u001B[39m(x2, \u001B[33m\"\u001B[39m\u001B[33mshape\u001B[39m\u001B[33m\"\u001B[39m, [])\n\u001B[32m--> \u001B[39m\u001B[32m195\u001B[39m output_shape = \u001B[43mbroadcast_shapes\u001B[49m\u001B[43m(\u001B[49m\u001B[43mx1_shape\u001B[49m\u001B[43m,\u001B[49m\u001B[43m \u001B[49m\u001B[43mx2_shape\u001B[49m\u001B[43m)\u001B[49m\n\u001B[32m    196\u001B[39m output_dtype = dtypes.result_type(\n\u001B[32m    197\u001B[39m     \u001B[38;5;28mgetattr\u001B[39m(x1, \u001B[33m\"\u001B[39m\u001B[33mdtype\u001B[39m\u001B[33m\"\u001B[39m, \u001B[38;5;28mtype\u001B[39m(x1)),\n\u001B[32m    198\u001B[39m     \u001B[38;5;28mgetattr\u001B[39m(x2, \u001B[33m\"\u001B[39m\u001B[33mdtype\u001B[39m\u001B[33m\"\u001B[39m, \u001B[38;5;28mtype\u001B[39m(x2)),\n\u001B[32m    199\u001B[39m )\n\u001B[32m    200\u001B[39m x1_sparse = \u001B[38;5;28mgetattr\u001B[39m(x1, \u001B[33m\"\u001B[39m\u001B[33msparse\u001B[39m\u001B[33m\"\u001B[39m, \u001B[38;5;28;01mFalse\u001B[39;00m)\n",
      "\u001B[36mFile \u001B[39m\u001B[32m~/repozitories/machine-learning/forex-prediction/envs/lib/python3.11/site-packages/keras/src/ops/operation_utils.py:46\u001B[39m, in \u001B[36mbroadcast_shapes\u001B[39m\u001B[34m(shape1, shape2)\u001B[39m\n\u001B[32m     44\u001B[39m             output_shape[i] = shape1[i]\n\u001B[32m     45\u001B[39m         \u001B[38;5;28;01melse\u001B[39;00m:\n\u001B[32m---> \u001B[39m\u001B[32m46\u001B[39m             \u001B[38;5;28;01mraise\u001B[39;00m \u001B[38;5;167;01mValueError\u001B[39;00m(\n\u001B[32m     47\u001B[39m                 \u001B[33m\"\u001B[39m\u001B[33mCannot broadcast shape, the failure dim has value \u001B[39m\u001B[33m\"\u001B[39m\n\u001B[32m     48\u001B[39m                 \u001B[33mf\u001B[39m\u001B[33m\"\u001B[39m\u001B[38;5;132;01m{\u001B[39;00mshape1[i]\u001B[38;5;132;01m}\u001B[39;00m\u001B[33m, which cannot be broadcasted to \u001B[39m\u001B[38;5;132;01m{\u001B[39;00mshape2[i]\u001B[38;5;132;01m}\u001B[39;00m\u001B[33m. \u001B[39m\u001B[33m\"\u001B[39m\n\u001B[32m     49\u001B[39m                 \u001B[33mf\u001B[39m\u001B[33m\"\u001B[39m\u001B[33mInput shapes are: \u001B[39m\u001B[38;5;132;01m{\u001B[39;00morigin_shape1\u001B[38;5;132;01m}\u001B[39;00m\u001B[33m and \u001B[39m\u001B[38;5;132;01m{\u001B[39;00morigin_shape2\u001B[38;5;132;01m}\u001B[39;00m\u001B[33m.\u001B[39m\u001B[33m\"\u001B[39m\n\u001B[32m     50\u001B[39m             )\n\u001B[32m     52\u001B[39m \u001B[38;5;28;01mreturn\u001B[39;00m output_shape\n",
      "\u001B[31mValueError\u001B[39m: Cannot broadcast shape, the failure dim has value 32, which cannot be broadcasted to 64. Input shapes are: [None, 60, 32] and [None, 60, 64]."
     ]
    }
   ],
   "execution_count": 12
  },
  {
   "metadata": {},
   "cell_type": "code",
   "source": [
    "# === Load the last 60 rows from a separate CSV file for prediction ===\n",
    "input_df = pd.read_csv('datasets-08/new-data-for-test/rows-60-from-20240503/rows-60-from-20240503.csv',\n",
    "                       sep='\\t').dropna()\n",
    "input_df = add_ta_features(input_df)\n",
    "input_scaled = scaler.transform(\n",
    "    input_df[['<OPEN>', '<HIGH>', '<LOW>', '<CLOSE>', '<TICKVOL>', 'rsi', 'macd', 'ema_50', 'atr', 'adx']])\n",
    "input_sequence = np.expand_dims(input_scaled, axis=0)  # shape: (1, 60, 5)\n",
    "\n",
    "# === Predict the next 10 candles + Inverse scale ===\n",
    "pred = model.predict(input_sequence)\n",
    "prediction = close_scaler.inverse_transform(pred)"
   ],
   "id": "7ad768ead6620c73",
   "outputs": [],
   "execution_count": null
  },
  {
   "metadata": {},
   "cell_type": "markdown",
   "source": "# plot section",
   "id": "6456b78cc1b88128"
  },
  {
   "metadata": {},
   "cell_type": "code",
   "source": [
    "import sys\n",
    "\n",
    "sys.path.insert(1, '../utils')\n",
    "import forex_plot_utils\n",
    "import os\n",
    "\n",
    "# PARAMETERS\n",
    "csv1_path = 'datasets-08/new-data-for-test/rows-60-from-20240503/latest-4-for-history.csv'\n",
    "csv3_path = 'datasets-08/new-data-for-test/rows-60-from-20240503/after.csv'\n",
    "plot_title = 'Actual vs Predicted Forex Closing Prices'\n",
    "output_plot_path = None  # e.g., 'output.png'\n",
    "\n",
    "# LOAD DATA FROM CSVS\n",
    "historical_df = forex_plot_utils.load_csv_with_datetime(csv1_path) if os.path.exists(csv1_path) else None\n",
    "actual_future_df = forex_plot_utils.load_csv_with_datetime(csv3_path) if os.path.exists(csv3_path) else None\n",
    "\n",
    "# LOAD DATA FROM PREDICTION\n",
    "\n",
    "# Combine <DATE> and <TIME> columns into a datetime\n",
    "input_df['DATETIME'] = pd.to_datetime(input_df['<DATE>'] + ' ' + input_df['<TIME>'])\n",
    "\n",
    "last_timestamp = input_df['DATETIME'].iloc[-1]\n",
    "datetime_index = pd.date_range(start=last_timestamp + pd.Timedelta(hours=1), periods=len(prediction[0]), freq='h')\n",
    "\n",
    "# Create DataFrame\n",
    "predicted_df = pd.DataFrame({'DATETIME': datetime_index, '<CLOSE>': prediction[0]})"
   ],
   "id": "d4d7751243eff18e",
   "outputs": [],
   "execution_count": null
  },
  {
   "metadata": {},
   "cell_type": "code",
   "source": [
    "# PLOT\n",
    "forex_plot_utils.plot_all_series(\n",
    "    historical_df=historical_df,\n",
    "    predicted_df=predicted_df,\n",
    "    actual_future_df=actual_future_df,\n",
    "    title=plot_title,\n",
    "    output_path=output_plot_path\n",
    ")"
   ],
   "id": "a6e7b86736ad5b51",
   "outputs": [],
   "execution_count": null
  },
  {
   "metadata": {},
   "cell_type": "code",
   "source": [
    "from datetime import datetime\n",
    "import os\n",
    "import pandas as pd\n",
    "import matplotlib.pyplot as plt\n",
    "\n",
    "# === Create timestamp and paths ===\n",
    "timestamp = datetime.now().strftime('%Y%m%d_%H%M%S')\n",
    "model_filename = f'model_{timestamp}.keras'\n",
    "model_path = os.path.join('saved_models', model_filename)\n",
    "\n",
    "# Directory to hold logs and extras\n",
    "log_dir = os.path.join('saved_models', f'model_{timestamp}_logs')\n",
    "os.makedirs(log_dir, exist_ok=True)\n",
    "\n",
    "# === Save model ===\n",
    "model.save(model_path)\n",
    "\n",
    "# === Save training history ===\n",
    "history_df = pd.DataFrame(history.history)\n",
    "history_df.to_csv(os.path.join(log_dir, 'training_history.csv'), index=False)\n",
    "\n",
    "# === Save training loss plot ===\n",
    "plt.figure()\n",
    "plt.plot(history.history['loss'], label='Training Loss')\n",
    "plt.plot(history.history['val_loss'], label='Validation Loss')\n",
    "plt.title('Training Loss Over Epochs')\n",
    "plt.xlabel('Epoch')\n",
    "plt.ylabel('Loss')\n",
    "plt.legend()\n",
    "plt.grid(True)\n",
    "plt.savefig(os.path.join(log_dir, 'training_loss.png'))\n",
    "plt.close()\n",
    "\n",
    "# === Save model summary and final performance ===\n",
    "with open(os.path.join(log_dir, 'model_log.txt'), 'w') as f:\n",
    "    model.summary(print_fn=lambda x: f.write(x + '\\n'))\n",
    "    final_train_loss = history.history['loss'][-1]\n",
    "    final_test_loss = model.evaluate(X_test, y_test, verbose=0)\n",
    "    f.write(f'\\nFinal Training Loss: {final_train_loss:.6f}\\n')\n",
    "    f.write(f'Final Test Loss: {final_test_loss:.6f}\\n')\n"
   ],
   "id": "2bbbacfc2fb3329a",
   "outputs": [],
   "execution_count": null
  }
 ],
 "metadata": {
  "kernelspec": {
   "name": "python3",
   "language": "python",
   "display_name": "Python 3 (ipykernel)"
  }
 },
 "nbformat": 5,
 "nbformat_minor": 9
}
