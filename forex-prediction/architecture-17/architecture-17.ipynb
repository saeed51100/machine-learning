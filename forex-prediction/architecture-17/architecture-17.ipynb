{
 "cells": [
  {
   "metadata": {},
   "cell_type": "markdown",
   "source": [
    "# architecture-17 ( Basic Classification ) not completed\n",
    "\n",
    "## What's new:\n",
    "\n",
    "1- Add\n"
   ],
   "id": "67a9ecb3258e8606"
  },
  {
   "metadata": {
    "ExecuteTime": {
     "end_time": "2025-07-25T10:15:46.475623Z",
     "start_time": "2025-07-25T10:15:46.472454Z"
    }
   },
   "cell_type": "code",
   "source": [
    "import pandas as pd\n",
    "import numpy as np\n",
    "import matplotlib.pyplot as plt\n",
    "import tensorflow as tf\n",
    "from sklearn.preprocessing import MinMaxScaler\n",
    "from tensorflow.keras.models import Sequential\n",
    "from tensorflow.keras.layers import LSTM, Dense, Dropout\n",
    "from tensorflow.keras import Input\n",
    "import talib\n",
    "\n",
    "# Constants\n",
    "SEQUENCE_LENGTH = 60\n",
    "FORECAST_HORIZON = 10"
   ],
   "id": "e76513e71e49aa15",
   "outputs": [],
   "execution_count": 3
  },
  {
   "metadata": {
    "ExecuteTime": {
     "end_time": "2025-07-25T10:15:48.073184Z",
     "start_time": "2025-07-25T10:15:48.028124Z"
    }
   },
   "cell_type": "code",
   "source": [
    "# Load dataset\n",
    "df = pd.read_csv('datasets-17/XAGUSD-H1-rates.csv', sep='\\t').dropna()"
   ],
   "id": "4c9a5a36c8be002e",
   "outputs": [],
   "execution_count": 4
  },
  {
   "metadata": {
    "ExecuteTime": {
     "end_time": "2025-07-25T10:15:49.261189Z",
     "start_time": "2025-07-25T10:15:49.251679Z"
    }
   },
   "cell_type": "code",
   "source": [
    "# Scaling Features\n",
    "scaler = MinMaxScaler()\n",
    "scaled_data = scaler.fit_transform(df[['<OPEN>', '<HIGH>', '<LOW>', '<CLOSE>', '<TICKVOL>']])"
   ],
   "id": "4e4c807682b6449b",
   "outputs": [],
   "execution_count": 5
  },
  {
   "metadata": {
    "ExecuteTime": {
     "end_time": "2025-07-25T10:15:51.096215Z",
     "start_time": "2025-07-25T10:15:50.410621Z"
    }
   },
   "cell_type": "code",
   "source": [
    "\n",
    "# Label trend reversals (example: a simplistic method)\n",
    "def label_trend_reversals(prices, window=5):\n",
    "    labels = []\n",
    "    for i in range(len(prices) - window):\n",
    "        past = prices[i:i+window//2]\n",
    "        future = prices[i+window//2:i+window]\n",
    "        if np.mean(future) > np.mean(past):\n",
    "            labels.append(1)  # potential buy\n",
    "        elif np.mean(future) < np.mean(past):\n",
    "            labels.append(2)  # potential sell\n",
    "        else:\n",
    "            labels.append(0)\n",
    "    labels += [0] * window  # pad\n",
    "    return labels\n",
    "\n",
    "df['Label'] = label_trend_reversals(df['<CLOSE>'].values)\n"
   ],
   "id": "ce5f9c1ecf96cced",
   "outputs": [],
   "execution_count": 6
  },
  {
   "metadata": {
    "ExecuteTime": {
     "end_time": "2025-07-25T10:15:56.343102Z",
     "start_time": "2025-07-25T10:15:55.409091Z"
    }
   },
   "cell_type": "code",
   "source": [
    "# Prepare Sequences\n",
    "X, y = [], []\n",
    "for i in range(SEQUENCE_LENGTH, len(scaled_data) - FORECAST_HORIZON):\n",
    "    X.append(scaled_data[i-SEQUENCE_LENGTH:i])\n",
    "    y.append(df['Label'].iloc[i:i+FORECAST_HORIZON].values)\n",
    "\n",
    "X, y = np.array(X), np.array(y)\n"
   ],
   "id": "6dfd6176c12faccf",
   "outputs": [],
   "execution_count": 7
  },
  {
   "metadata": {
    "ExecuteTime": {
     "end_time": "2025-07-25T10:16:00.932169Z",
     "start_time": "2025-07-25T10:16:00.928801Z"
    }
   },
   "cell_type": "code",
   "source": [
    "# Split Dataset\n",
    "X_train = X[:-1]\n",
    "y_train = y[:-1]\n",
    "\n",
    "# Last 60 candles for prediction\n",
    "X_input = X[-1:]\n",
    "y_true_future = y[-1]  # for evaluation if desired\n"
   ],
   "id": "655fe1327365fc6d",
   "outputs": [],
   "execution_count": 8
  },
  {
   "metadata": {
    "ExecuteTime": {
     "end_time": "2025-07-25T10:16:04.695252Z",
     "start_time": "2025-07-25T10:16:03.857098Z"
    }
   },
   "cell_type": "code",
   "source": [
    "from tensorflow.keras.utils import to_categorical\n",
    "\n",
    "# One-hot encode each timestep's class (3 classes → depth = 3)\n",
    "y_onehot = np.array([to_categorical(row, num_classes=3) for row in y_train])\n",
    "# Now shape = (num_samples, 10, 3)\n"
   ],
   "id": "ba0012e61d11b0d",
   "outputs": [],
   "execution_count": 9
  },
  {
   "metadata": {
    "ExecuteTime": {
     "end_time": "2025-07-25T10:16:08.187730Z",
     "start_time": "2025-07-25T10:16:07.298472Z"
    }
   },
   "cell_type": "code",
   "source": [
    "# Build LSTM Classification Model\n",
    "model = Sequential([\n",
    "    Input(shape=(SEQUENCE_LENGTH, X.shape[2])),\n",
    "    LSTM(64, return_sequences=False),\n",
    "    Dropout(0.3),\n",
    "    Dense(64, activation='relu'),\n",
    "    Dropout(0.2),\n",
    "    Dense(FORECAST_HORIZON * 3, activation='softmax'),\n",
    "    tf.keras.layers.Reshape((FORECAST_HORIZON, 3))\n",
    "])\n"
   ],
   "id": "cf91bf473436a97e",
   "outputs": [
    {
     "name": "stderr",
     "output_type": "stream",
     "text": [
      "I0000 00:00:1753438567.520170   81287 gpu_device.cc:2022] Created device /job:localhost/replica:0/task:0/device:GPU:0 with 2404 MB memory:  -> device: 0, name: NVIDIA GeForce GTX 1650 SUPER, pci bus id: 0000:01:00.0, compute capability: 7.5\n"
     ]
    }
   ],
   "execution_count": 10
  },
  {
   "metadata": {
    "ExecuteTime": {
     "end_time": "2025-07-25T10:16:11.728857Z",
     "start_time": "2025-07-25T10:16:11.717575Z"
    }
   },
   "cell_type": "code",
   "source": "model.compile(optimizer='adam', loss='categorical_crossentropy', metrics=['accuracy'])\n",
   "id": "7b500e9a255ca6e8",
   "outputs": [],
   "execution_count": 11
  },
  {
   "metadata": {
    "ExecuteTime": {
     "end_time": "2025-07-25T10:16:30.051453Z",
     "start_time": "2025-07-25T10:16:18.425859Z"
    }
   },
   "cell_type": "code",
   "source": [
    "# Train the Model\n",
    "# Fit model\n",
    "model.fit(X_train, y_onehot, epochs=2, batch_size=64, validation_split=0.1)\n"
   ],
   "id": "ec7b9c69ef1e0b11",
   "outputs": [
    {
     "name": "stdout",
     "output_type": "stream",
     "text": [
      "Epoch 1/2\n"
     ]
    },
    {
     "name": "stderr",
     "output_type": "stream",
     "text": [
      "I0000 00:00:1753438580.174625   81350 cuda_dnn.cc:529] Loaded cuDNN version 91001\n"
     ]
    },
    {
     "name": "stdout",
     "output_type": "stream",
     "text": [
      "\u001B[1m774/774\u001B[0m \u001B[32m━━━━━━━━━━━━━━━━━━━━\u001B[0m\u001B[37m\u001B[0m \u001B[1m7s\u001B[0m 6ms/step - accuracy: 0.4946 - loss: 0.7697 - val_accuracy: 0.5029 - val_loss: 0.6965\n",
      "Epoch 2/2\n",
      "\u001B[1m774/774\u001B[0m \u001B[32m━━━━━━━━━━━━━━━━━━━━\u001B[0m\u001B[37m\u001B[0m \u001B[1m4s\u001B[0m 5ms/step - accuracy: 0.5002 - loss: 0.7012 - val_accuracy: 0.4969 - val_loss: 0.6966\n"
     ]
    },
    {
     "data": {
      "text/plain": [
       "<keras.src.callbacks.history.History at 0x766c689265d0>"
      ]
     },
     "execution_count": 12,
     "metadata": {},
     "output_type": "execute_result"
    }
   ],
   "execution_count": 12
  },
  {
   "metadata": {
    "ExecuteTime": {
     "end_time": "2025-07-25T10:23:54.069771Z",
     "start_time": "2025-07-25T10:23:53.977654Z"
    }
   },
   "cell_type": "code",
   "source": [
    "# === Load the last 60 rows from a separate CSV file for prediction ===\n",
    "input_df = pd.read_csv('datasets-17/new-data-for-test/rows-60-from-20240503/rows-60-from-20240503.csv',\n",
    "                       sep='\\t').dropna()\n",
    "# Combine <DATE> and <TIME> columns into a datetime\n",
    "input_df['DATETIME'] = pd.to_datetime(input_df['<DATE>'] + ' ' + input_df['<TIME>'])\n",
    "\n",
    "# Ensure the input features match training\n",
    "input_features = input_df[['<OPEN>', '<HIGH>', '<LOW>', '<CLOSE>', '<TICKVOL>']]\n",
    "input_scaled = scaler.transform(input_features)\n",
    "\n",
    "# Reshape for model input\n",
    "input_sequence = np.expand_dims(input_scaled, axis=0)  # shape: (1, 60, 7)\n",
    "\n",
    "# Predict class probabilities\n",
    "pred_probs = model.predict(input_sequence)  # shape: (1, 30) or (1, 10 * 3)\n",
    "\n",
    "# Reshape and get class labels (assuming 10 x 3 softmax outputs)\n",
    "forecast_horizon = 10\n",
    "pred_classes = np.argmax(pred_probs.reshape(forecast_horizon, 3), axis=1)\n",
    "\n",
    "\n",
    "# pred_classes now contains 10 integers in {0, 1, 2}\n",
    "print(pred_classes)\n",
    "\n"
   ],
   "id": "b27582fcf9337d79",
   "outputs": [
    {
     "name": "stdout",
     "output_type": "stream",
     "text": [
      "\u001B[1m1/1\u001B[0m \u001B[32m━━━━━━━━━━━━━━━━━━━━\u001B[0m\u001B[37m\u001B[0m \u001B[1m0s\u001B[0m 30ms/step\n",
      "[1 1 2 2 2 1 2 2 2 2]\n"
     ]
    }
   ],
   "execution_count": 26
  },
  {
   "metadata": {},
   "cell_type": "markdown",
   "source": "# plot section",
   "id": "e31209f9cef74d45"
  },
  {
   "metadata": {
    "ExecuteTime": {
     "end_time": "2025-07-25T10:24:00.824805Z",
     "start_time": "2025-07-25T10:24:00.812243Z"
    }
   },
   "cell_type": "code",
   "source": [
    "import sys\n",
    "\n",
    "sys.path.insert(1, '../utils')\n",
    "import forex_plot_utils\n",
    "import os\n",
    "\n",
    "# PARAMETERS\n",
    "csv1_path = 'datasets-17/new-data-for-test/rows-60-from-20240503/latest-4-for-history.csv'\n",
    "csv3_path = 'datasets-17/new-data-for-test/rows-60-from-20240503/after.csv'\n",
    "plot_title = 'Write a suitable title.'\n",
    "output_plot_path = None  # e.g., 'output.png'\n",
    "\n",
    "# LOAD DATA FROM CSVS\n",
    "historical_df = forex_plot_utils.load_csv_with_datetime(csv1_path) if os.path.exists(csv1_path) else None\n",
    "actual_future_df = forex_plot_utils.load_csv_with_datetime(csv3_path) if os.path.exists(csv3_path) else None\n"
   ],
   "id": "cf739a571793a98b",
   "outputs": [],
   "execution_count": 27
  },
  {
   "metadata": {
    "ExecuteTime": {
     "end_time": "2025-07-25T10:24:06.687793Z",
     "start_time": "2025-07-25T10:24:06.681242Z"
    }
   },
   "cell_type": "code",
   "source": [
    "\n",
    "import pandas as pd\n",
    "\n",
    "# === Generate forecast timestamps ===\n",
    "# Start 1 hour after the last actual candle\n",
    "last_timestamp = input_df['DATETIME'].iloc[-1]\n",
    "forecast_datetimes = pd.date_range(start=last_timestamp + pd.Timedelta(hours=1), periods=forecast_horizon, freq='h')\n",
    "\n",
    "# === Create predicted_df with forecasted trend reversals ===\n",
    "predicted_df = pd.DataFrame({\n",
    "    'DATETIME': forecast_datetimes,\n",
    "    'forecast_class': pred_classes\n",
    "})\n",
    "\n",
    "# Optional: Add labels for plotting\n",
    "def class_to_label(c):\n",
    "    if c == 1:\n",
    "        return 'buy'\n",
    "    elif c == 2:\n",
    "        return 'sell'\n",
    "    else:\n",
    "        return None\n",
    "\n",
    "predicted_df['label'] = predicted_df['forecast_class'].apply(class_to_label)\n"
   ],
   "id": "41c58b92ac93caf0",
   "outputs": [],
   "execution_count": 28
  },
  {
   "metadata": {
    "ExecuteTime": {
     "end_time": "2025-07-25T10:24:10.795282Z",
     "start_time": "2025-07-25T10:24:10.566844Z"
    }
   },
   "cell_type": "code",
   "source": [
    "# PLOT\n",
    "forex_plot_utils.plot_all_series(\n",
    "    historical_df=historical_df,\n",
    "    predicted_df=predicted_df,\n",
    "    actual_future_df=actual_future_df,\n",
    "    title=plot_title,\n",
    "    output_path=output_plot_path\n",
    ")"
   ],
   "id": "49ac94a3b618c89",
   "outputs": [
    {
     "ename": "KeyError",
     "evalue": "'<CLOSE>'",
     "output_type": "error",
     "traceback": [
      "\u001B[31m---------------------------------------------------------------------------\u001B[39m",
      "\u001B[31mKeyError\u001B[39m                                  Traceback (most recent call last)",
      "\u001B[36mFile \u001B[39m\u001B[32m~/repositories/machine-learning/forex-prediction/envs/lib/python3.11/site-packages/pandas/core/indexes/base.py:3812\u001B[39m, in \u001B[36mIndex.get_loc\u001B[39m\u001B[34m(self, key)\u001B[39m\n\u001B[32m   3811\u001B[39m \u001B[38;5;28;01mtry\u001B[39;00m:\n\u001B[32m-> \u001B[39m\u001B[32m3812\u001B[39m     \u001B[38;5;28;01mreturn\u001B[39;00m \u001B[38;5;28;43mself\u001B[39;49m\u001B[43m.\u001B[49m\u001B[43m_engine\u001B[49m\u001B[43m.\u001B[49m\u001B[43mget_loc\u001B[49m\u001B[43m(\u001B[49m\u001B[43mcasted_key\u001B[49m\u001B[43m)\u001B[49m\n\u001B[32m   3813\u001B[39m \u001B[38;5;28;01mexcept\u001B[39;00m \u001B[38;5;167;01mKeyError\u001B[39;00m \u001B[38;5;28;01mas\u001B[39;00m err:\n",
      "\u001B[36mFile \u001B[39m\u001B[32mpandas/_libs/index.pyx:167\u001B[39m, in \u001B[36mpandas._libs.index.IndexEngine.get_loc\u001B[39m\u001B[34m()\u001B[39m\n",
      "\u001B[36mFile \u001B[39m\u001B[32mpandas/_libs/index.pyx:196\u001B[39m, in \u001B[36mpandas._libs.index.IndexEngine.get_loc\u001B[39m\u001B[34m()\u001B[39m\n",
      "\u001B[36mFile \u001B[39m\u001B[32mpandas/_libs/hashtable_class_helper.pxi:7088\u001B[39m, in \u001B[36mpandas._libs.hashtable.PyObjectHashTable.get_item\u001B[39m\u001B[34m()\u001B[39m\n",
      "\u001B[36mFile \u001B[39m\u001B[32mpandas/_libs/hashtable_class_helper.pxi:7096\u001B[39m, in \u001B[36mpandas._libs.hashtable.PyObjectHashTable.get_item\u001B[39m\u001B[34m()\u001B[39m\n",
      "\u001B[31mKeyError\u001B[39m: '<CLOSE>'",
      "\nThe above exception was the direct cause of the following exception:\n",
      "\u001B[31mKeyError\u001B[39m                                  Traceback (most recent call last)",
      "\u001B[36mCell\u001B[39m\u001B[36m \u001B[39m\u001B[32mIn[29]\u001B[39m\u001B[32m, line 2\u001B[39m\n\u001B[32m      1\u001B[39m \u001B[38;5;66;03m# PLOT\u001B[39;00m\n\u001B[32m----> \u001B[39m\u001B[32m2\u001B[39m \u001B[43mforex_plot_utils\u001B[49m\u001B[43m.\u001B[49m\u001B[43mplot_all_series\u001B[49m\u001B[43m(\u001B[49m\n\u001B[32m      3\u001B[39m \u001B[43m    \u001B[49m\u001B[43mhistorical_df\u001B[49m\u001B[43m=\u001B[49m\u001B[43mhistorical_df\u001B[49m\u001B[43m,\u001B[49m\n\u001B[32m      4\u001B[39m \u001B[43m    \u001B[49m\u001B[43mpredicted_df\u001B[49m\u001B[43m=\u001B[49m\u001B[43mpredicted_df\u001B[49m\u001B[43m,\u001B[49m\n\u001B[32m      5\u001B[39m \u001B[43m    \u001B[49m\u001B[43mactual_future_df\u001B[49m\u001B[43m=\u001B[49m\u001B[43mactual_future_df\u001B[49m\u001B[43m,\u001B[49m\n\u001B[32m      6\u001B[39m \u001B[43m    \u001B[49m\u001B[43mtitle\u001B[49m\u001B[43m=\u001B[49m\u001B[43mplot_title\u001B[49m\u001B[43m,\u001B[49m\n\u001B[32m      7\u001B[39m \u001B[43m    \u001B[49m\u001B[43moutput_path\u001B[49m\u001B[43m=\u001B[49m\u001B[43moutput_plot_path\u001B[49m\n\u001B[32m      8\u001B[39m \u001B[43m)\u001B[49m\n",
      "\u001B[36mFile \u001B[39m\u001B[32m~/repositories/machine-learning/forex-prediction/architecture-17/../utils/forex_plot_utils.py:49\u001B[39m, in \u001B[36mplot_all_series\u001B[39m\u001B[34m(historical_df, predicted_df, actual_future_df, title, output_path)\u001B[39m\n\u001B[32m     46\u001B[39m     plotted = \u001B[38;5;28;01mTrue\u001B[39;00m\n\u001B[32m     48\u001B[39m \u001B[38;5;28;01mif\u001B[39;00m predicted_df \u001B[38;5;129;01mis\u001B[39;00m \u001B[38;5;129;01mnot\u001B[39;00m \u001B[38;5;28;01mNone\u001B[39;00m:\n\u001B[32m---> \u001B[39m\u001B[32m49\u001B[39m     plt.plot(predicted_df[\u001B[33m'\u001B[39m\u001B[33mDATETIME\u001B[39m\u001B[33m'\u001B[39m], \u001B[43mpredicted_df\u001B[49m\u001B[43m[\u001B[49m\u001B[33;43m'\u001B[39;49m\u001B[33;43m<CLOSE>\u001B[39;49m\u001B[33;43m'\u001B[39;49m\u001B[43m]\u001B[49m,\n\u001B[32m     50\u001B[39m              label=\u001B[33m'\u001B[39m\u001B[33mPredicted\u001B[39m\u001B[33m'\u001B[39m, color=colors[\u001B[33m'\u001B[39m\u001B[33mpredicted\u001B[39m\u001B[33m'\u001B[39m], linestyle=\u001B[33m'\u001B[39m\u001B[33m--\u001B[39m\u001B[33m'\u001B[39m)\n\u001B[32m     51\u001B[39m     plotted = \u001B[38;5;28;01mTrue\u001B[39;00m\n\u001B[32m     53\u001B[39m \u001B[38;5;28;01mif\u001B[39;00m historical_df \u001B[38;5;129;01mis\u001B[39;00m \u001B[38;5;129;01mnot\u001B[39;00m \u001B[38;5;28;01mNone\u001B[39;00m:\n",
      "\u001B[36mFile \u001B[39m\u001B[32m~/repositories/machine-learning/forex-prediction/envs/lib/python3.11/site-packages/pandas/core/frame.py:4107\u001B[39m, in \u001B[36mDataFrame.__getitem__\u001B[39m\u001B[34m(self, key)\u001B[39m\n\u001B[32m   4105\u001B[39m \u001B[38;5;28;01mif\u001B[39;00m \u001B[38;5;28mself\u001B[39m.columns.nlevels > \u001B[32m1\u001B[39m:\n\u001B[32m   4106\u001B[39m     \u001B[38;5;28;01mreturn\u001B[39;00m \u001B[38;5;28mself\u001B[39m._getitem_multilevel(key)\n\u001B[32m-> \u001B[39m\u001B[32m4107\u001B[39m indexer = \u001B[38;5;28;43mself\u001B[39;49m\u001B[43m.\u001B[49m\u001B[43mcolumns\u001B[49m\u001B[43m.\u001B[49m\u001B[43mget_loc\u001B[49m\u001B[43m(\u001B[49m\u001B[43mkey\u001B[49m\u001B[43m)\u001B[49m\n\u001B[32m   4108\u001B[39m \u001B[38;5;28;01mif\u001B[39;00m is_integer(indexer):\n\u001B[32m   4109\u001B[39m     indexer = [indexer]\n",
      "\u001B[36mFile \u001B[39m\u001B[32m~/repositories/machine-learning/forex-prediction/envs/lib/python3.11/site-packages/pandas/core/indexes/base.py:3819\u001B[39m, in \u001B[36mIndex.get_loc\u001B[39m\u001B[34m(self, key)\u001B[39m\n\u001B[32m   3814\u001B[39m     \u001B[38;5;28;01mif\u001B[39;00m \u001B[38;5;28misinstance\u001B[39m(casted_key, \u001B[38;5;28mslice\u001B[39m) \u001B[38;5;129;01mor\u001B[39;00m (\n\u001B[32m   3815\u001B[39m         \u001B[38;5;28misinstance\u001B[39m(casted_key, abc.Iterable)\n\u001B[32m   3816\u001B[39m         \u001B[38;5;129;01mand\u001B[39;00m \u001B[38;5;28many\u001B[39m(\u001B[38;5;28misinstance\u001B[39m(x, \u001B[38;5;28mslice\u001B[39m) \u001B[38;5;28;01mfor\u001B[39;00m x \u001B[38;5;129;01min\u001B[39;00m casted_key)\n\u001B[32m   3817\u001B[39m     ):\n\u001B[32m   3818\u001B[39m         \u001B[38;5;28;01mraise\u001B[39;00m InvalidIndexError(key)\n\u001B[32m-> \u001B[39m\u001B[32m3819\u001B[39m     \u001B[38;5;28;01mraise\u001B[39;00m \u001B[38;5;167;01mKeyError\u001B[39;00m(key) \u001B[38;5;28;01mfrom\u001B[39;00m\u001B[38;5;250m \u001B[39m\u001B[34;01merr\u001B[39;00m\n\u001B[32m   3820\u001B[39m \u001B[38;5;28;01mexcept\u001B[39;00m \u001B[38;5;167;01mTypeError\u001B[39;00m:\n\u001B[32m   3821\u001B[39m     \u001B[38;5;66;03m# If we have a listlike key, _check_indexing_error will raise\u001B[39;00m\n\u001B[32m   3822\u001B[39m     \u001B[38;5;66;03m#  InvalidIndexError. Otherwise we fall through and re-raise\u001B[39;00m\n\u001B[32m   3823\u001B[39m     \u001B[38;5;66;03m#  the TypeError.\u001B[39;00m\n\u001B[32m   3824\u001B[39m     \u001B[38;5;28mself\u001B[39m._check_indexing_error(key)\n",
      "\u001B[31mKeyError\u001B[39m: '<CLOSE>'"
     ]
    },
    {
     "data": {
      "text/plain": [
       "<Figure size 1400x600 with 1 Axes>"
      ],
      "image/png": "[encoded data removed]"
     },
     "metadata": {},
     "output_type": "display_data"
    }
   ],
   "execution_count": 29
  }
 ],
 "metadata": {
  "kernelspec": {
   "name": "python3",
   "language": "python",
   "display_name": "Python 3 (ipykernel)"
  }
 },
 "nbformat": 5,
 "nbformat_minor": 9
}
