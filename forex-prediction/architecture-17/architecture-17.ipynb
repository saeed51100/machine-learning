{
 "cells": [
  {
   "metadata": {},
   "cell_type": "markdown",
   "source": [
    "# architecture-17 ( Basic Classification )\n",
    "\n",
    "## What's new:\n",
    "\n",
    "1- Add\n"
   ],
   "id": "67a9ecb3258e8606"
  },
  {
   "metadata": {
    "ExecuteTime": {
     "end_time": "2025-07-24T06:13:35.480741Z",
     "start_time": "2025-07-24T06:13:35.477625Z"
    }
   },
   "cell_type": "code",
   "source": [
    "import pandas as pd\n",
    "import numpy as np\n",
    "import matplotlib.pyplot as plt\n",
    "import tensorflow as tf\n",
    "from sklearn.preprocessing import MinMaxScaler\n",
    "from tensorflow.keras.models import Sequential\n",
    "from tensorflow.keras.layers import LSTM, Dense, Dropout\n",
    "from tensorflow.keras import Input\n",
    "import talib\n",
    "\n",
    "# Constants\n",
    "SEQUENCE_LENGTH = 60\n",
    "FORECAST_HORIZON = 10\n"
   ],
   "id": "928bafab3ccefb66",
   "outputs": [],
   "execution_count": 16
  },
  {
   "metadata": {
    "ExecuteTime": {
     "end_time": "2025-07-24T06:07:01.656221Z",
     "start_time": "2025-07-24T06:07:01.611989Z"
    }
   },
   "cell_type": "code",
   "source": [
    "# Load dataset\n",
    "df = pd.read_csv('datasets-17/XAGUSD-H1-rates.csv', sep='\\t').dropna()"
   ],
   "id": "4c9a5a36c8be002e",
   "outputs": [],
   "execution_count": 3
  },
  {
   "metadata": {
    "ExecuteTime": {
     "end_time": "2025-07-24T06:07:06.811059Z",
     "start_time": "2025-07-24T06:07:06.796694Z"
    }
   },
   "cell_type": "code",
   "source": [
    "# Scaling Features\n",
    "scaler = MinMaxScaler()\n",
    "scaled_data = scaler.fit_transform(df[['<OPEN>', '<HIGH>', '<LOW>', '<CLOSE>', '<TICKVOL>']])"
   ],
   "id": "4e4c807682b6449b",
   "outputs": [],
   "execution_count": 4
  },
  {
   "metadata": {
    "ExecuteTime": {
     "end_time": "2025-07-24T06:07:10.362912Z",
     "start_time": "2025-07-24T06:07:09.681357Z"
    }
   },
   "cell_type": "code",
   "source": [
    "# Add RSI for post-processing\n",
    "df['RSI'] = talib.RSI(df['<CLOSE>'], timeperiod=14)\n",
    "\n",
    "# Label trend reversals (example: a simplistic method)\n",
    "def label_trend_reversals(prices, window=5):\n",
    "    labels = []\n",
    "    for i in range(len(prices) - window):\n",
    "        past = prices[i:i+window//2]\n",
    "        future = prices[i+window//2:i+window]\n",
    "        if np.mean(future) > np.mean(past):\n",
    "            labels.append(1)  # potential buy\n",
    "        elif np.mean(future) < np.mean(past):\n",
    "            labels.append(2)  # potential sell\n",
    "        else:\n",
    "            labels.append(0)\n",
    "    labels += [0] * window  # pad\n",
    "    return labels\n",
    "\n",
    "df['Label'] = label_trend_reversals(df['<CLOSE>'].values)\n"
   ],
   "id": "ce5f9c1ecf96cced",
   "outputs": [],
   "execution_count": 5
  },
  {
   "metadata": {
    "ExecuteTime": {
     "end_time": "2025-07-24T06:07:13.606651Z",
     "start_time": "2025-07-24T06:07:12.698032Z"
    }
   },
   "cell_type": "code",
   "source": [
    "# Prepare Sequences\n",
    "X, y = [], []\n",
    "for i in range(SEQUENCE_LENGTH, len(scaled_data) - FORECAST_HORIZON):\n",
    "    X.append(scaled_data[i-SEQUENCE_LENGTH:i])\n",
    "    y.append(df['Label'].iloc[i:i+FORECAST_HORIZON].values)\n",
    "\n",
    "X, y = np.array(X), np.array(y)\n"
   ],
   "id": "6dfd6176c12faccf",
   "outputs": [],
   "execution_count": 6
  },
  {
   "metadata": {
    "ExecuteTime": {
     "end_time": "2025-07-24T06:07:17.479376Z",
     "start_time": "2025-07-24T06:07:17.475626Z"
    }
   },
   "cell_type": "code",
   "source": [
    "# Split Dataset\n",
    "X_train = X[:-1]\n",
    "y_train = y[:-1]\n",
    "\n",
    "# Last 60 candles for prediction\n",
    "X_input = X[-1:]\n",
    "y_true_future = y[-1]  # for evaluation if desired\n"
   ],
   "id": "655fe1327365fc6d",
   "outputs": [],
   "execution_count": 7
  },
  {
   "metadata": {
    "ExecuteTime": {
     "end_time": "2025-07-24T06:07:20.954421Z",
     "start_time": "2025-07-24T06:07:20.114192Z"
    }
   },
   "cell_type": "code",
   "source": [
    "from tensorflow.keras.utils import to_categorical\n",
    "\n",
    "# One-hot encode each timestep's class (3 classes → depth = 3)\n",
    "y_onehot = np.array([to_categorical(row, num_classes=3) for row in y_train])\n",
    "# Now shape = (num_samples, 10, 3)\n"
   ],
   "id": "ba0012e61d11b0d",
   "outputs": [],
   "execution_count": 8
  },
  {
   "metadata": {
    "ExecuteTime": {
     "end_time": "2025-07-24T06:13:43.103087Z",
     "start_time": "2025-07-24T06:13:43.055603Z"
    }
   },
   "cell_type": "code",
   "source": [
    "# Build LSTM Classification Model\n",
    "model = Sequential([\n",
    "    Input(shape=(SEQUENCE_LENGTH, X.shape[2])),\n",
    "    LSTM(64, return_sequences=False),\n",
    "    Dropout(0.3),\n",
    "    Dense(64, activation='relu'),\n",
    "    Dropout(0.2),\n",
    "    Dense(FORECAST_HORIZON * 3, activation='softmax')  # 3 classes per forecast hour\n",
    "])\n"
   ],
   "id": "cf91bf473436a97e",
   "outputs": [],
   "execution_count": 17
  },
  {
   "metadata": {
    "ExecuteTime": {
     "end_time": "2025-07-24T06:09:44.283425Z",
     "start_time": "2025-07-24T06:09:44.262519Z"
    }
   },
   "cell_type": "code",
   "source": "model.compile(optimizer='adam', loss='categorical_crossentropy', metrics=['accuracy'])\n",
   "id": "7b500e9a255ca6e8",
   "outputs": [],
   "execution_count": 11
  },
  {
   "metadata": {
    "ExecuteTime": {
     "end_time": "2025-07-24T06:10:31.543292Z",
     "start_time": "2025-07-24T06:09:46.299422Z"
    }
   },
   "cell_type": "code",
   "source": [
    "# Train the Model\n",
    "# Fit model\n",
    "model.fit(X_train, y_onehot, epochs=10, batch_size=64, validation_split=0.1)\n"
   ],
   "id": "ec7b9c69ef1e0b11",
   "outputs": [
    {
     "name": "stdout",
     "output_type": "stream",
     "text": [
      "Epoch 1/10\n"
     ]
    },
    {
     "name": "stderr",
     "output_type": "stream",
     "text": [
      "I0000 00:00:1753337388.155570   65939 cuda_dnn.cc:529] Loaded cuDNN version 91001\n"
     ]
    },
    {
     "name": "stdout",
     "output_type": "stream",
     "text": [
      "\u001B[1m774/774\u001B[0m \u001B[32m━━━━━━━━━━━━━━━━━━━━\u001B[0m\u001B[37m\u001B[0m \u001B[1m7s\u001B[0m 5ms/step - accuracy: 0.4958 - loss: 0.7645 - val_accuracy: 0.5026 - val_loss: 0.6965\n",
      "Epoch 2/10\n",
      "\u001B[1m774/774\u001B[0m \u001B[32m━━━━━━━━━━━━━━━━━━━━\u001B[0m\u001B[37m\u001B[0m \u001B[1m4s\u001B[0m 5ms/step - accuracy: 0.5002 - loss: 0.7013 - val_accuracy: 0.4970 - val_loss: 0.6963\n",
      "Epoch 3/10\n",
      "\u001B[1m774/774\u001B[0m \u001B[32m━━━━━━━━━━━━━━━━━━━━\u001B[0m\u001B[37m\u001B[0m \u001B[1m4s\u001B[0m 5ms/step - accuracy: 0.5007 - loss: 0.7000 - val_accuracy: 0.5026 - val_loss: 0.6961\n",
      "Epoch 4/10\n",
      "\u001B[1m774/774\u001B[0m \u001B[32m━━━━━━━━━━━━━━━━━━━━\u001B[0m\u001B[37m\u001B[0m \u001B[1m4s\u001B[0m 5ms/step - accuracy: 0.4982 - loss: 0.7002 - val_accuracy: 0.5055 - val_loss: 0.6957\n",
      "Epoch 5/10\n",
      "\u001B[1m774/774\u001B[0m \u001B[32m━━━━━━━━━━━━━━━━━━━━\u001B[0m\u001B[37m\u001B[0m \u001B[1m4s\u001B[0m 5ms/step - accuracy: 0.5012 - loss: 0.6999 - val_accuracy: 0.4999 - val_loss: 0.6959\n",
      "Epoch 6/10\n",
      "\u001B[1m774/774\u001B[0m \u001B[32m━━━━━━━━━━━━━━━━━━━━\u001B[0m\u001B[37m\u001B[0m \u001B[1m4s\u001B[0m 5ms/step - accuracy: 0.4988 - loss: 0.6996 - val_accuracy: 0.5054 - val_loss: 0.6957\n",
      "Epoch 7/10\n",
      "\u001B[1m774/774\u001B[0m \u001B[32m━━━━━━━━━━━━━━━━━━━━\u001B[0m\u001B[37m\u001B[0m \u001B[1m4s\u001B[0m 5ms/step - accuracy: 0.5009 - loss: 0.6994 - val_accuracy: 0.5050 - val_loss: 0.6959\n",
      "Epoch 8/10\n",
      "\u001B[1m774/774\u001B[0m \u001B[32m━━━━━━━━━━━━━━━━━━━━\u001B[0m\u001B[37m\u001B[0m \u001B[1m4s\u001B[0m 6ms/step - accuracy: 0.4992 - loss: 0.6997 - val_accuracy: 0.5024 - val_loss: 0.6958\n",
      "Epoch 9/10\n",
      "\u001B[1m774/774\u001B[0m \u001B[32m━━━━━━━━━━━━━━━━━━━━\u001B[0m\u001B[37m\u001B[0m \u001B[1m4s\u001B[0m 6ms/step - accuracy: 0.5007 - loss: 0.6996 - val_accuracy: 0.5041 - val_loss: 0.6959\n",
      "Epoch 10/10\n",
      "\u001B[1m774/774\u001B[0m \u001B[32m━━━━━━━━━━━━━━━━━━━━\u001B[0m\u001B[37m\u001B[0m \u001B[1m4s\u001B[0m 6ms/step - accuracy: 0.5006 - loss: 0.6994 - val_accuracy: 0.5023 - val_loss: 0.6958\n"
     ]
    },
    {
     "data": {
      "text/plain": [
       "<keras.src.callbacks.history.History at 0x75da708c0e90>"
      ]
     },
     "execution_count": 12,
     "metadata": {},
     "output_type": "execute_result"
    }
   ],
   "execution_count": 12
  },
  {
   "metadata": {
    "ExecuteTime": {
     "end_time": "2025-07-24T06:10:45.382141Z",
     "start_time": "2025-07-24T06:10:45.246011Z"
    }
   },
   "cell_type": "code",
   "source": [
    "# Predict Next 10 Hours\n",
    "pred_probs = model.predict(X_input)\n",
    "pred_classes = np.argmax(pred_probs.reshape(FORECAST_HORIZON, 3), axis=1)\n",
    "\n",
    "# Apply RSI filter\n",
    "last_60_index = len(df) - FORECAST_HORIZON - 1\n",
    "rsi_segment = df['RSI'].iloc[last_60_index+1:last_60_index+1+FORECAST_HORIZON].values\n",
    "final_preds = []\n",
    "\n",
    "for i, (pred, rsi) in enumerate(zip(pred_classes, rsi_segment)):\n",
    "    if pred == 1 and rsi < 30:\n",
    "        final_preds.append(1)  # buy\n",
    "    elif pred == 2 and rsi > 70:\n",
    "        final_preds.append(2)  # sell\n",
    "    else:\n",
    "        final_preds.append(0)\n"
   ],
   "id": "b27582fcf9337d79",
   "outputs": [
    {
     "name": "stdout",
     "output_type": "stream",
     "text": [
      "\u001B[1m1/1\u001B[0m \u001B[32m━━━━━━━━━━━━━━━━━━━━\u001B[0m\u001B[37m\u001B[0m \u001B[1m0s\u001B[0m 99ms/step\n"
     ]
    }
   ],
   "execution_count": 13
  },
  {
   "metadata": {
    "ExecuteTime": {
     "end_time": "2025-07-24T06:10:50.717837Z",
     "start_time": "2025-07-24T06:10:49.910607Z"
    }
   },
   "cell_type": "code",
   "source": [
    "# Visualize Forecast\n",
    "import matplotlib.dates as mdates\n",
    "\n",
    "# Extract last 4 real candles\n",
    "recent_candles = df.iloc[-FORECAST_HORIZON-4:-FORECAST_HORIZON]\n",
    "\n",
    "# Fake future time axis\n",
    "future_times = pd.to_datetime(df['DATE'] + ' ' + df['TIME'])\n",
    "future_start = future_times.iloc[-FORECAST_HORIZON-1]\n",
    "future_time_axis = [future_start + pd.Timedelta(hours=i+1) for i in range(FORECAST_HORIZON)]\n",
    "\n",
    "# Plot\n",
    "plt.figure(figsize=(12, 6))\n",
    "\n",
    "# Plot the last 4 candles\n",
    "plt.plot(future_times.iloc[-FORECAST_HORIZON-4:-FORECAST_HORIZON],\n",
    "         recent_candles['CLOSE'], label='Last 4 Candles', color='blue')\n",
    "\n",
    "# Vertical dotted line between real and forecast\n",
    "plt.axvline(future_time_axis[0], linestyle='--', color='black', label='Forecast Start')\n",
    "\n",
    "# Add vertical lines for predictions\n",
    "for i, pred in enumerate(final_preds):\n",
    "    if pred == 1:\n",
    "        label = 'Buy'\n",
    "        color = 'green'\n",
    "    elif pred == 2:\n",
    "        label = 'Sell'\n",
    "        color = 'red'\n",
    "    else:\n",
    "        continue\n",
    "    plt.axvline(future_time_axis[i], linestyle='--', color=color)\n",
    "    plt.text(future_time_axis[i], plt.ylim()[1]*0.98, str(pred), color=color, fontsize=10, ha='center')\n",
    "\n",
    "plt.xlabel('Time')\n",
    "plt.ylabel('Price (CLOSE)')\n",
    "plt.title('Forex Trend Reversal Predictions')\n",
    "plt.legend()\n",
    "plt.grid(True)\n",
    "plt.tight_layout()\n",
    "plt.show()\n"
   ],
   "id": "34319cac92c3cb56",
   "outputs": [
    {
     "ename": "KeyError",
     "evalue": "'DATE'",
     "output_type": "error",
     "traceback": [
      "\u001B[31m---------------------------------------------------------------------------\u001B[39m",
      "\u001B[31mKeyError\u001B[39m                                  Traceback (most recent call last)",
      "\u001B[36mFile \u001B[39m\u001B[32m~/repositories/machine-learning/forex-prediction/envs/lib/python3.11/site-packages/pandas/core/indexes/base.py:3812\u001B[39m, in \u001B[36mIndex.get_loc\u001B[39m\u001B[34m(self, key)\u001B[39m\n\u001B[32m   3811\u001B[39m \u001B[38;5;28;01mtry\u001B[39;00m:\n\u001B[32m-> \u001B[39m\u001B[32m3812\u001B[39m     \u001B[38;5;28;01mreturn\u001B[39;00m \u001B[38;5;28;43mself\u001B[39;49m\u001B[43m.\u001B[49m\u001B[43m_engine\u001B[49m\u001B[43m.\u001B[49m\u001B[43mget_loc\u001B[49m\u001B[43m(\u001B[49m\u001B[43mcasted_key\u001B[49m\u001B[43m)\u001B[49m\n\u001B[32m   3813\u001B[39m \u001B[38;5;28;01mexcept\u001B[39;00m \u001B[38;5;167;01mKeyError\u001B[39;00m \u001B[38;5;28;01mas\u001B[39;00m err:\n",
      "\u001B[36mFile \u001B[39m\u001B[32mpandas/_libs/index.pyx:167\u001B[39m, in \u001B[36mpandas._libs.index.IndexEngine.get_loc\u001B[39m\u001B[34m()\u001B[39m\n",
      "\u001B[36mFile \u001B[39m\u001B[32mpandas/_libs/index.pyx:196\u001B[39m, in \u001B[36mpandas._libs.index.IndexEngine.get_loc\u001B[39m\u001B[34m()\u001B[39m\n",
      "\u001B[36mFile \u001B[39m\u001B[32mpandas/_libs/hashtable_class_helper.pxi:7088\u001B[39m, in \u001B[36mpandas._libs.hashtable.PyObjectHashTable.get_item\u001B[39m\u001B[34m()\u001B[39m\n",
      "\u001B[36mFile \u001B[39m\u001B[32mpandas/_libs/hashtable_class_helper.pxi:7096\u001B[39m, in \u001B[36mpandas._libs.hashtable.PyObjectHashTable.get_item\u001B[39m\u001B[34m()\u001B[39m\n",
      "\u001B[31mKeyError\u001B[39m: 'DATE'",
      "\nThe above exception was the direct cause of the following exception:\n",
      "\u001B[31mKeyError\u001B[39m                                  Traceback (most recent call last)",
      "\u001B[36mCell\u001B[39m\u001B[36m \u001B[39m\u001B[32mIn[14]\u001B[39m\u001B[32m, line 8\u001B[39m\n\u001B[32m      5\u001B[39m recent_candles = df.iloc[-FORECAST_HORIZON-\u001B[32m4\u001B[39m:-FORECAST_HORIZON]\n\u001B[32m      7\u001B[39m \u001B[38;5;66;03m# Fake future time axis\u001B[39;00m\n\u001B[32m----> \u001B[39m\u001B[32m8\u001B[39m future_times = pd.to_datetime(\u001B[43mdf\u001B[49m\u001B[43m[\u001B[49m\u001B[33;43m'\u001B[39;49m\u001B[33;43mDATE\u001B[39;49m\u001B[33;43m'\u001B[39;49m\u001B[43m]\u001B[49m + \u001B[33m'\u001B[39m\u001B[33m \u001B[39m\u001B[33m'\u001B[39m + df[\u001B[33m'\u001B[39m\u001B[33mTIME\u001B[39m\u001B[33m'\u001B[39m])\n\u001B[32m      9\u001B[39m future_start = future_times.iloc[-FORECAST_HORIZON-\u001B[32m1\u001B[39m]\n\u001B[32m     10\u001B[39m future_time_axis = [future_start + pd.Timedelta(hours=i+\u001B[32m1\u001B[39m) \u001B[38;5;28;01mfor\u001B[39;00m i \u001B[38;5;129;01min\u001B[39;00m \u001B[38;5;28mrange\u001B[39m(FORECAST_HORIZON)]\n",
      "\u001B[36mFile \u001B[39m\u001B[32m~/repositories/machine-learning/forex-prediction/envs/lib/python3.11/site-packages/pandas/core/frame.py:4107\u001B[39m, in \u001B[36mDataFrame.__getitem__\u001B[39m\u001B[34m(self, key)\u001B[39m\n\u001B[32m   4105\u001B[39m \u001B[38;5;28;01mif\u001B[39;00m \u001B[38;5;28mself\u001B[39m.columns.nlevels > \u001B[32m1\u001B[39m:\n\u001B[32m   4106\u001B[39m     \u001B[38;5;28;01mreturn\u001B[39;00m \u001B[38;5;28mself\u001B[39m._getitem_multilevel(key)\n\u001B[32m-> \u001B[39m\u001B[32m4107\u001B[39m indexer = \u001B[38;5;28;43mself\u001B[39;49m\u001B[43m.\u001B[49m\u001B[43mcolumns\u001B[49m\u001B[43m.\u001B[49m\u001B[43mget_loc\u001B[49m\u001B[43m(\u001B[49m\u001B[43mkey\u001B[49m\u001B[43m)\u001B[49m\n\u001B[32m   4108\u001B[39m \u001B[38;5;28;01mif\u001B[39;00m is_integer(indexer):\n\u001B[32m   4109\u001B[39m     indexer = [indexer]\n",
      "\u001B[36mFile \u001B[39m\u001B[32m~/repositories/machine-learning/forex-prediction/envs/lib/python3.11/site-packages/pandas/core/indexes/base.py:3819\u001B[39m, in \u001B[36mIndex.get_loc\u001B[39m\u001B[34m(self, key)\u001B[39m\n\u001B[32m   3814\u001B[39m     \u001B[38;5;28;01mif\u001B[39;00m \u001B[38;5;28misinstance\u001B[39m(casted_key, \u001B[38;5;28mslice\u001B[39m) \u001B[38;5;129;01mor\u001B[39;00m (\n\u001B[32m   3815\u001B[39m         \u001B[38;5;28misinstance\u001B[39m(casted_key, abc.Iterable)\n\u001B[32m   3816\u001B[39m         \u001B[38;5;129;01mand\u001B[39;00m \u001B[38;5;28many\u001B[39m(\u001B[38;5;28misinstance\u001B[39m(x, \u001B[38;5;28mslice\u001B[39m) \u001B[38;5;28;01mfor\u001B[39;00m x \u001B[38;5;129;01min\u001B[39;00m casted_key)\n\u001B[32m   3817\u001B[39m     ):\n\u001B[32m   3818\u001B[39m         \u001B[38;5;28;01mraise\u001B[39;00m InvalidIndexError(key)\n\u001B[32m-> \u001B[39m\u001B[32m3819\u001B[39m     \u001B[38;5;28;01mraise\u001B[39;00m \u001B[38;5;167;01mKeyError\u001B[39;00m(key) \u001B[38;5;28;01mfrom\u001B[39;00m\u001B[38;5;250m \u001B[39m\u001B[34;01merr\u001B[39;00m\n\u001B[32m   3820\u001B[39m \u001B[38;5;28;01mexcept\u001B[39;00m \u001B[38;5;167;01mTypeError\u001B[39;00m:\n\u001B[32m   3821\u001B[39m     \u001B[38;5;66;03m# If we have a listlike key, _check_indexing_error will raise\u001B[39;00m\n\u001B[32m   3822\u001B[39m     \u001B[38;5;66;03m#  InvalidIndexError. Otherwise we fall through and re-raise\u001B[39;00m\n\u001B[32m   3823\u001B[39m     \u001B[38;5;66;03m#  the TypeError.\u001B[39;00m\n\u001B[32m   3824\u001B[39m     \u001B[38;5;28mself\u001B[39m._check_indexing_error(key)\n",
      "\u001B[31mKeyError\u001B[39m: 'DATE'"
     ]
    }
   ],
   "execution_count": 14
  }
 ],
 "metadata": {
  "kernelspec": {
   "name": "python3",
   "language": "python",
   "display_name": "Python 3 (ipykernel)"
  }
 },
 "nbformat": 5,
 "nbformat_minor": 9
}
