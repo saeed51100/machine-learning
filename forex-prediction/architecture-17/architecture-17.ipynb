{
 "cells": [
  {
   "metadata": {},
   "cell_type": "markdown",
   "source": [
    "# architecture-17 ( Basic Classification )\n",
    "\n",
    "## What's new:\n",
    "\n",
    "1- Add\n"
   ],
   "id": "67a9ecb3258e8606"
  },
  {
   "metadata": {
    "ExecuteTime": {
     "end_time": "2025-07-23T19:07:50.292905Z",
     "start_time": "2025-07-23T19:07:50.289651Z"
    }
   },
   "cell_type": "code",
   "source": [
    "import pandas as pd\n",
    "import numpy as np\n",
    "import matplotlib.pyplot as plt\n",
    "import tensorflow as tf\n",
    "from sklearn.preprocessing import MinMaxScaler\n",
    "from tensorflow.keras.models import Sequential\n",
    "from tensorflow.keras.layers import LSTM, Dense, Dropout\n",
    "from tensorflow.keras import Input\n",
    "import talib\n",
    "\n",
    "# Constants\n",
    "SEQUENCE_LENGTH = 60\n",
    "FORECAST_HORIZON = 10\n"
   ],
   "id": "928bafab3ccefb66",
   "outputs": [],
   "execution_count": 29
  },
  {
   "metadata": {},
   "cell_type": "code",
   "outputs": [],
   "execution_count": null,
   "source": [
    "# Load dataset\n",
    "df = pd.read_csv('datasets-17/XAGUSD-H1-rates.csv', sep='\\t').dropna()"
   ],
   "id": "4c9a5a36c8be002e"
  },
  {
   "metadata": {
    "ExecuteTime": {
     "end_time": "2025-07-23T18:41:02.620233Z",
     "start_time": "2025-07-23T18:41:02.608950Z"
    }
   },
   "cell_type": "code",
   "source": "df.head()",
   "id": "ab142413c20356b8",
   "outputs": [
    {
     "data": {
      "text/plain": [
       "       <DATE>    <TIME>  <OPEN>  <HIGH>   <LOW>  <CLOSE>  <TICKVOL>     <VOL>  \\\n",
       "0  2015.01.02  09:00:00  15.889  15.896  15.807   15.834        993  18451000   \n",
       "1  2015.01.02  10:00:00  15.836  15.864  15.822   15.834       1116  25764000   \n",
       "2  2015.01.02  11:00:00  15.836  15.838  15.790   15.822       1023  18885000   \n",
       "3  2015.01.02  12:00:00  15.827  15.828  15.725   15.772       1286  23593000   \n",
       "4  2015.01.02  13:00:00  15.781  15.786  15.667   15.734       1584  28750000   \n",
       "\n",
       "   <SPREAD>  \n",
       "0        21  \n",
       "1        22  \n",
       "2        19  \n",
       "3        21  \n",
       "4        17  "
      ],
      "text/html": [
       "<div>\n",
       "<style scoped>\n",
       "    .dataframe tbody tr th:only-of-type {\n",
       "        vertical-align: middle;\n",
       "    }\n",
       "\n",
       "    .dataframe tbody tr th {\n",
       "        vertical-align: top;\n",
       "    }\n",
       "\n",
       "    .dataframe thead th {\n",
       "        text-align: right;\n",
       "    }\n",
       "</style>\n",
       "<table border=\"1\" class=\"dataframe\">\n",
       "  <thead>\n",
       "    <tr style=\"text-align: right;\">\n",
       "      <th></th>\n",
       "      <th>&lt;DATE&gt;</th>\n",
       "      <th>&lt;TIME&gt;</th>\n",
       "      <th>&lt;OPEN&gt;</th>\n",
       "      <th>&lt;HIGH&gt;</th>\n",
       "      <th>&lt;LOW&gt;</th>\n",
       "      <th>&lt;CLOSE&gt;</th>\n",
       "      <th>&lt;TICKVOL&gt;</th>\n",
       "      <th>&lt;VOL&gt;</th>\n",
       "      <th>&lt;SPREAD&gt;</th>\n",
       "    </tr>\n",
       "  </thead>\n",
       "  <tbody>\n",
       "    <tr>\n",
       "      <th>0</th>\n",
       "      <td>2015.01.02</td>\n",
       "      <td>09:00:00</td>\n",
       "      <td>15.889</td>\n",
       "      <td>15.896</td>\n",
       "      <td>15.807</td>\n",
       "      <td>15.834</td>\n",
       "      <td>993</td>\n",
       "      <td>18451000</td>\n",
       "      <td>21</td>\n",
       "    </tr>\n",
       "    <tr>\n",
       "      <th>1</th>\n",
       "      <td>2015.01.02</td>\n",
       "      <td>10:00:00</td>\n",
       "      <td>15.836</td>\n",
       "      <td>15.864</td>\n",
       "      <td>15.822</td>\n",
       "      <td>15.834</td>\n",
       "      <td>1116</td>\n",
       "      <td>25764000</td>\n",
       "      <td>22</td>\n",
       "    </tr>\n",
       "    <tr>\n",
       "      <th>2</th>\n",
       "      <td>2015.01.02</td>\n",
       "      <td>11:00:00</td>\n",
       "      <td>15.836</td>\n",
       "      <td>15.838</td>\n",
       "      <td>15.790</td>\n",
       "      <td>15.822</td>\n",
       "      <td>1023</td>\n",
       "      <td>18885000</td>\n",
       "      <td>19</td>\n",
       "    </tr>\n",
       "    <tr>\n",
       "      <th>3</th>\n",
       "      <td>2015.01.02</td>\n",
       "      <td>12:00:00</td>\n",
       "      <td>15.827</td>\n",
       "      <td>15.828</td>\n",
       "      <td>15.725</td>\n",
       "      <td>15.772</td>\n",
       "      <td>1286</td>\n",
       "      <td>23593000</td>\n",
       "      <td>21</td>\n",
       "    </tr>\n",
       "    <tr>\n",
       "      <th>4</th>\n",
       "      <td>2015.01.02</td>\n",
       "      <td>13:00:00</td>\n",
       "      <td>15.781</td>\n",
       "      <td>15.786</td>\n",
       "      <td>15.667</td>\n",
       "      <td>15.734</td>\n",
       "      <td>1584</td>\n",
       "      <td>28750000</td>\n",
       "      <td>17</td>\n",
       "    </tr>\n",
       "  </tbody>\n",
       "</table>\n",
       "</div>"
      ]
     },
     "execution_count": 6,
     "metadata": {},
     "output_type": "execute_result"
    }
   ],
   "execution_count": 6
  },
  {
   "metadata": {
    "ExecuteTime": {
     "end_time": "2025-07-23T18:52:18.098465Z",
     "start_time": "2025-07-23T18:52:18.090842Z"
    }
   },
   "cell_type": "code",
   "source": [
    "# Scaling Features\n",
    "scaler = MinMaxScaler()\n",
    "scaled_data = scaler.fit_transform(df[['<OPEN>', '<HIGH>', '<LOW>', '<CLOSE>', '<TICKVOL>']])"
   ],
   "id": "4e4c807682b6449b",
   "outputs": [],
   "execution_count": 18
  },
  {
   "metadata": {
    "ExecuteTime": {
     "end_time": "2025-07-23T19:02:09.766895Z",
     "start_time": "2025-07-23T19:02:09.065343Z"
    }
   },
   "cell_type": "code",
   "source": [
    "# Add RSI for post-processing\n",
    "df['RSI'] = talib.RSI(df['<CLOSE>'], timeperiod=14)\n",
    "\n",
    "# Label trend reversals (example: a simplistic method)\n",
    "def label_trend_reversals(prices, window=5):\n",
    "    labels = []\n",
    "    for i in range(len(prices) - window):\n",
    "        past = prices[i:i+window//2]\n",
    "        future = prices[i+window//2:i+window]\n",
    "        if np.mean(future) > np.mean(past):\n",
    "            labels.append(1)  # potential buy\n",
    "        elif np.mean(future) < np.mean(past):\n",
    "            labels.append(2)  # potential sell\n",
    "        else:\n",
    "            labels.append(0)\n",
    "    labels += [0] * window  # pad\n",
    "    return labels\n",
    "\n",
    "df['Label'] = label_trend_reversals(df['<CLOSE>'].values)\n"
   ],
   "id": "ce5f9c1ecf96cced",
   "outputs": [],
   "execution_count": 21
  },
  {
   "metadata": {
    "ExecuteTime": {
     "end_time": "2025-07-23T19:02:14.994021Z",
     "start_time": "2025-07-23T19:02:14.121836Z"
    }
   },
   "cell_type": "code",
   "source": [
    "# Prepare Sequences\n",
    "X, y = [], []\n",
    "for i in range(SEQUENCE_LENGTH, len(scaled_data) - FORECAST_HORIZON):\n",
    "    X.append(scaled_data[i-SEQUENCE_LENGTH:i])\n",
    "    y.append(df['Label'].iloc[i:i+FORECAST_HORIZON].values)\n",
    "\n",
    "X, y = np.array(X), np.array(y)\n"
   ],
   "id": "6dfd6176c12faccf",
   "outputs": [],
   "execution_count": 22
  },
  {
   "metadata": {
    "ExecuteTime": {
     "end_time": "2025-07-23T19:02:28.115931Z",
     "start_time": "2025-07-23T19:02:28.112772Z"
    }
   },
   "cell_type": "code",
   "source": [
    "# Split Dataset\n",
    "X_train = X[:-1]\n",
    "y_train = y[:-1]\n",
    "\n",
    "# Last 60 candles for prediction\n",
    "X_input = X[-1:]\n",
    "y_true_future = y[-1]  # for evaluation if desired\n"
   ],
   "id": "655fe1327365fc6d",
   "outputs": [],
   "execution_count": 23
  },
  {
   "metadata": {
    "ExecuteTime": {
     "end_time": "2025-07-23T19:08:22.708583Z",
     "start_time": "2025-07-23T19:08:22.677494Z"
    }
   },
   "cell_type": "code",
   "source": [
    "# Build LSTM Classification Model\n",
    "model = Sequential([\n",
    "    Input(shape=(SEQUENCE_LENGTH, X.shape[2])),\n",
    "    LSTM(64, return_sequences=False),\n",
    "    Dropout(0.3),\n",
    "    Dense(64, activation='relu'),\n",
    "    Dropout(0.2),\n",
    "    Dense(FORECAST_HORIZON * 3, activation='softmax')  # 3 classes per forecast hour\n",
    "])"
   ],
   "id": "cf91bf473436a97e",
   "outputs": [],
   "execution_count": 31
  },
  {
   "metadata": {
    "ExecuteTime": {
     "end_time": "2025-07-23T19:08:28.512988Z",
     "start_time": "2025-07-23T19:08:28.506512Z"
    }
   },
   "cell_type": "code",
   "source": [
    "model.compile(optimizer='adam', loss='sparse_categorical_crossentropy', metrics=['accuracy'])\n",
    "\n",
    "# Reshape labels for categorical classification per hour\n",
    "y_train_reshaped = y_train.reshape(-1, FORECAST_HORIZON)\n"
   ],
   "id": "7b500e9a255ca6e8",
   "outputs": [],
   "execution_count": 32
  },
  {
   "metadata": {
    "ExecuteTime": {
     "end_time": "2025-07-23T19:08:40.845571Z",
     "start_time": "2025-07-23T19:08:40.511212Z"
    }
   },
   "cell_type": "code",
   "source": [
    "# Train the Model\n",
    "model.fit(X_train, y_train_reshaped, epochs=10, batch_size=64, validation_split=0.1)\n"
   ],
   "id": "ec7b9c69ef1e0b11",
   "outputs": [
    {
     "name": "stdout",
     "output_type": "stream",
     "text": [
      "Epoch 1/10\n"
     ]
    },
    {
     "ename": "ValueError",
     "evalue": "Argument `output` must have rank (ndim) `target.ndim - 1`. Received: target.shape=(None, 10), output.shape=(None, 30)",
     "output_type": "error",
     "traceback": [
      "\u001B[31m---------------------------------------------------------------------------\u001B[39m",
      "\u001B[31mValueError\u001B[39m                                Traceback (most recent call last)",
      "\u001B[36mCell\u001B[39m\u001B[36m \u001B[39m\u001B[32mIn[33]\u001B[39m\u001B[32m, line 2\u001B[39m\n\u001B[32m      1\u001B[39m \u001B[38;5;66;03m# Train the Model\u001B[39;00m\n\u001B[32m----> \u001B[39m\u001B[32m2\u001B[39m \u001B[43mmodel\u001B[49m\u001B[43m.\u001B[49m\u001B[43mfit\u001B[49m\u001B[43m(\u001B[49m\u001B[43mX_train\u001B[49m\u001B[43m,\u001B[49m\u001B[43m \u001B[49m\u001B[43my_train_reshaped\u001B[49m\u001B[43m,\u001B[49m\u001B[43m \u001B[49m\u001B[43mepochs\u001B[49m\u001B[43m=\u001B[49m\u001B[32;43m10\u001B[39;49m\u001B[43m,\u001B[49m\u001B[43m \u001B[49m\u001B[43mbatch_size\u001B[49m\u001B[43m=\u001B[49m\u001B[32;43m64\u001B[39;49m\u001B[43m,\u001B[49m\u001B[43m \u001B[49m\u001B[43mvalidation_split\u001B[49m\u001B[43m=\u001B[49m\u001B[32;43m0.1\u001B[39;49m\u001B[43m)\u001B[49m\n",
      "\u001B[36mFile \u001B[39m\u001B[32m~/repositories/machine-learning/forex-prediction/envs/lib/python3.11/site-packages/keras/src/utils/traceback_utils.py:122\u001B[39m, in \u001B[36mfilter_traceback.<locals>.error_handler\u001B[39m\u001B[34m(*args, **kwargs)\u001B[39m\n\u001B[32m    119\u001B[39m     filtered_tb = _process_traceback_frames(e.__traceback__)\n\u001B[32m    120\u001B[39m     \u001B[38;5;66;03m# To get the full stack trace, call:\u001B[39;00m\n\u001B[32m    121\u001B[39m     \u001B[38;5;66;03m# `keras.config.disable_traceback_filtering()`\u001B[39;00m\n\u001B[32m--> \u001B[39m\u001B[32m122\u001B[39m     \u001B[38;5;28;01mraise\u001B[39;00m e.with_traceback(filtered_tb) \u001B[38;5;28;01mfrom\u001B[39;00m\u001B[38;5;250m \u001B[39m\u001B[38;5;28;01mNone\u001B[39;00m\n\u001B[32m    123\u001B[39m \u001B[38;5;28;01mfinally\u001B[39;00m:\n\u001B[32m    124\u001B[39m     \u001B[38;5;28;01mdel\u001B[39;00m filtered_tb\n",
      "\u001B[36mFile \u001B[39m\u001B[32m~/repositories/machine-learning/forex-prediction/envs/lib/python3.11/site-packages/keras/src/backend/tensorflow/nn.py:725\u001B[39m, in \u001B[36msparse_categorical_crossentropy\u001B[39m\u001B[34m(target, output, from_logits, axis)\u001B[39m\n\u001B[32m    719\u001B[39m     \u001B[38;5;28;01mraise\u001B[39;00m \u001B[38;5;167;01mValueError\u001B[39;00m(\n\u001B[32m    720\u001B[39m         \u001B[33m\"\u001B[39m\u001B[33mArgument `output` must be at least rank 1. \u001B[39m\u001B[33m\"\u001B[39m\n\u001B[32m    721\u001B[39m         \u001B[33m\"\u001B[39m\u001B[33mReceived: \u001B[39m\u001B[33m\"\u001B[39m\n\u001B[32m    722\u001B[39m         \u001B[33mf\u001B[39m\u001B[33m\"\u001B[39m\u001B[33moutput.shape=\u001B[39m\u001B[38;5;132;01m{\u001B[39;00moutput.shape\u001B[38;5;132;01m}\u001B[39;00m\u001B[33m\"\u001B[39m\n\u001B[32m    723\u001B[39m     )\n\u001B[32m    724\u001B[39m \u001B[38;5;28;01mif\u001B[39;00m \u001B[38;5;28mlen\u001B[39m(target.shape) != \u001B[38;5;28mlen\u001B[39m(output.shape[:-\u001B[32m1\u001B[39m]):\n\u001B[32m--> \u001B[39m\u001B[32m725\u001B[39m     \u001B[38;5;28;01mraise\u001B[39;00m \u001B[38;5;167;01mValueError\u001B[39;00m(\n\u001B[32m    726\u001B[39m         \u001B[33m\"\u001B[39m\u001B[33mArgument `output` must have rank (ndim) `target.ndim - 1`. \u001B[39m\u001B[33m\"\u001B[39m\n\u001B[32m    727\u001B[39m         \u001B[33m\"\u001B[39m\u001B[33mReceived: \u001B[39m\u001B[33m\"\u001B[39m\n\u001B[32m    728\u001B[39m         \u001B[33mf\u001B[39m\u001B[33m\"\u001B[39m\u001B[33mtarget.shape=\u001B[39m\u001B[38;5;132;01m{\u001B[39;00mtarget.shape\u001B[38;5;132;01m}\u001B[39;00m\u001B[33m, output.shape=\u001B[39m\u001B[38;5;132;01m{\u001B[39;00moutput.shape\u001B[38;5;132;01m}\u001B[39;00m\u001B[33m\"\u001B[39m\n\u001B[32m    729\u001B[39m     )\n\u001B[32m    730\u001B[39m \u001B[38;5;28;01mfor\u001B[39;00m e1, e2 \u001B[38;5;129;01min\u001B[39;00m \u001B[38;5;28mzip\u001B[39m(target.shape, output.shape[:-\u001B[32m1\u001B[39m]):\n\u001B[32m    731\u001B[39m     \u001B[38;5;28;01mif\u001B[39;00m e1 \u001B[38;5;129;01mis\u001B[39;00m \u001B[38;5;129;01mnot\u001B[39;00m \u001B[38;5;28;01mNone\u001B[39;00m \u001B[38;5;129;01mand\u001B[39;00m e2 \u001B[38;5;129;01mis\u001B[39;00m \u001B[38;5;129;01mnot\u001B[39;00m \u001B[38;5;28;01mNone\u001B[39;00m \u001B[38;5;129;01mand\u001B[39;00m e1 != e2:\n",
      "\u001B[31mValueError\u001B[39m: Argument `output` must have rank (ndim) `target.ndim - 1`. Received: target.shape=(None, 10), output.shape=(None, 30)"
     ]
    }
   ],
   "execution_count": 33
  },
  {
   "metadata": {},
   "cell_type": "code",
   "outputs": [],
   "execution_count": null,
   "source": [
    "# Predict Next 10 Hours\n",
    "pred_probs = model.predict(X_input)\n",
    "pred_classes = np.argmax(pred_probs.reshape(FORECAST_HORIZON, 3), axis=1)\n",
    "\n",
    "# Apply RSI filter\n",
    "last_60_index = len(df) - FORECAST_HORIZON - 1\n",
    "rsi_segment = df['RSI'].iloc[last_60_index+1:last_60_index+1+FORECAST_HORIZON].values\n",
    "final_preds = []\n",
    "\n",
    "for i, (pred, rsi) in enumerate(zip(pred_classes, rsi_segment)):\n",
    "    if pred == 1 and rsi < 30:\n",
    "        final_preds.append(1)  # buy\n",
    "    elif pred == 2 and rsi > 70:\n",
    "        final_preds.append(2)  # sell\n",
    "    else:\n",
    "        final_preds.append(0)\n"
   ],
   "id": "b27582fcf9337d79"
  },
  {
   "metadata": {},
   "cell_type": "code",
   "outputs": [],
   "execution_count": null,
   "source": [
    "# Visualize Forecast\n",
    "import matplotlib.dates as mdates\n",
    "\n",
    "# Extract last 4 real candles\n",
    "recent_candles = df.iloc[-FORECAST_HORIZON-4:-FORECAST_HORIZON]\n",
    "\n",
    "# Fake future time axis\n",
    "future_times = pd.to_datetime(df['DATE'] + ' ' + df['TIME'])\n",
    "future_start = future_times.iloc[-FORECAST_HORIZON-1]\n",
    "future_time_axis = [future_start + pd.Timedelta(hours=i+1) for i in range(FORECAST_HORIZON)]\n",
    "\n",
    "# Plot\n",
    "plt.figure(figsize=(12, 6))\n",
    "\n",
    "# Plot the last 4 candles\n",
    "plt.plot(future_times.iloc[-FORECAST_HORIZON-4:-FORECAST_HORIZON],\n",
    "         recent_candles['CLOSE'], label='Last 4 Candles', color='blue')\n",
    "\n",
    "# Vertical dotted line between real and forecast\n",
    "plt.axvline(future_time_axis[0], linestyle='--', color='black', label='Forecast Start')\n",
    "\n",
    "# Add vertical lines for predictions\n",
    "for i, pred in enumerate(final_preds):\n",
    "    if pred == 1:\n",
    "        label = 'Buy'\n",
    "        color = 'green'\n",
    "    elif pred == 2:\n",
    "        label = 'Sell'\n",
    "        color = 'red'\n",
    "    else:\n",
    "        continue\n",
    "    plt.axvline(future_time_axis[i], linestyle='--', color=color)\n",
    "    plt.text(future_time_axis[i], plt.ylim()[1]*0.98, str(pred), color=color, fontsize=10, ha='center')\n",
    "\n",
    "plt.xlabel('Time')\n",
    "plt.ylabel('Price (CLOSE)')\n",
    "plt.title('Forex Trend Reversal Predictions')\n",
    "plt.legend()\n",
    "plt.grid(True)\n",
    "plt.tight_layout()\n",
    "plt.show()\n"
   ],
   "id": "34319cac92c3cb56"
  }
 ],
 "metadata": {
  "kernelspec": {
   "name": "python3",
   "language": "python",
   "display_name": "Python 3 (ipykernel)"
  }
 },
 "nbformat": 5,
 "nbformat_minor": 9
}
