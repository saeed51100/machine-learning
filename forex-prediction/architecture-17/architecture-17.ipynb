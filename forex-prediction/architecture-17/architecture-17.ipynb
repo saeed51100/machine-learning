{
 "cells": [
  {
   "metadata": {},
   "cell_type": "markdown",
   "source": [
    "# architecture-17 ( Basic Classification )\n",
    "\n",
    "## What's new:\n",
    "\n",
    "1- Add\n"
   ],
   "id": "67a9ecb3258e8606"
  },
  {
   "metadata": {},
   "cell_type": "code",
   "outputs": [],
   "execution_count": null,
   "source": [
    "import pandas as pd\n",
    "import numpy as np\n",
    "import matplotlib.pyplot as plt\n",
    "import tensorflow as tf\n",
    "from sklearn.preprocessing import MinMaxScaler\n",
    "from tensorflow.keras.models import Sequential\n",
    "from tensorflow.keras.layers import LSTM, Dense, Dropout\n",
    "from tensorflow.keras import Input\n",
    "import talib\n",
    "\n",
    "# Constants\n",
    "SEQUENCE_LENGTH = 60\n",
    "FORECAST_HORIZON = 10"
   ],
   "id": "e76513e71e49aa15"
  },
  {
   "metadata": {
    "ExecuteTime": {
     "end_time": "2025-07-24T16:06:37.442377Z",
     "start_time": "2025-07-24T16:06:37.396148Z"
    }
   },
   "cell_type": "code",
   "source": [
    "# Load dataset\n",
    "df = pd.read_csv('datasets-17/XAGUSD-H1-rates.csv', sep='\\t').dropna()"
   ],
   "id": "4c9a5a36c8be002e",
   "outputs": [],
   "execution_count": 3
  },
  {
   "metadata": {
    "ExecuteTime": {
     "end_time": "2025-07-24T16:06:39.048373Z",
     "start_time": "2025-07-24T16:06:39.039040Z"
    }
   },
   "cell_type": "code",
   "source": [
    "# Scaling Features\n",
    "scaler = MinMaxScaler()\n",
    "scaled_data = scaler.fit_transform(df[['<OPEN>', '<HIGH>', '<LOW>', '<CLOSE>', '<TICKVOL>']])"
   ],
   "id": "4e4c807682b6449b",
   "outputs": [],
   "execution_count": 4
  },
  {
   "metadata": {
    "ExecuteTime": {
     "end_time": "2025-07-24T16:06:40.802602Z",
     "start_time": "2025-07-24T16:06:40.137986Z"
    }
   },
   "cell_type": "code",
   "source": [
    "# Add RSI for post-processing\n",
    "df['RSI'] = talib.RSI(df['<CLOSE>'], timeperiod=14)\n",
    "\n",
    "# Label trend reversals (example: a simplistic method)\n",
    "def label_trend_reversals(prices, window=5):\n",
    "    labels = []\n",
    "    for i in range(len(prices) - window):\n",
    "        past = prices[i:i+window//2]\n",
    "        future = prices[i+window//2:i+window]\n",
    "        if np.mean(future) > np.mean(past):\n",
    "            labels.append(1)  # potential buy\n",
    "        elif np.mean(future) < np.mean(past):\n",
    "            labels.append(2)  # potential sell\n",
    "        else:\n",
    "            labels.append(0)\n",
    "    labels += [0] * window  # pad\n",
    "    return labels\n",
    "\n",
    "df['Label'] = label_trend_reversals(df['<CLOSE>'].values)\n"
   ],
   "id": "ce5f9c1ecf96cced",
   "outputs": [],
   "execution_count": 5
  },
  {
   "metadata": {
    "ExecuteTime": {
     "end_time": "2025-07-24T16:06:43.539540Z",
     "start_time": "2025-07-24T16:06:42.623006Z"
    }
   },
   "cell_type": "code",
   "source": [
    "# Prepare Sequences\n",
    "X, y = [], []\n",
    "for i in range(SEQUENCE_LENGTH, len(scaled_data) - FORECAST_HORIZON):\n",
    "    X.append(scaled_data[i-SEQUENCE_LENGTH:i])\n",
    "    y.append(df['Label'].iloc[i:i+FORECAST_HORIZON].values)\n",
    "\n",
    "X, y = np.array(X), np.array(y)\n"
   ],
   "id": "6dfd6176c12faccf",
   "outputs": [],
   "execution_count": 6
  },
  {
   "metadata": {
    "ExecuteTime": {
     "end_time": "2025-07-24T16:06:44.651396Z",
     "start_time": "2025-07-24T16:06:44.648580Z"
    }
   },
   "cell_type": "code",
   "source": [
    "# Split Dataset\n",
    "X_train = X[:-1]\n",
    "y_train = y[:-1]\n",
    "\n",
    "# Last 60 candles for prediction\n",
    "X_input = X[-1:]\n",
    "y_true_future = y[-1]  # for evaluation if desired\n"
   ],
   "id": "655fe1327365fc6d",
   "outputs": [],
   "execution_count": 7
  },
  {
   "metadata": {
    "ExecuteTime": {
     "end_time": "2025-07-24T16:06:47.495180Z",
     "start_time": "2025-07-24T16:06:46.672359Z"
    }
   },
   "cell_type": "code",
   "source": [
    "from tensorflow.keras.utils import to_categorical\n",
    "\n",
    "# One-hot encode each timestep's class (3 classes → depth = 3)\n",
    "y_onehot = np.array([to_categorical(row, num_classes=3) for row in y_train])\n",
    "# Now shape = (num_samples, 10, 3)\n"
   ],
   "id": "ba0012e61d11b0d",
   "outputs": [],
   "execution_count": 8
  },
  {
   "metadata": {
    "ExecuteTime": {
     "end_time": "2025-07-24T16:09:50.009528Z",
     "start_time": "2025-07-24T16:09:49.961321Z"
    }
   },
   "cell_type": "code",
   "source": [
    "# Build LSTM Classification Model\n",
    "model = Sequential([\n",
    "    Input(shape=(SEQUENCE_LENGTH, X.shape[2])),\n",
    "    LSTM(64, return_sequences=False),\n",
    "    Dropout(0.3),\n",
    "    Dense(64, activation='relu'),\n",
    "    Dropout(0.2),\n",
    "    Dense(FORECAST_HORIZON * 3, activation='softmax'),\n",
    "    tf.keras.layers.Reshape((FORECAST_HORIZON, 3))\n",
    "])\n"
   ],
   "id": "cf91bf473436a97e",
   "outputs": [],
   "execution_count": 11
  },
  {
   "metadata": {
    "ExecuteTime": {
     "end_time": "2025-07-24T16:09:52.954029Z",
     "start_time": "2025-07-24T16:09:52.941477Z"
    }
   },
   "cell_type": "code",
   "source": "model.compile(optimizer='adam', loss='categorical_crossentropy', metrics=['accuracy'])\n",
   "id": "7b500e9a255ca6e8",
   "outputs": [],
   "execution_count": 12
  },
  {
   "metadata": {
    "ExecuteTime": {
     "end_time": "2025-07-24T16:10:39.950166Z",
     "start_time": "2025-07-24T16:09:54.634277Z"
    }
   },
   "cell_type": "code",
   "source": [
    "# Train the Model\n",
    "# Fit model\n",
    "model.fit(X_train, y_onehot, epochs=10, batch_size=64, validation_split=0.1)\n"
   ],
   "id": "ec7b9c69ef1e0b11",
   "outputs": [
    {
     "name": "stdout",
     "output_type": "stream",
     "text": [
      "Epoch 1/10\n"
     ]
    },
    {
     "name": "stderr",
     "output_type": "stream",
     "text": [
      "I0000 00:00:1753373396.439664    4998 cuda_dnn.cc:529] Loaded cuDNN version 91001\n"
     ]
    },
    {
     "name": "stdout",
     "output_type": "stream",
     "text": [
      "\u001B[1m774/774\u001B[0m \u001B[32m━━━━━━━━━━━━━━━━━━━━\u001B[0m\u001B[37m\u001B[0m \u001B[1m7s\u001B[0m 5ms/step - accuracy: 0.4968 - loss: 0.7665 - val_accuracy: 0.4983 - val_loss: 0.6963\n",
      "Epoch 2/10\n",
      "\u001B[1m774/774\u001B[0m \u001B[32m━━━━━━━━━━━━━━━━━━━━\u001B[0m\u001B[37m\u001B[0m \u001B[1m4s\u001B[0m 5ms/step - accuracy: 0.4999 - loss: 0.7014 - val_accuracy: 0.4968 - val_loss: 0.6968\n",
      "Epoch 3/10\n",
      "\u001B[1m774/774\u001B[0m \u001B[32m━━━━━━━━━━━━━━━━━━━━\u001B[0m\u001B[37m\u001B[0m \u001B[1m4s\u001B[0m 5ms/step - accuracy: 0.4995 - loss: 0.7002 - val_accuracy: 0.4985 - val_loss: 0.6960\n",
      "Epoch 4/10\n",
      "\u001B[1m774/774\u001B[0m \u001B[32m━━━━━━━━━━━━━━━━━━━━\u001B[0m\u001B[37m\u001B[0m \u001B[1m4s\u001B[0m 5ms/step - accuracy: 0.4963 - loss: 0.6999 - val_accuracy: 0.5002 - val_loss: 0.6960\n",
      "Epoch 5/10\n",
      "\u001B[1m774/774\u001B[0m \u001B[32m━━━━━━━━━━━━━━━━━━━━\u001B[0m\u001B[37m\u001B[0m \u001B[1m4s\u001B[0m 5ms/step - accuracy: 0.5018 - loss: 0.6993 - val_accuracy: 0.4977 - val_loss: 0.6961\n",
      "Epoch 6/10\n",
      "\u001B[1m774/774\u001B[0m \u001B[32m━━━━━━━━━━━━━━━━━━━━\u001B[0m\u001B[37m\u001B[0m \u001B[1m4s\u001B[0m 6ms/step - accuracy: 0.5008 - loss: 0.6991 - val_accuracy: 0.5053 - val_loss: 0.6959\n",
      "Epoch 7/10\n",
      "\u001B[1m774/774\u001B[0m \u001B[32m━━━━━━━━━━━━━━━━━━━━\u001B[0m\u001B[37m\u001B[0m \u001B[1m4s\u001B[0m 6ms/step - accuracy: 0.4989 - loss: 0.6999 - val_accuracy: 0.4988 - val_loss: 0.6967\n",
      "Epoch 8/10\n",
      "\u001B[1m774/774\u001B[0m \u001B[32m━━━━━━━━━━━━━━━━━━━━\u001B[0m\u001B[37m\u001B[0m \u001B[1m4s\u001B[0m 6ms/step - accuracy: 0.5000 - loss: 0.7002 - val_accuracy: 0.5044 - val_loss: 0.6958\n",
      "Epoch 9/10\n",
      "\u001B[1m774/774\u001B[0m \u001B[32m━━━━━━━━━━━━━━━━━━━━\u001B[0m\u001B[37m\u001B[0m \u001B[1m4s\u001B[0m 6ms/step - accuracy: 0.5001 - loss: 0.6996 - val_accuracy: 0.5040 - val_loss: 0.6958\n",
      "Epoch 10/10\n",
      "\u001B[1m774/774\u001B[0m \u001B[32m━━━━━━━━━━━━━━━━━━━━\u001B[0m\u001B[37m\u001B[0m \u001B[1m4s\u001B[0m 6ms/step - accuracy: 0.4991 - loss: 0.6999 - val_accuracy: 0.5090 - val_loss: 0.6958\n"
     ]
    },
    {
     "data": {
      "text/plain": [
       "<keras.src.callbacks.history.History at 0x783f07f1b450>"
      ]
     },
     "execution_count": 13,
     "metadata": {},
     "output_type": "execute_result"
    }
   ],
   "execution_count": 13
  },
  {
   "metadata": {
    "ExecuteTime": {
     "end_time": "2025-07-24T16:10:54.056164Z",
     "start_time": "2025-07-24T16:10:53.925143Z"
    }
   },
   "cell_type": "code",
   "source": [
    "# Predict Next 10 Hours\n",
    "pred_probs = model.predict(X_input)\n",
    "pred_classes = np.argmax(pred_probs.reshape(FORECAST_HORIZON, 3), axis=1)\n",
    "\n",
    "# Apply RSI filter\n",
    "last_60_index = len(df) - FORECAST_HORIZON - 1\n",
    "rsi_segment = df['RSI'].iloc[last_60_index+1:last_60_index+1+FORECAST_HORIZON].values\n",
    "final_preds = []\n",
    "\n",
    "for i, (pred, rsi) in enumerate(zip(pred_classes, rsi_segment)):\n",
    "    if pred == 1 and rsi < 30:\n",
    "        final_preds.append(1)  # buy\n",
    "    elif pred == 2 and rsi > 70:\n",
    "        final_preds.append(2)  # sell\n",
    "    else:\n",
    "        final_preds.append(0)\n"
   ],
   "id": "b27582fcf9337d79",
   "outputs": [
    {
     "name": "stdout",
     "output_type": "stream",
     "text": [
      "\u001B[1m1/1\u001B[0m \u001B[32m━━━━━━━━━━━━━━━━━━━━\u001B[0m\u001B[37m\u001B[0m \u001B[1m0s\u001B[0m 96ms/step\n"
     ]
    }
   ],
   "execution_count": 14
  },
  {
   "metadata": {
    "ExecuteTime": {
     "end_time": "2025-07-24T16:14:49.340208Z",
     "start_time": "2025-07-24T16:14:49.131918Z"
    }
   },
   "cell_type": "code",
   "source": [
    "# Visualize Forecast\n",
    "import matplotlib.dates as mdates\n",
    "\n",
    "# Extract last 4 real candles\n",
    "recent_candles = df.iloc[-FORECAST_HORIZON-4:-FORECAST_HORIZON]\n",
    "\n",
    "# Fake future time axis\n",
    "future_times = pd.to_datetime(df['<DATE>'] + ' ' + df['<TIME>'])\n",
    "future_start = future_times.iloc[-FORECAST_HORIZON-1]\n",
    "future_time_axis = [future_start + pd.Timedelta(hours=i+1) for i in range(FORECAST_HORIZON)]\n",
    "\n",
    "# Plot\n",
    "plt.figure(figsize=(12, 6))\n",
    "\n",
    "# Plot the last 4 candles\n",
    "plt.plot(future_times.iloc[-FORECAST_HORIZON-4:-FORECAST_HORIZON],\n",
    "         recent_candles['<CLOSE>'], label='Last 4 Candles', color='blue')\n",
    "\n",
    "# Vertical dotted line between real and forecast\n",
    "plt.axvline(future_time_axis[0], linestyle='--', color='black', label='Forecast Start')\n",
    "\n",
    "# Add vertical lines for predictions\n",
    "for i, pred in enumerate(final_preds):\n",
    "    if pred == 1:\n",
    "        label = 'Buy'\n",
    "        color = 'green'\n",
    "    elif pred == 2:\n",
    "        label = 'Sell'\n",
    "        color = 'red'\n",
    "    else:\n",
    "        continue\n",
    "    plt.axvline(future_time_axis[i], linestyle='--', color=color)\n",
    "    plt.text(future_time_axis[i], plt.ylim()[1]*0.98, str(pred), color=color, fontsize=10, ha='center')\n",
    "\n",
    "plt.xlabel('Time')\n",
    "plt.ylabel('Price (CLOSE)')\n",
    "plt.title('Forex Trend Reversal Predictions')\n",
    "plt.legend()\n",
    "plt.grid(True)\n",
    "plt.tight_layout()\n",
    "plt.show()\n"
   ],
   "id": "34319cac92c3cb56",
   "outputs": [
    {
     "data": {
      "text/plain": [
       "<Figure size 1200x600 with 1 Axes>"
      ],
      "image/png": "[encoded data removed]"
     },
     "metadata": {},
     "output_type": "display_data"
    }
   ],
   "execution_count": 21
  }
 ],
 "metadata": {
  "kernelspec": {
   "name": "python3",
   "language": "python",
   "display_name": "Python 3 (ipykernel)"
  }
 },
 "nbformat": 5,
 "nbformat_minor": 9
}
