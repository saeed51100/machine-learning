{
 "cells": [
  {
   "metadata": {},
   "cell_type": "markdown",
   "source": [
    "# architecture-17 ( Basic Classification )\n",
    "\n",
    "## What's new:\n",
    "\n",
    "1- Add\n"
   ],
   "id": "67a9ecb3258e8606"
  },
  {
   "metadata": {
    "ExecuteTime": {
     "end_time": "2025-07-23T08:42:41.941503Z",
     "start_time": "2025-07-23T08:42:41.938134Z"
    }
   },
   "cell_type": "code",
   "source": [
    "import pandas as pd\n",
    "import numpy as np\n",
    "import matplotlib.pyplot as plt\n",
    "import tensorflow as tf\n",
    "from sklearn.preprocessing import MinMaxScaler\n",
    "from tensorflow.keras.models import Sequential\n",
    "from tensorflow.keras.layers import LSTM, Dense, Dropout\n",
    "import talib\n",
    "\n",
    "# Constants\n",
    "SEQUENCE_LENGTH = 60\n",
    "FORECAST_HORIZON = 10\n"
   ],
   "id": "928bafab3ccefb66",
   "outputs": [],
   "execution_count": 2
  },
  {
   "metadata": {},
   "cell_type": "code",
   "outputs": [],
   "execution_count": null,
   "source": [
    "# Load and sort dataset\n",
    "df = pd.read_csv('XAGUSD-H1.csv').dropna()\n",
    "df = df.sort_values(by=['DATE', 'TIME'])\n",
    "\n",
    "# Keep necessary columns\n",
    "features = ['OPEN', 'HIGH', 'LOW', 'CLOSE', 'TICKVOL', 'VOL', 'SPREAD']\n",
    "df_filtered = df[features].copy()\n",
    "\n",
    "# Normalize features\n",
    "scaler = MinMaxScaler()\n",
    "scaled_data = scaler.fit_transform(df_filtered)\n",
    "\n",
    "# Add RSI for post-processing\n",
    "df['RSI'] = talib.RSI(df['CLOSE'], timeperiod=14)\n",
    "\n",
    "# Label trend reversals (example: a simplistic method)\n",
    "def label_trend_reversals(prices, window=5):\n",
    "    labels = []\n",
    "    for i in range(len(prices) - window):\n",
    "        past = prices[i:i+window//2]\n",
    "        future = prices[i+window//2:i+window]\n",
    "        if np.mean(future) > np.mean(past):\n",
    "            labels.append(1)  # potential buy\n",
    "        elif np.mean(future) < np.mean(past):\n",
    "            labels.append(2)  # potential sell\n",
    "        else:\n",
    "            labels.append(0)\n",
    "    labels += [0] * window  # pad\n",
    "    return labels\n",
    "\n",
    "df['Label'] = label_trend_reversals(df['CLOSE'].values)\n"
   ],
   "id": "ce5f9c1ecf96cced"
  },
  {
   "metadata": {},
   "cell_type": "code",
   "outputs": [],
   "execution_count": null,
   "source": [
    "# Prepare Sequences\n",
    "X, y = [], []\n",
    "for i in range(SEQUENCE_LENGTH, len(scaled_data) - FORECAST_HORIZON):\n",
    "    X.append(scaled_data[i-SEQUENCE_LENGTH:i])\n",
    "    y.append(df['Label'].iloc[i:i+FORECAST_HORIZON].values)\n",
    "\n",
    "X, y = np.array(X), np.array(y)\n"
   ],
   "id": "6dfd6176c12faccf"
  },
  {
   "metadata": {},
   "cell_type": "code",
   "outputs": [],
   "execution_count": null,
   "source": [
    "# Split Dataset\n",
    "X_train = X[:-1]\n",
    "y_train = y[:-1]\n",
    "\n",
    "# Last 60 candles for prediction\n",
    "X_input = X[-1:]\n",
    "y_true_future = y[-1]  # for evaluation if desired\n"
   ],
   "id": "655fe1327365fc6d"
  },
  {
   "metadata": {},
   "cell_type": "code",
   "outputs": [],
   "execution_count": null,
   "source": [
    "# Build LSTM Classification Model\n",
    "model = Sequential([\n",
    "    LSTM(64, input_shape=(SEQUENCE_LENGTH, X.shape[2]), return_sequences=False),\n",
    "    Dropout(0.3),\n",
    "    Dense(64, activation='relu'),\n",
    "    Dropout(0.2),\n",
    "    Dense(FORECAST_HORIZON * 3, activation='softmax')  # 3 classes per forecast hour\n",
    "])\n",
    "\n",
    "model.compile(optimizer='adam', loss='sparse_categorical_crossentropy', metrics=['accuracy'])\n",
    "\n",
    "# Reshape labels for categorical classification per hour\n",
    "y_train_reshaped = y_train.reshape(-1, FORECAST_HORIZON)\n"
   ],
   "id": "7b500e9a255ca6e8"
  },
  {
   "metadata": {},
   "cell_type": "code",
   "outputs": [],
   "execution_count": null,
   "source": [
    "# Train the Model\n",
    "model.fit(X_train, y_train_reshaped, epochs=10, batch_size=64, validation_split=0.1)\n"
   ],
   "id": "ec7b9c69ef1e0b11"
  },
  {
   "metadata": {},
   "cell_type": "code",
   "outputs": [],
   "execution_count": null,
   "source": [
    "# Predict Next 10 Hours\n",
    "pred_probs = model.predict(X_input)\n",
    "pred_classes = np.argmax(pred_probs.reshape(FORECAST_HORIZON, 3), axis=1)\n",
    "\n",
    "# Apply RSI filter\n",
    "last_60_index = len(df) - FORECAST_HORIZON - 1\n",
    "rsi_segment = df['RSI'].iloc[last_60_index+1:last_60_index+1+FORECAST_HORIZON].values\n",
    "final_preds = []\n",
    "\n",
    "for i, (pred, rsi) in enumerate(zip(pred_classes, rsi_segment)):\n",
    "    if pred == 1 and rsi < 30:\n",
    "        final_preds.append(1)  # buy\n",
    "    elif pred == 2 and rsi > 70:\n",
    "        final_preds.append(2)  # sell\n",
    "    else:\n",
    "        final_preds.append(0)\n"
   ],
   "id": "b27582fcf9337d79"
  },
  {
   "metadata": {},
   "cell_type": "code",
   "outputs": [],
   "execution_count": null,
   "source": [
    "# Visualize Forecast\n",
    "import matplotlib.dates as mdates\n",
    "\n",
    "# Extract last 4 real candles\n",
    "recent_candles = df.iloc[-FORECAST_HORIZON-4:-FORECAST_HORIZON]\n",
    "\n",
    "# Fake future time axis\n",
    "future_times = pd.to_datetime(df['DATE'] + ' ' + df['TIME'])\n",
    "future_start = future_times.iloc[-FORECAST_HORIZON-1]\n",
    "future_time_axis = [future_start + pd.Timedelta(hours=i+1) for i in range(FORECAST_HORIZON)]\n",
    "\n",
    "# Plot\n",
    "plt.figure(figsize=(12, 6))\n",
    "\n",
    "# Plot the last 4 candles\n",
    "plt.plot(future_times.iloc[-FORECAST_HORIZON-4:-FORECAST_HORIZON],\n",
    "         recent_candles['CLOSE'], label='Last 4 Candles', color='blue')\n",
    "\n",
    "# Vertical dotted line between real and forecast\n",
    "plt.axvline(future_time_axis[0], linestyle='--', color='black', label='Forecast Start')\n",
    "\n",
    "# Add vertical lines for predictions\n",
    "for i, pred in enumerate(final_preds):\n",
    "    if pred == 1:\n",
    "        label = 'Buy'\n",
    "        color = 'green'\n",
    "    elif pred == 2:\n",
    "        label = 'Sell'\n",
    "        color = 'red'\n",
    "    else:\n",
    "        continue\n",
    "    plt.axvline(future_time_axis[i], linestyle='--', color=color)\n",
    "    plt.text(future_time_axis[i], plt.ylim()[1]*0.98, str(pred), color=color, fontsize=10, ha='center')\n",
    "\n",
    "plt.xlabel('Time')\n",
    "plt.ylabel('Price (CLOSE)')\n",
    "plt.title('Forex Trend Reversal Predictions')\n",
    "plt.legend()\n",
    "plt.grid(True)\n",
    "plt.tight_layout()\n",
    "plt.show()\n"
   ],
   "id": "34319cac92c3cb56"
  }
 ],
 "metadata": {
  "kernelspec": {
   "name": "python3",
   "language": "python",
   "display_name": "Python 3 (ipykernel)"
  }
 },
 "nbformat": 5,
 "nbformat_minor": 9
}
