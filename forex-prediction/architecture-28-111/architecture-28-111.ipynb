{
 "cells": [
  {
   "metadata": {},
   "cell_type": "markdown",
   "source": [
    "# architecture-28-111 ( Basic Classification ) zig-zag\n",
    "\n",
    "## What's new:\n",
    "\n",
    "1- Without RSI\n",
    "\n",
    "2- add labels only start and end of trends.\n"
   ],
   "id": "67a9ecb3258e8606"
  },
  {
   "metadata": {
    "ExecuteTime": {
     "end_time": "2025-08-22T18:36:03.691534Z",
     "start_time": "2025-08-22T18:36:03.094364Z"
    }
   },
   "cell_type": "code",
   "source": [
    "import pandas as pd\n",
    "import numpy as np\n",
    "import matplotlib.pyplot as plt\n",
    "from sklearn.preprocessing import MinMaxScaler\n",
    "import pandas_ta as ta\n"
   ],
   "id": "e76513e71e49aa15",
   "outputs": [
    {
     "ename": "ImportError",
     "evalue": "cannot import name 'NaN' from 'numpy' (/home/saeed/repositories/machine-learning/forex-prediction/envs/lib/python3.11/site-packages/numpy/__init__.py)",
     "output_type": "error",
     "traceback": [
      "\u001B[31m---------------------------------------------------------------------------\u001B[39m",
      "\u001B[31mImportError\u001B[39m                               Traceback (most recent call last)",
      "\u001B[36mCell\u001B[39m\u001B[36m \u001B[39m\u001B[32mIn[3]\u001B[39m\u001B[32m, line 5\u001B[39m\n\u001B[32m      3\u001B[39m \u001B[38;5;28;01mimport\u001B[39;00m\u001B[38;5;250m \u001B[39m\u001B[34;01mmatplotlib\u001B[39;00m\u001B[34;01m.\u001B[39;00m\u001B[34;01mpyplot\u001B[39;00m\u001B[38;5;250m \u001B[39m\u001B[38;5;28;01mas\u001B[39;00m\u001B[38;5;250m \u001B[39m\u001B[34;01mplt\u001B[39;00m\n\u001B[32m      4\u001B[39m \u001B[38;5;28;01mfrom\u001B[39;00m\u001B[38;5;250m \u001B[39m\u001B[34;01msklearn\u001B[39;00m\u001B[34;01m.\u001B[39;00m\u001B[34;01mpreprocessing\u001B[39;00m\u001B[38;5;250m \u001B[39m\u001B[38;5;28;01mimport\u001B[39;00m MinMaxScaler\n\u001B[32m----> \u001B[39m\u001B[32m5\u001B[39m \u001B[38;5;28;01mimport\u001B[39;00m\u001B[38;5;250m \u001B[39m\u001B[34;01mpandas_ta\u001B[39;00m\u001B[38;5;250m \u001B[39m\u001B[38;5;28;01mas\u001B[39;00m\u001B[38;5;250m \u001B[39m\u001B[34;01mta\u001B[39;00m\n",
      "\u001B[36mFile \u001B[39m\u001B[32m~/repositories/machine-learning/forex-prediction/envs/lib/python3.11/site-packages/pandas_ta/__init__.py:116\u001B[39m\n\u001B[32m     97\u001B[39m EXCHANGE_TZ = {\n\u001B[32m     98\u001B[39m     \u001B[33m\"\u001B[39m\u001B[33mNZSX\u001B[39m\u001B[33m\"\u001B[39m: \u001B[32m12\u001B[39m, \u001B[33m\"\u001B[39m\u001B[33mASX\u001B[39m\u001B[33m\"\u001B[39m: \u001B[32m11\u001B[39m,\n\u001B[32m     99\u001B[39m     \u001B[33m\"\u001B[39m\u001B[33mTSE\u001B[39m\u001B[33m\"\u001B[39m: \u001B[32m9\u001B[39m, \u001B[33m\"\u001B[39m\u001B[33mHKE\u001B[39m\u001B[33m\"\u001B[39m: \u001B[32m8\u001B[39m, \u001B[33m\"\u001B[39m\u001B[33mSSE\u001B[39m\u001B[33m\"\u001B[39m: \u001B[32m8\u001B[39m, \u001B[33m\"\u001B[39m\u001B[33mSGX\u001B[39m\u001B[33m\"\u001B[39m: \u001B[32m8\u001B[39m,\n\u001B[32m   (...)\u001B[39m\u001B[32m    102\u001B[39m     \u001B[33m\"\u001B[39m\u001B[33mBMF\u001B[39m\u001B[33m\"\u001B[39m: -\u001B[32m2\u001B[39m, \u001B[33m\"\u001B[39m\u001B[33mNYSE\u001B[39m\u001B[33m\"\u001B[39m: -\u001B[32m4\u001B[39m, \u001B[33m\"\u001B[39m\u001B[33mTSX\u001B[39m\u001B[33m\"\u001B[39m: -\u001B[32m4\u001B[39m\n\u001B[32m    103\u001B[39m }\n\u001B[32m    105\u001B[39m RATE = {\n\u001B[32m    106\u001B[39m     \u001B[33m\"\u001B[39m\u001B[33mDAYS_PER_MONTH\u001B[39m\u001B[33m\"\u001B[39m: \u001B[32m21\u001B[39m,\n\u001B[32m    107\u001B[39m     \u001B[33m\"\u001B[39m\u001B[33mMINUTES_PER_HOUR\u001B[39m\u001B[33m\"\u001B[39m: \u001B[32m60\u001B[39m,\n\u001B[32m   (...)\u001B[39m\u001B[32m    113\u001B[39m     \u001B[33m\"\u001B[39m\u001B[33mYEARLY\u001B[39m\u001B[33m\"\u001B[39m: \u001B[32m1\u001B[39m,\n\u001B[32m    114\u001B[39m }\n\u001B[32m--> \u001B[39m\u001B[32m116\u001B[39m \u001B[38;5;28;01mfrom\u001B[39;00m\u001B[38;5;250m \u001B[39m\u001B[34;01mpandas_ta\u001B[39;00m\u001B[34;01m.\u001B[39;00m\u001B[34;01mcore\u001B[39;00m\u001B[38;5;250m \u001B[39m\u001B[38;5;28;01mimport\u001B[39;00m *\n",
      "\u001B[36mFile \u001B[39m\u001B[32m~/repositories/machine-learning/forex-prediction/envs/lib/python3.11/site-packages/pandas_ta/core.py:18\u001B[39m\n\u001B[32m     16\u001B[39m \u001B[38;5;28;01mfrom\u001B[39;00m\u001B[38;5;250m \u001B[39m\u001B[34;01mpandas_ta\u001B[39;00m\u001B[34;01m.\u001B[39;00m\u001B[34;01mcandles\u001B[39;00m\u001B[38;5;250m \u001B[39m\u001B[38;5;28;01mimport\u001B[39;00m *\n\u001B[32m     17\u001B[39m \u001B[38;5;28;01mfrom\u001B[39;00m\u001B[38;5;250m \u001B[39m\u001B[34;01mpandas_ta\u001B[39;00m\u001B[34;01m.\u001B[39;00m\u001B[34;01mcycles\u001B[39;00m\u001B[38;5;250m \u001B[39m\u001B[38;5;28;01mimport\u001B[39;00m *\n\u001B[32m---> \u001B[39m\u001B[32m18\u001B[39m \u001B[38;5;28;01mfrom\u001B[39;00m\u001B[38;5;250m \u001B[39m\u001B[34;01mpandas_ta\u001B[39;00m\u001B[34;01m.\u001B[39;00m\u001B[34;01mmomentum\u001B[39;00m\u001B[38;5;250m \u001B[39m\u001B[38;5;28;01mimport\u001B[39;00m *\n\u001B[32m     19\u001B[39m \u001B[38;5;28;01mfrom\u001B[39;00m\u001B[38;5;250m \u001B[39m\u001B[34;01mpandas_ta\u001B[39;00m\u001B[34;01m.\u001B[39;00m\u001B[34;01moverlap\u001B[39;00m\u001B[38;5;250m \u001B[39m\u001B[38;5;28;01mimport\u001B[39;00m *\n\u001B[32m     20\u001B[39m \u001B[38;5;28;01mfrom\u001B[39;00m\u001B[38;5;250m \u001B[39m\u001B[34;01mpandas_ta\u001B[39;00m\u001B[34;01m.\u001B[39;00m\u001B[34;01mperformance\u001B[39;00m\u001B[38;5;250m \u001B[39m\u001B[38;5;28;01mimport\u001B[39;00m *\n",
      "\u001B[36mFile \u001B[39m\u001B[32m~/repositories/machine-learning/forex-prediction/envs/lib/python3.11/site-packages/pandas_ta/momentum/__init__.py:34\u001B[39m\n\u001B[32m     32\u001B[39m \u001B[38;5;28;01mfrom\u001B[39;00m\u001B[38;5;250m \u001B[39m\u001B[34;01m.\u001B[39;00m\u001B[34;01msmi\u001B[39;00m\u001B[38;5;250m \u001B[39m\u001B[38;5;28;01mimport\u001B[39;00m smi\n\u001B[32m     33\u001B[39m \u001B[38;5;28;01mfrom\u001B[39;00m\u001B[38;5;250m \u001B[39m\u001B[34;01m.\u001B[39;00m\u001B[34;01msqueeze\u001B[39;00m\u001B[38;5;250m \u001B[39m\u001B[38;5;28;01mimport\u001B[39;00m squeeze\n\u001B[32m---> \u001B[39m\u001B[32m34\u001B[39m \u001B[38;5;28;01mfrom\u001B[39;00m\u001B[38;5;250m \u001B[39m\u001B[34;01m.\u001B[39;00m\u001B[34;01msqueeze_pro\u001B[39;00m\u001B[38;5;250m \u001B[39m\u001B[38;5;28;01mimport\u001B[39;00m squeeze_pro\n\u001B[32m     35\u001B[39m \u001B[38;5;28;01mfrom\u001B[39;00m\u001B[38;5;250m \u001B[39m\u001B[34;01m.\u001B[39;00m\u001B[34;01mstc\u001B[39;00m\u001B[38;5;250m \u001B[39m\u001B[38;5;28;01mimport\u001B[39;00m stc\n\u001B[32m     36\u001B[39m \u001B[38;5;28;01mfrom\u001B[39;00m\u001B[38;5;250m \u001B[39m\u001B[34;01m.\u001B[39;00m\u001B[34;01mstoch\u001B[39;00m\u001B[38;5;250m \u001B[39m\u001B[38;5;28;01mimport\u001B[39;00m stoch\n",
      "\u001B[36mFile \u001B[39m\u001B[32m~/repositories/machine-learning/forex-prediction/envs/lib/python3.11/site-packages/pandas_ta/momentum/squeeze_pro.py:2\u001B[39m\n\u001B[32m      1\u001B[39m \u001B[38;5;66;03m# -*- coding: utf-8 -*-\u001B[39;00m\n\u001B[32m----> \u001B[39m\u001B[32m2\u001B[39m \u001B[38;5;28;01mfrom\u001B[39;00m\u001B[38;5;250m \u001B[39m\u001B[34;01mnumpy\u001B[39;00m\u001B[38;5;250m \u001B[39m\u001B[38;5;28;01mimport\u001B[39;00m NaN \u001B[38;5;28;01mas\u001B[39;00m npNaN\n\u001B[32m      3\u001B[39m \u001B[38;5;28;01mfrom\u001B[39;00m\u001B[38;5;250m \u001B[39m\u001B[34;01mpandas\u001B[39;00m\u001B[38;5;250m \u001B[39m\u001B[38;5;28;01mimport\u001B[39;00m DataFrame\n\u001B[32m      4\u001B[39m \u001B[38;5;28;01mfrom\u001B[39;00m\u001B[38;5;250m \u001B[39m\u001B[34;01mpandas_ta\u001B[39;00m\u001B[34;01m.\u001B[39;00m\u001B[34;01mmomentum\u001B[39;00m\u001B[38;5;250m \u001B[39m\u001B[38;5;28;01mimport\u001B[39;00m mom\n",
      "\u001B[31mImportError\u001B[39m: cannot import name 'NaN' from 'numpy' (/home/saeed/repositories/machine-learning/forex-prediction/envs/lib/python3.11/site-packages/numpy/__init__.py)"
     ]
    }
   ],
   "execution_count": 3
  },
  {
   "metadata": {
    "ExecuteTime": {
     "end_time": "2025-08-22T15:18:18.899355Z",
     "start_time": "2025-08-22T15:18:18.775076Z"
    }
   },
   "cell_type": "code",
   "source": [
    "# 1- Load and Scaling Features\n",
    "# Load and preprocess\n",
    "df = pd.read_csv('datasets-28-111/XAGUSD-H1-rates.csv', sep='\\t')\n",
    "\n",
    "# Rename columns for easier access\n",
    "df.rename(columns={\n",
    "    '<DATE>': 'DATE',\n",
    "    '<TIME>': 'TIME',\n",
    "    '<OPEN>': 'OPEN',\n",
    "    '<HIGH>': 'HIGH',\n",
    "    '<LOW>': 'LOW',\n",
    "    '<CLOSE>': 'CLOSE',\n",
    "    '<TICKVOL>': 'TICKVOL',\n",
    "    '<VOL>': 'VOL',\n",
    "    '<SPREAD>': 'SPREAD'\n",
    "}, inplace=True)\n",
    "\n",
    "# Optional: Combine DATE and TIME into a single datetime column\n",
    "df['DATETIME'] = pd.to_datetime(df['DATE'] + ' ' + df['TIME'])\n",
    "\n",
    "# Drop rows with missing values\n",
    "df.dropna(inplace=True)\n",
    "\n",
    "# Sort data chronologically by DATETIME\n",
    "df.sort_values(by='DATETIME', inplace=True)\n",
    "\n",
    "# Reset index to ensure clean row order\n",
    "df.reset_index(drop=True, inplace=True)\n",
    "\n",
    "# Select features to scale\n",
    "features = ['OPEN', 'HIGH', 'LOW', 'CLOSE', 'TICKVOL']\n",
    "\n",
    "# Apply MinMaxScaler\n",
    "scaler = MinMaxScaler()\n",
    "scaled_data = scaler.fit_transform(df[features])"
   ],
   "id": "4c9a5a36c8be002e",
   "outputs": [],
   "execution_count": 2
  },
  {
   "metadata": {
    "ExecuteTime": {
     "end_time": "2025-08-22T15:18:22.130939Z",
     "start_time": "2025-08-22T15:18:21.788038Z"
    }
   },
   "cell_type": "code",
   "source": [
    "# 2- Label trend reversals (example: a simplistic method)\n",
    "ZIGZAG_PCT = 2.0     # minimum % price move to define swing high/low (example: 2%)\n",
    "ZIGZAG_DEVIATION = 5 # maximum number of bars allowed for backstep (like MT5)\n",
    "ZIGZAG_DEPTH = 12    # minimum bars between peaks/troughs\n",
    "\n",
    "# ===============================\n",
    "# 2- Label trend reversals (using pandas-ta ZigZag)\n",
    "# ===============================\n",
    "# Apply ZigZag from pandas-ta\n",
    "df['zigzag'] = ta.zigzag(\n",
    "    df['HIGH'],\n",
    "    df['LOW'],\n",
    "    percent=ZIGZAG_PCT\n",
    ")\n",
    "\n",
    "# Generate labels:\n",
    "# 0 = no signal, 1 = buy reversal, 2 = sell reversal\n",
    "df['Label'] = 0\n",
    "\n",
    "for i in range(1, len(df)):\n",
    "    if pd.notna(df['zigzag'].iloc[i]) and pd.notna(df['zigzag'].iloc[i-1]):\n",
    "        if df['zigzag'].iloc[i] > df['zigzag'].iloc[i-1]:\n",
    "            df.loc[df.index[i], 'Label'] = 1  # Buy reversal\n",
    "        elif df['zigzag'].iloc[i] < df['zigzag'].iloc[i-1]:\n",
    "            df.loc[df.index[i], 'Label'] = 2  # Sell reversal\n",
    "\n"
   ],
   "id": "ce5f9c1ecf96cced",
   "outputs": [
    {
     "ename": "AttributeError",
     "evalue": "module 'pandas_ta' has no attribute 'zigzag'",
     "output_type": "error",
     "traceback": [
      "\u001B[31m---------------------------------------------------------------------------\u001B[39m",
      "\u001B[31mAttributeError\u001B[39m                            Traceback (most recent call last)",
      "\u001B[36mCell\u001B[39m\u001B[36m \u001B[39m\u001B[32mIn[3]\u001B[39m\u001B[32m, line 10\u001B[39m\n\u001B[32m      4\u001B[39m ZIGZAG_DEPTH = \u001B[32m12\u001B[39m    \u001B[38;5;66;03m# minimum bars between peaks/troughs\u001B[39;00m\n\u001B[32m      6\u001B[39m \u001B[38;5;66;03m# ===============================\u001B[39;00m\n\u001B[32m      7\u001B[39m \u001B[38;5;66;03m# 2- Label trend reversals (using pandas-ta ZigZag)\u001B[39;00m\n\u001B[32m      8\u001B[39m \u001B[38;5;66;03m# ===============================\u001B[39;00m\n\u001B[32m      9\u001B[39m \u001B[38;5;66;03m# Apply ZigZag from pandas-ta\u001B[39;00m\n\u001B[32m---> \u001B[39m\u001B[32m10\u001B[39m df[\u001B[33m'\u001B[39m\u001B[33mzigzag\u001B[39m\u001B[33m'\u001B[39m] = \u001B[43mta\u001B[49m\u001B[43m.\u001B[49m\u001B[43mzigzag\u001B[49m(\n\u001B[32m     11\u001B[39m     df[\u001B[33m'\u001B[39m\u001B[33mHIGH\u001B[39m\u001B[33m'\u001B[39m],\n\u001B[32m     12\u001B[39m     df[\u001B[33m'\u001B[39m\u001B[33mLOW\u001B[39m\u001B[33m'\u001B[39m],\n\u001B[32m     13\u001B[39m     percent=ZIGZAG_PCT\n\u001B[32m     14\u001B[39m )\n\u001B[32m     16\u001B[39m \u001B[38;5;66;03m# Generate labels:\u001B[39;00m\n\u001B[32m     17\u001B[39m \u001B[38;5;66;03m# 0 = no signal, 1 = buy reversal, 2 = sell reversal\u001B[39;00m\n\u001B[32m     18\u001B[39m df[\u001B[33m'\u001B[39m\u001B[33mLabel\u001B[39m\u001B[33m'\u001B[39m] = \u001B[32m0\u001B[39m\n",
      "\u001B[31mAttributeError\u001B[39m: module 'pandas_ta' has no attribute 'zigzag'"
     ]
    }
   ],
   "execution_count": 3
  },
  {
   "metadata": {},
   "cell_type": "code",
   "source": [
    "DEVIATION = 0.02        # Minimum relative price change (2% default)\n",
    "BACKSTEP = 3            # Lookback steps to validate a swing\n",
    "\n",
    "# ================================\n",
    "# 2- ZigZag labeling function\n",
    "# ================================\n",
    "def zigzag_labels(high, low, close, deviation=0.02, backstep=3):\n",
    "    \"\"\"\n",
    "    Generate reversal labels using a zigzag-like approach.\n",
    "    Labels:\n",
    "        0 = no signal\n",
    "        1 = buy (swing low / up reversal)\n",
    "        2 = sell (swing high / down reversal)\n",
    "    \"\"\"\n",
    "    n = len(close)\n",
    "    labels = np.zeros(n, dtype=int)\n",
    "    last_pivot = 0\n",
    "    last_pivot_type = 0  # 1 = high, -1 = low\n",
    "\n",
    "    for i in range(backstep, n - backstep):\n",
    "        # Check swing high\n",
    "        if high[i] == max(high[i-backstep:i+backstep+1]):\n",
    "            if last_pivot_type != 1 and (abs((high[i] - low[last_pivot]) / low[last_pivot]) >= deviation if last_pivot > 0 else True):\n",
    "                labels[i] = 2  # Sell\n",
    "                last_pivot = i\n",
    "                last_pivot_type = 1\n",
    "\n",
    "        # Check swing low\n",
    "        if low[i] == min(low[i-backstep:i+backstep+1]):\n",
    "            if last_pivot_type != -1 and (abs((high[last_pivot] - low[i]) / high[last_pivot]) >= deviation if last_pivot > 0 else True):\n",
    "                labels[i] = 1  # Buy\n",
    "                last_pivot = i\n",
    "                last_pivot_type = -1\n",
    "\n",
    "    return labels\n",
    "\n",
    "# Apply zigzag labeling\n",
    "df['Label'] = zigzag_labels(\n",
    "    df['HIGH'].values,\n",
    "    df['LOW'].values,\n",
    "    df['CLOSE'].values,\n",
    "    deviation=DEVIATION,\n",
    "    backstep=BACKSTEP\n",
    ")\n"
   ],
   "id": "c51eeaac5aeeb6d9",
   "outputs": [],
   "execution_count": null
  },
  {
   "metadata": {},
   "cell_type": "code",
   "source": [
    "def plot_labeled_candles(df, n=150):\n",
    "    \"\"\"\n",
    "    Plots the last n candles with BUY/SELL labels based on the 'Label' column.\n",
    "    \"\"\"\n",
    "    # Use only the last n rows\n",
    "    df_plot = df.tail(n).copy()\n",
    "    df_plot['DATETIME'] = df_plot['DATE'] + ' ' + df_plot['TIME']\n",
    "\n",
    "    # Plot the closing price\n",
    "    plt.figure(figsize=(15, 6))\n",
    "    plt.plot(df_plot['DATETIME'], df_plot['CLOSE'], label='Close Price', color='black', linewidth=1.5)\n",
    "\n",
    "    # Plot BUY (label=1) and SELL (label=2) signals\n",
    "    for idx, row in df_plot.iterrows():\n",
    "        if row['Label'] == 1:\n",
    "            plt.axvline(x=row['DATETIME'], color='green', linestyle='--', linewidth=1)\n",
    "            plt.text(row['DATETIME'], row['CLOSE'], 'BUY', color='green', ha='center', va='bottom', fontsize=9)\n",
    "        elif row['Label'] == 2:\n",
    "            plt.axvline(x=row['DATETIME'], color='red', linestyle='--', linewidth=1)\n",
    "            plt.text(row['DATETIME'], row['CLOSE'], 'SELL', color='red', ha='center', va='top', fontsize=9)\n",
    "\n",
    "    plt.title(f'Last {n} Candles with Trend Reversal Labels')\n",
    "    plt.xlabel('Datetime')\n",
    "    plt.ylabel('Close Price')\n",
    "    plt.xticks(rotation=45)\n",
    "    plt.grid(True, linestyle='--', alpha=0.4)\n",
    "    plt.tight_layout()\n",
    "    plt.legend()\n",
    "    plt.show()"
   ],
   "id": "f9561a3916eeb381",
   "outputs": [],
   "execution_count": null
  },
  {
   "metadata": {},
   "cell_type": "code",
   "source": "plot_labeled_candles(df)",
   "id": "479bf6b01d78980b",
   "outputs": [],
   "execution_count": null
  },
  {
   "metadata": {},
   "cell_type": "markdown",
   "source": "# plot section",
   "id": "e31209f9cef74d45"
  }
 ],
 "metadata": {
  "kernelspec": {
   "name": "python3",
   "language": "python",
   "display_name": "Python 3 (ipykernel)"
  }
 },
 "nbformat": 5,
 "nbformat_minor": 9
}
