{
 "cells": [
  {
   "metadata": {},
   "cell_type": "markdown",
   "source": "# b-29",
   "id": "5f8de79485b8cc46"
  },
  {
   "metadata": {
    "ExecuteTime": {
     "end_time": "2025-04-17T17:10:04.066519Z",
     "start_time": "2025-04-17T17:10:01.532978Z"
    }
   },
   "cell_type": "code",
   "source": [
    "from tensorflow import keras\n",
    "from sklearn.datasets import fetch_california_housing\n",
    "from sklearn.model_selection import train_test_split\n",
    "from sklearn.preprocessing import StandardScaler\n",
    "from tensorflow.keras.saving import register_keras_serializable"
   ],
   "id": "50f534d73f333375",
   "outputs": [
    {
     "name": "stderr",
     "output_type": "stream",
     "text": [
      "2025-04-17 20:40:01.801460: E external/local_xla/xla/stream_executor/cuda/cuda_fft.cc:477] Unable to register cuFFT factory: Attempting to register factory for plugin cuFFT when one has already been registered\n",
      "WARNING: All log messages before absl::InitializeLog() is called are written to STDERR\n",
      "E0000 00:00:1744909801.814870   23510 cuda_dnn.cc:8310] Unable to register cuDNN factory: Attempting to register factory for plugin cuDNN when one has already been registered\n",
      "E0000 00:00:1744909801.819344   23510 cuda_blas.cc:1418] Unable to register cuBLAS factory: Attempting to register factory for plugin cuBLAS when one has already been registered\n",
      "2025-04-17 20:40:01.832873: I tensorflow/core/platform/cpu_feature_guard.cc:210] This TensorFlow binary is optimized to use available CPU instructions in performance-critical operations.\n",
      "To enable the following instructions: SSE4.1 SSE4.2 AVX AVX2 FMA, in other operations, rebuild TensorFlow with the appropriate compiler flags.\n"
     ]
    }
   ],
   "execution_count": 1
  },
  {
   "metadata": {
    "ExecuteTime": {
     "end_time": "2025-04-17T17:10:04.086580Z",
     "start_time": "2025-04-17T17:10:04.073702Z"
    }
   },
   "cell_type": "code",
   "source": [
    "california_housing = fetch_california_housing()\n",
    "california_housing"
   ],
   "id": "a64bbb9b26724c56",
   "outputs": [
    {
     "data": {
      "text/plain": [
       "{'data': array([[   8.3252    ,   41.        ,    6.98412698, ...,    2.55555556,\n",
       "           37.88      , -122.23      ],\n",
       "        [   8.3014    ,   21.        ,    6.23813708, ...,    2.10984183,\n",
       "           37.86      , -122.22      ],\n",
       "        [   7.2574    ,   52.        ,    8.28813559, ...,    2.80225989,\n",
       "           37.85      , -122.24      ],\n",
       "        ...,\n",
       "        [   1.7       ,   17.        ,    5.20554273, ...,    2.3256351 ,\n",
       "           39.43      , -121.22      ],\n",
       "        [   1.8672    ,   18.        ,    5.32951289, ...,    2.12320917,\n",
       "           39.43      , -121.32      ],\n",
       "        [   2.3886    ,   16.        ,    5.25471698, ...,    2.61698113,\n",
       "           39.37      , -121.24      ]], shape=(20640, 8)),\n",
       " 'target': array([4.526, 3.585, 3.521, ..., 0.923, 0.847, 0.894], shape=(20640,)),\n",
       " 'frame': None,\n",
       " 'target_names': ['MedHouseVal'],\n",
       " 'feature_names': ['MedInc',\n",
       "  'HouseAge',\n",
       "  'AveRooms',\n",
       "  'AveBedrms',\n",
       "  'Population',\n",
       "  'AveOccup',\n",
       "  'Latitude',\n",
       "  'Longitude'],\n",
       " 'DESCR': '.. _california_housing_dataset:\\n\\nCalifornia Housing dataset\\n--------------------------\\n\\n**Data Set Characteristics:**\\n\\n:Number of Instances: 20640\\n\\n:Number of Attributes: 8 numeric, predictive attributes and the target\\n\\n:Attribute Information:\\n    - MedInc        median income in block group\\n    - HouseAge      median house age in block group\\n    - AveRooms      average number of rooms per household\\n    - AveBedrms     average number of bedrooms per household\\n    - Population    block group population\\n    - AveOccup      average number of household members\\n    - Latitude      block group latitude\\n    - Longitude     block group longitude\\n\\n:Missing Attribute Values: None\\n\\nThis dataset was obtained from the StatLib repository.\\nhttps://www.dcc.fc.up.pt/~ltorgo/Regression/cal_housing.html\\n\\nThe target variable is the median house value for California districts,\\nexpressed in hundreds of thousands of dollars ($100,000).\\n\\nThis dataset was derived from the 1990 U.S. census, using one row per census\\nblock group. A block group is the smallest geographical unit for which the U.S.\\nCensus Bureau publishes sample data (a block group typically has a population\\nof 600 to 3,000 people).\\n\\nA household is a group of people residing within a home. Since the average\\nnumber of rooms and bedrooms in this dataset are provided per household, these\\ncolumns may take surprisingly large values for block groups with few households\\nand many empty houses, such as vacation resorts.\\n\\nIt can be downloaded/loaded using the\\n:func:`sklearn.datasets.fetch_california_housing` function.\\n\\n.. rubric:: References\\n\\n- Pace, R. Kelley and Ronald Barry, Sparse Spatial Autoregressions,\\n  Statistics and Probability Letters, 33 (1997) 291-297\\n'}"
      ]
     },
     "execution_count": 2,
     "metadata": {},
     "output_type": "execute_result"
    }
   ],
   "execution_count": 2
  },
  {
   "metadata": {},
   "cell_type": "markdown",
   "source": "# Splitting data into train and test.",
   "id": "d4ee5c97c4d08ff1"
  },
  {
   "metadata": {
    "ExecuteTime": {
     "end_time": "2025-04-17T17:10:04.157766Z",
     "start_time": "2025-04-17T17:10:04.153760Z"
    }
   },
   "cell_type": "code",
   "source": "X_train0, X_test, Y_train0, Y_test  = train_test_split(california_housing[\"data\"], california_housing[\"target\"])",
   "id": "1d03ad96117cd460",
   "outputs": [],
   "execution_count": 3
  },
  {
   "metadata": {
    "ExecuteTime": {
     "end_time": "2025-04-17T17:10:04.203241Z",
     "start_time": "2025-04-17T17:10:04.198987Z"
    }
   },
   "cell_type": "code",
   "source": "X_train1, X_validation, Y_train1, Y_validation = train_test_split(X_train0, Y_train0)",
   "id": "165c71bb28853765",
   "outputs": [],
   "execution_count": 4
  },
  {
   "metadata": {
    "ExecuteTime": {
     "end_time": "2025-04-17T17:10:04.248207Z",
     "start_time": "2025-04-17T17:10:04.245036Z"
    }
   },
   "cell_type": "code",
   "source": "X_test.shape",
   "id": "5e19fafead3ba97b",
   "outputs": [
    {
     "data": {
      "text/plain": [
       "(5160, 8)"
      ]
     },
     "execution_count": 5,
     "metadata": {},
     "output_type": "execute_result"
    }
   ],
   "execution_count": 5
  },
  {
   "metadata": {
    "ExecuteTime": {
     "end_time": "2025-04-17T17:10:04.296338Z",
     "start_time": "2025-04-17T17:10:04.292827Z"
    }
   },
   "cell_type": "code",
   "source": "X_train0.shape",
   "id": "54fcacd6a1611d22",
   "outputs": [
    {
     "data": {
      "text/plain": [
       "(15480, 8)"
      ]
     },
     "execution_count": 6,
     "metadata": {},
     "output_type": "execute_result"
    }
   ],
   "execution_count": 6
  },
  {
   "metadata": {
    "ExecuteTime": {
     "end_time": "2025-04-17T17:10:04.344885Z",
     "start_time": "2025-04-17T17:10:04.340870Z"
    }
   },
   "cell_type": "code",
   "source": "X_train1.shape",
   "id": "2651601db22085ba",
   "outputs": [
    {
     "data": {
      "text/plain": [
       "(11610, 8)"
      ]
     },
     "execution_count": 7,
     "metadata": {},
     "output_type": "execute_result"
    }
   ],
   "execution_count": 7
  },
  {
   "metadata": {
    "ExecuteTime": {
     "end_time": "2025-04-17T17:10:04.413353Z",
     "start_time": "2025-04-17T17:10:04.400781Z"
    }
   },
   "cell_type": "code",
   "source": "X_validation.shape",
   "id": "d27717d2895f1136",
   "outputs": [
    {
     "data": {
      "text/plain": [
       "(3870, 8)"
      ]
     },
     "execution_count": 8,
     "metadata": {},
     "output_type": "execute_result"
    }
   ],
   "execution_count": 8
  },
  {
   "metadata": {},
   "cell_type": "markdown",
   "source": [
    "# Normalizing data\n",
    "using \"sklearn.preprocessing.StandardScaler\" function for normalizing data"
   ],
   "id": "d5f81b766123a41e"
  },
  {
   "metadata": {
    "ExecuteTime": {
     "end_time": "2025-04-17T17:10:04.462688Z",
     "start_time": "2025-04-17T17:10:04.456894Z"
    }
   },
   "cell_type": "code",
   "source": [
    "sc = StandardScaler()\n",
    "X_train_s = sc.fit_transform(X_train1)\n",
    "X_validation_s = sc.fit_transform(X_validation)\n",
    "X_test_s = sc.transform(X_test)"
   ],
   "id": "39ad728b48eedb89",
   "outputs": [],
   "execution_count": 9
  },
  {
   "metadata": {},
   "cell_type": "markdown",
   "source": "--------------------------------",
   "id": "fbed35e2f026a826"
  },
  {
   "metadata": {
    "ExecuteTime": {
     "end_time": "2025-04-17T17:10:04.507496Z",
     "start_time": "2025-04-17T17:10:04.503358Z"
    }
   },
   "cell_type": "code",
   "source": "X_train0.shape[1:]",
   "id": "b8169f52f5191661",
   "outputs": [
    {
     "data": {
      "text/plain": [
       "(8,)"
      ]
     },
     "execution_count": 10,
     "metadata": {},
     "output_type": "execute_result"
    }
   ],
   "execution_count": 10
  },
  {
   "metadata": {
    "ExecuteTime": {
     "end_time": "2025-04-17T17:10:04.561348Z",
     "start_time": "2025-04-17T17:10:04.555999Z"
    }
   },
   "cell_type": "code",
   "source": [
    "X_train_s_1, X_train_s_2 = X_train_s[:, :6], X_train_s[:, :-4]\n",
    "X_validation_s_1, X_validation_s_2 = X_validation_s[:, :6], X_validation_s[:, :-4]\n",
    "X_test_s_1, X_test_s_2 = X_test_s[:, :6], X_test_s[:, :-4]"
   ],
   "id": "56ca04c53417051b",
   "outputs": [],
   "execution_count": 11
  },
  {
   "metadata": {},
   "cell_type": "markdown",
   "source": "# Define Model in Subclass API",
   "id": "6da5f327032aa8bb"
  },
  {
   "metadata": {
    "ExecuteTime": {
     "end_time": "2025-04-17T17:10:04.614008Z",
     "start_time": "2025-04-17T17:10:04.607445Z"
    }
   },
   "cell_type": "code",
   "source": [
    "@register_keras_serializable()\n",
    "class WideAndDeepANN(keras.Model):\n",
    "    def __init__(self, activation=\"relu\", **kwargs):\n",
    "        super().__init__(**kwargs)\n",
    "        self.hidden_layer_1 = keras.layers.Dense(50, activation=activation)\n",
    "        self.hidden_layer_2 = keras.layers.Dense(10, activation=activation)\n",
    "        self.final_output = keras.layers.Dense(1)\n",
    "        self.helper_output = keras.layers.Dense(1)\n",
    "\n",
    "    def call(self, inputs):\n",
    "        input_1, input_2 = inputs\n",
    "        h1_out = self.hidden_layer_1(input_1)\n",
    "        h2_out = self.hidden_layer_2(h1_out)\n",
    "        concat_out = keras.layers.concatenate([input_2, h2_out])\n",
    "        final_out = self.final_output(concat_out)\n",
    "        helper_out = self.helper_output(h2_out)\n",
    "        return final_out, helper_out"
   ],
   "id": "87277cd5c924d740",
   "outputs": [],
   "execution_count": 12
  },
  {
   "metadata": {
    "ExecuteTime": {
     "end_time": "2025-04-17T17:10:04.662994Z",
     "start_time": "2025-04-17T17:10:04.657135Z"
    }
   },
   "cell_type": "code",
   "source": "model_f = WideAndDeepANN()",
   "id": "22d31a6fe56ef937",
   "outputs": [],
   "execution_count": 13
  },
  {
   "metadata": {},
   "cell_type": "markdown",
   "source": "# Compile Model",
   "id": "3afb0615e386c186"
  },
  {
   "metadata": {
    "ExecuteTime": {
     "end_time": "2025-04-17T17:10:04.918541Z",
     "start_time": "2025-04-17T17:10:04.706295Z"
    }
   },
   "cell_type": "code",
   "source": [
    "model_f.compile(loss = [\"mse\", \"mse\"],\n",
    "              loss_weights = [0.8, 0.2],\n",
    "              optimizer = \"sgd\",\n",
    "              metrics = [[\"mean_absolute_error\"], [\"mean_absolute_error\"]])"
   ],
   "id": "14cc03cd63b39d85",
   "outputs": [
    {
     "name": "stderr",
     "output_type": "stream",
     "text": [
      "I0000 00:00:1744909804.872162   23510 gpu_device.cc:2022] Created device /job:localhost/replica:0/task:0/device:GPU:0 with 2229 MB memory:  -> device: 0, name: NVIDIA GeForce GTX 1650 SUPER, pci bus id: 0000:01:00.0, compute capability: 7.5\n"
     ]
    }
   ],
   "execution_count": 14
  },
  {
   "metadata": {},
   "cell_type": "markdown",
   "source": "# Fit Model",
   "id": "cf33f932cd94362a"
  },
  {
   "metadata": {
    "ExecuteTime": {
     "end_time": "2025-04-17T17:10:40.026182Z",
     "start_time": "2025-04-17T17:10:04.949267Z"
    }
   },
   "cell_type": "code",
   "source": "model_f.fit((X_train_s_1, X_train_s_2),(Y_train1, Y_train1), epochs=30, validation_data = ((X_validation_s_1, X_validation_s_2), (Y_validation, Y_validation)))",
   "id": "45bd8391b47051f7",
   "outputs": [
    {
     "name": "stdout",
     "output_type": "stream",
     "text": [
      "Epoch 1/30\n"
     ]
    },
    {
     "name": "stderr",
     "output_type": "stream",
     "text": [
      "I0000 00:00:1744909806.120761   23556 service.cc:148] XLA service 0x7cb674003ff0 initialized for platform CUDA (this does not guarantee that XLA will be used). Devices:\n",
      "I0000 00:00:1744909806.120780   23556 service.cc:156]   StreamExecutor device (0): NVIDIA GeForce GTX 1650 SUPER, Compute Capability 7.5\n",
      "2025-04-17 20:40:06.140984: I tensorflow/compiler/mlir/tensorflow/utils/dump_mlir_util.cc:268] disabling MLIR crash reproducer, set env var `MLIR_CRASH_REPRODUCER_DIRECTORY` to enable.\n",
      "I0000 00:00:1744909806.184794   23556 cuda_dnn.cc:529] Loaded cuDNN version 90800\n"
     ]
    },
    {
     "name": "stdout",
     "output_type": "stream",
     "text": [
      "\u001B[1m 66/363\u001B[0m \u001B[32m━━━\u001B[0m\u001B[37m━━━━━━━━━━━━━━━━━\u001B[0m \u001B[1m0s\u001B[0m 2ms/step - loss: 4.2931 - mean_absolute_error: 1.4151 - mean_absolute_error_1: 1.7558 - mse_loss: 5.1346"
     ]
    },
    {
     "name": "stderr",
     "output_type": "stream",
     "text": [
      "I0000 00:00:1744909806.765468   23556 device_compiler.h:188] Compiled cluster using XLA!  This line is logged at most once for the lifetime of the process.\n"
     ]
    },
    {
     "name": "stdout",
     "output_type": "stream",
     "text": [
      "\u001B[1m363/363\u001B[0m \u001B[32m━━━━━━━━━━━━━━━━━━━━\u001B[0m\u001B[37m\u001B[0m \u001B[1m4s\u001B[0m 6ms/step - loss: 2.1153 - mean_absolute_error: 0.8949 - mean_absolute_error_1: 1.1103 - mse_loss: 2.6788 - val_loss: 0.6010 - val_mean_absolute_error: 0.5499 - val_mean_absolute_error_1: 0.5995 - val_mse_loss: 0.6626\n",
      "Epoch 2/30\n",
      "\u001B[1m363/363\u001B[0m \u001B[32m━━━━━━━━━━━━━━━━━━━━\u001B[0m\u001B[37m\u001B[0m \u001B[1m1s\u001B[0m 2ms/step - loss: 0.5885 - mean_absolute_error: 0.5546 - mean_absolute_error_1: 0.5970 - mse_loss: 0.6493 - val_loss: 0.5683 - val_mean_absolute_error: 0.5421 - val_mean_absolute_error_1: 0.5721 - val_mse_loss: 0.6091\n",
      "Epoch 3/30\n",
      "\u001B[1m363/363\u001B[0m \u001B[32m━━━━━━━━━━━━━━━━━━━━\u001B[0m\u001B[37m\u001B[0m \u001B[1m1s\u001B[0m 2ms/step - loss: 0.5654 - mean_absolute_error: 0.5439 - mean_absolute_error_1: 0.5750 - mse_loss: 0.6134 - val_loss: 0.5257 - val_mean_absolute_error: 0.5149 - val_mean_absolute_error_1: 0.5425 - val_mse_loss: 0.5695\n",
      "Epoch 4/30\n",
      "\u001B[1m363/363\u001B[0m \u001B[32m━━━━━━━━━━━━━━━━━━━━\u001B[0m\u001B[37m\u001B[0m \u001B[1m1s\u001B[0m 3ms/step - loss: 0.5228 - mean_absolute_error: 0.5244 - mean_absolute_error_1: 0.5472 - mse_loss: 0.5572 - val_loss: 0.5079 - val_mean_absolute_error: 0.5060 - val_mean_absolute_error_1: 0.5304 - val_mse_loss: 0.5402\n",
      "Epoch 5/30\n",
      "\u001B[1m363/363\u001B[0m \u001B[32m━━━━━━━━━━━━━━━━━━━━\u001B[0m\u001B[37m\u001B[0m \u001B[1m1s\u001B[0m 3ms/step - loss: 0.5188 - mean_absolute_error: 0.5248 - mean_absolute_error_1: 0.5403 - mse_loss: 0.5413 - val_loss: 0.4922 - val_mean_absolute_error: 0.4992 - val_mean_absolute_error_1: 0.5165 - val_mse_loss: 0.5191\n",
      "Epoch 6/30\n",
      "\u001B[1m363/363\u001B[0m \u001B[32m━━━━━━━━━━━━━━━━━━━━\u001B[0m\u001B[37m\u001B[0m \u001B[1m1s\u001B[0m 3ms/step - loss: 0.4876 - mean_absolute_error: 0.5064 - mean_absolute_error_1: 0.5196 - mse_loss: 0.5069 - val_loss: 0.4868 - val_mean_absolute_error: 0.5058 - val_mean_absolute_error_1: 0.5125 - val_mse_loss: 0.5050\n",
      "Epoch 7/30\n",
      "\u001B[1m363/363\u001B[0m \u001B[32m━━━━━━━━━━━━━━━━━━━━\u001B[0m\u001B[37m\u001B[0m \u001B[1m1s\u001B[0m 3ms/step - loss: 0.4782 - mean_absolute_error: 0.4968 - mean_absolute_error_1: 0.5086 - mse_loss: 0.4970 - val_loss: 0.4738 - val_mean_absolute_error: 0.4938 - val_mean_absolute_error_1: 0.5029 - val_mse_loss: 0.4914\n",
      "Epoch 8/30\n",
      "\u001B[1m363/363\u001B[0m \u001B[32m━━━━━━━━━━━━━━━━━━━━\u001B[0m\u001B[37m\u001B[0m \u001B[1m1s\u001B[0m 3ms/step - loss: 0.4927 - mean_absolute_error: 0.5098 - mean_absolute_error_1: 0.5179 - mse_loss: 0.5046 - val_loss: 0.4774 - val_mean_absolute_error: 0.5141 - val_mean_absolute_error_1: 0.5097 - val_mse_loss: 0.4848\n",
      "Epoch 9/30\n",
      "\u001B[1m363/363\u001B[0m \u001B[32m━━━━━━━━━━━━━━━━━━━━\u001B[0m\u001B[37m\u001B[0m \u001B[1m1s\u001B[0m 3ms/step - loss: 0.4686 - mean_absolute_error: 0.4975 - mean_absolute_error_1: 0.5057 - mse_loss: 0.4807 - val_loss: 0.4572 - val_mean_absolute_error: 0.4944 - val_mean_absolute_error_1: 0.4990 - val_mse_loss: 0.4710\n",
      "Epoch 10/30\n",
      "\u001B[1m363/363\u001B[0m \u001B[32m━━━━━━━━━━━━━━━━━━━━\u001B[0m\u001B[37m\u001B[0m \u001B[1m1s\u001B[0m 3ms/step - loss: 0.4661 - mean_absolute_error: 0.4947 - mean_absolute_error_1: 0.5024 - mse_loss: 0.4754 - val_loss: 0.4539 - val_mean_absolute_error: 0.4893 - val_mean_absolute_error_1: 0.4932 - val_mse_loss: 0.4653\n",
      "Epoch 11/30\n",
      "\u001B[1m363/363\u001B[0m \u001B[32m━━━━━━━━━━━━━━━━━━━━\u001B[0m\u001B[37m\u001B[0m \u001B[1m1s\u001B[0m 3ms/step - loss: 0.4694 - mean_absolute_error: 0.4972 - mean_absolute_error_1: 0.5047 - mse_loss: 0.4804 - val_loss: 0.4533 - val_mean_absolute_error: 0.4884 - val_mean_absolute_error_1: 0.4906 - val_mse_loss: 0.4629\n",
      "Epoch 12/30\n",
      "\u001B[1m363/363\u001B[0m \u001B[32m━━━━━━━━━━━━━━━━━━━━\u001B[0m\u001B[37m\u001B[0m \u001B[1m1s\u001B[0m 3ms/step - loss: 0.4358 - mean_absolute_error: 0.4804 - mean_absolute_error_1: 0.4887 - mse_loss: 0.4475 - val_loss: 0.4608 - val_mean_absolute_error: 0.5067 - val_mean_absolute_error_1: 0.5018 - val_mse_loss: 0.4620\n",
      "Epoch 13/30\n",
      "\u001B[1m363/363\u001B[0m \u001B[32m━━━━━━━━━━━━━━━━━━━━\u001B[0m\u001B[37m\u001B[0m \u001B[1m1s\u001B[0m 3ms/step - loss: 0.4455 - mean_absolute_error: 0.4850 - mean_absolute_error_1: 0.4910 - mse_loss: 0.4551 - val_loss: 0.4577 - val_mean_absolute_error: 0.5011 - val_mean_absolute_error_1: 0.4961 - val_mse_loss: 0.4596\n",
      "Epoch 14/30\n",
      "\u001B[1m363/363\u001B[0m \u001B[32m━━━━━━━━━━━━━━━━━━━━\u001B[0m\u001B[37m\u001B[0m \u001B[1m1s\u001B[0m 3ms/step - loss: 0.4473 - mean_absolute_error: 0.4887 - mean_absolute_error_1: 0.4934 - mse_loss: 0.4551 - val_loss: 0.4535 - val_mean_absolute_error: 0.4941 - val_mean_absolute_error_1: 0.4919 - val_mse_loss: 0.4552\n",
      "Epoch 15/30\n",
      "\u001B[1m363/363\u001B[0m \u001B[32m━━━━━━━━━━━━━━━━━━━━\u001B[0m\u001B[37m\u001B[0m \u001B[1m1s\u001B[0m 3ms/step - loss: 0.4622 - mean_absolute_error: 0.4862 - mean_absolute_error_1: 0.4911 - mse_loss: 0.4716 - val_loss: 0.4538 - val_mean_absolute_error: 0.4968 - val_mean_absolute_error_1: 0.4928 - val_mse_loss: 0.4535\n",
      "Epoch 16/30\n",
      "\u001B[1m363/363\u001B[0m \u001B[32m━━━━━━━━━━━━━━━━━━━━\u001B[0m\u001B[37m\u001B[0m \u001B[1m1s\u001B[0m 3ms/step - loss: 0.4617 - mean_absolute_error: 0.4932 - mean_absolute_error_1: 0.4972 - mse_loss: 0.4682 - val_loss: 0.4659 - val_mean_absolute_error: 0.5073 - val_mean_absolute_error_1: 0.4994 - val_mse_loss: 0.4596\n",
      "Epoch 17/30\n",
      "\u001B[1m363/363\u001B[0m \u001B[32m━━━━━━━━━━━━━━━━━━━━\u001B[0m\u001B[37m\u001B[0m \u001B[1m1s\u001B[0m 3ms/step - loss: 0.4230 - mean_absolute_error: 0.4768 - mean_absolute_error_1: 0.4805 - mse_loss: 0.4293 - val_loss: 0.4585 - val_mean_absolute_error: 0.5045 - val_mean_absolute_error_1: 0.4963 - val_mse_loss: 0.4527\n",
      "Epoch 18/30\n",
      "\u001B[1m363/363\u001B[0m \u001B[32m━━━━━━━━━━━━━━━━━━━━\u001B[0m\u001B[37m\u001B[0m \u001B[1m1s\u001B[0m 3ms/step - loss: 0.4322 - mean_absolute_error: 0.4759 - mean_absolute_error_1: 0.4782 - mse_loss: 0.4375 - val_loss: 0.4491 - val_mean_absolute_error: 0.4946 - val_mean_absolute_error_1: 0.4915 - val_mse_loss: 0.4473\n",
      "Epoch 19/30\n",
      "\u001B[1m363/363\u001B[0m \u001B[32m━━━━━━━━━━━━━━━━━━━━\u001B[0m\u001B[37m\u001B[0m \u001B[1m1s\u001B[0m 3ms/step - loss: 0.4381 - mean_absolute_error: 0.4826 - mean_absolute_error_1: 0.4866 - mse_loss: 0.4436 - val_loss: 0.4584 - val_mean_absolute_error: 0.5073 - val_mean_absolute_error_1: 0.5011 - val_mse_loss: 0.4542\n",
      "Epoch 20/30\n",
      "\u001B[1m363/363\u001B[0m \u001B[32m━━━━━━━━━━━━━━━━━━━━\u001B[0m\u001B[37m\u001B[0m \u001B[1m1s\u001B[0m 3ms/step - loss: 0.4353 - mean_absolute_error: 0.4797 - mean_absolute_error_1: 0.4842 - mse_loss: 0.4421 - val_loss: 0.4466 - val_mean_absolute_error: 0.4869 - val_mean_absolute_error_1: 0.4859 - val_mse_loss: 0.4469\n",
      "Epoch 21/30\n",
      "\u001B[1m363/363\u001B[0m \u001B[32m━━━━━━━━━━━━━━━━━━━━\u001B[0m\u001B[37m\u001B[0m \u001B[1m1s\u001B[0m 3ms/step - loss: 0.4253 - mean_absolute_error: 0.4765 - mean_absolute_error_1: 0.4808 - mse_loss: 0.4319 - val_loss: 0.4438 - val_mean_absolute_error: 0.4873 - val_mean_absolute_error_1: 0.4874 - val_mse_loss: 0.4454\n",
      "Epoch 22/30\n",
      "\u001B[1m363/363\u001B[0m \u001B[32m━━━━━━━━━━━━━━━━━━━━\u001B[0m\u001B[37m\u001B[0m \u001B[1m1s\u001B[0m 3ms/step - loss: 0.4297 - mean_absolute_error: 0.4760 - mean_absolute_error_1: 0.4796 - mse_loss: 0.4358 - val_loss: 0.4422 - val_mean_absolute_error: 0.4905 - val_mean_absolute_error_1: 0.4895 - val_mse_loss: 0.4442\n",
      "Epoch 23/30\n",
      "\u001B[1m363/363\u001B[0m \u001B[32m━━━━━━━━━━━━━━━━━━━━\u001B[0m\u001B[37m\u001B[0m \u001B[1m1s\u001B[0m 3ms/step - loss: 0.4275 - mean_absolute_error: 0.4740 - mean_absolute_error_1: 0.4776 - mse_loss: 0.4331 - val_loss: 0.4650 - val_mean_absolute_error: 0.5058 - val_mean_absolute_error_1: 0.5010 - val_mse_loss: 0.4590\n",
      "Epoch 24/30\n",
      "\u001B[1m363/363\u001B[0m \u001B[32m━━━━━━━━━━━━━━━━━━━━\u001B[0m\u001B[37m\u001B[0m \u001B[1m1s\u001B[0m 3ms/step - loss: 0.4210 - mean_absolute_error: 0.4735 - mean_absolute_error_1: 0.4773 - mse_loss: 0.4259 - val_loss: 0.4449 - val_mean_absolute_error: 0.4893 - val_mean_absolute_error_1: 0.4892 - val_mse_loss: 0.4449\n",
      "Epoch 25/30\n",
      "\u001B[1m363/363\u001B[0m \u001B[32m━━━━━━━━━━━━━━━━━━━━\u001B[0m\u001B[37m\u001B[0m \u001B[1m1s\u001B[0m 3ms/step - loss: 0.4306 - mean_absolute_error: 0.4753 - mean_absolute_error_1: 0.4791 - mse_loss: 0.4357 - val_loss: 0.4486 - val_mean_absolute_error: 0.4962 - val_mean_absolute_error_1: 0.4935 - val_mse_loss: 0.4473\n",
      "Epoch 26/30\n",
      "\u001B[1m363/363\u001B[0m \u001B[32m━━━━━━━━━━━━━━━━━━━━\u001B[0m\u001B[37m\u001B[0m \u001B[1m1s\u001B[0m 3ms/step - loss: 0.4257 - mean_absolute_error: 0.4729 - mean_absolute_error_1: 0.4757 - mse_loss: 0.4305 - val_loss: 0.4461 - val_mean_absolute_error: 0.4902 - val_mean_absolute_error_1: 0.4895 - val_mse_loss: 0.4457\n",
      "Epoch 27/30\n",
      "\u001B[1m363/363\u001B[0m \u001B[32m━━━━━━━━━━━━━━━━━━━━\u001B[0m\u001B[37m\u001B[0m \u001B[1m1s\u001B[0m 3ms/step - loss: 0.4132 - mean_absolute_error: 0.4666 - mean_absolute_error_1: 0.4706 - mse_loss: 0.4194 - val_loss: 0.4562 - val_mean_absolute_error: 0.4973 - val_mean_absolute_error_1: 0.4955 - val_mse_loss: 0.4533\n",
      "Epoch 28/30\n",
      "\u001B[1m363/363\u001B[0m \u001B[32m━━━━━━━━━━━━━━━━━━━━\u001B[0m\u001B[37m\u001B[0m \u001B[1m1s\u001B[0m 3ms/step - loss: 0.4273 - mean_absolute_error: 0.4735 - mean_absolute_error_1: 0.4763 - mse_loss: 0.4327 - val_loss: 0.4591 - val_mean_absolute_error: 0.4989 - val_mean_absolute_error_1: 0.4966 - val_mse_loss: 0.4550\n",
      "Epoch 29/30\n",
      "\u001B[1m363/363\u001B[0m \u001B[32m━━━━━━━━━━━━━━━━━━━━\u001B[0m\u001B[37m\u001B[0m \u001B[1m1s\u001B[0m 3ms/step - loss: 0.4164 - mean_absolute_error: 0.4724 - mean_absolute_error_1: 0.4750 - mse_loss: 0.4211 - val_loss: 0.4599 - val_mean_absolute_error: 0.4992 - val_mean_absolute_error_1: 0.4971 - val_mse_loss: 0.4561\n",
      "Epoch 30/30\n",
      "\u001B[1m363/363\u001B[0m \u001B[32m━━━━━━━━━━━━━━━━━━━━\u001B[0m\u001B[37m\u001B[0m \u001B[1m1s\u001B[0m 3ms/step - loss: 0.4180 - mean_absolute_error: 0.4692 - mean_absolute_error_1: 0.4727 - mse_loss: 0.4232 - val_loss: 0.4880 - val_mean_absolute_error: 0.5200 - val_mean_absolute_error_1: 0.5102 - val_mse_loss: 0.4732\n"
     ]
    },
    {
     "data": {
      "text/plain": [
       "<keras.src.callbacks.history.History at 0x7cb6d8aa2490>"
      ]
     },
     "execution_count": 15,
     "metadata": {},
     "output_type": "execute_result"
    }
   ],
   "execution_count": 15
  },
  {
   "metadata": {},
   "cell_type": "markdown",
   "source": "# Save Model",
   "id": "11ffba61bba3eb84"
  },
  {
   "metadata": {
    "ExecuteTime": {
     "end_time": "2025-04-17T17:10:40.073661Z",
     "start_time": "2025-04-17T17:10:40.040184Z"
    }
   },
   "cell_type": "code",
   "source": "model_f.save(\"housing_reg_model.keras\")",
   "id": "f32d9e361b90b7f",
   "outputs": [],
   "execution_count": 16
  },
  {
   "metadata": {
    "ExecuteTime": {
     "end_time": "2025-04-17T17:10:40.161806Z",
     "start_time": "2025-04-17T17:10:40.088036Z"
    }
   },
   "cell_type": "code",
   "source": "model_f_reg = keras.models.load_model(\"housing_reg_model.keras\")",
   "id": "1f88563f82446f89",
   "outputs": [],
   "execution_count": 17
  },
  {
   "metadata": {
    "ExecuteTime": {
     "end_time": "2025-04-17T17:10:40.185227Z",
     "start_time": "2025-04-17T17:10:40.175118Z"
    }
   },
   "cell_type": "code",
   "source": "model_f_reg.summary()",
   "id": "53cbe69ee7cedf33",
   "outputs": [
    {
     "data": {
      "text/plain": [
       "\u001B[1mModel: \"wide_and_deep_ann\"\u001B[0m\n"
      ],
      "text/html": [
       "<pre style=\"white-space:pre;overflow-x:auto;line-height:normal;font-family:Menlo,'DejaVu Sans Mono',consolas,'Courier New',monospace\"><span style=\"font-weight: bold\">Model: \"wide_and_deep_ann\"</span>\n",
       "</pre>\n"
      ]
     },
     "metadata": {},
     "output_type": "display_data"
    },
    {
     "data": {
      "text/plain": [
       "┏━━━━━━━━━━━━━━━━━━━━━━━━━━━━━━━━━┳━━━━━━━━━━━━━━━━━━━━━━━━┳━━━━━━━━━━━━━━━┓\n",
       "┃\u001B[1m \u001B[0m\u001B[1mLayer (type)                   \u001B[0m\u001B[1m \u001B[0m┃\u001B[1m \u001B[0m\u001B[1mOutput Shape          \u001B[0m\u001B[1m \u001B[0m┃\u001B[1m \u001B[0m\u001B[1m      Param #\u001B[0m\u001B[1m \u001B[0m┃\n",
       "┡━━━━━━━━━━━━━━━━━━━━━━━━━━━━━━━━━╇━━━━━━━━━━━━━━━━━━━━━━━━╇━━━━━━━━━━━━━━━┩\n",
       "│ dense_4 (\u001B[38;5;33mDense\u001B[0m)                 │ (\u001B[38;5;45mNone\u001B[0m, \u001B[38;5;34m50\u001B[0m)             │           \u001B[38;5;34m350\u001B[0m │\n",
       "├─────────────────────────────────┼────────────────────────┼───────────────┤\n",
       "│ dense_5 (\u001B[38;5;33mDense\u001B[0m)                 │ (\u001B[38;5;45mNone\u001B[0m, \u001B[38;5;34m10\u001B[0m)             │           \u001B[38;5;34m510\u001B[0m │\n",
       "├─────────────────────────────────┼────────────────────────┼───────────────┤\n",
       "│ dense_6 (\u001B[38;5;33mDense\u001B[0m)                 │ (\u001B[38;5;45mNone\u001B[0m, \u001B[38;5;34m1\u001B[0m)              │            \u001B[38;5;34m15\u001B[0m │\n",
       "├─────────────────────────────────┼────────────────────────┼───────────────┤\n",
       "│ dense_7 (\u001B[38;5;33mDense\u001B[0m)                 │ (\u001B[38;5;45mNone\u001B[0m, \u001B[38;5;34m1\u001B[0m)              │            \u001B[38;5;34m11\u001B[0m │\n",
       "└─────────────────────────────────┴────────────────────────┴───────────────┘\n"
      ],
      "text/html": [
       "<pre style=\"white-space:pre;overflow-x:auto;line-height:normal;font-family:Menlo,'DejaVu Sans Mono',consolas,'Courier New',monospace\">┏━━━━━━━━━━━━━━━━━━━━━━━━━━━━━━━━━┳━━━━━━━━━━━━━━━━━━━━━━━━┳━━━━━━━━━━━━━━━┓\n",
       "┃<span style=\"font-weight: bold\"> Layer (type)                    </span>┃<span style=\"font-weight: bold\"> Output Shape           </span>┃<span style=\"font-weight: bold\">       Param # </span>┃\n",
       "┡━━━━━━━━━━━━━━━━━━━━━━━━━━━━━━━━━╇━━━━━━━━━━━━━━━━━━━━━━━━╇━━━━━━━━━━━━━━━┩\n",
       "│ dense_4 (<span style=\"color: #0087ff; text-decoration-color: #0087ff\">Dense</span>)                 │ (<span style=\"color: #00d7ff; text-decoration-color: #00d7ff\">None</span>, <span style=\"color: #00af00; text-decoration-color: #00af00\">50</span>)             │           <span style=\"color: #00af00; text-decoration-color: #00af00\">350</span> │\n",
       "├─────────────────────────────────┼────────────────────────┼───────────────┤\n",
       "│ dense_5 (<span style=\"color: #0087ff; text-decoration-color: #0087ff\">Dense</span>)                 │ (<span style=\"color: #00d7ff; text-decoration-color: #00d7ff\">None</span>, <span style=\"color: #00af00; text-decoration-color: #00af00\">10</span>)             │           <span style=\"color: #00af00; text-decoration-color: #00af00\">510</span> │\n",
       "├─────────────────────────────────┼────────────────────────┼───────────────┤\n",
       "│ dense_6 (<span style=\"color: #0087ff; text-decoration-color: #0087ff\">Dense</span>)                 │ (<span style=\"color: #00d7ff; text-decoration-color: #00d7ff\">None</span>, <span style=\"color: #00af00; text-decoration-color: #00af00\">1</span>)              │            <span style=\"color: #00af00; text-decoration-color: #00af00\">15</span> │\n",
       "├─────────────────────────────────┼────────────────────────┼───────────────┤\n",
       "│ dense_7 (<span style=\"color: #0087ff; text-decoration-color: #0087ff\">Dense</span>)                 │ (<span style=\"color: #00d7ff; text-decoration-color: #00d7ff\">None</span>, <span style=\"color: #00af00; text-decoration-color: #00af00\">1</span>)              │            <span style=\"color: #00af00; text-decoration-color: #00af00\">11</span> │\n",
       "└─────────────────────────────────┴────────────────────────┴───────────────┘\n",
       "</pre>\n"
      ]
     },
     "metadata": {},
     "output_type": "display_data"
    },
    {
     "data": {
      "text/plain": [
       "\u001B[1m Total params: \u001B[0m\u001B[38;5;34m888\u001B[0m (3.47 KB)\n"
      ],
      "text/html": [
       "<pre style=\"white-space:pre;overflow-x:auto;line-height:normal;font-family:Menlo,'DejaVu Sans Mono',consolas,'Courier New',monospace\"><span style=\"font-weight: bold\"> Total params: </span><span style=\"color: #00af00; text-decoration-color: #00af00\">888</span> (3.47 KB)\n",
       "</pre>\n"
      ]
     },
     "metadata": {},
     "output_type": "display_data"
    },
    {
     "data": {
      "text/plain": [
       "\u001B[1m Trainable params: \u001B[0m\u001B[38;5;34m886\u001B[0m (3.46 KB)\n"
      ],
      "text/html": [
       "<pre style=\"white-space:pre;overflow-x:auto;line-height:normal;font-family:Menlo,'DejaVu Sans Mono',consolas,'Courier New',monospace\"><span style=\"font-weight: bold\"> Trainable params: </span><span style=\"color: #00af00; text-decoration-color: #00af00\">886</span> (3.46 KB)\n",
       "</pre>\n"
      ]
     },
     "metadata": {},
     "output_type": "display_data"
    },
    {
     "data": {
      "text/plain": [
       "\u001B[1m Non-trainable params: \u001B[0m\u001B[38;5;34m0\u001B[0m (0.00 B)\n"
      ],
      "text/html": [
       "<pre style=\"white-space:pre;overflow-x:auto;line-height:normal;font-family:Menlo,'DejaVu Sans Mono',consolas,'Courier New',monospace\"><span style=\"font-weight: bold\"> Non-trainable params: </span><span style=\"color: #00af00; text-decoration-color: #00af00\">0</span> (0.00 B)\n",
       "</pre>\n"
      ]
     },
     "metadata": {},
     "output_type": "display_data"
    },
    {
     "data": {
      "text/plain": [
       "\u001B[1m Optimizer params: \u001B[0m\u001B[38;5;34m2\u001B[0m (12.00 B)\n"
      ],
      "text/html": [
       "<pre style=\"white-space:pre;overflow-x:auto;line-height:normal;font-family:Menlo,'DejaVu Sans Mono',consolas,'Courier New',monospace\"><span style=\"font-weight: bold\"> Optimizer params: </span><span style=\"color: #00af00; text-decoration-color: #00af00\">2</span> (12.00 B)\n",
       "</pre>\n"
      ]
     },
     "metadata": {},
     "output_type": "display_data"
    }
   ],
   "execution_count": 18
  }
 ],
 "metadata": {
  "kernelspec": {
   "name": "python3",
   "language": "python",
   "display_name": "Python 3 (ipykernel)"
  }
 },
 "nbformat": 5,
 "nbformat_minor": 9
}
