{
 "cells": [
  {
   "metadata": {
    "ExecuteTime": {
     "end_time": "2025-03-07T11:22:42.844029Z",
     "start_time": "2025-03-07T11:22:42.841238Z"
    }
   },
   "cell_type": "code",
   "source": [
    "import tensorflow as tf\n",
    "from tensorflow import keras\n",
    "from sklearn.datasets import fetch_california_housing\n",
    "from sklearn.model_selection import train_test_split\n",
    "from sklearn.preprocessing import StandardScaler\n",
    "from tensorflow.keras.saving import register_keras_serializable"
   ],
   "id": "50f534d73f333375",
   "outputs": [],
   "execution_count": 85
  },
  {
   "metadata": {
    "ExecuteTime": {
     "end_time": "2025-03-07T11:22:42.909412Z",
     "start_time": "2025-03-07T11:22:42.899584Z"
    }
   },
   "cell_type": "code",
   "source": [
    "california_housing = fetch_california_housing()\n",
    "california_housing"
   ],
   "id": "a64bbb9b26724c56",
   "outputs": [
    {
     "data": {
      "text/plain": [
       "{'data': array([[   8.3252    ,   41.        ,    6.98412698, ...,    2.55555556,\n",
       "           37.88      , -122.23      ],\n",
       "        [   8.3014    ,   21.        ,    6.23813708, ...,    2.10984183,\n",
       "           37.86      , -122.22      ],\n",
       "        [   7.2574    ,   52.        ,    8.28813559, ...,    2.80225989,\n",
       "           37.85      , -122.24      ],\n",
       "        ...,\n",
       "        [   1.7       ,   17.        ,    5.20554273, ...,    2.3256351 ,\n",
       "           39.43      , -121.22      ],\n",
       "        [   1.8672    ,   18.        ,    5.32951289, ...,    2.12320917,\n",
       "           39.43      , -121.32      ],\n",
       "        [   2.3886    ,   16.        ,    5.25471698, ...,    2.61698113,\n",
       "           39.37      , -121.24      ]], shape=(20640, 8)),\n",
       " 'target': array([4.526, 3.585, 3.521, ..., 0.923, 0.847, 0.894], shape=(20640,)),\n",
       " 'frame': None,\n",
       " 'target_names': ['MedHouseVal'],\n",
       " 'feature_names': ['MedInc',\n",
       "  'HouseAge',\n",
       "  'AveRooms',\n",
       "  'AveBedrms',\n",
       "  'Population',\n",
       "  'AveOccup',\n",
       "  'Latitude',\n",
       "  'Longitude'],\n",
       " 'DESCR': '.. _california_housing_dataset:\\n\\nCalifornia Housing dataset\\n--------------------------\\n\\n**Data Set Characteristics:**\\n\\n:Number of Instances: 20640\\n\\n:Number of Attributes: 8 numeric, predictive attributes and the target\\n\\n:Attribute Information:\\n    - MedInc        median income in block group\\n    - HouseAge      median house age in block group\\n    - AveRooms      average number of rooms per household\\n    - AveBedrms     average number of bedrooms per household\\n    - Population    block group population\\n    - AveOccup      average number of household members\\n    - Latitude      block group latitude\\n    - Longitude     block group longitude\\n\\n:Missing Attribute Values: None\\n\\nThis dataset was obtained from the StatLib repository.\\nhttps://www.dcc.fc.up.pt/~ltorgo/Regression/cal_housing.html\\n\\nThe target variable is the median house value for California districts,\\nexpressed in hundreds of thousands of dollars ($100,000).\\n\\nThis dataset was derived from the 1990 U.S. census, using one row per census\\nblock group. A block group is the smallest geographical unit for which the U.S.\\nCensus Bureau publishes sample data (a block group typically has a population\\nof 600 to 3,000 people).\\n\\nA household is a group of people residing within a home. Since the average\\nnumber of rooms and bedrooms in this dataset are provided per household, these\\ncolumns may take surprisingly large values for block groups with few households\\nand many empty houses, such as vacation resorts.\\n\\nIt can be downloaded/loaded using the\\n:func:`sklearn.datasets.fetch_california_housing` function.\\n\\n.. rubric:: References\\n\\n- Pace, R. Kelley and Ronald Barry, Sparse Spatial Autoregressions,\\n  Statistics and Probability Letters, 33 (1997) 291-297\\n'}"
      ]
     },
     "execution_count": 86,
     "metadata": {},
     "output_type": "execute_result"
    }
   ],
   "execution_count": 86
  },
  {
   "metadata": {},
   "cell_type": "markdown",
   "source": "# Splitting data into train and test.",
   "id": "d4ee5c97c4d08ff1"
  },
  {
   "metadata": {
    "ExecuteTime": {
     "end_time": "2025-03-07T11:22:42.950737Z",
     "start_time": "2025-03-07T11:22:42.945506Z"
    }
   },
   "cell_type": "code",
   "source": "X_train0, X_test, Y_train0, Y_test  = train_test_split(california_housing[\"data\"], california_housing[\"target\"])",
   "id": "1d03ad96117cd460",
   "outputs": [],
   "execution_count": 87
  },
  {
   "metadata": {
    "ExecuteTime": {
     "end_time": "2025-03-07T11:22:43.009738Z",
     "start_time": "2025-03-07T11:22:43.005422Z"
    }
   },
   "cell_type": "code",
   "source": "X_train1, X_validation, Y_train1, Y_validation = train_test_split(X_train0, Y_train0)",
   "id": "165c71bb28853765",
   "outputs": [],
   "execution_count": 88
  },
  {
   "metadata": {
    "ExecuteTime": {
     "end_time": "2025-03-07T11:22:43.057270Z",
     "start_time": "2025-03-07T11:22:43.053024Z"
    }
   },
   "cell_type": "code",
   "source": "X_test.shape",
   "id": "5e19fafead3ba97b",
   "outputs": [
    {
     "data": {
      "text/plain": [
       "(5160, 8)"
      ]
     },
     "execution_count": 89,
     "metadata": {},
     "output_type": "execute_result"
    }
   ],
   "execution_count": 89
  },
  {
   "metadata": {
    "ExecuteTime": {
     "end_time": "2025-03-07T11:22:43.106904Z",
     "start_time": "2025-03-07T11:22:43.101855Z"
    }
   },
   "cell_type": "code",
   "source": "X_train0.shape",
   "id": "54fcacd6a1611d22",
   "outputs": [
    {
     "data": {
      "text/plain": [
       "(15480, 8)"
      ]
     },
     "execution_count": 90,
     "metadata": {},
     "output_type": "execute_result"
    }
   ],
   "execution_count": 90
  },
  {
   "metadata": {
    "ExecuteTime": {
     "end_time": "2025-03-07T11:22:43.153047Z",
     "start_time": "2025-03-07T11:22:43.149396Z"
    }
   },
   "cell_type": "code",
   "source": "X_train1.shape",
   "id": "2651601db22085ba",
   "outputs": [
    {
     "data": {
      "text/plain": [
       "(11610, 8)"
      ]
     },
     "execution_count": 91,
     "metadata": {},
     "output_type": "execute_result"
    }
   ],
   "execution_count": 91
  },
  {
   "metadata": {
    "ExecuteTime": {
     "end_time": "2025-03-07T11:22:43.199785Z",
     "start_time": "2025-03-07T11:22:43.196326Z"
    }
   },
   "cell_type": "code",
   "source": "X_validation.shape",
   "id": "d27717d2895f1136",
   "outputs": [
    {
     "data": {
      "text/plain": [
       "(3870, 8)"
      ]
     },
     "execution_count": 92,
     "metadata": {},
     "output_type": "execute_result"
    }
   ],
   "execution_count": 92
  },
  {
   "metadata": {},
   "cell_type": "markdown",
   "source": [
    "# Normalizing data\n",
    "using \"sklearn.preprocessing.StandardScaler\" function for normalizing data"
   ],
   "id": "d5f81b766123a41e"
  },
  {
   "metadata": {
    "ExecuteTime": {
     "end_time": "2025-03-07T11:22:43.249376Z",
     "start_time": "2025-03-07T11:22:43.243303Z"
    }
   },
   "cell_type": "code",
   "source": [
    "sc = StandardScaler()\n",
    "X_train_s = sc.fit_transform(X_train1)\n",
    "X_validation_s = sc.fit_transform(X_validation)\n",
    "X_test_s = sc.transform(X_test)"
   ],
   "id": "39ad728b48eedb89",
   "outputs": [],
   "execution_count": 93
  },
  {
   "metadata": {},
   "cell_type": "markdown",
   "source": "--------------------------------",
   "id": "fbed35e2f026a826"
  },
  {
   "metadata": {
    "ExecuteTime": {
     "end_time": "2025-03-07T11:22:43.291992Z",
     "start_time": "2025-03-07T11:22:43.288440Z"
    }
   },
   "cell_type": "code",
   "source": "X_train0.shape[1:]",
   "id": "b8169f52f5191661",
   "outputs": [
    {
     "data": {
      "text/plain": [
       "(8,)"
      ]
     },
     "execution_count": 94,
     "metadata": {},
     "output_type": "execute_result"
    }
   ],
   "execution_count": 94
  },
  {
   "metadata": {
    "ExecuteTime": {
     "end_time": "2025-03-07T11:22:43.340772Z",
     "start_time": "2025-03-07T11:22:43.337205Z"
    }
   },
   "cell_type": "code",
   "source": [
    "X_train_s_1, X_train_s_2 = X_train_s[:, :6], X_train_s[:, :-4]\n",
    "X_validation_s_1, X_validation_s_2 = X_validation_s[:, :6], X_validation_s[:, :-4]\n",
    "X_test_s_1, X_test_s_2 = X_test_s[:, :6], X_test_s[:, :-4]"
   ],
   "id": "56ca04c53417051b",
   "outputs": [],
   "execution_count": 95
  },
  {
   "metadata": {},
   "cell_type": "markdown",
   "source": "# Subclass API",
   "id": "b2156c36e6cabac0"
  },
  {
   "metadata": {
    "ExecuteTime": {
     "end_time": "2025-03-07T11:22:43.390765Z",
     "start_time": "2025-03-07T11:22:43.385138Z"
    }
   },
   "cell_type": "code",
   "source": [
    "@register_keras_serializable()\n",
    "class WideAndDeepANN(keras.Model):\n",
    "    def __init__(self, activation=\"relu\", **kwargs):\n",
    "        super().__init__(**kwargs)\n",
    "        self.hidden_layer_1 = keras.layers.Dense(50, activation=activation)\n",
    "        self.hidden_layer_2 = keras.layers.Dense(10, activation=activation)\n",
    "        self.final_output = keras.layers.Dense(1)\n",
    "        self.helper_output = keras.layers.Dense(1)\n",
    "\n",
    "    def call(self, inputs):\n",
    "        input_1, input_2 = inputs\n",
    "        h1_out = self.hidden_layer_1(input_1)\n",
    "        h2_out = self.hidden_layer_2(h1_out)\n",
    "        concat_out = keras.layers.concatenate([input_2, h2_out])\n",
    "        final_out = self.final_output(concat_out)\n",
    "        helper_out = self.helper_output(h2_out)\n",
    "        return final_out, helper_out"
   ],
   "id": "87277cd5c924d740",
   "outputs": [],
   "execution_count": 96
  },
  {
   "metadata": {
    "ExecuteTime": {
     "end_time": "2025-03-07T11:22:43.441761Z",
     "start_time": "2025-03-07T11:22:43.434263Z"
    }
   },
   "cell_type": "code",
   "source": "model_f = WideAndDeepANN()",
   "id": "22d31a6fe56ef937",
   "outputs": [],
   "execution_count": 97
  },
  {
   "metadata": {},
   "cell_type": "markdown",
   "source": "# Compile Model",
   "id": "3afb0615e386c186"
  },
  {
   "metadata": {
    "ExecuteTime": {
     "end_time": "2025-03-07T11:22:43.510052Z",
     "start_time": "2025-03-07T11:22:43.489390Z"
    }
   },
   "cell_type": "code",
   "source": [
    "model_f.compile(loss = [\"mse\", \"mse\"],\n",
    "              loss_weights = [0.8, 0.2],\n",
    "              optimizer = \"sgd\",\n",
    "              metrics = [[\"mean_absolute_error\"], [\"mean_absolute_error\"]])"
   ],
   "id": "14cc03cd63b39d85",
   "outputs": [],
   "execution_count": 98
  },
  {
   "metadata": {},
   "cell_type": "markdown",
   "source": "# Fit Model",
   "id": "cf33f932cd94362a"
  },
  {
   "metadata": {
    "ExecuteTime": {
     "end_time": "2025-03-07T11:23:00.396555Z",
     "start_time": "2025-03-07T11:22:43.543896Z"
    }
   },
   "cell_type": "code",
   "source": "model_f.fit((X_train_s_1, X_train_s_2),(Y_train1, Y_train1), epochs=30, validation_data = ((X_validation_s_1, X_validation_s_2), (Y_validation, Y_validation)))",
   "id": "45bd8391b47051f7",
   "outputs": [
    {
     "name": "stdout",
     "output_type": "stream",
     "text": [
      "Epoch 1/30\n",
      "\u001B[1m363/363\u001B[0m \u001B[32m━━━━━━━━━━━━━━━━━━━━\u001B[0m\u001B[37m\u001B[0m \u001B[1m1s\u001B[0m 2ms/step - loss: 1.6421 - mean_absolute_error: 0.8510 - mean_absolute_error_1: 1.1745 - mse_loss: 2.5214 - val_loss: 0.6468 - val_mean_absolute_error: 0.5684 - val_mean_absolute_error_1: 0.6399 - val_mse_loss: 0.7057\n",
      "Epoch 2/30\n",
      "\u001B[1m363/363\u001B[0m \u001B[32m━━━━━━━━━━━━━━━━━━━━\u001B[0m\u001B[37m\u001B[0m \u001B[1m1s\u001B[0m 1ms/step - loss: 0.6003 - mean_absolute_error: 0.5565 - mean_absolute_error_1: 0.6127 - mse_loss: 0.6547 - val_loss: 0.5762 - val_mean_absolute_error: 0.5543 - val_mean_absolute_error_1: 0.5857 - val_mse_loss: 0.6016\n",
      "Epoch 3/30\n",
      "\u001B[1m363/363\u001B[0m \u001B[32m━━━━━━━━━━━━━━━━━━━━\u001B[0m\u001B[37m\u001B[0m \u001B[1m1s\u001B[0m 1ms/step - loss: 0.5820 - mean_absolute_error: 0.5542 - mean_absolute_error_1: 0.5688 - mse_loss: 0.5935 - val_loss: 0.5600 - val_mean_absolute_error: 0.5559 - val_mean_absolute_error_1: 0.5875 - val_mse_loss: 0.5913\n",
      "Epoch 4/30\n",
      "\u001B[1m363/363\u001B[0m \u001B[32m━━━━━━━━━━━━━━━━━━━━\u001B[0m\u001B[37m\u001B[0m \u001B[1m1s\u001B[0m 1ms/step - loss: 0.5600 - mean_absolute_error: 0.5511 - mean_absolute_error_1: 0.5568 - mse_loss: 0.5685 - val_loss: 0.6697 - val_mean_absolute_error: 0.5839 - val_mean_absolute_error_1: 0.6083 - val_mse_loss: 0.6333\n",
      "Epoch 5/30\n",
      "\u001B[1m363/363\u001B[0m \u001B[32m━━━━━━━━━━━━━━━━━━━━\u001B[0m\u001B[37m\u001B[0m \u001B[1m1s\u001B[0m 1ms/step - loss: 0.5530 - mean_absolute_error: 0.5434 - mean_absolute_error_1: 0.5401 - mse_loss: 0.5413 - val_loss: 0.6240 - val_mean_absolute_error: 0.5943 - val_mean_absolute_error_1: 0.6300 - val_mse_loss: 0.6744\n",
      "Epoch 6/30\n",
      "\u001B[1m363/363\u001B[0m \u001B[32m━━━━━━━━━━━━━━━━━━━━\u001B[0m\u001B[37m\u001B[0m \u001B[1m1s\u001B[0m 1ms/step - loss: 0.5234 - mean_absolute_error: 0.5268 - mean_absolute_error_1: 0.5286 - mse_loss: 0.5281 - val_loss: 0.7907 - val_mean_absolute_error: 0.6751 - val_mean_absolute_error_1: 0.7016 - val_mse_loss: 0.8253\n",
      "Epoch 7/30\n",
      "\u001B[1m363/363\u001B[0m \u001B[32m━━━━━━━━━━━━━━━━━━━━\u001B[0m\u001B[37m\u001B[0m \u001B[1m1s\u001B[0m 1ms/step - loss: 0.5149 - mean_absolute_error: 0.5254 - mean_absolute_error_1: 0.5221 - mse_loss: 0.5141 - val_loss: 0.9152 - val_mean_absolute_error: 0.7291 - val_mean_absolute_error_1: 0.7554 - val_mse_loss: 0.9661\n",
      "Epoch 8/30\n",
      "\u001B[1m363/363\u001B[0m \u001B[32m━━━━━━━━━━━━━━━━━━━━\u001B[0m\u001B[37m\u001B[0m \u001B[1m1s\u001B[0m 1ms/step - loss: 0.4979 - mean_absolute_error: 0.5153 - mean_absolute_error_1: 0.5128 - mse_loss: 0.4978 - val_loss: 1.1826 - val_mean_absolute_error: 0.8246 - val_mean_absolute_error_1: 0.8414 - val_mse_loss: 1.2165\n",
      "Epoch 9/30\n",
      "\u001B[1m363/363\u001B[0m \u001B[32m━━━━━━━━━━━━━━━━━━━━\u001B[0m\u001B[37m\u001B[0m \u001B[1m1s\u001B[0m 1ms/step - loss: 0.5072 - mean_absolute_error: 0.5165 - mean_absolute_error_1: 0.5156 - mse_loss: 0.5100 - val_loss: 1.5399 - val_mean_absolute_error: 0.9385 - val_mean_absolute_error_1: 0.9414 - val_mse_loss: 1.5340\n",
      "Epoch 10/30\n",
      "\u001B[1m363/363\u001B[0m \u001B[32m━━━━━━━━━━━━━━━━━━━━\u001B[0m\u001B[37m\u001B[0m \u001B[1m1s\u001B[0m 1ms/step - loss: 0.4912 - mean_absolute_error: 0.5082 - mean_absolute_error_1: 0.5073 - mse_loss: 0.4931 - val_loss: 1.8153 - val_mean_absolute_error: 1.0175 - val_mean_absolute_error_1: 1.0061 - val_mse_loss: 1.7709\n",
      "Epoch 11/30\n",
      "\u001B[1m363/363\u001B[0m \u001B[32m━━━━━━━━━━━━━━━━━━━━\u001B[0m\u001B[37m\u001B[0m \u001B[1m1s\u001B[0m 1ms/step - loss: 0.4620 - mean_absolute_error: 0.4938 - mean_absolute_error_1: 0.4955 - mse_loss: 0.4658 - val_loss: 2.3148 - val_mean_absolute_error: 1.1403 - val_mean_absolute_error_1: 1.1210 - val_mse_loss: 2.2273\n",
      "Epoch 12/30\n",
      "\u001B[1m363/363\u001B[0m \u001B[32m━━━━━━━━━━━━━━━━━━━━\u001B[0m\u001B[37m\u001B[0m \u001B[1m1s\u001B[0m 1ms/step - loss: 0.4720 - mean_absolute_error: 0.5011 - mean_absolute_error_1: 0.5039 - mse_loss: 0.4767 - val_loss: 2.5720 - val_mean_absolute_error: 1.2009 - val_mean_absolute_error_1: 1.1773 - val_mse_loss: 2.4800\n",
      "Epoch 13/30\n",
      "\u001B[1m363/363\u001B[0m \u001B[32m━━━━━━━━━━━━━━━━━━━━\u001B[0m\u001B[37m\u001B[0m \u001B[1m1s\u001B[0m 1ms/step - loss: 0.4635 - mean_absolute_error: 0.4911 - mean_absolute_error_1: 0.4920 - mse_loss: 0.4665 - val_loss: 3.2283 - val_mean_absolute_error: 1.3391 - val_mean_absolute_error_1: 1.2955 - val_mse_loss: 3.0261\n",
      "Epoch 14/30\n",
      "\u001B[1m363/363\u001B[0m \u001B[32m━━━━━━━━━━━━━━━━━━━━\u001B[0m\u001B[37m\u001B[0m \u001B[1m1s\u001B[0m 1ms/step - loss: 0.4633 - mean_absolute_error: 0.4950 - mean_absolute_error_1: 0.4976 - mse_loss: 0.4686 - val_loss: 3.3184 - val_mean_absolute_error: 1.3460 - val_mean_absolute_error_1: 1.3172 - val_mse_loss: 3.1675\n",
      "Epoch 15/30\n",
      "\u001B[1m363/363\u001B[0m \u001B[32m━━━━━━━━━━━━━━━━━━━━\u001B[0m\u001B[37m\u001B[0m \u001B[1m1s\u001B[0m 1ms/step - loss: 0.4339 - mean_absolute_error: 0.4835 - mean_absolute_error_1: 0.4870 - mse_loss: 0.4383 - val_loss: 3.8100 - val_mean_absolute_error: 1.4415 - val_mean_absolute_error_1: 1.4034 - val_mse_loss: 3.6217\n",
      "Epoch 16/30\n",
      "\u001B[1m363/363\u001B[0m \u001B[32m━━━━━━━━━━━━━━━━━━━━\u001B[0m\u001B[37m\u001B[0m \u001B[1m1s\u001B[0m 1ms/step - loss: 0.4382 - mean_absolute_error: 0.4822 - mean_absolute_error_1: 0.4837 - mse_loss: 0.4410 - val_loss: 4.4457 - val_mean_absolute_error: 1.5486 - val_mean_absolute_error_1: 1.5009 - val_mse_loss: 4.1847\n",
      "Epoch 17/30\n",
      "\u001B[1m363/363\u001B[0m \u001B[32m━━━━━━━━━━━━━━━━━━━━\u001B[0m\u001B[37m\u001B[0m \u001B[1m1s\u001B[0m 1ms/step - loss: 0.4381 - mean_absolute_error: 0.4837 - mean_absolute_error_1: 0.4860 - mse_loss: 0.4404 - val_loss: 4.6857 - val_mean_absolute_error: 1.5845 - val_mean_absolute_error_1: 1.5395 - val_mse_loss: 4.4123\n",
      "Epoch 18/30\n",
      "\u001B[1m363/363\u001B[0m \u001B[32m━━━━━━━━━━━━━━━━━━━━\u001B[0m\u001B[37m\u001B[0m \u001B[1m1s\u001B[0m 1ms/step - loss: 0.4325 - mean_absolute_error: 0.4830 - mean_absolute_error_1: 0.4840 - mse_loss: 0.4330 - val_loss: 4.8365 - val_mean_absolute_error: 1.5962 - val_mean_absolute_error_1: 1.5748 - val_mse_loss: 4.6876\n",
      "Epoch 19/30\n",
      "\u001B[1m363/363\u001B[0m \u001B[32m━━━━━━━━━━━━━━━━━━━━\u001B[0m\u001B[37m\u001B[0m \u001B[1m1s\u001B[0m 1ms/step - loss: 0.4304 - mean_absolute_error: 0.4790 - mean_absolute_error_1: 0.4831 - mse_loss: 0.4347 - val_loss: 5.3823 - val_mean_absolute_error: 1.6877 - val_mean_absolute_error_1: 1.6483 - val_mse_loss: 5.1350\n",
      "Epoch 20/30\n",
      "\u001B[1m363/363\u001B[0m \u001B[32m━━━━━━━━━━━━━━━━━━━━\u001B[0m\u001B[37m\u001B[0m \u001B[1m1s\u001B[0m 1ms/step - loss: 0.4366 - mean_absolute_error: 0.4806 - mean_absolute_error_1: 0.4828 - mse_loss: 0.4389 - val_loss: 5.7263 - val_mean_absolute_error: 1.7270 - val_mean_absolute_error_1: 1.7112 - val_mse_loss: 5.5775\n",
      "Epoch 21/30\n",
      "\u001B[1m363/363\u001B[0m \u001B[32m━━━━━━━━━━━━━━━━━━━━\u001B[0m\u001B[37m\u001B[0m \u001B[1m1s\u001B[0m 1ms/step - loss: 0.4285 - mean_absolute_error: 0.4799 - mean_absolute_error_1: 0.4835 - mse_loss: 0.4318 - val_loss: 6.1292 - val_mean_absolute_error: 1.7909 - val_mean_absolute_error_1: 1.7671 - val_mse_loss: 5.9556\n",
      "Epoch 22/30\n",
      "\u001B[1m363/363\u001B[0m \u001B[32m━━━━━━━━━━━━━━━━━━━━\u001B[0m\u001B[37m\u001B[0m \u001B[1m1s\u001B[0m 1ms/step - loss: 0.4344 - mean_absolute_error: 0.4806 - mean_absolute_error_1: 0.4851 - mse_loss: 0.4374 - val_loss: 6.4819 - val_mean_absolute_error: 1.8208 - val_mean_absolute_error_1: 1.8074 - val_mse_loss: 6.3115\n",
      "Epoch 23/30\n",
      "\u001B[1m363/363\u001B[0m \u001B[32m━━━━━━━━━━━━━━━━━━━━\u001B[0m\u001B[37m\u001B[0m \u001B[1m1s\u001B[0m 1ms/step - loss: 0.4419 - mean_absolute_error: 0.4848 - mean_absolute_error_1: 0.4883 - mse_loss: 0.4457 - val_loss: 6.4881 - val_mean_absolute_error: 1.8121 - val_mean_absolute_error_1: 1.8154 - val_mse_loss: 6.4229\n",
      "Epoch 24/30\n",
      "\u001B[1m363/363\u001B[0m \u001B[32m━━━━━━━━━━━━━━━━━━━━\u001B[0m\u001B[37m\u001B[0m \u001B[1m1s\u001B[0m 1ms/step - loss: 0.4237 - mean_absolute_error: 0.4737 - mean_absolute_error_1: 0.4772 - mse_loss: 0.4269 - val_loss: 6.6808 - val_mean_absolute_error: 1.8302 - val_mean_absolute_error_1: 1.8450 - val_mse_loss: 6.6776\n",
      "Epoch 25/30\n",
      "\u001B[1m363/363\u001B[0m \u001B[32m━━━━━━━━━━━━━━━━━━━━\u001B[0m\u001B[37m\u001B[0m \u001B[1m1s\u001B[0m 1ms/step - loss: 0.4443 - mean_absolute_error: 0.4870 - mean_absolute_error_1: 0.4911 - mse_loss: 0.4473 - val_loss: 6.9616 - val_mean_absolute_error: 1.8616 - val_mean_absolute_error_1: 1.8740 - val_mse_loss: 6.9379\n",
      "Epoch 26/30\n",
      "\u001B[1m363/363\u001B[0m \u001B[32m━━━━━━━━━━━━━━━━━━━━\u001B[0m\u001B[37m\u001B[0m \u001B[1m1s\u001B[0m 1ms/step - loss: 0.4468 - mean_absolute_error: 0.4856 - mean_absolute_error_1: 0.4881 - mse_loss: 0.4499 - val_loss: 7.6279 - val_mean_absolute_error: 1.9527 - val_mean_absolute_error_1: 1.9746 - val_mse_loss: 7.6753\n",
      "Epoch 27/30\n",
      "\u001B[1m363/363\u001B[0m \u001B[32m━━━━━━━━━━━━━━━━━━━━\u001B[0m\u001B[37m\u001B[0m \u001B[1m1s\u001B[0m 1ms/step - loss: 0.4352 - mean_absolute_error: 0.4830 - mean_absolute_error_1: 0.4853 - mse_loss: 0.4390 - val_loss: 8.4093 - val_mean_absolute_error: 2.0416 - val_mean_absolute_error_1: 2.0462 - val_mse_loss: 8.3323\n",
      "Epoch 28/30\n",
      "\u001B[1m363/363\u001B[0m \u001B[32m━━━━━━━━━━━━━━━━━━━━\u001B[0m\u001B[37m\u001B[0m \u001B[1m1s\u001B[0m 1ms/step - loss: 0.4263 - mean_absolute_error: 0.4763 - mean_absolute_error_1: 0.4806 - mse_loss: 0.4312 - val_loss: 7.9815 - val_mean_absolute_error: 1.9723 - val_mean_absolute_error_1: 2.0056 - val_mse_loss: 8.0918\n",
      "Epoch 29/30\n",
      "\u001B[1m363/363\u001B[0m \u001B[32m━━━━━━━━━━━━━━━━━━━━\u001B[0m\u001B[37m\u001B[0m \u001B[1m1s\u001B[0m 1ms/step - loss: 0.4217 - mean_absolute_error: 0.4715 - mean_absolute_error_1: 0.4763 - mse_loss: 0.4258 - val_loss: 8.6447 - val_mean_absolute_error: 2.0522 - val_mean_absolute_error_1: 2.0815 - val_mse_loss: 8.7322\n",
      "Epoch 30/30\n",
      "\u001B[1m363/363\u001B[0m \u001B[32m━━━━━━━━━━━━━━━━━━━━\u001B[0m\u001B[37m\u001B[0m \u001B[1m1s\u001B[0m 1ms/step - loss: 0.4290 - mean_absolute_error: 0.4783 - mean_absolute_error_1: 0.4847 - mse_loss: 0.4344 - val_loss: 8.4699 - val_mean_absolute_error: 2.0145 - val_mean_absolute_error_1: 2.0697 - val_mse_loss: 8.7266\n"
     ]
    },
    {
     "data": {
      "text/plain": [
       "<keras.src.callbacks.history.History at 0x72b3696b2110>"
      ]
     },
     "execution_count": 99,
     "metadata": {},
     "output_type": "execute_result"
    }
   ],
   "execution_count": 99
  },
  {
   "metadata": {
    "ExecuteTime": {
     "end_time": "2025-03-07T11:23:00.427339Z",
     "start_time": "2025-03-07T11:23:00.409950Z"
    }
   },
   "cell_type": "code",
   "source": "model_f.save(\"housing_reg_model.keras\")",
   "id": "f32d9e361b90b7f",
   "outputs": [],
   "execution_count": 100
  },
  {
   "metadata": {
    "ExecuteTime": {
     "end_time": "2025-03-07T11:23:00.508843Z",
     "start_time": "2025-03-07T11:23:00.452991Z"
    }
   },
   "cell_type": "code",
   "source": "model_f_reg = keras.models.load_model(\"housing_reg_model.keras\")",
   "id": "1f88563f82446f89",
   "outputs": [],
   "execution_count": 101
  },
  {
   "metadata": {
    "ExecuteTime": {
     "end_time": "2025-03-07T11:23:00.524068Z",
     "start_time": "2025-03-07T11:23:00.522460Z"
    }
   },
   "cell_type": "code",
   "source": "",
   "id": "53cbe69ee7cedf33",
   "outputs": [],
   "execution_count": null
  }
 ],
 "metadata": {
  "kernelspec": {
   "name": "python3",
   "language": "python",
   "display_name": "Python 3 (ipykernel)"
  }
 },
 "nbformat": 5,
 "nbformat_minor": 9
}
