{
 "cells": [
  {
   "metadata": {},
   "cell_type": "code",
   "source": [
    "import tensorflow as tf\n",
    "from tensorflow import keras\n",
    "from sklearn.datasets import fetch_california_housing\n",
    "from sklearn.model_selection import train_test_split\n",
    "from sklearn.preprocessing import StandardScaler"
   ],
   "id": "50f534d73f333375",
   "outputs": [],
   "execution_count": null
  },
  {
   "metadata": {},
   "cell_type": "code",
   "source": [
    "california_housing = fetch_california_housing()\n",
    "california_housing"
   ],
   "id": "a64bbb9b26724c56",
   "outputs": [],
   "execution_count": null
  },
  {
   "metadata": {},
   "cell_type": "markdown",
   "source": "# Splitting data into train and test.",
   "id": "d4ee5c97c4d08ff1"
  },
  {
   "metadata": {},
   "cell_type": "code",
   "source": "X_train0, X_test, Y_train0, Y_test  = train_test_split(california_housing[\"data\"], california_housing[\"target\"])",
   "id": "1d03ad96117cd460",
   "outputs": [],
   "execution_count": null
  },
  {
   "metadata": {},
   "cell_type": "code",
   "source": "X_train1, X_validation, Y_train1, Y_validation = train_test_split(X_train0, Y_train0)",
   "id": "165c71bb28853765",
   "outputs": [],
   "execution_count": null
  },
  {
   "metadata": {},
   "cell_type": "code",
   "source": "X_test.shape",
   "id": "5e19fafead3ba97b",
   "outputs": [],
   "execution_count": null
  },
  {
   "metadata": {},
   "cell_type": "code",
   "source": "X_train0.shape",
   "id": "54fcacd6a1611d22",
   "outputs": [],
   "execution_count": null
  },
  {
   "metadata": {},
   "cell_type": "code",
   "source": "X_train1.shape",
   "id": "2651601db22085ba",
   "outputs": [],
   "execution_count": null
  },
  {
   "metadata": {},
   "cell_type": "code",
   "source": "X_validation.shape",
   "id": "d27717d2895f1136",
   "outputs": [],
   "execution_count": null
  },
  {
   "metadata": {},
   "cell_type": "markdown",
   "source": [
    "# Normalizing data\n",
    "using \"sklearn.preprocessing.StandardScaler\" function for normalizing data"
   ],
   "id": "d5f81b766123a41e"
  },
  {
   "metadata": {},
   "cell_type": "code",
   "source": [
    "sc = StandardScaler()\n",
    "X_train_s = sc.fit_transform(X_train1)\n",
    "X_validation_s = sc.fit_transform(X_validation)\n",
    "X_test_s = sc.transform(X_test)"
   ],
   "id": "39ad728b48eedb89",
   "outputs": [],
   "execution_count": null
  },
  {
   "metadata": {},
   "cell_type": "markdown",
   "source": "--------------------------------",
   "id": "fbed35e2f026a826"
  },
  {
   "metadata": {},
   "cell_type": "code",
   "source": "X_train0.shape[1:]",
   "id": "b8169f52f5191661",
   "outputs": [],
   "execution_count": null
  },
  {
   "metadata": {},
   "cell_type": "code",
   "source": [
    "X_train_s_1, X_train_s_2 = X_train_s[:, :6], X_train_s[:, :-4]\n",
    "X_validation_s_1, X_validation_s_2 = X_validation_s[:, :6], X_validation_s[:, :-4]\n",
    "X_test_s_1, X_test_s_2 = X_test_s[:, :6], X_test_s[:, :-4]"
   ],
   "id": "56ca04c53417051b",
   "outputs": [],
   "execution_count": null
  },
  {
   "metadata": {},
   "cell_type": "markdown",
   "source": "# Subclass API",
   "id": "b2156c36e6cabac0"
  },
  {
   "metadata": {},
   "cell_type": "code",
   "source": [
    "class WideAndDeepANN(keras.Model):\n",
    "    def __init__(self, activation=\"relu\", **kwargs):\n",
    "        super().__init__(**kwargs)\n",
    "        self.hidden_layer_1 = keras.layers.Dense(50, activation=activation)\n",
    "        self.hidden_layer_2 = keras.layers.Dense(10, activation=activation)\n",
    "        self.final_output = keras.layers.Dense(1)\n",
    "        self.helper_output = keras.layers.Dense(1)\n",
    "\n",
    "    def call(self, inputs):\n",
    "        input_1, input_2 = inputs\n",
    "        h1_out = self.hidden_layer_1(input_1)\n",
    "        h2_out = self.hidden_layer_2(h1_out)\n",
    "        concat_out = keras.layers.concatenate([input_2, h2_out])\n",
    "        final_out = self.final_output(concat_out)\n",
    "        helper_out = self.helper_output(h2_out)\n",
    "        return final_out, helper_out"
   ],
   "id": "87277cd5c924d740",
   "outputs": [],
   "execution_count": null
  },
  {
   "metadata": {},
   "cell_type": "code",
   "source": "model = WideAndDeepANN()",
   "id": "22d31a6fe56ef937",
   "outputs": [],
   "execution_count": null
  },
  {
   "metadata": {},
   "cell_type": "markdown",
   "source": "# Compile Model",
   "id": "3afb0615e386c186"
  },
  {
   "metadata": {},
   "cell_type": "code",
   "source": [
    "model.compile(loss = [\"mse\", \"mse\"],\n",
    "              loss_weights = [0.8, 0.2],\n",
    "              optimizer = \"sgd\",\n",
    "              metrics = [[\"mean_absolute_error\"], [\"mean_absolute_error\"]])"
   ],
   "id": "14cc03cd63b39d85",
   "outputs": [],
   "execution_count": null
  },
  {
   "metadata": {},
   "cell_type": "markdown",
   "source": "# Fit Model",
   "id": "cf33f932cd94362a"
  },
  {
   "metadata": {},
   "cell_type": "code",
   "source": "model.fit((X_train_s_1, X_train_s_2),(Y_train1, Y_train1), epochs=30, validation_data = ((X_validation_s_1, X_validation_s_2), (Y_validation, Y_validation)))",
   "id": "45bd8391b47051f7",
   "outputs": [],
   "execution_count": null
  }
 ],
 "metadata": {
  "kernelspec": {
   "name": "python3",
   "language": "python",
   "display_name": "Python 3 (ipykernel)"
  }
 },
 "nbformat": 5,
 "nbformat_minor": 9
}
