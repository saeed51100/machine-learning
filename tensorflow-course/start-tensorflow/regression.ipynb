{
 "cells": [
  {
   "metadata": {},
   "cell_type": "code",
   "source": [
    "import tensorflow as tf\n",
    "from tensorflow import keras\n",
    "from sklearn.datasets import fetch_california_housing\n",
    "from sklearn.model_selection import train_test_split"
   ],
   "id": "50f534d73f333375",
   "outputs": [],
   "execution_count": null
  },
  {
   "metadata": {},
   "cell_type": "code",
   "source": [
    "california_housing = fetch_california_housing()\n",
    "california_housing"
   ],
   "id": "a64bbb9b26724c56",
   "outputs": [],
   "execution_count": null
  },
  {
   "metadata": {},
   "cell_type": "markdown",
   "source": "# Splitting data into train and test.",
   "id": "d4ee5c97c4d08ff1"
  },
  {
   "metadata": {},
   "cell_type": "code",
   "source": "X_train0, X_test, Y_train0, Y_test  = train_test_split(california_housing[\"data\"], california_housing[\"target\"])",
   "id": "1d03ad96117cd460",
   "outputs": [],
   "execution_count": null
  },
  {
   "metadata": {},
   "cell_type": "code",
   "source": "X_train1, X_validation, Y_train1, Y_validation = train_test_split(X_train0, Y_train0)",
   "id": "165c71bb28853765",
   "outputs": [],
   "execution_count": null
  },
  {
   "metadata": {},
   "cell_type": "code",
   "source": "X_test.shape",
   "id": "5e19fafead3ba97b",
   "outputs": [],
   "execution_count": null
  },
  {
   "metadata": {},
   "cell_type": "code",
   "source": "X_train0.shape",
   "id": "54fcacd6a1611d22",
   "outputs": [],
   "execution_count": null
  },
  {
   "metadata": {},
   "cell_type": "code",
   "source": "X_train1.shape",
   "id": "2651601db22085ba",
   "outputs": [],
   "execution_count": null
  },
  {
   "metadata": {},
   "cell_type": "code",
   "source": "X_validation.shape",
   "id": "d27717d2895f1136",
   "outputs": [],
   "execution_count": null
  },
  {
   "metadata": {},
   "cell_type": "markdown",
   "source": [
    "# Normalizing data\n",
    "using \"sklearn.preprocessing.StandardScaler\" function for normalizing data"
   ],
   "id": "d5f81b766123a41e"
  }
 ],
 "metadata": {
  "kernelspec": {
   "name": "python3",
   "language": "python",
   "display_name": "Python 3 (ipykernel)"
  }
 },
 "nbformat": 5,
 "nbformat_minor": 9
}
