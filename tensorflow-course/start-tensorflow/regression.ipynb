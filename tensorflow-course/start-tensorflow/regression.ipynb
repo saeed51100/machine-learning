{
 "cells": [
  {
   "metadata": {},
   "cell_type": "code",
   "outputs": [],
   "execution_count": null,
   "source": [
    "import tensorflow as tf\n",
    "from tensorflow import keras\n",
    "from sklearn.datasets import fetch_california_housing"
   ],
   "id": "50f534d73f333375"
  },
  {
   "metadata": {
    "ExecuteTime": {
     "end_time": "2025-03-02T10:03:17.391946Z",
     "start_time": "2025-03-02T10:03:17.347173Z"
    }
   },
   "cell_type": "code",
   "source": "fetch_california_housing()",
   "id": "a64bbb9b26724c56",
   "outputs": [
    {
     "ename": "NameError",
     "evalue": "name 'fetch_california_housing' is not defined",
     "output_type": "error",
     "traceback": [
      "\u001B[31m---------------------------------------------------------------------------\u001B[39m",
      "\u001B[31mNameError\u001B[39m                                 Traceback (most recent call last)",
      "\u001B[36mCell\u001B[39m\u001B[36m \u001B[39m\u001B[32mIn[3]\u001B[39m\u001B[32m, line 1\u001B[39m\n\u001B[32m----> \u001B[39m\u001B[32m1\u001B[39m \u001B[43mfetch_california_housing\u001B[49m\n",
      "\u001B[31mNameError\u001B[39m: name 'fetch_california_housing' is not defined"
     ]
    }
   ],
   "execution_count": 3
  }
 ],
 "metadata": {
  "kernelspec": {
   "name": "python3",
   "language": "python",
   "display_name": "Python 3 (ipykernel)"
  }
 },
 "nbformat": 5,
 "nbformat_minor": 9
}
