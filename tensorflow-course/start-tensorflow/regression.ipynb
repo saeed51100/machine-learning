{
 "cells": [
  {
   "metadata": {},
   "cell_type": "code",
   "source": [
    "import tensorflow as tf\n",
    "from tensorflow import keras\n",
    "from sklearn.datasets import fetch_california_housing\n",
    "from sklearn.model_selection import train_test_split\n",
    "from sklearn.preprocessing import StandardScaler"
   ],
   "id": "50f534d73f333375",
   "outputs": [],
   "execution_count": null
  },
  {
   "metadata": {},
   "cell_type": "code",
   "source": [
    "california_housing = fetch_california_housing()\n",
    "california_housing"
   ],
   "id": "a64bbb9b26724c56",
   "outputs": [],
   "execution_count": null
  },
  {
   "metadata": {},
   "cell_type": "markdown",
   "source": "# Splitting data into train and test.",
   "id": "d4ee5c97c4d08ff1"
  },
  {
   "metadata": {
    "ExecuteTime": {
     "end_time": "2025-03-03T08:55:06.261446Z",
     "start_time": "2025-03-03T08:55:06.253206Z"
    }
   },
   "cell_type": "code",
   "source": "X_train0, X_test, Y_train0, Y_test  = train_test_split(california_housing[\"data\"], california_housing[\"target\"])",
   "id": "1d03ad96117cd460",
   "outputs": [],
   "execution_count": 14
  },
  {
   "metadata": {
    "ExecuteTime": {
     "end_time": "2025-03-03T08:55:08.243675Z",
     "start_time": "2025-03-03T08:55:08.233176Z"
    }
   },
   "cell_type": "code",
   "source": "X_train1, X_validation, Y_train1, Y_validation = train_test_split(X_train0, Y_train0)",
   "id": "165c71bb28853765",
   "outputs": [],
   "execution_count": 15
  },
  {
   "metadata": {
    "ExecuteTime": {
     "end_time": "2025-03-03T08:55:10.461505Z",
     "start_time": "2025-03-03T08:55:10.452074Z"
    }
   },
   "cell_type": "code",
   "source": "X_test.shape",
   "id": "5e19fafead3ba97b",
   "outputs": [
    {
     "data": {
      "text/plain": [
       "(5160, 8)"
      ]
     },
     "execution_count": 16,
     "metadata": {},
     "output_type": "execute_result"
    }
   ],
   "execution_count": 16
  },
  {
   "metadata": {
    "ExecuteTime": {
     "end_time": "2025-03-03T08:55:12.208128Z",
     "start_time": "2025-03-03T08:55:12.198341Z"
    }
   },
   "cell_type": "code",
   "source": "X_train0.shape",
   "id": "54fcacd6a1611d22",
   "outputs": [
    {
     "data": {
      "text/plain": [
       "(15480, 8)"
      ]
     },
     "execution_count": 17,
     "metadata": {},
     "output_type": "execute_result"
    }
   ],
   "execution_count": 17
  },
  {
   "metadata": {
    "ExecuteTime": {
     "end_time": "2025-03-03T08:55:15.612321Z",
     "start_time": "2025-03-03T08:55:15.603064Z"
    }
   },
   "cell_type": "code",
   "source": "X_train1.shape",
   "id": "2651601db22085ba",
   "outputs": [
    {
     "data": {
      "text/plain": [
       "(11610, 8)"
      ]
     },
     "execution_count": 18,
     "metadata": {},
     "output_type": "execute_result"
    }
   ],
   "execution_count": 18
  },
  {
   "metadata": {
    "ExecuteTime": {
     "end_time": "2025-03-03T08:55:17.270953Z",
     "start_time": "2025-03-03T08:55:17.259454Z"
    }
   },
   "cell_type": "code",
   "source": "X_validation.shape",
   "id": "d27717d2895f1136",
   "outputs": [
    {
     "data": {
      "text/plain": [
       "(3870, 8)"
      ]
     },
     "execution_count": 19,
     "metadata": {},
     "output_type": "execute_result"
    }
   ],
   "execution_count": 19
  },
  {
   "metadata": {},
   "cell_type": "markdown",
   "source": [
    "# Normalizing data\n",
    "using \"sklearn.preprocessing.StandardScaler\" function for normalizing data"
   ],
   "id": "d5f81b766123a41e"
  },
  {
   "metadata": {
    "ExecuteTime": {
     "end_time": "2025-03-03T08:56:30.356295Z",
     "start_time": "2025-03-03T08:56:30.341490Z"
    }
   },
   "cell_type": "code",
   "source": [
    "sc = StandardScaler()\n",
    "X_train_s = sc.fit_transform(X_train1)\n",
    "X_validation = sc.fit_transform(X_validation)\n",
    "X_test_s = sc.transform(X_test)"
   ],
   "id": "39ad728b48eedb89",
   "outputs": [],
   "execution_count": 23
  },
  {
   "metadata": {},
   "cell_type": "markdown",
   "source": "# Define Model",
   "id": "fe3209cfccc302dc"
  },
  {
   "metadata": {
    "ExecuteTime": {
     "end_time": "2025-03-03T08:59:49.497625Z",
     "start_time": "2025-03-03T08:59:49.482507Z"
    }
   },
   "cell_type": "code",
   "source": [
    "model = keras.models.Sequential([\n",
    "    keras.layers.Dense(50 , activation = \"relu\"),\n",
    "    keras.layers.Dense(10 , activation = \"relu\"),\n",
    "    keras.layers.Dense(1)\n",
    "])"
   ],
   "id": "5ba1b2ac0280ad0",
   "outputs": [],
   "execution_count": 25
  },
  {
   "metadata": {},
   "cell_type": "markdown",
   "source": "# Compile Model",
   "id": "c1d774de2db88dd"
  },
  {
   "metadata": {
    "ExecuteTime": {
     "end_time": "2025-03-03T09:00:03.015286Z",
     "start_time": "2025-03-03T09:00:03.001464Z"
    }
   },
   "cell_type": "code",
   "source": [
    "model.compile(loss = \"mean_squared_error\",\n",
    "              optimizer = \"sgd\",\n",
    "              metrics = [\"mean_absolute_error\"])"
   ],
   "id": "f6b7724568ed26a1",
   "outputs": [],
   "execution_count": 27
  },
  {
   "metadata": {},
   "cell_type": "markdown",
   "source": "# Fit Model",
   "id": "d5ca902e595f470b"
  },
  {
   "metadata": {
    "ExecuteTime": {
     "end_time": "2025-03-03T09:09:32.280184Z",
     "start_time": "2025-03-03T09:08:55.610335Z"
    }
   },
   "cell_type": "code",
   "source": "model.fit(X_train_s, Y_train1, epochs=30, validation_data = (X_validation, Y_validation))",
   "id": "556ebe027f15ddc5",
   "outputs": [
    {
     "name": "stdout",
     "output_type": "stream",
     "text": [
      "Epoch 1/30\n",
      "\u001B[1m363/363\u001B[0m \u001B[32m━━━━━━━━━━━━━━━━━━━━\u001B[0m\u001B[37m\u001B[0m \u001B[1m3s\u001B[0m 5ms/step - loss: 1.3744 - mean_absolute_error: 0.8053 - val_loss: 0.5555 - val_mean_absolute_error: 0.5128\n",
      "Epoch 2/30\n",
      "\u001B[1m363/363\u001B[0m \u001B[32m━━━━━━━━━━━━━━━━━━━━\u001B[0m\u001B[37m\u001B[0m \u001B[1m1s\u001B[0m 3ms/step - loss: 0.5567 - mean_absolute_error: 0.5105 - val_loss: 0.4042 - val_mean_absolute_error: 0.4589\n",
      "Epoch 3/30\n",
      "\u001B[1m363/363\u001B[0m \u001B[32m━━━━━━━━━━━━━━━━━━━━\u001B[0m\u001B[37m\u001B[0m \u001B[1m1s\u001B[0m 3ms/step - loss: 0.4572 - mean_absolute_error: 0.4859 - val_loss: 0.4082 - val_mean_absolute_error: 0.4798\n",
      "Epoch 4/30\n",
      "\u001B[1m363/363\u001B[0m \u001B[32m━━━━━━━━━━━━━━━━━━━━\u001B[0m\u001B[37m\u001B[0m \u001B[1m1s\u001B[0m 3ms/step - loss: 0.4157 - mean_absolute_error: 0.4642 - val_loss: 0.3737 - val_mean_absolute_error: 0.4366\n",
      "Epoch 5/30\n",
      "\u001B[1m363/363\u001B[0m \u001B[32m━━━━━━━━━━━━━━━━━━━━\u001B[0m\u001B[37m\u001B[0m \u001B[1m1s\u001B[0m 3ms/step - loss: 0.4040 - mean_absolute_error: 0.4558 - val_loss: 0.3936 - val_mean_absolute_error: 0.4640\n",
      "Epoch 6/30\n",
      "\u001B[1m363/363\u001B[0m \u001B[32m━━━━━━━━━━━━━━━━━━━━\u001B[0m\u001B[37m\u001B[0m \u001B[1m1s\u001B[0m 3ms/step - loss: 0.3809 - mean_absolute_error: 0.4419 - val_loss: 0.3740 - val_mean_absolute_error: 0.4401\n",
      "Epoch 7/30\n",
      "\u001B[1m363/363\u001B[0m \u001B[32m━━━━━━━━━━━━━━━━━━━━\u001B[0m\u001B[37m\u001B[0m \u001B[1m1s\u001B[0m 3ms/step - loss: 0.3964 - mean_absolute_error: 0.4509 - val_loss: 0.3763 - val_mean_absolute_error: 0.4399\n",
      "Epoch 8/30\n",
      "\u001B[1m363/363\u001B[0m \u001B[32m━━━━━━━━━━━━━━━━━━━━\u001B[0m\u001B[37m\u001B[0m \u001B[1m1s\u001B[0m 3ms/step - loss: 0.3785 - mean_absolute_error: 0.4404 - val_loss: 0.3747 - val_mean_absolute_error: 0.4441\n",
      "Epoch 9/30\n",
      "\u001B[1m363/363\u001B[0m \u001B[32m━━━━━━━━━━━━━━━━━━━━\u001B[0m\u001B[37m\u001B[0m \u001B[1m1s\u001B[0m 3ms/step - loss: 0.3727 - mean_absolute_error: 0.4351 - val_loss: 0.3704 - val_mean_absolute_error: 0.4419\n",
      "Epoch 10/30\n",
      "\u001B[1m363/363\u001B[0m \u001B[32m━━━━━━━━━━━━━━━━━━━━\u001B[0m\u001B[37m\u001B[0m \u001B[1m1s\u001B[0m 3ms/step - loss: 0.3661 - mean_absolute_error: 0.4291 - val_loss: 0.3974 - val_mean_absolute_error: 0.4659\n",
      "Epoch 11/30\n",
      "\u001B[1m363/363\u001B[0m \u001B[32m━━━━━━━━━━━━━━━━━━━━\u001B[0m\u001B[37m\u001B[0m \u001B[1m1s\u001B[0m 3ms/step - loss: 0.3630 - mean_absolute_error: 0.4337 - val_loss: 0.3624 - val_mean_absolute_error: 0.4308\n",
      "Epoch 12/30\n",
      "\u001B[1m363/363\u001B[0m \u001B[32m━━━━━━━━━━━━━━━━━━━━\u001B[0m\u001B[37m\u001B[0m \u001B[1m1s\u001B[0m 3ms/step - loss: 0.3640 - mean_absolute_error: 0.4319 - val_loss: 0.3939 - val_mean_absolute_error: 0.4462\n",
      "Epoch 13/30\n",
      "\u001B[1m363/363\u001B[0m \u001B[32m━━━━━━━━━━━━━━━━━━━━\u001B[0m\u001B[37m\u001B[0m \u001B[1m1s\u001B[0m 3ms/step - loss: 0.3695 - mean_absolute_error: 0.4322 - val_loss: 0.3781 - val_mean_absolute_error: 0.4470\n",
      "Epoch 14/30\n",
      "\u001B[1m363/363\u001B[0m \u001B[32m━━━━━━━━━━━━━━━━━━━━\u001B[0m\u001B[37m\u001B[0m \u001B[1m1s\u001B[0m 3ms/step - loss: 0.3480 - mean_absolute_error: 0.4238 - val_loss: 0.3536 - val_mean_absolute_error: 0.4266\n",
      "Epoch 15/30\n",
      "\u001B[1m363/363\u001B[0m \u001B[32m━━━━━━━━━━━━━━━━━━━━\u001B[0m\u001B[37m\u001B[0m \u001B[1m1s\u001B[0m 3ms/step - loss: 0.3521 - mean_absolute_error: 0.4243 - val_loss: 0.3817 - val_mean_absolute_error: 0.4464\n",
      "Epoch 16/30\n",
      "\u001B[1m363/363\u001B[0m \u001B[32m━━━━━━━━━━━━━━━━━━━━\u001B[0m\u001B[37m\u001B[0m \u001B[1m1s\u001B[0m 3ms/step - loss: 0.3819 - mean_absolute_error: 0.4262 - val_loss: 0.3825 - val_mean_absolute_error: 0.4482\n",
      "Epoch 17/30\n",
      "\u001B[1m363/363\u001B[0m \u001B[32m━━━━━━━━━━━━━━━━━━━━\u001B[0m\u001B[37m\u001B[0m \u001B[1m1s\u001B[0m 3ms/step - loss: 0.3230 - mean_absolute_error: 0.4108 - val_loss: 0.3675 - val_mean_absolute_error: 0.4323\n",
      "Epoch 18/30\n",
      "\u001B[1m363/363\u001B[0m \u001B[32m━━━━━━━━━━━━━━━━━━━━\u001B[0m\u001B[37m\u001B[0m \u001B[1m1s\u001B[0m 3ms/step - loss: 0.3452 - mean_absolute_error: 0.4175 - val_loss: 0.4305 - val_mean_absolute_error: 0.4669\n",
      "Epoch 19/30\n",
      "\u001B[1m363/363\u001B[0m \u001B[32m━━━━━━━━━━━━━━━━━━━━\u001B[0m\u001B[37m\u001B[0m \u001B[1m1s\u001B[0m 3ms/step - loss: 0.3410 - mean_absolute_error: 0.4162 - val_loss: 0.3562 - val_mean_absolute_error: 0.4207\n",
      "Epoch 20/30\n",
      "\u001B[1m363/363\u001B[0m \u001B[32m━━━━━━━━━━━━━━━━━━━━\u001B[0m\u001B[37m\u001B[0m \u001B[1m1s\u001B[0m 3ms/step - loss: 0.3447 - mean_absolute_error: 0.4182 - val_loss: 0.3503 - val_mean_absolute_error: 0.4149\n",
      "Epoch 21/30\n",
      "\u001B[1m363/363\u001B[0m \u001B[32m━━━━━━━━━━━━━━━━━━━━\u001B[0m\u001B[37m\u001B[0m \u001B[1m1s\u001B[0m 4ms/step - loss: 0.3397 - mean_absolute_error: 0.4166 - val_loss: 0.3668 - val_mean_absolute_error: 0.4272\n",
      "Epoch 22/30\n",
      "\u001B[1m363/363\u001B[0m \u001B[32m━━━━━━━━━━━━━━━━━━━━\u001B[0m\u001B[37m\u001B[0m \u001B[1m1s\u001B[0m 4ms/step - loss: 0.3440 - mean_absolute_error: 0.4131 - val_loss: 0.3692 - val_mean_absolute_error: 0.4349\n",
      "Epoch 23/30\n",
      "\u001B[1m363/363\u001B[0m \u001B[32m━━━━━━━━━━━━━━━━━━━━\u001B[0m\u001B[37m\u001B[0m \u001B[1m1s\u001B[0m 3ms/step - loss: 0.3485 - mean_absolute_error: 0.4155 - val_loss: 0.3825 - val_mean_absolute_error: 0.4444\n",
      "Epoch 24/30\n",
      "\u001B[1m363/363\u001B[0m \u001B[32m━━━━━━━━━━━━━━━━━━━━\u001B[0m\u001B[37m\u001B[0m \u001B[1m1s\u001B[0m 3ms/step - loss: 0.3288 - mean_absolute_error: 0.4105 - val_loss: 0.3491 - val_mean_absolute_error: 0.4151\n",
      "Epoch 25/30\n",
      "\u001B[1m363/363\u001B[0m \u001B[32m━━━━━━━━━━━━━━━━━━━━\u001B[0m\u001B[37m\u001B[0m \u001B[1m1s\u001B[0m 3ms/step - loss: 0.3322 - mean_absolute_error: 0.4069 - val_loss: 0.4125 - val_mean_absolute_error: 0.4674\n",
      "Epoch 26/30\n",
      "\u001B[1m363/363\u001B[0m \u001B[32m━━━━━━━━━━━━━━━━━━━━\u001B[0m\u001B[37m\u001B[0m \u001B[1m1s\u001B[0m 3ms/step - loss: 0.3270 - mean_absolute_error: 0.4062 - val_loss: 0.3579 - val_mean_absolute_error: 0.4226\n",
      "Epoch 27/30\n",
      "\u001B[1m363/363\u001B[0m \u001B[32m━━━━━━━━━━━━━━━━━━━━\u001B[0m\u001B[37m\u001B[0m \u001B[1m1s\u001B[0m 3ms/step - loss: 0.3158 - mean_absolute_error: 0.3982 - val_loss: 0.3518 - val_mean_absolute_error: 0.4146\n",
      "Epoch 28/30\n",
      "\u001B[1m363/363\u001B[0m \u001B[32m━━━━━━━━━━━━━━━━━━━━\u001B[0m\u001B[37m\u001B[0m \u001B[1m1s\u001B[0m 3ms/step - loss: 0.3234 - mean_absolute_error: 0.4015 - val_loss: 0.4005 - val_mean_absolute_error: 0.4522\n",
      "Epoch 29/30\n",
      "\u001B[1m363/363\u001B[0m \u001B[32m━━━━━━━━━━━━━━━━━━━━\u001B[0m\u001B[37m\u001B[0m \u001B[1m1s\u001B[0m 3ms/step - loss: 0.3192 - mean_absolute_error: 0.3997 - val_loss: 0.4052 - val_mean_absolute_error: 0.4579\n",
      "Epoch 30/30\n",
      "\u001B[1m363/363\u001B[0m \u001B[32m━━━━━━━━━━━━━━━━━━━━\u001B[0m\u001B[37m\u001B[0m \u001B[1m1s\u001B[0m 3ms/step - loss: 0.3133 - mean_absolute_error: 0.3959 - val_loss: 0.3472 - val_mean_absolute_error: 0.4118\n"
     ]
    },
    {
     "data": {
      "text/plain": [
       "<keras.src.callbacks.history.History at 0x7962f425f450>"
      ]
     },
     "execution_count": 32,
     "metadata": {},
     "output_type": "execute_result"
    }
   ],
   "execution_count": 32
  }
 ],
 "metadata": {
  "kernelspec": {
   "name": "python3",
   "language": "python",
   "display_name": "Python 3 (ipykernel)"
  }
 },
 "nbformat": 5,
 "nbformat_minor": 9
}
