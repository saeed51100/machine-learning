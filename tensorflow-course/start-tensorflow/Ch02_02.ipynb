{
 "cells": [
  {
   "metadata": {
    "ExecuteTime": {
     "end_time": "2025-03-02T09:05:55.665086Z",
     "start_time": "2025-03-02T09:05:55.656132Z"
    }
   },
   "cell_type": "code",
   "source": [
    "import numpy as np\n",
    "import tensorflow as tf\n",
    "from tensorflow import keras\n",
    "import matplotlib.pyplot as plt\n",
    "import numpy as np"
   ],
   "id": "13b8867ef87cb5fe",
   "outputs": [],
   "execution_count": 37
  },
  {
   "metadata": {},
   "cell_type": "markdown",
   "source": "# Classification",
   "id": "53ce0290217a91a6"
  },
  {
   "metadata": {
    "ExecuteTime": {
     "end_time": "2025-03-02T09:06:01.831632Z",
     "start_time": "2025-03-02T09:06:01.823978Z"
    }
   },
   "cell_type": "code",
   "source": "fmnist_data = keras.datasets.fashion_mnist",
   "id": "96f8b3514769e804",
   "outputs": [],
   "execution_count": 38
  },
  {
   "metadata": {
    "ExecuteTime": {
     "end_time": "2025-03-02T08:12:12.055451Z",
     "start_time": "2025-03-02T08:12:11.666427Z"
    }
   },
   "cell_type": "code",
   "source": "(x_train, y_train), (x_test, y_test) = fmnist_data.load_data()",
   "id": "78cec47127f2316b",
   "outputs": [],
   "execution_count": 3
  },
  {
   "metadata": {
    "ExecuteTime": {
     "end_time": "2025-03-02T08:12:12.248616Z",
     "start_time": "2025-03-02T08:12:12.239638Z"
    }
   },
   "cell_type": "code",
   "source": "x_train.shape",
   "id": "da9d38036849252e",
   "outputs": [
    {
     "data": {
      "text/plain": [
       "(60000, 28, 28)"
      ]
     },
     "execution_count": 4,
     "metadata": {},
     "output_type": "execute_result"
    }
   ],
   "execution_count": 4
  },
  {
   "metadata": {
    "ExecuteTime": {
     "end_time": "2025-03-02T08:12:12.321603Z",
     "start_time": "2025-03-02T08:12:12.311455Z"
    }
   },
   "cell_type": "code",
   "source": "x_test.shape",
   "id": "18a6fd741ff0f7d",
   "outputs": [
    {
     "data": {
      "text/plain": [
       "(10000, 28, 28)"
      ]
     },
     "execution_count": 5,
     "metadata": {},
     "output_type": "execute_result"
    }
   ],
   "execution_count": 5
  },
  {
   "metadata": {
    "ExecuteTime": {
     "end_time": "2025-03-02T08:12:12.414969Z",
     "start_time": "2025-03-02T08:12:12.401624Z"
    }
   },
   "cell_type": "code",
   "source": "y_train.shape",
   "id": "a428ffd0c8e6277b",
   "outputs": [
    {
     "data": {
      "text/plain": [
       "(60000,)"
      ]
     },
     "execution_count": 6,
     "metadata": {},
     "output_type": "execute_result"
    }
   ],
   "execution_count": 6
  },
  {
   "metadata": {
    "ExecuteTime": {
     "end_time": "2025-03-02T08:12:12.539916Z",
     "start_time": "2025-03-02T08:12:12.529032Z"
    }
   },
   "cell_type": "code",
   "source": "y_train[:10]",
   "id": "4927ea8448ff28bc",
   "outputs": [
    {
     "data": {
      "text/plain": [
       "array([9, 0, 0, 3, 0, 2, 7, 2, 5, 5], dtype=uint8)"
      ]
     },
     "execution_count": 7,
     "metadata": {},
     "output_type": "execute_result"
    }
   ],
   "execution_count": 7
  },
  {
   "metadata": {
    "ExecuteTime": {
     "end_time": "2025-03-02T08:12:13.016189Z",
     "start_time": "2025-03-02T08:12:12.667229Z"
    }
   },
   "cell_type": "code",
   "source": "plt.imshow(x_train[0,], cmap=\"gray\")",
   "id": "c1b3ed993f2ee09b",
   "outputs": [
    {
     "data": {
      "text/plain": [
       "<matplotlib.image.AxesImage at 0x6ffc1f85e210>"
      ]
     },
     "execution_count": 8,
     "metadata": {},
     "output_type": "execute_result"
    },
    {
     "data": {
      "text/plain": [
       "<Figure size 640x480 with 1 Axes>"
      ],
      "image/png": "[encoded data removed]"
     },
     "metadata": {},
     "output_type": "display_data"
    }
   ],
   "execution_count": 8
  },
  {
   "metadata": {
    "ExecuteTime": {
     "end_time": "2025-03-02T08:12:13.168619Z",
     "start_time": "2025-03-02T08:12:13.059771Z"
    }
   },
   "cell_type": "code",
   "source": [
    "model = keras.models.Sequential()\n",
    "model.add(keras.layers.Flatten(input_shape=[28, 28]))\n",
    "model.add(keras.layers.Dense(100, activation=\"relu\"))\n",
    "model.add(keras.layers.Dense(75, activation=\"relu\"))\n",
    "model.add(keras.layers.Dense(10, activation=\"relu\"))"
   ],
   "id": "aad95ddfaf9bed8e",
   "outputs": [
    {
     "name": "stderr",
     "output_type": "stream",
     "text": [
      "/home/saeed/repositories/machine-learning/tensorflow-course/start-tensorflow/envs/lib/python3.11/site-packages/keras/src/layers/reshaping/flatten.py:37: UserWarning: Do not pass an `input_shape`/`input_dim` argument to a layer. When using Sequential models, prefer using an `Input(shape)` object as the first layer in the model instead.\n",
      "  super().__init__(**kwargs)\n",
      "2025-03-02 11:42:13.081672: E external/local_xla/xla/stream_executor/cuda/cuda_driver.cc:152] failed call to cuInit: INTERNAL: CUDA error: Failed call to cuInit: UNKNOWN ERROR (303)\n"
     ]
    }
   ],
   "execution_count": 9
  },
  {
   "metadata": {},
   "cell_type": "markdown",
   "source": "# Define Model",
   "id": "5dc1478468ed7105"
  },
  {
   "metadata": {
    "ExecuteTime": {
     "end_time": "2025-03-02T08:12:13.232793Z",
     "start_time": "2025-03-02T08:12:13.185081Z"
    }
   },
   "cell_type": "code",
   "source": [
    "model = keras.models.Sequential([\n",
    "    keras.layers.Flatten(input_shape=[28, 28]),\n",
    "    keras.layers.Dense(100, activation=\"relu\"),\n",
    "    keras.layers.Dense(75, activation=\"relu\"),\n",
    "    keras.layers.Dense(10, activation=\"relu\")\n",
    "    ])"
   ],
   "id": "6ccd30620a08c1f9",
   "outputs": [],
   "execution_count": 10
  },
  {
   "metadata": {
    "ExecuteTime": {
     "end_time": "2025-03-02T08:12:13.324896Z",
     "start_time": "2025-03-02T08:12:13.284977Z"
    }
   },
   "cell_type": "code",
   "source": "model.summary()",
   "id": "6541ef047f1f4350",
   "outputs": [
    {
     "data": {
      "text/plain": [
       "\u001B[1mModel: \"sequential_1\"\u001B[0m\n"
      ],
      "text/html": [
       "<pre style=\"white-space:pre;overflow-x:auto;line-height:normal;font-family:Menlo,'DejaVu Sans Mono',consolas,'Courier New',monospace\"><span style=\"font-weight: bold\">Model: \"sequential_1\"</span>\n",
       "</pre>\n"
      ]
     },
     "metadata": {},
     "output_type": "display_data"
    },
    {
     "data": {
      "text/plain": [
       "┏━━━━━━━━━━━━━━━━━━━━━━━━━━━━━━━━━┳━━━━━━━━━━━━━━━━━━━━━━━━┳━━━━━━━━━━━━━━━┓\n",
       "┃\u001B[1m \u001B[0m\u001B[1mLayer (type)                   \u001B[0m\u001B[1m \u001B[0m┃\u001B[1m \u001B[0m\u001B[1mOutput Shape          \u001B[0m\u001B[1m \u001B[0m┃\u001B[1m \u001B[0m\u001B[1m      Param #\u001B[0m\u001B[1m \u001B[0m┃\n",
       "┡━━━━━━━━━━━━━━━━━━━━━━━━━━━━━━━━━╇━━━━━━━━━━━━━━━━━━━━━━━━╇━━━━━━━━━━━━━━━┩\n",
       "│ flatten_1 (\u001B[38;5;33mFlatten\u001B[0m)             │ (\u001B[38;5;45mNone\u001B[0m, \u001B[38;5;34m784\u001B[0m)            │             \u001B[38;5;34m0\u001B[0m │\n",
       "├─────────────────────────────────┼────────────────────────┼───────────────┤\n",
       "│ dense_3 (\u001B[38;5;33mDense\u001B[0m)                 │ (\u001B[38;5;45mNone\u001B[0m, \u001B[38;5;34m100\u001B[0m)            │        \u001B[38;5;34m78,500\u001B[0m │\n",
       "├─────────────────────────────────┼────────────────────────┼───────────────┤\n",
       "│ dense_4 (\u001B[38;5;33mDense\u001B[0m)                 │ (\u001B[38;5;45mNone\u001B[0m, \u001B[38;5;34m75\u001B[0m)             │         \u001B[38;5;34m7,575\u001B[0m │\n",
       "├─────────────────────────────────┼────────────────────────┼───────────────┤\n",
       "│ dense_5 (\u001B[38;5;33mDense\u001B[0m)                 │ (\u001B[38;5;45mNone\u001B[0m, \u001B[38;5;34m10\u001B[0m)             │           \u001B[38;5;34m760\u001B[0m │\n",
       "└─────────────────────────────────┴────────────────────────┴───────────────┘\n"
      ],
      "text/html": [
       "<pre style=\"white-space:pre;overflow-x:auto;line-height:normal;font-family:Menlo,'DejaVu Sans Mono',consolas,'Courier New',monospace\">┏━━━━━━━━━━━━━━━━━━━━━━━━━━━━━━━━━┳━━━━━━━━━━━━━━━━━━━━━━━━┳━━━━━━━━━━━━━━━┓\n",
       "┃<span style=\"font-weight: bold\"> Layer (type)                    </span>┃<span style=\"font-weight: bold\"> Output Shape           </span>┃<span style=\"font-weight: bold\">       Param # </span>┃\n",
       "┡━━━━━━━━━━━━━━━━━━━━━━━━━━━━━━━━━╇━━━━━━━━━━━━━━━━━━━━━━━━╇━━━━━━━━━━━━━━━┩\n",
       "│ flatten_1 (<span style=\"color: #0087ff; text-decoration-color: #0087ff\">Flatten</span>)             │ (<span style=\"color: #00d7ff; text-decoration-color: #00d7ff\">None</span>, <span style=\"color: #00af00; text-decoration-color: #00af00\">784</span>)            │             <span style=\"color: #00af00; text-decoration-color: #00af00\">0</span> │\n",
       "├─────────────────────────────────┼────────────────────────┼───────────────┤\n",
       "│ dense_3 (<span style=\"color: #0087ff; text-decoration-color: #0087ff\">Dense</span>)                 │ (<span style=\"color: #00d7ff; text-decoration-color: #00d7ff\">None</span>, <span style=\"color: #00af00; text-decoration-color: #00af00\">100</span>)            │        <span style=\"color: #00af00; text-decoration-color: #00af00\">78,500</span> │\n",
       "├─────────────────────────────────┼────────────────────────┼───────────────┤\n",
       "│ dense_4 (<span style=\"color: #0087ff; text-decoration-color: #0087ff\">Dense</span>)                 │ (<span style=\"color: #00d7ff; text-decoration-color: #00d7ff\">None</span>, <span style=\"color: #00af00; text-decoration-color: #00af00\">75</span>)             │         <span style=\"color: #00af00; text-decoration-color: #00af00\">7,575</span> │\n",
       "├─────────────────────────────────┼────────────────────────┼───────────────┤\n",
       "│ dense_5 (<span style=\"color: #0087ff; text-decoration-color: #0087ff\">Dense</span>)                 │ (<span style=\"color: #00d7ff; text-decoration-color: #00d7ff\">None</span>, <span style=\"color: #00af00; text-decoration-color: #00af00\">10</span>)             │           <span style=\"color: #00af00; text-decoration-color: #00af00\">760</span> │\n",
       "└─────────────────────────────────┴────────────────────────┴───────────────┘\n",
       "</pre>\n"
      ]
     },
     "metadata": {},
     "output_type": "display_data"
    },
    {
     "data": {
      "text/plain": [
       "\u001B[1m Total params: \u001B[0m\u001B[38;5;34m86,835\u001B[0m (339.20 KB)\n"
      ],
      "text/html": [
       "<pre style=\"white-space:pre;overflow-x:auto;line-height:normal;font-family:Menlo,'DejaVu Sans Mono',consolas,'Courier New',monospace\"><span style=\"font-weight: bold\"> Total params: </span><span style=\"color: #00af00; text-decoration-color: #00af00\">86,835</span> (339.20 KB)\n",
       "</pre>\n"
      ]
     },
     "metadata": {},
     "output_type": "display_data"
    },
    {
     "data": {
      "text/plain": [
       "\u001B[1m Trainable params: \u001B[0m\u001B[38;5;34m86,835\u001B[0m (339.20 KB)\n"
      ],
      "text/html": [
       "<pre style=\"white-space:pre;overflow-x:auto;line-height:normal;font-family:Menlo,'DejaVu Sans Mono',consolas,'Courier New',monospace\"><span style=\"font-weight: bold\"> Trainable params: </span><span style=\"color: #00af00; text-decoration-color: #00af00\">86,835</span> (339.20 KB)\n",
       "</pre>\n"
      ]
     },
     "metadata": {},
     "output_type": "display_data"
    },
    {
     "data": {
      "text/plain": [
       "\u001B[1m Non-trainable params: \u001B[0m\u001B[38;5;34m0\u001B[0m (0.00 B)\n"
      ],
      "text/html": [
       "<pre style=\"white-space:pre;overflow-x:auto;line-height:normal;font-family:Menlo,'DejaVu Sans Mono',consolas,'Courier New',monospace\"><span style=\"font-weight: bold\"> Non-trainable params: </span><span style=\"color: #00af00; text-decoration-color: #00af00\">0</span> (0.00 B)\n",
       "</pre>\n"
      ]
     },
     "metadata": {},
     "output_type": "display_data"
    }
   ],
   "execution_count": 11
  },
  {
   "metadata": {
    "ExecuteTime": {
     "end_time": "2025-03-02T08:12:13.821940Z",
     "start_time": "2025-03-02T08:12:13.803409Z"
    }
   },
   "cell_type": "code",
   "source": "model.layers",
   "id": "d73ce8b22857e5b1",
   "outputs": [
    {
     "data": {
      "text/plain": [
       "[<Flatten name=flatten_1, built=True>,\n",
       " <Dense name=dense_3, built=True>,\n",
       " <Dense name=dense_4, built=True>,\n",
       " <Dense name=dense_5, built=True>]"
      ]
     },
     "execution_count": 12,
     "metadata": {},
     "output_type": "execute_result"
    }
   ],
   "execution_count": 12
  },
  {
   "metadata": {
    "ExecuteTime": {
     "end_time": "2025-03-02T08:12:14.090868Z",
     "start_time": "2025-03-02T08:12:14.070427Z"
    }
   },
   "cell_type": "code",
   "source": "weights, bias = model.layers[1].get_weights()",
   "id": "fd7b795a8f5be114",
   "outputs": [],
   "execution_count": 13
  },
  {
   "metadata": {
    "ExecuteTime": {
     "end_time": "2025-03-02T08:12:14.216678Z",
     "start_time": "2025-03-02T08:12:14.184010Z"
    }
   },
   "cell_type": "code",
   "source": "weights.shape",
   "id": "20bda22d10fccdd8",
   "outputs": [
    {
     "data": {
      "text/plain": [
       "(784, 100)"
      ]
     },
     "execution_count": 14,
     "metadata": {},
     "output_type": "execute_result"
    }
   ],
   "execution_count": 14
  },
  {
   "metadata": {
    "ExecuteTime": {
     "end_time": "2025-03-02T08:12:14.421029Z",
     "start_time": "2025-03-02T08:12:14.406935Z"
    }
   },
   "cell_type": "code",
   "source": "bias",
   "id": "e2c051a15388273a",
   "outputs": [
    {
     "data": {
      "text/plain": [
       "array([0., 0., 0., 0., 0., 0., 0., 0., 0., 0., 0., 0., 0., 0., 0., 0., 0.,\n",
       "       0., 0., 0., 0., 0., 0., 0., 0., 0., 0., 0., 0., 0., 0., 0., 0., 0.,\n",
       "       0., 0., 0., 0., 0., 0., 0., 0., 0., 0., 0., 0., 0., 0., 0., 0., 0.,\n",
       "       0., 0., 0., 0., 0., 0., 0., 0., 0., 0., 0., 0., 0., 0., 0., 0., 0.,\n",
       "       0., 0., 0., 0., 0., 0., 0., 0., 0., 0., 0., 0., 0., 0., 0., 0., 0.,\n",
       "       0., 0., 0., 0., 0., 0., 0., 0., 0., 0., 0., 0., 0., 0., 0.],\n",
       "      dtype=float32)"
      ]
     },
     "execution_count": 15,
     "metadata": {},
     "output_type": "execute_result"
    }
   ],
   "execution_count": 15
  },
  {
   "metadata": {},
   "cell_type": "markdown",
   "source": "# Compile Model",
   "id": "7c7b0858cffd1e79"
  },
  {
   "metadata": {
    "ExecuteTime": {
     "end_time": "2025-03-02T08:12:14.628089Z",
     "start_time": "2025-03-02T08:12:14.579926Z"
    }
   },
   "cell_type": "code",
   "source": [
    "model.compile(loss=\"sparse_categorical_crossentropy\",\n",
    "              optimizer=\"sgd\",\n",
    "              metrics=[\"accuracy\"])"
   ],
   "id": "1dd22281844ac25e",
   "outputs": [],
   "execution_count": 16
  },
  {
   "metadata": {},
   "cell_type": "markdown",
   "source": "# Fit Modelm",
   "id": "36e8bc831ff87c9"
  },
  {
   "metadata": {
    "ExecuteTime": {
     "end_time": "2025-03-02T08:18:33.616397Z",
     "start_time": "2025-03-02T08:12:14.673696Z"
    }
   },
   "cell_type": "code",
   "source": "history = model.fit(x_train, y_train, epochs=50, validation_split=0.15)",
   "id": "34f35a0abbfe13bb",
   "outputs": [
    {
     "name": "stdout",
     "output_type": "stream",
     "text": [
      "Epoch 1/50\n",
      "\u001B[1m1594/1594\u001B[0m \u001B[32m━━━━━━━━━━━━━━━━━━━━\u001B[0m\u001B[37m\u001B[0m \u001B[1m8s\u001B[0m 4ms/step - accuracy: 0.0978 - loss: 2.6229 - val_accuracy: 0.1034 - val_loss: 2.3054\n",
      "Epoch 2/50\n",
      "\u001B[1m1594/1594\u001B[0m \u001B[32m━━━━━━━━━━━━━━━━━━━━\u001B[0m\u001B[37m\u001B[0m \u001B[1m9s\u001B[0m 5ms/step - accuracy: 0.0994 - loss: 2.3044 - val_accuracy: 0.1034 - val_loss: 2.3054\n",
      "Epoch 3/50\n",
      "\u001B[1m1594/1594\u001B[0m \u001B[32m━━━━━━━━━━━━━━━━━━━━\u001B[0m\u001B[37m\u001B[0m \u001B[1m8s\u001B[0m 5ms/step - accuracy: 0.0989 - loss: 2.3055 - val_accuracy: 0.1034 - val_loss: 2.3054\n",
      "Epoch 4/50\n",
      "\u001B[1m1594/1594\u001B[0m \u001B[32m━━━━━━━━━━━━━━━━━━━━\u001B[0m\u001B[37m\u001B[0m \u001B[1m11s\u001B[0m 7ms/step - accuracy: 0.0990 - loss: 2.3047 - val_accuracy: 0.1034 - val_loss: 2.3054\n",
      "Epoch 5/50\n",
      "\u001B[1m1594/1594\u001B[0m \u001B[32m━━━━━━━━━━━━━━━━━━━━\u001B[0m\u001B[37m\u001B[0m \u001B[1m18s\u001B[0m 6ms/step - accuracy: 0.0995 - loss: 2.3045 - val_accuracy: 0.1034 - val_loss: 2.3054\n",
      "Epoch 6/50\n",
      "\u001B[1m1594/1594\u001B[0m \u001B[32m━━━━━━━━━━━━━━━━━━━━\u001B[0m\u001B[37m\u001B[0m \u001B[1m9s\u001B[0m 6ms/step - accuracy: 0.1000 - loss: 2.3050 - val_accuracy: 0.1034 - val_loss: 2.3054\n",
      "Epoch 7/50\n",
      "\u001B[1m1594/1594\u001B[0m \u001B[32m━━━━━━━━━━━━━━━━━━━━\u001B[0m\u001B[37m\u001B[0m \u001B[1m8s\u001B[0m 5ms/step - accuracy: 0.0962 - loss: 2.3037 - val_accuracy: 0.1034 - val_loss: 2.3054\n",
      "Epoch 8/50\n",
      "\u001B[1m1594/1594\u001B[0m \u001B[32m━━━━━━━━━━━━━━━━━━━━\u001B[0m\u001B[37m\u001B[0m \u001B[1m8s\u001B[0m 5ms/step - accuracy: 0.0990 - loss: 2.3042 - val_accuracy: 0.1034 - val_loss: 2.3054\n",
      "Epoch 9/50\n",
      "\u001B[1m1594/1594\u001B[0m \u001B[32m━━━━━━━━━━━━━━━━━━━━\u001B[0m\u001B[37m\u001B[0m \u001B[1m9s\u001B[0m 5ms/step - accuracy: 0.0995 - loss: 2.3036 - val_accuracy: 0.1034 - val_loss: 2.3054\n",
      "Epoch 10/50\n",
      "\u001B[1m1594/1594\u001B[0m \u001B[32m━━━━━━━━━━━━━━━━━━━━\u001B[0m\u001B[37m\u001B[0m \u001B[1m7s\u001B[0m 5ms/step - accuracy: 0.0993 - loss: 2.3036 - val_accuracy: 0.1034 - val_loss: 2.3054\n",
      "Epoch 11/50\n",
      "\u001B[1m1594/1594\u001B[0m \u001B[32m━━━━━━━━━━━━━━━━━━━━\u001B[0m\u001B[37m\u001B[0m \u001B[1m7s\u001B[0m 4ms/step - accuracy: 0.1014 - loss: 2.3048 - val_accuracy: 0.1034 - val_loss: 2.3054\n",
      "Epoch 12/50\n",
      "\u001B[1m1594/1594\u001B[0m \u001B[32m━━━━━━━━━━━━━━━━━━━━\u001B[0m\u001B[37m\u001B[0m \u001B[1m7s\u001B[0m 5ms/step - accuracy: 0.1014 - loss: 2.3046 - val_accuracy: 0.1034 - val_loss: 2.3054\n",
      "Epoch 13/50\n",
      "\u001B[1m1594/1594\u001B[0m \u001B[32m━━━━━━━━━━━━━━━━━━━━\u001B[0m\u001B[37m\u001B[0m \u001B[1m7s\u001B[0m 4ms/step - accuracy: 0.0976 - loss: 2.3050 - val_accuracy: 0.1034 - val_loss: 2.3054\n",
      "Epoch 14/50\n",
      "\u001B[1m1594/1594\u001B[0m \u001B[32m━━━━━━━━━━━━━━━━━━━━\u001B[0m\u001B[37m\u001B[0m \u001B[1m8s\u001B[0m 5ms/step - accuracy: 0.0979 - loss: 2.3048 - val_accuracy: 0.1034 - val_loss: 2.3054\n",
      "Epoch 15/50\n",
      "\u001B[1m1594/1594\u001B[0m \u001B[32m━━━━━━━━━━━━━━━━━━━━\u001B[0m\u001B[37m\u001B[0m \u001B[1m9s\u001B[0m 5ms/step - accuracy: 0.0984 - loss: 2.3043 - val_accuracy: 0.1034 - val_loss: 2.3054\n",
      "Epoch 16/50\n",
      "\u001B[1m1594/1594\u001B[0m \u001B[32m━━━━━━━━━━━━━━━━━━━━\u001B[0m\u001B[37m\u001B[0m \u001B[1m8s\u001B[0m 5ms/step - accuracy: 0.1027 - loss: 2.3034 - val_accuracy: 0.1034 - val_loss: 2.3054\n",
      "Epoch 17/50\n",
      "\u001B[1m1594/1594\u001B[0m \u001B[32m━━━━━━━━━━━━━━━━━━━━\u001B[0m\u001B[37m\u001B[0m \u001B[1m8s\u001B[0m 5ms/step - accuracy: 0.1006 - loss: 2.3045 - val_accuracy: 0.1034 - val_loss: 2.3054\n",
      "Epoch 18/50\n",
      "\u001B[1m1594/1594\u001B[0m \u001B[32m━━━━━━━━━━━━━━━━━━━━\u001B[0m\u001B[37m\u001B[0m \u001B[1m8s\u001B[0m 5ms/step - accuracy: 0.1012 - loss: 2.3040 - val_accuracy: 0.1034 - val_loss: 2.3054\n",
      "Epoch 19/50\n",
      "\u001B[1m1594/1594\u001B[0m \u001B[32m━━━━━━━━━━━━━━━━━━━━\u001B[0m\u001B[37m\u001B[0m \u001B[1m7s\u001B[0m 5ms/step - accuracy: 0.0990 - loss: 2.3040 - val_accuracy: 0.1034 - val_loss: 2.3054\n",
      "Epoch 20/50\n",
      "\u001B[1m1594/1594\u001B[0m \u001B[32m━━━━━━━━━━━━━━━━━━━━\u001B[0m\u001B[37m\u001B[0m \u001B[1m7s\u001B[0m 4ms/step - accuracy: 0.1003 - loss: 2.3045 - val_accuracy: 0.1034 - val_loss: 2.3054\n",
      "Epoch 21/50\n",
      "\u001B[1m1594/1594\u001B[0m \u001B[32m━━━━━━━━━━━━━━━━━━━━\u001B[0m\u001B[37m\u001B[0m \u001B[1m7s\u001B[0m 4ms/step - accuracy: 0.0987 - loss: 2.3042 - val_accuracy: 0.1034 - val_loss: 2.3054\n",
      "Epoch 22/50\n",
      "\u001B[1m1594/1594\u001B[0m \u001B[32m━━━━━━━━━━━━━━━━━━━━\u001B[0m\u001B[37m\u001B[0m \u001B[1m7s\u001B[0m 4ms/step - accuracy: 0.0984 - loss: 2.3037 - val_accuracy: 0.1034 - val_loss: 2.3054\n",
      "Epoch 23/50\n",
      "\u001B[1m1594/1594\u001B[0m \u001B[32m━━━━━━━━━━━━━━━━━━━━\u001B[0m\u001B[37m\u001B[0m \u001B[1m7s\u001B[0m 4ms/step - accuracy: 0.1009 - loss: 2.3061 - val_accuracy: 0.1034 - val_loss: 2.3054\n",
      "Epoch 24/50\n",
      "\u001B[1m1594/1594\u001B[0m \u001B[32m━━━━━━━━━━━━━━━━━━━━\u001B[0m\u001B[37m\u001B[0m \u001B[1m7s\u001B[0m 4ms/step - accuracy: 0.0961 - loss: 2.3036 - val_accuracy: 0.1034 - val_loss: 2.3054\n",
      "Epoch 25/50\n",
      "\u001B[1m1594/1594\u001B[0m \u001B[32m━━━━━━━━━━━━━━━━━━━━\u001B[0m\u001B[37m\u001B[0m \u001B[1m7s\u001B[0m 4ms/step - accuracy: 0.1007 - loss: 2.3051 - val_accuracy: 0.1034 - val_loss: 2.3054\n",
      "Epoch 26/50\n",
      "\u001B[1m1594/1594\u001B[0m \u001B[32m━━━━━━━━━━━━━━━━━━━━\u001B[0m\u001B[37m\u001B[0m \u001B[1m7s\u001B[0m 4ms/step - accuracy: 0.0971 - loss: 2.3064 - val_accuracy: 0.1034 - val_loss: 2.3054\n",
      "Epoch 27/50\n",
      "\u001B[1m1594/1594\u001B[0m \u001B[32m━━━━━━━━━━━━━━━━━━━━\u001B[0m\u001B[37m\u001B[0m \u001B[1m11s\u001B[0m 4ms/step - accuracy: 0.1002 - loss: 2.3043 - val_accuracy: 0.1034 - val_loss: 2.3054\n",
      "Epoch 28/50\n",
      "\u001B[1m1594/1594\u001B[0m \u001B[32m━━━━━━━━━━━━━━━━━━━━\u001B[0m\u001B[37m\u001B[0m \u001B[1m7s\u001B[0m 4ms/step - accuracy: 0.0984 - loss: 2.3043 - val_accuracy: 0.1034 - val_loss: 2.3054\n",
      "Epoch 29/50\n",
      "\u001B[1m1594/1594\u001B[0m \u001B[32m━━━━━━━━━━━━━━━━━━━━\u001B[0m\u001B[37m\u001B[0m \u001B[1m7s\u001B[0m 4ms/step - accuracy: 0.1000 - loss: 2.3057 - val_accuracy: 0.1034 - val_loss: 2.3054\n",
      "Epoch 30/50\n",
      "\u001B[1m1594/1594\u001B[0m \u001B[32m━━━━━━━━━━━━━━━━━━━━\u001B[0m\u001B[37m\u001B[0m \u001B[1m7s\u001B[0m 4ms/step - accuracy: 0.1005 - loss: 2.3054 - val_accuracy: 0.1034 - val_loss: 2.3054\n",
      "Epoch 31/50\n",
      "\u001B[1m1594/1594\u001B[0m \u001B[32m━━━━━━━━━━━━━━━━━━━━\u001B[0m\u001B[37m\u001B[0m \u001B[1m7s\u001B[0m 4ms/step - accuracy: 0.1003 - loss: 2.3036 - val_accuracy: 0.1034 - val_loss: 2.3054\n",
      "Epoch 32/50\n",
      "\u001B[1m1594/1594\u001B[0m \u001B[32m━━━━━━━━━━━━━━━━━━━━\u001B[0m\u001B[37m\u001B[0m \u001B[1m7s\u001B[0m 4ms/step - accuracy: 0.1010 - loss: 2.3041 - val_accuracy: 0.1034 - val_loss: 2.3054\n",
      "Epoch 33/50\n",
      "\u001B[1m1594/1594\u001B[0m \u001B[32m━━━━━━━━━━━━━━━━━━━━\u001B[0m\u001B[37m\u001B[0m \u001B[1m7s\u001B[0m 4ms/step - accuracy: 0.0998 - loss: 2.3053 - val_accuracy: 0.1034 - val_loss: 2.3054\n",
      "Epoch 34/50\n",
      "\u001B[1m1594/1594\u001B[0m \u001B[32m━━━━━━━━━━━━━━━━━━━━\u001B[0m\u001B[37m\u001B[0m \u001B[1m9s\u001B[0m 6ms/step - accuracy: 0.0973 - loss: 2.3031 - val_accuracy: 0.1034 - val_loss: 2.3054\n",
      "Epoch 35/50\n",
      "\u001B[1m1594/1594\u001B[0m \u001B[32m━━━━━━━━━━━━━━━━━━━━\u001B[0m\u001B[37m\u001B[0m \u001B[1m7s\u001B[0m 4ms/step - accuracy: 0.0999 - loss: 2.3043 - val_accuracy: 0.1034 - val_loss: 2.3054\n",
      "Epoch 36/50\n",
      "\u001B[1m1594/1594\u001B[0m \u001B[32m━━━━━━━━━━━━━━━━━━━━\u001B[0m\u001B[37m\u001B[0m \u001B[1m7s\u001B[0m 4ms/step - accuracy: 0.0969 - loss: 2.3033 - val_accuracy: 0.1034 - val_loss: 2.3054\n",
      "Epoch 37/50\n",
      "\u001B[1m1594/1594\u001B[0m \u001B[32m━━━━━━━━━━━━━━━━━━━━\u001B[0m\u001B[37m\u001B[0m \u001B[1m7s\u001B[0m 4ms/step - accuracy: 0.0993 - loss: 2.3043 - val_accuracy: 0.1034 - val_loss: 2.3054\n",
      "Epoch 38/50\n",
      "\u001B[1m1594/1594\u001B[0m \u001B[32m━━━━━━━━━━━━━━━━━━━━\u001B[0m\u001B[37m\u001B[0m \u001B[1m7s\u001B[0m 4ms/step - accuracy: 0.0970 - loss: 2.3042 - val_accuracy: 0.1034 - val_loss: 2.3054\n",
      "Epoch 39/50\n",
      "\u001B[1m1594/1594\u001B[0m \u001B[32m━━━━━━━━━━━━━━━━━━━━\u001B[0m\u001B[37m\u001B[0m \u001B[1m6s\u001B[0m 4ms/step - accuracy: 0.1003 - loss: 2.3041 - val_accuracy: 0.1034 - val_loss: 2.3054\n",
      "Epoch 40/50\n",
      "\u001B[1m1594/1594\u001B[0m \u001B[32m━━━━━━━━━━━━━━━━━━━━\u001B[0m\u001B[37m\u001B[0m \u001B[1m7s\u001B[0m 4ms/step - accuracy: 0.0987 - loss: 2.3037 - val_accuracy: 0.1034 - val_loss: 2.3054\n",
      "Epoch 41/50\n",
      "\u001B[1m1594/1594\u001B[0m \u001B[32m━━━━━━━━━━━━━━━━━━━━\u001B[0m\u001B[37m\u001B[0m \u001B[1m7s\u001B[0m 5ms/step - accuracy: 0.0978 - loss: 2.3039 - val_accuracy: 0.1034 - val_loss: 2.3054\n",
      "Epoch 42/50\n",
      "\u001B[1m1594/1594\u001B[0m \u001B[32m━━━━━━━━━━━━━━━━━━━━\u001B[0m\u001B[37m\u001B[0m \u001B[1m7s\u001B[0m 4ms/step - accuracy: 0.0985 - loss: 2.3043 - val_accuracy: 0.1034 - val_loss: 2.3054\n",
      "Epoch 43/50\n",
      "\u001B[1m1594/1594\u001B[0m \u001B[32m━━━━━━━━━━━━━━━━━━━━\u001B[0m\u001B[37m\u001B[0m \u001B[1m7s\u001B[0m 4ms/step - accuracy: 0.0968 - loss: 2.3039 - val_accuracy: 0.1034 - val_loss: 2.3054\n",
      "Epoch 44/50\n",
      "\u001B[1m1594/1594\u001B[0m \u001B[32m━━━━━━━━━━━━━━━━━━━━\u001B[0m\u001B[37m\u001B[0m \u001B[1m7s\u001B[0m 4ms/step - accuracy: 0.0992 - loss: 2.3042 - val_accuracy: 0.1034 - val_loss: 2.3054\n",
      "Epoch 45/50\n",
      "\u001B[1m1594/1594\u001B[0m \u001B[32m━━━━━━━━━━━━━━━━━━━━\u001B[0m\u001B[37m\u001B[0m \u001B[1m7s\u001B[0m 4ms/step - accuracy: 0.0998 - loss: 2.3041 - val_accuracy: 0.1034 - val_loss: 2.3054\n",
      "Epoch 46/50\n",
      "\u001B[1m1594/1594\u001B[0m \u001B[32m━━━━━━━━━━━━━━━━━━━━\u001B[0m\u001B[37m\u001B[0m \u001B[1m6s\u001B[0m 4ms/step - accuracy: 0.1003 - loss: 2.3051 - val_accuracy: 0.1034 - val_loss: 2.3054\n",
      "Epoch 47/50\n",
      "\u001B[1m1594/1594\u001B[0m \u001B[32m━━━━━━━━━━━━━━━━━━━━\u001B[0m\u001B[37m\u001B[0m \u001B[1m6s\u001B[0m 4ms/step - accuracy: 0.0997 - loss: 2.3046 - val_accuracy: 0.1034 - val_loss: 2.3054\n",
      "Epoch 48/50\n",
      "\u001B[1m1594/1594\u001B[0m \u001B[32m━━━━━━━━━━━━━━━━━━━━\u001B[0m\u001B[37m\u001B[0m \u001B[1m6s\u001B[0m 4ms/step - accuracy: 0.0981 - loss: 2.3051 - val_accuracy: 0.1034 - val_loss: 2.3054\n",
      "Epoch 49/50\n",
      "\u001B[1m1594/1594\u001B[0m \u001B[32m━━━━━━━━━━━━━━━━━━━━\u001B[0m\u001B[37m\u001B[0m \u001B[1m6s\u001B[0m 4ms/step - accuracy: 0.0990 - loss: 2.3043 - val_accuracy: 0.1034 - val_loss: 2.3054\n",
      "Epoch 50/50\n",
      "\u001B[1m1594/1594\u001B[0m \u001B[32m━━━━━━━━━━━━━━━━━━━━\u001B[0m\u001B[37m\u001B[0m \u001B[1m6s\u001B[0m 4ms/step - accuracy: 0.0994 - loss: 2.3044 - val_accuracy: 0.1034 - val_loss: 2.3054\n"
     ]
    }
   ],
   "execution_count": 17
  },
  {
   "metadata": {
    "ExecuteTime": {
     "end_time": "2025-03-02T08:18:33.727053Z",
     "start_time": "2025-03-02T08:18:33.713754Z"
    }
   },
   "cell_type": "code",
   "source": "history.history",
   "id": "56db3e255545e9cf",
   "outputs": [
    {
     "data": {
      "text/plain": [
       "{'accuracy': [0.09919607639312744,\n",
       "  0.09933333098888397,\n",
       "  0.09933333098888397,\n",
       "  0.09933333098888397,\n",
       "  0.09933333098888397,\n",
       "  0.09933333098888397,\n",
       "  0.09933333098888397,\n",
       "  0.09933333098888397,\n",
       "  0.09933333098888397,\n",
       "  0.09933333098888397,\n",
       "  0.09933333098888397,\n",
       "  0.09933333098888397,\n",
       "  0.09933333098888397,\n",
       "  0.09933333098888397,\n",
       "  0.09933333098888397,\n",
       "  0.09933333098888397,\n",
       "  0.09933333098888397,\n",
       "  0.09933333098888397,\n",
       "  0.09933333098888397,\n",
       "  0.09933333098888397,\n",
       "  0.09933333098888397,\n",
       "  0.09933333098888397,\n",
       "  0.09933333098888397,\n",
       "  0.09933333098888397,\n",
       "  0.09933333098888397,\n",
       "  0.09933333098888397,\n",
       "  0.09933333098888397,\n",
       "  0.09933333098888397,\n",
       "  0.09933333098888397,\n",
       "  0.09933333098888397,\n",
       "  0.09933333098888397,\n",
       "  0.09933333098888397,\n",
       "  0.09933333098888397,\n",
       "  0.09933333098888397,\n",
       "  0.09933333098888397,\n",
       "  0.09933333098888397,\n",
       "  0.09933333098888397,\n",
       "  0.09933333098888397,\n",
       "  0.09933333098888397,\n",
       "  0.09933333098888397,\n",
       "  0.09933333098888397,\n",
       "  0.09933333098888397,\n",
       "  0.09933333098888397,\n",
       "  0.09933333098888397,\n",
       "  0.09933333098888397,\n",
       "  0.09933333098888397,\n",
       "  0.09933333098888397,\n",
       "  0.09933333098888397,\n",
       "  0.09933333098888397,\n",
       "  0.09933333098888397],\n",
       " 'loss': [2.356649875640869,\n",
       "  2.304450750350952,\n",
       "  2.304450750350952,\n",
       "  2.304450750350952,\n",
       "  2.304450750350952,\n",
       "  2.304450750350952,\n",
       "  2.304450750350952,\n",
       "  2.304450750350952,\n",
       "  2.3044509887695312,\n",
       "  2.304450750350952,\n",
       "  2.304450750350952,\n",
       "  2.304450511932373,\n",
       "  2.304450750350952,\n",
       "  2.304450511932373,\n",
       "  2.304450750350952,\n",
       "  2.3044512271881104,\n",
       "  2.304450750350952,\n",
       "  2.304450750350952,\n",
       "  2.304450750350952,\n",
       "  2.304450750350952,\n",
       "  2.304450750350952,\n",
       "  2.304450750350952,\n",
       "  2.304450750350952,\n",
       "  2.3044512271881104,\n",
       "  2.304450511932373,\n",
       "  2.304450750350952,\n",
       "  2.304450750350952,\n",
       "  2.304450750350952,\n",
       "  2.304450750350952,\n",
       "  2.304450750350952,\n",
       "  2.304450750350952,\n",
       "  2.304450750350952,\n",
       "  2.304450750350952,\n",
       "  2.3044509887695312,\n",
       "  2.304450750350952,\n",
       "  2.3044512271881104,\n",
       "  2.3044509887695312,\n",
       "  2.304450750350952,\n",
       "  2.304450750350952,\n",
       "  2.304450750350952,\n",
       "  2.304450750350952,\n",
       "  2.304450750350952,\n",
       "  2.304450750350952,\n",
       "  2.304450750350952,\n",
       "  2.304450750350952,\n",
       "  2.304450750350952,\n",
       "  2.304450750350952,\n",
       "  2.304450750350952,\n",
       "  2.304450750350952,\n",
       "  2.304450750350952],\n",
       " 'val_accuracy': [0.10344444215297699,\n",
       "  0.10344444215297699,\n",
       "  0.10344444215297699,\n",
       "  0.10344444215297699,\n",
       "  0.10344444215297699,\n",
       "  0.10344444215297699,\n",
       "  0.10344444215297699,\n",
       "  0.10344444215297699,\n",
       "  0.10344444215297699,\n",
       "  0.10344444215297699,\n",
       "  0.10344444215297699,\n",
       "  0.10344444215297699,\n",
       "  0.10344444215297699,\n",
       "  0.10344444215297699,\n",
       "  0.10344444215297699,\n",
       "  0.10344444215297699,\n",
       "  0.10344444215297699,\n",
       "  0.10344444215297699,\n",
       "  0.10344444215297699,\n",
       "  0.10344444215297699,\n",
       "  0.10344444215297699,\n",
       "  0.10344444215297699,\n",
       "  0.10344444215297699,\n",
       "  0.10344444215297699,\n",
       "  0.10344444215297699,\n",
       "  0.10344444215297699,\n",
       "  0.10344444215297699,\n",
       "  0.10344444215297699,\n",
       "  0.10344444215297699,\n",
       "  0.10344444215297699,\n",
       "  0.10344444215297699,\n",
       "  0.10344444215297699,\n",
       "  0.10344444215297699,\n",
       "  0.10344444215297699,\n",
       "  0.10344444215297699,\n",
       "  0.10344444215297699,\n",
       "  0.10344444215297699,\n",
       "  0.10344444215297699,\n",
       "  0.10344444215297699,\n",
       "  0.10344444215297699,\n",
       "  0.10344444215297699,\n",
       "  0.10344444215297699,\n",
       "  0.10344444215297699,\n",
       "  0.10344444215297699,\n",
       "  0.10344444215297699,\n",
       "  0.10344444215297699,\n",
       "  0.10344444215297699,\n",
       "  0.10344444215297699,\n",
       "  0.10344444215297699,\n",
       "  0.10344444215297699],\n",
       " 'val_loss': [2.3054025173187256,\n",
       "  2.3054025173187256,\n",
       "  2.3054025173187256,\n",
       "  2.3054025173187256,\n",
       "  2.3054025173187256,\n",
       "  2.3054025173187256,\n",
       "  2.3054025173187256,\n",
       "  2.3054025173187256,\n",
       "  2.3054025173187256,\n",
       "  2.3054025173187256,\n",
       "  2.3054025173187256,\n",
       "  2.3054025173187256,\n",
       "  2.3054025173187256,\n",
       "  2.3054025173187256,\n",
       "  2.3054025173187256,\n",
       "  2.3054025173187256,\n",
       "  2.3054025173187256,\n",
       "  2.3054025173187256,\n",
       "  2.3054025173187256,\n",
       "  2.3054025173187256,\n",
       "  2.3054025173187256,\n",
       "  2.3054025173187256,\n",
       "  2.3054025173187256,\n",
       "  2.3054025173187256,\n",
       "  2.3054025173187256,\n",
       "  2.3054025173187256,\n",
       "  2.3054025173187256,\n",
       "  2.3054025173187256,\n",
       "  2.3054025173187256,\n",
       "  2.3054025173187256,\n",
       "  2.3054025173187256,\n",
       "  2.3054025173187256,\n",
       "  2.3054025173187256,\n",
       "  2.3054025173187256,\n",
       "  2.3054025173187256,\n",
       "  2.3054025173187256,\n",
       "  2.3054025173187256,\n",
       "  2.3054025173187256,\n",
       "  2.3054025173187256,\n",
       "  2.3054025173187256,\n",
       "  2.3054025173187256,\n",
       "  2.3054025173187256,\n",
       "  2.3054025173187256,\n",
       "  2.3054025173187256,\n",
       "  2.3054025173187256,\n",
       "  2.3054025173187256,\n",
       "  2.3054025173187256,\n",
       "  2.3054025173187256,\n",
       "  2.3054025173187256,\n",
       "  2.3054025173187256]}"
      ]
     },
     "execution_count": 18,
     "metadata": {},
     "output_type": "execute_result"
    }
   ],
   "execution_count": 18
  },
  {
   "metadata": {
    "ExecuteTime": {
     "end_time": "2025-03-02T08:38:29.192446Z",
     "start_time": "2025-03-02T08:38:28.806636Z"
    }
   },
   "cell_type": "code",
   "source": [
    "fig, ax = plt.subplots(figsize=(12,5))\n",
    "ax.plot(history.history[\"loss\"], label=\"train loss\")\n",
    "ax.plot(history.history[\"accuracy\"], label=\"train accuracy\")\n",
    "ax.plot(history.history[\"val_loss\"], label=\"validation loss\")\n",
    "ax.plot(history.history[\"val_accuracy\"], label=\"validation accuracy\")\n",
    "ax.legend()"
   ],
   "id": "60c31ec2bc1b0c4f",
   "outputs": [
    {
     "data": {
      "text/plain": [
       "<matplotlib.legend.Legend at 0x6ffc1f8e00d0>"
      ]
     },
     "execution_count": 22,
     "metadata": {},
     "output_type": "execute_result"
    },
    {
     "data": {
      "text/plain": [
       "<Figure size 1200x500 with 1 Axes>"
      ],
      "image/png": "[encoded data removed]"
     },
     "metadata": {},
     "output_type": "display_data"
    }
   ],
   "execution_count": 22
  },
  {
   "metadata": {
    "ExecuteTime": {
     "end_time": "2025-03-02T08:47:27.569662Z",
     "start_time": "2025-03-02T08:47:26.803233Z"
    }
   },
   "cell_type": "code",
   "source": "model.evaluate(x_test, y_test, verbose=0)",
   "id": "81b9e09500a92042",
   "outputs": [
    {
     "data": {
      "text/plain": [
       "[2.3067357540130615, 0.09989999979734421]"
      ]
     },
     "execution_count": 24,
     "metadata": {},
     "output_type": "execute_result"
    }
   ],
   "execution_count": 24
  },
  {
   "metadata": {
    "ExecuteTime": {
     "end_time": "2025-03-02T08:58:01.466941Z",
     "start_time": "2025-03-02T08:58:01.458404Z"
    }
   },
   "cell_type": "code",
   "source": [
    "x3 = x_test[1:3,:,:]\n",
    "x3.shape"
   ],
   "id": "7d84c0f28be4f2a9",
   "outputs": [
    {
     "data": {
      "text/plain": [
       "(2, 28, 28)"
      ]
     },
     "execution_count": 29,
     "metadata": {},
     "output_type": "execute_result"
    }
   ],
   "execution_count": 29
  },
  {
   "metadata": {
    "ExecuteTime": {
     "end_time": "2025-03-02T08:59:30.450513Z",
     "start_time": "2025-03-02T08:59:30.251816Z"
    }
   },
   "cell_type": "code",
   "source": "plt.imshow(x3[0], cmap=\"gray\")",
   "id": "3eedd2e8eea25214",
   "outputs": [
    {
     "data": {
      "text/plain": [
       "<matplotlib.image.AxesImage at 0x6ffc145b9810>"
      ]
     },
     "execution_count": 31,
     "metadata": {},
     "output_type": "execute_result"
    },
    {
     "data": {
      "text/plain": [
       "<Figure size 640x480 with 1 Axes>"
      ],
      "image/png": "[encoded data removed]"
     },
     "metadata": {},
     "output_type": "display_data"
    }
   ],
   "execution_count": 31
  },
  {
   "metadata": {
    "ExecuteTime": {
     "end_time": "2025-03-02T09:03:16.417902Z",
     "start_time": "2025-03-02T09:03:16.263454Z"
    }
   },
   "cell_type": "code",
   "source": "model.predict(x3)",
   "id": "f387fcf2ee0833e8",
   "outputs": [
    {
     "name": "stdout",
     "output_type": "stream",
     "text": [
      "\u001B[1m1/1\u001B[0m \u001B[32m━━━━━━━━━━━━━━━━━━━━\u001B[0m\u001B[37m\u001B[0m \u001B[1m0s\u001B[0m 65ms/step\n"
     ]
    },
    {
     "data": {
      "text/plain": [
       "array([[0., 0., 0., 0., 0., 0., 0., 0., 0., 0.],\n",
       "       [0., 0., 0., 0., 0., 0., 0., 0., 0., 0.]], dtype=float32)"
      ]
     },
     "execution_count": 35,
     "metadata": {},
     "output_type": "execute_result"
    }
   ],
   "execution_count": 35
  },
  {
   "metadata": {
    "ExecuteTime": {
     "end_time": "2025-03-02T09:01:36.659911Z",
     "start_time": "2025-03-02T09:01:36.495331Z"
    }
   },
   "cell_type": "code",
   "source": "model.predict(x3).shape",
   "id": "389fa4e8e8547388",
   "outputs": [
    {
     "name": "stdout",
     "output_type": "stream",
     "text": [
      "\u001B[1m1/1\u001B[0m \u001B[32m━━━━━━━━━━━━━━━━━━━━\u001B[0m\u001B[37m\u001B[0m \u001B[1m0s\u001B[0m 65ms/step\n"
     ]
    },
    {
     "data": {
      "text/plain": [
       "(2, 10)"
      ]
     },
     "execution_count": 33,
     "metadata": {},
     "output_type": "execute_result"
    }
   ],
   "execution_count": 33
  },
  {
   "metadata": {
    "ExecuteTime": {
     "end_time": "2025-03-02T09:09:38.619724Z",
     "start_time": "2025-03-02T09:09:38.482389Z"
    }
   },
   "cell_type": "code",
   "source": "np.argmax(model.predict(x3),  axis=1)",
   "id": "bd2970262d87aee7",
   "outputs": [
    {
     "name": "stdout",
     "output_type": "stream",
     "text": [
      "\u001B[1m1/1\u001B[0m \u001B[32m━━━━━━━━━━━━━━━━━━━━\u001B[0m\u001B[37m\u001B[0m \u001B[1m0s\u001B[0m 66ms/step\n"
     ]
    },
    {
     "data": {
      "text/plain": [
       "array([0, 0])"
      ]
     },
     "execution_count": 41,
     "metadata": {},
     "output_type": "execute_result"
    }
   ],
   "execution_count": 41
  },
  {
   "metadata": {
    "ExecuteTime": {
     "end_time": "2025-03-02T09:12:36.979406Z",
     "start_time": "2025-03-02T09:12:36.972479Z"
    }
   },
   "cell_type": "code",
   "source": " y_test[1:3]",
   "id": "626a8b5e1ecc9a1e",
   "outputs": [
    {
     "data": {
      "text/plain": [
       "array([2, 1], dtype=uint8)"
      ]
     },
     "execution_count": 43,
     "metadata": {},
     "output_type": "execute_result"
    }
   ],
   "execution_count": 43
  },
  {
   "metadata": {},
   "cell_type": "code",
   "outputs": [],
   "execution_count": null,
   "source": "",
   "id": "48e627c58a2da77"
  }
 ],
 "metadata": {
  "kernelspec": {
   "name": "python3",
   "language": "python",
   "display_name": "Python 3 (ipykernel)"
  }
 },
 "nbformat": 5,
 "nbformat_minor": 9
}
