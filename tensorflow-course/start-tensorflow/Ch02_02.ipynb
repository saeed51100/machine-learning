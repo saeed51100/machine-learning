{
 "cells": [
  {
   "cell_type": "code",
   "id": "865f56f2-9332-4c96-a473-74aeb631290f",
   "metadata": {},
   "source": [
    "import tensorflow as tf\n",
    "from tensorflow import keras\n",
    "from sklearn.datasets import fetch_california_housing\n",
    "from sklearn.model_selection import train_test_split\n",
    "from sklearn.preprocessing import StandardScaler\n",
    "from sklearn.model_selection import GridSearchCV"
   ],
   "outputs": [],
   "execution_count": null
  },
  {
   "cell_type": "code",
   "id": "b800f14d-c1a1-478b-898f-fb6762f0ca75",
   "metadata": {},
   "source": [
    "import matplotlib.pyplot as plt\n",
    "import numpy as np"
   ],
   "outputs": [],
   "execution_count": null
  },
  {
   "cell_type": "code",
   "id": "fd9a1bd1-c65b-4c81-9a17-75b2cc4bc1b9",
   "metadata": {},
   "source": [
    "tf.__version__"
   ],
   "outputs": [],
   "execution_count": null
  },
  {
   "cell_type": "markdown",
   "id": "6c987b3a-61a0-4639-9cf7-2c14b7b39649",
   "metadata": {},
   "source": [
    "# Classification"
   ]
  },
  {
   "cell_type": "code",
   "id": "b1c9edfb-326c-4ebd-bab4-ad14487cc3bf",
   "metadata": {},
   "source": [
    "fmnist_data = keras.datasets.fashion_mnist"
   ],
   "outputs": [],
   "execution_count": null
  },
  {
   "cell_type": "code",
   "id": "86c3ab9f-aa8b-4a39-9cf3-29b346e398cc",
   "metadata": {},
   "source": [
    "(x_train, y_train), (x_test, y_test) = fmnist_data.load_data()"
   ],
   "outputs": [],
   "execution_count": null
  },
  {
   "cell_type": "code",
   "id": "b88c74a9-c846-4f5c-89a4-f32846a6bc25",
   "metadata": {},
   "source": [
    "x_train.shape"
   ],
   "outputs": [],
   "execution_count": null
  },
  {
   "cell_type": "code",
   "id": "ff821769-4bea-4c01-b876-61f75a939922",
   "metadata": {},
   "source": [
    "x_test.shape"
   ],
   "outputs": [],
   "execution_count": null
  },
  {
   "cell_type": "code",
   "id": "fe57a9c6-d427-4b10-b5e3-cf56d9d683c0",
   "metadata": {},
   "source": [
    "y_train.shape"
   ],
   "outputs": [],
   "execution_count": null
  },
  {
   "cell_type": "code",
   "id": "db835ff6-472f-40e2-a279-0aa53c385c10",
   "metadata": {},
   "source": [
    "y_train[:10]"
   ],
   "outputs": [],
   "execution_count": null
  },
  {
   "cell_type": "code",
   "id": "a4dd6dd1-d4bd-4c5e-93a4-20f534ee0fcb",
   "metadata": {},
   "source": [
    "plt.imshow(x_train[0,], cmap=\"gray\")"
   ],
   "outputs": [],
   "execution_count": null
  },
  {
   "cell_type": "code",
   "id": "187dc581-5c27-486c-be8c-e77925d1948b",
   "metadata": {},
   "source": [
    "x_train, x_test = x_train/255.0, x_test/255.0"
   ],
   "outputs": [],
   "execution_count": null
  },
  {
   "cell_type": "code",
   "id": "fc4cf3af-02e9-4e29-aede-71c3bf638b4f",
   "metadata": {},
   "source": [
    "x_train.shape"
   ],
   "outputs": [],
   "execution_count": null
  },
  {
   "cell_type": "code",
   "id": "0dd36b28-340d-4e2d-a73d-2746e411daae",
   "metadata": {},
   "source": [
    "model = keras.models.Sequential()\n",
    "model.add(keras.layers.Flatten(input_shape=[28, 28]))\n",
    "model.add(keras.layers.Dense(100, activation=\"relu\"))\n",
    "model.add(keras.layers.Dense(75, activation=\"relu\"))\n",
    "model.add(keras.layers.Dense(10, activation=\"softmax\"))"
   ],
   "outputs": [],
   "execution_count": null
  },
  {
   "cell_type": "markdown",
   "id": "f5ac2135-d9ca-4e45-a2b8-585891173466",
   "metadata": {},
   "source": [
    "# Define Model "
   ]
  },
  {
   "cell_type": "code",
   "id": "256c9c7a-c7d7-4cb4-890e-245649c0c1d2",
   "metadata": {},
   "source": [
    "model = keras.models.Sequential([\n",
    "    keras.layers.Flatten(input_shape=[28, 28]),\n",
    "    keras.layers.Dense(100, activation=\"relu\"),\n",
    "    keras.layers.Dense(75, activation=\"relu\"),\n",
    "    keras.layers.Dense(10, activation=\"softmax\")\n",
    "])"
   ],
   "outputs": [],
   "execution_count": null
  },
  {
   "cell_type": "code",
   "id": "e739c031-8f84-4c60-98b4-e9aaf6eb78e4",
   "metadata": {},
   "source": [
    "model.summary()"
   ],
   "outputs": [],
   "execution_count": null
  },
  {
   "cell_type": "code",
   "id": "8c3e1892-388f-4dd3-bfc0-6c02b8285c16",
   "metadata": {},
   "source": [
    "model.layers"
   ],
   "outputs": [],
   "execution_count": null
  },
  {
   "cell_type": "code",
   "id": "49b84731-b4d2-4be1-88f4-c4093483afd8",
   "metadata": {},
   "source": [
    "weights, bias = model.layers[1].get_weights()"
   ],
   "outputs": [],
   "execution_count": null
  },
  {
   "cell_type": "code",
   "id": "30b270b7-e808-406d-9e9c-260a6faf28d4",
   "metadata": {},
   "source": [
    "weights"
   ],
   "outputs": [],
   "execution_count": null
  },
  {
   "cell_type": "code",
   "id": "375acadf-cfaa-494a-a314-0b3f0c762c16",
   "metadata": {},
   "source": [
    "bias"
   ],
   "outputs": [],
   "execution_count": null
  },
  {
   "cell_type": "markdown",
   "id": "f33d5157-bce2-4244-81f5-4eb77a0432f4",
   "metadata": {},
   "source": [
    "# Compile Model"
   ]
  },
  {
   "cell_type": "code",
   "id": "df70f038-6509-4cfd-bb9e-e378ee3a5d9f",
   "metadata": {},
   "source": [
    "model.compile(loss=\"sparse_categorical_crossentropy\",\n",
    "              optimizer=\"sgd\",\n",
    "              metrics=[\"accuracy\"])"
   ],
   "outputs": [],
   "execution_count": null
  },
  {
   "cell_type": "markdown",
   "id": "b216f3b6-10b2-48b2-ad38-9ae76d4843a6",
   "metadata": {},
   "source": [
    "# Fit Model"
   ]
  },
  {
   "cell_type": "code",
   "id": "2dc38a75-d238-4438-b6ae-340f2dd1d44b",
   "metadata": {},
   "source": "history = model.fit(x_train, y_train, epochs=50, validation_split=0.15)",
   "outputs": [],
   "execution_count": null
  },
  {
   "cell_type": "code",
   "id": "6f3b0a33-04fa-4664-9159-704f631e80b4",
   "metadata": {},
   "source": [
    "print(history.history)"
   ],
   "outputs": [],
   "execution_count": null
  },
  {
   "cell_type": "code",
   "id": "171f2d8b-b5d9-43da-909f-6c43e8e362d6",
   "metadata": {
    "jp-MarkdownHeadingCollapsed": true,
    "tags": []
   },
   "source": [
    "fig, ax = plt.subplots(figsize=(12, 5))\n",
    "ax.plot(history.history[\"loss\"], label=\"train loss\")\n",
    "ax.plot(history.history[\"accuracy\"], label=\"train accuracy\")\n",
    "ax.plot(history.history[\"val_loss\"], label=\"validation loss\")\n",
    "ax.plot(history.history[\"val_accuracy\"], label=\"validation accuracy\")\n",
    "ax.legend()"
   ],
   "outputs": [],
   "execution_count": null
  },
  {
   "cell_type": "code",
   "id": "16b4c921-0f86-4a97-b6f1-74e8e097f3af",
   "metadata": {},
   "source": [
    "model.evaluate(x_test, y_test, verbose=0)"
   ],
   "outputs": [],
   "execution_count": null
  },
  {
   "cell_type": "code",
   "id": "9f82e205-0802-4a42-8b5a-85f7c8489372",
   "metadata": {},
   "source": [
    "x3 = x_test[1:3,:,:]\n",
    "x3.shape"
   ],
   "outputs": [],
   "execution_count": null
  },
  {
   "cell_type": "code",
   "id": "be7f72d5-7abf-4ae8-9088-2621f2394995",
   "metadata": {},
   "source": [
    "plt.imshow(x3[0], cmap=\"gray\")"
   ],
   "outputs": [],
   "execution_count": null
  },
  {
   "cell_type": "code",
   "id": "8e2b070f-b55f-4f8c-ab07-b5d9b28b7d84",
   "metadata": {},
   "source": [
    "model.predict(x3).round(3)"
   ],
   "outputs": [],
   "execution_count": null
  },
  {
   "cell_type": "code",
   "id": "451daf18-ba7e-477d-93aa-2ba6610384c1",
   "metadata": {},
   "source": [
    "model.predict(x3).shape"
   ],
   "outputs": [],
   "execution_count": null
  },
  {
   "cell_type": "code",
   "id": "41d2e79e-ba2c-40c7-9879-9fbfd2f82f8c",
   "metadata": {},
   "source": [
    "np.argmax(model.predict(x3).round(3), axis=1)"
   ],
   "outputs": [],
   "execution_count": null
  },
  {
   "cell_type": "code",
   "id": "d026226f-120d-48fd-b1ba-be9d0dbd285e",
   "metadata": {},
   "source": [
    "y_test[1:3]"
   ],
   "outputs": [],
   "execution_count": null
  },
  {
   "cell_type": "markdown",
   "id": "867f7d09-b0c0-4884-8dcd-c8c19ef9b635",
   "metadata": {},
   "source": [
    "# Regression"
   ]
  },
  {
   "cell_type": "code",
   "id": "3f0c573c-a200-4f2d-ae03-bb1596179d09",
   "metadata": {},
   "source": [
    "california_housing = fetch_california_housing()\n",
    "california_housing"
   ],
   "outputs": [],
   "execution_count": null
  },
  {
   "cell_type": "code",
   "id": "9d194572-dc02-4df7-9758-d79311ab5b27",
   "metadata": {},
   "source": [
    "X_train0, X_test, y_train0, y_test = train_test_split(\n",
    "                 california_housing[\"data\"],\n",
    "                 california_housing[\"target\"])"
   ],
   "outputs": [],
   "execution_count": null
  },
  {
   "cell_type": "code",
   "id": "984b230c-9740-47d0-a06d-35b532d4d69c",
   "metadata": {},
   "source": [
    "X_train1, X_validation, y_train1, y_validation = train_test_split(X_train0,\n",
    "                                                                  y_train0)"
   ],
   "outputs": [],
   "execution_count": null
  },
  {
   "cell_type": "code",
   "id": "ec3c8236-f96a-40e7-8473-6c3a0e8ea428",
   "metadata": {},
   "source": [
    "X_test.shape"
   ],
   "outputs": [],
   "execution_count": null
  },
  {
   "cell_type": "code",
   "id": "d68f7c87-aabb-46fc-9f1c-0fdeb30b9357",
   "metadata": {},
   "source": [
    "X_train0.shape"
   ],
   "outputs": [],
   "execution_count": null
  },
  {
   "cell_type": "code",
   "id": "e953310b-6805-4527-9a23-a0b2e7ffecbd",
   "metadata": {},
   "source": [
    "X_train1.shape"
   ],
   "outputs": [],
   "execution_count": null
  },
  {
   "cell_type": "code",
   "id": "2d12d3ea-f071-4a0f-86a2-bf42574bf365",
   "metadata": {},
   "source": [
    "X_validation.shape"
   ],
   "outputs": [],
   "execution_count": null
  },
  {
   "cell_type": "code",
   "id": "e1b91290-8ae9-41bf-b65e-9acc83ce5d9c",
   "metadata": {},
   "source": [
    "sc = StandardScaler()\n",
    "X_train_s = sc.fit_transform(X_train1)\n",
    "X_validation_s = sc.transform(X_validation)\n",
    "X_test_s = sc.transform(X_test)"
   ],
   "outputs": [],
   "execution_count": null
  },
  {
   "cell_type": "code",
   "id": "9c3d1f21-9d9f-4c09-84cf-c5003e91a458",
   "metadata": {},
   "source": [
    "model = keras.models.Sequential([\n",
    "    keras.layers.Dense(50, activation=\"relu\"),\n",
    "    keras.layers.Dense(10, activation=\"relu\"),\n",
    "    keras.layers.Dense(1)\n",
    "])"
   ],
   "outputs": [],
   "execution_count": null
  },
  {
   "cell_type": "code",
   "id": "6bf76b5a-12aa-493c-a5d4-70aaa39ba358",
   "metadata": {},
   "source": [
    "model.compile(loss=\"mean_squared_error\",\n",
    "              optimizer=\"sgd\",\n",
    "              metrics=[\"mean_absolute_error\"])"
   ],
   "outputs": [],
   "execution_count": null
  },
  {
   "cell_type": "code",
   "id": "c2e35ee1-6829-4ac9-a8cb-200a7c90271a",
   "metadata": {},
   "source": [
    "model.fit(X_train_s, y_train1, epochs=30,\n",
    "          validation_data=(X_validation_s, y_validation))"
   ],
   "outputs": [],
   "execution_count": null
  },
  {
   "cell_type": "markdown",
   "id": "84dc1b5d-3b94-4a1d-bcf9-f3da38680f1f",
   "metadata": {},
   "source": [
    "# Functional API"
   ]
  },
  {
   "cell_type": "code",
   "id": "de31a64f-5c23-492b-b6d1-b3825d722e01",
   "metadata": {},
   "source": [
    "X_train0.shape[1:]"
   ],
   "outputs": [],
   "execution_count": null
  },
  {
   "cell_type": "code",
   "id": "bf259c70-78e8-49e1-8c53-75c13ab2411e",
   "metadata": {},
   "source": [
    "input_ = keras.layers.Input(shape=X_train1.shape[1:])\n",
    "hidden_layer1 = keras.layers.Dense(50, activation=\"relu\")(input_)\n",
    "hidden_layer2 = keras.layers.Dense(10, activation=\"relu\")(hidden_layer1)\n",
    "concatenate_layer = keras.layers.Concatenate()([input_, hidden_layer2])\n",
    "output = keras.layers.Dense(1)(concatenate_layer)\n",
    "model = keras.Model(inputs=[input_], outputs=[output])"
   ],
   "outputs": [],
   "execution_count": null
  },
  {
   "cell_type": "code",
   "id": "ba5c2d24-129a-41fb-9b9c-6c9f9d56f60f",
   "metadata": {},
   "source": [
    "model.compile(loss=\"mean_squared_error\",\n",
    "              optimizer=\"sgd\",\n",
    "              metrics=[\"mean_absolute_error\"])"
   ],
   "outputs": [],
   "execution_count": null
  },
  {
   "cell_type": "code",
   "id": "a38f68c0-1d84-48a9-b762-87f8b079acb3",
   "metadata": {},
   "source": [
    "model.fit(X_train_s, y_train1, epochs=30,\n",
    "          validation_data=(X_validation_s, y_validation))"
   ],
   "outputs": [],
   "execution_count": null
  },
  {
   "cell_type": "code",
   "id": "5230562a-70cc-4962-b676-0c74b16d1fa9",
   "metadata": {},
   "source": [
    "X_train_s_1, X_train_s_2 = X_train_s[:, :6], X_train_s[:, -4:]\n",
    "X_validation_s_1, X_validation_s_2 = X_validation_s[:, :6], X_validation_s[:, -4:]\n",
    "X_test_s_1, X_test_s_2 = X_test_s[:, :6], X_test_s[:, -4:]"
   ],
   "outputs": [],
   "execution_count": null
  },
  {
   "cell_type": "code",
   "id": "42801973-d581-4027-8345-7c837d358399",
   "metadata": {},
   "source": [
    "input_1 = keras.layers.Input(shape=[6])\n",
    "input_2 = keras.layers.Input(shape=[4])\n",
    "hidden_layer1 = keras.layers.Dense(50, activation=\"relu\")(input_1)\n",
    "hidden_layer2 = keras.layers.Dense(10, activation=\"relu\")(hidden_layer1)\n",
    "concatenate_layer = keras.layers.Concatenate()([input_2, hidden_layer2])\n",
    "output = keras.layers.Dense(1)(concatenate_layer)\n",
    "model = keras.Model(inputs=[input_1, input_2], outputs=[output])"
   ],
   "outputs": [],
   "execution_count": null
  },
  {
   "cell_type": "code",
   "id": "3bf1b9d6-69f9-4d61-ae1b-2b0650887e63",
   "metadata": {},
   "source": [
    "model.compile(loss=\"mean_squared_error\",\n",
    "              optimizer=\"sgd\",\n",
    "              metrics=[\"mean_absolute_error\"])"
   ],
   "outputs": [],
   "execution_count": null
  },
  {
   "cell_type": "code",
   "id": "5abfadd5-65a0-40d7-84a8-df01109ff3e3",
   "metadata": {},
   "source": [
    "model.fit((X_train_s_1, X_train_s_2), y_train1, epochs=30,\n",
    "          validation_data=((X_validation_s_1, X_validation_s_2),\n",
    "                           y_validation))"
   ],
   "outputs": [],
   "execution_count": null
  },
  {
   "cell_type": "code",
   "id": "9a7e7a6f-1282-4654-8ddc-fe3000c0d93e",
   "metadata": {},
   "source": [
    "input_1 = keras.layers.Input(shape=[6])\n",
    "input_2 = keras.layers.Input(shape=[4])\n",
    "hidden_layer1 = keras.layers.Dense(50, activation=\"relu\")(input_1)\n",
    "hidden_layer2 = keras.layers.Dense(10, activation=\"relu\")(hidden_layer1)\n",
    "concatenate_layer = keras.layers.Concatenate()([input_2, hidden_layer2])\n",
    "output = keras.layers.Dense(1, name=\"output\")(concatenate_layer)\n",
    "helper_output = keras.layers.Dense(1, name=\"helper_output\")(hidden_layer2)\n",
    "model_f = keras.Model(inputs=[input_1, input_2],\n",
    "                    outputs=[output, helper_output])"
   ],
   "outputs": [],
   "execution_count": null
  },
  {
   "cell_type": "code",
   "id": "649ddbbe-5106-434f-9131-35ca5a66148b",
   "metadata": {},
   "source": [
    "model_f.compile(loss=[\"mse\", \"mse\"],\n",
    "              loss_weights = [0.8, 0.2],\n",
    "              optimizer=\"sgd\",\n",
    "              metrics=[\"mean_absolute_error\"])"
   ],
   "outputs": [],
   "execution_count": null
  },
  {
   "cell_type": "code",
   "id": "9f905791-7fd1-4451-9f30-5a3db023f822",
   "metadata": {},
   "source": [
    "model_f.fit((X_train_s_1, X_train_s_2), (y_train1, y_train1), epochs=30,\n",
    "          validation_data=((X_validation_s_1, X_validation_s_2),\n",
    "                           (y_validation, y_validation)))"
   ],
   "outputs": [],
   "execution_count": null
  },
  {
   "cell_type": "markdown",
   "id": "ac726e66-7082-4b68-826e-5c2003634bdd",
   "metadata": {},
   "source": [
    "# Subclass API"
   ]
  },
  {
   "cell_type": "code",
   "id": "00f2eab2-ea88-465e-bb1a-117fc16b9133",
   "metadata": {},
   "source": [
    "class WideAndDeepANN(keras.Model):\n",
    "    def __init__(self, activation=\"relu\", **kwargs):\n",
    "        super().__init__(**kwargs)\n",
    "        self.hidden_layer_1 = keras.layers.Dense(50, activation=activation)\n",
    "        self.hidden_layer_2 = keras.layers.Dense(10, activation=activation)\n",
    "        self.final_output   = keras.layers.Dense(1)\n",
    "        self.helper_output  = keras.layers.Dense(1)\n",
    "    \n",
    "    def call(self, inputs):\n",
    "        input_1, input_2 = inputs\n",
    "        h1_out = self.hidden_layer_1(input_1)\n",
    "        h2_out = self.hidden_layer_2(h1_out)\n",
    "        concat_out = keras.layers.concatenate([input_2, h2_out])\n",
    "        final_out = self.final_output(concat_out)\n",
    "        helper_out = self.helper_output(h2_out)\n",
    "        return final_out, helper_out"
   ],
   "outputs": [],
   "execution_count": null
  },
  {
   "cell_type": "code",
   "id": "0a9d0481-4f86-4046-9718-427f03164b61",
   "metadata": {},
   "source": [
    "model_sub = WideAndDeepANN()"
   ],
   "outputs": [],
   "execution_count": null
  },
  {
   "cell_type": "code",
   "id": "e4bccd74-e1f0-4379-9a95-23aad79c9388",
   "metadata": {},
   "source": [
    "model_sub.compile(loss=[\"mse\", \"mse\"],\n",
    "              loss_weights = [0.8, 0.2],\n",
    "              optimizer=\"sgd\",\n",
    "              metrics=[\"mean_absolute_error\"])"
   ],
   "outputs": [],
   "execution_count": null
  },
  {
   "cell_type": "code",
   "id": "41cfbb9a-e734-4175-82f8-327f1489011a",
   "metadata": {},
   "source": [
    "model_sub.fit((X_train_s_1, X_train_s_2), (y_train1, y_train1), epochs=30,\n",
    "          validation_data=((X_validation_s_1, X_validation_s_2),\n",
    "                           (y_validation, y_validation)))"
   ],
   "outputs": [],
   "execution_count": null
  },
  {
   "cell_type": "code",
   "id": "f97638ca-6e2c-4f44-b174-152ec8d1e5ec",
   "metadata": {},
   "source": [
    "model_f.summary()"
   ],
   "outputs": [],
   "execution_count": null
  },
  {
   "cell_type": "code",
   "id": "a3a37955-f8d8-48d0-906c-1b62e1a7408f",
   "metadata": {},
   "source": [
    "model_f.save(\"housing_reg_model_f.h5\")"
   ],
   "outputs": [],
   "execution_count": null
  },
  {
   "cell_type": "code",
   "id": "460e9aa1-c729-4a4c-a4d3-9977c28bac97",
   "metadata": {},
   "source": [
    "model_f_reg = keras.models.load_model(\"housing_reg_model_f.h5\")"
   ],
   "outputs": [],
   "execution_count": null
  },
  {
   "cell_type": "code",
   "id": "7ee73efc-6f07-4ae8-b4cc-a449988a9911",
   "metadata": {},
   "source": [
    "model_f_reg.summary()"
   ],
   "outputs": [],
   "execution_count": null
  },
  {
   "cell_type": "code",
   "id": "301dfbab-3be3-46e8-b9aa-86e2a07401af",
   "metadata": {},
   "source": [
    "model_sub.summary()"
   ],
   "outputs": [],
   "execution_count": null
  },
  {
   "cell_type": "code",
   "id": "1be43627-78cf-4e53-a8f2-737107adc321",
   "metadata": {},
   "source": [
    "model_sub.save(\"housing_reg_model_sub.h5\")\n",
    "#.save_weight()"
   ],
   "outputs": [],
   "execution_count": null
  },
  {
   "cell_type": "markdown",
   "id": "6ee95e19-cfda-407f-bc9b-ee899641c635",
   "metadata": {},
   "source": [
    "# Callback"
   ]
  },
  {
   "cell_type": "code",
   "id": "6f3c7546-865a-4cc5-894c-a23f036ef7c5",
   "metadata": {},
   "source": [
    "model_checkpoint_callback = keras.callbacks.ModelCheckpoint(\"model_cb_reg_housing.h5\",\n",
    "                                                         save_best_only=True)\n",
    "earlystopping_callback = keras.callbacks.EarlyStopping(patience=5,\n",
    "                             restore_best_weights=True)"
   ],
   "outputs": [],
   "execution_count": null
  },
  {
   "cell_type": "code",
   "id": "238c2921-4916-493b-8d96-1dff48511618",
   "metadata": {},
   "source": [
    "model_f.fit((X_train_s_1, X_train_s_2), (y_train1, y_train1), epochs=5,\n",
    "          validation_data=((X_validation_s_1, X_validation_s_2),\n",
    "                           (y_validation, y_validation)),\n",
    "           callbacks=[model_checkpoint_callback, earlystopping_callback])"
   ],
   "outputs": [],
   "execution_count": null
  },
  {
   "cell_type": "code",
   "id": "c007c150-ba90-48ec-8f67-497d8c785d73",
   "metadata": {},
   "source": [
    "class MyCallback(keras.callbacks.Callback):\n",
    "    def on_train_end(self, logs=None):\n",
    "        print(\"\")\n",
    "    def on_epoch_end(self, epoch, logs):\n",
    "        print(logs[\"val_loss\"])"
   ],
   "outputs": [],
   "execution_count": null
  },
  {
   "cell_type": "code",
   "id": "5fbd577a-bc4b-4960-b56d-0f6779e932db",
   "metadata": {},
   "source": [
    "mycb = MyCallback()"
   ],
   "outputs": [],
   "execution_count": null
  },
  {
   "cell_type": "code",
   "id": "f2d3f1b1-4875-46a3-b83b-32d8e80572ac",
   "metadata": {},
   "source": [
    "tb_callback = keras.callbacks.TensorBoard(\"tb_log\")"
   ],
   "outputs": [],
   "execution_count": null
  },
  {
   "cell_type": "code",
   "id": "65d7654b-bc7d-42bd-a7af-4ba7ea9812ce",
   "metadata": {},
   "source": [
    "model_f.fit((X_train_s_1, X_train_s_2), (y_train1, y_train1), epochs=5,\n",
    "          validation_data=((X_validation_s_1, X_validation_s_2),\n",
    "                           (y_validation, y_validation)),\n",
    "           callbacks=[tb_callback])"
   ],
   "outputs": [],
   "execution_count": null
  },
  {
   "cell_type": "code",
   "id": "b8675c62-a3f0-485d-b277-c6a66002858c",
   "metadata": {},
   "source": [
    "%load_ext tensorboard"
   ],
   "outputs": [],
   "execution_count": null
  },
  {
   "cell_type": "code",
   "id": "89bdb56a-35b8-494b-8abb-a2de647f0842",
   "metadata": {},
   "source": [
    "%tensorboard --logdir=./tb_log "
   ],
   "outputs": [],
   "execution_count": null
  },
  {
   "cell_type": "markdown",
   "id": "ae121f1f-d774-47a8-88e3-b30aa1691001",
   "metadata": {},
   "source": [
    "# Hyperparameter optimization"
   ]
  },
  {
   "cell_type": "code",
   "id": "1b8c38fe-c7b5-4ddc-9a31-744b08d75f75",
   "metadata": {},
   "source": [
    "def ann_model(number_of_hidden_layers=1,\n",
    "              number_of_neurons=50,\n",
    "              lr=0.01):\n",
    "    model = keras.models.Sequential()\n",
    "    model.add(keras.layers.InputLayer(input_shape=[8]))\n",
    "    for hidden_layer in range(number_of_hidden_layers):\n",
    "        model.add(keras.layers.Dense(number_of_neurons, activation=\"selu\"))\n",
    "    model.add(keras.layers.Dense(1))\n",
    "    sgd = keras.optimizers.SGD(lr=lr)\n",
    "    model.compile(loss=\"mse\", optimizer=sgd)\n",
    "    return model"
   ],
   "outputs": [],
   "execution_count": null
  },
  {
   "metadata": {},
   "cell_type": "code",
   "source": "keras_sk_reg = keras.wrappers.scikit_learn.KerasRegressor(build_fn=ann_model)",
   "id": "30bec764-e920-4581-8165-fbcdc6c03b2d",
   "outputs": [],
   "execution_count": null
  },
  {
   "cell_type": "code",
   "id": "c41342e2-213c-4016-bfcf-ab366cd9b7b9",
   "metadata": {},
   "source": [
    "param_grid = {\"number_of_hidden_layers\":[1, 3, 5],\n",
    "              \"number_of_neurons\":[50, 100, 150],\n",
    "              \"lr\":[0.001, 0.001, 0.1]}"
   ],
   "outputs": [],
   "execution_count": null
  },
  {
   "cell_type": "code",
   "id": "c1f60017-9f4a-4098-895d-35558c581e5f",
   "metadata": {},
   "source": [
    "keras_sk_reg_gs = GridSearchCV(keras_sk_reg, param_grid)"
   ],
   "outputs": [],
   "execution_count": null
  },
  {
   "cell_type": "code",
   "id": "21b31636-9e51-4fa5-9273-85ab9a2517c7",
   "metadata": {},
   "source": [
    "keras_sk_reg_gs.fit(X_train_s, y_train1, epochs=10,\n",
    "                    validation_data=(X_validation, y_validation),\n",
    "                    callbacks=[keras.callbacks.EarlyStopping(patience=5)])"
   ],
   "outputs": [],
   "execution_count": null
  }
 ],
 "metadata": {
  "kernelspec": {
   "display_name": "Python 3 (ipykernel)",
   "language": "python",
   "name": "python3"
  },
  "language_info": {
   "codemirror_mode": {
    "name": "ipython",
    "version": 3
   },
   "file_extension": ".py",
   "mimetype": "text/x-python",
   "name": "python",
   "nbconvert_exporter": "python",
   "pygments_lexer": "ipython3",
   "version": "3.7.11"
  }
 },
 "nbformat": 4,
 "nbformat_minor": 5
}
