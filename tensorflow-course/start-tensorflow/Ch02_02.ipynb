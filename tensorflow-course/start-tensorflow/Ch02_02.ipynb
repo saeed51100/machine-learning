{
 "cells": [
  {
   "metadata": {
    "ExecuteTime": {
     "end_time": "2025-03-02T07:43:33.206189Z",
     "start_time": "2025-03-02T07:43:33.200848Z"
    }
   },
   "cell_type": "code",
   "source": [
    "import tensorflow as tf\n",
    "from tensorflow import keras\n",
    "import matplotlib.pyplot as plt"
   ],
   "id": "13b8867ef87cb5fe",
   "outputs": [],
   "execution_count": 21
  },
  {
   "metadata": {
    "ExecuteTime": {
     "end_time": "2025-03-02T07:43:33.286291Z",
     "start_time": "2025-03-02T07:43:33.282811Z"
    }
   },
   "cell_type": "code",
   "source": "fmnist_data = keras.datasets.fashion_mnist",
   "id": "96f8b3514769e804",
   "outputs": [],
   "execution_count": 22
  },
  {
   "metadata": {
    "ExecuteTime": {
     "end_time": "2025-03-02T07:43:33.762350Z",
     "start_time": "2025-03-02T07:43:33.329196Z"
    }
   },
   "cell_type": "code",
   "source": "(x_train, y_train), (x_test, y_test) = fmnist_data.load_data()",
   "id": "78cec47127f2316b",
   "outputs": [],
   "execution_count": 23
  },
  {
   "metadata": {
    "ExecuteTime": {
     "end_time": "2025-03-02T07:43:33.793518Z",
     "start_time": "2025-03-02T07:43:33.787217Z"
    }
   },
   "cell_type": "code",
   "source": "x_train.shape",
   "id": "da9d38036849252e",
   "outputs": [
    {
     "data": {
      "text/plain": [
       "(60000, 28, 28)"
      ]
     },
     "execution_count": 24,
     "metadata": {},
     "output_type": "execute_result"
    }
   ],
   "execution_count": 24
  },
  {
   "metadata": {
    "ExecuteTime": {
     "end_time": "2025-03-02T07:43:33.845877Z",
     "start_time": "2025-03-02T07:43:33.836019Z"
    }
   },
   "cell_type": "code",
   "source": "x_test.shape",
   "id": "18a6fd741ff0f7d",
   "outputs": [
    {
     "data": {
      "text/plain": [
       "(10000, 28, 28)"
      ]
     },
     "execution_count": 25,
     "metadata": {},
     "output_type": "execute_result"
    }
   ],
   "execution_count": 25
  },
  {
   "metadata": {
    "ExecuteTime": {
     "end_time": "2025-03-02T07:43:33.901652Z",
     "start_time": "2025-03-02T07:43:33.893528Z"
    }
   },
   "cell_type": "code",
   "source": "y_train.shape",
   "id": "a428ffd0c8e6277b",
   "outputs": [
    {
     "data": {
      "text/plain": [
       "(60000,)"
      ]
     },
     "execution_count": 26,
     "metadata": {},
     "output_type": "execute_result"
    }
   ],
   "execution_count": 26
  },
  {
   "metadata": {
    "ExecuteTime": {
     "end_time": "2025-03-02T07:43:33.967840Z",
     "start_time": "2025-03-02T07:43:33.953523Z"
    }
   },
   "cell_type": "code",
   "source": "y_train[:10]",
   "id": "4927ea8448ff28bc",
   "outputs": [
    {
     "data": {
      "text/plain": [
       "array([9, 0, 0, 3, 0, 2, 7, 2, 5, 5], dtype=uint8)"
      ]
     },
     "execution_count": 27,
     "metadata": {},
     "output_type": "execute_result"
    }
   ],
   "execution_count": 27
  },
  {
   "metadata": {
    "ExecuteTime": {
     "end_time": "2025-03-02T07:43:34.213940Z",
     "start_time": "2025-03-02T07:43:34.011194Z"
    }
   },
   "cell_type": "code",
   "source": "plt.imshow(x_train[0,], cmap=\"gray\")",
   "id": "c1b3ed993f2ee09b",
   "outputs": [
    {
     "data": {
      "text/plain": [
       "<matplotlib.image.AxesImage at 0x73c456b0ff10>"
      ]
     },
     "execution_count": 28,
     "metadata": {},
     "output_type": "execute_result"
    },
    {
     "data": {
      "text/plain": [
       "<Figure size 640x480 with 1 Axes>"
      ],
      "image/png": "[encoded data removed]"
     },
     "metadata": {},
     "output_type": "display_data"
    }
   ],
   "execution_count": 28
  },
  {
   "metadata": {
    "ExecuteTime": {
     "end_time": "2025-03-02T07:43:34.293642Z",
     "start_time": "2025-03-02T07:43:34.240374Z"
    }
   },
   "cell_type": "code",
   "source": [
    "model = keras.models.Sequential()\n",
    "model.add(keras.layers.Flatten(input_shape=[28, 28]))\n",
    "model.add(keras.layers.Dense(100, activation=\"relu\"))\n",
    "model.add(keras.layers.Dense(75, activation=\"relu\"))\n",
    "model.add(keras.layers.Dense(10, activation=\"relu\"))"
   ],
   "id": "aad95ddfaf9bed8e",
   "outputs": [],
   "execution_count": 29
  },
  {
   "metadata": {},
   "cell_type": "markdown",
   "source": "# Define Model",
   "id": "5dc1478468ed7105"
  },
  {
   "metadata": {
    "ExecuteTime": {
     "end_time": "2025-03-02T07:43:34.481090Z",
     "start_time": "2025-03-02T07:43:34.312456Z"
    }
   },
   "cell_type": "code",
   "source": [
    "model = keras.models.Sequential([\n",
    "    keras.layers.Flatten(input_shape=[28, 28]),\n",
    "    keras.layers.Dense(100, activation=\"relu\"),\n",
    "    keras.layers.Dense(75, activation=\"relu\"),\n",
    "    keras.layers.Dense(10, activation=\"relu\")\n",
    "    ])"
   ],
   "id": "6ccd30620a08c1f9",
   "outputs": [],
   "execution_count": 30
  },
  {
   "metadata": {
    "ExecuteTime": {
     "end_time": "2025-03-02T07:43:34.586720Z",
     "start_time": "2025-03-02T07:43:34.559999Z"
    }
   },
   "cell_type": "code",
   "source": "model.summary()",
   "id": "6541ef047f1f4350",
   "outputs": [
    {
     "data": {
      "text/plain": [
       "\u001B[1mModel: \"sequential_3\"\u001B[0m\n"
      ],
      "text/html": [
       "<pre style=\"white-space:pre;overflow-x:auto;line-height:normal;font-family:Menlo,'DejaVu Sans Mono',consolas,'Courier New',monospace\"><span style=\"font-weight: bold\">Model: \"sequential_3\"</span>\n",
       "</pre>\n"
      ]
     },
     "metadata": {},
     "output_type": "display_data"
    },
    {
     "data": {
      "text/plain": [
       "┏━━━━━━━━━━━━━━━━━━━━━━━━━━━━━━━━━┳━━━━━━━━━━━━━━━━━━━━━━━━┳━━━━━━━━━━━━━━━┓\n",
       "┃\u001B[1m \u001B[0m\u001B[1mLayer (type)                   \u001B[0m\u001B[1m \u001B[0m┃\u001B[1m \u001B[0m\u001B[1mOutput Shape          \u001B[0m\u001B[1m \u001B[0m┃\u001B[1m \u001B[0m\u001B[1m      Param #\u001B[0m\u001B[1m \u001B[0m┃\n",
       "┡━━━━━━━━━━━━━━━━━━━━━━━━━━━━━━━━━╇━━━━━━━━━━━━━━━━━━━━━━━━╇━━━━━━━━━━━━━━━┩\n",
       "│ flatten_3 (\u001B[38;5;33mFlatten\u001B[0m)             │ (\u001B[38;5;45mNone\u001B[0m, \u001B[38;5;34m784\u001B[0m)            │             \u001B[38;5;34m0\u001B[0m │\n",
       "├─────────────────────────────────┼────────────────────────┼───────────────┤\n",
       "│ dense_9 (\u001B[38;5;33mDense\u001B[0m)                 │ (\u001B[38;5;45mNone\u001B[0m, \u001B[38;5;34m100\u001B[0m)            │        \u001B[38;5;34m78,500\u001B[0m │\n",
       "├─────────────────────────────────┼────────────────────────┼───────────────┤\n",
       "│ dense_10 (\u001B[38;5;33mDense\u001B[0m)                │ (\u001B[38;5;45mNone\u001B[0m, \u001B[38;5;34m75\u001B[0m)             │         \u001B[38;5;34m7,575\u001B[0m │\n",
       "├─────────────────────────────────┼────────────────────────┼───────────────┤\n",
       "│ dense_11 (\u001B[38;5;33mDense\u001B[0m)                │ (\u001B[38;5;45mNone\u001B[0m, \u001B[38;5;34m10\u001B[0m)             │           \u001B[38;5;34m760\u001B[0m │\n",
       "└─────────────────────────────────┴────────────────────────┴───────────────┘\n"
      ],
      "text/html": [
       "<pre style=\"white-space:pre;overflow-x:auto;line-height:normal;font-family:Menlo,'DejaVu Sans Mono',consolas,'Courier New',monospace\">┏━━━━━━━━━━━━━━━━━━━━━━━━━━━━━━━━━┳━━━━━━━━━━━━━━━━━━━━━━━━┳━━━━━━━━━━━━━━━┓\n",
       "┃<span style=\"font-weight: bold\"> Layer (type)                    </span>┃<span style=\"font-weight: bold\"> Output Shape           </span>┃<span style=\"font-weight: bold\">       Param # </span>┃\n",
       "┡━━━━━━━━━━━━━━━━━━━━━━━━━━━━━━━━━╇━━━━━━━━━━━━━━━━━━━━━━━━╇━━━━━━━━━━━━━━━┩\n",
       "│ flatten_3 (<span style=\"color: #0087ff; text-decoration-color: #0087ff\">Flatten</span>)             │ (<span style=\"color: #00d7ff; text-decoration-color: #00d7ff\">None</span>, <span style=\"color: #00af00; text-decoration-color: #00af00\">784</span>)            │             <span style=\"color: #00af00; text-decoration-color: #00af00\">0</span> │\n",
       "├─────────────────────────────────┼────────────────────────┼───────────────┤\n",
       "│ dense_9 (<span style=\"color: #0087ff; text-decoration-color: #0087ff\">Dense</span>)                 │ (<span style=\"color: #00d7ff; text-decoration-color: #00d7ff\">None</span>, <span style=\"color: #00af00; text-decoration-color: #00af00\">100</span>)            │        <span style=\"color: #00af00; text-decoration-color: #00af00\">78,500</span> │\n",
       "├─────────────────────────────────┼────────────────────────┼───────────────┤\n",
       "│ dense_10 (<span style=\"color: #0087ff; text-decoration-color: #0087ff\">Dense</span>)                │ (<span style=\"color: #00d7ff; text-decoration-color: #00d7ff\">None</span>, <span style=\"color: #00af00; text-decoration-color: #00af00\">75</span>)             │         <span style=\"color: #00af00; text-decoration-color: #00af00\">7,575</span> │\n",
       "├─────────────────────────────────┼────────────────────────┼───────────────┤\n",
       "│ dense_11 (<span style=\"color: #0087ff; text-decoration-color: #0087ff\">Dense</span>)                │ (<span style=\"color: #00d7ff; text-decoration-color: #00d7ff\">None</span>, <span style=\"color: #00af00; text-decoration-color: #00af00\">10</span>)             │           <span style=\"color: #00af00; text-decoration-color: #00af00\">760</span> │\n",
       "└─────────────────────────────────┴────────────────────────┴───────────────┘\n",
       "</pre>\n"
      ]
     },
     "metadata": {},
     "output_type": "display_data"
    },
    {
     "data": {
      "text/plain": [
       "\u001B[1m Total params: \u001B[0m\u001B[38;5;34m86,835\u001B[0m (339.20 KB)\n"
      ],
      "text/html": [
       "<pre style=\"white-space:pre;overflow-x:auto;line-height:normal;font-family:Menlo,'DejaVu Sans Mono',consolas,'Courier New',monospace\"><span style=\"font-weight: bold\"> Total params: </span><span style=\"color: #00af00; text-decoration-color: #00af00\">86,835</span> (339.20 KB)\n",
       "</pre>\n"
      ]
     },
     "metadata": {},
     "output_type": "display_data"
    },
    {
     "data": {
      "text/plain": [
       "\u001B[1m Trainable params: \u001B[0m\u001B[38;5;34m86,835\u001B[0m (339.20 KB)\n"
      ],
      "text/html": [
       "<pre style=\"white-space:pre;overflow-x:auto;line-height:normal;font-family:Menlo,'DejaVu Sans Mono',consolas,'Courier New',monospace\"><span style=\"font-weight: bold\"> Trainable params: </span><span style=\"color: #00af00; text-decoration-color: #00af00\">86,835</span> (339.20 KB)\n",
       "</pre>\n"
      ]
     },
     "metadata": {},
     "output_type": "display_data"
    },
    {
     "data": {
      "text/plain": [
       "\u001B[1m Non-trainable params: \u001B[0m\u001B[38;5;34m0\u001B[0m (0.00 B)\n"
      ],
      "text/html": [
       "<pre style=\"white-space:pre;overflow-x:auto;line-height:normal;font-family:Menlo,'DejaVu Sans Mono',consolas,'Courier New',monospace\"><span style=\"font-weight: bold\"> Non-trainable params: </span><span style=\"color: #00af00; text-decoration-color: #00af00\">0</span> (0.00 B)\n",
       "</pre>\n"
      ]
     },
     "metadata": {},
     "output_type": "display_data"
    }
   ],
   "execution_count": 31
  },
  {
   "metadata": {
    "ExecuteTime": {
     "end_time": "2025-03-02T07:43:34.724859Z",
     "start_time": "2025-03-02T07:43:34.709947Z"
    }
   },
   "cell_type": "code",
   "source": "model.layers",
   "id": "d73ce8b22857e5b1",
   "outputs": [
    {
     "data": {
      "text/plain": [
       "[<Flatten name=flatten_3, built=True>,\n",
       " <Dense name=dense_9, built=True>,\n",
       " <Dense name=dense_10, built=True>,\n",
       " <Dense name=dense_11, built=True>]"
      ]
     },
     "execution_count": 32,
     "metadata": {},
     "output_type": "execute_result"
    }
   ],
   "execution_count": 32
  },
  {
   "metadata": {
    "ExecuteTime": {
     "end_time": "2025-03-02T07:43:34.767400Z",
     "start_time": "2025-03-02T07:43:34.755689Z"
    }
   },
   "cell_type": "code",
   "source": "weights, bias = model.layers[1].get_weights()",
   "id": "fd7b795a8f5be114",
   "outputs": [],
   "execution_count": 33
  },
  {
   "metadata": {
    "ExecuteTime": {
     "end_time": "2025-03-02T07:43:34.821436Z",
     "start_time": "2025-03-02T07:43:34.814077Z"
    }
   },
   "cell_type": "code",
   "source": "weights.shape",
   "id": "20bda22d10fccdd8",
   "outputs": [
    {
     "data": {
      "text/plain": [
       "(784, 100)"
      ]
     },
     "execution_count": 34,
     "metadata": {},
     "output_type": "execute_result"
    }
   ],
   "execution_count": 34
  },
  {
   "metadata": {
    "ExecuteTime": {
     "end_time": "2025-03-02T07:43:34.885900Z",
     "start_time": "2025-03-02T07:43:34.876687Z"
    }
   },
   "cell_type": "code",
   "source": "bias",
   "id": "e2c051a15388273a",
   "outputs": [
    {
     "data": {
      "text/plain": [
       "array([0., 0., 0., 0., 0., 0., 0., 0., 0., 0., 0., 0., 0., 0., 0., 0., 0.,\n",
       "       0., 0., 0., 0., 0., 0., 0., 0., 0., 0., 0., 0., 0., 0., 0., 0., 0.,\n",
       "       0., 0., 0., 0., 0., 0., 0., 0., 0., 0., 0., 0., 0., 0., 0., 0., 0.,\n",
       "       0., 0., 0., 0., 0., 0., 0., 0., 0., 0., 0., 0., 0., 0., 0., 0., 0.,\n",
       "       0., 0., 0., 0., 0., 0., 0., 0., 0., 0., 0., 0., 0., 0., 0., 0., 0.,\n",
       "       0., 0., 0., 0., 0., 0., 0., 0., 0., 0., 0., 0., 0., 0., 0.],\n",
       "      dtype=float32)"
      ]
     },
     "execution_count": 35,
     "metadata": {},
     "output_type": "execute_result"
    }
   ],
   "execution_count": 35
  },
  {
   "metadata": {},
   "cell_type": "markdown",
   "source": "# Compile Model",
   "id": "7c7b0858cffd1e79"
  },
  {
   "metadata": {
    "ExecuteTime": {
     "end_time": "2025-03-02T07:43:34.977446Z",
     "start_time": "2025-03-02T07:43:34.960239Z"
    }
   },
   "cell_type": "code",
   "source": [
    "model.compile(loss=\"sparse_categorical_crossentropy\",\n",
    "              optimizer=\"sgd\",\n",
    "              metrics=[\"accuracy\"])"
   ],
   "id": "1dd22281844ac25e",
   "outputs": [],
   "execution_count": 36
  },
  {
   "metadata": {},
   "cell_type": "markdown",
   "source": "# Fit Modelm",
   "id": "36e8bc831ff87c9"
  },
  {
   "metadata": {
    "ExecuteTime": {
     "end_time": "2025-03-02T07:48:56.510694Z",
     "start_time": "2025-03-02T07:43:35.014319Z"
    }
   },
   "cell_type": "code",
   "source": "history = model.fit(x_train, y_train, epochs=50, validation_split=0.15)",
   "id": "34f35a0abbfe13bb",
   "outputs": [
    {
     "name": "stdout",
     "output_type": "stream",
     "text": [
      "Epoch 1/50\n"
     ]
    },
    {
     "name": "stderr",
     "output_type": "stream",
     "text": [
      "2025-03-02 11:13:35.079314: W external/local_xla/xla/tsl/framework/cpu_allocator_impl.cc:83] Allocation of 39984000 exceeds 10% of free system memory.\n"
     ]
    },
    {
     "name": "stdout",
     "output_type": "stream",
     "text": [
      "\u001B[1m1594/1594\u001B[0m \u001B[32m━━━━━━━━━━━━━━━━━━━━\u001B[0m\u001B[37m\u001B[0m \u001B[1m6s\u001B[0m 4ms/step - accuracy: 0.1179 - loss: 9.8011 - val_accuracy: 0.1396 - val_loss: 11.0357\n",
      "Epoch 2/50\n",
      "\u001B[1m1594/1594\u001B[0m \u001B[32m━━━━━━━━━━━━━━━━━━━━\u001B[0m\u001B[37m\u001B[0m \u001B[1m5s\u001B[0m 3ms/step - accuracy: 0.1371 - loss: 11.0986 - val_accuracy: 0.1472 - val_loss: 11.0356\n",
      "Epoch 3/50\n",
      "\u001B[1m1594/1594\u001B[0m \u001B[32m━━━━━━━━━━━━━━━━━━━━\u001B[0m\u001B[37m\u001B[0m \u001B[1m5s\u001B[0m 3ms/step - accuracy: 0.1417 - loss: 11.1232 - val_accuracy: 0.1472 - val_loss: 11.0356\n",
      "Epoch 4/50\n",
      "\u001B[1m1594/1594\u001B[0m \u001B[32m━━━━━━━━━━━━━━━━━━━━\u001B[0m\u001B[37m\u001B[0m \u001B[1m6s\u001B[0m 3ms/step - accuracy: 0.1461 - loss: 11.0604 - val_accuracy: 0.1472 - val_loss: 11.0356\n",
      "Epoch 5/50\n",
      "\u001B[1m1594/1594\u001B[0m \u001B[32m━━━━━━━━━━━━━━━━━━━━\u001B[0m\u001B[37m\u001B[0m \u001B[1m6s\u001B[0m 4ms/step - accuracy: 0.1429 - loss: 11.0295 - val_accuracy: 0.1472 - val_loss: 11.0356\n",
      "Epoch 6/50\n",
      "\u001B[1m1594/1594\u001B[0m \u001B[32m━━━━━━━━━━━━━━━━━━━━\u001B[0m\u001B[37m\u001B[0m \u001B[1m7s\u001B[0m 4ms/step - accuracy: 0.1422 - loss: 11.0224 - val_accuracy: 0.1472 - val_loss: 11.0356\n",
      "Epoch 7/50\n",
      "\u001B[1m1594/1594\u001B[0m \u001B[32m━━━━━━━━━━━━━━━━━━━━\u001B[0m\u001B[37m\u001B[0m \u001B[1m6s\u001B[0m 4ms/step - accuracy: 0.1454 - loss: 11.0658 - val_accuracy: 0.1472 - val_loss: 11.0356\n",
      "Epoch 8/50\n",
      "\u001B[1m1594/1594\u001B[0m \u001B[32m━━━━━━━━━━━━━━━━━━━━\u001B[0m\u001B[37m\u001B[0m \u001B[1m9s\u001B[0m 6ms/step - accuracy: 0.1429 - loss: 11.0894 - val_accuracy: 0.1472 - val_loss: 11.0356\n",
      "Epoch 9/50\n",
      "\u001B[1m1594/1594\u001B[0m \u001B[32m━━━━━━━━━━━━━━━━━━━━\u001B[0m\u001B[37m\u001B[0m \u001B[1m8s\u001B[0m 5ms/step - accuracy: 0.1423 - loss: 11.0895 - val_accuracy: 0.1472 - val_loss: 11.0356\n",
      "Epoch 10/50\n",
      "\u001B[1m1594/1594\u001B[0m \u001B[32m━━━━━━━━━━━━━━━━━━━━\u001B[0m\u001B[37m\u001B[0m \u001B[1m9s\u001B[0m 6ms/step - accuracy: 0.1429 - loss: 11.0988 - val_accuracy: 0.1472 - val_loss: 11.0356\n",
      "Epoch 11/50\n",
      "\u001B[1m1594/1594\u001B[0m \u001B[32m━━━━━━━━━━━━━━━━━━━━\u001B[0m\u001B[37m\u001B[0m \u001B[1m9s\u001B[0m 6ms/step - accuracy: 0.1434 - loss: 11.0637 - val_accuracy: 0.1472 - val_loss: 11.0356\n",
      "Epoch 12/50\n",
      "\u001B[1m1594/1594\u001B[0m \u001B[32m━━━━━━━━━━━━━━━━━━━━\u001B[0m\u001B[37m\u001B[0m \u001B[1m7s\u001B[0m 5ms/step - accuracy: 0.1445 - loss: 11.0361 - val_accuracy: 0.1472 - val_loss: 11.0356\n",
      "Epoch 13/50\n",
      "\u001B[1m1594/1594\u001B[0m \u001B[32m━━━━━━━━━━━━━━━━━━━━\u001B[0m\u001B[37m\u001B[0m \u001B[1m7s\u001B[0m 4ms/step - accuracy: 0.1408 - loss: 11.0485 - val_accuracy: 0.1472 - val_loss: 11.0356\n",
      "Epoch 14/50\n",
      "\u001B[1m1594/1594\u001B[0m \u001B[32m━━━━━━━━━━━━━━━━━━━━\u001B[0m\u001B[37m\u001B[0m \u001B[1m13s\u001B[0m 6ms/step - accuracy: 0.1436 - loss: 11.0771 - val_accuracy: 0.1472 - val_loss: 11.0356\n",
      "Epoch 15/50\n",
      "\u001B[1m1594/1594\u001B[0m \u001B[32m━━━━━━━━━━━━━━━━━━━━\u001B[0m\u001B[37m\u001B[0m \u001B[1m7s\u001B[0m 4ms/step - accuracy: 0.1419 - loss: 11.0862 - val_accuracy: 0.1472 - val_loss: 11.0356\n",
      "Epoch 16/50\n",
      "\u001B[1m1594/1594\u001B[0m \u001B[32m━━━━━━━━━━━━━━━━━━━━\u001B[0m\u001B[37m\u001B[0m \u001B[1m6s\u001B[0m 4ms/step - accuracy: 0.1433 - loss: 11.0498 - val_accuracy: 0.1472 - val_loss: 11.0356\n",
      "Epoch 17/50\n",
      "\u001B[1m1594/1594\u001B[0m \u001B[32m━━━━━━━━━━━━━━━━━━━━\u001B[0m\u001B[37m\u001B[0m \u001B[1m6s\u001B[0m 4ms/step - accuracy: 0.1426 - loss: 11.1166 - val_accuracy: 0.1472 - val_loss: 11.0356\n",
      "Epoch 18/50\n",
      "\u001B[1m1594/1594\u001B[0m \u001B[32m━━━━━━━━━━━━━━━━━━━━\u001B[0m\u001B[37m\u001B[0m \u001B[1m6s\u001B[0m 3ms/step - accuracy: 0.1413 - loss: 11.1062 - val_accuracy: 0.1472 - val_loss: 11.0356\n",
      "Epoch 19/50\n",
      "\u001B[1m1594/1594\u001B[0m \u001B[32m━━━━━━━━━━━━━━━━━━━━\u001B[0m\u001B[37m\u001B[0m \u001B[1m6s\u001B[0m 4ms/step - accuracy: 0.1439 - loss: 11.0544 - val_accuracy: 0.1472 - val_loss: 11.0356\n",
      "Epoch 20/50\n",
      "\u001B[1m1594/1594\u001B[0m \u001B[32m━━━━━━━━━━━━━━━━━━━━\u001B[0m\u001B[37m\u001B[0m \u001B[1m5s\u001B[0m 3ms/step - accuracy: 0.1449 - loss: 11.0961 - val_accuracy: 0.1472 - val_loss: 11.0356\n",
      "Epoch 21/50\n",
      "\u001B[1m1594/1594\u001B[0m \u001B[32m━━━━━━━━━━━━━━━━━━━━\u001B[0m\u001B[37m\u001B[0m \u001B[1m5s\u001B[0m 3ms/step - accuracy: 0.1408 - loss: 11.0971 - val_accuracy: 0.1472 - val_loss: 11.0356\n",
      "Epoch 22/50\n",
      "\u001B[1m1594/1594\u001B[0m \u001B[32m━━━━━━━━━━━━━━━━━━━━\u001B[0m\u001B[37m\u001B[0m \u001B[1m6s\u001B[0m 4ms/step - accuracy: 0.1448 - loss: 11.0273 - val_accuracy: 0.1472 - val_loss: 11.0356\n",
      "Epoch 23/50\n",
      "\u001B[1m1594/1594\u001B[0m \u001B[32m━━━━━━━━━━━━━━━━━━━━\u001B[0m\u001B[37m\u001B[0m \u001B[1m6s\u001B[0m 3ms/step - accuracy: 0.1447 - loss: 11.0633 - val_accuracy: 0.1472 - val_loss: 11.0356\n",
      "Epoch 24/50\n",
      "\u001B[1m1594/1594\u001B[0m \u001B[32m━━━━━━━━━━━━━━━━━━━━\u001B[0m\u001B[37m\u001B[0m \u001B[1m6s\u001B[0m 3ms/step - accuracy: 0.1438 - loss: 11.0037 - val_accuracy: 0.1472 - val_loss: 11.0356\n",
      "Epoch 25/50\n",
      "\u001B[1m1594/1594\u001B[0m \u001B[32m━━━━━━━━━━━━━━━━━━━━\u001B[0m\u001B[37m\u001B[0m \u001B[1m6s\u001B[0m 4ms/step - accuracy: 0.1432 - loss: 11.0618 - val_accuracy: 0.1472 - val_loss: 11.0356\n",
      "Epoch 26/50\n",
      "\u001B[1m1594/1594\u001B[0m \u001B[32m━━━━━━━━━━━━━━━━━━━━\u001B[0m\u001B[37m\u001B[0m \u001B[1m6s\u001B[0m 4ms/step - accuracy: 0.1434 - loss: 11.0653 - val_accuracy: 0.1472 - val_loss: 11.0356\n",
      "Epoch 27/50\n",
      "\u001B[1m1594/1594\u001B[0m \u001B[32m━━━━━━━━━━━━━━━━━━━━\u001B[0m\u001B[37m\u001B[0m \u001B[1m6s\u001B[0m 4ms/step - accuracy: 0.1422 - loss: 11.0426 - val_accuracy: 0.1472 - val_loss: 11.0356\n",
      "Epoch 28/50\n",
      "\u001B[1m1594/1594\u001B[0m \u001B[32m━━━━━━━━━━━━━━━━━━━━\u001B[0m\u001B[37m\u001B[0m \u001B[1m6s\u001B[0m 4ms/step - accuracy: 0.1456 - loss: 11.0832 - val_accuracy: 0.1472 - val_loss: 11.0356\n",
      "Epoch 29/50\n",
      "\u001B[1m1594/1594\u001B[0m \u001B[32m━━━━━━━━━━━━━━━━━━━━\u001B[0m\u001B[37m\u001B[0m \u001B[1m6s\u001B[0m 4ms/step - accuracy: 0.1455 - loss: 11.0248 - val_accuracy: 0.1472 - val_loss: 11.0356\n",
      "Epoch 30/50\n",
      "\u001B[1m1594/1594\u001B[0m \u001B[32m━━━━━━━━━━━━━━━━━━━━\u001B[0m\u001B[37m\u001B[0m \u001B[1m6s\u001B[0m 4ms/step - accuracy: 0.1445 - loss: 10.9791 - val_accuracy: 0.1472 - val_loss: 11.0356\n",
      "Epoch 31/50\n",
      "\u001B[1m1594/1594\u001B[0m \u001B[32m━━━━━━━━━━━━━━━━━━━━\u001B[0m\u001B[37m\u001B[0m \u001B[1m6s\u001B[0m 4ms/step - accuracy: 0.1425 - loss: 11.1024 - val_accuracy: 0.1472 - val_loss: 11.0356\n",
      "Epoch 32/50\n",
      "\u001B[1m1594/1594\u001B[0m \u001B[32m━━━━━━━━━━━━━━━━━━━━\u001B[0m\u001B[37m\u001B[0m \u001B[1m6s\u001B[0m 4ms/step - accuracy: 0.1426 - loss: 11.0496 - val_accuracy: 0.1472 - val_loss: 11.0356\n",
      "Epoch 33/50\n",
      "\u001B[1m1594/1594\u001B[0m \u001B[32m━━━━━━━━━━━━━━━━━━━━\u001B[0m\u001B[37m\u001B[0m \u001B[1m6s\u001B[0m 4ms/step - accuracy: 0.1430 - loss: 11.1151 - val_accuracy: 0.1472 - val_loss: 11.0356\n",
      "Epoch 34/50\n",
      "\u001B[1m1594/1594\u001B[0m \u001B[32m━━━━━━━━━━━━━━━━━━━━\u001B[0m\u001B[37m\u001B[0m \u001B[1m6s\u001B[0m 4ms/step - accuracy: 0.1426 - loss: 11.0955 - val_accuracy: 0.1472 - val_loss: 11.0356\n",
      "Epoch 35/50\n",
      "\u001B[1m1594/1594\u001B[0m \u001B[32m━━━━━━━━━━━━━━━━━━━━\u001B[0m\u001B[37m\u001B[0m \u001B[1m7s\u001B[0m 4ms/step - accuracy: 0.1449 - loss: 11.0307 - val_accuracy: 0.1472 - val_loss: 11.0356\n",
      "Epoch 36/50\n",
      "\u001B[1m1594/1594\u001B[0m \u001B[32m━━━━━━━━━━━━━━━━━━━━\u001B[0m\u001B[37m\u001B[0m \u001B[1m6s\u001B[0m 4ms/step - accuracy: 0.1455 - loss: 11.0607 - val_accuracy: 0.1472 - val_loss: 11.0356\n",
      "Epoch 37/50\n",
      "\u001B[1m1594/1594\u001B[0m \u001B[32m━━━━━━━━━━━━━━━━━━━━\u001B[0m\u001B[37m\u001B[0m \u001B[1m6s\u001B[0m 4ms/step - accuracy: 0.1457 - loss: 11.0513 - val_accuracy: 0.1472 - val_loss: 11.0356\n",
      "Epoch 38/50\n",
      "\u001B[1m1594/1594\u001B[0m \u001B[32m━━━━━━━━━━━━━━━━━━━━\u001B[0m\u001B[37m\u001B[0m \u001B[1m6s\u001B[0m 4ms/step - accuracy: 0.1441 - loss: 11.0451 - val_accuracy: 0.1472 - val_loss: 11.0356\n",
      "Epoch 39/50\n",
      "\u001B[1m1594/1594\u001B[0m \u001B[32m━━━━━━━━━━━━━━━━━━━━\u001B[0m\u001B[37m\u001B[0m \u001B[1m6s\u001B[0m 4ms/step - accuracy: 0.1433 - loss: 11.0570 - val_accuracy: 0.1472 - val_loss: 11.0356\n",
      "Epoch 40/50\n",
      "\u001B[1m1594/1594\u001B[0m \u001B[32m━━━━━━━━━━━━━━━━━━━━\u001B[0m\u001B[37m\u001B[0m \u001B[1m6s\u001B[0m 4ms/step - accuracy: 0.1435 - loss: 11.0515 - val_accuracy: 0.1472 - val_loss: 11.0356\n",
      "Epoch 41/50\n",
      "\u001B[1m1594/1594\u001B[0m \u001B[32m━━━━━━━━━━━━━━━━━━━━\u001B[0m\u001B[37m\u001B[0m \u001B[1m6s\u001B[0m 4ms/step - accuracy: 0.1433 - loss: 11.0623 - val_accuracy: 0.1472 - val_loss: 11.0356\n",
      "Epoch 42/50\n",
      "\u001B[1m1594/1594\u001B[0m \u001B[32m━━━━━━━━━━━━━━━━━━━━\u001B[0m\u001B[37m\u001B[0m \u001B[1m7s\u001B[0m 4ms/step - accuracy: 0.1424 - loss: 11.0684 - val_accuracy: 0.1472 - val_loss: 11.0356\n",
      "Epoch 43/50\n",
      "\u001B[1m1594/1594\u001B[0m \u001B[32m━━━━━━━━━━━━━━━━━━━━\u001B[0m\u001B[37m\u001B[0m \u001B[1m6s\u001B[0m 4ms/step - accuracy: 0.1440 - loss: 11.0150 - val_accuracy: 0.1472 - val_loss: 11.0356\n",
      "Epoch 44/50\n",
      "\u001B[1m1594/1594\u001B[0m \u001B[32m━━━━━━━━━━━━━━━━━━━━\u001B[0m\u001B[37m\u001B[0m \u001B[1m6s\u001B[0m 4ms/step - accuracy: 0.1423 - loss: 11.0609 - val_accuracy: 0.1472 - val_loss: 11.0356\n",
      "Epoch 45/50\n",
      "\u001B[1m1594/1594\u001B[0m \u001B[32m━━━━━━━━━━━━━━━━━━━━\u001B[0m\u001B[37m\u001B[0m \u001B[1m6s\u001B[0m 4ms/step - accuracy: 0.1437 - loss: 11.0626 - val_accuracy: 0.1472 - val_loss: 11.0356\n",
      "Epoch 46/50\n",
      "\u001B[1m1594/1594\u001B[0m \u001B[32m━━━━━━━━━━━━━━━━━━━━\u001B[0m\u001B[37m\u001B[0m \u001B[1m6s\u001B[0m 4ms/step - accuracy: 0.1439 - loss: 11.0094 - val_accuracy: 0.1472 - val_loss: 11.0356\n",
      "Epoch 47/50\n",
      "\u001B[1m1594/1594\u001B[0m \u001B[32m━━━━━━━━━━━━━━━━━━━━\u001B[0m\u001B[37m\u001B[0m \u001B[1m7s\u001B[0m 4ms/step - accuracy: 0.1461 - loss: 11.0286 - val_accuracy: 0.1472 - val_loss: 11.0356\n",
      "Epoch 48/50\n",
      "\u001B[1m1594/1594\u001B[0m \u001B[32m━━━━━━━━━━━━━━━━━━━━\u001B[0m\u001B[37m\u001B[0m \u001B[1m6s\u001B[0m 4ms/step - accuracy: 0.1434 - loss: 11.0473 - val_accuracy: 0.1472 - val_loss: 11.0356\n",
      "Epoch 49/50\n",
      "\u001B[1m1594/1594\u001B[0m \u001B[32m━━━━━━━━━━━━━━━━━━━━\u001B[0m\u001B[37m\u001B[0m \u001B[1m6s\u001B[0m 4ms/step - accuracy: 0.1427 - loss: 11.0411 - val_accuracy: 0.1472 - val_loss: 11.0356\n",
      "Epoch 50/50\n",
      "\u001B[1m1594/1594\u001B[0m \u001B[32m━━━━━━━━━━━━━━━━━━━━\u001B[0m\u001B[37m\u001B[0m \u001B[1m6s\u001B[0m 4ms/step - accuracy: 0.1419 - loss: 11.1037 - val_accuracy: 0.1472 - val_loss: 11.0356\n"
     ]
    }
   ],
   "execution_count": 37
  },
  {
   "metadata": {
    "ExecuteTime": {
     "end_time": "2025-03-02T07:48:56.574196Z",
     "start_time": "2025-03-02T07:48:56.570029Z"
    }
   },
   "cell_type": "code",
   "source": "",
   "id": "56db3e255545e9cf",
   "outputs": [],
   "execution_count": null
  }
 ],
 "metadata": {
  "kernelspec": {
   "name": "python3",
   "language": "python",
   "display_name": "Python 3 (ipykernel)"
  }
 },
 "nbformat": 5,
 "nbformat_minor": 9
}
