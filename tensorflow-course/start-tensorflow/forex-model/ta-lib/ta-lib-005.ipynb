{
 "cells": [
  {
   "metadata": {},
   "cell_type": "markdown",
   "source": "# ta-lib-005 ( Feature‑Engineering + Sequence Models) Add train_test_split",
   "id": "67a9ecb3258e8606"
  },
  {
   "metadata": {
    "ExecuteTime": {
     "end_time": "2025-04-24T13:31:04.159286Z",
     "start_time": "2025-04-24T13:31:04.149455Z"
    }
   },
   "cell_type": "code",
   "source": [
    "# Cell 1: Imports & Config\n",
    "import os\n",
    "import numpy as np\n",
    "import pandas as pd\n",
    "from sklearn.model_selection import train_test_split\n",
    "from sklearn.preprocessing import StandardScaler\n",
    "import talib\n",
    "import tensorflow as tf\n",
    "from tensorflow.keras import layers, models, callbacks\n",
    "import matplotlib.pyplot as plt\n",
    "\n",
    "# Ensure plots inline\n",
    "%matplotlib inline"
   ],
   "id": "ff3be02c3ae9ecbc",
   "outputs": [],
   "execution_count": 13
  },
  {
   "metadata": {},
   "cell_type": "code",
   "source": [
    "# Cell 2: Parameters\n",
    "DATA_PATH = \"../datasets/XAGUSD-H1-rates.csv\"   # Path to your downloaded MT5 CSV\n",
    "SEQUENCE_LENGTH = 30                # Number of past candles per sample\n",
    "PREDICT_HORIZON  = 5                # How many candles ahead to detect a trend change\n",
    "TEST_SIZE = 0.2\n",
    "RANDOM_STATE = 42\n",
    "BATCH_SIZE = 64\n",
    "EPOCHS = 50"
   ],
   "id": "d71b0513bdaf89e",
   "outputs": [],
   "execution_count": null
  },
  {
   "metadata": {},
   "cell_type": "code",
   "source": [
    "# Cell 3: Load & Inspect Data\n",
    "df = pd.read_csv(DATA_PATH, parse_dates=[['DATE', 'TIME']])\n",
    "df.rename(columns={'DATE_TIME':'datetime'}, inplace=True)\n",
    "df.set_index('datetime', inplace=True)\n",
    "df.head()"
   ],
   "id": "d904ddb06d873898",
   "outputs": [],
   "execution_count": null
  },
  {
   "metadata": {},
   "cell_type": "code",
   "source": [
    "# Cell 4: Compute TA indicators\n",
    "# e.g. RSI, ATR, MACD Histogram\n",
    "df['rsi'] = talib.RSI(df['CLOSE'], timeperiod=14)\n",
    "macd, macd_sig, macd_hist = talib.MACD(df['CLOSE'])\n",
    "df['macd_hist'] = macd_hist\n",
    "df['atr'] = talib.ATR(df['HIGH'], df['LOW'], df['CLOSE'], timeperiod=14)\n",
    "df.dropna(inplace=True)"
   ],
   "id": "173e7a431130ca4c",
   "outputs": [],
   "execution_count": null
  },
  {
   "metadata": {},
   "cell_type": "code",
   "source": [
    "# Cell 5: Label trend‑change points\n",
    "# Define trend: rolling slope on CLOSE, then detect flips\n",
    "window = 5\n",
    "df['slope'] = df['CLOSE'].diff(window)\n",
    "df['trend'] = np.sign(df['slope'])\n",
    "df['trend_change'] = df['trend'].diff().fillna(0).apply(lambda x: 1 if x>0 else (-1 if x<0 else 0))\n",
    "#  1 = change to uptrend, -1 = change to downtrend, 0 = no change"
   ],
   "id": "c8f789ea228b4f10",
   "outputs": [],
   "execution_count": null
  },
  {
   "metadata": {},
   "cell_type": "code",
   "source": [
    "# Cell 6: Feature Engineering & Sequence Creation\n",
    "feature_cols = ['CLOSE','rsi','macd_hist','atr']\n",
    "scaler = StandardScaler()\n",
    "scaled = scaler.fit_transform(df[feature_cols])\n",
    "labels = df['trend_change'].values\n",
    "\n",
    "X, y = [], []\n",
    "for i in range(len(df) - SEQUENCE_LENGTH - PREDICT_HORIZON + 1):\n",
    "    seq_x = scaled[i : i+SEQUENCE_LENGTH]\n",
    "    future_label = df['trend_change'].iloc[i+SEQUENCE_LENGTH : i+SEQUENCE_LENGTH+PREDICT_HORIZON].sum()\n",
    "    # if any change in horizon: up/down/none\n",
    "    label = 1 if future_label>0 else (-1 if future_label<0 else 0)\n",
    "    X.append(seq_x)\n",
    "    y.append(label)\n",
    "X = np.array(X)\n",
    "y = tf.keras.utils.to_categorical([l+1 for l in y], num_classes=3)  # map -1,0,1 to 0,1,2"
   ],
   "id": "384b988ae91b9a93",
   "outputs": [],
   "execution_count": null
  },
  {
   "metadata": {},
   "cell_type": "code",
   "source": [
    "# Cell 7: Train/Test Split\n",
    "X_train, X_test, y_train, y_test = train_test_split(\n",
    "    X, y, test_size=TEST_SIZE, random_state=RANDOM_STATE, stratify=y\n",
    ")\n",
    "print(\"Train:\", X_train.shape, y_train.shape)\n",
    "print(\"Test :\", X_test.shape, y_test.shape)"
   ],
   "id": "cb9abf4559ce8eba",
   "outputs": [],
   "execution_count": null
  },
  {
   "metadata": {},
   "cell_type": "code",
   "source": [
    "# Cell 8: Build the Sequence Model\n",
    "def build_model(input_shape, num_classes=3):\n",
    "    model = models.Sequential([\n",
    "        layers.Input(shape=input_shape),\n",
    "        layers.LSTM(64, return_sequences=True),\n",
    "        layers.Dropout(0.2),\n",
    "        layers.LSTM(32),\n",
    "        layers.Dropout(0.2),\n",
    "        layers.Dense(32, activation='relu'),\n",
    "        layers.Dense(num_classes, activation='softmax')\n",
    "    ])\n",
    "    model.compile(\n",
    "        loss='categorical_crossentropy',\n",
    "        optimizer='adam',\n",
    "        metrics=['accuracy']\n",
    "    )\n",
    "    return model\n",
    "\n",
    "model = build_model((SEQUENCE_LENGTH, len(feature_cols)))\n",
    "model.summary()\n"
   ],
   "id": "e396b4d1219f5142",
   "outputs": [],
   "execution_count": null
  },
  {
   "metadata": {},
   "cell_type": "code",
   "source": [
    "# Cell 9: Training\n",
    "es = callbacks.EarlyStopping(monitor='val_loss', patience=5, restore_best_weights=True)\n",
    "history = model.fit(\n",
    "    X_train, y_train,\n",
    "    validation_split=0.2,\n",
    "    epochs=EPOCHS,\n",
    "    batch_size=BATCH_SIZE,\n",
    "    callbacks=[es]\n",
    ")"
   ],
   "id": "61b57fd3c90d4900",
   "outputs": [],
   "execution_count": null
  },
  {
   "metadata": {},
   "cell_type": "code",
   "source": [
    "# Cell 10: Evaluation\n",
    "loss, acc = model.evaluate(X_test, y_test)\n",
    "print(f\"Test Loss: {loss:.4f}  Test Acc: {acc:.4f}\")"
   ],
   "id": "1c59b4e9fe41b0a4",
   "outputs": [],
   "execution_count": null
  },
  {
   "metadata": {},
   "cell_type": "code",
   "source": [
    "# Cell 11: Plot Training History\n",
    "plt.figure()\n",
    "plt.plot(history.history['accuracy'], label='train acc')\n",
    "plt.plot(history.history['val_accuracy'], label='val acc')\n",
    "plt.title(\"Accuracy over epochs\")\n",
    "plt.xlabel(\"Epoch\")\n",
    "plt.ylabel(\"Accuracy\")\n",
    "plt.legend()\n",
    "plt.show()"
   ],
   "id": "cf0dc98899c9f95e",
   "outputs": [],
   "execution_count": null
  },
  {
   "metadata": {},
   "cell_type": "code",
   "source": [
    "# Cell 12: Sample Predictions & Visualization\n",
    "# Pick the last available sequence\n",
    "seq = X_test[-1][None, ...]\n",
    "pred = model.predict(seq)[0]\n",
    "labels_map = {-1:'down‑change', 0:'no‑change', 1:'up‑change'}\n",
    "print(\"Predicted:\", labels_map[np.argmax(pred)-1])\n",
    "\n",
    "# Plot the last SEQUENCE_LENGTH candles + indicator\n",
    "idx = -1  # index in test set\n",
    "orig_idx = len(df) - len(X_test) + idx + SEQUENCE_LENGTH\n",
    "slice_df = df.iloc[orig_idx-SEQUENCE_LENGTH:orig_idx+PREDICT_HORIZON]\n",
    "plt.figure(figsize=(12,4))\n",
    "plt.plot(slice_df.index, slice_df['CLOSE'], label='Close')\n",
    "plt.scatter(slice_df.index[SEQUENCE_LENGTH:],\n",
    "            slice_df['CLOSE'].iloc[SEQUENCE_LENGTH:],\n",
    "            c='red', marker='x', label='Future window')\n",
    "plt.title(\"Price around predicted trend‑change point\")\n",
    "plt.legend(); plt.show()"
   ],
   "id": "2e7d5d7101385ba3",
   "outputs": [],
   "execution_count": null
  }
 ],
 "metadata": {
  "kernelspec": {
   "name": "python3",
   "language": "python",
   "display_name": "Python 3 (ipykernel)"
  }
 },
 "nbformat": 5,
 "nbformat_minor": 9
}
