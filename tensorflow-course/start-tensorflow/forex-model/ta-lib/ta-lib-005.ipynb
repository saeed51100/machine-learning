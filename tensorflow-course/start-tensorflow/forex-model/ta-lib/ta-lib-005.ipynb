{
 "cells": [
  {
   "metadata": {},
   "cell_type": "markdown",
   "source": [
    "# ta-lib-005 ( Feature‑Engineering + Sequence Models) Add train_test_split\n",
    "https://chatgpt.com/c/680a20b3-65fc-800a-8d9e-3a3cc1fc90c9"
   ],
   "id": "67a9ecb3258e8606"
  },
  {
   "metadata": {
    "ExecuteTime": {
     "end_time": "2025-04-24T14:58:38.803775Z",
     "start_time": "2025-04-24T14:58:38.800235Z"
    }
   },
   "cell_type": "code",
   "source": [
    "# Cell 1: Imports & Config\n",
    "import os\n",
    "import numpy as np\n",
    "import pandas as pd\n",
    "from sklearn.model_selection import train_test_split\n",
    "from sklearn.preprocessing import StandardScaler\n",
    "import talib\n",
    "import tensorflow as tf\n",
    "from tensorflow.keras import layers, models, callbacks\n",
    "import matplotlib.pyplot as plt\n",
    "\n",
    "# Ensure plots inline\n",
    "%matplotlib inline"
   ],
   "id": "ff3be02c3ae9ecbc",
   "outputs": [],
   "execution_count": 4
  },
  {
   "metadata": {
    "ExecuteTime": {
     "end_time": "2025-04-24T14:58:41.458978Z",
     "start_time": "2025-04-24T14:58:41.456242Z"
    }
   },
   "cell_type": "code",
   "source": [
    "# Cell 2: Parameters\n",
    "DATA_PATH = \"../datasets/XAGUSD-H1-rates.csv\"   # Path to your downloaded MT5 CSV\n",
    "SEQUENCE_LENGTH = 30                # Number of past candles per sample\n",
    "PREDICT_HORIZON  = 5                # How many candles ahead to detect a trend change\n",
    "TEST_SIZE = 0.2\n",
    "RANDOM_STATE = 42\n",
    "BATCH_SIZE = 64\n",
    "EPOCHS = 50"
   ],
   "id": "d71b0513bdaf89e",
   "outputs": [],
   "execution_count": 5
  },
  {
   "metadata": {
    "ExecuteTime": {
     "end_time": "2025-04-24T14:58:43.374196Z",
     "start_time": "2025-04-24T14:58:43.306172Z"
    }
   },
   "cell_type": "code",
   "source": [
    "# Cell 3: Load & Inspect Data\n",
    "df = pd.read_csv(DATA_PATH, sep='\\t')\n",
    "# Combine <DATE> and <TIME> into single datetime index\n",
    "df['DATETIME'] = pd.to_datetime(df['<DATE>'] + ' ' + df['<TIME>'])\n",
    "df.set_index('DATETIME', inplace=True)\n",
    "df.drop(columns=['<DATE>', '<TIME>'], inplace=True)\n",
    "df.head()"
   ],
   "id": "d904ddb06d873898",
   "outputs": [
    {
     "data": {
      "text/plain": [
       "                     <OPEN>  <HIGH>   <LOW>  <CLOSE>  <TICKVOL>     <VOL>  \\\n",
       "DATETIME                                                                    \n",
       "2015-01-02 09:00:00  15.889  15.896  15.807   15.834        993  18451000   \n",
       "2015-01-02 10:00:00  15.836  15.864  15.822   15.834       1116  25764000   \n",
       "2015-01-02 11:00:00  15.836  15.838  15.790   15.822       1023  18885000   \n",
       "2015-01-02 12:00:00  15.827  15.828  15.725   15.772       1286  23593000   \n",
       "2015-01-02 13:00:00  15.781  15.786  15.667   15.734       1584  28750000   \n",
       "\n",
       "                     <SPREAD>  \n",
       "DATETIME                       \n",
       "2015-01-02 09:00:00        21  \n",
       "2015-01-02 10:00:00        22  \n",
       "2015-01-02 11:00:00        19  \n",
       "2015-01-02 12:00:00        21  \n",
       "2015-01-02 13:00:00        17  "
      ],
      "text/html": [
       "<div>\n",
       "<style scoped>\n",
       "    .dataframe tbody tr th:only-of-type {\n",
       "        vertical-align: middle;\n",
       "    }\n",
       "\n",
       "    .dataframe tbody tr th {\n",
       "        vertical-align: top;\n",
       "    }\n",
       "\n",
       "    .dataframe thead th {\n",
       "        text-align: right;\n",
       "    }\n",
       "</style>\n",
       "<table border=\"1\" class=\"dataframe\">\n",
       "  <thead>\n",
       "    <tr style=\"text-align: right;\">\n",
       "      <th></th>\n",
       "      <th>&lt;OPEN&gt;</th>\n",
       "      <th>&lt;HIGH&gt;</th>\n",
       "      <th>&lt;LOW&gt;</th>\n",
       "      <th>&lt;CLOSE&gt;</th>\n",
       "      <th>&lt;TICKVOL&gt;</th>\n",
       "      <th>&lt;VOL&gt;</th>\n",
       "      <th>&lt;SPREAD&gt;</th>\n",
       "    </tr>\n",
       "    <tr>\n",
       "      <th>DATETIME</th>\n",
       "      <th></th>\n",
       "      <th></th>\n",
       "      <th></th>\n",
       "      <th></th>\n",
       "      <th></th>\n",
       "      <th></th>\n",
       "      <th></th>\n",
       "    </tr>\n",
       "  </thead>\n",
       "  <tbody>\n",
       "    <tr>\n",
       "      <th>2015-01-02 09:00:00</th>\n",
       "      <td>15.889</td>\n",
       "      <td>15.896</td>\n",
       "      <td>15.807</td>\n",
       "      <td>15.834</td>\n",
       "      <td>993</td>\n",
       "      <td>18451000</td>\n",
       "      <td>21</td>\n",
       "    </tr>\n",
       "    <tr>\n",
       "      <th>2015-01-02 10:00:00</th>\n",
       "      <td>15.836</td>\n",
       "      <td>15.864</td>\n",
       "      <td>15.822</td>\n",
       "      <td>15.834</td>\n",
       "      <td>1116</td>\n",
       "      <td>25764000</td>\n",
       "      <td>22</td>\n",
       "    </tr>\n",
       "    <tr>\n",
       "      <th>2015-01-02 11:00:00</th>\n",
       "      <td>15.836</td>\n",
       "      <td>15.838</td>\n",
       "      <td>15.790</td>\n",
       "      <td>15.822</td>\n",
       "      <td>1023</td>\n",
       "      <td>18885000</td>\n",
       "      <td>19</td>\n",
       "    </tr>\n",
       "    <tr>\n",
       "      <th>2015-01-02 12:00:00</th>\n",
       "      <td>15.827</td>\n",
       "      <td>15.828</td>\n",
       "      <td>15.725</td>\n",
       "      <td>15.772</td>\n",
       "      <td>1286</td>\n",
       "      <td>23593000</td>\n",
       "      <td>21</td>\n",
       "    </tr>\n",
       "    <tr>\n",
       "      <th>2015-01-02 13:00:00</th>\n",
       "      <td>15.781</td>\n",
       "      <td>15.786</td>\n",
       "      <td>15.667</td>\n",
       "      <td>15.734</td>\n",
       "      <td>1584</td>\n",
       "      <td>28750000</td>\n",
       "      <td>17</td>\n",
       "    </tr>\n",
       "  </tbody>\n",
       "</table>\n",
       "</div>"
      ]
     },
     "execution_count": 6,
     "metadata": {},
     "output_type": "execute_result"
    }
   ],
   "execution_count": 6
  },
  {
   "metadata": {
    "ExecuteTime": {
     "end_time": "2025-04-24T14:59:26.529272Z",
     "start_time": "2025-04-24T14:59:26.507914Z"
    }
   },
   "cell_type": "code",
   "source": [
    "# Cell 4: Compute TA indicators\n",
    "# e.g. RSI, ATR, MACD Histogram\n",
    "df['rsi'] = talib.RSI(df['<CLOSE>'], timeperiod=14)\n",
    "macd, macd_sig, macd_hist = talib.MACD(df['<CLOSE>'])\n",
    "df['macd_hist'] = macd_hist\n",
    "df['atr'] = talib.ATR(df['<HIGH>'], df['<LOW>'], df['<CLOSE>'], timeperiod=14)\n",
    "df.dropna(inplace=True)"
   ],
   "id": "173e7a431130ca4c",
   "outputs": [],
   "execution_count": 7
  },
  {
   "metadata": {},
   "cell_type": "code",
   "outputs": [],
   "execution_count": null,
   "source": [
    "# Cell 5: Label trend‑change points\n",
    "# Define trend: rolling slope on CLOSE, then detect flips\n",
    "window = 5\n",
    "df['slope'] = df['<CLOSE>'].diff(window)\n",
    "df['trend'] = np.sign(df['slope'])\n",
    "df['trend_change'] = df['trend'].diff().fillna(0).apply(lambda x: 1 if x>0 else (-1 if x<0 else 0))\n",
    "#  1 = change to uptrend, -1 = change to downtrend, 0 = no change"
   ],
   "id": "13f88411fa165acf"
  },
  {
   "metadata": {
    "ExecuteTime": {
     "end_time": "2025-04-24T15:03:35.275989Z",
     "start_time": "2025-04-24T15:03:33.004741Z"
    }
   },
   "cell_type": "code",
   "source": [
    "# Cell 6: Feature Engineering & Sequence Creation\n",
    "feature_cols = ['<CLOSE>','rsi','macd_hist','atr']\n",
    "scaler = StandardScaler()\n",
    "scaled = scaler.fit_transform(df[feature_cols])\n",
    "labels = df['trend_change'].values\n",
    "\n",
    "X, y = [], []\n",
    "for i in range(len(df) - SEQUENCE_LENGTH - PREDICT_HORIZON + 1):\n",
    "    seq_x = scaled[i : i+SEQUENCE_LENGTH]\n",
    "    future_label = df['trend_change'].iloc[i+SEQUENCE_LENGTH : i+SEQUENCE_LENGTH+PREDICT_HORIZON].sum()\n",
    "    # if any change in horizon: up/down/none\n",
    "    label = 1 if future_label>0 else (-1 if future_label<0 else 0)\n",
    "    X.append(seq_x)\n",
    "    y.append(label)\n",
    "X = np.array(X)\n",
    "y = tf.keras.utils.to_categorical([l+1 for l in y], num_classes=3)  # map -1,0,1 to 0,1,2"
   ],
   "id": "384b988ae91b9a93",
   "outputs": [],
   "execution_count": 12
  },
  {
   "metadata": {
    "ExecuteTime": {
     "end_time": "2025-04-24T15:03:43.901822Z",
     "start_time": "2025-04-24T15:03:43.670555Z"
    }
   },
   "cell_type": "code",
   "source": [
    "# Cell 7: Train/Test Split\n",
    "X_train, X_test, y_train, y_test = train_test_split(\n",
    "    X, y, test_size=TEST_SIZE, random_state=RANDOM_STATE, stratify=y\n",
    ")\n",
    "print(\"Train:\", X_train.shape, y_train.shape)\n",
    "print(\"Test :\", X_test.shape, y_test.shape)"
   ],
   "id": "cb9abf4559ce8eba",
   "outputs": [
    {
     "name": "stdout",
     "output_type": "stream",
     "text": [
      "Train: (44012, 30, 4) (44012, 3)\n",
      "Test : (11004, 30, 4) (11004, 3)\n"
     ]
    }
   ],
   "execution_count": 13
  },
  {
   "metadata": {
    "ExecuteTime": {
     "end_time": "2025-04-24T15:05:04.338236Z",
     "start_time": "2025-04-24T15:05:03.390649Z"
    }
   },
   "cell_type": "code",
   "source": [
    "# Cell 8: Build the Sequence Model\n",
    "def build_model(input_shape, num_classes=3):\n",
    "    model = models.Sequential([\n",
    "        layers.Input(shape=input_shape),\n",
    "        layers.LSTM(64, return_sequences=True),\n",
    "        layers.Dropout(0.2),\n",
    "        layers.LSTM(32),\n",
    "        layers.Dropout(0.2),\n",
    "        layers.Dense(32, activation='relu'),\n",
    "        layers.Dense(num_classes, activation='softmax')\n",
    "    ])\n",
    "    model.compile(\n",
    "        loss='categorical_crossentropy',\n",
    "        optimizer='adam',\n",
    "        metrics=['accuracy']\n",
    "    )\n",
    "    return model\n",
    "\n",
    "model = build_model((SEQUENCE_LENGTH, len(feature_cols)))\n",
    "model.summary()\n"
   ],
   "id": "e396b4d1219f5142",
   "outputs": [
    {
     "name": "stderr",
     "output_type": "stream",
     "text": [
      "I0000 00:00:1745507103.655095    9045 gpu_device.cc:2022] Created device /job:localhost/replica:0/task:0/device:GPU:0 with 2198 MB memory:  -> device: 0, name: NVIDIA GeForce GTX 1650 SUPER, pci bus id: 0000:01:00.0, compute capability: 7.5\n"
     ]
    },
    {
     "data": {
      "text/plain": [
       "\u001B[1mModel: \"sequential\"\u001B[0m\n"
      ],
      "text/html": [
       "<pre style=\"white-space:pre;overflow-x:auto;line-height:normal;font-family:Menlo,'DejaVu Sans Mono',consolas,'Courier New',monospace\"><span style=\"font-weight: bold\">Model: \"sequential\"</span>\n",
       "</pre>\n"
      ]
     },
     "metadata": {},
     "output_type": "display_data"
    },
    {
     "data": {
      "text/plain": [
       "┏━━━━━━━━━━━━━━━━━━━━━━━━━━━━━━━━━┳━━━━━━━━━━━━━━━━━━━━━━━━┳━━━━━━━━━━━━━━━┓\n",
       "┃\u001B[1m \u001B[0m\u001B[1mLayer (type)                   \u001B[0m\u001B[1m \u001B[0m┃\u001B[1m \u001B[0m\u001B[1mOutput Shape          \u001B[0m\u001B[1m \u001B[0m┃\u001B[1m \u001B[0m\u001B[1m      Param #\u001B[0m\u001B[1m \u001B[0m┃\n",
       "┡━━━━━━━━━━━━━━━━━━━━━━━━━━━━━━━━━╇━━━━━━━━━━━━━━━━━━━━━━━━╇━━━━━━━━━━━━━━━┩\n",
       "│ lstm (\u001B[38;5;33mLSTM\u001B[0m)                     │ (\u001B[38;5;45mNone\u001B[0m, \u001B[38;5;34m30\u001B[0m, \u001B[38;5;34m64\u001B[0m)         │        \u001B[38;5;34m17,664\u001B[0m │\n",
       "├─────────────────────────────────┼────────────────────────┼───────────────┤\n",
       "│ dropout (\u001B[38;5;33mDropout\u001B[0m)               │ (\u001B[38;5;45mNone\u001B[0m, \u001B[38;5;34m30\u001B[0m, \u001B[38;5;34m64\u001B[0m)         │             \u001B[38;5;34m0\u001B[0m │\n",
       "├─────────────────────────────────┼────────────────────────┼───────────────┤\n",
       "│ lstm_1 (\u001B[38;5;33mLSTM\u001B[0m)                   │ (\u001B[38;5;45mNone\u001B[0m, \u001B[38;5;34m32\u001B[0m)             │        \u001B[38;5;34m12,416\u001B[0m │\n",
       "├─────────────────────────────────┼────────────────────────┼───────────────┤\n",
       "│ dropout_1 (\u001B[38;5;33mDropout\u001B[0m)             │ (\u001B[38;5;45mNone\u001B[0m, \u001B[38;5;34m32\u001B[0m)             │             \u001B[38;5;34m0\u001B[0m │\n",
       "├─────────────────────────────────┼────────────────────────┼───────────────┤\n",
       "│ dense (\u001B[38;5;33mDense\u001B[0m)                   │ (\u001B[38;5;45mNone\u001B[0m, \u001B[38;5;34m32\u001B[0m)             │         \u001B[38;5;34m1,056\u001B[0m │\n",
       "├─────────────────────────────────┼────────────────────────┼───────────────┤\n",
       "│ dense_1 (\u001B[38;5;33mDense\u001B[0m)                 │ (\u001B[38;5;45mNone\u001B[0m, \u001B[38;5;34m3\u001B[0m)              │            \u001B[38;5;34m99\u001B[0m │\n",
       "└─────────────────────────────────┴────────────────────────┴───────────────┘\n"
      ],
      "text/html": [
       "<pre style=\"white-space:pre;overflow-x:auto;line-height:normal;font-family:Menlo,'DejaVu Sans Mono',consolas,'Courier New',monospace\">┏━━━━━━━━━━━━━━━━━━━━━━━━━━━━━━━━━┳━━━━━━━━━━━━━━━━━━━━━━━━┳━━━━━━━━━━━━━━━┓\n",
       "┃<span style=\"font-weight: bold\"> Layer (type)                    </span>┃<span style=\"font-weight: bold\"> Output Shape           </span>┃<span style=\"font-weight: bold\">       Param # </span>┃\n",
       "┡━━━━━━━━━━━━━━━━━━━━━━━━━━━━━━━━━╇━━━━━━━━━━━━━━━━━━━━━━━━╇━━━━━━━━━━━━━━━┩\n",
       "│ lstm (<span style=\"color: #0087ff; text-decoration-color: #0087ff\">LSTM</span>)                     │ (<span style=\"color: #00d7ff; text-decoration-color: #00d7ff\">None</span>, <span style=\"color: #00af00; text-decoration-color: #00af00\">30</span>, <span style=\"color: #00af00; text-decoration-color: #00af00\">64</span>)         │        <span style=\"color: #00af00; text-decoration-color: #00af00\">17,664</span> │\n",
       "├─────────────────────────────────┼────────────────────────┼───────────────┤\n",
       "│ dropout (<span style=\"color: #0087ff; text-decoration-color: #0087ff\">Dropout</span>)               │ (<span style=\"color: #00d7ff; text-decoration-color: #00d7ff\">None</span>, <span style=\"color: #00af00; text-decoration-color: #00af00\">30</span>, <span style=\"color: #00af00; text-decoration-color: #00af00\">64</span>)         │             <span style=\"color: #00af00; text-decoration-color: #00af00\">0</span> │\n",
       "├─────────────────────────────────┼────────────────────────┼───────────────┤\n",
       "│ lstm_1 (<span style=\"color: #0087ff; text-decoration-color: #0087ff\">LSTM</span>)                   │ (<span style=\"color: #00d7ff; text-decoration-color: #00d7ff\">None</span>, <span style=\"color: #00af00; text-decoration-color: #00af00\">32</span>)             │        <span style=\"color: #00af00; text-decoration-color: #00af00\">12,416</span> │\n",
       "├─────────────────────────────────┼────────────────────────┼───────────────┤\n",
       "│ dropout_1 (<span style=\"color: #0087ff; text-decoration-color: #0087ff\">Dropout</span>)             │ (<span style=\"color: #00d7ff; text-decoration-color: #00d7ff\">None</span>, <span style=\"color: #00af00; text-decoration-color: #00af00\">32</span>)             │             <span style=\"color: #00af00; text-decoration-color: #00af00\">0</span> │\n",
       "├─────────────────────────────────┼────────────────────────┼───────────────┤\n",
       "│ dense (<span style=\"color: #0087ff; text-decoration-color: #0087ff\">Dense</span>)                   │ (<span style=\"color: #00d7ff; text-decoration-color: #00d7ff\">None</span>, <span style=\"color: #00af00; text-decoration-color: #00af00\">32</span>)             │         <span style=\"color: #00af00; text-decoration-color: #00af00\">1,056</span> │\n",
       "├─────────────────────────────────┼────────────────────────┼───────────────┤\n",
       "│ dense_1 (<span style=\"color: #0087ff; text-decoration-color: #0087ff\">Dense</span>)                 │ (<span style=\"color: #00d7ff; text-decoration-color: #00d7ff\">None</span>, <span style=\"color: #00af00; text-decoration-color: #00af00\">3</span>)              │            <span style=\"color: #00af00; text-decoration-color: #00af00\">99</span> │\n",
       "└─────────────────────────────────┴────────────────────────┴───────────────┘\n",
       "</pre>\n"
      ]
     },
     "metadata": {},
     "output_type": "display_data"
    },
    {
     "data": {
      "text/plain": [
       "\u001B[1m Total params: \u001B[0m\u001B[38;5;34m31,235\u001B[0m (122.01 KB)\n"
      ],
      "text/html": [
       "<pre style=\"white-space:pre;overflow-x:auto;line-height:normal;font-family:Menlo,'DejaVu Sans Mono',consolas,'Courier New',monospace\"><span style=\"font-weight: bold\"> Total params: </span><span style=\"color: #00af00; text-decoration-color: #00af00\">31,235</span> (122.01 KB)\n",
       "</pre>\n"
      ]
     },
     "metadata": {},
     "output_type": "display_data"
    },
    {
     "data": {
      "text/plain": [
       "\u001B[1m Trainable params: \u001B[0m\u001B[38;5;34m31,235\u001B[0m (122.01 KB)\n"
      ],
      "text/html": [
       "<pre style=\"white-space:pre;overflow-x:auto;line-height:normal;font-family:Menlo,'DejaVu Sans Mono',consolas,'Courier New',monospace\"><span style=\"font-weight: bold\"> Trainable params: </span><span style=\"color: #00af00; text-decoration-color: #00af00\">31,235</span> (122.01 KB)\n",
       "</pre>\n"
      ]
     },
     "metadata": {},
     "output_type": "display_data"
    },
    {
     "data": {
      "text/plain": [
       "\u001B[1m Non-trainable params: \u001B[0m\u001B[38;5;34m0\u001B[0m (0.00 B)\n"
      ],
      "text/html": [
       "<pre style=\"white-space:pre;overflow-x:auto;line-height:normal;font-family:Menlo,'DejaVu Sans Mono',consolas,'Courier New',monospace\"><span style=\"font-weight: bold\"> Non-trainable params: </span><span style=\"color: #00af00; text-decoration-color: #00af00\">0</span> (0.00 B)\n",
       "</pre>\n"
      ]
     },
     "metadata": {},
     "output_type": "display_data"
    }
   ],
   "execution_count": 14
  },
  {
   "metadata": {
    "ExecuteTime": {
     "end_time": "2025-04-24T15:06:26.424991Z",
     "start_time": "2025-04-24T15:05:21.306571Z"
    }
   },
   "cell_type": "code",
   "source": [
    "# Cell 9: Training\n",
    "es = callbacks.EarlyStopping(monitor='val_loss', patience=5, restore_best_weights=True)\n",
    "history = model.fit(\n",
    "    X_train, y_train,\n",
    "    validation_split=0.2,\n",
    "    epochs=EPOCHS,\n",
    "    batch_size=BATCH_SIZE,\n",
    "    callbacks=[es]\n",
    ")"
   ],
   "id": "61b57fd3c90d4900",
   "outputs": [
    {
     "name": "stdout",
     "output_type": "stream",
     "text": [
      "Epoch 1/50\n"
     ]
    },
    {
     "name": "stderr",
     "output_type": "stream",
     "text": [
      "I0000 00:00:1745507123.275063    9233 cuda_dnn.cc:529] Loaded cuDNN version 90800\n"
     ]
    },
    {
     "name": "stdout",
     "output_type": "stream",
     "text": [
      "\u001B[1m551/551\u001B[0m \u001B[32m━━━━━━━━━━━━━━━━━━━━\u001B[0m\u001B[37m\u001B[0m \u001B[1m7s\u001B[0m 7ms/step - accuracy: 0.4705 - loss: 1.0151 - val_accuracy: 0.4959 - val_loss: 0.8366\n",
      "Epoch 2/50\n",
      "\u001B[1m551/551\u001B[0m \u001B[32m━━━━━━━━━━━━━━━━━━━━\u001B[0m\u001B[37m\u001B[0m \u001B[1m4s\u001B[0m 6ms/step - accuracy: 0.4959 - loss: 0.8409 - val_accuracy: 0.4954 - val_loss: 0.8187\n",
      "Epoch 3/50\n",
      "\u001B[1m551/551\u001B[0m \u001B[32m━━━━━━━━━━━━━━━━━━━━\u001B[0m\u001B[37m\u001B[0m \u001B[1m4s\u001B[0m 6ms/step - accuracy: 0.4984 - loss: 0.8290 - val_accuracy: 0.4927 - val_loss: 0.8143\n",
      "Epoch 4/50\n",
      "\u001B[1m551/551\u001B[0m \u001B[32m━━━━━━━━━━━━━━━━━━━━\u001B[0m\u001B[37m\u001B[0m \u001B[1m4s\u001B[0m 7ms/step - accuracy: 0.5014 - loss: 0.8175 - val_accuracy: 0.5086 - val_loss: 0.8057\n",
      "Epoch 5/50\n",
      "\u001B[1m551/551\u001B[0m \u001B[32m━━━━━━━━━━━━━━━━━━━━\u001B[0m\u001B[37m\u001B[0m \u001B[1m4s\u001B[0m 6ms/step - accuracy: 0.5053 - loss: 0.8157 - val_accuracy: 0.5122 - val_loss: 0.7972\n",
      "Epoch 6/50\n",
      "\u001B[1m551/551\u001B[0m \u001B[32m━━━━━━━━━━━━━━━━━━━━\u001B[0m\u001B[37m\u001B[0m \u001B[1m4s\u001B[0m 7ms/step - accuracy: 0.5083 - loss: 0.8120 - val_accuracy: 0.5138 - val_loss: 0.7921\n",
      "Epoch 7/50\n",
      "\u001B[1m551/551\u001B[0m \u001B[32m━━━━━━━━━━━━━━━━━━━━\u001B[0m\u001B[37m\u001B[0m \u001B[1m4s\u001B[0m 7ms/step - accuracy: 0.5064 - loss: 0.7961 - val_accuracy: 0.5157 - val_loss: 0.7755\n",
      "Epoch 8/50\n",
      "\u001B[1m551/551\u001B[0m \u001B[32m━━━━━━━━━━━━━━━━━━━━\u001B[0m\u001B[37m\u001B[0m \u001B[1m4s\u001B[0m 7ms/step - accuracy: 0.5119 - loss: 0.7843 - val_accuracy: 0.5158 - val_loss: 0.7730\n",
      "Epoch 9/50\n",
      "\u001B[1m551/551\u001B[0m \u001B[32m━━━━━━━━━━━━━━━━━━━━\u001B[0m\u001B[37m\u001B[0m \u001B[1m4s\u001B[0m 7ms/step - accuracy: 0.5095 - loss: 0.7801 - val_accuracy: 0.5169 - val_loss: 0.7739\n",
      "Epoch 10/50\n",
      "\u001B[1m551/551\u001B[0m \u001B[32m━━━━━━━━━━━━━━━━━━━━\u001B[0m\u001B[37m\u001B[0m \u001B[1m4s\u001B[0m 7ms/step - accuracy: 0.5162 - loss: 0.7772 - val_accuracy: 0.5135 - val_loss: 0.7743\n",
      "Epoch 11/50\n",
      "\u001B[1m551/551\u001B[0m \u001B[32m━━━━━━━━━━━━━━━━━━━━\u001B[0m\u001B[37m\u001B[0m \u001B[1m4s\u001B[0m 7ms/step - accuracy: 0.5026 - loss: 0.7753 - val_accuracy: 0.5139 - val_loss: 0.7687\n",
      "Epoch 12/50\n",
      "\u001B[1m551/551\u001B[0m \u001B[32m━━━━━━━━━━━━━━━━━━━━\u001B[0m\u001B[37m\u001B[0m \u001B[1m4s\u001B[0m 6ms/step - accuracy: 0.5117 - loss: 0.7736 - val_accuracy: 0.5194 - val_loss: 0.7672\n",
      "Epoch 13/50\n",
      "\u001B[1m551/551\u001B[0m \u001B[32m━━━━━━━━━━━━━━━━━━━━\u001B[0m\u001B[37m\u001B[0m \u001B[1m4s\u001B[0m 6ms/step - accuracy: 0.5185 - loss: 0.7710 - val_accuracy: 0.5154 - val_loss: 0.7697\n",
      "Epoch 14/50\n",
      "\u001B[1m551/551\u001B[0m \u001B[32m━━━━━━━━━━━━━━━━━━━━\u001B[0m\u001B[37m\u001B[0m \u001B[1m4s\u001B[0m 7ms/step - accuracy: 0.5049 - loss: 0.7698 - val_accuracy: 0.5077 - val_loss: 0.7754\n",
      "Epoch 15/50\n",
      "\u001B[1m551/551\u001B[0m \u001B[32m━━━━━━━━━━━━━━━━━━━━\u001B[0m\u001B[37m\u001B[0m \u001B[1m4s\u001B[0m 7ms/step - accuracy: 0.5097 - loss: 0.7738 - val_accuracy: 0.5169 - val_loss: 0.7715\n",
      "Epoch 16/50\n",
      "\u001B[1m551/551\u001B[0m \u001B[32m━━━━━━━━━━━━━━━━━━━━\u001B[0m\u001B[37m\u001B[0m \u001B[1m4s\u001B[0m 7ms/step - accuracy: 0.5178 - loss: 0.7679 - val_accuracy: 0.5141 - val_loss: 0.7785\n",
      "Epoch 17/50\n",
      "\u001B[1m551/551\u001B[0m \u001B[32m━━━━━━━━━━━━━━━━━━━━\u001B[0m\u001B[37m\u001B[0m \u001B[1m4s\u001B[0m 6ms/step - accuracy: 0.5187 - loss: 0.7680 - val_accuracy: 0.5238 - val_loss: 0.7677\n"
     ]
    }
   ],
   "execution_count": 15
  },
  {
   "metadata": {
    "ExecuteTime": {
     "end_time": "2025-04-24T15:06:39.629306Z",
     "start_time": "2025-04-24T15:06:38.610102Z"
    }
   },
   "cell_type": "code",
   "source": [
    "# Cell 10: Evaluation\n",
    "loss, acc = model.evaluate(X_test, y_test)\n",
    "print(f\"Test Loss: {loss:.4f}  Test Acc: {acc:.4f}\")"
   ],
   "id": "1c59b4e9fe41b0a4",
   "outputs": [
    {
     "name": "stdout",
     "output_type": "stream",
     "text": [
      "\u001B[1m344/344\u001B[0m \u001B[32m━━━━━━━━━━━━━━━━━━━━\u001B[0m\u001B[37m\u001B[0m \u001B[1m1s\u001B[0m 3ms/step - accuracy: 0.5151 - loss: 0.7737\n",
      "Test Loss: 0.7735  Test Acc: 0.5160\n"
     ]
    }
   ],
   "execution_count": 16
  },
  {
   "metadata": {
    "ExecuteTime": {
     "end_time": "2025-04-24T15:06:53.394218Z",
     "start_time": "2025-04-24T15:06:53.250048Z"
    }
   },
   "cell_type": "code",
   "source": [
    "# Cell 11: Plot Training History\n",
    "plt.figure()\n",
    "plt.plot(history.history['accuracy'], label='train acc')\n",
    "plt.plot(history.history['val_accuracy'], label='val acc')\n",
    "plt.title(\"Accuracy over epochs\")\n",
    "plt.xlabel(\"Epoch\")\n",
    "plt.ylabel(\"Accuracy\")\n",
    "plt.legend()\n",
    "plt.show()"
   ],
   "id": "cf0dc98899c9f95e",
   "outputs": [
    {
     "data": {
      "text/plain": [
       "<Figure size 640x480 with 1 Axes>"
      ],
      "image/png": "[encoded data removed]"
     },
     "metadata": {},
     "output_type": "display_data"
    }
   ],
   "execution_count": 17
  },
  {
   "metadata": {
    "ExecuteTime": {
     "end_time": "2025-04-24T15:06:57.347985Z",
     "start_time": "2025-04-24T15:06:57.026613Z"
    }
   },
   "cell_type": "code",
   "source": [
    "# Cell 12: Sample Predictions & Visualization\n",
    "# Pick the last available sequence\n",
    "seq = X_test[-1][None, ...]\n",
    "pred = model.predict(seq)[0]\n",
    "labels_map = {-1:'down‑change', 0:'no‑change', 1:'up‑change'}\n",
    "print(\"Predicted:\", labels_map[np.argmax(pred)-1])\n",
    "\n",
    "# Plot the last SEQUENCE_LENGTH candles + indicator\n",
    "idx = -1  # index in test set\n",
    "orig_idx = len(df) - len(X_test) + idx + SEQUENCE_LENGTH\n",
    "slice_df = df.iloc[orig_idx-SEQUENCE_LENGTH:orig_idx+PREDICT_HORIZON]\n",
    "plt.figure(figsize=(12,4))\n",
    "plt.plot(slice_df.index, slice_df['<CLOSE>'], label='<Close>')\n",
    "plt.scatter(slice_df.index[SEQUENCE_LENGTH:],\n",
    "            slice_df['<CLOSE>'].iloc[SEQUENCE_LENGTH:],\n",
    "            c='red', marker='x', label='Future window')\n",
    "plt.title(\"Price around predicted trend‑change point\")\n",
    "plt.legend(); plt.show()"
   ],
   "id": "2e7d5d7101385ba3",
   "outputs": [
    {
     "name": "stdout",
     "output_type": "stream",
     "text": [
      "\u001B[1m1/1\u001B[0m \u001B[32m━━━━━━━━━━━━━━━━━━━━\u001B[0m\u001B[37m\u001B[0m \u001B[1m0s\u001B[0m 130ms/step\n",
      "Predicted: down‑change\n"
     ]
    },
    {
     "data": {
      "text/plain": [
       "<Figure size 1200x400 with 1 Axes>"
      ],
      "image/png": "[encoded data removed]"
     },
     "metadata": {},
     "output_type": "display_data"
    }
   ],
   "execution_count": 18
  }
 ],
 "metadata": {
  "kernelspec": {
   "name": "python3",
   "language": "python",
   "display_name": "Python 3 (ipykernel)"
  }
 },
 "nbformat": 5,
 "nbformat_minor": 9
}
