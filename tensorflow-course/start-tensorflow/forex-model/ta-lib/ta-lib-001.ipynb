{
 "cells": [
  {
   "metadata": {
    "ExecuteTime": {
     "end_time": "2025-04-22T17:53:23.270900Z",
     "start_time": "2025-04-22T17:53:23.265035Z"
    }
   },
   "cell_type": "code",
   "source": [
    "import pandas as pd\n",
    "import talib"
   ],
   "id": "2a45c0219858aa91",
   "outputs": [],
   "execution_count": 9
  },
  {
   "metadata": {
    "ExecuteTime": {
     "end_time": "2025-04-22T17:53:23.289188Z",
     "start_time": "2025-04-22T17:53:23.286055Z"
    }
   },
   "cell_type": "code",
   "source": [
    "# === CONFIG ===\n",
    "CSV_PATH = \"your_ohlcv_file.csv\"  # Path to your 98,000-row OHLCV file\n",
    "RSI_PERIOD = 14                   # Standard RSI period\n",
    "OUTPUT_PATH = \"ohlcv_with_rsi.csv\""
   ],
   "id": "8cc7c8a6093a4397",
   "outputs": [],
   "execution_count": 10
  },
  {
   "metadata": {
    "ExecuteTime": {
     "end_time": "2025-04-22T17:53:23.392549Z",
     "start_time": "2025-04-22T17:53:23.334274Z"
    }
   },
   "cell_type": "code",
   "source": [
    "# === STEP 1: Load the CSV ===\n",
    "df = pd.read_csv(\"../datasets/XAGUSD-H1-rates.csv\", sep='\\t')  # or sep=',' depending on your file\n",
    "print(\"Original DataFrame:\")\n",
    "print(df.head())"
   ],
   "id": "b87c753cda926259",
   "outputs": [
    {
     "name": "stdout",
     "output_type": "stream",
     "text": [
      "Original DataFrame:\n",
      "       <DATE>    <TIME>  <OPEN>  <HIGH>   <LOW>  <CLOSE>  <TICKVOL>     <VOL>  \\\n",
      "0  2015.01.02  09:00:00  15.889  15.896  15.807   15.834        993  18451000   \n",
      "1  2015.01.02  10:00:00  15.836  15.864  15.822   15.834       1116  25764000   \n",
      "2  2015.01.02  11:00:00  15.836  15.838  15.790   15.822       1023  18885000   \n",
      "3  2015.01.02  12:00:00  15.827  15.828  15.725   15.772       1286  23593000   \n",
      "4  2015.01.02  13:00:00  15.781  15.786  15.667   15.734       1584  28750000   \n",
      "\n",
      "   <SPREAD>  \n",
      "0        21  \n",
      "1        22  \n",
      "2        19  \n",
      "3        21  \n",
      "4        17  \n"
     ]
    }
   ],
   "execution_count": 11
  },
  {
   "metadata": {
    "ExecuteTime": {
     "end_time": "2025-04-22T17:53:23.419213Z",
     "start_time": "2025-04-22T17:53:23.400269Z"
    }
   },
   "cell_type": "code",
   "source": [
    "# === STEP 2: Combine DATE and TIME into a single datetime column ===\n",
    "df['DATETIME'] = pd.to_datetime(df['<DATE>'] + ' ' + df['<TIME>'])\n",
    "df.set_index('DATETIME', inplace=True)\n",
    "df = df.drop(columns=['<DATE>', '<TIME>'])"
   ],
   "id": "21f6d67b725badd0",
   "outputs": [],
   "execution_count": 12
  },
  {
   "metadata": {
    "ExecuteTime": {
     "end_time": "2025-04-22T17:53:23.447526Z",
     "start_time": "2025-04-22T17:53:23.442882Z"
    }
   },
   "cell_type": "code",
   "source": [
    "# === STEP 3: Convert price columns to float ===\n",
    "price_columns = ['<OPEN>', '<HIGH>', '<LOW>', '<CLOSE>']\n",
    "df[price_columns] = df[price_columns].astype(float)"
   ],
   "id": "ff24e849afc1da45",
   "outputs": [],
   "execution_count": 13
  },
  {
   "metadata": {
    "ExecuteTime": {
     "end_time": "2025-04-22T17:53:23.492413Z",
     "start_time": "2025-04-22T17:53:23.489217Z"
    }
   },
   "cell_type": "code",
   "source": [
    "# === STEP 4: Calculate RSI ===\n",
    "df['RSI'] = talib.RSI(df['<CLOSE>'], timeperiod=RSI_PERIOD)"
   ],
   "id": "2a6d0f86c6d618da",
   "outputs": [],
   "execution_count": 14
  },
  {
   "metadata": {
    "ExecuteTime": {
     "end_time": "2025-04-22T17:53:23.849975Z",
     "start_time": "2025-04-22T17:53:23.536333Z"
    }
   },
   "cell_type": "code",
   "source": [
    "# === STEP 5: Save to CSV ===\n",
    "df.to_csv(OUTPUT_PATH)\n",
    "print(f\"\\n✅ RSI added and saved to {OUTPUT_PATH}\")"
   ],
   "id": "b99a6487ff937f80",
   "outputs": [
    {
     "name": "stdout",
     "output_type": "stream",
     "text": [
      "\n",
      "✅ RSI added and saved to ohlcv_with_rsi.csv\n"
     ]
    }
   ],
   "execution_count": 15
  }
 ],
 "metadata": {
  "kernelspec": {
   "name": "python3",
   "language": "python",
   "display_name": "Python 3 (ipykernel)"
  }
 },
 "nbformat": 5,
 "nbformat_minor": 9
}
