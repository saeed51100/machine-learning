{
 "cells": [
  {
   "metadata": {},
   "cell_type": "markdown",
   "source": [
    "# ta-lib-006 ( Feature‑Engineering + Sequence Models)\n",
    "https://chatgpt.com/c/680b5d6e-3f64-800a-9f2b-c08e35b0d0e8\n",
    "What's new:\n",
    "\n",
    "1- Change logic from classification to regression."
   ],
   "id": "67a9ecb3258e8606"
  },
  {
   "metadata": {
    "ExecuteTime": {
     "end_time": "2025-04-26T17:52:12.856992Z",
     "start_time": "2025-04-26T17:52:12.852491Z"
    }
   },
   "cell_type": "code",
   "source": [
    "import os\n",
    "import numpy as np\n",
    "import pandas as pd\n",
    "from sklearn.model_selection import train_test_split\n",
    "from sklearn.preprocessing import StandardScaler\n",
    "import talib\n",
    "import tensorflow as tf\n",
    "from tensorflow.keras import layers, models, callbacks\n",
    "import matplotlib.pyplot as plt\n",
    "\n",
    "# Ensure plots inline\n",
    "%matplotlib inline"
   ],
   "id": "ff3be02c3ae9ecbc",
   "outputs": [],
   "execution_count": 3
  },
  {
   "metadata": {
    "ExecuteTime": {
     "end_time": "2025-04-26T17:52:12.900036Z",
     "start_time": "2025-04-26T17:52:12.897305Z"
    }
   },
   "cell_type": "code",
   "source": [
    "# Parameters\n",
    "DATA_PATH = \"../datasets/XAGUSD-H1-rates.csv\"   # Path to your downloaded MT5 CSV\n",
    "SEQUENCE_LENGTH = 30                # Number of past candles per sample\n",
    "PREDICT_HORIZON  = 5                # How many candles ahead to detect a trend change\n",
    "TEST_SIZE = 0.2\n",
    "RANDOM_STATE = 42\n",
    "BATCH_SIZE = 64\n",
    "EPOCHS = 50"
   ],
   "id": "d71b0513bdaf89e",
   "outputs": [],
   "execution_count": 4
  },
  {
   "metadata": {
    "ExecuteTime": {
     "end_time": "2025-04-26T17:52:12.990424Z",
     "start_time": "2025-04-26T17:52:12.944614Z"
    }
   },
   "cell_type": "code",
   "source": [
    "# Load & Inspect Data\n",
    "df = pd.read_csv(DATA_PATH, sep='\\t')"
   ],
   "id": "d8371facd08687f9",
   "outputs": [],
   "execution_count": 5
  },
  {
   "metadata": {
    "ExecuteTime": {
     "end_time": "2025-04-26T17:52:13.031372Z",
     "start_time": "2025-04-26T17:52:13.005395Z"
    }
   },
   "cell_type": "code",
   "source": [
    "# Combine <DATE> and <TIME> into single datetime index\n",
    "df['DATETIME'] = pd.to_datetime(df['<DATE>'] + ' ' + df['<TIME>'])\n",
    "df.set_index('DATETIME', inplace=True)\n",
    "df.drop(columns=['<DATE>', '<TIME>'], inplace=True)\n",
    "df.head()"
   ],
   "id": "d904ddb06d873898",
   "outputs": [
    {
     "data": {
      "text/plain": [
       "                     <OPEN>  <HIGH>   <LOW>  <CLOSE>  <TICKVOL>     <VOL>  \\\n",
       "DATETIME                                                                    \n",
       "2015-01-02 09:00:00  15.889  15.896  15.807   15.834        993  18451000   \n",
       "2015-01-02 10:00:00  15.836  15.864  15.822   15.834       1116  25764000   \n",
       "2015-01-02 11:00:00  15.836  15.838  15.790   15.822       1023  18885000   \n",
       "2015-01-02 12:00:00  15.827  15.828  15.725   15.772       1286  23593000   \n",
       "2015-01-02 13:00:00  15.781  15.786  15.667   15.734       1584  28750000   \n",
       "\n",
       "                     <SPREAD>  \n",
       "DATETIME                       \n",
       "2015-01-02 09:00:00        21  \n",
       "2015-01-02 10:00:00        22  \n",
       "2015-01-02 11:00:00        19  \n",
       "2015-01-02 12:00:00        21  \n",
       "2015-01-02 13:00:00        17  "
      ],
      "text/html": [
       "<div>\n",
       "<style scoped>\n",
       "    .dataframe tbody tr th:only-of-type {\n",
       "        vertical-align: middle;\n",
       "    }\n",
       "\n",
       "    .dataframe tbody tr th {\n",
       "        vertical-align: top;\n",
       "    }\n",
       "\n",
       "    .dataframe thead th {\n",
       "        text-align: right;\n",
       "    }\n",
       "</style>\n",
       "<table border=\"1\" class=\"dataframe\">\n",
       "  <thead>\n",
       "    <tr style=\"text-align: right;\">\n",
       "      <th></th>\n",
       "      <th>&lt;OPEN&gt;</th>\n",
       "      <th>&lt;HIGH&gt;</th>\n",
       "      <th>&lt;LOW&gt;</th>\n",
       "      <th>&lt;CLOSE&gt;</th>\n",
       "      <th>&lt;TICKVOL&gt;</th>\n",
       "      <th>&lt;VOL&gt;</th>\n",
       "      <th>&lt;SPREAD&gt;</th>\n",
       "    </tr>\n",
       "    <tr>\n",
       "      <th>DATETIME</th>\n",
       "      <th></th>\n",
       "      <th></th>\n",
       "      <th></th>\n",
       "      <th></th>\n",
       "      <th></th>\n",
       "      <th></th>\n",
       "      <th></th>\n",
       "    </tr>\n",
       "  </thead>\n",
       "  <tbody>\n",
       "    <tr>\n",
       "      <th>2015-01-02 09:00:00</th>\n",
       "      <td>15.889</td>\n",
       "      <td>15.896</td>\n",
       "      <td>15.807</td>\n",
       "      <td>15.834</td>\n",
       "      <td>993</td>\n",
       "      <td>18451000</td>\n",
       "      <td>21</td>\n",
       "    </tr>\n",
       "    <tr>\n",
       "      <th>2015-01-02 10:00:00</th>\n",
       "      <td>15.836</td>\n",
       "      <td>15.864</td>\n",
       "      <td>15.822</td>\n",
       "      <td>15.834</td>\n",
       "      <td>1116</td>\n",
       "      <td>25764000</td>\n",
       "      <td>22</td>\n",
       "    </tr>\n",
       "    <tr>\n",
       "      <th>2015-01-02 11:00:00</th>\n",
       "      <td>15.836</td>\n",
       "      <td>15.838</td>\n",
       "      <td>15.790</td>\n",
       "      <td>15.822</td>\n",
       "      <td>1023</td>\n",
       "      <td>18885000</td>\n",
       "      <td>19</td>\n",
       "    </tr>\n",
       "    <tr>\n",
       "      <th>2015-01-02 12:00:00</th>\n",
       "      <td>15.827</td>\n",
       "      <td>15.828</td>\n",
       "      <td>15.725</td>\n",
       "      <td>15.772</td>\n",
       "      <td>1286</td>\n",
       "      <td>23593000</td>\n",
       "      <td>21</td>\n",
       "    </tr>\n",
       "    <tr>\n",
       "      <th>2015-01-02 13:00:00</th>\n",
       "      <td>15.781</td>\n",
       "      <td>15.786</td>\n",
       "      <td>15.667</td>\n",
       "      <td>15.734</td>\n",
       "      <td>1584</td>\n",
       "      <td>28750000</td>\n",
       "      <td>17</td>\n",
       "    </tr>\n",
       "  </tbody>\n",
       "</table>\n",
       "</div>"
      ]
     },
     "execution_count": 6,
     "metadata": {},
     "output_type": "execute_result"
    }
   ],
   "execution_count": 6
  },
  {
   "metadata": {
    "ExecuteTime": {
     "end_time": "2025-04-26T17:52:13.070909Z",
     "start_time": "2025-04-26T17:52:13.059942Z"
    }
   },
   "cell_type": "code",
   "source": [
    "# Compute TA indicators and append to dataframe.\n",
    "# e.g. RSI, ATR, MACD Histogram\n",
    "df['rsi'] = talib.RSI(df['<CLOSE>'], timeperiod=14)\n",
    "macd, macd_sig, macd_hist = talib.MACD(df['<CLOSE>'], fastperiod=12, slowperiod=26, signalperiod=9)\n",
    "df['macd_hist'] = macd_hist\n",
    "df['atr'] = talib.ATR(df['<HIGH>'], df['<LOW>'], df['<CLOSE>'], timeperiod=14)\n",
    "df.dropna(inplace=True) # Remove missing values."
   ],
   "id": "173e7a431130ca4c",
   "outputs": [],
   "execution_count": 7
  },
  {
   "metadata": {
    "ExecuteTime": {
     "end_time": "2025-04-26T17:52:13.117364Z",
     "start_time": "2025-04-26T17:52:13.107401Z"
    }
   },
   "cell_type": "code",
   "source": [
    "# Feature Engineering\n",
    "feature_cols = ['<CLOSE>', 'rsi', 'macd_hist', 'atr']\n",
    "scaler = StandardScaler()\n",
    "scaled = scaler.fit_transform(df[feature_cols])"
   ],
   "id": "13f88411fa165acf",
   "outputs": [],
   "execution_count": 8
  },
  {
   "metadata": {
    "ExecuteTime": {
     "end_time": "2025-04-26T17:52:13.215360Z",
     "start_time": "2025-04-26T17:52:13.212965Z"
    }
   },
   "cell_type": "code",
   "source": [
    "# Target Engineering (Multi-Step Future Prices)\n",
    "target_col = '<CLOSE>'  # Predict future CLOSE prices"
   ],
   "id": "b17e65787bcc264a",
   "outputs": [],
   "execution_count": 9
  },
  {
   "metadata": {
    "ExecuteTime": {
     "end_time": "2025-04-26T17:52:14.670621Z",
     "start_time": "2025-04-26T17:52:13.332112Z"
    }
   },
   "cell_type": "code",
   "source": [
    "# Sequence Creation\n",
    "X, y = [], []\n",
    "for i in range(len(df) - SEQUENCE_LENGTH - PREDICT_HORIZON + 1):\n",
    "    seq_x = scaled[i : i+SEQUENCE_LENGTH]\n",
    "    future_y = df[target_col].iloc[i+SEQUENCE_LENGTH : i+SEQUENCE_LENGTH+PREDICT_HORIZON].values\n",
    "    X.append(seq_x)\n",
    "    y.append(future_y)\n",
    "X = np.array(X)\n",
    "y = np.array(y)\n",
    "\n",
    "print(\"X shape:\", X.shape)  # (samples, 30, 4)\n",
    "print(\"y shape:\", y.shape)  # (samples, 5)"
   ],
   "id": "384b988ae91b9a93",
   "outputs": [
    {
     "name": "stdout",
     "output_type": "stream",
     "text": [
      "X shape: (55016, 30, 4)\n",
      "y shape: (55016, 5)\n"
     ]
    }
   ],
   "execution_count": 10
  },
  {
   "metadata": {
    "ExecuteTime": {
     "end_time": "2025-04-26T17:52:14.696588Z",
     "start_time": "2025-04-26T17:52:14.675922Z"
    }
   },
   "cell_type": "code",
   "source": [
    "# Train/Test Split\n",
    "X_train, X_test, y_train, y_test = train_test_split(\n",
    "    X, y, test_size=TEST_SIZE, random_state=RANDOM_STATE\n",
    ")\n",
    "print(\"Train:\", X_train.shape, y_train.shape)\n",
    "print(\"Test :\", X_test.shape, y_test.shape)"
   ],
   "id": "cb9abf4559ce8eba",
   "outputs": [
    {
     "name": "stdout",
     "output_type": "stream",
     "text": [
      "Train: (44012, 30, 4) (44012, 5)\n",
      "Test : (11004, 30, 4) (11004, 5)\n"
     ]
    }
   ],
   "execution_count": 11
  },
  {
   "metadata": {
    "ExecuteTime": {
     "end_time": "2025-04-26T17:52:15.895630Z",
     "start_time": "2025-04-26T17:52:14.754122Z"
    }
   },
   "cell_type": "code",
   "source": [
    "# Build LSTM Regression Model\n",
    "def build_regression_model(input_shape, output_horizon):\n",
    "    model = models.Sequential([\n",
    "        layers.Input(shape=input_shape),\n",
    "        layers.LSTM(64, return_sequences=True),\n",
    "        layers.Dropout(0.2),\n",
    "        layers.LSTM(32),\n",
    "        layers.Dropout(0.2),\n",
    "        layers.Dense(32, activation='relu'),\n",
    "        layers.Dense(output_horizon)  # Linear output: predicting raw future prices\n",
    "    ])\n",
    "    model.compile(\n",
    "        loss='mse',                # Mean Squared Error for regression\n",
    "        optimizer='adam',\n",
    "        metrics=['mae']             # Mean Absolute Error as additional metric\n",
    "    )\n",
    "    return model\n",
    "\n",
    "model = build_regression_model((SEQUENCE_LENGTH, len(feature_cols)), PREDICT_HORIZON)\n",
    "model.summary()\n"
   ],
   "id": "e396b4d1219f5142",
   "outputs": [
    {
     "name": "stderr",
     "output_type": "stream",
     "text": [
      "I0000 00:00:1745689935.139551   10815 gpu_device.cc:2022] Created device /job:localhost/replica:0/task:0/device:GPU:0 with 2273 MB memory:  -> device: 0, name: NVIDIA GeForce GTX 1650 SUPER, pci bus id: 0000:01:00.0, compute capability: 7.5\n"
     ]
    },
    {
     "data": {
      "text/plain": [
       "\u001B[1mModel: \"sequential\"\u001B[0m\n"
      ],
      "text/html": [
       "<pre style=\"white-space:pre;overflow-x:auto;line-height:normal;font-family:Menlo,'DejaVu Sans Mono',consolas,'Courier New',monospace\"><span style=\"font-weight: bold\">Model: \"sequential\"</span>\n",
       "</pre>\n"
      ]
     },
     "metadata": {},
     "output_type": "display_data"
    },
    {
     "data": {
      "text/plain": [
       "┏━━━━━━━━━━━━━━━━━━━━━━━━━━━━━━━━━┳━━━━━━━━━━━━━━━━━━━━━━━━┳━━━━━━━━━━━━━━━┓\n",
       "┃\u001B[1m \u001B[0m\u001B[1mLayer (type)                   \u001B[0m\u001B[1m \u001B[0m┃\u001B[1m \u001B[0m\u001B[1mOutput Shape          \u001B[0m\u001B[1m \u001B[0m┃\u001B[1m \u001B[0m\u001B[1m      Param #\u001B[0m\u001B[1m \u001B[0m┃\n",
       "┡━━━━━━━━━━━━━━━━━━━━━━━━━━━━━━━━━╇━━━━━━━━━━━━━━━━━━━━━━━━╇━━━━━━━━━━━━━━━┩\n",
       "│ lstm (\u001B[38;5;33mLSTM\u001B[0m)                     │ (\u001B[38;5;45mNone\u001B[0m, \u001B[38;5;34m30\u001B[0m, \u001B[38;5;34m64\u001B[0m)         │        \u001B[38;5;34m17,664\u001B[0m │\n",
       "├─────────────────────────────────┼────────────────────────┼───────────────┤\n",
       "│ dropout (\u001B[38;5;33mDropout\u001B[0m)               │ (\u001B[38;5;45mNone\u001B[0m, \u001B[38;5;34m30\u001B[0m, \u001B[38;5;34m64\u001B[0m)         │             \u001B[38;5;34m0\u001B[0m │\n",
       "├─────────────────────────────────┼────────────────────────┼───────────────┤\n",
       "│ lstm_1 (\u001B[38;5;33mLSTM\u001B[0m)                   │ (\u001B[38;5;45mNone\u001B[0m, \u001B[38;5;34m32\u001B[0m)             │        \u001B[38;5;34m12,416\u001B[0m │\n",
       "├─────────────────────────────────┼────────────────────────┼───────────────┤\n",
       "│ dropout_1 (\u001B[38;5;33mDropout\u001B[0m)             │ (\u001B[38;5;45mNone\u001B[0m, \u001B[38;5;34m32\u001B[0m)             │             \u001B[38;5;34m0\u001B[0m │\n",
       "├─────────────────────────────────┼────────────────────────┼───────────────┤\n",
       "│ dense (\u001B[38;5;33mDense\u001B[0m)                   │ (\u001B[38;5;45mNone\u001B[0m, \u001B[38;5;34m32\u001B[0m)             │         \u001B[38;5;34m1,056\u001B[0m │\n",
       "├─────────────────────────────────┼────────────────────────┼───────────────┤\n",
       "│ dense_1 (\u001B[38;5;33mDense\u001B[0m)                 │ (\u001B[38;5;45mNone\u001B[0m, \u001B[38;5;34m5\u001B[0m)              │           \u001B[38;5;34m165\u001B[0m │\n",
       "└─────────────────────────────────┴────────────────────────┴───────────────┘\n"
      ],
      "text/html": [
       "<pre style=\"white-space:pre;overflow-x:auto;line-height:normal;font-family:Menlo,'DejaVu Sans Mono',consolas,'Courier New',monospace\">┏━━━━━━━━━━━━━━━━━━━━━━━━━━━━━━━━━┳━━━━━━━━━━━━━━━━━━━━━━━━┳━━━━━━━━━━━━━━━┓\n",
       "┃<span style=\"font-weight: bold\"> Layer (type)                    </span>┃<span style=\"font-weight: bold\"> Output Shape           </span>┃<span style=\"font-weight: bold\">       Param # </span>┃\n",
       "┡━━━━━━━━━━━━━━━━━━━━━━━━━━━━━━━━━╇━━━━━━━━━━━━━━━━━━━━━━━━╇━━━━━━━━━━━━━━━┩\n",
       "│ lstm (<span style=\"color: #0087ff; text-decoration-color: #0087ff\">LSTM</span>)                     │ (<span style=\"color: #00d7ff; text-decoration-color: #00d7ff\">None</span>, <span style=\"color: #00af00; text-decoration-color: #00af00\">30</span>, <span style=\"color: #00af00; text-decoration-color: #00af00\">64</span>)         │        <span style=\"color: #00af00; text-decoration-color: #00af00\">17,664</span> │\n",
       "├─────────────────────────────────┼────────────────────────┼───────────────┤\n",
       "│ dropout (<span style=\"color: #0087ff; text-decoration-color: #0087ff\">Dropout</span>)               │ (<span style=\"color: #00d7ff; text-decoration-color: #00d7ff\">None</span>, <span style=\"color: #00af00; text-decoration-color: #00af00\">30</span>, <span style=\"color: #00af00; text-decoration-color: #00af00\">64</span>)         │             <span style=\"color: #00af00; text-decoration-color: #00af00\">0</span> │\n",
       "├─────────────────────────────────┼────────────────────────┼───────────────┤\n",
       "│ lstm_1 (<span style=\"color: #0087ff; text-decoration-color: #0087ff\">LSTM</span>)                   │ (<span style=\"color: #00d7ff; text-decoration-color: #00d7ff\">None</span>, <span style=\"color: #00af00; text-decoration-color: #00af00\">32</span>)             │        <span style=\"color: #00af00; text-decoration-color: #00af00\">12,416</span> │\n",
       "├─────────────────────────────────┼────────────────────────┼───────────────┤\n",
       "│ dropout_1 (<span style=\"color: #0087ff; text-decoration-color: #0087ff\">Dropout</span>)             │ (<span style=\"color: #00d7ff; text-decoration-color: #00d7ff\">None</span>, <span style=\"color: #00af00; text-decoration-color: #00af00\">32</span>)             │             <span style=\"color: #00af00; text-decoration-color: #00af00\">0</span> │\n",
       "├─────────────────────────────────┼────────────────────────┼───────────────┤\n",
       "│ dense (<span style=\"color: #0087ff; text-decoration-color: #0087ff\">Dense</span>)                   │ (<span style=\"color: #00d7ff; text-decoration-color: #00d7ff\">None</span>, <span style=\"color: #00af00; text-decoration-color: #00af00\">32</span>)             │         <span style=\"color: #00af00; text-decoration-color: #00af00\">1,056</span> │\n",
       "├─────────────────────────────────┼────────────────────────┼───────────────┤\n",
       "│ dense_1 (<span style=\"color: #0087ff; text-decoration-color: #0087ff\">Dense</span>)                 │ (<span style=\"color: #00d7ff; text-decoration-color: #00d7ff\">None</span>, <span style=\"color: #00af00; text-decoration-color: #00af00\">5</span>)              │           <span style=\"color: #00af00; text-decoration-color: #00af00\">165</span> │\n",
       "└─────────────────────────────────┴────────────────────────┴───────────────┘\n",
       "</pre>\n"
      ]
     },
     "metadata": {},
     "output_type": "display_data"
    },
    {
     "data": {
      "text/plain": [
       "\u001B[1m Total params: \u001B[0m\u001B[38;5;34m31,301\u001B[0m (122.27 KB)\n"
      ],
      "text/html": [
       "<pre style=\"white-space:pre;overflow-x:auto;line-height:normal;font-family:Menlo,'DejaVu Sans Mono',consolas,'Courier New',monospace\"><span style=\"font-weight: bold\"> Total params: </span><span style=\"color: #00af00; text-decoration-color: #00af00\">31,301</span> (122.27 KB)\n",
       "</pre>\n"
      ]
     },
     "metadata": {},
     "output_type": "display_data"
    },
    {
     "data": {
      "text/plain": [
       "\u001B[1m Trainable params: \u001B[0m\u001B[38;5;34m31,301\u001B[0m (122.27 KB)\n"
      ],
      "text/html": [
       "<pre style=\"white-space:pre;overflow-x:auto;line-height:normal;font-family:Menlo,'DejaVu Sans Mono',consolas,'Courier New',monospace\"><span style=\"font-weight: bold\"> Trainable params: </span><span style=\"color: #00af00; text-decoration-color: #00af00\">31,301</span> (122.27 KB)\n",
       "</pre>\n"
      ]
     },
     "metadata": {},
     "output_type": "display_data"
    },
    {
     "data": {
      "text/plain": [
       "\u001B[1m Non-trainable params: \u001B[0m\u001B[38;5;34m0\u001B[0m (0.00 B)\n"
      ],
      "text/html": [
       "<pre style=\"white-space:pre;overflow-x:auto;line-height:normal;font-family:Menlo,'DejaVu Sans Mono',consolas,'Courier New',monospace\"><span style=\"font-weight: bold\"> Non-trainable params: </span><span style=\"color: #00af00; text-decoration-color: #00af00\">0</span> (0.00 B)\n",
       "</pre>\n"
      ]
     },
     "metadata": {},
     "output_type": "display_data"
    }
   ],
   "execution_count": 12
  },
  {
   "metadata": {
    "ExecuteTime": {
     "end_time": "2025-04-26T17:53:10.192092Z",
     "start_time": "2025-04-26T17:52:15.932959Z"
    }
   },
   "cell_type": "code",
   "source": [
    "# Training\n",
    "es = callbacks.EarlyStopping(monitor='val_loss', patience=5, restore_best_weights=True)\n",
    "history = model.fit(\n",
    "    X_train, y_train,\n",
    "    validation_split=0.2,\n",
    "    epochs=EPOCHS,\n",
    "    batch_size=BATCH_SIZE,\n",
    "    callbacks=[es]\n",
    ")"
   ],
   "id": "61b57fd3c90d4900",
   "outputs": [
    {
     "name": "stdout",
     "output_type": "stream",
     "text": [
      "Epoch 1/50\n"
     ]
    },
    {
     "name": "stderr",
     "output_type": "stream",
     "text": [
      "I0000 00:00:1745689937.992010   10870 cuda_dnn.cc:529] Loaded cuDNN version 90800\n"
     ]
    },
    {
     "name": "stdout",
     "output_type": "stream",
     "text": [
      "\u001B[1m551/551\u001B[0m \u001B[32m━━━━━━━━━━━━━━━━━━━━\u001B[0m\u001B[37m\u001B[0m \u001B[1m7s\u001B[0m 7ms/step - loss: 138.7861 - mae: 9.3261 - val_loss: 16.0910 - val_mae: 3.5491\n",
      "Epoch 2/50\n",
      "\u001B[1m551/551\u001B[0m \u001B[32m━━━━━━━━━━━━━━━━━━━━\u001B[0m\u001B[37m\u001B[0m \u001B[1m3s\u001B[0m 6ms/step - loss: 13.0949 - mae: 2.8789 - val_loss: 0.3568 - val_mae: 0.4973\n",
      "Epoch 3/50\n",
      "\u001B[1m551/551\u001B[0m \u001B[32m━━━━━━━━━━━━━━━━━━━━\u001B[0m\u001B[37m\u001B[0m \u001B[1m3s\u001B[0m 6ms/step - loss: 2.9422 - mae: 1.3397 - val_loss: 0.1314 - val_mae: 0.2988\n",
      "Epoch 4/50\n",
      "\u001B[1m551/551\u001B[0m \u001B[32m━━━━━━━━━━━━━━━━━━━━\u001B[0m\u001B[37m\u001B[0m \u001B[1m4s\u001B[0m 7ms/step - loss: 2.5888 - mae: 1.2514 - val_loss: 0.1227 - val_mae: 0.2669\n",
      "Epoch 5/50\n",
      "\u001B[1m551/551\u001B[0m \u001B[32m━━━━━━━━━━━━━━━━━━━━\u001B[0m\u001B[37m\u001B[0m \u001B[1m4s\u001B[0m 6ms/step - loss: 2.1620 - mae: 1.1370 - val_loss: 0.2331 - val_mae: 0.4465\n",
      "Epoch 6/50\n",
      "\u001B[1m551/551\u001B[0m \u001B[32m━━━━━━━━━━━━━━━━━━━━\u001B[0m\u001B[37m\u001B[0m \u001B[1m3s\u001B[0m 6ms/step - loss: 1.6890 - mae: 0.9995 - val_loss: 0.0587 - val_mae: 0.1881\n",
      "Epoch 7/50\n",
      "\u001B[1m551/551\u001B[0m \u001B[32m━━━━━━━━━━━━━━━━━━━━\u001B[0m\u001B[37m\u001B[0m \u001B[1m4s\u001B[0m 7ms/step - loss: 1.1933 - mae: 0.8235 - val_loss: 0.0358 - val_mae: 0.1421\n",
      "Epoch 8/50\n",
      "\u001B[1m551/551\u001B[0m \u001B[32m━━━━━━━━━━━━━━━━━━━━\u001B[0m\u001B[37m\u001B[0m \u001B[1m4s\u001B[0m 7ms/step - loss: 0.7122 - mae: 0.6129 - val_loss: 0.0847 - val_mae: 0.2168\n",
      "Epoch 9/50\n",
      "\u001B[1m551/551\u001B[0m \u001B[32m━━━━━━━━━━━━━━━━━━━━\u001B[0m\u001B[37m\u001B[0m \u001B[1m4s\u001B[0m 7ms/step - loss: 0.3788 - mae: 0.4173 - val_loss: 0.0263 - val_mae: 0.1177\n",
      "Epoch 10/50\n",
      "\u001B[1m551/551\u001B[0m \u001B[32m━━━━━━━━━━━━━━━━━━━━\u001B[0m\u001B[37m\u001B[0m \u001B[1m4s\u001B[0m 7ms/step - loss: 0.2397 - mae: 0.3290 - val_loss: 0.0361 - val_mae: 0.1381\n",
      "Epoch 11/50\n",
      "\u001B[1m551/551\u001B[0m \u001B[32m━━━━━━━━━━━━━━━━━━━━\u001B[0m\u001B[37m\u001B[0m \u001B[1m4s\u001B[0m 7ms/step - loss: 0.1715 - mae: 0.2897 - val_loss: 0.0310 - val_mae: 0.1207\n",
      "Epoch 12/50\n",
      "\u001B[1m551/551\u001B[0m \u001B[32m━━━━━━━━━━━━━━━━━━━━\u001B[0m\u001B[37m\u001B[0m \u001B[1m4s\u001B[0m 7ms/step - loss: 0.1383 - mae: 0.2691 - val_loss: 0.0353 - val_mae: 0.1388\n",
      "Epoch 13/50\n",
      "\u001B[1m551/551\u001B[0m \u001B[32m━━━━━━━━━━━━━━━━━━━━\u001B[0m\u001B[37m\u001B[0m \u001B[1m4s\u001B[0m 7ms/step - loss: 0.1188 - mae: 0.2545 - val_loss: 0.0382 - val_mae: 0.1434\n",
      "Epoch 14/50\n",
      "\u001B[1m551/551\u001B[0m \u001B[32m━━━━━━━━━━━━━━━━━━━━\u001B[0m\u001B[37m\u001B[0m \u001B[1m4s\u001B[0m 7ms/step - loss: 0.1013 - mae: 0.2364 - val_loss: 0.0270 - val_mae: 0.1126\n"
     ]
    }
   ],
   "execution_count": 13
  },
  {
   "metadata": {
    "ExecuteTime": {
     "end_time": "2025-04-26T17:53:11.134257Z",
     "start_time": "2025-04-26T17:53:10.209284Z"
    }
   },
   "cell_type": "code",
   "source": [
    "# Evaluation\n",
    "loss, mae = model.evaluate(X_test, y_test)\n",
    "print(f\"Test Loss (MSE): {loss:.4f}  Test MAE: {mae:.4f}\")\n"
   ],
   "id": "1c59b4e9fe41b0a4",
   "outputs": [
    {
     "name": "stdout",
     "output_type": "stream",
     "text": [
      "\u001B[1m344/344\u001B[0m \u001B[32m━━━━━━━━━━━━━━━━━━━━\u001B[0m\u001B[37m\u001B[0m \u001B[1m1s\u001B[0m 3ms/step - loss: 0.0261 - mae: 0.1187\n",
      "Test Loss (MSE): 0.0269  Test MAE: 0.1194\n"
     ]
    }
   ],
   "execution_count": 14
  },
  {
   "metadata": {
    "ExecuteTime": {
     "end_time": "2025-04-26T17:53:11.484044Z",
     "start_time": "2025-04-26T17:53:11.148904Z"
    }
   },
   "cell_type": "code",
   "source": [
    "# --- New Code Starts Here ---\n",
    "\n",
    "import matplotlib.pyplot as plt\n",
    "\n",
    "# Load recent real candles for prediction\n",
    "recent_candles = pd.read_csv(\"../datasets/new-data-for-test/rows-60-from-20241031.csv\", sep='\\t')\n",
    "\n",
    "# Combine <DATE> and <TIME> into single datetime index\n",
    "recent_candles['DATETIME'] = pd.to_datetime(recent_candles['<DATE>'] + ' ' + recent_candles['<TIME>'])\n",
    "recent_candles.set_index('DATETIME', inplace=True)\n",
    "recent_candles.drop(columns=['<DATE>', '<TIME>'], inplace=True)\n",
    "\n",
    "\n",
    "# Compute TA indicators and append to dataframe.\n",
    "# e.g. RSI, ATR, MACD Histogram\n",
    "recent_candles['rsi'] = talib.RSI(recent_candles['<CLOSE>'], timeperiod=14)\n",
    "macd, macd_sig, macd_hist = talib.MACD(recent_candles['<CLOSE>'], fastperiod=12, slowperiod=26, signalperiod=9)\n",
    "recent_candles['macd_hist'] = macd_hist\n",
    "recent_candles['atr'] = talib.ATR(recent_candles['<HIGH>'], recent_candles['<LOW>'], recent_candles['<CLOSE>'], timeperiod=14)\n",
    "recent_candles.dropna(inplace=True)\n",
    "\n",
    "\n",
    "# Select the latest SEQUENCE_LENGTH candles\n",
    "input_candles = recent_candles.tail(SEQUENCE_LENGTH)\n",
    "\n",
    "# Scale the input using the same scaler from training\n",
    "input_features = input_candles[feature_cols]\n",
    "input_scaled = scaler.transform(input_features)\n",
    "input_scaled = np.expand_dims(input_scaled, axis=0)  # (1, 30, 4)\n",
    "\n",
    "# Predict future prices\n",
    "predicted_future_prices = model.predict(input_scaled)[0]  # shape = (PREDICT_HORIZON,)\n",
    "print(\"Predicted Future Prices:\", predicted_future_prices)\n",
    "\n",
    "# Prepare for plotting\n",
    "# Get the last real CLOSE price\n",
    "last_real_close = input_candles['<CLOSE>'].iloc[-1]\n",
    "# Build X axis (time)\n",
    "real_times = input_candles.index\n",
    "future_times = pd.date_range(start=real_times[-1] + pd.Timedelta(hours=1), periods=PREDICT_HORIZON, freq='h')\n",
    "\n",
    "# Plot real CLOSE prices\n",
    "plt.figure(figsize=(12,6))\n",
    "plt.plot(real_times, input_candles['<CLOSE>'], label='Real Close Prices (Input)', marker='o')\n",
    "\n",
    "# Plot predicted future prices\n",
    "plt.plot(future_times, predicted_future_prices, label='Predicted Future Close Prices', marker='x', linestyle='--', color='red')\n",
    "\n",
    "# Decorations\n",
    "plt.title(f\"Prediction of Next {PREDICT_HORIZON} Future Candles\")\n",
    "plt.xlabel(\"Time\")\n",
    "plt.ylabel(\"Close Price\")\n",
    "plt.legend()\n",
    "plt.grid()\n",
    "plt.show()\n"
   ],
   "id": "eca8165affbcad91",
   "outputs": [
    {
     "name": "stdout",
     "output_type": "stream",
     "text": [
      "\u001B[1m1/1\u001B[0m \u001B[32m━━━━━━━━━━━━━━━━━━━━\u001B[0m\u001B[37m\u001B[0m \u001B[1m0s\u001B[0m 135ms/step\n",
      "Predicted Future Prices: [30.889816 30.868319 30.89808  30.879204 30.85164 ]\n"
     ]
    },
    {
     "data": {
      "text/plain": [
       "<Figure size 1200x600 with 1 Axes>"
      ],
      "image/png": "[encoded data removed]"
     },
     "metadata": {},
     "output_type": "display_data"
    }
   ],
   "execution_count": 15
  },
  {
   "metadata": {
    "ExecuteTime": {
     "end_time": "2025-04-26T17:53:11.505339Z",
     "start_time": "2025-04-26T17:53:11.503737Z"
    }
   },
   "cell_type": "code",
   "source": "",
   "id": "856bece7a3554c0c",
   "outputs": [],
   "execution_count": null
  }
 ],
 "metadata": {
  "kernelspec": {
   "name": "python3",
   "language": "python",
   "display_name": "Python 3 (ipykernel)"
  }
 },
 "nbformat": 5,
 "nbformat_minor": 9
}
