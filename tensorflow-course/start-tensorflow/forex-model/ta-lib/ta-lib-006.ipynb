{
 "cells": [
  {
   "metadata": {},
   "cell_type": "markdown",
   "source": [
    "# ta-lib-006 ( Feature‑Engineering + Sequence Models)\n",
    "https://chatgpt.com/c/680b5d6e-3f64-800a-9f2b-c08e35b0d0e8\n",
    "What's new:\n",
    "\n",
    "1- Change logic from classification to regression."
   ],
   "id": "67a9ecb3258e8606"
  },
  {
   "metadata": {
    "ExecuteTime": {
     "end_time": "2025-04-26T16:40:06.409262Z",
     "start_time": "2025-04-26T16:40:06.405103Z"
    }
   },
   "cell_type": "code",
   "source": [
    "import os\n",
    "import numpy as np\n",
    "import pandas as pd\n",
    "from sklearn.model_selection import train_test_split\n",
    "from sklearn.preprocessing import StandardScaler\n",
    "import talib\n",
    "import tensorflow as tf\n",
    "from tensorflow.keras import layers, models, callbacks\n",
    "import matplotlib.pyplot as plt\n",
    "\n",
    "# Ensure plots inline\n",
    "%matplotlib inline"
   ],
   "id": "ff3be02c3ae9ecbc",
   "outputs": [],
   "execution_count": 2
  },
  {
   "metadata": {
    "ExecuteTime": {
     "end_time": "2025-04-26T16:40:09.295249Z",
     "start_time": "2025-04-26T16:40:09.292624Z"
    }
   },
   "cell_type": "code",
   "source": [
    "# Parameters\n",
    "DATA_PATH = \"../datasets/XAGUSD-H1-rates.csv\"   # Path to your downloaded MT5 CSV\n",
    "SEQUENCE_LENGTH = 30                # Number of past candles per sample\n",
    "PREDICT_HORIZON  = 5                # How many candles ahead to detect a trend change\n",
    "TEST_SIZE = 0.2\n",
    "RANDOM_STATE = 42\n",
    "BATCH_SIZE = 64\n",
    "EPOCHS = 50"
   ],
   "id": "d71b0513bdaf89e",
   "outputs": [],
   "execution_count": 3
  },
  {
   "metadata": {
    "ExecuteTime": {
     "end_time": "2025-04-26T16:40:11.518426Z",
     "start_time": "2025-04-26T16:40:11.458279Z"
    }
   },
   "cell_type": "code",
   "source": [
    "# Load & Inspect Data\n",
    "df = pd.read_csv(DATA_PATH, sep='\\t')"
   ],
   "id": "d8371facd08687f9",
   "outputs": [],
   "execution_count": 4
  },
  {
   "metadata": {
    "ExecuteTime": {
     "end_time": "2025-04-26T16:40:13.813019Z",
     "start_time": "2025-04-26T16:40:13.774501Z"
    }
   },
   "cell_type": "code",
   "source": [
    "# Combine <DATE> and <TIME> into single datetime index\n",
    "df['DATETIME'] = pd.to_datetime(df['<DATE>'] + ' ' + df['<TIME>'])\n",
    "df.set_index('DATETIME', inplace=True)\n",
    "df.drop(columns=['<DATE>', '<TIME>'], inplace=True)\n",
    "df.head()"
   ],
   "id": "d904ddb06d873898",
   "outputs": [
    {
     "data": {
      "text/plain": [
       "                     <OPEN>  <HIGH>   <LOW>  <CLOSE>  <TICKVOL>     <VOL>  \\\n",
       "DATETIME                                                                    \n",
       "2015-01-02 09:00:00  15.889  15.896  15.807   15.834        993  18451000   \n",
       "2015-01-02 10:00:00  15.836  15.864  15.822   15.834       1116  25764000   \n",
       "2015-01-02 11:00:00  15.836  15.838  15.790   15.822       1023  18885000   \n",
       "2015-01-02 12:00:00  15.827  15.828  15.725   15.772       1286  23593000   \n",
       "2015-01-02 13:00:00  15.781  15.786  15.667   15.734       1584  28750000   \n",
       "\n",
       "                     <SPREAD>  \n",
       "DATETIME                       \n",
       "2015-01-02 09:00:00        21  \n",
       "2015-01-02 10:00:00        22  \n",
       "2015-01-02 11:00:00        19  \n",
       "2015-01-02 12:00:00        21  \n",
       "2015-01-02 13:00:00        17  "
      ],
      "text/html": [
       "<div>\n",
       "<style scoped>\n",
       "    .dataframe tbody tr th:only-of-type {\n",
       "        vertical-align: middle;\n",
       "    }\n",
       "\n",
       "    .dataframe tbody tr th {\n",
       "        vertical-align: top;\n",
       "    }\n",
       "\n",
       "    .dataframe thead th {\n",
       "        text-align: right;\n",
       "    }\n",
       "</style>\n",
       "<table border=\"1\" class=\"dataframe\">\n",
       "  <thead>\n",
       "    <tr style=\"text-align: right;\">\n",
       "      <th></th>\n",
       "      <th>&lt;OPEN&gt;</th>\n",
       "      <th>&lt;HIGH&gt;</th>\n",
       "      <th>&lt;LOW&gt;</th>\n",
       "      <th>&lt;CLOSE&gt;</th>\n",
       "      <th>&lt;TICKVOL&gt;</th>\n",
       "      <th>&lt;VOL&gt;</th>\n",
       "      <th>&lt;SPREAD&gt;</th>\n",
       "    </tr>\n",
       "    <tr>\n",
       "      <th>DATETIME</th>\n",
       "      <th></th>\n",
       "      <th></th>\n",
       "      <th></th>\n",
       "      <th></th>\n",
       "      <th></th>\n",
       "      <th></th>\n",
       "      <th></th>\n",
       "    </tr>\n",
       "  </thead>\n",
       "  <tbody>\n",
       "    <tr>\n",
       "      <th>2015-01-02 09:00:00</th>\n",
       "      <td>15.889</td>\n",
       "      <td>15.896</td>\n",
       "      <td>15.807</td>\n",
       "      <td>15.834</td>\n",
       "      <td>993</td>\n",
       "      <td>18451000</td>\n",
       "      <td>21</td>\n",
       "    </tr>\n",
       "    <tr>\n",
       "      <th>2015-01-02 10:00:00</th>\n",
       "      <td>15.836</td>\n",
       "      <td>15.864</td>\n",
       "      <td>15.822</td>\n",
       "      <td>15.834</td>\n",
       "      <td>1116</td>\n",
       "      <td>25764000</td>\n",
       "      <td>22</td>\n",
       "    </tr>\n",
       "    <tr>\n",
       "      <th>2015-01-02 11:00:00</th>\n",
       "      <td>15.836</td>\n",
       "      <td>15.838</td>\n",
       "      <td>15.790</td>\n",
       "      <td>15.822</td>\n",
       "      <td>1023</td>\n",
       "      <td>18885000</td>\n",
       "      <td>19</td>\n",
       "    </tr>\n",
       "    <tr>\n",
       "      <th>2015-01-02 12:00:00</th>\n",
       "      <td>15.827</td>\n",
       "      <td>15.828</td>\n",
       "      <td>15.725</td>\n",
       "      <td>15.772</td>\n",
       "      <td>1286</td>\n",
       "      <td>23593000</td>\n",
       "      <td>21</td>\n",
       "    </tr>\n",
       "    <tr>\n",
       "      <th>2015-01-02 13:00:00</th>\n",
       "      <td>15.781</td>\n",
       "      <td>15.786</td>\n",
       "      <td>15.667</td>\n",
       "      <td>15.734</td>\n",
       "      <td>1584</td>\n",
       "      <td>28750000</td>\n",
       "      <td>17</td>\n",
       "    </tr>\n",
       "  </tbody>\n",
       "</table>\n",
       "</div>"
      ]
     },
     "execution_count": 5,
     "metadata": {},
     "output_type": "execute_result"
    }
   ],
   "execution_count": 5
  },
  {
   "metadata": {
    "ExecuteTime": {
     "end_time": "2025-04-26T16:40:17.043541Z",
     "start_time": "2025-04-26T16:40:17.028308Z"
    }
   },
   "cell_type": "code",
   "source": [
    "# Compute TA indicators and append to dataframe.\n",
    "# e.g. RSI, ATR, MACD Histogram\n",
    "df['rsi'] = talib.RSI(df['<CLOSE>'], timeperiod=14)\n",
    "macd, macd_sig, macd_hist = talib.MACD(df['<CLOSE>'], fastperiod=12, slowperiod=26, signalperiod=9)\n",
    "df['macd_hist'] = macd_hist\n",
    "df['atr'] = talib.ATR(df['<HIGH>'], df['<LOW>'], df['<CLOSE>'], timeperiod=14)\n",
    "df.dropna(inplace=True) # Remove missing values."
   ],
   "id": "173e7a431130ca4c",
   "outputs": [],
   "execution_count": 6
  },
  {
   "metadata": {
    "ExecuteTime": {
     "end_time": "2025-04-26T16:40:18.547652Z",
     "start_time": "2025-04-26T16:40:18.537141Z"
    }
   },
   "cell_type": "code",
   "source": [
    "# Feature Engineering\n",
    "feature_cols = ['<CLOSE>', 'rsi', 'macd_hist', 'atr']\n",
    "scaler = StandardScaler()\n",
    "scaled = scaler.fit_transform(df[feature_cols])"
   ],
   "id": "13f88411fa165acf",
   "outputs": [],
   "execution_count": 7
  },
  {
   "metadata": {
    "ExecuteTime": {
     "end_time": "2025-04-26T16:40:20.290156Z",
     "start_time": "2025-04-26T16:40:20.286968Z"
    }
   },
   "cell_type": "code",
   "source": [
    "# Target Engineering (Multi-Step Future Prices)\n",
    "target_col = '<CLOSE>'  # Predict future CLOSE prices"
   ],
   "id": "b17e65787bcc264a",
   "outputs": [],
   "execution_count": 8
  },
  {
   "metadata": {
    "ExecuteTime": {
     "end_time": "2025-04-26T16:40:23.512211Z",
     "start_time": "2025-04-26T16:40:22.051765Z"
    }
   },
   "cell_type": "code",
   "source": [
    "# Sequence Creation\n",
    "X, y = [], []\n",
    "for i in range(len(df) - SEQUENCE_LENGTH - PREDICT_HORIZON + 1):\n",
    "    seq_x = scaled[i : i+SEQUENCE_LENGTH]\n",
    "    future_y = df[target_col].iloc[i+SEQUENCE_LENGTH : i+SEQUENCE_LENGTH+PREDICT_HORIZON].values\n",
    "    X.append(seq_x)\n",
    "    y.append(future_y)\n",
    "X = np.array(X)\n",
    "y = np.array(y)\n",
    "\n",
    "print(\"X shape:\", X.shape)  # (samples, 30, 4)\n",
    "print(\"y shape:\", y.shape)  # (samples, 5)"
   ],
   "id": "384b988ae91b9a93",
   "outputs": [
    {
     "name": "stdout",
     "output_type": "stream",
     "text": [
      "X shape: (55016, 30, 4)\n",
      "y shape: (55016, 5)\n"
     ]
    }
   ],
   "execution_count": 9
  },
  {
   "metadata": {
    "ExecuteTime": {
     "end_time": "2025-04-26T16:40:26.111086Z",
     "start_time": "2025-04-26T16:40:26.090898Z"
    }
   },
   "cell_type": "code",
   "source": [
    "# Train/Test Split\n",
    "X_train, X_test, y_train, y_test = train_test_split(\n",
    "    X, y, test_size=TEST_SIZE, random_state=RANDOM_STATE\n",
    ")\n",
    "print(\"Train:\", X_train.shape, y_train.shape)\n",
    "print(\"Test :\", X_test.shape, y_test.shape)"
   ],
   "id": "cb9abf4559ce8eba",
   "outputs": [
    {
     "name": "stdout",
     "output_type": "stream",
     "text": [
      "Train: (44012, 30, 4) (44012, 5)\n",
      "Test : (11004, 30, 4) (11004, 5)\n"
     ]
    }
   ],
   "execution_count": 10
  },
  {
   "metadata": {
    "ExecuteTime": {
     "end_time": "2025-04-26T16:40:29.909892Z",
     "start_time": "2025-04-26T16:40:28.691275Z"
    }
   },
   "cell_type": "code",
   "source": [
    "# Build LSTM Regression Model\n",
    "def build_regression_model(input_shape, output_horizon):\n",
    "    model = models.Sequential([\n",
    "        layers.Input(shape=input_shape),\n",
    "        layers.LSTM(64, return_sequences=True),\n",
    "        layers.Dropout(0.2),\n",
    "        layers.LSTM(32),\n",
    "        layers.Dropout(0.2),\n",
    "        layers.Dense(32, activation='relu'),\n",
    "        layers.Dense(output_horizon)  # Linear output: predicting raw future prices\n",
    "    ])\n",
    "    model.compile(\n",
    "        loss='mse',                # Mean Squared Error for regression\n",
    "        optimizer='adam',\n",
    "        metrics=['mae']             # Mean Absolute Error as additional metric\n",
    "    )\n",
    "    return model\n",
    "\n",
    "model = build_regression_model((SEQUENCE_LENGTH, len(feature_cols)), PREDICT_HORIZON)\n",
    "model.summary()\n"
   ],
   "id": "e396b4d1219f5142",
   "outputs": [
    {
     "name": "stderr",
     "output_type": "stream",
     "text": [
      "I0000 00:00:1745685628.954637    5755 gpu_device.cc:2022] Created device /job:localhost/replica:0/task:0/device:GPU:0 with 2259 MB memory:  -> device: 0, name: NVIDIA GeForce GTX 1650 SUPER, pci bus id: 0000:01:00.0, compute capability: 7.5\n"
     ]
    },
    {
     "data": {
      "text/plain": [
       "\u001B[1mModel: \"sequential\"\u001B[0m\n"
      ],
      "text/html": [
       "<pre style=\"white-space:pre;overflow-x:auto;line-height:normal;font-family:Menlo,'DejaVu Sans Mono',consolas,'Courier New',monospace\"><span style=\"font-weight: bold\">Model: \"sequential\"</span>\n",
       "</pre>\n"
      ]
     },
     "metadata": {},
     "output_type": "display_data"
    },
    {
     "data": {
      "text/plain": [
       "┏━━━━━━━━━━━━━━━━━━━━━━━━━━━━━━━━━┳━━━━━━━━━━━━━━━━━━━━━━━━┳━━━━━━━━━━━━━━━┓\n",
       "┃\u001B[1m \u001B[0m\u001B[1mLayer (type)                   \u001B[0m\u001B[1m \u001B[0m┃\u001B[1m \u001B[0m\u001B[1mOutput Shape          \u001B[0m\u001B[1m \u001B[0m┃\u001B[1m \u001B[0m\u001B[1m      Param #\u001B[0m\u001B[1m \u001B[0m┃\n",
       "┡━━━━━━━━━━━━━━━━━━━━━━━━━━━━━━━━━╇━━━━━━━━━━━━━━━━━━━━━━━━╇━━━━━━━━━━━━━━━┩\n",
       "│ lstm (\u001B[38;5;33mLSTM\u001B[0m)                     │ (\u001B[38;5;45mNone\u001B[0m, \u001B[38;5;34m30\u001B[0m, \u001B[38;5;34m64\u001B[0m)         │        \u001B[38;5;34m17,664\u001B[0m │\n",
       "├─────────────────────────────────┼────────────────────────┼───────────────┤\n",
       "│ dropout (\u001B[38;5;33mDropout\u001B[0m)               │ (\u001B[38;5;45mNone\u001B[0m, \u001B[38;5;34m30\u001B[0m, \u001B[38;5;34m64\u001B[0m)         │             \u001B[38;5;34m0\u001B[0m │\n",
       "├─────────────────────────────────┼────────────────────────┼───────────────┤\n",
       "│ lstm_1 (\u001B[38;5;33mLSTM\u001B[0m)                   │ (\u001B[38;5;45mNone\u001B[0m, \u001B[38;5;34m32\u001B[0m)             │        \u001B[38;5;34m12,416\u001B[0m │\n",
       "├─────────────────────────────────┼────────────────────────┼───────────────┤\n",
       "│ dropout_1 (\u001B[38;5;33mDropout\u001B[0m)             │ (\u001B[38;5;45mNone\u001B[0m, \u001B[38;5;34m32\u001B[0m)             │             \u001B[38;5;34m0\u001B[0m │\n",
       "├─────────────────────────────────┼────────────────────────┼───────────────┤\n",
       "│ dense (\u001B[38;5;33mDense\u001B[0m)                   │ (\u001B[38;5;45mNone\u001B[0m, \u001B[38;5;34m32\u001B[0m)             │         \u001B[38;5;34m1,056\u001B[0m │\n",
       "├─────────────────────────────────┼────────────────────────┼───────────────┤\n",
       "│ dense_1 (\u001B[38;5;33mDense\u001B[0m)                 │ (\u001B[38;5;45mNone\u001B[0m, \u001B[38;5;34m5\u001B[0m)              │           \u001B[38;5;34m165\u001B[0m │\n",
       "└─────────────────────────────────┴────────────────────────┴───────────────┘\n"
      ],
      "text/html": [
       "<pre style=\"white-space:pre;overflow-x:auto;line-height:normal;font-family:Menlo,'DejaVu Sans Mono',consolas,'Courier New',monospace\">┏━━━━━━━━━━━━━━━━━━━━━━━━━━━━━━━━━┳━━━━━━━━━━━━━━━━━━━━━━━━┳━━━━━━━━━━━━━━━┓\n",
       "┃<span style=\"font-weight: bold\"> Layer (type)                    </span>┃<span style=\"font-weight: bold\"> Output Shape           </span>┃<span style=\"font-weight: bold\">       Param # </span>┃\n",
       "┡━━━━━━━━━━━━━━━━━━━━━━━━━━━━━━━━━╇━━━━━━━━━━━━━━━━━━━━━━━━╇━━━━━━━━━━━━━━━┩\n",
       "│ lstm (<span style=\"color: #0087ff; text-decoration-color: #0087ff\">LSTM</span>)                     │ (<span style=\"color: #00d7ff; text-decoration-color: #00d7ff\">None</span>, <span style=\"color: #00af00; text-decoration-color: #00af00\">30</span>, <span style=\"color: #00af00; text-decoration-color: #00af00\">64</span>)         │        <span style=\"color: #00af00; text-decoration-color: #00af00\">17,664</span> │\n",
       "├─────────────────────────────────┼────────────────────────┼───────────────┤\n",
       "│ dropout (<span style=\"color: #0087ff; text-decoration-color: #0087ff\">Dropout</span>)               │ (<span style=\"color: #00d7ff; text-decoration-color: #00d7ff\">None</span>, <span style=\"color: #00af00; text-decoration-color: #00af00\">30</span>, <span style=\"color: #00af00; text-decoration-color: #00af00\">64</span>)         │             <span style=\"color: #00af00; text-decoration-color: #00af00\">0</span> │\n",
       "├─────────────────────────────────┼────────────────────────┼───────────────┤\n",
       "│ lstm_1 (<span style=\"color: #0087ff; text-decoration-color: #0087ff\">LSTM</span>)                   │ (<span style=\"color: #00d7ff; text-decoration-color: #00d7ff\">None</span>, <span style=\"color: #00af00; text-decoration-color: #00af00\">32</span>)             │        <span style=\"color: #00af00; text-decoration-color: #00af00\">12,416</span> │\n",
       "├─────────────────────────────────┼────────────────────────┼───────────────┤\n",
       "│ dropout_1 (<span style=\"color: #0087ff; text-decoration-color: #0087ff\">Dropout</span>)             │ (<span style=\"color: #00d7ff; text-decoration-color: #00d7ff\">None</span>, <span style=\"color: #00af00; text-decoration-color: #00af00\">32</span>)             │             <span style=\"color: #00af00; text-decoration-color: #00af00\">0</span> │\n",
       "├─────────────────────────────────┼────────────────────────┼───────────────┤\n",
       "│ dense (<span style=\"color: #0087ff; text-decoration-color: #0087ff\">Dense</span>)                   │ (<span style=\"color: #00d7ff; text-decoration-color: #00d7ff\">None</span>, <span style=\"color: #00af00; text-decoration-color: #00af00\">32</span>)             │         <span style=\"color: #00af00; text-decoration-color: #00af00\">1,056</span> │\n",
       "├─────────────────────────────────┼────────────────────────┼───────────────┤\n",
       "│ dense_1 (<span style=\"color: #0087ff; text-decoration-color: #0087ff\">Dense</span>)                 │ (<span style=\"color: #00d7ff; text-decoration-color: #00d7ff\">None</span>, <span style=\"color: #00af00; text-decoration-color: #00af00\">5</span>)              │           <span style=\"color: #00af00; text-decoration-color: #00af00\">165</span> │\n",
       "└─────────────────────────────────┴────────────────────────┴───────────────┘\n",
       "</pre>\n"
      ]
     },
     "metadata": {},
     "output_type": "display_data"
    },
    {
     "data": {
      "text/plain": [
       "\u001B[1m Total params: \u001B[0m\u001B[38;5;34m31,301\u001B[0m (122.27 KB)\n"
      ],
      "text/html": [
       "<pre style=\"white-space:pre;overflow-x:auto;line-height:normal;font-family:Menlo,'DejaVu Sans Mono',consolas,'Courier New',monospace\"><span style=\"font-weight: bold\"> Total params: </span><span style=\"color: #00af00; text-decoration-color: #00af00\">31,301</span> (122.27 KB)\n",
       "</pre>\n"
      ]
     },
     "metadata": {},
     "output_type": "display_data"
    },
    {
     "data": {
      "text/plain": [
       "\u001B[1m Trainable params: \u001B[0m\u001B[38;5;34m31,301\u001B[0m (122.27 KB)\n"
      ],
      "text/html": [
       "<pre style=\"white-space:pre;overflow-x:auto;line-height:normal;font-family:Menlo,'DejaVu Sans Mono',consolas,'Courier New',monospace\"><span style=\"font-weight: bold\"> Trainable params: </span><span style=\"color: #00af00; text-decoration-color: #00af00\">31,301</span> (122.27 KB)\n",
       "</pre>\n"
      ]
     },
     "metadata": {},
     "output_type": "display_data"
    },
    {
     "data": {
      "text/plain": [
       "\u001B[1m Non-trainable params: \u001B[0m\u001B[38;5;34m0\u001B[0m (0.00 B)\n"
      ],
      "text/html": [
       "<pre style=\"white-space:pre;overflow-x:auto;line-height:normal;font-family:Menlo,'DejaVu Sans Mono',consolas,'Courier New',monospace\"><span style=\"font-weight: bold\"> Non-trainable params: </span><span style=\"color: #00af00; text-decoration-color: #00af00\">0</span> (0.00 B)\n",
       "</pre>\n"
      ]
     },
     "metadata": {},
     "output_type": "display_data"
    }
   ],
   "execution_count": 11
  },
  {
   "metadata": {
    "ExecuteTime": {
     "end_time": "2025-04-26T16:41:58.818771Z",
     "start_time": "2025-04-26T16:40:35.049964Z"
    }
   },
   "cell_type": "code",
   "source": [
    "# Training\n",
    "es = callbacks.EarlyStopping(monitor='val_loss', patience=5, restore_best_weights=True)\n",
    "history = model.fit(\n",
    "    X_train, y_train,\n",
    "    validation_split=0.2,\n",
    "    epochs=EPOCHS,\n",
    "    batch_size=BATCH_SIZE,\n",
    "    callbacks=[es]\n",
    ")"
   ],
   "id": "61b57fd3c90d4900",
   "outputs": [
    {
     "name": "stdout",
     "output_type": "stream",
     "text": [
      "Epoch 1/50\n"
     ]
    },
    {
     "name": "stderr",
     "output_type": "stream",
     "text": [
      "I0000 00:00:1745685637.064428    5934 cuda_dnn.cc:529] Loaded cuDNN version 90800\n"
     ]
    },
    {
     "name": "stdout",
     "output_type": "stream",
     "text": [
      "\u001B[1m551/551\u001B[0m \u001B[32m━━━━━━━━━━━━━━━━━━━━\u001B[0m\u001B[37m\u001B[0m \u001B[1m7s\u001B[0m 8ms/step - loss: 139.5451 - mae: 9.2195 - val_loss: 1.0309 - val_mae: 0.7189\n",
      "Epoch 2/50\n",
      "\u001B[1m551/551\u001B[0m \u001B[32m━━━━━━━━━━━━━━━━━━━━\u001B[0m\u001B[37m\u001B[0m \u001B[1m5s\u001B[0m 8ms/step - loss: 4.0996 - mae: 1.5969 - val_loss: 0.1311 - val_mae: 0.2591\n",
      "Epoch 3/50\n",
      "\u001B[1m551/551\u001B[0m \u001B[32m━━━━━━━━━━━━━━━━━━━━\u001B[0m\u001B[37m\u001B[0m \u001B[1m4s\u001B[0m 8ms/step - loss: 2.8548 - mae: 1.3169 - val_loss: 0.2248 - val_mae: 0.4201\n",
      "Epoch 4/50\n",
      "\u001B[1m551/551\u001B[0m \u001B[32m━━━━━━━━━━━━━━━━━━━━\u001B[0m\u001B[37m\u001B[0m \u001B[1m4s\u001B[0m 7ms/step - loss: 2.4007 - mae: 1.2028 - val_loss: 0.1764 - val_mae: 0.3196\n",
      "Epoch 5/50\n",
      "\u001B[1m551/551\u001B[0m \u001B[32m━━━━━━━━━━━━━━━━━━━━\u001B[0m\u001B[37m\u001B[0m \u001B[1m4s\u001B[0m 6ms/step - loss: 1.8997 - mae: 1.0609 - val_loss: 0.0709 - val_mae: 0.2146\n",
      "Epoch 6/50\n",
      "\u001B[1m551/551\u001B[0m \u001B[32m━━━━━━━━━━━━━━━━━━━━\u001B[0m\u001B[37m\u001B[0m \u001B[1m4s\u001B[0m 7ms/step - loss: 1.3942 - mae: 0.9015 - val_loss: 0.4242 - val_mae: 0.5695\n",
      "Epoch 7/50\n",
      "\u001B[1m551/551\u001B[0m \u001B[32m━━━━━━━━━━━━━━━━━━━━\u001B[0m\u001B[37m\u001B[0m \u001B[1m4s\u001B[0m 7ms/step - loss: 0.9154 - mae: 0.7104 - val_loss: 0.0489 - val_mae: 0.1625\n",
      "Epoch 8/50\n",
      "\u001B[1m551/551\u001B[0m \u001B[32m━━━━━━━━━━━━━━━━━━━━\u001B[0m\u001B[37m\u001B[0m \u001B[1m4s\u001B[0m 7ms/step - loss: 0.5099 - mae: 0.5103 - val_loss: 0.1713 - val_mae: 0.3196\n",
      "Epoch 9/50\n",
      "\u001B[1m551/551\u001B[0m \u001B[32m━━━━━━━━━━━━━━━━━━━━\u001B[0m\u001B[37m\u001B[0m \u001B[1m4s\u001B[0m 7ms/step - loss: 0.2975 - mae: 0.3746 - val_loss: 0.0441 - val_mae: 0.1562\n",
      "Epoch 10/50\n",
      "\u001B[1m551/551\u001B[0m \u001B[32m━━━━━━━━━━━━━━━━━━━━\u001B[0m\u001B[37m\u001B[0m \u001B[1m4s\u001B[0m 7ms/step - loss: 0.1970 - mae: 0.3057 - val_loss: 0.0415 - val_mae: 0.1451\n",
      "Epoch 11/50\n",
      "\u001B[1m551/551\u001B[0m \u001B[32m━━━━━━━━━━━━━━━━━━━━\u001B[0m\u001B[37m\u001B[0m \u001B[1m4s\u001B[0m 7ms/step - loss: 0.1432 - mae: 0.2668 - val_loss: 0.0766 - val_mae: 0.1966\n",
      "Epoch 12/50\n",
      "\u001B[1m551/551\u001B[0m \u001B[32m━━━━━━━━━━━━━━━━━━━━\u001B[0m\u001B[37m\u001B[0m \u001B[1m4s\u001B[0m 6ms/step - loss: 0.1178 - mae: 0.2466 - val_loss: 0.0278 - val_mae: 0.1178\n",
      "Epoch 13/50\n",
      "\u001B[1m551/551\u001B[0m \u001B[32m━━━━━━━━━━━━━━━━━━━━\u001B[0m\u001B[37m\u001B[0m \u001B[1m4s\u001B[0m 7ms/step - loss: 0.0950 - mae: 0.2228 - val_loss: 0.0234 - val_mae: 0.1030\n",
      "Epoch 14/50\n",
      "\u001B[1m551/551\u001B[0m \u001B[32m━━━━━━━━━━━━━━━━━━━━\u001B[0m\u001B[37m\u001B[0m \u001B[1m4s\u001B[0m 7ms/step - loss: 0.0818 - mae: 0.2096 - val_loss: 0.0366 - val_mae: 0.1321\n",
      "Epoch 15/50\n",
      "\u001B[1m551/551\u001B[0m \u001B[32m━━━━━━━━━━━━━━━━━━━━\u001B[0m\u001B[37m\u001B[0m \u001B[1m4s\u001B[0m 7ms/step - loss: 0.0750 - mae: 0.1993 - val_loss: 0.0253 - val_mae: 0.1101\n",
      "Epoch 16/50\n",
      "\u001B[1m551/551\u001B[0m \u001B[32m━━━━━━━━━━━━━━━━━━━━\u001B[0m\u001B[37m\u001B[0m \u001B[1m4s\u001B[0m 7ms/step - loss: 0.0699 - mae: 0.1949 - val_loss: 0.0219 - val_mae: 0.0988\n",
      "Epoch 17/50\n",
      "\u001B[1m551/551\u001B[0m \u001B[32m━━━━━━━━━━━━━━━━━━━━\u001B[0m\u001B[37m\u001B[0m \u001B[1m4s\u001B[0m 7ms/step - loss: 0.0633 - mae: 0.1849 - val_loss: 0.0286 - val_mae: 0.1222\n",
      "Epoch 18/50\n",
      "\u001B[1m551/551\u001B[0m \u001B[32m━━━━━━━━━━━━━━━━━━━━\u001B[0m\u001B[37m\u001B[0m \u001B[1m4s\u001B[0m 7ms/step - loss: 0.0582 - mae: 0.1783 - val_loss: 0.0282 - val_mae: 0.1092\n",
      "Epoch 19/50\n",
      "\u001B[1m551/551\u001B[0m \u001B[32m━━━━━━━━━━━━━━━━━━━━\u001B[0m\u001B[37m\u001B[0m \u001B[1m4s\u001B[0m 7ms/step - loss: 0.0568 - mae: 0.1745 - val_loss: 0.0340 - val_mae: 0.1435\n",
      "Epoch 20/50\n",
      "\u001B[1m551/551\u001B[0m \u001B[32m━━━━━━━━━━━━━━━━━━━━\u001B[0m\u001B[37m\u001B[0m \u001B[1m4s\u001B[0m 7ms/step - loss: 0.0526 - mae: 0.1693 - val_loss: 0.0336 - val_mae: 0.1351\n",
      "Epoch 21/50\n",
      "\u001B[1m551/551\u001B[0m \u001B[32m━━━━━━━━━━━━━━━━━━━━\u001B[0m\u001B[37m\u001B[0m \u001B[1m4s\u001B[0m 8ms/step - loss: 0.0530 - mae: 0.1691 - val_loss: 0.0303 - val_mae: 0.1231\n"
     ]
    }
   ],
   "execution_count": 12
  },
  {
   "metadata": {
    "ExecuteTime": {
     "end_time": "2025-04-26T16:42:05.696688Z",
     "start_time": "2025-04-26T16:42:04.753494Z"
    }
   },
   "cell_type": "code",
   "source": [
    "# Evaluation\n",
    "loss, mae = model.evaluate(X_test, y_test)\n",
    "print(f\"Test Loss (MSE): {loss:.4f}  Test MAE: {mae:.4f}\")\n"
   ],
   "id": "1c59b4e9fe41b0a4",
   "outputs": [
    {
     "name": "stdout",
     "output_type": "stream",
     "text": [
      "\u001B[1m344/344\u001B[0m \u001B[32m━━━━━━━━━━━━━━━━━━━━\u001B[0m\u001B[37m\u001B[0m \u001B[1m1s\u001B[0m 3ms/step - loss: 0.0214 - mae: 0.1001\n",
      "Test Loss (MSE): 0.0222  Test MAE: 0.1010\n"
     ]
    }
   ],
   "execution_count": 13
  },
  {
   "metadata": {
    "ExecuteTime": {
     "end_time": "2025-04-26T17:05:43.139756Z",
     "start_time": "2025-04-26T17:05:42.593359Z"
    }
   },
   "cell_type": "code",
   "source": [
    "# --- New Code Starts Here ---\n",
    "\n",
    "import matplotlib.pyplot as plt\n",
    "\n",
    "# Load recent real candles for prediction\n",
    "recent_candles = pd.read_csv(\"../datasets/new-data-for-test/rows-30-from-20240503.csv\", sep='\\t')\n",
    "\n",
    "# # Combine <DATE> and <TIME> into single datetime index\n",
    "recent_candles['DATETIME'] = pd.to_datetime(df['<DATE>'] + ' ' + df['<TIME>'])\n",
    "recent_candles.set_index('DATETIME', inplace=True)\n",
    "recent_candles.drop(columns=['<DATE>', '<TIME>'], inplace=True)\n",
    "\n",
    "\n",
    "# Compute TA indicators and append to dataframe.\n",
    "# e.g. RSI, ATR, MACD Histogram\n",
    "recent_candles['rsi'] = talib.RSI(recent_candles['<CLOSE>'], timeperiod=14)\n",
    "macd, macd_sig, macd_hist = talib.MACD(recent_candles['<CLOSE>'], fastperiod=12, slowperiod=26, signalperiod=9)\n",
    "recent_candles['macd_hist'] = macd_hist\n",
    "recent_candles['atr'] = talib.ATR(recent_candles['<HIGH>'], recent_candles['<LOW>'], recent_candles['<CLOSE>'], timeperiod=14)\n",
    "recent_candles.dropna(inplace=True)\n",
    "\n",
    "\n",
    "# Select the latest SEQUENCE_LENGTH candles\n",
    "input_candles = recent_candles.tail(SEQUENCE_LENGTH)\n",
    "\n",
    "# Scale the input using the same scaler from training\n",
    "input_features = input_candles[feature_cols]\n",
    "input_scaled = scaler.transform(input_features)\n",
    "input_scaled = np.expand_dims(input_scaled, axis=0)  # (1, 30, 4)\n",
    "\n",
    "# Predict future prices\n",
    "predicted_future_prices = model.predict(input_scaled)[0]  # shape = (PREDICT_HORIZON,)\n",
    "print(\"Predicted Future Prices:\", predicted_future_prices)\n",
    "\n",
    "# Prepare for plotting\n",
    "# Get the last real CLOSE price\n",
    "last_real_close = input_candles['<CLOSE>'].iloc[-1]\n",
    "\n",
    "# Build X axis (time)\n",
    "real_times = input_candles.index\n",
    "future_times = pd.date_range(start=real_times[-1] + pd.Timedelta(hours=1), periods=PREDICT_HORIZON, freq='H')\n",
    "\n",
    "# Plot real CLOSE prices\n",
    "plt.figure(figsize=(12,6))\n",
    "plt.plot(real_times, input_candles['<CLOSE>'], label='Real Close Prices (Input)', marker='o')\n",
    "\n",
    "# Plot predicted future prices\n",
    "plt.plot(future_times, predicted_future_prices, label='Predicted Future Close Prices', marker='x', linestyle='--', color='red')\n",
    "\n",
    "# Decorations\n",
    "plt.title(f\"Prediction of Next {PREDICT_HORIZON} Future Candles\")\n",
    "plt.xlabel(\"Time\")\n",
    "plt.ylabel(\"Close Price\")\n",
    "plt.legend()\n",
    "plt.grid()\n",
    "plt.show()\n"
   ],
   "id": "d4be8ba9ccc67a1f",
   "outputs": [
    {
     "ename": "KeyError",
     "evalue": "'<DATE>'",
     "output_type": "error",
     "traceback": [
      "\u001B[31m---------------------------------------------------------------------------\u001B[39m",
      "\u001B[31mKeyError\u001B[39m                                  Traceback (most recent call last)",
      "\u001B[36mFile \u001B[39m\u001B[32m~/repositories/machine-learning/tensorflow-course/start-tensorflow/envs/lib/python3.11/site-packages/pandas/core/indexes/base.py:3805\u001B[39m, in \u001B[36mIndex.get_loc\u001B[39m\u001B[34m(self, key)\u001B[39m\n\u001B[32m   3804\u001B[39m \u001B[38;5;28;01mtry\u001B[39;00m:\n\u001B[32m-> \u001B[39m\u001B[32m3805\u001B[39m     \u001B[38;5;28;01mreturn\u001B[39;00m \u001B[38;5;28;43mself\u001B[39;49m\u001B[43m.\u001B[49m\u001B[43m_engine\u001B[49m\u001B[43m.\u001B[49m\u001B[43mget_loc\u001B[49m\u001B[43m(\u001B[49m\u001B[43mcasted_key\u001B[49m\u001B[43m)\u001B[49m\n\u001B[32m   3806\u001B[39m \u001B[38;5;28;01mexcept\u001B[39;00m \u001B[38;5;167;01mKeyError\u001B[39;00m \u001B[38;5;28;01mas\u001B[39;00m err:\n",
      "\u001B[36mFile \u001B[39m\u001B[32mindex.pyx:167\u001B[39m, in \u001B[36mpandas._libs.index.IndexEngine.get_loc\u001B[39m\u001B[34m()\u001B[39m\n",
      "\u001B[36mFile \u001B[39m\u001B[32mindex.pyx:196\u001B[39m, in \u001B[36mpandas._libs.index.IndexEngine.get_loc\u001B[39m\u001B[34m()\u001B[39m\n",
      "\u001B[36mFile \u001B[39m\u001B[32mpandas/_libs/hashtable_class_helper.pxi:7081\u001B[39m, in \u001B[36mpandas._libs.hashtable.PyObjectHashTable.get_item\u001B[39m\u001B[34m()\u001B[39m\n",
      "\u001B[36mFile \u001B[39m\u001B[32mpandas/_libs/hashtable_class_helper.pxi:7089\u001B[39m, in \u001B[36mpandas._libs.hashtable.PyObjectHashTable.get_item\u001B[39m\u001B[34m()\u001B[39m\n",
      "\u001B[31mKeyError\u001B[39m: '<DATE>'",
      "\nThe above exception was the direct cause of the following exception:\n",
      "\u001B[31mKeyError\u001B[39m                                  Traceback (most recent call last)",
      "\u001B[36mCell\u001B[39m\u001B[36m \u001B[39m\u001B[32mIn[15]\u001B[39m\u001B[32m, line 9\u001B[39m\n\u001B[32m      6\u001B[39m recent_candles = pd.read_csv(\u001B[33m\"\u001B[39m\u001B[33m../datasets/new-data-for-test/rows-30-from-20240503.csv\u001B[39m\u001B[33m\"\u001B[39m, sep=\u001B[33m'\u001B[39m\u001B[38;5;130;01m\\t\u001B[39;00m\u001B[33m'\u001B[39m)\n\u001B[32m      8\u001B[39m \u001B[38;5;66;03m# # Combine <DATE> and <TIME> into single datetime index\u001B[39;00m\n\u001B[32m----> \u001B[39m\u001B[32m9\u001B[39m recent_candles[\u001B[33m'\u001B[39m\u001B[33mDATETIME\u001B[39m\u001B[33m'\u001B[39m] = pd.to_datetime(\u001B[43mdf\u001B[49m\u001B[43m[\u001B[49m\u001B[33;43m'\u001B[39;49m\u001B[33;43m<DATE>\u001B[39;49m\u001B[33;43m'\u001B[39;49m\u001B[43m]\u001B[49m + \u001B[33m'\u001B[39m\u001B[33m \u001B[39m\u001B[33m'\u001B[39m + df[\u001B[33m'\u001B[39m\u001B[33m<TIME>\u001B[39m\u001B[33m'\u001B[39m])\n\u001B[32m     10\u001B[39m recent_candles.set_index(\u001B[33m'\u001B[39m\u001B[33mDATETIME\u001B[39m\u001B[33m'\u001B[39m, inplace=\u001B[38;5;28;01mTrue\u001B[39;00m)\n\u001B[32m     11\u001B[39m recent_candles.drop(columns=[\u001B[33m'\u001B[39m\u001B[33m<DATE>\u001B[39m\u001B[33m'\u001B[39m, \u001B[33m'\u001B[39m\u001B[33m<TIME>\u001B[39m\u001B[33m'\u001B[39m], inplace=\u001B[38;5;28;01mTrue\u001B[39;00m)\n",
      "\u001B[36mFile \u001B[39m\u001B[32m~/repositories/machine-learning/tensorflow-course/start-tensorflow/envs/lib/python3.11/site-packages/pandas/core/frame.py:4102\u001B[39m, in \u001B[36mDataFrame.__getitem__\u001B[39m\u001B[34m(self, key)\u001B[39m\n\u001B[32m   4100\u001B[39m \u001B[38;5;28;01mif\u001B[39;00m \u001B[38;5;28mself\u001B[39m.columns.nlevels > \u001B[32m1\u001B[39m:\n\u001B[32m   4101\u001B[39m     \u001B[38;5;28;01mreturn\u001B[39;00m \u001B[38;5;28mself\u001B[39m._getitem_multilevel(key)\n\u001B[32m-> \u001B[39m\u001B[32m4102\u001B[39m indexer = \u001B[38;5;28;43mself\u001B[39;49m\u001B[43m.\u001B[49m\u001B[43mcolumns\u001B[49m\u001B[43m.\u001B[49m\u001B[43mget_loc\u001B[49m\u001B[43m(\u001B[49m\u001B[43mkey\u001B[49m\u001B[43m)\u001B[49m\n\u001B[32m   4103\u001B[39m \u001B[38;5;28;01mif\u001B[39;00m is_integer(indexer):\n\u001B[32m   4104\u001B[39m     indexer = [indexer]\n",
      "\u001B[36mFile \u001B[39m\u001B[32m~/repositories/machine-learning/tensorflow-course/start-tensorflow/envs/lib/python3.11/site-packages/pandas/core/indexes/base.py:3812\u001B[39m, in \u001B[36mIndex.get_loc\u001B[39m\u001B[34m(self, key)\u001B[39m\n\u001B[32m   3807\u001B[39m     \u001B[38;5;28;01mif\u001B[39;00m \u001B[38;5;28misinstance\u001B[39m(casted_key, \u001B[38;5;28mslice\u001B[39m) \u001B[38;5;129;01mor\u001B[39;00m (\n\u001B[32m   3808\u001B[39m         \u001B[38;5;28misinstance\u001B[39m(casted_key, abc.Iterable)\n\u001B[32m   3809\u001B[39m         \u001B[38;5;129;01mand\u001B[39;00m \u001B[38;5;28many\u001B[39m(\u001B[38;5;28misinstance\u001B[39m(x, \u001B[38;5;28mslice\u001B[39m) \u001B[38;5;28;01mfor\u001B[39;00m x \u001B[38;5;129;01min\u001B[39;00m casted_key)\n\u001B[32m   3810\u001B[39m     ):\n\u001B[32m   3811\u001B[39m         \u001B[38;5;28;01mraise\u001B[39;00m InvalidIndexError(key)\n\u001B[32m-> \u001B[39m\u001B[32m3812\u001B[39m     \u001B[38;5;28;01mraise\u001B[39;00m \u001B[38;5;167;01mKeyError\u001B[39;00m(key) \u001B[38;5;28;01mfrom\u001B[39;00m\u001B[38;5;250m \u001B[39m\u001B[34;01merr\u001B[39;00m\n\u001B[32m   3813\u001B[39m \u001B[38;5;28;01mexcept\u001B[39;00m \u001B[38;5;167;01mTypeError\u001B[39;00m:\n\u001B[32m   3814\u001B[39m     \u001B[38;5;66;03m# If we have a listlike key, _check_indexing_error will raise\u001B[39;00m\n\u001B[32m   3815\u001B[39m     \u001B[38;5;66;03m#  InvalidIndexError. Otherwise we fall through and re-raise\u001B[39;00m\n\u001B[32m   3816\u001B[39m     \u001B[38;5;66;03m#  the TypeError.\u001B[39;00m\n\u001B[32m   3817\u001B[39m     \u001B[38;5;28mself\u001B[39m._check_indexing_error(key)\n",
      "\u001B[31mKeyError\u001B[39m: '<DATE>'"
     ]
    }
   ],
   "execution_count": 15
  }
 ],
 "metadata": {
  "kernelspec": {
   "name": "python3",
   "language": "python",
   "display_name": "Python 3 (ipykernel)"
  }
 },
 "nbformat": 5,
 "nbformat_minor": 9
}
