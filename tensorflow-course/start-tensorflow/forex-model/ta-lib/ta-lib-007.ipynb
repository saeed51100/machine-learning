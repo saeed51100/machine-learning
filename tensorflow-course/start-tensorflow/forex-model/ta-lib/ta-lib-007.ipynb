{
 "cells": [
  {
   "metadata": {},
   "cell_type": "markdown",
   "source": [
    "# ta-lib-007 ( Feature‑Engineering + Sequence Models)\n",
    "https://chatgpt.com/c/680d231a-52f4-800a-a105-9f5bfe49fca1\n",
    "\n",
    "What's new:\n",
    "\n",
    "1-"
   ],
   "id": "67a9ecb3258e8606"
  },
  {
   "metadata": {
    "ExecuteTime": {
     "end_time": "2025-04-26T18:34:11.933109Z",
     "start_time": "2025-04-26T18:34:11.926262Z"
    }
   },
   "cell_type": "code",
   "source": [
    "# IMPORTS\n",
    "import pandas as pd\n",
    "import numpy as np\n",
    "import matplotlib.pyplot as plt\n",
    "import talib\n",
    "import tensorflow as tf\n",
    "from tensorflow.keras.models import Sequential\n",
    "from tensorflow.keras.layers import LSTM, Dense, Dropout\n",
    "from sklearn.preprocessing import MinMaxScaler\n",
    "from sklearn.model_selection import train_test_split\n"
   ],
   "id": "c980d7d41b42c555",
   "outputs": [],
   "execution_count": 16
  },
  {
   "metadata": {
    "ExecuteTime": {
     "end_time": "2025-04-26T18:34:13.539144Z",
     "start_time": "2025-04-26T18:34:13.536475Z"
    }
   },
   "cell_type": "code",
   "source": [
    "# PARAMETERS\n",
    "DATA_PATH = '../datasets/XAGUSD-H1-rates.csv'   # Path to your historical Forex data CSV\n",
    "MODEL_SAVE_PATH = 'lstm_forex_model.h5'\n",
    "WINDOW_SIZE = 30              # Number of past candles used as input\n",
    "FORECAST_HORIZON = 10         # Number of future candles to predict\n",
    "BATCH_SIZE = 32\n",
    "EPOCHS = 50\n",
    "LEARNING_RATE = 0.001\n",
    "TEST_SIZE = 0.2               # % of data for validation\n",
    "TARGET_COLUMN = 'close'       # Which price to predict: 'close', 'open', etc."
   ],
   "id": "a0a3442ad90bf80e",
   "outputs": [],
   "execution_count": 17
  },
  {
   "metadata": {},
   "cell_type": "code",
   "source": [
    "# Load your historical Forex data\n",
    "df = pd.read_csv(DATA_PATH)\n",
    "\n",
    "# Basic cleaning if necessary\n",
    "df = df.dropna()\n",
    "df.head()"
   ],
   "id": "6d0917a2521c48e7",
   "outputs": [],
   "execution_count": null
  },
  {
   "metadata": {},
   "cell_type": "code",
   "source": [
    "# Feature Engineering (TA-Lib indicators)\n",
    "def add_ta_features(df):\n",
    "    df['RSI'] = talib.RSI(df['close'], timeperiod=14)\n",
    "    df['MACD'], df['MACD_signal'], df['MACD_hist'] = talib.MACD(df['close'])\n",
    "    df['EMA_10'] = talib.EMA(df['close'], timeperiod=10)\n",
    "    df['EMA_50'] = talib.EMA(df['close'], timeperiod=50)\n",
    "    df['ATR'] = talib.ATR(df['high'], df['low'], df['close'], timeperiod=14)\n",
    "    df['ADX'] = talib.ADX(df['high'], df['low'], df['close'], timeperiod=14)\n",
    "    df = df.dropna()\n",
    "    return df\n",
    "\n",
    "df = add_ta_features(df)\n",
    "df.head()\n"
   ],
   "id": "af3ae3cdb2f1d06",
   "outputs": [],
   "execution_count": null
  },
  {
   "metadata": {},
   "cell_type": "code",
   "source": [
    "# Scaling Features\n",
    "scaler = MinMaxScaler()\n",
    "scaled_features = scaler.fit_transform(df[['open', 'high', 'low', 'close', 'tickvol', 'RSI', 'MACD', 'EMA_10', 'EMA_50', 'ATR', 'ADX']])\n",
    "\n",
    "def create_sequences(features, target, window_size, forecast_horizon):\n",
    "    X, y = [], []\n",
    "    for i in range(window_size, len(features) - forecast_horizon):\n",
    "        X.append(features[i-window_size:i])\n",
    "        y.append(target[i:i+forecast_horizon])\n",
    "    return np.array(X), np.array(y)\n",
    "\n",
    "# Prepare data\n",
    "target_data = df[TARGET_COLUMN].values\n",
    "X, y = create_sequences(scaled_features, target_data, WINDOW_SIZE, FORECAST_HORIZON)\n",
    "\n",
    "print(f'Input shape: {X.shape}')\n",
    "print(f'Target shape: {y.shape}')\n",
    "\n",
    "# Train-test split\n",
    "X_train, X_test, y_train, y_test = train_test_split(X, y, test_size=TEST_SIZE, shuffle=False)"
   ],
   "id": "ed1f7ad746dc353b",
   "outputs": [],
   "execution_count": null
  },
  {
   "metadata": {},
   "cell_type": "code",
   "source": [
    "def build_model(input_shape, forecast_horizon, learning_rate):\n",
    "    model = Sequential([\n",
    "        LSTM(64, return_sequences=True, input_shape=input_shape),\n",
    "        Dropout(0.2),\n",
    "        LSTM(32),\n",
    "        Dropout(0.2),\n",
    "        Dense(forecast_horizon)\n",
    "    ])\n",
    "    optimizer = tf.keras.optimizers.Adam(learning_rate=learning_rate)\n",
    "    model.compile(optimizer=optimizer, loss='mse')\n",
    "    return model\n",
    "\n",
    "model = build_model((X_train.shape[1], X_train.shape[2]), FORECAST_HORIZON, LEARNING_RATE)\n",
    "model.summary()\n"
   ],
   "id": "10ade00f57ee68e",
   "outputs": [],
   "execution_count": null
  },
  {
   "metadata": {},
   "cell_type": "code",
   "source": [
    "# Training model\n",
    "history = model.fit(\n",
    "    X_train, y_train,\n",
    "    validation_data=(X_test, y_test),\n",
    "    epochs=EPOCHS,\n",
    "    batch_size=BATCH_SIZE,\n",
    "    verbose=1\n",
    ")"
   ],
   "id": "51a6930d877b1d8c",
   "outputs": [],
   "execution_count": null
  },
  {
   "metadata": {},
   "cell_type": "code",
   "source": [
    "# Predict\n",
    "y_pred = model.predict(X_test)\n",
    "\n",
    "# Inverse Scaling (Optional, if needed)\n",
    "# Example if you had scaled target separately, here we skipped that\n"
   ],
   "id": "35548e4d50cceec2",
   "outputs": [],
   "execution_count": null
  },
  {
   "metadata": {},
   "cell_type": "code",
   "source": [
    "# Plot first prediction vs true future prices\n",
    "plt.figure(figsize=(12,6))\n",
    "plt.plot(range(FORECAST_HORIZON), y_test[0], label='True Future')\n",
    "plt.plot(range(FORECAST_HORIZON), y_pred[0], label='Predicted Future')\n",
    "plt.title('Future Candle Price Prediction')\n",
    "plt.xlabel('Time Step into Future')\n",
    "plt.ylabel('Price')\n",
    "plt.legend()\n",
    "plt.show()\n"
   ],
   "id": "e72d77e2b76e7929",
   "outputs": [],
   "execution_count": null
  },
  {
   "metadata": {},
   "cell_type": "code",
   "source": [
    "model.save(MODEL_SAVE_PATH)\n",
    "print(f\"Model saved to {MODEL_SAVE_PATH}\")\n"
   ],
   "id": "80f197fd15cc8aa1",
   "outputs": [],
   "execution_count": null
  }
 ],
 "metadata": {
  "kernelspec": {
   "name": "python3",
   "language": "python",
   "display_name": "Python 3 (ipykernel)"
  }
 },
 "nbformat": 5,
 "nbformat_minor": 9
}
