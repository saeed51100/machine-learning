{
 "cells": [
  {
   "metadata": {},
   "cell_type": "markdown",
   "source": [
    "# ta-lib-003 ( Feature‑Engineering + Sequence Models)\n",
    "https://chatgpt.com/c/68092b32-ba28-800a-b3c1-35ba49d501ad"
   ],
   "id": "67a9ecb3258e8606"
  },
  {
   "metadata": {},
   "cell_type": "code",
   "source": [
    "import numpy as np\n",
    "import pandas as pd\n",
    "from talib import RSI, MACD, BBANDS, ATR\n",
    "from sklearn.preprocessing import StandardScaler\n",
    "from tensorflow.keras.models import Model\n",
    "from tensorflow.keras.layers import Input, LSTM, Dense, Dropout, Attention, concatenate\n",
    "from tensorflow.keras.optimizers import Adam"
   ],
   "id": "3444e5739028fb21",
   "outputs": [],
   "execution_count": null
  },
  {
   "metadata": {},
   "cell_type": "code",
   "source": [
    "#  Load OHLCV data from CSV. Expects columns: ['DATE','TIME','OPEN','HIGH','LOW','CLOSE','TICKVOL','VOL','SPREAD']\n",
    "def load_data(csv_path):\n",
    "    df = pd.read_csv(\"../datasets/XAGUSD-H1-rates.csv\", parse_dates=[['DATE', 'TIME']])\n",
    "    df.set_index('DATE_TIME', inplace=True)\n",
    "    return df"
   ],
   "id": "4e6074be37aa3eab",
   "outputs": [],
   "execution_count": null
  },
  {
   "metadata": {},
   "cell_type": "code",
   "source": [
    "# Compute TA indicators and append to dataframe.\n",
    "def compute_indicators(df):\n",
    "    df = df.copy()\n",
    "    df['rsi'] = RSI(df['CLOSE'], timeperiod=14)\n",
    "    macd, macd_signal, macd_hist = MACD(df['CLOSE'], fastperiod=12, slowperiod=26, signalperiod=9)\n",
    "    df['macd_hist'] = macd_hist\n",
    "    upper, middle, lower = BBANDS(df['CLOSE'], timeperiod=20)\n",
    "    df['bb_z'] = (df['CLOSE'] - middle) / (upper - lower)\n",
    "    df['atr'] = ATR(df['HIGH'], df['LOW'], df['CLOSE'], timeperiod=14)\n",
    "    df.dropna(inplace=True)\n",
    "    return df"
   ],
   "id": "ccace267fc0afe01",
   "outputs": [],
   "execution_count": null
  },
  {
   "metadata": {},
   "cell_type": "code",
   "source": [
    "# Standard scale selected feature columns. Returns scaled array and scaler object.\n",
    "def scale_features(df, feature_cols):\n",
    "    scaler = StandardScaler()\n",
    "    scaled = scaler.fit_transform(df[feature_cols])\n",
    "    return scaled, scaler"
   ],
   "id": "2c1cfcef3478d692",
   "outputs": [],
   "execution_count": null
  },
  {
   "metadata": {},
   "cell_type": "code",
   "source": [
    "# Label reversal points: 1 for reversal start, 0 otherwise. Here: local max followed by lookahead bearish move > threshold.\n",
    "def label_reversals(df, lookahead=5, threshold=0.001):\n",
    "    close = df['CLOSE'].values\n",
    "    labels = np.zeros(len(close))\n",
    "    for i in range(1, len(close) - lookahead - 1):\n",
    "        if close[i] > close[i - 1] and close[i] > close[i + 1]:\n",
    "            future_min = close[i + 1:i + 1 + lookahead].min()\n",
    "            if (close[i] - future_min) / close[i] > threshold:\n",
    "                labels[i] = 1\n",
    "        if close[i] < close[i - 1] and close[i] < close[i + 1]:\n",
    "            future_max = close[i + 1:i + 1 + lookahead].max()\n",
    "            if (future_max - close[i]) / close[i] > threshold:\n",
    "                labels[i] = 2  # sell reversal\n",
    "    return labels.astype(int)"
   ],
   "id": "e81e24a271bc7511",
   "outputs": [],
   "execution_count": null
  },
  {
   "metadata": {},
   "cell_type": "code",
   "source": [
    "# Build sliding-window sequences and corresponding labels.\n",
    "def create_sequences(features, labels, window_size=60):\n",
    "    X, y = [], []\n",
    "    for i in range(window_size, len(features)):\n",
    "        X.append(features[i - window_size:i])\n",
    "        y.append(labels[i])\n",
    "    return np.array(X), np.array(y)"
   ],
   "id": "647723b672f7f93f",
   "outputs": [],
   "execution_count": null
  },
  {
   "metadata": {},
   "cell_type": "code",
   "source": [
    "# Build LSTM + attention reversal classifier.\n",
    "def build_model(input_shape):\n",
    "    inp = Input(shape=input_shape)\n",
    "    x = LSTM(64, return_sequences=True)(inp)\n",
    "    x = Dropout(0.2)(x)\n",
    "    # attention\n",
    "    attn = Attention()([x, x])\n",
    "    x = LSTM(32)(attn)\n",
    "    x = Dropout(0.2)(x)\n",
    "    out = Dense(3, activation='softmax')(x)\n",
    "    model = Model(inp, out)\n",
    "    model.compile(optimizer=Adam(1e-3), loss='sparse_categorical_crossentropy', metrics=['accuracy'])\n",
    "    return model"
   ],
   "id": "181557073ecd4e9",
   "outputs": [],
   "execution_count": null
  },
  {
   "metadata": {},
   "cell_type": "code",
   "source": [
    "# Example usage:\n",
    "# df = load_data('XAGUSD-H1-rates.csv')\\# compute indicators\n",
    "# df_ind = compute_indicators(df)\n",
    "# features, scaler = scale_features(df_ind, ['rsi','macd_hist','bb_z','atr'])\n",
    "# labels = label_reversals(df_ind)\n",
    "# X, y = create_sequences(features, labels)\n",
    "# model = build_model(X.shape[1:])\n"
   ],
   "id": "e053e5194e3f5e0b",
   "outputs": [],
   "execution_count": null
  }
 ],
 "metadata": {
  "kernelspec": {
   "name": "python3",
   "language": "python",
   "display_name": "Python 3 (ipykernel)"
  }
 },
 "nbformat": 5,
 "nbformat_minor": 9
}
