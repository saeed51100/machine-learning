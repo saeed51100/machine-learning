{
 "cells": [
  {
   "metadata": {},
   "cell_type": "markdown",
   "source": [
    "# ta-lib-004 ( Feature‑Engineering + Sequence Models)\n",
    "https://chatgpt.com/c/68092b32-ba28-800a-b3c1-35ba49d501ad"
   ],
   "id": "67a9ecb3258e8606"
  },
  {
   "metadata": {
    "ExecuteTime": {
     "end_time": "2025-04-24T14:51:38.475889Z",
     "start_time": "2025-04-24T14:51:38.470161Z"
    }
   },
   "cell_type": "code",
   "source": [
    "import numpy as np\n",
    "import pandas as pd\n",
    "from talib import RSI, MACD, BBANDS, ATR\n",
    "from sklearn.preprocessing import StandardScaler\n",
    "from tensorflow.keras.models import Model\n",
    "from tensorflow.keras.layers import Input, LSTM, Dense, Dropout, Attention, concatenate\n",
    "from tensorflow.keras.optimizers import Adam"
   ],
   "id": "3444e5739028fb21",
   "outputs": [],
   "execution_count": 20
  },
  {
   "metadata": {
    "ExecuteTime": {
     "end_time": "2025-04-24T14:51:38.571258Z",
     "start_time": "2025-04-24T14:51:38.510295Z"
    }
   },
   "cell_type": "code",
   "source": [
    "df = pd.read_csv(\"../datasets/XAGUSD-H1-rates.csv\", sep='\\t')\n",
    "# Combine <DATE> and <TIME> into single datetime index\n",
    "df['DATETIME'] = pd.to_datetime(df['<DATE>'] + ' ' + df['<TIME>'])\n",
    "df.set_index('DATETIME', inplace=True)\n",
    "df.drop(columns=['<DATE>', '<TIME>'], inplace=True)"
   ],
   "id": "4e6074be37aa3eab",
   "outputs": [],
   "execution_count": 21
  },
  {
   "metadata": {},
   "cell_type": "code",
   "source": "df.head()",
   "id": "ce254e3fe4b4c0c2",
   "outputs": [],
   "execution_count": null
  },
  {
   "metadata": {
    "ExecuteTime": {
     "end_time": "2025-04-24T14:51:38.659083Z",
     "start_time": "2025-04-24T14:51:38.655501Z"
    }
   },
   "cell_type": "code",
   "source": [
    "# Compute TA indicators and append to dataframe.\n",
    "def compute_indicators(df):\n",
    "    df = df.copy()\n",
    "    df['rsi'] = RSI(df['CLOSE'], timeperiod=14)\n",
    "    macd, macd_signal, macd_hist = MACD(df['CLOSE'], fastperiod=12, slowperiod=26, signalperiod=9)\n",
    "    df['macd_hist'] = macd_hist\n",
    "    upper, middle, lower = BBANDS(df['CLOSE'], timeperiod=20)\n",
    "    df['bb_z'] = (df['CLOSE'] - middle) / (upper - lower)\n",
    "    df['atr'] = ATR(df['HIGH'], df['LOW'], df['CLOSE'], timeperiod=14)\n",
    "    df.dropna(inplace=True)\n",
    "    return df"
   ],
   "id": "ccace267fc0afe01",
   "outputs": [],
   "execution_count": 23
  },
  {
   "metadata": {
    "ExecuteTime": {
     "end_time": "2025-04-24T14:51:38.703116Z",
     "start_time": "2025-04-24T14:51:38.698968Z"
    }
   },
   "cell_type": "code",
   "source": [
    "# Standard scale selected feature columns. Returns scaled array and scaler object.\n",
    "def scale_features(df, feature_cols):\n",
    "    scaler = StandardScaler()\n",
    "    scaled = scaler.fit_transform(df[feature_cols])\n",
    "    return scaled, scaler"
   ],
   "id": "2c1cfcef3478d692",
   "outputs": [],
   "execution_count": 24
  },
  {
   "metadata": {
    "ExecuteTime": {
     "end_time": "2025-04-24T14:51:38.769848Z",
     "start_time": "2025-04-24T14:51:38.765278Z"
    }
   },
   "cell_type": "code",
   "source": [
    "# Label reversal points: 1 for reversal start, 0 otherwise. Here: local max followed by lookahead bearish move > threshold.\n",
    "def label_reversals(df, lookahead=5, threshold=0.001):\n",
    "    close = df['CLOSE'].values\n",
    "    labels = np.zeros(len(close))\n",
    "    for i in range(1, len(close) - lookahead - 1):\n",
    "        if close[i] > close[i - 1] and close[i] > close[i + 1]:\n",
    "            future_min = close[i + 1:i + 1 + lookahead].min()\n",
    "            if (close[i] - future_min) / close[i] > threshold:\n",
    "                labels[i] = 1\n",
    "        if close[i] < close[i - 1] and close[i] < close[i + 1]:\n",
    "            future_max = close[i + 1:i + 1 + lookahead].max()\n",
    "            if (future_max - close[i]) / close[i] > threshold:\n",
    "                labels[i] = 2  # sell reversal\n",
    "    return labels.astype(int)"
   ],
   "id": "e81e24a271bc7511",
   "outputs": [],
   "execution_count": 25
  },
  {
   "metadata": {
    "ExecuteTime": {
     "end_time": "2025-04-24T14:51:38.840827Z",
     "start_time": "2025-04-24T14:51:38.837504Z"
    }
   },
   "cell_type": "code",
   "source": [
    "# Build sliding-window sequences and corresponding labels.\n",
    "def create_sequences(features, labels, window_size=60):\n",
    "    X, y = [], []\n",
    "    for i in range(window_size, len(features)):\n",
    "        X.append(features[i - window_size:i])\n",
    "        y.append(labels[i])\n",
    "    return np.array(X), np.array(y)"
   ],
   "id": "647723b672f7f93f",
   "outputs": [],
   "execution_count": 26
  },
  {
   "metadata": {
    "ExecuteTime": {
     "end_time": "2025-04-24T14:51:38.907805Z",
     "start_time": "2025-04-24T14:51:38.904388Z"
    }
   },
   "cell_type": "code",
   "source": [
    "# Build LSTM + attention reversal classifier.\n",
    "def build_model(input_shape):\n",
    "    inp = Input(shape=input_shape)\n",
    "    x = LSTM(64, return_sequences=True)(inp)\n",
    "    x = Dropout(0.2)(x)\n",
    "    # attention\n",
    "    attn = Attention()([x, x])\n",
    "    x = LSTM(32)(attn)\n",
    "    x = Dropout(0.2)(x)\n",
    "    out = Dense(3, activation='softmax')(x)\n",
    "    model = Model(inp, out)\n",
    "    model.compile(optimizer=Adam(1e-3), loss='sparse_categorical_crossentropy', metrics=['accuracy'])\n",
    "    return model"
   ],
   "id": "181557073ecd4e9",
   "outputs": [],
   "execution_count": 27
  },
  {
   "metadata": {
    "ExecuteTime": {
     "end_time": "2025-04-24T14:51:38.955352Z",
     "start_time": "2025-04-24T14:51:38.953240Z"
    }
   },
   "cell_type": "code",
   "source": [
    "# Example usage:\n",
    "# df = load_data('XAGUSD-H1-rates.csv')\\# compute indicators\n",
    "# df_ind = compute_indicators(df)\n",
    "# features, scaler = scale_features(df_ind, ['rsi','macd_hist','bb_z','atr'])\n",
    "# labels = label_reversals(df_ind)\n",
    "# X, y = create_sequences(features, labels)\n",
    "# model = build_model(X.shape[1:])\n"
   ],
   "id": "e053e5194e3f5e0b",
   "outputs": [],
   "execution_count": 28
  }
 ],
 "metadata": {
  "kernelspec": {
   "name": "python3",
   "language": "python",
   "display_name": "Python 3 (ipykernel)"
  }
 },
 "nbformat": 5,
 "nbformat_minor": 9
}
