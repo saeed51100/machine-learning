{
 "cells": [
  {
   "cell_type": "markdown",
   "source": [
    "# RSI model-04\n",
    "https://chatgpt.com/c/67fe98d5-33d4-800a-9af3-8004fb8cd47e\n",
    "\n",
    "This model is designed to predict trend reversal points, not based on price predictions. In other words, the model is based on classification, not regression, and future prices are not accurate."
   ],
   "metadata": {
    "collapsed": false,
    "pycharm": {
     "name": "#%% md\n"
    }
   }
  },
  {
   "metadata": {
    "ExecuteTime": {
     "end_time": "2025-04-15T17:51:33.089693Z",
     "start_time": "2025-04-15T17:51:33.086786Z"
    }
   },
   "cell_type": "code",
   "source": [
    "import pandas as pd\n",
    "import numpy as np\n",
    "import matplotlib.pyplot as plt\n",
    "from ta.momentum import RSIIndicator\n",
    "from sklearn.model_selection import train_test_split\n",
    "from tensorflow.keras.models import Sequential\n",
    "from tensorflow.keras.layers import Dense, LSTM, Dropout\n",
    "from tensorflow.keras.utils import to_categorical"
   ],
   "outputs": [],
   "execution_count": 2
  },
  {
   "metadata": {
    "ExecuteTime": {
     "end_time": "2025-04-15T17:53:50.679357Z",
     "start_time": "2025-04-15T17:53:50.614791Z"
    }
   },
   "cell_type": "code",
   "source": [
    "# Load the 10-year training dataset\n",
    "df = pd.read_csv(\"XAGUSD-H1-rates.csv\", sep=\"\\t\")\n",
    "\n",
    "# Combine Date and Time to datetime\n",
    "df['DATETIME'] = pd.to_datetime(df['<DATE>'] + ' ' + df['<TIME>'])\n",
    "df.set_index('DATETIME', inplace=True)\n",
    "\n",
    "# Use only the necessary columns\n",
    "df = df[['<OPEN>', '<HIGH>', '<LOW>', '<CLOSE>', '<TICKVOL>']]\n",
    "df.columns = ['open', 'high', 'low', 'close', 'volume']\n",
    "\n",
    "# Calculate RSI\n",
    "rsi = RSIIndicator(close=df['close'], window=14).rsi()\n",
    "df['rsi'] = rsi\n",
    "\n",
    "# Drop rows with NaN\n",
    "df.dropna(inplace=True)\n"
   ],
   "outputs": [],
   "execution_count": 4
  },
  {
   "metadata": {
    "ExecuteTime": {
     "end_time": "2025-04-15T17:54:01.339787Z",
     "start_time": "2025-04-15T17:54:00.685035Z"
    }
   },
   "cell_type": "code",
   "source": [
    "def label_reversal_points(rsi_series, lower=30, upper=70):\n",
    "    labels = np.zeros(len(rsi_series), dtype=int)\n",
    "    for i in range(1, len(rsi_series)):\n",
    "        if rsi_series[i - 1] < lower and rsi_series[i] >= lower:\n",
    "            labels[i] = 1  # Buy signal\n",
    "        elif rsi_series[i - 1] > upper and rsi_series[i] <= upper:\n",
    "            labels[i] = 2  # Sell signal\n",
    "    return labels\n",
    "\n",
    "df['label'] = label_reversal_points(df['rsi'])\n"
   ],
   "outputs": [
    {
     "name": "stderr",
     "output_type": "stream",
     "text": [
      "/tmp/ipykernel_7593/445066810.py:4: FutureWarning: Series.__getitem__ treating keys as positions is deprecated. In a future version, integer keys will always be treated as labels (consistent with DataFrame behavior). To access a value by position, use `ser.iloc[pos]`\n",
      "  if rsi_series[i - 1] < lower and rsi_series[i] >= lower:\n",
      "/tmp/ipykernel_7593/445066810.py:6: FutureWarning: Series.__getitem__ treating keys as positions is deprecated. In a future version, integer keys will always be treated as labels (consistent with DataFrame behavior). To access a value by position, use `ser.iloc[pos]`\n",
      "  elif rsi_series[i - 1] > upper and rsi_series[i] <= upper:\n"
     ]
    }
   ],
   "execution_count": 6
  },
  {
   "metadata": {
    "ExecuteTime": {
     "end_time": "2025-04-15T17:54:29.207570Z",
     "start_time": "2025-04-15T17:54:07.964175Z"
    }
   },
   "cell_type": "code",
   "source": [
    "# We will use 30 steps to predict the next 100\n",
    "sequence_length = 30\n",
    "forecast_horizon = 100\n",
    "\n",
    "X = []\n",
    "y = []\n",
    "\n",
    "for i in range(sequence_length, len(df) - forecast_horizon):\n",
    "    X.append(df.iloc[i-sequence_length:i][['open', 'high', 'low', 'close', 'volume', 'rsi']].values)\n",
    "    y.append(df.iloc[i:i+forecast_horizon]['label'].values)\n",
    "\n",
    "X = np.array(X)\n",
    "y = np.array(y)\n",
    "y_cat = to_categorical(y, num_classes=3)\n"
   ],
   "outputs": [],
   "execution_count": 7
  },
  {
   "metadata": {
    "ExecuteTime": {
     "end_time": "2025-04-15T17:56:07.205894Z",
     "start_time": "2025-04-15T17:54:48.028748Z"
    }
   },
   "cell_type": "code",
   "source": [
    "X_train, X_test, y_train, y_test = train_test_split(X, y_cat, test_size=0.2, random_state=42)\n",
    "\n",
    "model = Sequential([\n",
    "    LSTM(64, return_sequences=True, input_shape=(30, 6)),\n",
    "    Dropout(0.3),\n",
    "    LSTM(64),\n",
    "    Dense(100 * 3, activation='softmax')  # Predict 100 steps × 3 classes\n",
    "])\n",
    "\n",
    "model.compile(optimizer='adam', loss='categorical_crossentropy', metrics=['accuracy'])\n",
    "\n",
    "# Reshape y to match output\n",
    "y_train_reshaped = y_train.reshape((-1, 100 * 3))\n",
    "y_test_reshaped = y_test.reshape((-1, 100 * 3))\n",
    "\n",
    "model.fit(X_train, y_train_reshaped, epochs=10, batch_size=32, validation_split=0.1)\n"
   ],
   "outputs": [
    {
     "name": "stderr",
     "output_type": "stream",
     "text": [
      "I0000 00:00:1744739688.384899    7593 gpu_device.cc:2022] Created device /job:localhost/replica:0/task:0/device:GPU:0 with 2067 MB memory:  -> device: 0, name: NVIDIA GeForce GTX 1650 SUPER, pci bus id: 0000:01:00.0, compute capability: 7.5\n",
      "/home/saeed/repositories/machine-learning/tensorflow-course/start-tensorflow/envs/lib/python3.11/site-packages/keras/src/layers/rnn/rnn.py:200: UserWarning: Do not pass an `input_shape`/`input_dim` argument to a layer. When using Sequential models, prefer using an `Input(shape)` object as the first layer in the model instead.\n",
      "  super().__init__(**kwargs)\n"
     ]
    },
    {
     "name": "stdout",
     "output_type": "stream",
     "text": [
      "Epoch 1/10\n"
     ]
    },
    {
     "name": "stderr",
     "output_type": "stream",
     "text": [
      "I0000 00:00:1744739691.336861    7716 cuda_dnn.cc:529] Loaded cuDNN version 90800\n"
     ]
    },
    {
     "name": "stdout",
     "output_type": "stream",
     "text": [
      "\u001B[1m1237/1237\u001B[0m \u001B[32m━━━━━━━━━━━━━━━━━━━━\u001B[0m\u001B[37m\u001B[0m \u001B[1m10s\u001B[0m 6ms/step - accuracy: 0.0000e+00 - loss: 515.2877 - val_accuracy: 0.0000e+00 - val_loss: 581.1988\n",
      "Epoch 2/10\n",
      "\u001B[1m1237/1237\u001B[0m \u001B[32m━━━━━━━━━━━━━━━━━━━━\u001B[0m\u001B[37m\u001B[0m \u001B[1m7s\u001B[0m 6ms/step - accuracy: 0.0000e+00 - loss: 605.8706 - val_accuracy: 0.0000e+00 - val_loss: 682.9518\n",
      "Epoch 3/10\n",
      "\u001B[1m1237/1237\u001B[0m \u001B[32m━━━━━━━━━━━━━━━━━━━━\u001B[0m\u001B[37m\u001B[0m \u001B[1m7s\u001B[0m 6ms/step - accuracy: 0.0000e+00 - loss: 706.9253 - val_accuracy: 0.0000e+00 - val_loss: 784.6381\n",
      "Epoch 4/10\n",
      "\u001B[1m1237/1237\u001B[0m \u001B[32m━━━━━━━━━━━━━━━━━━━━\u001B[0m\u001B[37m\u001B[0m \u001B[1m7s\u001B[0m 6ms/step - accuracy: 0.0000e+00 - loss: 808.5223 - val_accuracy: 0.0000e+00 - val_loss: 886.4202\n",
      "Epoch 5/10\n",
      "\u001B[1m1237/1237\u001B[0m \u001B[32m━━━━━━━━━━━━━━━━━━━━\u001B[0m\u001B[37m\u001B[0m \u001B[1m7s\u001B[0m 6ms/step - accuracy: 0.0000e+00 - loss: 910.7203 - val_accuracy: 0.0000e+00 - val_loss: 988.3114\n",
      "Epoch 6/10\n",
      "\u001B[1m1237/1237\u001B[0m \u001B[32m━━━━━━━━━━━━━━━━━━━━\u001B[0m\u001B[37m\u001B[0m \u001B[1m8s\u001B[0m 6ms/step - accuracy: 0.0000e+00 - loss: 1012.1205 - val_accuracy: 0.0000e+00 - val_loss: 1090.2391\n",
      "Epoch 7/10\n",
      "\u001B[1m1237/1237\u001B[0m \u001B[32m━━━━━━━━━━━━━━━━━━━━\u001B[0m\u001B[37m\u001B[0m \u001B[1m7s\u001B[0m 6ms/step - accuracy: 0.0000e+00 - loss: 1113.0426 - val_accuracy: 0.0000e+00 - val_loss: 1192.0844\n",
      "Epoch 8/10\n",
      "\u001B[1m1237/1237\u001B[0m \u001B[32m━━━━━━━━━━━━━━━━━━━━\u001B[0m\u001B[37m\u001B[0m \u001B[1m8s\u001B[0m 6ms/step - accuracy: 0.0000e+00 - loss: 1214.4058 - val_accuracy: 0.0000e+00 - val_loss: 1293.6646\n",
      "Epoch 9/10\n",
      "\u001B[1m1237/1237\u001B[0m \u001B[32m━━━━━━━━━━━━━━━━━━━━\u001B[0m\u001B[37m\u001B[0m \u001B[1m8s\u001B[0m 6ms/step - accuracy: 0.0000e+00 - loss: 1310.5984 - val_accuracy: 0.0000e+00 - val_loss: 1395.1737\n",
      "Epoch 10/10\n",
      "\u001B[1m1237/1237\u001B[0m \u001B[32m━━━━━━━━━━━━━━━━━━━━\u001B[0m\u001B[37m\u001B[0m \u001B[1m8s\u001B[0m 6ms/step - accuracy: 0.0000e+00 - loss: 1417.2065 - val_accuracy: 0.0000e+00 - val_loss: 1497.0374\n"
     ]
    },
    {
     "data": {
      "text/plain": [
       "<keras.src.callbacks.history.History at 0x7a79d59fd0d0>"
      ]
     },
     "execution_count": 8,
     "metadata": {},
     "output_type": "execute_result"
    }
   ],
   "execution_count": 8
  },
  {
   "metadata": {
    "ExecuteTime": {
     "end_time": "2025-04-15T18:05:59.818366Z",
     "start_time": "2025-04-15T18:05:59.811977Z"
    }
   },
   "cell_type": "code",
   "source": [
    "# Load 30-hour new data\n",
    "df_new = pd.read_csv(\"new-data-for-test/rows-30-from-20240503.csv\", sep=\"\\t\")"
   ],
   "outputs": [],
   "execution_count": 14
  },
  {
   "metadata": {},
   "cell_type": "code",
   "outputs": [],
   "execution_count": null,
   "source": "df_new['DATETIME'] = pd.to_datetime(df_new['<DATE>'] + ' ' + df_new['<TIME>'])"
  },
  {
   "metadata": {},
   "cell_type": "code",
   "outputs": [],
   "execution_count": null,
   "source": [
    "df_new.set_index('DATETIME', inplace=True)\n",
    "df_new = df_new[['<OPEN>', '<HIGH>', '<LOW>', '<CLOSE>', '<TICKVOL>']]\n",
    "df_new.columns = ['open', 'high', 'low', 'close', 'volume']"
   ]
  },
  {
   "metadata": {
    "ExecuteTime": {
     "end_time": "2025-04-15T17:57:22.502160Z",
     "start_time": "2025-04-15T17:57:22.306949Z"
    }
   },
   "cell_type": "code",
   "source": [
    "# RSI\n",
    "rsi_new = RSIIndicator(close=df_new['close'], window=14).rsi()\n",
    "df_new['rsi'] = rsi_new\n",
    "df_new.dropna(inplace=True)\n",
    "\n",
    "X_input = df_new[['open', 'high', 'low', 'close', 'volume', 'rsi']].values[-30:]\n",
    "X_input = np.expand_dims(X_input, axis=0)\n",
    "\n",
    "prediction = model.predict(X_input)\n",
    "predicted_classes = np.argmax(prediction.reshape((100, 3)), axis=1)\n"
   ],
   "outputs": [
    {
     "name": "stdout",
     "output_type": "stream",
     "text": [
      "\u001B[1m1/1\u001B[0m \u001B[32m━━━━━━━━━━━━━━━━━━━━\u001B[0m\u001B[37m\u001B[0m \u001B[1m0s\u001B[0m 137ms/step\n"
     ]
    }
   ],
   "execution_count": 10
  },
  {
   "metadata": {
    "ExecuteTime": {
     "end_time": "2025-04-15T17:57:26.301677Z",
     "start_time": "2025-04-15T17:57:26.130028Z"
    }
   },
   "cell_type": "code",
   "source": [
    "# Concatenate RSI of past 30 and dummy RSI for 100 future\n",
    "rsi_full = np.concatenate([df_new['rsi'].values[-30:], np.zeros(100)])\n",
    "\n",
    "# Create labels for visualization\n",
    "buy_points = np.where(predicted_classes == 1)[0] + 30\n",
    "sell_points = np.where(predicted_classes == 2)[0] + 30\n",
    "\n",
    "plt.figure(figsize=(15, 6))\n",
    "plt.plot(rsi_full, label='RSI')\n",
    "plt.axhline(30, color='green', linestyle='--')\n",
    "plt.axhline(70, color='red', linestyle='--')\n",
    "plt.scatter(buy_points, rsi_full[buy_points], marker='^', color='green', label='Buy Signal')\n",
    "plt.scatter(sell_points, rsi_full[sell_points], marker='v', color='red', label='Sell Signal')\n",
    "plt.title('RSI + Trend Reversal Predictions (30 past + 100 future)')\n",
    "plt.legend()\n",
    "plt.grid(True)\n",
    "plt.show()"
   ],
   "outputs": [
    {
     "data": {
      "text/plain": [
       "<Figure size 1500x600 with 1 Axes>"
      ],
      "image/png": "[encoded data removed]"
     },
     "metadata": {},
     "output_type": "display_data"
    }
   ],
   "execution_count": 11
  }
 ],
 "metadata": {
  "kernelspec": {
   "display_name": "Python 3",
   "language": "python",
   "name": "python3"
  },
  "language_info": {
   "codemirror_mode": {
    "name": "ipython",
    "version": 2
   },
   "file_extension": ".py",
   "mimetype": "text/x-python",
   "name": "python",
   "nbconvert_exporter": "python",
   "pygments_lexer": "ipython2",
   "version": "2.7.6"
  }
 },
 "nbformat": 4,
 "nbformat_minor": 0
}
