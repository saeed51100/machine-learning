{
 "cells": [
  {
   "cell_type": "markdown",
   "source": [
    "# RSI model-05 ( Regression approach )\n",
    "https://chatgpt.com/c/67ff8405-7cfc-800a-b166-c9137db53451"
   ],
   "metadata": {
    "collapsed": false,
    "pycharm": {
     "name": "#%% md\n"
    }
   }
  },
  {
   "metadata": {},
   "cell_type": "code",
   "outputs": [],
   "execution_count": null,
   "source": [
    "# 📈 Forex Trend Reversal Prediction Using RSI (Regression + Sliding Window)\n",
    "\n",
    "# -----------------------------\n",
    "# 🔧 1. Setup and Hyperparameters\n",
    "# -----------------------------\n",
    "rsi_period = 14\n",
    "buy_zone = 30\n",
    "sell_zone = 70\n",
    "input_window = 30\n",
    "future_window = 100\n",
    "\n",
    "import pandas as pd\n",
    "import numpy as np\n",
    "import matplotlib.pyplot as plt\n",
    "from ta.momentum import RSIIndicator\n",
    "from sklearn.preprocessing import MinMaxScaler\n",
    "from tensorflow.keras.models import Sequential\n",
    "from tensorflow.keras.layers import LSTM, Dense\n",
    "from tensorflow.keras.optimizers import Adam\n",
    "from tqdm.notebook import tqdm"
   ]
  }
 ],
 "metadata": {
  "kernelspec": {
   "display_name": "Python 3",
   "language": "python",
   "name": "python3"
  },
  "language_info": {
   "codemirror_mode": {
    "name": "ipython",
    "version": 2
   },
   "file_extension": ".py",
   "mimetype": "text/x-python",
   "name": "python",
   "nbconvert_exporter": "python",
   "pygments_lexer": "ipython2",
   "version": "2.7.6"
  }
 },
 "nbformat": 4,
 "nbformat_minor": 0
}
