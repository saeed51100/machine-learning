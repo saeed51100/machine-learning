{
 "cells": [
  {
   "metadata": {},
   "cell_type": "markdown",
   "source": [
    "# RSI model-05 ( Regression approach )\n",
    "https://chatgpt.com/c/67ff8405-7cfc-800a-b166-c9137db53451"
   ]
  },
  {
   "metadata": {
    "ExecuteTime": {
     "end_time": "2025-04-16T15:05:11.426572Z",
     "start_time": "2025-04-16T15:05:11.422769Z"
    }
   },
   "cell_type": "code",
   "source": [
    "import numpy as np\n",
    "import pandas as pd\n",
    "import matplotlib.pyplot as plt\n",
    "from ta.momentum import RSIIndicator\n",
    "from sklearn.model_selection import train_test_split\n",
    "from tensorflow.keras.models import Sequential\n",
    "from tensorflow.keras.layers import Dense, LSTM\n",
    "from tensorflow.keras.optimizers import Adam\n",
    "\n",
    "# Hyperparameters (modifiable)\n",
    "rsi_period = 14\n",
    "buy_zone = 30\n",
    "sell_zone = 70\n",
    "input_window = 30\n",
    "future_window = 100\n"
   ],
   "outputs": [],
   "execution_count": 2
  },
  {
   "metadata": {
    "ExecuteTime": {
     "end_time": "2025-04-16T15:05:14.122013Z",
     "start_time": "2025-04-16T15:05:14.062042Z"
    }
   },
   "cell_type": "code",
   "source": [
    "# Load training data (10 years of historical data)\n",
    "df = pd.read_csv(\"XAGUSD-H1-rates.csv\", sep=\"\\t\")\n",
    "\n",
    "# Keep relevant columns only\n",
    "\n",
    "df.columns = df.columns.str.strip()  # Clean headers\n",
    "df = df[['<OPEN>', '<HIGH>', '<LOW>', '<CLOSE>']].copy()\n",
    "\n",
    "# Calculate RSI\n",
    "df['<RSI>'] = RSIIndicator(close=df['<CLOSE>'], window=rsi_period).rsi()\n",
    "df = df.dropna().reset_index(drop=True)\n"
   ],
   "outputs": [],
   "execution_count": 3
  },
  {
   "metadata": {
    "ExecuteTime": {
     "end_time": "2025-04-16T15:05:17.424488Z",
     "start_time": "2025-04-16T15:05:17.421373Z"
    }
   },
   "cell_type": "code",
   "source": [
    "def get_reversal_signals(rsi_series):\n",
    "    signals = []\n",
    "    for rsi in rsi_series:\n",
    "        if rsi < buy_zone:\n",
    "            signals.append(1)  # Buy signal\n",
    "        elif rsi > sell_zone:\n",
    "            signals.append(2)  # Sell signal\n",
    "        else:\n",
    "            signals.append(0)  # No signal\n",
    "    return signals\n"
   ],
   "outputs": [],
   "execution_count": 4
  },
  {
   "metadata": {
    "ExecuteTime": {
     "end_time": "2025-04-16T15:08:10.288820Z",
     "start_time": "2025-04-16T15:08:10.286360Z"
    }
   },
   "cell_type": "code",
   "source": "X, y = [], []",
   "outputs": [],
   "execution_count": 5
  },
  {
   "metadata": {},
   "cell_type": "code",
   "outputs": [],
   "execution_count": null,
   "source": [
    "for i in range(len(df) - input_window - future_window):\n",
    "    x_chunk = df[['<OPEN>', '<HIGH>', '<LOW>', '<CLOSE>', '<RSI>']].iloc[i:i+input_window].values\n",
    "    y_chunk = df['<CLOSE>'].iloc[i+input_window:i+input_window+future_window].values\n",
    "    X.append(x_chunk)\n",
    "    y.append(y_chunk)"
   ]
  },
  {
   "metadata": {},
   "cell_type": "code",
   "outputs": [],
   "execution_count": null,
   "source": [
    "X = np.array(X)\n",
    "y = np.array(y)"
   ]
  },
  {
   "metadata": {
    "ExecuteTime": {
     "end_time": "2025-04-16T15:02:40.213451Z",
     "start_time": "2025-04-16T15:02:40.145947Z"
    }
   },
   "cell_type": "code",
   "source": [
    "\n",
    "# Split into train/test sets\n",
    "X_train, X_test, y_train, y_test = train_test_split(X, y, test_size=0.2, random_state=42)\n"
   ],
   "outputs": [
    {
     "ename": "KeyError",
     "evalue": "\"None of [Index(['OPEN', 'HIGH', 'LOW', 'CLOSE', 'RSI'], dtype='object')] are in the [columns]\"",
     "output_type": "error",
     "traceback": [
      "\u001B[31m---------------------------------------------------------------------------\u001B[39m",
      "\u001B[31mKeyError\u001B[39m                                  Traceback (most recent call last)",
      "\u001B[36mCell\u001B[39m\u001B[36m \u001B[39m\u001B[32mIn[24]\u001B[39m\u001B[32m, line 4\u001B[39m\n\u001B[32m      1\u001B[39m X, y = [], []\n\u001B[32m      3\u001B[39m \u001B[38;5;28;01mfor\u001B[39;00m i \u001B[38;5;129;01min\u001B[39;00m \u001B[38;5;28mrange\u001B[39m(\u001B[38;5;28mlen\u001B[39m(df) - input_window - future_window):\n\u001B[32m----> \u001B[39m\u001B[32m4\u001B[39m     x_chunk = \u001B[43mdf\u001B[49m\u001B[43m[\u001B[49m\u001B[43m[\u001B[49m\u001B[33;43m'\u001B[39;49m\u001B[33;43mOPEN\u001B[39;49m\u001B[33;43m'\u001B[39;49m\u001B[43m,\u001B[49m\u001B[43m \u001B[49m\u001B[33;43m'\u001B[39;49m\u001B[33;43mHIGH\u001B[39;49m\u001B[33;43m'\u001B[39;49m\u001B[43m,\u001B[49m\u001B[43m \u001B[49m\u001B[33;43m'\u001B[39;49m\u001B[33;43mLOW\u001B[39;49m\u001B[33;43m'\u001B[39;49m\u001B[43m,\u001B[49m\u001B[43m \u001B[49m\u001B[33;43m'\u001B[39;49m\u001B[33;43mCLOSE\u001B[39;49m\u001B[33;43m'\u001B[39;49m\u001B[43m,\u001B[49m\u001B[43m \u001B[49m\u001B[33;43m'\u001B[39;49m\u001B[33;43mRSI\u001B[39;49m\u001B[33;43m'\u001B[39;49m\u001B[43m]\u001B[49m\u001B[43m]\u001B[49m.iloc[i:i+input_window].values\n\u001B[32m      5\u001B[39m     y_chunk = df[\u001B[33m'\u001B[39m\u001B[33mCLOSE\u001B[39m\u001B[33m'\u001B[39m].iloc[i+input_window:i+input_window+future_window].values\n\u001B[32m      6\u001B[39m     X.append(x_chunk)\n",
      "\u001B[36mFile \u001B[39m\u001B[32m~/repositories/machine-learning/tensorflow-course/start-tensorflow/envs/lib/python3.11/site-packages/pandas/core/frame.py:4108\u001B[39m, in \u001B[36mDataFrame.__getitem__\u001B[39m\u001B[34m(self, key)\u001B[39m\n\u001B[32m   4106\u001B[39m     \u001B[38;5;28;01mif\u001B[39;00m is_iterator(key):\n\u001B[32m   4107\u001B[39m         key = \u001B[38;5;28mlist\u001B[39m(key)\n\u001B[32m-> \u001B[39m\u001B[32m4108\u001B[39m     indexer = \u001B[38;5;28;43mself\u001B[39;49m\u001B[43m.\u001B[49m\u001B[43mcolumns\u001B[49m\u001B[43m.\u001B[49m\u001B[43m_get_indexer_strict\u001B[49m\u001B[43m(\u001B[49m\u001B[43mkey\u001B[49m\u001B[43m,\u001B[49m\u001B[43m \u001B[49m\u001B[33;43m\"\u001B[39;49m\u001B[33;43mcolumns\u001B[39;49m\u001B[33;43m\"\u001B[39;49m\u001B[43m)\u001B[49m[\u001B[32m1\u001B[39m]\n\u001B[32m   4110\u001B[39m \u001B[38;5;66;03m# take() does not accept boolean indexers\u001B[39;00m\n\u001B[32m   4111\u001B[39m \u001B[38;5;28;01mif\u001B[39;00m \u001B[38;5;28mgetattr\u001B[39m(indexer, \u001B[33m\"\u001B[39m\u001B[33mdtype\u001B[39m\u001B[33m\"\u001B[39m, \u001B[38;5;28;01mNone\u001B[39;00m) == \u001B[38;5;28mbool\u001B[39m:\n",
      "\u001B[36mFile \u001B[39m\u001B[32m~/repositories/machine-learning/tensorflow-course/start-tensorflow/envs/lib/python3.11/site-packages/pandas/core/indexes/base.py:6200\u001B[39m, in \u001B[36mIndex._get_indexer_strict\u001B[39m\u001B[34m(self, key, axis_name)\u001B[39m\n\u001B[32m   6197\u001B[39m \u001B[38;5;28;01melse\u001B[39;00m:\n\u001B[32m   6198\u001B[39m     keyarr, indexer, new_indexer = \u001B[38;5;28mself\u001B[39m._reindex_non_unique(keyarr)\n\u001B[32m-> \u001B[39m\u001B[32m6200\u001B[39m \u001B[38;5;28;43mself\u001B[39;49m\u001B[43m.\u001B[49m\u001B[43m_raise_if_missing\u001B[49m\u001B[43m(\u001B[49m\u001B[43mkeyarr\u001B[49m\u001B[43m,\u001B[49m\u001B[43m \u001B[49m\u001B[43mindexer\u001B[49m\u001B[43m,\u001B[49m\u001B[43m \u001B[49m\u001B[43maxis_name\u001B[49m\u001B[43m)\u001B[49m\n\u001B[32m   6202\u001B[39m keyarr = \u001B[38;5;28mself\u001B[39m.take(indexer)\n\u001B[32m   6203\u001B[39m \u001B[38;5;28;01mif\u001B[39;00m \u001B[38;5;28misinstance\u001B[39m(key, Index):\n\u001B[32m   6204\u001B[39m     \u001B[38;5;66;03m# GH 42790 - Preserve name from an Index\u001B[39;00m\n",
      "\u001B[36mFile \u001B[39m\u001B[32m~/repositories/machine-learning/tensorflow-course/start-tensorflow/envs/lib/python3.11/site-packages/pandas/core/indexes/base.py:6249\u001B[39m, in \u001B[36mIndex._raise_if_missing\u001B[39m\u001B[34m(self, key, indexer, axis_name)\u001B[39m\n\u001B[32m   6247\u001B[39m \u001B[38;5;28;01mif\u001B[39;00m nmissing:\n\u001B[32m   6248\u001B[39m     \u001B[38;5;28;01mif\u001B[39;00m nmissing == \u001B[38;5;28mlen\u001B[39m(indexer):\n\u001B[32m-> \u001B[39m\u001B[32m6249\u001B[39m         \u001B[38;5;28;01mraise\u001B[39;00m \u001B[38;5;167;01mKeyError\u001B[39;00m(\u001B[33mf\u001B[39m\u001B[33m\"\u001B[39m\u001B[33mNone of [\u001B[39m\u001B[38;5;132;01m{\u001B[39;00mkey\u001B[38;5;132;01m}\u001B[39;00m\u001B[33m] are in the [\u001B[39m\u001B[38;5;132;01m{\u001B[39;00maxis_name\u001B[38;5;132;01m}\u001B[39;00m\u001B[33m]\u001B[39m\u001B[33m\"\u001B[39m)\n\u001B[32m   6251\u001B[39m     not_found = \u001B[38;5;28mlist\u001B[39m(ensure_index(key)[missing_mask.nonzero()[\u001B[32m0\u001B[39m]].unique())\n\u001B[32m   6252\u001B[39m     \u001B[38;5;28;01mraise\u001B[39;00m \u001B[38;5;167;01mKeyError\u001B[39;00m(\u001B[33mf\u001B[39m\u001B[33m\"\u001B[39m\u001B[38;5;132;01m{\u001B[39;00mnot_found\u001B[38;5;132;01m}\u001B[39;00m\u001B[33m not in index\u001B[39m\u001B[33m\"\u001B[39m)\n",
      "\u001B[31mKeyError\u001B[39m: \"None of [Index(['OPEN', 'HIGH', 'LOW', 'CLOSE', 'RSI'], dtype='object')] are in the [columns]\""
     ]
    }
   ],
   "execution_count": 24
  },
  {
   "metadata": {},
   "cell_type": "code",
   "outputs": [],
   "execution_count": null,
   "source": [
    "model = Sequential([\n",
    "    LSTM(64, activation='relu', return_sequences=False, input_shape=(input_window, X.shape[2])),\n",
    "    Dense(future_window)\n",
    "])\n",
    "\n",
    "model.compile(optimizer=Adam(learning_rate=0.001), loss='mse')\n",
    "model.summary()\n",
    "\n",
    "# Train the model\n",
    "history = model.fit(X_train, y_train, validation_data=(X_test, y_test), epochs=10, batch_size=32)\n"
   ]
  },
  {
   "metadata": {},
   "cell_type": "code",
   "outputs": [],
   "execution_count": null,
   "source": [
    "# Load 30 most recent candles\n",
    "recent_df = pd.read_csv(\"your_30_row_input.csv\")\n",
    "recent_df = recent_df[['OPEN', 'HIGH', 'LOW', 'CLOSE']]\n",
    "recent_df['RSI'] = RSIIndicator(close=recent_df['CLOSE'], window=rsi_period).rsi()\n",
    "recent_df = recent_df.dropna().reset_index(drop=True)\n",
    "\n",
    "# Prepare input\n",
    "X_input = recent_df[['OPEN', 'HIGH', 'LOW', 'CLOSE', 'RSI']].values[-input_window:]\n",
    "X_input = np.expand_dims(X_input, axis=0)\n"
   ]
  },
  {
   "metadata": {},
   "cell_type": "code",
   "outputs": [],
   "execution_count": null,
   "source": [
    "# Predict next 100 future CLOSE prices\n",
    "predicted_close = model.predict(X_input)[0]\n",
    "\n",
    "# Combine real + predicted close prices for full RSI chart\n",
    "full_close = np.concatenate([recent_df['CLOSE'].values[-input_window:], predicted_close])\n",
    "\n",
    "# Compute RSI on full series\n",
    "rsi_series = RSIIndicator(close=pd.Series(full_close), window=rsi_period).rsi().fillna(0)\n",
    "reversal_signals = get_reversal_signals(rsi_series)\n"
   ]
  },
  {
   "metadata": {},
   "cell_type": "code",
   "outputs": [],
   "execution_count": null,
   "source": [
    "plt.figure(figsize=(16, 8))\n",
    "\n",
    "# Price chart\n",
    "plt.subplot(2, 1, 1)\n",
    "plt.plot(full_close, label='Close Price', color='blue')\n",
    "for i, sig in enumerate(reversal_signals):\n",
    "    if sig == 1:\n",
    "        plt.scatter(i, full_close[i], color='green', label='Buy Signal' if i == 0 else \"\", marker='^', s=100)\n",
    "    elif sig == 2:\n",
    "        plt.scatter(i, full_close[i], color='red', label='Sell Signal' if i == 0 else \"\", marker='v', s=100)\n",
    "plt.axvline(x=input_window-1, color='gray', linestyle='--', label='Prediction Start')\n",
    "plt.title('Close Price and Reversal Signals')\n",
    "plt.legend()\n",
    "\n",
    "# RSI chart\n",
    "plt.subplot(2, 1, 2)\n",
    "plt.plot(rsi_series, label='RSI', color='purple')\n",
    "plt.axhline(buy_zone, color='green', linestyle='--', label='Buy Zone')\n",
    "plt.axhline(sell_zone, color='red', linestyle='--', label='Sell Zone')\n",
    "plt.axvline(x=input_window-1, color='gray', linestyle='--', label='Prediction Start')\n",
    "plt.title('RSI')\n",
    "plt.legend()\n",
    "\n",
    "plt.tight_layout()\n",
    "plt.show()\n"
   ]
  }
 ],
 "metadata": {
  "kernelspec": {
   "display_name": "Python 3",
   "language": "python",
   "name": "python3"
  },
  "language_info": {
   "codemirror_mode": {
    "name": "ipython",
    "version": 2
   },
   "file_extension": ".py",
   "mimetype": "text/x-python",
   "name": "python",
   "nbconvert_exporter": "python",
   "pygments_lexer": "ipython2",
   "version": "2.7.6"
  }
 },
 "nbformat": 4,
 "nbformat_minor": 0
}
