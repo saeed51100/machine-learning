{
 "cells": [
  {
   "cell_type": "markdown",
   "source": [
    "# RSI model-02\n",
    "https://chatgpt.com/c/67fc9738-fe44-800a-8311-114bb4f82b3b"
   ],
   "metadata": {
    "collapsed": false,
    "pycharm": {
     "name": "#%% md\n"
    }
   }
  },
  {
   "cell_type": "code",
   "source": [
    "import pandas as pd\n",
    "import numpy as np\n",
    "import matplotlib.pyplot as plt\n",
    "from sklearn.model_selection import train_test_split\n",
    "from tensorflow.keras.models import Sequential\n",
    "from tensorflow.keras.layers import LSTM, Dense\n",
    "from tensorflow.keras.optimizers import Adam\n",
    "from ta.momentum import RSIIndicator\n",
    "import matplotlib.pyplot as plt\n",
    "import matplotlib.dates as mdates\n",
    "import seaborn as sns\n"
   ],
   "metadata": {
    "collapsed": false,
    "pycharm": {
     "name": "#%%\n"
    }
   },
   "outputs": [],
   "execution_count": null
  },
  {
   "metadata": {},
   "cell_type": "code",
   "source": [
    "# Load full training data\n",
    "df = pd.read_csv(\"XAGUSD-H1-rates.csv\", sep=r'\\s+', engine='python')\n",
    "df.columns = ['Date', 'Time', 'Open', 'High', 'Low', 'Close', 'TickVol', 'Vol', 'Spread']\n",
    "\n",
    "# Convert to datetime\n",
    "df['Datetime'] = pd.to_datetime(df['Date'] + ' ' + df['Time'])\n",
    "df = df.sort_values('Datetime')\n",
    "df.reset_index(drop=True, inplace=True)\n",
    "\n",
    "# Use RSIIndicator from ta\n",
    "rsi = RSIIndicator(close=df['Close'], window=14)\n",
    "df['RSI'] = rsi.rsi()\n",
    "\n",
    "# Drop NaN rows from RSI calculation\n",
    "df.dropna(inplace=True)"
   ],
   "outputs": [],
   "execution_count": null
  },
  {
   "metadata": {},
   "cell_type": "code",
   "source": [
    "# Labeling reversal (RSI 30/70)\n",
    "def label_reversal_targets(data, future_window=5):\n",
    "    labels = []\n",
    "    for i in range(len(data) - future_window):\n",
    "        rsi_now = data.iloc[i]['RSI']\n",
    "        rsi_future = data.iloc[i+1:i+future_window+1]['RSI']\n",
    "\n",
    "        if rsi_now < 30 and any(r > 35 for r in rsi_future):\n",
    "            labels.append(1)  # Bullish reversal\n",
    "        elif rsi_now > 70 and any(r < 65 for r in rsi_future):\n",
    "            labels.append(1)  # Bearish reversal\n",
    "        else:\n",
    "            labels.append(0)\n",
    "    return np.array(labels)\n",
    "\n",
    "labels = label_reversal_targets(df)\n"
   ],
   "outputs": [],
   "execution_count": null
  },
  {
   "metadata": {},
   "cell_type": "code",
   "source": [
    "# Prepare input windows\n",
    "SEQ_LEN = 30\n",
    "features = ['Open', 'High', 'Low', 'Close', 'RSI']\n",
    "\n",
    "X = []\n",
    "for i in range(len(df) - SEQ_LEN - 5):  # 5 for future reversal window\n",
    "    window = df.iloc[i:i+SEQ_LEN][features].values\n",
    "    X.append(window)\n",
    "\n",
    "X = np.array(X)\n",
    "y = labels[:len(X)]\n",
    "\n",
    "print(\"X shape:\", X.shape)\n",
    "print(\"y shape:\", y.shape)\n"
   ],
   "outputs": [],
   "execution_count": null
  },
  {
   "metadata": {},
   "cell_type": "code",
   "source": [
    "# Train/Test split\n",
    "X_train, X_val, y_train, y_val = train_test_split(X, y, test_size=0.2, shuffle=False)\n",
    "\n",
    "# LSTM model\n",
    "from tensorflow.keras.utils import to_categorical\n",
    "# Don't one-hot encode labels if you use sparse_categorical_crossentropy\n",
    "# y = to_categorical(y) ← not needed here\n",
    "\n",
    "model = Sequential([\n",
    "    LSTM(64, input_shape=(SEQ_LEN, len(features))),\n",
    "    Dense(32, activation='relu'),\n",
    "    Dense(3, activation='softmax')  # 3 classes\n",
    "])\n",
    "\n",
    "model.compile(optimizer=Adam(1e-3), loss='sparse_categorical_crossentropy', metrics=['accuracy'])\n",
    "\n",
    "# Training\n",
    "history = model.fit(X_train, y_train, epochs=2, batch_size=32, validation_data=(X_val, y_val))\n"
   ],
   "outputs": [],
   "execution_count": null
  },
  {
   "metadata": {},
   "cell_type": "code",
   "source": [
    "# Predict on rows1-30.csv\n",
    "df_input = pd.read_csv(\"new-data-for-test/rows-30-from-20240503.csv\", sep=r'\\s+', engine='python')\n",
    "df_input.columns = ['Date', 'Time', 'Open', 'High', 'Low', 'Close', 'TickVol', 'Vol', 'Spread']\n",
    "\n",
    "\n",
    "# Use RSIIndicator\n",
    "rsi_input = RSIIndicator(close=df_input['Close'], window=14)\n",
    "df_input['RSI'] = rsi_input.rsi()\n",
    "\n",
    "df_input.dropna(inplace=True)  # Drop NaNs from RSI\n",
    "\n",
    "# Build input sample\n",
    "sample = df_input[['Open', 'High', 'Low', 'Close', 'RSI']].values[-30:]\n",
    "sample = np.expand_dims(sample, axis=0)  # Shape: (1, 30, 5)\n",
    "\n",
    "\n",
    "# Predict\n",
    "predictions = model.predict(sample)  # shape: (1, 3)\n",
    "pred_class = np.argmax(predictions[0])\n",
    "pred_prob = predictions[0][pred_class]\n",
    "\n",
    "print(\"Reversal classification:\", [\"No reversal\", \"Bullish reversal\", \"Bearish reversal\"][pred_class])\n",
    "print(\"Confidence:\", round(pred_prob * 100, 2), \"%\")\n",
    "\n",
    "if pred_class == 1:\n",
    "    print(\"📈 Bullish reversal likely – consider buying!\")\n",
    "elif pred_class == 2:\n",
    "    print(\"📉 Bearish reversal likely – consider selling!\")\n",
    "else:\n",
    "    print(\"✅ No clear reversal – hold position.\")"
   ],
   "outputs": [],
   "execution_count": null
  },
  {
   "metadata": {},
   "cell_type": "code",
   "source": [
    "# Convert 'Date' and 'Time' to datetime for plotting\n",
    "df_input['Datetime'] = pd.to_datetime(df_input['Date'] + ' ' + df_input['Time'])\n",
    "\n",
    "# Set seaborn style\n",
    "sns.set(style=\"darkgrid\")\n",
    "fig, (ax1, ax2) = plt.subplots(2, 1, figsize=(14, 8), sharex=True, gridspec_kw={'height_ratios': [3, 1]})\n",
    "\n",
    "# --- Price Chart (Open & Close) ---\n",
    "ax1.plot(df_input['Datetime'], df_input['Open'], label='Open Price', color='skyblue', marker='o')\n",
    "ax1.plot(df_input['Datetime'], df_input['Close'], label='Close Price', color='orange', marker='o')\n",
    "ax1.set_ylabel(\"Price\")\n",
    "ax1.set_title(\"Last 30 Candles (Open & Close)\")\n",
    "ax1.legend()\n",
    "\n",
    "# --- RSI Chart ---\n",
    "ax2.plot(df_input['Datetime'], df_input['RSI'], label='RSI', color='purple', marker='.')\n",
    "ax2.axhline(70, color='red', linestyle='--', label='Overbought (70)')\n",
    "ax2.axhline(30, color='green', linestyle='--', label='Oversold (30)')\n",
    "ax2.set_ylabel(\"RSI\")\n",
    "ax2.set_title(\"RSI Indicator\")\n",
    "ax2.legend()\n",
    "\n",
    "# --- Mark Predicted Reversal ---\n",
    "pred_time = df_input['Datetime'].iloc[-1]  # Last candle\n",
    "if pred_class == 1:\n",
    "    ax1.axvline(pred_time, color='green', linestyle='--', lw=2)\n",
    "    ax1.text(pred_time, df_input['High'].max(), 'Bullish Reversal', color='green', fontsize=12, ha='left')\n",
    "    ax2.axvline(pred_time, color='green', linestyle='--', lw=2)\n",
    "elif pred_class == 2:\n",
    "    ax1.axvline(pred_time, color='red', linestyle='--', lw=2)\n",
    "    ax1.text(pred_time, df_input['High'].max(), 'Bearish Reversal', color='red', fontsize=12, ha='left')\n",
    "    ax2.axvline(pred_time, color='red', linestyle='--', lw=2)\n",
    "else:\n",
    "    ax1.axvline(pred_time, color='gray', linestyle='--', lw=2)\n",
    "    ax1.text(pred_time, df_input['High'].max(), 'No Reversal', color='gray', fontsize=12, ha='left')\n",
    "    ax2.axvline(pred_time, color='gray', linestyle='--', lw=2)\n",
    "\n",
    "# Format x-axis\n",
    "ax2.xaxis.set_major_formatter(mdates.DateFormatter('%Y-%m-%d %H:%M'))\n",
    "plt.xticks(rotation=45)\n",
    "plt.tight_layout()\n",
    "plt.show()"
   ],
   "outputs": [],
   "execution_count": null
  }
 ],
 "metadata": {
  "kernelspec": {
   "display_name": "Python 3",
   "language": "python",
   "name": "python3"
  },
  "language_info": {
   "codemirror_mode": {
    "name": "ipython",
    "version": 2
   },
   "file_extension": ".py",
   "mimetype": "text/x-python",
   "name": "python",
   "nbconvert_exporter": "python",
   "pygments_lexer": "ipython2",
   "version": "2.7.6"
  }
 },
 "nbformat": 4,
 "nbformat_minor": 0
}
