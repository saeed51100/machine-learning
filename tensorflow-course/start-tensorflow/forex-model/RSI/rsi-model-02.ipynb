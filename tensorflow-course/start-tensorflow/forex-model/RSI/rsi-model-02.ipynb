{
 "cells": [
  {
   "cell_type": "markdown",
   "source": "# RSI model-02",
   "metadata": {
    "collapsed": false,
    "pycharm": {
     "name": "#%% md\n"
    }
   }
  },
  {
   "cell_type": "code",
   "source": [
    "import pandas as pd\n",
    "import numpy as np\n",
    "import matplotlib.pyplot as plt\n",
    "from sklearn.model_selection import train_test_split\n",
    "from tensorflow.keras.models import Sequential\n",
    "from tensorflow.keras.layers import LSTM, Dense\n",
    "from tensorflow.keras.optimizers import Adam\n",
    "from ta.momentum import RSIIndicator"
   ],
   "metadata": {
    "collapsed": false,
    "pycharm": {
     "name": "#%%\n"
    }
   },
   "outputs": [],
   "execution_count": null
  },
  {
   "metadata": {},
   "cell_type": "code",
   "source": [
    "# Load full training data\n",
    "df = pd.read_csv(\"XAGUSD-H1-rates.csv\", sep=r'\\s+', engine='python')\n",
    "df.columns = ['Date', 'Time', 'Open', 'High', 'Low', 'Close', 'TickVol', 'Vol', 'Spread']\n",
    "\n",
    "# Convert to datetime\n",
    "df['Datetime'] = pd.to_datetime(df['Date'] + ' ' + df['Time'])\n",
    "df = df.sort_values('Datetime')\n",
    "df.reset_index(drop=True, inplace=True)\n",
    "\n",
    "# Use RSIIndicator from ta\n",
    "rsi = RSIIndicator(close=df['Close'], window=14)\n",
    "df['RSI'] = rsi.rsi()\n",
    "\n",
    "# Drop NaN rows from RSI calculation\n",
    "df.dropna(inplace=True)"
   ],
   "outputs": [],
   "execution_count": null
  },
  {
   "metadata": {},
   "cell_type": "code",
   "source": [
    "# Labeling reversal (RSI 30/70)\n",
    "def label_reversal_targets(data, future_window=5):\n",
    "    labels = []\n",
    "    for i in range(len(data) - future_window):\n",
    "        rsi_now = data.iloc[i]['RSI']\n",
    "        rsi_future = data.iloc[i+1:i+future_window+1]['RSI']\n",
    "\n",
    "        if rsi_now < 30 and any(r > 35 for r in rsi_future):\n",
    "            labels.append(1)  # Bullish reversal\n",
    "        elif rsi_now > 70 and any(r < 65 for r in rsi_future):\n",
    "            labels.append(1)  # Bearish reversal\n",
    "        else:\n",
    "            labels.append(0)\n",
    "    return np.array(labels)\n",
    "\n",
    "labels = label_reversal_targets(df)\n"
   ],
   "outputs": [],
   "execution_count": null
  },
  {
   "metadata": {},
   "cell_type": "code",
   "source": [
    "# Prepare input windows\n",
    "SEQ_LEN = 30\n",
    "features = ['Open', 'High', 'Low', 'Close', 'RSI']\n",
    "\n",
    "X = []\n",
    "for i in range(len(df) - SEQ_LEN - 5):  # 5 for future reversal window\n",
    "    window = df.iloc[i:i+SEQ_LEN][features].values\n",
    "    X.append(window)\n",
    "\n",
    "X = np.array(X)\n",
    "y = labels[:len(X)]\n",
    "\n",
    "print(\"X shape:\", X.shape)\n",
    "print(\"y shape:\", y.shape)\n"
   ],
   "outputs": [],
   "execution_count": null
  },
  {
   "metadata": {},
   "cell_type": "code",
   "source": [
    "# Train/Test split\n",
    "X_train, X_val, y_train, y_val = train_test_split(X, y, test_size=0.2, shuffle=False)\n",
    "\n",
    "# LSTM model\n",
    "model = Sequential([\n",
    "    LSTM(64, input_shape=(SEQ_LEN, len(features))),\n",
    "    Dense(32, activation='relu'),\n",
    "    Dense(1, activation='sigmoid')\n",
    "])\n",
    "\n",
    "model.compile(optimizer=Adam(1e-3), loss='binary_crossentropy', metrics=['accuracy'])\n",
    "model.summary()\n",
    "\n",
    "# Training\n",
    "history = model.fit(X_train, y_train, epochs=10, batch_size=32, validation_data=(X_val, y_val))\n"
   ],
   "outputs": [],
   "execution_count": null
  },
  {
   "metadata": {},
   "cell_type": "code",
   "source": [
    "# Predict on rows1-30.csv\n",
    "df_input = pd.read_csv(\"new-data-for-test/rows-30-from-20240503.csv\", sep=r'\\s+', engine='python')\n",
    "df_input.columns = ['Date', 'Time', 'Open', 'High', 'Low', 'Close', 'TickVol', 'Vol', 'Spread']\n",
    "\n",
    "\n",
    "# Use RSIIndicator\n",
    "rsi_input = RSIIndicator(close=df_input['Close'], window=14)\n",
    "df_input['RSI'] = rsi_input.rsi()\n",
    "\n",
    "df_input.dropna(inplace=True)  # Drop NaNs from RSI\n",
    "\n",
    "# Build input sample\n",
    "sample = df_input[['Open', 'High', 'Low', 'Close', 'RSI']].values[-30:]\n",
    "sample = np.expand_dims(sample, axis=0)  # Shape: (1, 30, 5)\n",
    "\n",
    "\n",
    "# Predict\n",
    "prediction = model.predict(sample)[0][0]\n",
    "print(\"Reversal probability in next 5 candles:\", round(prediction * 100, 2), \"%\")\n",
    "\n",
    "if prediction > 0.5:\n",
    "    print(\"⚠️ Likely reversal ahead!\")\n",
    "else:\n",
    "    print(\"✅ No reversal detected.\")\n"
   ],
   "outputs": [],
   "execution_count": null
  },
  {
   "metadata": {},
   "cell_type": "code",
   "source": [
    "import matplotlib.dates as mdates\n",
    "\n",
    "# Load 30 candles\n",
    "df_input = pd.read_csv(\"new-data-for-test/rows-30-from-20240503.csv\", sep=r'\\s+', engine='python')\n",
    "df_input.columns = ['Date', 'Time', 'Open', 'High', 'Low', 'Close', 'TickVol', 'Vol', 'Spread']\n",
    "df_input['Datetime'] = pd.to_datetime(df_input['Date'] + ' ' + df_input['Time'])\n",
    "\n",
    "# Compute RSI\n",
    "rsi_input = RSIIndicator(close=df_input['Close'], window=14)\n",
    "df_input['RSI'] = rsi_input.rsi()\n",
    "\n",
    "# Drop NaNs\n",
    "df_input = df_input.dropna().reset_index(drop=True)\n",
    "\n",
    "# Prepare model input (last 30 candles after RSI drop)\n",
    "sample = df_input[['Open', 'High', 'Low', 'Close', 'RSI']].values[-30:]\n",
    "sample_input = np.expand_dims(sample, axis=0)\n",
    "\n",
    "# Predict\n",
    "prediction = model.predict(sample_input)[0][0]\n",
    "\n",
    "# Plotting\n",
    "fig, (ax1, ax2) = plt.subplots(2, 1, figsize=(14, 8), sharex=True, gridspec_kw={'height_ratios': [3, 1]})\n",
    "fig.suptitle(\"Last 30 Candles + RSI with Reversal Prediction\", fontsize=16)\n",
    "\n",
    "# Plot candlesticks\n",
    "dates = df_input['Datetime']\n",
    "for i in range(len(df_input)):\n",
    "    color = 'green' if df_input['Close'][i] >= df_input['Open'][i] else 'red'\n",
    "    ax1.plot([dates[i], dates[i]], [df_input['Low'][i], df_input['High'][i]], color=color)\n",
    "    ax1.plot([dates[i], dates[i]], [df_input['Open'][i], df_input['Close'][i]], color=color, linewidth=5)\n",
    "\n",
    "ax1.set_ylabel(\"Price\")\n",
    "ax1.grid(True)\n",
    "\n",
    "# Show reversal prediction\n",
    "if prediction > 0.5:\n",
    "    ax1.set_title(f\"⚠️ Reversal Likely ({round(prediction * 100, 2)}%)\", color='red')\n",
    "else:\n",
    "    ax1.set_title(f\"✅ No Reversal Detected ({round((1 - prediction) * 100, 2)}%)\", color='green')\n",
    "\n",
    "# Plot RSI\n",
    "ax2.plot(dates, df_input['RSI'], label=\"RSI\", color='blue')\n",
    "ax2.axhline(70, color='red', linestyle='--', label=\"Overbought (70)\")\n",
    "ax2.axhline(30, color='green', linestyle='--', label=\"Oversold (30)\")\n",
    "ax2.set_ylabel(\"RSI\")\n",
    "ax2.set_ylim(0, 100)\n",
    "ax2.legend()\n",
    "ax2.grid(True)\n",
    "\n",
    "# Format x-axis\n",
    "ax2.xaxis.set_major_formatter(mdates.DateFormatter('%m-%d %H:%M'))\n",
    "plt.xticks(rotation=45)\n",
    "plt.tight_layout()\n",
    "plt.show()\n"
   ],
   "outputs": [],
   "execution_count": null
  }
 ],
 "metadata": {
  "kernelspec": {
   "display_name": "Python 3",
   "language": "python",
   "name": "python3"
  },
  "language_info": {
   "codemirror_mode": {
    "name": "ipython",
    "version": 2
   },
   "file_extension": ".py",
   "mimetype": "text/x-python",
   "name": "python",
   "nbconvert_exporter": "python",
   "pygments_lexer": "ipython2",
   "version": "2.7.6"
  }
 },
 "nbformat": 4,
 "nbformat_minor": 0
}
