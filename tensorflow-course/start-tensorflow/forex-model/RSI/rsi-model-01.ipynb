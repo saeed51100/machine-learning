{
 "cells": [
  {
   "cell_type": "markdown",
   "source": [
    "# RSI model\n",
    "https://chatgpt.com/c/67f9fbc1-777c-800a-a56a-aadd83458b40"
   ],
   "metadata": {
    "collapsed": false,
    "pycharm": {
     "name": "#%% md\n"
    }
   }
  },
  {
   "cell_type": "code",
   "source": [
    "# 📌 Cell 1: Imports\n",
    "import pandas as pd\n",
    "import numpy as np\n",
    "import matplotlib.pyplot as plt\n",
    "from sklearn.model_selection import train_test_split\n",
    "from tensorflow.keras.models import Sequential\n",
    "from tensorflow.keras.layers import LSTM, Dense\n",
    "from tensorflow.keras.optimizers import Adam"
   ],
   "metadata": {
    "collapsed": false,
    "pycharm": {
     "name": "#%%\n"
    }
   },
   "outputs": [],
   "execution_count": null
  },
  {
   "metadata": {},
   "cell_type": "code",
   "source": [
    "# RSI Calculation\n",
    "def compute_rsi(series, period=14):\n",
    "    delta = series.diff()\n",
    "    gain = delta.clip(lower=0)\n",
    "    loss = -delta.clip(upper=0)\n",
    "\n",
    "    avg_gain = gain.rolling(window=period).mean()\n",
    "    avg_loss = loss.rolling(window=period).mean()\n",
    "\n",
    "    rs = avg_gain / (avg_loss + 1e-10)\n",
    "    rsi = 100 - (100 / (1 + rs))\n",
    "    return rsi\n"
   ],
   "outputs": [],
   "execution_count": null
  },
  {
   "metadata": {},
   "cell_type": "code",
   "source": [
    "# 📌 Cell 2: Load full training data\n",
    "df = pd.read_csv(\"XAGUSD-H1-rates.csv\", sep=r'\\s+', engine='python')\n",
    "df.columns = ['Date', 'Time', 'Open', 'High', 'Low', 'Close', 'TickVol', 'Vol', 'Spread']\n",
    "\n",
    "# Convert to datetime\n",
    "df['Datetime'] = pd.to_datetime(df['Date'] + ' ' + df['Time'])\n",
    "df = df.sort_values('Datetime')\n",
    "df.reset_index(drop=True, inplace=True)\n",
    "\n",
    "# Compute RSI\n",
    "df['RSI'] = compute_rsi(df['Close'], period=14)\n",
    "\n",
    "# Drop NaN rows from RSI calculation\n",
    "df.dropna(inplace=True)\n"
   ],
   "outputs": [],
   "execution_count": null
  },
  {
   "metadata": {},
   "cell_type": "code",
   "source": [
    "# 📌 Cell 3: Labeling reversal (RSI 30/70)\n",
    "def label_reversal_targets(data, future_window=5):\n",
    "    labels = []\n",
    "    for i in range(len(data) - future_window):\n",
    "        rsi_now = data.iloc[i]['RSI']\n",
    "        rsi_future = data.iloc[i+1:i+future_window+1]['RSI']\n",
    "\n",
    "        if rsi_now < 30 and any(r > 35 for r in rsi_future):\n",
    "            labels.append(1)  # Bullish reversal\n",
    "        elif rsi_now > 70 and any(r < 65 for r in rsi_future):\n",
    "            labels.append(1)  # Bearish reversal\n",
    "        else:\n",
    "            labels.append(0)\n",
    "    return np.array(labels)\n",
    "\n",
    "labels = label_reversal_targets(df)\n"
   ],
   "outputs": [],
   "execution_count": null
  },
  {
   "metadata": {},
   "cell_type": "code",
   "source": [
    "# 📌 Cell 4: Prepare input windows\n",
    "SEQ_LEN = 30\n",
    "features = ['Open', 'High', 'Low', 'Close', 'RSI']\n",
    "\n",
    "X = []\n",
    "for i in range(len(df) - SEQ_LEN - 5):  # 5 for future reversal window\n",
    "    window = df.iloc[i:i+SEQ_LEN][features].values\n",
    "    X.append(window)\n",
    "\n",
    "X = np.array(X)\n",
    "y = labels[:len(X)]\n",
    "\n",
    "print(\"X shape:\", X.shape)\n",
    "print(\"y shape:\", y.shape)\n"
   ],
   "outputs": [],
   "execution_count": null
  },
  {
   "metadata": {},
   "cell_type": "code",
   "source": [
    "# 📌 Cell 5: Train/Test split\n",
    "X_train, X_val, y_train, y_val = train_test_split(X, y, test_size=0.2, shuffle=False)\n",
    "\n",
    "# LSTM model\n",
    "model = Sequential([\n",
    "    LSTM(64, input_shape=(SEQ_LEN, len(features))),\n",
    "    Dense(32, activation='relu'),\n",
    "    Dense(1, activation='sigmoid')\n",
    "])\n",
    "\n",
    "model.compile(optimizer=Adam(1e-3), loss='binary_crossentropy', metrics=['accuracy'])\n",
    "model.summary()\n",
    "\n",
    "# Training\n",
    "history = model.fit(X_train, y_train, epochs=10, batch_size=32, validation_data=(X_val, y_val))\n"
   ],
   "outputs": [],
   "execution_count": null
  },
  {
   "metadata": {},
   "cell_type": "code",
   "source": [
    "# 📌 Cell 6: Predict on rows1-30.csv\n",
    "df_input = pd.read_csv(\"new-data-for-test/rows-30-from-20240503.csv\", sep=r'\\s+', engine='python')\n",
    "df_input.columns = ['Date', 'Time', 'Open', 'High', 'Low', 'Close', 'TickVol', 'Vol', 'Spread']\n",
    "df_input['RSI'] = compute_rsi(df_input['Close'], period=14)\n",
    "df_input.dropna(inplace=True)  # Drop NaNs from RSI\n",
    "\n",
    "# Build input sample\n",
    "sample = df_input[['Open', 'High', 'Low', 'Close', 'RSI']].values[-30:]\n",
    "sample = np.expand_dims(sample, axis=0)  # Shape: (1, 30, 5)\n",
    "\n",
    "# Predict\n",
    "prediction = model.predict(sample)[0][0]\n",
    "print(\"Reversal probability in next 5 candles:\", round(prediction * 100, 2), \"%\")\n",
    "\n",
    "if prediction > 0.5:\n",
    "    print(\"⚠️ Likely reversal ahead!\")\n",
    "else:\n",
    "    print(\"✅ No reversal detected.\")\n"
   ],
   "outputs": [],
   "execution_count": null
  }
 ],
 "metadata": {
  "kernelspec": {
   "display_name": "Python 3",
   "language": "python",
   "name": "python3"
  },
  "language_info": {
   "codemirror_mode": {
    "name": "ipython",
    "version": 2
   },
   "file_extension": ".py",
   "mimetype": "text/x-python",
   "name": "python",
   "nbconvert_exporter": "python",
   "pygments_lexer": "ipython2",
   "version": "2.7.6"
  }
 },
 "nbformat": 4,
 "nbformat_minor": 0
}
