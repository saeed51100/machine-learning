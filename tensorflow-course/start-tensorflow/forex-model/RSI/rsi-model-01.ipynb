{
 "cells": [
  {
   "cell_type": "markdown",
   "source": [
    "# RSI model\n",
    "https://chatgpt.com/c/67f9fbc1-777c-800a-a56a-aadd83458b40"
   ],
   "metadata": {
    "collapsed": false,
    "pycharm": {
     "name": "#%% md\n"
    }
   }
  },
  {
   "cell_type": "code",
   "source": [
    "import pandas as pd\n",
    "import numpy as np\n",
    "import matplotlib.pyplot as plt\n",
    "from sklearn.model_selection import train_test_split\n",
    "from tensorflow.keras.models import Sequential\n",
    "from tensorflow.keras.layers import LSTM, Dense\n",
    "from tensorflow.keras.optimizers import Adam\n",
    "from ta.momentum import RSIIndicator"
   ],
   "metadata": {
    "collapsed": false,
    "pycharm": {
     "name": "#%%\n"
    },
    "ExecuteTime": {
     "end_time": "2025-04-13T14:39:32.487668Z",
     "start_time": "2025-04-13T14:39:32.484147Z"
    }
   },
   "outputs": [],
   "execution_count": 15
  },
  {
   "metadata": {
    "ExecuteTime": {
     "end_time": "2025-04-13T14:39:33.025099Z",
     "start_time": "2025-04-13T14:39:32.537369Z"
    }
   },
   "cell_type": "code",
   "source": [
    "# Load full training data\n",
    "df = pd.read_csv(\"XAGUSD-H1-rates.csv\", sep=r'\\s+', engine='python')\n",
    "df.columns = ['Date', 'Time', 'Open', 'High', 'Low', 'Close', 'TickVol', 'Vol', 'Spread']\n",
    "\n",
    "# Convert to datetime\n",
    "df['Datetime'] = pd.to_datetime(df['Date'] + ' ' + df['Time'])\n",
    "df = df.sort_values('Datetime')\n",
    "df.reset_index(drop=True, inplace=True)\n",
    "\n",
    "# Use RSIIndicator from ta\n",
    "rsi = RSIIndicator(close=df['Close'], window=14)\n",
    "df['RSI'] = rsi.rsi()\n",
    "\n",
    "# Drop NaN rows from RSI calculation\n",
    "df.dropna(inplace=True)"
   ],
   "outputs": [],
   "execution_count": 16
  },
  {
   "metadata": {
    "ExecuteTime": {
     "end_time": "2025-04-13T14:39:38.742533Z",
     "start_time": "2025-04-13T14:39:33.042231Z"
    }
   },
   "cell_type": "code",
   "source": [
    "# Labeling reversal (RSI 30/70)\n",
    "def label_reversal_targets(data, future_window=5):\n",
    "    labels = []\n",
    "    for i in range(len(data) - future_window):\n",
    "        rsi_now = data.iloc[i]['RSI']\n",
    "        rsi_future = data.iloc[i+1:i+future_window+1]['RSI']\n",
    "\n",
    "        if rsi_now < 30 and any(r > 35 for r in rsi_future):\n",
    "            labels.append(1)  # Bullish reversal\n",
    "        elif rsi_now > 70 and any(r < 65 for r in rsi_future):\n",
    "            labels.append(1)  # Bearish reversal\n",
    "        else:\n",
    "            labels.append(0)\n",
    "    return np.array(labels)\n",
    "\n",
    "labels = label_reversal_targets(df)\n"
   ],
   "outputs": [],
   "execution_count": 17
  },
  {
   "metadata": {
    "ExecuteTime": {
     "end_time": "2025-04-13T14:39:55.547412Z",
     "start_time": "2025-04-13T14:39:38.758152Z"
    }
   },
   "cell_type": "code",
   "source": [
    "# Prepare input windows\n",
    "SEQ_LEN = 30\n",
    "features = ['Open', 'High', 'Low', 'Close', 'RSI']\n",
    "\n",
    "X = []\n",
    "for i in range(len(df) - SEQ_LEN - 5):  # 5 for future reversal window\n",
    "    window = df.iloc[i:i+SEQ_LEN][features].values\n",
    "    X.append(window)\n",
    "\n",
    "X = np.array(X)\n",
    "y = labels[:len(X)]\n",
    "\n",
    "print(\"X shape:\", X.shape)\n",
    "print(\"y shape:\", y.shape)\n"
   ],
   "outputs": [
    {
     "name": "stdout",
     "output_type": "stream",
     "text": [
      "X shape: (55035, 30, 5)\n",
      "y shape: (55035,)\n"
     ]
    }
   ],
   "execution_count": 18
  },
  {
   "metadata": {
    "ExecuteTime": {
     "end_time": "2025-04-13T14:41:06.116514Z",
     "start_time": "2025-04-13T14:39:55.591422Z"
    }
   },
   "cell_type": "code",
   "source": [
    "# Train/Test split\n",
    "X_train, X_val, y_train, y_val = train_test_split(X, y, test_size=0.2, shuffle=False)\n",
    "\n",
    "# LSTM model\n",
    "model = Sequential([\n",
    "    LSTM(64, input_shape=(SEQ_LEN, len(features))),\n",
    "    Dense(32, activation='relu'),\n",
    "    Dense(1, activation='sigmoid')\n",
    "])\n",
    "\n",
    "model.compile(optimizer=Adam(1e-3), loss='binary_crossentropy', metrics=['accuracy'])\n",
    "model.summary()\n",
    "\n",
    "# Training\n",
    "history = model.fit(X_train, y_train, epochs=10, batch_size=32, validation_data=(X_val, y_val))\n"
   ],
   "outputs": [
    {
     "name": "stderr",
     "output_type": "stream",
     "text": [
      "/home/saeed/repositories/machine-learning/tensorflow-course/start-tensorflow/envs/lib/python3.11/site-packages/keras/src/layers/rnn/rnn.py:200: UserWarning: Do not pass an `input_shape`/`input_dim` argument to a layer. When using Sequential models, prefer using an `Input(shape)` object as the first layer in the model instead.\n",
      "  super().__init__(**kwargs)\n"
     ]
    },
    {
     "data": {
      "text/plain": [
       "\u001B[1mModel: \"sequential_1\"\u001B[0m\n"
      ],
      "text/html": [
       "<pre style=\"white-space:pre;overflow-x:auto;line-height:normal;font-family:Menlo,'DejaVu Sans Mono',consolas,'Courier New',monospace\"><span style=\"font-weight: bold\">Model: \"sequential_1\"</span>\n",
       "</pre>\n"
      ]
     },
     "metadata": {},
     "output_type": "display_data"
    },
    {
     "data": {
      "text/plain": [
       "┏━━━━━━━━━━━━━━━━━━━━━━━━━━━━━━━━━┳━━━━━━━━━━━━━━━━━━━━━━━━┳━━━━━━━━━━━━━━━┓\n",
       "┃\u001B[1m \u001B[0m\u001B[1mLayer (type)                   \u001B[0m\u001B[1m \u001B[0m┃\u001B[1m \u001B[0m\u001B[1mOutput Shape          \u001B[0m\u001B[1m \u001B[0m┃\u001B[1m \u001B[0m\u001B[1m      Param #\u001B[0m\u001B[1m \u001B[0m┃\n",
       "┡━━━━━━━━━━━━━━━━━━━━━━━━━━━━━━━━━╇━━━━━━━━━━━━━━━━━━━━━━━━╇━━━━━━━━━━━━━━━┩\n",
       "│ lstm_1 (\u001B[38;5;33mLSTM\u001B[0m)                   │ (\u001B[38;5;45mNone\u001B[0m, \u001B[38;5;34m64\u001B[0m)             │        \u001B[38;5;34m17,920\u001B[0m │\n",
       "├─────────────────────────────────┼────────────────────────┼───────────────┤\n",
       "│ dense_2 (\u001B[38;5;33mDense\u001B[0m)                 │ (\u001B[38;5;45mNone\u001B[0m, \u001B[38;5;34m32\u001B[0m)             │         \u001B[38;5;34m2,080\u001B[0m │\n",
       "├─────────────────────────────────┼────────────────────────┼───────────────┤\n",
       "│ dense_3 (\u001B[38;5;33mDense\u001B[0m)                 │ (\u001B[38;5;45mNone\u001B[0m, \u001B[38;5;34m1\u001B[0m)              │            \u001B[38;5;34m33\u001B[0m │\n",
       "└─────────────────────────────────┴────────────────────────┴───────────────┘\n"
      ],
      "text/html": [
       "<pre style=\"white-space:pre;overflow-x:auto;line-height:normal;font-family:Menlo,'DejaVu Sans Mono',consolas,'Courier New',monospace\">┏━━━━━━━━━━━━━━━━━━━━━━━━━━━━━━━━━┳━━━━━━━━━━━━━━━━━━━━━━━━┳━━━━━━━━━━━━━━━┓\n",
       "┃<span style=\"font-weight: bold\"> Layer (type)                    </span>┃<span style=\"font-weight: bold\"> Output Shape           </span>┃<span style=\"font-weight: bold\">       Param # </span>┃\n",
       "┡━━━━━━━━━━━━━━━━━━━━━━━━━━━━━━━━━╇━━━━━━━━━━━━━━━━━━━━━━━━╇━━━━━━━━━━━━━━━┩\n",
       "│ lstm_1 (<span style=\"color: #0087ff; text-decoration-color: #0087ff\">LSTM</span>)                   │ (<span style=\"color: #00d7ff; text-decoration-color: #00d7ff\">None</span>, <span style=\"color: #00af00; text-decoration-color: #00af00\">64</span>)             │        <span style=\"color: #00af00; text-decoration-color: #00af00\">17,920</span> │\n",
       "├─────────────────────────────────┼────────────────────────┼───────────────┤\n",
       "│ dense_2 (<span style=\"color: #0087ff; text-decoration-color: #0087ff\">Dense</span>)                 │ (<span style=\"color: #00d7ff; text-decoration-color: #00d7ff\">None</span>, <span style=\"color: #00af00; text-decoration-color: #00af00\">32</span>)             │         <span style=\"color: #00af00; text-decoration-color: #00af00\">2,080</span> │\n",
       "├─────────────────────────────────┼────────────────────────┼───────────────┤\n",
       "│ dense_3 (<span style=\"color: #0087ff; text-decoration-color: #0087ff\">Dense</span>)                 │ (<span style=\"color: #00d7ff; text-decoration-color: #00d7ff\">None</span>, <span style=\"color: #00af00; text-decoration-color: #00af00\">1</span>)              │            <span style=\"color: #00af00; text-decoration-color: #00af00\">33</span> │\n",
       "└─────────────────────────────────┴────────────────────────┴───────────────┘\n",
       "</pre>\n"
      ]
     },
     "metadata": {},
     "output_type": "display_data"
    },
    {
     "data": {
      "text/plain": [
       "\u001B[1m Total params: \u001B[0m\u001B[38;5;34m20,033\u001B[0m (78.25 KB)\n"
      ],
      "text/html": [
       "<pre style=\"white-space:pre;overflow-x:auto;line-height:normal;font-family:Menlo,'DejaVu Sans Mono',consolas,'Courier New',monospace\"><span style=\"font-weight: bold\"> Total params: </span><span style=\"color: #00af00; text-decoration-color: #00af00\">20,033</span> (78.25 KB)\n",
       "</pre>\n"
      ]
     },
     "metadata": {},
     "output_type": "display_data"
    },
    {
     "data": {
      "text/plain": [
       "\u001B[1m Trainable params: \u001B[0m\u001B[38;5;34m20,033\u001B[0m (78.25 KB)\n"
      ],
      "text/html": [
       "<pre style=\"white-space:pre;overflow-x:auto;line-height:normal;font-family:Menlo,'DejaVu Sans Mono',consolas,'Courier New',monospace\"><span style=\"font-weight: bold\"> Trainable params: </span><span style=\"color: #00af00; text-decoration-color: #00af00\">20,033</span> (78.25 KB)\n",
       "</pre>\n"
      ]
     },
     "metadata": {},
     "output_type": "display_data"
    },
    {
     "data": {
      "text/plain": [
       "\u001B[1m Non-trainable params: \u001B[0m\u001B[38;5;34m0\u001B[0m (0.00 B)\n"
      ],
      "text/html": [
       "<pre style=\"white-space:pre;overflow-x:auto;line-height:normal;font-family:Menlo,'DejaVu Sans Mono',consolas,'Courier New',monospace\"><span style=\"font-weight: bold\"> Non-trainable params: </span><span style=\"color: #00af00; text-decoration-color: #00af00\">0</span> (0.00 B)\n",
       "</pre>\n"
      ]
     },
     "metadata": {},
     "output_type": "display_data"
    },
    {
     "name": "stdout",
     "output_type": "stream",
     "text": [
      "Epoch 1/10\n",
      "\u001B[1m1376/1376\u001B[0m \u001B[32m━━━━━━━━━━━━━━━━━━━━\u001B[0m\u001B[37m\u001B[0m \u001B[1m8s\u001B[0m 5ms/step - accuracy: 0.9530 - loss: 0.1945 - val_accuracy: 0.9486 - val_loss: 0.2032\n",
      "Epoch 2/10\n",
      "\u001B[1m1376/1376\u001B[0m \u001B[32m━━━━━━━━━━━━━━━━━━━━\u001B[0m\u001B[37m\u001B[0m \u001B[1m7s\u001B[0m 5ms/step - accuracy: 0.9539 - loss: 0.1862 - val_accuracy: 0.9486 - val_loss: 0.1748\n",
      "Epoch 3/10\n",
      "\u001B[1m1376/1376\u001B[0m \u001B[32m━━━━━━━━━━━━━━━━━━━━\u001B[0m\u001B[37m\u001B[0m \u001B[1m7s\u001B[0m 5ms/step - accuracy: 0.9527 - loss: 0.1677 - val_accuracy: 0.9487 - val_loss: 0.1798\n",
      "Epoch 4/10\n",
      "\u001B[1m1376/1376\u001B[0m \u001B[32m━━━━━━━━━━━━━━━━━━━━\u001B[0m\u001B[37m\u001B[0m \u001B[1m7s\u001B[0m 5ms/step - accuracy: 0.9568 - loss: 0.1293 - val_accuracy: 0.9439 - val_loss: 0.1483\n",
      "Epoch 5/10\n",
      "\u001B[1m1376/1376\u001B[0m \u001B[32m━━━━━━━━━━━━━━━━━━━━\u001B[0m\u001B[37m\u001B[0m \u001B[1m7s\u001B[0m 5ms/step - accuracy: 0.9575 - loss: 0.1119 - val_accuracy: 0.9548 - val_loss: 0.1083\n",
      "Epoch 6/10\n",
      "\u001B[1m1376/1376\u001B[0m \u001B[32m━━━━━━━━━━━━━━━━━━━━\u001B[0m\u001B[37m\u001B[0m \u001B[1m7s\u001B[0m 5ms/step - accuracy: 0.9594 - loss: 0.0999 - val_accuracy: 0.9500 - val_loss: 0.1140\n",
      "Epoch 7/10\n",
      "\u001B[1m1376/1376\u001B[0m \u001B[32m━━━━━━━━━━━━━━━━━━━━\u001B[0m\u001B[37m\u001B[0m \u001B[1m7s\u001B[0m 5ms/step - accuracy: 0.9631 - loss: 0.0891 - val_accuracy: 0.9597 - val_loss: 0.0934\n",
      "Epoch 8/10\n",
      "\u001B[1m1376/1376\u001B[0m \u001B[32m━━━━━━━━━━━━━━━━━━━━\u001B[0m\u001B[37m\u001B[0m \u001B[1m7s\u001B[0m 5ms/step - accuracy: 0.9637 - loss: 0.0852 - val_accuracy: 0.9629 - val_loss: 0.0839\n",
      "Epoch 9/10\n",
      "\u001B[1m1376/1376\u001B[0m \u001B[32m━━━━━━━━━━━━━━━━━━━━\u001B[0m\u001B[37m\u001B[0m \u001B[1m7s\u001B[0m 5ms/step - accuracy: 0.9631 - loss: 0.0808 - val_accuracy: 0.9435 - val_loss: 0.1081\n",
      "Epoch 10/10\n",
      "\u001B[1m1376/1376\u001B[0m \u001B[32m━━━━━━━━━━━━━━━━━━━━\u001B[0m\u001B[37m\u001B[0m \u001B[1m7s\u001B[0m 5ms/step - accuracy: 0.9640 - loss: 0.0814 - val_accuracy: 0.9657 - val_loss: 0.0753\n"
     ]
    }
   ],
   "execution_count": 19
  },
  {
   "metadata": {
    "ExecuteTime": {
     "end_time": "2025-04-13T14:41:10.385445Z",
     "start_time": "2025-04-13T14:41:10.305440Z"
    }
   },
   "cell_type": "code",
   "source": [
    "# Predict on rows1-30.csv\n",
    "df_input = pd.read_csv(\"new-data-for-test/rows-30-from-20240503.csv\", sep=r'\\s+', engine='python')\n",
    "df_input.columns = ['Date', 'Time', 'Open', 'High', 'Low', 'Close', 'TickVol', 'Vol', 'Spread']\n",
    "\n",
    "\n",
    "# Use RSIIndicator\n",
    "rsi_input = RSIIndicator(close=df_input['Close'], window=14)\n",
    "df_input['RSI'] = rsi_input.rsi()\n",
    "\n",
    "df_input.dropna(inplace=True)  # Drop NaNs from RSI\n",
    "\n",
    "# Build input sample\n",
    "sample = df_input[['Open', 'High', 'Low', 'Close', 'RSI']].values[-30:]\n",
    "sample = np.expand_dims(sample, axis=0)  # Shape: (1, 30, 5)\n",
    "\n",
    "\n",
    "# Predict\n",
    "prediction = model.predict(sample)[0][0]\n",
    "print(\"Reversal probability in next 5 candles:\", round(prediction * 100, 2), \"%\")\n",
    "\n",
    "if prediction > 0.5:\n",
    "    print(\"⚠️ Likely reversal ahead!\")\n",
    "else:\n",
    "    print(\"✅ No reversal detected.\")\n"
   ],
   "outputs": [
    {
     "name": "stdout",
     "output_type": "stream",
     "text": [
      "\u001B[1m1/1\u001B[0m \u001B[32m━━━━━━━━━━━━━━━━━━━━\u001B[0m\u001B[37m\u001B[0m \u001B[1m0s\u001B[0m 29ms/step\n",
      "Reversal probability in next 5 candles: 67.38 %\n",
      "⚠️ Likely reversal ahead!\n"
     ]
    }
   ],
   "execution_count": 21
  }
 ],
 "metadata": {
  "kernelspec": {
   "display_name": "Python 3",
   "language": "python",
   "name": "python3"
  },
  "language_info": {
   "codemirror_mode": {
    "name": "ipython",
    "version": 2
   },
   "file_extension": ".py",
   "mimetype": "text/x-python",
   "name": "python",
   "nbconvert_exporter": "python",
   "pygments_lexer": "ipython2",
   "version": "2.7.6"
  }
 },
 "nbformat": 4,
 "nbformat_minor": 0
}
