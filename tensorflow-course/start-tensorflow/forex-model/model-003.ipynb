{
 "cells": [
  {
   "cell_type": "markdown",
   "source": [
    "# Start RSI model\n",
    "https://chatgpt.com/c/67f7d833-ddf4-800a-87be-ea47a130482b"
   ],
   "metadata": {
    "collapsed": false,
    "pycharm": {
     "name": "#%% md\n"
    }
   }
  },
  {
   "cell_type": "code",
   "source": [
    "import numpy as np\n",
    "import pandas as pd\n",
    "import tensorflow as tf\n",
    "# from tensorflow.keras.models import Sequential\n",
    "from keras.src.models import Sequential\n",
    "# from tensorflow.keras.layers import LSTM, Dense\n",
    "from keras.src.layers import Dense\n",
    "from sklearn.preprocessing import MinMaxScaler\n",
    "from sklearn.metrics import mean_squared_error\n",
    "from ta.momentum import RSIIndicator\n",
    "from sklearn.model_selection import train_test_split"
   ],
   "metadata": {
    "collapsed": false,
    "pycharm": {
     "name": "#%%\n"
    },
    "ExecuteTime": {
     "end_time": "2025-04-11T18:01:36.100656Z",
     "start_time": "2025-04-11T18:01:36.095664Z"
    }
   },
   "outputs": [],
   "execution_count": 15
  },
  {
   "metadata": {
    "ExecuteTime": {
     "end_time": "2025-04-11T18:01:42.826518Z",
     "start_time": "2025-04-11T18:01:42.118988Z"
    }
   },
   "cell_type": "code",
   "source": [
    "# Load data\n",
    "df = pd.read_csv(\"src/XAGUSD-197001010000--H1-rates.csv\", sep=r'\\s+', engine='python')\n",
    "df['DATETIME'] = pd.to_datetime(df['<DATE>'] + ' ' + df['<TIME>'])\n",
    "df.set_index('DATETIME', inplace=True)\n",
    "df = df.drop(columns=['<DATE>', '<TIME>'])"
   ],
   "outputs": [],
   "execution_count": 16
  },
  {
   "metadata": {
    "ExecuteTime": {
     "end_time": "2025-04-11T18:01:43.860458Z",
     "start_time": "2025-04-11T18:01:43.857953Z"
    }
   },
   "cell_type": "code",
   "source": [
    "# Rename for clarity\n",
    "df.columns = ['OPEN', 'HIGH', 'LOW', 'CLOSE', 'TICKVOL', 'VOL', 'SPREAD']"
   ],
   "outputs": [],
   "execution_count": 17
  },
  {
   "metadata": {
    "ExecuteTime": {
     "end_time": "2025-04-11T18:01:47.986747Z",
     "start_time": "2025-04-11T18:01:47.979029Z"
    }
   },
   "cell_type": "code",
   "source": [
    "# Calculate RSI\n",
    "rsi = RSIIndicator(df['CLOSE'], window=14).rsi()\n",
    "df['RSI'] = rsi"
   ],
   "outputs": [],
   "execution_count": 19
  },
  {
   "metadata": {
    "ExecuteTime": {
     "end_time": "2025-04-11T18:01:50.838253Z",
     "start_time": "2025-04-11T18:01:49.266231Z"
    }
   },
   "cell_type": "code",
   "source": [
    "# Create labels: 1 = reversal coming, 0 = no reversal\n",
    "# Rule: RSI crosses 70 downward = SELL, RSI crosses 30 upward = BUY\n",
    "df['label'] = 0\n",
    "for i in range(1, len(df)):\n",
    "    if df['RSI'].iloc[i - 1] > 70 >= df['RSI'].iloc[i]:\n",
    "        df.loc[df.index[i], 'label'] = 1  # possible SELL\n",
    "    elif df['RSI'].iloc[i - 1] < 30 <= df['RSI'].iloc[i]:\n",
    "        df.loc[df.index[i], 'label'] = 1  # possible BUY\n",
    "\n",
    "df = df.dropna()"
   ],
   "outputs": [],
   "execution_count": 20
  },
  {
   "metadata": {
    "ExecuteTime": {
     "end_time": "2025-04-11T18:01:53.377994Z",
     "start_time": "2025-04-11T18:01:53.363738Z"
    }
   },
   "cell_type": "code",
   "source": [
    "# Normalize features\n",
    "features = ['OPEN', 'HIGH', 'LOW', 'CLOSE', 'TICKVOL', 'VOL', 'SPREAD', 'RSI']\n",
    "scaler = MinMaxScaler()\n",
    "df_scaled = scaler.fit_transform(df[features])\n",
    "df_scaled = pd.DataFrame(df_scaled, columns=features, index=df.index)\n",
    "df_scaled['label'] = df['label']"
   ],
   "outputs": [],
   "execution_count": 21
  },
  {
   "metadata": {
    "ExecuteTime": {
     "end_time": "2025-04-11T18:02:28.371854Z",
     "start_time": "2025-04-11T18:01:55.800952Z"
    }
   },
   "cell_type": "code",
   "source": [
    "# Create sequences (e.g., past 100 candles as input)\n",
    "SEQUENCE_LENGTH = 100\n",
    "\n",
    "def create_sequences(data, seq_len):\n",
    "    X, y = [], []\n",
    "    for i in range(len(data) - seq_len):\n",
    "        seq = data.iloc[i:i+seq_len][features].values\n",
    "        label = data.iloc[i+seq_len]['label']\n",
    "        X.append(seq)\n",
    "        y.append(label)\n",
    "    return np.array(X), np.array(y)\n",
    "\n",
    "X, y = create_sequences(df_scaled, SEQUENCE_LENGTH)"
   ],
   "outputs": [],
   "execution_count": 22
  },
  {
   "metadata": {
    "ExecuteTime": {
     "end_time": "2025-04-11T18:02:37.046604Z",
     "start_time": "2025-04-11T18:02:36.916789Z"
    }
   },
   "cell_type": "code",
   "source": [
    "# Split\n",
    "X_train, X_test, y_train, y_test = train_test_split(X, y, test_size=0.2, shuffle=False)"
   ],
   "outputs": [],
   "execution_count": 23
  },
  {
   "metadata": {
    "ExecuteTime": {
     "end_time": "2025-04-11T18:02:41.716782Z",
     "start_time": "2025-04-11T18:02:41.686019Z"
    }
   },
   "cell_type": "code",
   "source": [
    "# Model\n",
    "model = Sequential([\n",
    "    LSTM(64, return_sequences=False, input_shape=(SEQUENCE_LENGTH, len(features))),\n",
    "    Dense(32, activation='relu'),\n",
    "    Dense(1, activation='sigmoid')\n",
    "])\n",
    "model.compile(optimizer='adam', loss='binary_crossentropy', metrics=['accuracy'])\n",
    "model.fit(X_train, y_train, epochs=10, batch_size=64, validation_split=0.2)"
   ],
   "outputs": [
    {
     "ename": "NameError",
     "evalue": "name 'LSTM' is not defined",
     "output_type": "error",
     "traceback": [
      "\u001B[31m---------------------------------------------------------------------------\u001B[39m",
      "\u001B[31mNameError\u001B[39m                                 Traceback (most recent call last)",
      "\u001B[36mCell\u001B[39m\u001B[36m \u001B[39m\u001B[32mIn[24]\u001B[39m\u001B[32m, line 3\u001B[39m\n\u001B[32m      1\u001B[39m \u001B[38;5;66;03m# Model\u001B[39;00m\n\u001B[32m      2\u001B[39m model = Sequential([\n\u001B[32m----> \u001B[39m\u001B[32m3\u001B[39m     \u001B[43mLSTM\u001B[49m(\u001B[32m64\u001B[39m, return_sequences=\u001B[38;5;28;01mFalse\u001B[39;00m, input_shape=(SEQUENCE_LENGTH, \u001B[38;5;28mlen\u001B[39m(features))),\n\u001B[32m      4\u001B[39m     Dense(\u001B[32m32\u001B[39m, activation=\u001B[33m'\u001B[39m\u001B[33mrelu\u001B[39m\u001B[33m'\u001B[39m),\n\u001B[32m      5\u001B[39m     Dense(\u001B[32m1\u001B[39m, activation=\u001B[33m'\u001B[39m\u001B[33msigmoid\u001B[39m\u001B[33m'\u001B[39m)\n\u001B[32m      6\u001B[39m ])\n\u001B[32m      7\u001B[39m model.compile(optimizer=\u001B[33m'\u001B[39m\u001B[33madam\u001B[39m\u001B[33m'\u001B[39m, loss=\u001B[33m'\u001B[39m\u001B[33mbinary_crossentropy\u001B[39m\u001B[33m'\u001B[39m, metrics=[\u001B[33m'\u001B[39m\u001B[33maccuracy\u001B[39m\u001B[33m'\u001B[39m])\n\u001B[32m      8\u001B[39m model.fit(X_train, y_train, epochs=\u001B[32m10\u001B[39m, batch_size=\u001B[32m64\u001B[39m, validation_split=\u001B[32m0.2\u001B[39m)\n",
      "\u001B[31mNameError\u001B[39m: name 'LSTM' is not defined"
     ]
    }
   ],
   "execution_count": 24
  }
 ],
 "metadata": {
  "kernelspec": {
   "display_name": "Python 3",
   "language": "python",
   "name": "python3"
  },
  "language_info": {
   "codemirror_mode": {
    "name": "ipython",
    "version": 2
   },
   "file_extension": ".py",
   "mimetype": "text/x-python",
   "name": "python",
   "nbconvert_exporter": "python",
   "pygments_lexer": "ipython2",
   "version": "2.7.6"
  }
 },
 "nbformat": 4,
 "nbformat_minor": 0
}
