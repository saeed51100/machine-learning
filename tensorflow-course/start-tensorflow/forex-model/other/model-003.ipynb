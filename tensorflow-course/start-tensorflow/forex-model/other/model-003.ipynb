{
 "cells": [
  {
   "cell_type": "markdown",
   "source": [
    "# Start RSI model\n",
    "https://chatgpt.com/c/67f7d833-ddf4-800a-87be-ea47a130482b"
   ],
   "metadata": {
    "collapsed": false,
    "pycharm": {
     "name": "#%% md\n"
    }
   }
  },
  {
   "cell_type": "code",
   "source": [
    "import numpy as np\n",
    "import pandas as pd\n",
    "import tensorflow as tf\n",
    "# from tensorflow.keras.models import Sequential\n",
    "from keras.src.models import Sequential\n",
    "# from tensorflow.keras.layers import LSTM, Dense\n",
    "from keras.src.layers import LSTM, Dense\n",
    "from sklearn.preprocessing import MinMaxScaler\n",
    "from sklearn.metrics import mean_squared_error\n",
    "from ta.momentum import RSIIndicator\n",
    "from sklearn.model_selection import train_test_split"
   ],
   "metadata": {
    "collapsed": false,
    "pycharm": {
     "name": "#%%\n"
    }
   },
   "outputs": [],
   "execution_count": null
  },
  {
   "metadata": {},
   "cell_type": "code",
   "source": [
    "# Load data\n",
    "df = pd.read_csv(\"../src/XAGUSD-197001010000--H1-rates.csv\", sep=r'\\s+', engine='python')\n",
    "df['DATETIME'] = pd.to_datetime(df['<DATE>'] + ' ' + df['<TIME>'])\n",
    "df.set_index('DATETIME', inplace=True)\n",
    "df = df.drop(columns=['<DATE>', '<TIME>'])"
   ],
   "outputs": [],
   "execution_count": null
  },
  {
   "metadata": {},
   "cell_type": "code",
   "source": [
    "# Rename for clarity\n",
    "df.columns = ['OPEN', 'HIGH', 'LOW', 'CLOSE', 'TICKVOL', 'VOL', 'SPREAD']"
   ],
   "outputs": [],
   "execution_count": null
  },
  {
   "metadata": {},
   "cell_type": "code",
   "source": [
    "# Calculate RSI\n",
    "rsi = RSIIndicator(df['CLOSE'], window=14).rsi()\n",
    "df['RSI'] = rsi"
   ],
   "outputs": [],
   "execution_count": null
  },
  {
   "metadata": {},
   "cell_type": "code",
   "source": [
    "# Create labels: 1 = reversal coming, 0 = no reversal\n",
    "# Rule: RSI crosses 70 downward = SELL, RSI crosses 30 upward = BUY\n",
    "df['label'] = 0\n",
    "for i in range(1, len(df)):\n",
    "    if df['RSI'].iloc[i - 1] > 70 >= df['RSI'].iloc[i]:\n",
    "        df.loc[df.index[i], 'label'] = 1  # possible SELL\n",
    "    elif df['RSI'].iloc[i - 1] < 30 <= df['RSI'].iloc[i]:\n",
    "        df.loc[df.index[i], 'label'] = 1  # possible BUY\n",
    "\n",
    "df = df.dropna()"
   ],
   "outputs": [],
   "execution_count": null
  },
  {
   "metadata": {},
   "cell_type": "code",
   "source": [
    "# Normalize features\n",
    "features = ['OPEN', 'HIGH', 'LOW', 'CLOSE', 'TICKVOL', 'VOL', 'SPREAD', 'RSI']\n",
    "scaler = MinMaxScaler()\n",
    "df_scaled = scaler.fit_transform(df[features])\n",
    "df_scaled = pd.DataFrame(df_scaled, columns=features, index=df.index)\n",
    "df_scaled['label'] = df['label']"
   ],
   "outputs": [],
   "execution_count": null
  },
  {
   "metadata": {},
   "cell_type": "code",
   "source": [
    "# Create sequences (e.g., past 100 candles as input)\n",
    "SEQUENCE_LENGTH = 100\n",
    "\n",
    "def create_sequences(data, seq_len):\n",
    "    X, y = [], []\n",
    "    for i in range(len(data) - seq_len):\n",
    "        seq = data.iloc[i:i+seq_len][features].values\n",
    "        label = data.iloc[i+seq_len]['label']\n",
    "        X.append(seq)\n",
    "        y.append(label)\n",
    "    return np.array(X), np.array(y)\n",
    "\n",
    "X, y = create_sequences(df_scaled, SEQUENCE_LENGTH)"
   ],
   "outputs": [],
   "execution_count": null
  },
  {
   "metadata": {},
   "cell_type": "code",
   "source": [
    "# Split\n",
    "X_train, X_test, y_train, y_test = train_test_split(X, y, test_size=0.2, shuffle=False)"
   ],
   "outputs": [],
   "execution_count": null
  },
  {
   "metadata": {},
   "cell_type": "code",
   "source": [
    "# Model\n",
    "model = Sequential([\n",
    "    LSTM(64, return_sequences=False, input_shape=(SEQUENCE_LENGTH, len(features))),\n",
    "    Dense(32, activation='relu'),\n",
    "    Dense(1, activation='sigmoid')\n",
    "])\n",
    "model.compile(optimizer='adam', loss='binary_crossentropy', metrics=['accuracy'])\n",
    "model.fit(X_train, y_train, epochs=10, batch_size=64, validation_split=0.2)"
   ],
   "outputs": [],
   "execution_count": null
  },
  {
   "metadata": {},
   "cell_type": "code",
   "source": [
    "# Predict on last 100 candles (real scenario)\n",
    "last_100 = df_scaled[-SEQUENCE_LENGTH:][features].values.reshape(1, SEQUENCE_LENGTH, len(features))\n",
    "reversal_prob = model.predict(last_100)[0][0]\n",
    "\n",
    "if reversal_prob > 0.5:\n",
    "    print(f\"🔁 Trend reversal likely! (probability: {reversal_prob:.2f})\")\n",
    "else:\n",
    "    print(f\"➡️ No reversal expected yet. (probability: {reversal_prob:.2f})\")"
   ],
   "outputs": [],
   "execution_count": null
  }
 ],
 "metadata": {
  "kernelspec": {
   "display_name": "Python 3",
   "language": "python",
   "name": "python3"
  },
  "language_info": {
   "codemirror_mode": {
    "name": "ipython",
    "version": 2
   },
   "file_extension": ".py",
   "mimetype": "text/x-python",
   "name": "python",
   "nbconvert_exporter": "python",
   "pygments_lexer": "ipython2",
   "version": "2.7.6"
  }
 },
 "nbformat": 4,
 "nbformat_minor": 0
}
