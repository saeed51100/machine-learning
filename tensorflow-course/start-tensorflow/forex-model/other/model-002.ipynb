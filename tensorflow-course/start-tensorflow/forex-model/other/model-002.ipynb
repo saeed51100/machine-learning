{
 "cells": [
  {
   "cell_type": "markdown",
   "source": [
    "# Feedforward Neural Networks — Training and Evaluating the Model on Forex Data\n",
    "a medium.com article"
   ],
   "metadata": {
    "collapsed": false,
    "pycharm": {
     "name": "#%% md\n"
    }
   }
  },
  {
   "cell_type": "code",
   "source": [
    "import numpy as np\n",
    "import pandas as pd\n",
    "import tensorflow as tf\n",
    "# from tensorflow.keras.models import Sequential\n",
    "from keras.src.models import Sequential\n",
    "# from tensorflow.keras.layers import Dense\n",
    "from keras.src.layers import Dense\n",
    "from sklearn.preprocessing import MinMaxScaler\n",
    "from sklearn.metrics import mean_squared_error"
   ],
   "metadata": {
    "collapsed": false,
    "pycharm": {
     "name": "#%%\n"
    }
   },
   "outputs": [],
   "execution_count": null
  },
  {
   "metadata": {},
   "cell_type": "code",
   "source": [
    "data = pd.read_csv(\"../src/XAGUSD-197001010000--H1-rates.csv\", sep=r'\\s+', engine='python')  # Handles space-delimited files\n",
    "data = data.dropna()"
   ],
   "outputs": [],
   "execution_count": null
  },
  {
   "metadata": {},
   "cell_type": "code",
   "source": [
    "# Parse date and time\n",
    "data['DATETIME'] = pd.to_datetime(data['<DATE>'] + ' ' + data['<TIME>'])\n",
    "data.set_index('DATETIME', inplace=True)"
   ],
   "outputs": [],
   "execution_count": null
  },
  {
   "metadata": {},
   "cell_type": "code",
   "source": [
    "# Drop old date/time columns\n",
    "data.drop(columns=['<DATE>', '<TIME>'], inplace=True)"
   ],
   "outputs": [],
   "execution_count": null
  },
  {
   "metadata": {},
   "cell_type": "code",
   "source": [
    "# Rename columns for clarity\n",
    "data.columns = ['OPEN', 'HIGH', 'LOW', 'CLOSE', 'TICKVOL', 'VOL', 'SPREAD']\n",
    "\n",
    "# Drop any rows with missing values (just in case)\n",
    "data = data.dropna()\n",
    "\n",
    "# Scale features\n",
    "scaler = MinMaxScaler()\n",
    "scaled_data = scaler.fit_transform(data)"
   ],
   "outputs": [],
   "execution_count": null
  },
  {
   "metadata": {},
   "cell_type": "code",
   "source": [
    "# Create features (X) and target (y) — predict next CLOSE based on current row\n",
    "X = scaled_data[:-1]\n",
    "y = scaled_data[1:, 3]  # column index 3 = 'CLOSE'\n",
    "y = y.reshape(-1, 1)  # reshape for Keras"
   ],
   "outputs": [],
   "execution_count": null
  },
  {
   "metadata": {},
   "cell_type": "code",
   "source": [
    "# Train/test split\n",
    "train_size = int(0.8 * len(X))\n",
    "X_train, X_test = X[:train_size], X[train_size:]\n",
    "y_train, y_test = y[:train_size], y[train_size:]"
   ],
   "outputs": [],
   "execution_count": null
  },
  {
   "metadata": {},
   "cell_type": "code",
   "source": [
    "# Build the model\n",
    "model = Sequential([\n",
    "    Dense(64, activation='relu', input_shape=(X.shape[1],)),\n",
    "    Dense(32, activation='relu'),\n",
    "    Dense(1)\n",
    "])\n",
    "\n",
    "# Compile the model\n",
    "model.compile(optimizer='adam', loss='mse')"
   ],
   "outputs": [],
   "execution_count": null
  },
  {
   "metadata": {},
   "cell_type": "code",
   "source": [
    "# Train the model\n",
    "history = model.fit(X_train, y_train, epochs=5, batch_size=64, validation_split=0.2, verbose=1)"
   ],
   "outputs": [],
   "execution_count": null
  },
  {
   "metadata": {},
   "cell_type": "code",
   "source": [
    "# Predict and inverse scale\n",
    "y_pred = model.predict(X_test)\n",
    "# Combine back for inverse transformation\n",
    "dummy = np.zeros((len(y_pred), scaled_data.shape[1]))\n",
    "dummy[:, 3] = y_pred.flatten()  # set predicted CLOSE\n",
    "y_pred_inv = scaler.inverse_transform(dummy)[:, 3]"
   ],
   "outputs": [],
   "execution_count": null
  },
  {
   "metadata": {},
   "cell_type": "code",
   "source": [
    "dummy[:, 3] = y_test.flatten()  # set true CLOSE\n",
    "y_test_inv = scaler.inverse_transform(dummy)[:, 3]"
   ],
   "outputs": [],
   "execution_count": null
  },
  {
   "metadata": {},
   "cell_type": "code",
   "source": [
    "# Calculate MSE\n",
    "mse = mean_squared_error(y_test_inv, y_pred_inv)\n",
    "print(f\"Mean Squared Error: {mse}\")"
   ],
   "outputs": [],
   "execution_count": null
  }
 ],
 "metadata": {
  "kernelspec": {
   "display_name": "Python 3",
   "language": "python",
   "name": "python3"
  },
  "language_info": {
   "codemirror_mode": {
    "name": "ipython",
    "version": 2
   },
   "file_extension": ".py",
   "mimetype": "text/x-python",
   "name": "python",
   "nbconvert_exporter": "python",
   "pygments_lexer": "ipython2",
   "version": "2.7.6"
  }
 },
 "nbformat": 4,
 "nbformat_minor": 0
}
