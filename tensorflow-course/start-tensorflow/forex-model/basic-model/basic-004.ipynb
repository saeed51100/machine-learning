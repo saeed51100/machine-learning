{
 "cells": [
  {
   "metadata": {},
   "cell_type": "markdown",
   "source": [
    "# basic-004\n",
    "https://chatgpt.com/c/6804748b-8800-800a-8422-35b642281b70"
   ],
   "id": "ef2ce5a760d02d04"
  },
  {
   "metadata": {
    "ExecuteTime": {
     "end_time": "2025-04-20T04:21:30.137018Z",
     "start_time": "2025-04-20T04:21:30.127565Z"
    }
   },
   "cell_type": "code",
   "source": [
    "# 📦 1. Imports\n",
    "import pandas as pd\n",
    "import numpy as np\n",
    "import matplotlib.pyplot as plt\n",
    "from sklearn.model_selection import train_test_split\n",
    "from sklearn.preprocessing import MinMaxScaler\n",
    "import tensorflow as tf\n",
    "from tensorflow.keras.models import Sequential\n",
    "from tensorflow.keras.layers import LSTM, Dense, Dropout"
   ],
   "id": "aac1e6becc3419a9",
   "outputs": [],
   "execution_count": 2
  },
  {
   "metadata": {
    "ExecuteTime": {
     "end_time": "2025-04-20T04:22:31.007615Z",
     "start_time": "2025-04-20T04:22:30.884731Z"
    }
   },
   "cell_type": "code",
   "source": [
    "# 📁 2. Load Datasets\n",
    "full_data = pd.read_csv('../datasets/XAGUSD-H1-rates.csv', sep=r'\\s+')\n",
    "latest_30 = pd.read_csv('../datasets/new-data-for-test/rows-30-from-20240503.csv', sep=r'\\s+')"
   ],
   "id": "17c9444b88748137",
   "outputs": [],
   "execution_count": 4
  },
  {
   "metadata": {
    "ExecuteTime": {
     "end_time": "2025-04-20T04:24:50.430286Z",
     "start_time": "2025-04-20T04:24:50.416927Z"
    }
   },
   "cell_type": "code",
   "source": [
    "# 🧹 3. Preprocessing\n",
    "# Drop unnecessary columns\n",
    "columns_to_use = ['<OPEN>', '<HIGH>', '<LOW>', '<CLOSE>', '<TICKVOL>']\n",
    "full_data = full_data[columns_to_use]\n",
    "latest_30 = latest_30[columns_to_use]"
   ],
   "id": "42c0cbab0e5d7eb9",
   "outputs": [],
   "execution_count": 6
  },
  {
   "metadata": {
    "ExecuteTime": {
     "end_time": "2025-04-20T04:26:03.891818Z",
     "start_time": "2025-04-20T04:26:03.871396Z"
    }
   },
   "cell_type": "code",
   "source": [
    "# Normalize the data\n",
    "scaler = MinMaxScaler()\n",
    "scaled_full = scaler.fit_transform(full_data)\n",
    "scaled_latest_30 = scaler.transform(latest_30)"
   ],
   "id": "348f3464f7b357e8",
   "outputs": [],
   "execution_count": 7
  },
  {
   "metadata": {
    "ExecuteTime": {
     "end_time": "2025-04-20T04:26:57.542725Z",
     "start_time": "2025-04-20T04:26:56.311226Z"
    }
   },
   "cell_type": "code",
   "source": [
    "# 🪜 4. Create sequences\n",
    "def create_sequences(data, input_steps=30, output_steps=100):\n",
    "    X, y = [], []\n",
    "    for i in range(len(data) - input_steps - output_steps):\n",
    "        X.append(data[i:i+input_steps])\n",
    "        y.append(data[i+input_steps:i+input_steps+output_steps])\n",
    "    return np.array(X), np.array(y)\n",
    "\n",
    "X, y = create_sequences(scaled_full, input_steps=30, output_steps=100)"
   ],
   "id": "909e3482c8cf9c98",
   "outputs": [],
   "execution_count": 8
  },
  {
   "metadata": {
    "ExecuteTime": {
     "end_time": "2025-04-20T04:27:24.497654Z",
     "start_time": "2025-04-20T04:27:21.773628Z"
    }
   },
   "cell_type": "code",
   "source": [
    "# 🧪 5. Train-test split\n",
    "X_train, X_test, y_train, y_test = train_test_split(X, y, test_size=0.2, random_state=42)"
   ],
   "id": "b827cc50913c3f7a",
   "outputs": [],
   "execution_count": 9
  },
  {
   "metadata": {
    "ExecuteTime": {
     "end_time": "2025-04-20T04:37:57.621325Z",
     "start_time": "2025-04-20T04:37:57.510373Z"
    }
   },
   "cell_type": "code",
   "source": [
    "from tensorflow.keras.layers import TimeDistributed, RepeatVector\n",
    "\n",
    "# 🧠 6. Build the Encoder-Decoder LSTM Model\n",
    "model = Sequential([\n",
    "    LSTM(128, input_shape=(30, len(columns_to_use))),  # encoder outputs a vector\n",
    "    RepeatVector(100),  # repeat the context vector 100 times\n",
    "    LSTM(64, return_sequences=True),  # decoder that outputs 100 steps\n",
    "    Dropout(0.2),\n",
    "    TimeDistributed(Dense(len(columns_to_use)))  # output shape: (None, 100, 5)\n",
    "])\n",
    "\n",
    "model.compile(optimizer='adam', loss='mse')\n",
    "model.summary()"
   ],
   "id": "7751a4e8e217ffb0",
   "outputs": [
    {
     "name": "stderr",
     "output_type": "stream",
     "text": [
      "/home/saeed/repozitories/machine-learning/tensorflow-course/start-tensorflow/envs/lib/python3.11/site-packages/keras/src/layers/rnn/rnn.py:200: UserWarning: Do not pass an `input_shape`/`input_dim` argument to a layer. When using Sequential models, prefer using an `Input(shape)` object as the first layer in the model instead.\n",
      "  super().__init__(**kwargs)\n"
     ]
    },
    {
     "data": {
      "text/plain": [
       "\u001B[1mModel: \"sequential_1\"\u001B[0m\n"
      ],
      "text/html": [
       "<pre style=\"white-space:pre;overflow-x:auto;line-height:normal;font-family:Menlo,'DejaVu Sans Mono',consolas,'Courier New',monospace\"><span style=\"font-weight: bold\">Model: \"sequential_1\"</span>\n",
       "</pre>\n"
      ]
     },
     "metadata": {},
     "output_type": "display_data"
    },
    {
     "data": {
      "text/plain": [
       "┏━━━━━━━━━━━━━━━━━━━━━━━━━━━━━━━━━┳━━━━━━━━━━━━━━━━━━━━━━━━┳━━━━━━━━━━━━━━━┓\n",
       "┃\u001B[1m \u001B[0m\u001B[1mLayer (type)                   \u001B[0m\u001B[1m \u001B[0m┃\u001B[1m \u001B[0m\u001B[1mOutput Shape          \u001B[0m\u001B[1m \u001B[0m┃\u001B[1m \u001B[0m\u001B[1m      Param #\u001B[0m\u001B[1m \u001B[0m┃\n",
       "┡━━━━━━━━━━━━━━━━━━━━━━━━━━━━━━━━━╇━━━━━━━━━━━━━━━━━━━━━━━━╇━━━━━━━━━━━━━━━┩\n",
       "│ lstm_2 (\u001B[38;5;33mLSTM\u001B[0m)                   │ (\u001B[38;5;45mNone\u001B[0m, \u001B[38;5;34m128\u001B[0m)            │        \u001B[38;5;34m68,608\u001B[0m │\n",
       "├─────────────────────────────────┼────────────────────────┼───────────────┤\n",
       "│ repeat_vector (\u001B[38;5;33mRepeatVector\u001B[0m)    │ (\u001B[38;5;45mNone\u001B[0m, \u001B[38;5;34m100\u001B[0m, \u001B[38;5;34m128\u001B[0m)       │             \u001B[38;5;34m0\u001B[0m │\n",
       "├─────────────────────────────────┼────────────────────────┼───────────────┤\n",
       "│ lstm_3 (\u001B[38;5;33mLSTM\u001B[0m)                   │ (\u001B[38;5;45mNone\u001B[0m, \u001B[38;5;34m100\u001B[0m, \u001B[38;5;34m64\u001B[0m)        │        \u001B[38;5;34m49,408\u001B[0m │\n",
       "├─────────────────────────────────┼────────────────────────┼───────────────┤\n",
       "│ dropout_2 (\u001B[38;5;33mDropout\u001B[0m)             │ (\u001B[38;5;45mNone\u001B[0m, \u001B[38;5;34m100\u001B[0m, \u001B[38;5;34m64\u001B[0m)        │             \u001B[38;5;34m0\u001B[0m │\n",
       "├─────────────────────────────────┼────────────────────────┼───────────────┤\n",
       "│ time_distributed                │ (\u001B[38;5;45mNone\u001B[0m, \u001B[38;5;34m100\u001B[0m, \u001B[38;5;34m5\u001B[0m)         │           \u001B[38;5;34m325\u001B[0m │\n",
       "│ (\u001B[38;5;33mTimeDistributed\u001B[0m)               │                        │               │\n",
       "└─────────────────────────────────┴────────────────────────┴───────────────┘\n"
      ],
      "text/html": [
       "<pre style=\"white-space:pre;overflow-x:auto;line-height:normal;font-family:Menlo,'DejaVu Sans Mono',consolas,'Courier New',monospace\">┏━━━━━━━━━━━━━━━━━━━━━━━━━━━━━━━━━┳━━━━━━━━━━━━━━━━━━━━━━━━┳━━━━━━━━━━━━━━━┓\n",
       "┃<span style=\"font-weight: bold\"> Layer (type)                    </span>┃<span style=\"font-weight: bold\"> Output Shape           </span>┃<span style=\"font-weight: bold\">       Param # </span>┃\n",
       "┡━━━━━━━━━━━━━━━━━━━━━━━━━━━━━━━━━╇━━━━━━━━━━━━━━━━━━━━━━━━╇━━━━━━━━━━━━━━━┩\n",
       "│ lstm_2 (<span style=\"color: #0087ff; text-decoration-color: #0087ff\">LSTM</span>)                   │ (<span style=\"color: #00d7ff; text-decoration-color: #00d7ff\">None</span>, <span style=\"color: #00af00; text-decoration-color: #00af00\">128</span>)            │        <span style=\"color: #00af00; text-decoration-color: #00af00\">68,608</span> │\n",
       "├─────────────────────────────────┼────────────────────────┼───────────────┤\n",
       "│ repeat_vector (<span style=\"color: #0087ff; text-decoration-color: #0087ff\">RepeatVector</span>)    │ (<span style=\"color: #00d7ff; text-decoration-color: #00d7ff\">None</span>, <span style=\"color: #00af00; text-decoration-color: #00af00\">100</span>, <span style=\"color: #00af00; text-decoration-color: #00af00\">128</span>)       │             <span style=\"color: #00af00; text-decoration-color: #00af00\">0</span> │\n",
       "├─────────────────────────────────┼────────────────────────┼───────────────┤\n",
       "│ lstm_3 (<span style=\"color: #0087ff; text-decoration-color: #0087ff\">LSTM</span>)                   │ (<span style=\"color: #00d7ff; text-decoration-color: #00d7ff\">None</span>, <span style=\"color: #00af00; text-decoration-color: #00af00\">100</span>, <span style=\"color: #00af00; text-decoration-color: #00af00\">64</span>)        │        <span style=\"color: #00af00; text-decoration-color: #00af00\">49,408</span> │\n",
       "├─────────────────────────────────┼────────────────────────┼───────────────┤\n",
       "│ dropout_2 (<span style=\"color: #0087ff; text-decoration-color: #0087ff\">Dropout</span>)             │ (<span style=\"color: #00d7ff; text-decoration-color: #00d7ff\">None</span>, <span style=\"color: #00af00; text-decoration-color: #00af00\">100</span>, <span style=\"color: #00af00; text-decoration-color: #00af00\">64</span>)        │             <span style=\"color: #00af00; text-decoration-color: #00af00\">0</span> │\n",
       "├─────────────────────────────────┼────────────────────────┼───────────────┤\n",
       "│ time_distributed                │ (<span style=\"color: #00d7ff; text-decoration-color: #00d7ff\">None</span>, <span style=\"color: #00af00; text-decoration-color: #00af00\">100</span>, <span style=\"color: #00af00; text-decoration-color: #00af00\">5</span>)         │           <span style=\"color: #00af00; text-decoration-color: #00af00\">325</span> │\n",
       "│ (<span style=\"color: #0087ff; text-decoration-color: #0087ff\">TimeDistributed</span>)               │                        │               │\n",
       "└─────────────────────────────────┴────────────────────────┴───────────────┘\n",
       "</pre>\n"
      ]
     },
     "metadata": {},
     "output_type": "display_data"
    },
    {
     "data": {
      "text/plain": [
       "\u001B[1m Total params: \u001B[0m\u001B[38;5;34m118,341\u001B[0m (462.27 KB)\n"
      ],
      "text/html": [
       "<pre style=\"white-space:pre;overflow-x:auto;line-height:normal;font-family:Menlo,'DejaVu Sans Mono',consolas,'Courier New',monospace\"><span style=\"font-weight: bold\"> Total params: </span><span style=\"color: #00af00; text-decoration-color: #00af00\">118,341</span> (462.27 KB)\n",
       "</pre>\n"
      ]
     },
     "metadata": {},
     "output_type": "display_data"
    },
    {
     "data": {
      "text/plain": [
       "\u001B[1m Trainable params: \u001B[0m\u001B[38;5;34m118,341\u001B[0m (462.27 KB)\n"
      ],
      "text/html": [
       "<pre style=\"white-space:pre;overflow-x:auto;line-height:normal;font-family:Menlo,'DejaVu Sans Mono',consolas,'Courier New',monospace\"><span style=\"font-weight: bold\"> Trainable params: </span><span style=\"color: #00af00; text-decoration-color: #00af00\">118,341</span> (462.27 KB)\n",
       "</pre>\n"
      ]
     },
     "metadata": {},
     "output_type": "display_data"
    },
    {
     "data": {
      "text/plain": [
       "\u001B[1m Non-trainable params: \u001B[0m\u001B[38;5;34m0\u001B[0m (0.00 B)\n"
      ],
      "text/html": [
       "<pre style=\"white-space:pre;overflow-x:auto;line-height:normal;font-family:Menlo,'DejaVu Sans Mono',consolas,'Courier New',monospace\"><span style=\"font-weight: bold\"> Non-trainable params: </span><span style=\"color: #00af00; text-decoration-color: #00af00\">0</span> (0.00 B)\n",
       "</pre>\n"
      ]
     },
     "metadata": {},
     "output_type": "display_data"
    }
   ],
   "execution_count": 14
  },
  {
   "metadata": {
    "ExecuteTime": {
     "end_time": "2025-04-20T05:01:05.485579Z",
     "start_time": "2025-04-20T04:38:58.039428Z"
    }
   },
   "cell_type": "code",
   "source": [
    "# 🚂 7. Train the model\n",
    "history = model.fit(X_train, y_train, epochs=10, batch_size=64, validation_split=0.1)"
   ],
   "id": "9bb831e39728eee",
   "outputs": [
    {
     "name": "stdout",
     "output_type": "stream",
     "text": [
      "Epoch 1/10\n"
     ]
    },
    {
     "name": "stderr",
     "output_type": "stream",
     "text": [
      "2025-04-20 08:08:58.752924: W external/local_xla/xla/tsl/framework/cpu_allocator_impl.cc:83] Allocation of 79130000 exceeds 10% of free system memory.\n"
     ]
    },
    {
     "name": "stdout",
     "output_type": "stream",
     "text": [
      "\u001B[1m619/619\u001B[0m \u001B[32m━━━━━━━━━━━━━━━━━━━━\u001B[0m\u001B[37m\u001B[0m \u001B[1m149s\u001B[0m 229ms/step - loss: 0.0104 - val_loss: 0.0011\n",
      "Epoch 2/10\n",
      "\u001B[1m619/619\u001B[0m \u001B[32m━━━━━━━━━━━━━━━━━━━━\u001B[0m\u001B[37m\u001B[0m \u001B[1m133s\u001B[0m 215ms/step - loss: 0.0021 - val_loss: 0.0010\n",
      "Epoch 3/10\n",
      "\u001B[1m619/619\u001B[0m \u001B[32m━━━━━━━━━━━━━━━━━━━━\u001B[0m\u001B[37m\u001B[0m \u001B[1m129s\u001B[0m 209ms/step - loss: 0.0017 - val_loss: 0.0010\n",
      "Epoch 4/10\n",
      "\u001B[1m619/619\u001B[0m \u001B[32m━━━━━━━━━━━━━━━━━━━━\u001B[0m\u001B[37m\u001B[0m \u001B[1m124s\u001B[0m 200ms/step - loss: 0.0015 - val_loss: 9.9294e-04\n",
      "Epoch 5/10\n",
      "\u001B[1m619/619\u001B[0m \u001B[32m━━━━━━━━━━━━━━━━━━━━\u001B[0m\u001B[37m\u001B[0m \u001B[1m126s\u001B[0m 203ms/step - loss: 0.0014 - val_loss: 0.0010\n",
      "Epoch 6/10\n",
      "\u001B[1m619/619\u001B[0m \u001B[32m━━━━━━━━━━━━━━━━━━━━\u001B[0m\u001B[37m\u001B[0m \u001B[1m132s\u001B[0m 213ms/step - loss: 0.0013 - val_loss: 0.0010\n",
      "Epoch 7/10\n",
      "\u001B[1m619/619\u001B[0m \u001B[32m━━━━━━━━━━━━━━━━━━━━\u001B[0m\u001B[37m\u001B[0m \u001B[1m134s\u001B[0m 217ms/step - loss: 0.0013 - val_loss: 0.0010\n",
      "Epoch 8/10\n",
      "\u001B[1m619/619\u001B[0m \u001B[32m━━━━━━━━━━━━━━━━━━━━\u001B[0m\u001B[37m\u001B[0m \u001B[1m133s\u001B[0m 214ms/step - loss: 0.0013 - val_loss: 9.8519e-04\n",
      "Epoch 9/10\n",
      "\u001B[1m619/619\u001B[0m \u001B[32m━━━━━━━━━━━━━━━━━━━━\u001B[0m\u001B[37m\u001B[0m \u001B[1m125s\u001B[0m 203ms/step - loss: 0.0012 - val_loss: 0.0010\n",
      "Epoch 10/10\n",
      "\u001B[1m619/619\u001B[0m \u001B[32m━━━━━━━━━━━━━━━━━━━━\u001B[0m\u001B[37m\u001B[0m \u001B[1m141s\u001B[0m 228ms/step - loss: 0.0012 - val_loss: 9.7787e-04\n"
     ]
    }
   ],
   "execution_count": 15
  },
  {
   "metadata": {
    "ExecuteTime": {
     "end_time": "2025-04-20T05:02:14.276474Z",
     "start_time": "2025-04-20T05:02:13.096180Z"
    }
   },
   "cell_type": "code",
   "source": [
    "# 🔮 8. Predict Next 100 Candles Using latest_30\n",
    "latest_30_input = np.expand_dims(scaled_latest_30, axis=0)  # shape: (1, 30, features)\n",
    "predicted_100 = model.predict(latest_30_input)[0]  # shape: (100, features)"
   ],
   "id": "275c3dc3e49b9126",
   "outputs": [
    {
     "name": "stdout",
     "output_type": "stream",
     "text": [
      "\u001B[1m1/1\u001B[0m \u001B[32m━━━━━━━━━━━━━━━━━━━━\u001B[0m\u001B[37m\u001B[0m \u001B[1m1s\u001B[0m 1s/step\n"
     ]
    }
   ],
   "execution_count": 16
  },
  {
   "metadata": {
    "ExecuteTime": {
     "end_time": "2025-04-20T05:02:21.895200Z",
     "start_time": "2025-04-20T05:02:21.887524Z"
    }
   },
   "cell_type": "code",
   "source": [
    "# 🔄 9. Inverse scale predictions to original values\n",
    "combined = np.concatenate([scaled_latest_30, predicted_100], axis=0)\n",
    "combined_inversed = scaler.inverse_transform(combined)\n",
    "real_30 = combined_inversed[:30]\n",
    "pred_100 = combined_inversed[30:]"
   ],
   "id": "96e6e942cc99b05",
   "outputs": [],
   "execution_count": 17
  },
  {
   "metadata": {
    "ExecuteTime": {
     "end_time": "2025-04-20T05:02:24.851134Z",
     "start_time": "2025-04-20T05:02:24.395082Z"
    }
   },
   "cell_type": "code",
   "source": [
    "# 📊 10. Plot 130 candles (30 real + 100 predicted)\n",
    "plt.figure(figsize=(15, 6))\n",
    "plt.plot(range(30), real_30[:, 3], label='Real Close', color='blue')      # Close price is index 3\n",
    "plt.plot(range(30, 130), pred_100[:, 3], label='Predicted Close', color='orange')\n",
    "plt.axvline(29, color='gray', linestyle='--')\n",
    "plt.title('Real (30) and Predicted (100) Close Prices')\n",
    "plt.xlabel('Hour Index')\n",
    "plt.ylabel('Close Price')\n",
    "plt.legend()\n",
    "plt.grid(True)\n",
    "plt.tight_layout()\n",
    "plt.show()\n"
   ],
   "id": "86389e25e182446e",
   "outputs": [
    {
     "data": {
      "text/plain": [
       "<Figure size 1500x600 with 1 Axes>"
      ],
      "image/png": "[encoded data removed]"
     },
     "metadata": {},
     "output_type": "display_data"
    }
   ],
   "execution_count": 18
  }
 ],
 "metadata": {
  "kernelspec": {
   "name": "python3",
   "language": "python",
   "display_name": "Python 3 (ipykernel)"
  }
 },
 "nbformat": 5,
 "nbformat_minor": 9
}
