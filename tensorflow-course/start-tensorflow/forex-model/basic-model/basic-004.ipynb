{
 "cells": [
  {
   "metadata": {},
   "cell_type": "markdown",
   "source": [
    "# basic-004\n",
    "https://chatgpt.com/c/6804748b-8800-800a-8422-35b642281b70"
   ],
   "id": "ef2ce5a760d02d04"
  },
  {
   "metadata": {},
   "cell_type": "code",
   "outputs": [],
   "execution_count": null,
   "source": [
    "# 📦 1. Imports\n",
    "import pandas as pd\n",
    "import numpy as np\n",
    "import matplotlib.pyplot as plt\n",
    "from sklearn.model_selection import train_test_split\n",
    "from sklearn.preprocessing import MinMaxScaler\n",
    "import tensorflow as tf\n",
    "from tensorflow.keras.models import Sequential\n",
    "from tensorflow.keras.layers import LSTM, Dense, Dropout"
   ],
   "id": "aac1e6becc3419a9"
  },
  {
   "metadata": {},
   "cell_type": "code",
   "outputs": [],
   "execution_count": null,
   "source": [
    "# 📁 2. Load Datasets\n",
    "full_data = pd.read_csv('full_data.csv', sep=r'\\s+')\n",
    "latest_30 = pd.read_csv('latest_30.csv', sep=r'\\s+')"
   ],
   "id": "17c9444b88748137"
  },
  {
   "metadata": {},
   "cell_type": "code",
   "outputs": [],
   "execution_count": null,
   "source": [
    "# 🧹 3. Preprocessing\n",
    "# Drop unnecessary columns\n",
    "columns_to_use = ['OPEN', 'HIGH', 'LOW', 'CLOSE', 'TICKVOL']\n",
    "full_data = full_data[columns_to_use]\n",
    "latest_30 = latest_30[columns_to_use]"
   ],
   "id": "42c0cbab0e5d7eb9"
  },
  {
   "metadata": {},
   "cell_type": "code",
   "outputs": [],
   "execution_count": null,
   "source": [
    "# Normalize the data\n",
    "scaler = MinMaxScaler()\n",
    "scaled_full = scaler.fit_transform(full_data)\n",
    "scaled_latest_30 = scaler.transform(latest_30)"
   ],
   "id": "348f3464f7b357e8"
  },
  {
   "metadata": {},
   "cell_type": "code",
   "outputs": [],
   "execution_count": null,
   "source": [
    "# 🪜 4. Create sequences\n",
    "def create_sequences(data, input_steps=30, output_steps=100):\n",
    "    X, y = [], []\n",
    "    for i in range(len(data) - input_steps - output_steps):\n",
    "        X.append(data[i:i+input_steps])\n",
    "        y.append(data[i+input_steps:i+input_steps+output_steps])\n",
    "    return np.array(X), np.array(y)\n",
    "\n",
    "X, y = create_sequences(scaled_full, input_steps=30, output_steps=100)"
   ],
   "id": "909e3482c8cf9c98"
  },
  {
   "metadata": {},
   "cell_type": "code",
   "outputs": [],
   "execution_count": null,
   "source": [
    "# 🧪 5. Train-test split\n",
    "X_train, X_test, y_train, y_test = train_test_split(X, y, test_size=0.2, random_state=42)"
   ],
   "id": "b827cc50913c3f7a"
  },
  {
   "metadata": {},
   "cell_type": "code",
   "outputs": [],
   "execution_count": null,
   "source": [
    "# 🧠 6. Build the LSTM Model\n",
    "model = Sequential([\n",
    "    LSTM(128, return_sequences=True, input_shape=(30, len(columns_to_use))),\n",
    "    Dropout(0.2),\n",
    "    LSTM(64, return_sequences=True),\n",
    "    Dropout(0.2),\n",
    "    Dense(len(columns_to_use))\n",
    "])\n",
    "\n",
    "model.compile(optimizer='adam', loss='mse')\n",
    "model.summary()"
   ],
   "id": "7751a4e8e217ffb0"
  },
  {
   "metadata": {},
   "cell_type": "code",
   "outputs": [],
   "execution_count": null,
   "source": [
    "# 🚂 7. Train the model\n",
    "history = model.fit(X_train, y_train, epochs=10, batch_size=64, validation_split=0.1)"
   ],
   "id": "9bb831e39728eee"
  },
  {
   "metadata": {},
   "cell_type": "code",
   "outputs": [],
   "execution_count": null,
   "source": [
    "# 🔮 8. Predict Next 100 Candles Using latest_30\n",
    "latest_30_input = np.expand_dims(scaled_latest_30, axis=0)  # shape: (1, 30, features)\n",
    "predicted_100 = model.predict(latest_30_input)[0]  # shape: (100, features)"
   ],
   "id": "275c3dc3e49b9126"
  },
  {
   "metadata": {},
   "cell_type": "code",
   "outputs": [],
   "execution_count": null,
   "source": [
    "# 🔄 9. Inverse scale predictions to original values\n",
    "combined = np.concatenate([scaled_latest_30, predicted_100], axis=0)\n",
    "combined_inversed = scaler.inverse_transform(combined)\n",
    "real_30 = combined_inversed[:30]\n",
    "pred_100 = combined_inversed[30:]"
   ],
   "id": "96e6e942cc99b05"
  },
  {
   "metadata": {},
   "cell_type": "code",
   "outputs": [],
   "execution_count": null,
   "source": [
    "# 📊 10. Plot 130 candles (30 real + 100 predicted)\n",
    "plt.figure(figsize=(15, 6))\n",
    "plt.plot(range(30), real_30[:, 3], label='Real Close', color='blue')      # Close price is index 3\n",
    "plt.plot(range(30, 130), pred_100[:, 3], label='Predicted Close', color='orange')\n",
    "plt.axvline(29, color='gray', linestyle='--')\n",
    "plt.title('Real (30) and Predicted (100) Close Prices')\n",
    "plt.xlabel('Hour Index')\n",
    "plt.ylabel('Close Price')\n",
    "plt.legend()\n",
    "plt.grid(True)\n",
    "plt.tight_layout()\n",
    "plt.show()\n"
   ],
   "id": "86389e25e182446e"
  }
 ],
 "metadata": {
  "kernelspec": {
   "name": "python3",
   "language": "python",
   "display_name": "Python 3 (ipykernel)"
  }
 },
 "nbformat": 5,
 "nbformat_minor": 9
}
