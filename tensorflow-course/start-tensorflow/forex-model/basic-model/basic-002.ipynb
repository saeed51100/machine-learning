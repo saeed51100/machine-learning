{
 "cells": [
  {
   "metadata": {},
   "cell_type": "markdown",
   "source": [
    "# basic-002\n",
    "https://chatgpt.com/c/680282ad-266c-800a-99bd-7eeb6918b9f9\n",
    "\n",
    "https://chatgpt.com/c/68032b7c-c018-800a-a512-dfcad123f4fb"
   ],
   "id": "ef2ce5a760d02d04"
  },
  {
   "metadata": {
    "ExecuteTime": {
     "end_time": "2025-04-19T10:56:52.797945Z",
     "start_time": "2025-04-19T10:56:45.502327Z"
    }
   },
   "cell_type": "code",
   "source": [
    "import pandas as pd\n",
    "import numpy as np\n",
    "import matplotlib.pyplot as plt\n",
    "from sklearn.preprocessing import MinMaxScaler\n",
    "from tensorflow.keras.models import Sequential\n",
    "from tensorflow.keras.layers import LSTM, Dense\n",
    "from tensorflow.keras.layers import Dropout"
   ],
   "id": "2904215b5cc2b0fd",
   "outputs": [
    {
     "name": "stderr",
     "output_type": "stream",
     "text": [
      "2025-04-19 14:26:49.075110: I tensorflow/core/platform/cpu_feature_guard.cc:210] This TensorFlow binary is optimized to use available CPU instructions in performance-critical operations.\n",
      "To enable the following instructions: SSE4.1 SSE4.2 AVX, in other operations, rebuild TensorFlow with the appropriate compiler flags.\n"
     ]
    }
   ],
   "execution_count": 1
  },
  {
   "metadata": {
    "ExecuteTime": {
     "end_time": "2025-04-19T10:57:01.966990Z",
     "start_time": "2025-04-19T10:57:01.961995Z"
    }
   },
   "cell_type": "code",
   "source": [
    "# ==== CONFIG ====\n",
    "SEQ_LEN = 60\n",
    "FUTURE_CANDLES = 100\n",
    "COLUMNS = ['CLOSE', 'TICKVOL']"
   ],
   "id": "ae01ee4a108704d8",
   "outputs": [],
   "execution_count": 2
  },
  {
   "metadata": {
    "ExecuteTime": {
     "end_time": "2025-04-19T05:16:38.868190Z",
     "start_time": "2025-04-19T05:16:38.333887Z"
    }
   },
   "cell_type": "code",
   "source": [
    "# ==== LOAD DATA ====\n",
    "df_train = pd.read_csv(\"../datasets/XAGUSD-H1-rates.csv\",\n",
    "                       sep=r'\\s+',\n",
    "                       engine='python',\n",
    "                       names=[\"DATE\", \"TIME\", \"OPEN\", \"HIGH\", \"LOW\", \"CLOSE\", \"TICKVOL\", \"VOL\", \"SPREAD\"],\n",
    "                       skiprows=1)\n",
    "df_test = pd.read_csv(\"../datasets/new-data-for-test/rows-30-from-20240503.csv\",\n",
    "                      sep=r'\\s+',\n",
    "                      engine='python',\n",
    "                      names=[\"DATE\", \"TIME\", \"OPEN\", \"HIGH\", \"LOW\", \"CLOSE\", \"TICKVOL\", \"VOL\", \"SPREAD\"],\n",
    "                      skiprows=1)"
   ],
   "id": "5113732c2e848268",
   "outputs": [],
   "execution_count": 3
  },
  {
   "metadata": {
    "ExecuteTime": {
     "end_time": "2025-04-19T05:16:38.896941Z",
     "start_time": "2025-04-19T05:16:38.878081Z"
    }
   },
   "cell_type": "code",
   "source": [
    "# Drop unnecessary columns\n",
    "df_train = df_train[COLUMNS]\n",
    "df_test = df_test[COLUMNS]\n",
    "\n",
    "# ==== SCALE ====\n",
    "scaler = MinMaxScaler()\n",
    "train_scaled = scaler.fit_transform(df_train)\n",
    "test_scaled = scaler.transform(df_test)"
   ],
   "id": "73724f863d82eace",
   "outputs": [],
   "execution_count": 4
  },
  {
   "metadata": {
    "ExecuteTime": {
     "end_time": "2025-04-19T05:16:39.064379Z",
     "start_time": "2025-04-19T05:16:38.960516Z"
    }
   },
   "cell_type": "code",
   "source": [
    "# ==== PREPARE TRAINING SEQUENCES ====\n",
    "X_train, y_train = [], []\n",
    "for i in range(SEQ_LEN, len(train_scaled)):\n",
    "    X_train.append(train_scaled[i-SEQ_LEN:i])\n",
    "    y_train.append(train_scaled[i, 0])  # index 0 is CLOSE\n",
    "X_train, y_train = np.array(X_train), np.array(y_train)"
   ],
   "id": "18c59196850579a5",
   "outputs": [],
   "execution_count": 5
  },
  {
   "metadata": {
    "ExecuteTime": {
     "end_time": "2025-04-19T05:37:46.815564Z",
     "start_time": "2025-04-19T05:16:39.073624Z"
    }
   },
   "cell_type": "code",
   "source": [
    "# ==== MODEL ====\n",
    "model = Sequential([\n",
    "    LSTM(128, return_sequences=True, input_shape=(SEQ_LEN, len(COLUMNS))),\n",
    "    Dropout(0.2),\n",
    "    LSTM(64),\n",
    "    Dropout(0.2),\n",
    "    Dense(64, activation='relu'),\n",
    "    Dense(1)  # if predicting CLOSE only\n",
    "])\n",
    "model.compile(optimizer='adam', loss='mse')\n",
    "model.fit(X_train, y_train, epochs=10, batch_size=64)\n"
   ],
   "id": "b7d04fd4eed3191",
   "outputs": [
    {
     "name": "stdout",
     "output_type": "stream",
     "text": [
      "Epoch 1/10\n"
     ]
    },
    {
     "name": "stderr",
     "output_type": "stream",
     "text": [
      "/home/saeed/repozitories/machine-learning/tensorflow-course/start-tensorflow/envs/lib/python3.11/site-packages/keras/src/layers/rnn/rnn.py:200: UserWarning: Do not pass an `input_shape`/`input_dim` argument to a layer. When using Sequential models, prefer using an `Input(shape)` object as the first layer in the model instead.\n",
      "  super().__init__(**kwargs)\n"
     ]
    },
    {
     "name": "stdout",
     "output_type": "stream",
     "text": [
      "\u001B[1m860/860\u001B[0m \u001B[32m━━━━━━━━━━━━━━━━━━━━\u001B[0m\u001B[37m\u001B[0m \u001B[1m135s\u001B[0m 152ms/step - loss: 0.0055\n",
      "Epoch 2/10\n",
      "\u001B[1m860/860\u001B[0m \u001B[32m━━━━━━━━━━━━━━━━━━━━\u001B[0m\u001B[37m\u001B[0m \u001B[1m121s\u001B[0m 141ms/step - loss: 3.3547e-04\n",
      "Epoch 3/10\n",
      "\u001B[1m860/860\u001B[0m \u001B[32m━━━━━━━━━━━━━━━━━━━━\u001B[0m\u001B[37m\u001B[0m \u001B[1m123s\u001B[0m 143ms/step - loss: 2.3854e-04\n",
      "Epoch 4/10\n",
      "\u001B[1m860/860\u001B[0m \u001B[32m━━━━━━━━━━━━━━━━━━━━\u001B[0m\u001B[37m\u001B[0m \u001B[1m124s\u001B[0m 144ms/step - loss: 1.8592e-04\n",
      "Epoch 5/10\n",
      "\u001B[1m860/860\u001B[0m \u001B[32m━━━━━━━━━━━━━━━━━━━━\u001B[0m\u001B[37m\u001B[0m \u001B[1m122s\u001B[0m 142ms/step - loss: 1.5689e-04\n",
      "Epoch 6/10\n",
      "\u001B[1m860/860\u001B[0m \u001B[32m━━━━━━━━━━━━━━━━━━━━\u001B[0m\u001B[37m\u001B[0m \u001B[1m129s\u001B[0m 151ms/step - loss: 1.4529e-04\n",
      "Epoch 7/10\n",
      "\u001B[1m860/860\u001B[0m \u001B[32m━━━━━━━━━━━━━━━━━━━━\u001B[0m\u001B[37m\u001B[0m \u001B[1m130s\u001B[0m 151ms/step - loss: 1.2699e-04\n",
      "Epoch 8/10\n",
      "\u001B[1m860/860\u001B[0m \u001B[32m━━━━━━━━━━━━━━━━━━━━\u001B[0m\u001B[37m\u001B[0m \u001B[1m123s\u001B[0m 143ms/step - loss: 1.1102e-04\n",
      "Epoch 9/10\n",
      "\u001B[1m860/860\u001B[0m \u001B[32m━━━━━━━━━━━━━━━━━━━━\u001B[0m\u001B[37m\u001B[0m \u001B[1m124s\u001B[0m 144ms/step - loss: 1.0319e-04\n",
      "Epoch 10/10\n",
      "\u001B[1m860/860\u001B[0m \u001B[32m━━━━━━━━━━━━━━━━━━━━\u001B[0m\u001B[37m\u001B[0m \u001B[1m135s\u001B[0m 157ms/step - loss: 9.3815e-05\n"
     ]
    },
    {
     "data": {
      "text/plain": [
       "<keras.src.callbacks.history.History at 0x7f5da63b2490>"
      ]
     },
     "execution_count": 6,
     "metadata": {},
     "output_type": "execute_result"
    }
   ],
   "execution_count": 6
  },
  {
   "metadata": {
    "ExecuteTime": {
     "end_time": "2025-04-19T05:37:46.949054Z",
     "start_time": "2025-04-19T05:37:46.938486Z"
    }
   },
   "cell_type": "code",
   "source": [
    "# ==== PREDICT NEXT 100 CANDLES ====\n",
    "# Use last 30 candles from train + 30 from test = 60\n",
    "combined_input = np.vstack([train_scaled[-30:], test_scaled])\n",
    "input_seq = combined_input.tolist()\n",
    "predictions_scaled = []"
   ],
   "id": "42699d06dabc9a12",
   "outputs": [],
   "execution_count": 7
  },
  {
   "metadata": {
    "ExecuteTime": {
     "end_time": "2025-04-19T05:37:58.639455Z",
     "start_time": "2025-04-19T05:37:46.993205Z"
    }
   },
   "cell_type": "code",
   "source": [
    "for _ in range(FUTURE_CANDLES):\n",
    "    x_input = np.array(input_seq[-SEQ_LEN:]).reshape(1, SEQ_LEN, len(COLUMNS))\n",
    "    pred = model.predict(x_input, verbose=0)[0]  # shape: (1,)\n",
    "\n",
    "    last_tickvol = input_seq[-1][1]  # TICKVOL = index 1\n",
    "    next_candle = [pred[0], last_tickvol]  # shape: (2,)\n",
    "\n",
    "    input_seq.append(next_candle)\n",
    "    predictions_scaled.append(pred[0])\n"
   ],
   "id": "e4ad102cdebfd705",
   "outputs": [],
   "execution_count": 8
  },
  {
   "metadata": {
    "ExecuteTime": {
     "end_time": "2025-04-19T05:37:58.677835Z",
     "start_time": "2025-04-19T05:37:58.673519Z"
    }
   },
   "cell_type": "code",
   "source": [
    "# ==== INVERSE TRANSFORM PREDICTIONS ====\n",
    "# We'll need to inverse transform both the predicted 'CLOSE' values\n",
    "# and keep the TICKVOL constant from the last known value\n",
    "\n",
    "# Reconstruct the scaled predictions into the same shape used for inverse_transform\n",
    "predictions_scaled_array = np.array(predictions_scaled).reshape(-1, 1)\n",
    "# Pad with TICKVOL to match the scaler input shape\n",
    "last_tickvol_scaled = input_seq[-1][1]\n",
    "predicted_full_scaled = np.hstack([predictions_scaled_array, np.full_like(predictions_scaled_array, last_tickvol_scaled)])"
   ],
   "id": "1412084bc97a1f7d",
   "outputs": [],
   "execution_count": 9
  },
  {
   "metadata": {
    "ExecuteTime": {
     "end_time": "2025-04-19T05:37:58.730625Z",
     "start_time": "2025-04-19T05:37:58.725445Z"
    }
   },
   "cell_type": "code",
   "source": [
    "# Inverse scale the predicted data\n",
    "predicted_full = scaler.inverse_transform(predicted_full_scaled)"
   ],
   "id": "ac02874ac6156a8c",
   "outputs": [],
   "execution_count": 10
  },
  {
   "metadata": {
    "ExecuteTime": {
     "end_time": "2025-04-19T05:37:58.784163Z",
     "start_time": "2025-04-19T05:37:58.779012Z"
    }
   },
   "cell_type": "code",
   "source": [
    "# ==== BUILD PLOTTING DATA ====\n",
    "# Combine the real CLOSE values (from test set) and predicted ones\n",
    "real_closes = df_test['CLOSE'].values  # 30 real closes\n",
    "predicted_closes = predicted_full[:, 0]  # predicted CLOSE values"
   ],
   "id": "bbab61538530dd1b",
   "outputs": [],
   "execution_count": 11
  },
  {
   "metadata": {
    "ExecuteTime": {
     "end_time": "2025-04-19T05:37:58.871589Z",
     "start_time": "2025-04-19T05:37:58.867251Z"
    }
   },
   "cell_type": "code",
   "source": [
    "# Combine into one array\n",
    "combined_closes = np.concatenate([real_closes, predicted_closes])"
   ],
   "id": "319f2c1ba24bdfa2",
   "outputs": [],
   "execution_count": 12
  },
  {
   "metadata": {
    "ExecuteTime": {
     "end_time": "2025-04-19T05:37:59.214562Z",
     "start_time": "2025-04-19T05:37:58.963221Z"
    }
   },
   "cell_type": "code",
   "source": [
    "# ==== PLOTTING ====\n",
    "plt.figure(figsize=(15, 5))\n",
    "plt.plot(range(30), real_closes, label='Real (last 30 candles)', color='blue')\n",
    "plt.plot(range(30, 130), predicted_closes, label='Predicted (next 100 candles)', color='orange')\n",
    "plt.axvline(x=29, linestyle='--', color='gray', label='Prediction Start')\n",
    "plt.title('Real vs Predicted Candles (CLOSE prices)')\n",
    "plt.xlabel('Candle Index')\n",
    "plt.ylabel('CLOSE Price')\n",
    "plt.legend()\n",
    "plt.grid(True)\n",
    "plt.show()"
   ],
   "id": "ba8dc84d83e5305a",
   "outputs": [
    {
     "data": {
      "text/plain": [
       "<Figure size 1500x500 with 1 Axes>"
      ],
      "image/png": "[encoded data removed]"
     },
     "metadata": {},
     "output_type": "display_data"
    }
   ],
   "execution_count": 13
  }
 ],
 "metadata": {
  "kernelspec": {
   "name": "python3",
   "language": "python",
   "display_name": "Python 3 (ipykernel)"
  }
 },
 "nbformat": 5,
 "nbformat_minor": 9
}
