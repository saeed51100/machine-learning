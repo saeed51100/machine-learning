{
 "cells": [
  {
   "metadata": {},
   "cell_type": "markdown",
   "source": [
    "# basic-002\n",
    "https://chatgpt.com/c/680282ad-266c-800a-99bd-7eeb6918b9f9"
   ],
   "id": "ef2ce5a760d02d04"
  },
  {
   "metadata": {},
   "cell_type": "code",
   "source": [
    "import pandas as pd\n",
    "import numpy as np\n",
    "import matplotlib.pyplot as plt\n",
    "from sklearn.preprocessing import MinMaxScaler\n",
    "from tensorflow.keras.models import Sequential\n",
    "from tensorflow.keras.layers import LSTM, Dense"
   ],
   "id": "2904215b5cc2b0fd",
   "outputs": [],
   "execution_count": null
  },
  {
   "metadata": {},
   "cell_type": "code",
   "source": [
    "# ==== CONFIG ====\n",
    "SEQ_LEN = 60\n",
    "FUTURE_CANDLES = 100\n",
    "COLUMNS = ['OPEN', 'HIGH', 'LOW', 'CLOSE', 'TICKVOL']"
   ],
   "id": "ae01ee4a108704d8",
   "outputs": [],
   "execution_count": null
  },
  {
   "metadata": {},
   "cell_type": "code",
   "source": [
    "# ==== LOAD DATA ====\n",
    "df_train = pd.read_csv(\"../datasets/XAGUSD-H1-rates.csv\", sep=r'\\s+', engine='python', names=[\"DATE\", \"TIME\", \"OPEN\", \"HIGH\", \"LOW\", \"CLOSE\", \"TICKVOL\", \"VOL\", \"SPREAD\"], skiprows=1)\n",
    "df_test = pd.read_csv(\"../datasets/new-data-for-test/rows-30-from-20240503.csv\", sep=r'\\s+', engine='python', names=[\"DATE\", \"TIME\", \"OPEN\", \"HIGH\", \"LOW\", \"CLOSE\", \"TICKVOL\", \"VOL\", \"SPREAD\"], skiprows=1)"
   ],
   "id": "5113732c2e848268",
   "outputs": [],
   "execution_count": null
  },
  {
   "metadata": {},
   "cell_type": "code",
   "source": [
    "# Drop unnecessary columns\n",
    "df_train = df_train[COLUMNS]\n",
    "df_test = df_test[COLUMNS]\n",
    "\n",
    "# ==== SCALE ====\n",
    "scaler = MinMaxScaler()\n",
    "train_scaled = scaler.fit_transform(df_train)\n",
    "test_scaled = scaler.transform(df_test)"
   ],
   "id": "73724f863d82eace",
   "outputs": [],
   "execution_count": null
  },
  {
   "metadata": {},
   "cell_type": "code",
   "source": [
    "# ==== PREPARE TRAINING SEQUENCES ====\n",
    "X_train, y_train = [], []\n",
    "for i in range(SEQ_LEN, len(train_scaled)):\n",
    "    X_train.append(train_scaled[i-SEQ_LEN:i])\n",
    "    y_train.append(train_scaled[i, :4])  # Predict OHLC\n",
    "X_train, y_train = np.array(X_train), np.array(y_train)"
   ],
   "id": "18c59196850579a5",
   "outputs": [],
   "execution_count": null
  },
  {
   "metadata": {},
   "cell_type": "code",
   "source": [
    "# ==== MODEL ====\n",
    "model = Sequential([\n",
    "    LSTM(128, return_sequences=True, input_shape=(SEQ_LEN, len(COLUMNS))),\n",
    "    LSTM(64),\n",
    "    Dense(64, activation='relu'),\n",
    "    Dense(4)  # Output: OHLC\n",
    "])\n",
    "model.compile(optimizer='adam', loss='mse', metrics=['accuracy'])\n",
    "model.fit(X_train, y_train, epochs=10, batch_size=64)"
   ],
   "id": "b7d04fd4eed3191",
   "outputs": [],
   "execution_count": null
  },
  {
   "metadata": {},
   "cell_type": "code",
   "source": [
    "# ==== PREDICT NEXT 100 CANDLES ====\n",
    "# Use last 30 candles from train + 30 from test = 60\n",
    "combined_input = np.vstack([train_scaled[-30:], test_scaled])\n",
    "input_seq = combined_input.tolist()\n",
    "predictions_scaled = []\n",
    "\n",
    "for _ in range(FUTURE_CANDLES):\n",
    "    x_input = np.array(input_seq[-SEQ_LEN:]).reshape(1, SEQ_LEN, len(COLUMNS))\n",
    "    pred = model.predict(x_input, verbose=0)[0]\n",
    "    next_candle = np.concatenate([pred, [input_seq[-1][-1]]])  # Use same TICKVOL as last known\n",
    "    input_seq.append(next_candle)\n",
    "    predictions_scaled.append(pred)\n"
   ],
   "id": "4848cd723221935e",
   "outputs": [],
   "execution_count": null
  },
  {
   "metadata": {},
   "cell_type": "code",
   "source": [
    "# ==== INVERSE SCALE ====\n",
    "# Combine 30 real + 100 predicted candles\n",
    "real_scaled = test_scaled[-30:, :4]\n",
    "combined_scaled = np.vstack([real_scaled, predictions_scaled])\n",
    "\n",
    "# Pad to full shape before inverse_transform\n",
    "pad_tickvol = np.zeros((130, 1))\n",
    "padded_scaled = np.hstack([combined_scaled, pad_tickvol])\n",
    "real_plus_pred = scaler.inverse_transform(padded_scaled)[:, :4]  # Get OHLC"
   ],
   "id": "a60b3c85a2dead4d",
   "outputs": [],
   "execution_count": null
  },
  {
   "metadata": {},
   "cell_type": "code",
   "source": [
    "# ==== PLOT ====\n",
    "plt.figure(figsize=(14, 6))\n",
    "plt.plot(range(30), real_plus_pred[:30, 3], label='Real CLOSE')  # CLOSE is index 3\n",
    "plt.plot(range(30, 130), real_plus_pred[30:, 3], label='Predicted CLOSE')\n",
    "plt.axvline(x=29, color='gray', linestyle='--')\n",
    "plt.title('30 Real + 100 Predicted Future Candles (CLOSE Price)')\n",
    "plt.xlabel('Candle Index')\n",
    "plt.ylabel('Price')\n",
    "plt.legend()\n",
    "plt.grid()\n",
    "plt.show()\n"
   ],
   "id": "1a3d57a37cae6657",
   "outputs": [],
   "execution_count": null
  }
 ],
 "metadata": {
  "kernelspec": {
   "name": "python3",
   "language": "python",
   "display_name": "Python 3 (ipykernel)"
  }
 },
 "nbformat": 5,
 "nbformat_minor": 9
}
