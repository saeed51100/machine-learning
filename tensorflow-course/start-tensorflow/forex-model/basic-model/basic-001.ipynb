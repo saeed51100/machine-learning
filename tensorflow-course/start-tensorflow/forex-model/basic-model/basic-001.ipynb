{
 "cells": [
  {
   "metadata": {},
   "cell_type": "markdown",
   "source": "# basic-001",
   "id": "ef2ce5a760d02d04"
  },
  {
   "metadata": {
    "ExecuteTime": {
     "end_time": "2025-04-17T09:09:03.368064Z",
     "start_time": "2025-04-17T09:09:03.359154Z"
    }
   },
   "cell_type": "code",
   "source": [
    "import pandas as pd\n",
    "import numpy as np\n",
    "import matplotlib.pyplot as plt\n",
    "from sklearn.preprocessing import MinMaxScaler\n",
    "from tensorflow.keras.models import Sequential\n",
    "from tensorflow.keras.layers import LSTM, Dense"
   ],
   "id": "3c12ff9c3572e1a0",
   "outputs": [],
   "execution_count": 5
  },
  {
   "metadata": {},
   "cell_type": "code",
   "source": [
    "# Load datasets\n",
    "train_df = pd.read_csv(\"\", sep=r\"\\s+\", engine='python')\n",
    "predict_df = pd.read_csv(\"last30.csv\", sep=r\"\\s+\", engine='python')"
   ],
   "id": "20c5131d7691bc6b",
   "outputs": [],
   "execution_count": null
  },
  {
   "metadata": {},
   "cell_type": "code",
   "source": [
    "# Use only numerical features\n",
    "features = ['OPEN', 'HIGH', 'LOW', 'CLOSE', 'TICKVOL', 'VOL', 'SPREAD']"
   ],
   "id": "c3b02b5228e9eaf4",
   "outputs": [],
   "execution_count": null
  },
  {
   "metadata": {},
   "cell_type": "code",
   "source": [
    "# Normalize the data\n",
    "scaler = MinMaxScaler()\n",
    "train_scaled = scaler.fit_transform(train_df[features])\n",
    "predict_scaled = scaler.transform(predict_df[features])"
   ],
   "id": "bd4a8efbeb743647",
   "outputs": [],
   "execution_count": null
  },
  {
   "metadata": {},
   "cell_type": "code",
   "source": [
    "# Create sequences for training\n",
    "def create_sequences(data, window_size=30):\n",
    "    X, y = [], []\n",
    "    for i in range(window_size, len(data)):\n",
    "        X.append(data[i-window_size:i])\n",
    "        y.append(data[i][3])  # predicting 'CLOSE' price (index 3)\n",
    "    return np.array(X), np.array(y)\n",
    "\n",
    "X_train, y_train = create_sequences(train_scaled)"
   ],
   "id": "48fb729a9c654259",
   "outputs": [],
   "execution_count": null
  },
  {
   "metadata": {},
   "cell_type": "code",
   "source": [
    "# Build LSTM model\n",
    "model = Sequential([\n",
    "    LSTM(64, return_sequences=False, input_shape=(X_train.shape[1], X_train.shape[2])),\n",
    "    Dense(1)\n",
    "])\n",
    "model.compile(optimizer='adam', loss='mse')\n",
    "model.fit(X_train, y_train, epochs=10, batch_size=64)"
   ],
   "id": "f36e2a11ad3810aa",
   "outputs": [],
   "execution_count": null
  },
  {
   "metadata": {},
   "cell_type": "code",
   "source": [
    "# Predict next 100 candles based on the last 30 real ones\n",
    "predictions = []\n",
    "input_seq = predict_scaled[-30:]  # start from last 30 rows\n",
    "\n",
    "for _ in range(100):\n",
    "    pred_input = np.expand_dims(input_seq, axis=0)\n",
    "    pred_close = model.predict(pred_input, verbose=0)[0][0]\n",
    "\n",
    "    # Build the next candle with predicted CLOSE and last known values\n",
    "    next_candle = input_seq[-1].copy()\n",
    "    next_candle[3] = pred_close  # replace CLOSE with predicted\n",
    "\n",
    "    predictions.append(next_candle)\n",
    "    input_seq = np.vstack([input_seq[1:], next_candle])  # roll the window"
   ],
   "id": "3890c41a5e2e9248",
   "outputs": [],
   "execution_count": null
  },
  {
   "metadata": {},
   "cell_type": "code",
   "source": [
    "# Inverse transform\n",
    "all_candles = np.vstack([predict_scaled, predictions])\n",
    "all_candles = scaler.inverse_transform(all_candles)"
   ],
   "id": "9971b9da86459a03",
   "outputs": [],
   "execution_count": null
  },
  {
   "metadata": {},
   "cell_type": "code",
   "source": [
    "# Plotting\n",
    "plt.figure(figsize=(14, 6))\n",
    "real_closes = all_candles[:30, 3]\n",
    "predicted_closes = all_candles[30:, 3]\n",
    "\n",
    "plt.plot(range(0, 30), real_closes, label='Real CLOSE', color='blue')\n",
    "plt.plot(range(30, 130), predicted_closes, label='Predicted CLOSE', color='orange')\n",
    "plt.axvline(x=29, color='gray', linestyle='--')\n",
    "plt.title(\"30 Real + 100 Predicted Candles (CLOSE price)\")\n",
    "plt.xlabel(\"Candle Index\")\n",
    "plt.ylabel(\"CLOSE Price\")\n",
    "plt.legend()\n",
    "plt.grid(True)\n",
    "plt.show()\n"
   ],
   "id": "bae704f10344680e",
   "outputs": [],
   "execution_count": null
  }
 ],
 "metadata": {
  "kernelspec": {
   "name": "python3",
   "language": "python",
   "display_name": "Python 3 (ipykernel)"
  }
 },
 "nbformat": 5,
 "nbformat_minor": 9
}
