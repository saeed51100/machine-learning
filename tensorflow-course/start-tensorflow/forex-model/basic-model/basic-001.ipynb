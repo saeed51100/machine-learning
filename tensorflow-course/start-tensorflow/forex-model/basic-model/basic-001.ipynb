{
 "cells": [
  {
   "metadata": {},
   "cell_type": "markdown",
   "source": "# basic-001",
   "id": "ef2ce5a760d02d04"
  }
 ],
 "metadata": {},
 "nbformat": 5,
 "nbformat_minor": 9
}
