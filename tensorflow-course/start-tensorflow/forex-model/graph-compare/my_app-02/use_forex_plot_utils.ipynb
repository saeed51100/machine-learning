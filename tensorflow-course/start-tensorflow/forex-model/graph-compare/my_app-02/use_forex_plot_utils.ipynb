{
 "cells": [
  {
   "metadata": {},
   "cell_type": "code",
   "source": [
    "# use_forex_plot_utils.ipynb\n",
    "\n",
    "# IMPORT THE UTILITY NOTEBOOK\n",
    "# import import_ipynb\n",
    "import forex_plot_utils  # This will import forex_plot_utils.ipynb from the same directory"
   ],
   "id": "a2f0bfabd2d46ede",
   "outputs": [],
   "execution_count": null
  },
  {
   "metadata": {},
   "cell_type": "code",
   "source": [
    "# PARAMETERS\n",
    "csv1_path = '../data/111.csv'\n",
    "csv2_path = '../data/222.csv'\n",
    "csv3_path = '../data/333.csv'\n",
    "plot_title = 'Actual vs Predicted Forex Closing Prices'\n",
    "output_plot_path = None  # e.g., 'output.png'\n",
    "\n",
    "colors = {\n",
    "    'historical': 'black',\n",
    "    'actual': 'green',\n",
    "    'predicted': 'red'\n",
    "}\n",
    "\n",
    "# LOAD DATA\n",
    "historical_df = forex_plot_utils.load_csv_with_datetime(csv1_path) if os.path.exists(csv1_path) else None\n",
    "predicted_df = forex_plot_utils.load_csv_with_datetime(csv2_path) if os.path.exists(csv2_path) else None\n",
    "actual_future_df = forex_plot_utils.load_csv_with_datetime(csv3_path) if os.path.exists(csv3_path) else None\n",
    "\n",
    "# PLOT\n",
    "forex_plot_utils.plot_all_series(\n",
    "    historical_df=historical_df,\n",
    "    predicted_df=predicted_df,\n",
    "    actual_future_df=actual_future_df,\n",
    "    title=plot_title,\n",
    "    colors=colors,\n",
    "    output_path=output_plot_path\n",
    ")\n"
   ],
   "id": "fd8b20c94cd50df0",
   "outputs": [],
   "execution_count": null
  }
 ],
 "metadata": {
  "kernelspec": {
   "name": "python3",
   "language": "python",
   "display_name": "Python 3 (ipykernel)"
  }
 },
 "nbformat": 5,
 "nbformat_minor": 9
}
