{
 "cells": [
  {
   "metadata": {
    "ExecuteTime": {
     "end_time": "2025-05-02T15:23:31.542075Z",
     "start_time": "2025-05-02T15:23:31.524372Z"
    }
   },
   "cell_type": "code",
   "source": [
    "# plot_forex_example.ipynb\n",
    "\n",
    "# To run this, first run the forex_plot_utils.ipynb to define the function in memory (or export to a .py module)\n",
    "\n",
    "# IMPORT FUNCTION FROM OTHER NOTEBOOK\n",
    "from forex_plot_utils import plot_forex_csvs  # You can also use %run forex_plot_utils.ipynb\n",
    "\n",
    "# PARAMETERS\n",
    "csv1_path = '111.csv'\n",
    "csv2_path = '222.csv'\n",
    "csv3_path = '333.csv'\n",
    "\n",
    "plot_title = 'Actual vs Predicted Forex Closing Prices'\n",
    "\n",
    "# CALL FUNCTION\n",
    "plot_forex_csvs(\n",
    "    csv1_path=csv1_path,\n",
    "    csv2_path=csv2_path,\n",
    "    csv3_path=csv3_path,\n",
    "    plot_title=plot_title\n",
    ")\n"
   ],
   "id": "da16a26b8921e4cf",
   "outputs": [
    {
     "ename": "ModuleNotFoundError",
     "evalue": "No module named 'forex_plot_utils'",
     "output_type": "error",
     "traceback": [
      "\u001B[31m---------------------------------------------------------------------------\u001B[39m",
      "\u001B[31mModuleNotFoundError\u001B[39m                       Traceback (most recent call last)",
      "\u001B[36mCell\u001B[39m\u001B[36m \u001B[39m\u001B[32mIn[4]\u001B[39m\u001B[32m, line 6\u001B[39m\n\u001B[32m      1\u001B[39m \u001B[38;5;66;03m# plot_forex_example.ipynb\u001B[39;00m\n\u001B[32m      2\u001B[39m \n\u001B[32m      3\u001B[39m \u001B[38;5;66;03m# To run this, first run the forex_plot_utils.ipynb to define the function in memory (or export to a .py module)\u001B[39;00m\n\u001B[32m      4\u001B[39m \n\u001B[32m      5\u001B[39m \u001B[38;5;66;03m# IMPORT FUNCTION FROM OTHER NOTEBOOK\u001B[39;00m\n\u001B[32m----> \u001B[39m\u001B[32m6\u001B[39m \u001B[38;5;28;01mfrom\u001B[39;00m\u001B[38;5;250m \u001B[39m\u001B[34;01mforex_plot_utils\u001B[39;00m\u001B[38;5;250m \u001B[39m\u001B[38;5;28;01mimport\u001B[39;00m plot_forex_csvs  \u001B[38;5;66;03m# You can also use %run forex_plot_utils.ipynb\u001B[39;00m\n\u001B[32m      8\u001B[39m \u001B[38;5;66;03m# PARAMETERS\u001B[39;00m\n\u001B[32m      9\u001B[39m csv1_path = \u001B[33m'\u001B[39m\u001B[33m111.csv\u001B[39m\u001B[33m'\u001B[39m\n",
      "\u001B[31mModuleNotFoundError\u001B[39m: No module named 'forex_plot_utils'"
     ]
    }
   ],
   "execution_count": 4
  }
 ],
 "metadata": {
  "kernelspec": {
   "name": "python3",
   "language": "python",
   "display_name": "Python 3 (ipykernel)"
  }
 },
 "nbformat": 5,
 "nbformat_minor": 9
}
