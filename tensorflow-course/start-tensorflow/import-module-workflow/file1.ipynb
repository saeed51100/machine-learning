{
 "cells": [
  {
   "metadata": {
    "ExecuteTime": {
     "end_time": "2025-05-03T18:03:17.472679Z",
     "start_time": "2025-05-03T18:03:17.467627Z"
    }
   },
   "cell_type": "code",
   "source": [
    "# file1.ipynb\n",
    "def show_message():\n",
    "    print(\"Text from file1\")"
   ],
   "id": "c447a25f028da299",
   "outputs": [],
   "execution_count": 19
  },
  {
   "metadata": {},
   "cell_type": "markdown",
   "source": "### After changes: refactor > Convert To Python File",
   "id": "76c6b09dc76432cc"
  }
 ],
 "metadata": {
  "kernelspec": {
   "name": "python3",
   "language": "python",
   "display_name": "Python 3 (ipykernel)"
  }
 },
 "nbformat": 5,
 "nbformat_minor": 9
}
