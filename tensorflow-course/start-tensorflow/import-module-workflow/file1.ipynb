{
 "cells": [
  {
   "metadata": {
    "ExecuteTime": {
     "end_time": "2025-05-04T09:27:20.401973Z",
     "start_time": "2025-05-04T09:27:20.394428Z"
    }
   },
   "cell_type": "code",
   "source": [
    "# file1.ipynb\n",
    "def show_message():\n",
    "    print(\"Text from file1\")"
   ],
   "id": "c447a25f028da299",
   "outputs": [],
   "execution_count": 1
  },
  {
   "metadata": {},
   "cell_type": "markdown",
   "source": "### After changes: refactor > Convert To Python File",
   "id": "76c6b09dc76432cc"
  }
 ],
 "metadata": {
  "kernelspec": {
   "name": "python3",
   "language": "python",
   "display_name": "Python 3 (ipykernel)"
  }
 },
 "nbformat": 5,
 "nbformat_minor": 9
}
