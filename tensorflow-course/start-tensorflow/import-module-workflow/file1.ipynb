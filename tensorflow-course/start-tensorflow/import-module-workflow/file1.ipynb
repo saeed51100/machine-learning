{
 "cells": [
  {
   "metadata": {},
   "cell_type": "code",
   "outputs": [],
   "execution_count": null,
   "source": [
    "# file1.ipynb\n",
    "def show_message():\n",
    "    print(\"Text from file1\")"
   ],
   "id": "c447a25f028da299"
  }
 ],
 "metadata": {},
 "nbformat": 5,
 "nbformat_minor": 9
}
