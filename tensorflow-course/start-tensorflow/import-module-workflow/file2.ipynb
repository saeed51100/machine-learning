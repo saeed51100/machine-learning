{
 "cells": [
  {
   "metadata": {
    "ExecuteTime": {
     "end_time": "2025-05-03T08:07:47.703899Z",
     "start_time": "2025-05-03T08:07:47.694062Z"
    }
   },
   "cell_type": "code",
   "source": [
    "# file1.ipynb\n",
    "def show_message():\n",
    "    print(\"Text from file1\")"
   ],
   "id": "c60179ecb1cd7f46",
   "outputs": [],
   "execution_count": 2
  }
 ],
 "metadata": {
  "kernelspec": {
   "name": "python3",
   "language": "python",
   "display_name": "Python 3 (ipykernel)"
  }
 },
 "nbformat": 5,
 "nbformat_minor": 9
}
