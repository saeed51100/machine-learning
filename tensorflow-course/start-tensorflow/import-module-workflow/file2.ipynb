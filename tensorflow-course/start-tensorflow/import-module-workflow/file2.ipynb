{
 "cells": [
  {
   "metadata": {},
   "cell_type": "code",
   "source": "print(\"Text from file1\")",
   "id": "c60179ecb1cd7f46",
   "outputs": [],
   "execution_count": null
  }
 ],
 "metadata": {
  "kernelspec": {
   "name": "python3",
   "language": "python",
   "display_name": "Python 3 (ipykernel)"
  }
 },
 "nbformat": 5,
 "nbformat_minor": 9
}
