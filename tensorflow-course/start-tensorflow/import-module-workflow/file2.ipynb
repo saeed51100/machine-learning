{
 "cells": [
  {
   "metadata": {
    "ExecuteTime": {
     "end_time": "2025-05-04T09:27:33.694524Z",
     "start_time": "2025-05-04T09:27:33.688797Z"
    }
   },
   "cell_type": "code",
   "source": "import file1",
   "id": "db5ed30de966f7b4",
   "outputs": [],
   "execution_count": 2
  },
  {
   "metadata": {
    "ExecuteTime": {
     "end_time": "2025-05-04T09:27:49.585385Z",
     "start_time": "2025-05-04T09:27:49.547855Z"
    }
   },
   "cell_type": "code",
   "source": "show_message()",
   "id": "c3868050a1d514dc",
   "outputs": [
    {
     "ename": "NameError",
     "evalue": "name 'show_message' is not defined",
     "output_type": "error",
     "traceback": [
      "\u001B[31m---------------------------------------------------------------------------\u001B[39m",
      "\u001B[31mNameError\u001B[39m                                 Traceback (most recent call last)",
      "\u001B[36mCell\u001B[39m\u001B[36m \u001B[39m\u001B[32mIn[4]\u001B[39m\u001B[32m, line 1\u001B[39m\n\u001B[32m----> \u001B[39m\u001B[32m1\u001B[39m \u001B[43mshow_message\u001B[49m()\n",
      "\u001B[31mNameError\u001B[39m: name 'show_message' is not defined"
     ]
    }
   ],
   "execution_count": 4
  }
 ],
 "metadata": {
  "kernelspec": {
   "name": "python3",
   "language": "python",
   "display_name": "Python 3 (ipykernel)"
  }
 },
 "nbformat": 5,
 "nbformat_minor": 9
}
