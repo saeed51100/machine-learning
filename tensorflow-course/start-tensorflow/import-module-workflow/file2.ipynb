{
 "cells": [
  {
   "metadata": {
    "ExecuteTime": {
     "end_time": "2025-05-05T04:33:20.373368Z",
     "start_time": "2025-05-05T04:33:20.366124Z"
    }
   },
   "cell_type": "code",
   "source": [
    "import file1\n",
    "file1.show_message()"
   ],
   "id": "db5ed30de966f7b4",
   "outputs": [
    {
     "name": "stdout",
     "output_type": "stream",
     "text": [
      "Text from file1\n"
     ]
    }
   ],
   "execution_count": 16
  },
  {
   "metadata": {
    "ExecuteTime": {
     "end_time": "2025-05-05T04:33:21.971920Z",
     "start_time": "2025-05-05T04:33:21.959918Z"
    }
   },
   "cell_type": "code",
   "source": [
    "from file1 import show_message\n",
    "show_message()"
   ],
   "id": "c3868050a1d514dc",
   "outputs": [
    {
     "name": "stdout",
     "output_type": "stream",
     "text": [
      "Text from file1\n"
     ]
    }
   ],
   "execution_count": 17
  }
 ],
 "metadata": {
  "kernelspec": {
   "name": "python3",
   "language": "python",
   "display_name": "Python 3 (ipykernel)"
  }
 },
 "nbformat": 5,
 "nbformat_minor": 9
}
