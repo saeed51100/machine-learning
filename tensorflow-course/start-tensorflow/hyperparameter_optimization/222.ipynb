{
 "cells": [
  {
   "metadata": {
    "ExecuteTime": {
     "end_time": "2025-03-23T08:53:05.076512Z",
     "start_time": "2025-03-23T08:53:05.067908Z"
    }
   },
   "cell_type": "code",
   "source": [
    "from tensorflow import keras\n",
    "from sklearn.datasets import fetch_california_housing\n",
    "from sklearn.model_selection import train_test_split\n",
    "from sklearn.preprocessing import StandardScaler\n",
    "from tensorflow.keras.saving import register_keras_serializable"
   ],
   "id": "de6fc5c1527930ba",
   "outputs": [],
   "execution_count": 15
  },
  {
   "metadata": {
    "ExecuteTime": {
     "end_time": "2025-03-23T08:53:08.588690Z",
     "start_time": "2025-03-23T08:53:06.296451Z"
    }
   },
   "cell_type": "code",
   "source": [
    "california_housing = fetch_california_housing()\n",
    "\n",
    "X_train0, X_test, Y_train0, Y_test = train_test_split(california_housing[\"data\"], california_housing[\"target\"])\n",
    "X_train1, X_validation, Y_train1, Y_validation = train_test_split(X_train0, Y_train0)\n",
    "\n",
    "sc = StandardScaler()\n",
    "X_train_s = sc.fit_transform(X_train1)\n",
    "X_validation_s = sc.fit_transform(X_validation)\n",
    "X_test_s = sc.transform(X_test)\n",
    "\n",
    "\n",
    "X_train_s_1, X_train_s_2 = X_train_s[:, :6], X_train_s[:, :-4]\n",
    "X_validation_s_1, X_validation_s_2 = X_validation_s[:, :6], X_validation_s[:, :-4]\n",
    "X_test_s_1, X_test_s_2 = X_test_s[:, :6], X_test_s[:, :-4]\n",
    "\n",
    "\n",
    "@register_keras_serializable()\n",
    "class WideAndDeepANN(keras.Model):\n",
    "    def __init__(self, activation=\"relu\", **kwargs):\n",
    "        super().__init__(**kwargs)\n",
    "        self.hidden_layer_1 = keras.layers.Dense(50, activation=activation)\n",
    "        self.hidden_layer_2 = keras.layers.Dense(10, activation=activation)\n",
    "        self.final_output = keras.layers.Dense(1)\n",
    "        self.helper_output = keras.layers.Dense(1)\n",
    "\n",
    "    def call(self, inputs):\n",
    "        input_1, input_2 = inputs\n",
    "        h1_out = self.hidden_layer_1(input_1)\n",
    "        h2_out = self.hidden_layer_2(h1_out)\n",
    "        concat_out = keras.layers.concatenate([input_2, h2_out])\n",
    "        final_out = self.final_output(concat_out)\n",
    "        helper_out = self.helper_output(h2_out)\n",
    "        return final_out, helper_out\n",
    "\n",
    "\n",
    "model_f = WideAndDeepANN()\n",
    "\n",
    "model_checkpoint_callback = keras.callbacks.ModelCheckpoint(\"model_cb_regression_housing.keras\", save_best_only=True)\n",
    "early_stopping_callback = keras.callbacks.EarlyStopping(patience=5, restore_best_weights=True)\n",
    "tb_callback = keras.callbacks.TensorBoard(\"tb_log3\")\n",
    "\n",
    "model_f.compile(loss=[\"mse\", \"mse\"],\n",
    "                loss_weights=[0.8, 0.2],\n",
    "                optimizer=\"sgd\",\n",
    "                metrics=[[\"mean_absolute_error\"], [\"mean_absolute_error\"]])\n",
    "\n",
    "model_f.fit((X_train_s_1, X_train_s_2), (Y_train1, Y_train1), epochs=2,\n",
    "            validation_data=((X_validation_s_1, X_validation_s_2), (Y_validation, Y_validation)),\n",
    "            callbacks=[tb_callback])\n",
    "model_f.save(\"housing_reg_model.keras\")\n",
    "model_f_reg = keras.models.load_model(\"housing_reg_model.keras\")\n",
    "\n",
    "class Mycallback(keras.callbacks.Callback):\n",
    "    def on_train_end(self, logs=None):\n",
    "        print(\"\")\n",
    "\n",
    "    def on_epoch_end(self, epoch, logs):\n",
    "        print(logs[\"var_loss\"])\n",
    "\n",
    "\n",
    "mycb = Mycallback\n",
    "\n",
    "def ann_model(number_of_hidden_layers=1,\n",
    "              number_of_neurons=50,\n",
    "              lr=0.01):\n",
    "    model = keras.models.Sequential()\n",
    "    model.add(keras.layers.InputLayer(input_shape=[8]))\n",
    "    for hidden_layer in range(number_of_hidden_layers):\n",
    "        model.add(keras.layers.Dense(number_of_neurons, activation=\"selu\"))\n",
    "    model.add(keras.layers.Dense(1))\n",
    "    sgd = keras.optimizers.SGD(learning_rate=lr)\n",
    "    model.compile(loss=\"mse\", optimizer=sgd)\n",
    "    return model"
   ],
   "id": "e4827b825aa17e33",
   "outputs": [
    {
     "name": "stdout",
     "output_type": "stream",
     "text": [
      "Epoch 1/2\n",
      "\u001B[1m363/363\u001B[0m \u001B[32m━━━━━━━━━━━━━━━━━━━━\u001B[0m\u001B[37m\u001B[0m \u001B[1m1s\u001B[0m 2ms/step - loss: 1.4865 - mean_absolute_error: 0.8262 - mean_absolute_error_1: 1.0440 - mse_loss: 2.0085 - val_loss: 0.5971 - val_mean_absolute_error: 0.5465 - val_mean_absolute_error_1: 0.5925 - val_mse_loss: 0.6442\n",
      "Epoch 2/2\n",
      "\u001B[1m363/363\u001B[0m \u001B[32m━━━━━━━━━━━━━━━━━━━━\u001B[0m\u001B[37m\u001B[0m \u001B[1m1s\u001B[0m 2ms/step - loss: 0.5809 - mean_absolute_error: 0.5519 - mean_absolute_error_1: 0.5801 - mse_loss: 0.6122 - val_loss: 0.5414 - val_mean_absolute_error: 0.5259 - val_mean_absolute_error_1: 0.5537 - val_mse_loss: 0.5737\n"
     ]
    }
   ],
   "execution_count": 16
  },
  {
   "metadata": {},
   "cell_type": "code",
   "source": "# keras_sk_reg = keras.wrappers.scikit_learn.KerasRegressor(build_fn=ann_model)",
   "id": "24decff5d0e599d1",
   "outputs": [],
   "execution_count": null
  },
  {
   "metadata": {
    "ExecuteTime": {
     "end_time": "2025-03-23T08:53:36.371066Z",
     "start_time": "2025-03-23T08:53:36.368158Z"
    }
   },
   "cell_type": "code",
   "source": "keras_sk_reg = keras.wrappers.SKLearnRegressor(model=ann_model)",
   "id": "53e269e7d139258d",
   "outputs": [],
   "execution_count": 18
  }
 ],
 "metadata": {
  "kernelspec": {
   "name": "python3",
   "language": "python",
   "display_name": "Python 3 (ipykernel)"
  }
 },
 "nbformat": 5,
 "nbformat_minor": 9
}
