{
 "cells": [
  {
   "metadata": {
    "ExecuteTime": {
     "end_time": "2025-03-27T03:49:25.686193Z",
     "start_time": "2025-03-27T03:49:25.682343Z"
    }
   },
   "cell_type": "code",
   "source": [
    "from tensorflow import keras\n",
    "from sklearn.datasets import fetch_california_housing\n",
    "from sklearn.model_selection import train_test_split\n",
    "from scikeras.wrappers import KerasRegressor\n",
    "from  sklearn.model_selection import GridSearchCV"
   ],
   "id": "50f534d73f333375",
   "outputs": [],
   "execution_count": 12
  },
  {
   "metadata": {
    "ExecuteTime": {
     "end_time": "2025-03-27T03:49:25.737619Z",
     "start_time": "2025-03-27T03:49:25.728318Z"
    }
   },
   "cell_type": "code",
   "source": [
    "california_housing = fetch_california_housing()\n",
    "X_train0, X_test, Y_train0, Y_test = train_test_split(california_housing[\"data\"], california_housing[\"target\"])\n",
    "X_train1, X_validation, Y_train1, Y_validation = train_test_split(X_train0, Y_train0)"
   ],
   "id": "a64bbb9b26724c56",
   "outputs": [],
   "execution_count": 13
  },
  {
   "metadata": {
    "ExecuteTime": {
     "end_time": "2025-03-27T03:49:25.777011Z",
     "start_time": "2025-03-27T03:49:25.773256Z"
    }
   },
   "cell_type": "code",
   "source": [
    "ann_model = keras.models.Sequential([\n",
    "    keras.layers.Dense(50 , activation = \"relu\"),\n",
    "    keras.layers.Dense(10 , activation = \"relu\"),\n",
    "    keras.layers.Dense(1)\n",
    "])"
   ],
   "id": "87277cd5c924d740",
   "outputs": [],
   "execution_count": 14
  },
  {
   "metadata": {
    "ExecuteTime": {
     "end_time": "2025-03-27T03:49:25.827410Z",
     "start_time": "2025-03-27T03:49:25.822417Z"
    }
   },
   "cell_type": "code",
   "source": "keras_sk_reg = KerasRegressor(build_fn=ann_model)",
   "id": "f0fc9ca5730d82f8",
   "outputs": [],
   "execution_count": 15
  },
  {
   "metadata": {
    "ExecuteTime": {
     "end_time": "2025-03-27T03:49:25.877409Z",
     "start_time": "2025-03-27T03:49:25.872456Z"
    }
   },
   "cell_type": "code",
   "source": [
    "param_grid = {\"number_of_hidden_layers\": [1, 3, 5],\n",
    "              \"number_of_neurons\": [50, 100, 150],\n",
    "              \"lr\": [0.001, 0.001, 0.1]}"
   ],
   "id": "25743f2e9db6d587",
   "outputs": [],
   "execution_count": 16
  },
  {
   "metadata": {
    "ExecuteTime": {
     "end_time": "2025-03-27T03:49:25.925977Z",
     "start_time": "2025-03-27T03:49:25.921787Z"
    }
   },
   "cell_type": "code",
   "source": "keras_sk_reg_gs = GridSearchCV(keras_sk_reg, param_grid)",
   "id": "e076eedfe9697051",
   "outputs": [],
   "execution_count": 17
  },
  {
   "metadata": {
    "ExecuteTime": {
     "end_time": "2025-03-27T03:49:29.888801Z",
     "start_time": "2025-03-27T03:49:29.869831Z"
    }
   },
   "cell_type": "code",
   "source": [
    "keras_sk_reg_gs.compile(loss = \"mean_squared_error\",\n",
    "              optimizer = \"sgd\",\n",
    "              metrics = [\"mean_absolute_error\"])"
   ],
   "id": "2d55fa158447ded0",
   "outputs": [
    {
     "ename": "AttributeError",
     "evalue": "'GridSearchCV' object has no attribute 'compile'",
     "output_type": "error",
     "traceback": [
      "\u001B[31m---------------------------------------------------------------------------\u001B[39m",
      "\u001B[31mAttributeError\u001B[39m                            Traceback (most recent call last)",
      "\u001B[36mCell\u001B[39m\u001B[36m \u001B[39m\u001B[32mIn[19]\u001B[39m\u001B[32m, line 1\u001B[39m\n\u001B[32m----> \u001B[39m\u001B[32m1\u001B[39m \u001B[43mkeras_sk_reg_gs\u001B[49m\u001B[43m.\u001B[49m\u001B[43mcompile\u001B[49m(loss = \u001B[33m\"\u001B[39m\u001B[33mmean_squared_error\u001B[39m\u001B[33m\"\u001B[39m,\n\u001B[32m      2\u001B[39m               optimizer = \u001B[33m\"\u001B[39m\u001B[33msgd\u001B[39m\u001B[33m\"\u001B[39m,\n\u001B[32m      3\u001B[39m               metrics = [\u001B[33m\"\u001B[39m\u001B[33mmean_absolute_error\u001B[39m\u001B[33m\"\u001B[39m])\n",
      "\u001B[31mAttributeError\u001B[39m: 'GridSearchCV' object has no attribute 'compile'"
     ]
    }
   ],
   "execution_count": 19
  }
 ],
 "metadata": {
  "kernelspec": {
   "name": "python3",
   "language": "python",
   "display_name": "Python 3 (ipykernel)"
  }
 },
 "nbformat": 5,
 "nbformat_minor": 9
}
