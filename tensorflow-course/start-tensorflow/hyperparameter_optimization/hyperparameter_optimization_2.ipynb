{
 "cells": [
  {
   "metadata": {},
   "cell_type": "markdown",
   "source": "# b-33",
   "id": "f83cea59ca4e8809"
  },
  {
   "metadata": {
    "ExecuteTime": {
     "end_time": "2025-03-26T17:13:41.642254Z",
     "start_time": "2025-03-26T17:13:41.639710Z"
    }
   },
   "cell_type": "code",
   "source": [
    "from tensorflow import keras\n",
    "from sklearn.datasets import fetch_california_housing\n",
    "from sklearn.model_selection import train_test_split\n",
    "from sklearn.preprocessing import StandardScaler\n",
    "# from tensorflow.keras.saving import register_keras_serializable\n",
    "from scikeras.wrappers import KerasRegressor\n",
    "from  sklearn.model_selection import GridSearchCV"
   ],
   "id": "50f534d73f333375",
   "outputs": [],
   "execution_count": 40
  },
  {
   "metadata": {
    "ExecuteTime": {
     "end_time": "2025-03-26T17:06:06.386944Z",
     "start_time": "2025-03-26T17:06:06.375420Z"
    }
   },
   "cell_type": "code",
   "source": [
    "california_housing = fetch_california_housing()\n",
    "california_housing"
   ],
   "id": "a64bbb9b26724c56",
   "outputs": [
    {
     "data": {
      "text/plain": [
       "{'data': array([[   8.3252    ,   41.        ,    6.98412698, ...,    2.55555556,\n",
       "           37.88      , -122.23      ],\n",
       "        [   8.3014    ,   21.        ,    6.23813708, ...,    2.10984183,\n",
       "           37.86      , -122.22      ],\n",
       "        [   7.2574    ,   52.        ,    8.28813559, ...,    2.80225989,\n",
       "           37.85      , -122.24      ],\n",
       "        ...,\n",
       "        [   1.7       ,   17.        ,    5.20554273, ...,    2.3256351 ,\n",
       "           39.43      , -121.22      ],\n",
       "        [   1.8672    ,   18.        ,    5.32951289, ...,    2.12320917,\n",
       "           39.43      , -121.32      ],\n",
       "        [   2.3886    ,   16.        ,    5.25471698, ...,    2.61698113,\n",
       "           39.37      , -121.24      ]]),\n",
       " 'target': array([4.526, 3.585, 3.521, ..., 0.923, 0.847, 0.894]),\n",
       " 'frame': None,\n",
       " 'target_names': ['MedHouseVal'],\n",
       " 'feature_names': ['MedInc',\n",
       "  'HouseAge',\n",
       "  'AveRooms',\n",
       "  'AveBedrms',\n",
       "  'Population',\n",
       "  'AveOccup',\n",
       "  'Latitude',\n",
       "  'Longitude'],\n",
       " 'DESCR': '.. _california_housing_dataset:\\n\\nCalifornia Housing dataset\\n--------------------------\\n\\n**Data Set Characteristics:**\\n\\n:Number of Instances: 20640\\n\\n:Number of Attributes: 8 numeric, predictive attributes and the target\\n\\n:Attribute Information:\\n    - MedInc        median income in block group\\n    - HouseAge      median house age in block group\\n    - AveRooms      average number of rooms per household\\n    - AveBedrms     average number of bedrooms per household\\n    - Population    block group population\\n    - AveOccup      average number of household members\\n    - Latitude      block group latitude\\n    - Longitude     block group longitude\\n\\n:Missing Attribute Values: None\\n\\nThis dataset was obtained from the StatLib repository.\\nhttps://www.dcc.fc.up.pt/~ltorgo/Regression/cal_housing.html\\n\\nThe target variable is the median house value for California districts,\\nexpressed in hundreds of thousands of dollars ($100,000).\\n\\nThis dataset was derived from the 1990 U.S. census, using one row per census\\nblock group. A block group is the smallest geographical unit for which the U.S.\\nCensus Bureau publishes sample data (a block group typically has a population\\nof 600 to 3,000 people).\\n\\nA household is a group of people residing within a home. Since the average\\nnumber of rooms and bedrooms in this dataset are provided per household, these\\ncolumns may take surprisingly large values for block groups with few households\\nand many empty houses, such as vacation resorts.\\n\\nIt can be downloaded/loaded using the\\n:func:`sklearn.datasets.fetch_california_housing` function.\\n\\n.. rubric:: References\\n\\n- Pace, R. Kelley and Ronald Barry, Sparse Spatial Autoregressions,\\n  Statistics and Probability Letters, 33 (1997) 291-297\\n'}"
      ]
     },
     "execution_count": 29,
     "metadata": {},
     "output_type": "execute_result"
    }
   ],
   "execution_count": 29
  },
  {
   "metadata": {},
   "cell_type": "markdown",
   "source": "# Splitting data into train and test.",
   "id": "d4ee5c97c4d08ff1"
  },
  {
   "metadata": {
    "ExecuteTime": {
     "end_time": "2025-03-26T17:06:11.658352Z",
     "start_time": "2025-03-26T17:06:11.654478Z"
    }
   },
   "cell_type": "code",
   "source": "X_train0, X_test, Y_train0, Y_test = train_test_split(california_housing[\"data\"], california_housing[\"target\"])",
   "id": "1d03ad96117cd460",
   "outputs": [],
   "execution_count": 30
  },
  {
   "metadata": {
    "ExecuteTime": {
     "end_time": "2025-03-26T17:06:12.932060Z",
     "start_time": "2025-03-26T17:06:12.924119Z"
    }
   },
   "cell_type": "code",
   "source": "X_train1, X_validation, Y_train1, Y_validation = train_test_split(X_train0, Y_train0)",
   "id": "165c71bb28853765",
   "outputs": [],
   "execution_count": 31
  },
  {
   "metadata": {
    "ExecuteTime": {
     "end_time": "2025-03-26T17:06:14.021333Z",
     "start_time": "2025-03-26T17:06:14.018122Z"
    }
   },
   "cell_type": "code",
   "source": "X_test.shape",
   "id": "5e19fafead3ba97b",
   "outputs": [
    {
     "data": {
      "text/plain": [
       "(5160, 8)"
      ]
     },
     "execution_count": 32,
     "metadata": {},
     "output_type": "execute_result"
    }
   ],
   "execution_count": 32
  },
  {
   "metadata": {
    "ExecuteTime": {
     "end_time": "2025-03-26T16:51:40.870057Z",
     "start_time": "2025-03-26T16:51:40.866501Z"
    }
   },
   "cell_type": "code",
   "source": "X_train0.shape",
   "id": "54fcacd6a1611d22",
   "outputs": [
    {
     "data": {
      "text/plain": [
       "(15480, 8)"
      ]
     },
     "execution_count": 6,
     "metadata": {},
     "output_type": "execute_result"
    }
   ],
   "execution_count": 6
  },
  {
   "metadata": {
    "ExecuteTime": {
     "end_time": "2025-03-26T16:51:40.920949Z",
     "start_time": "2025-03-26T16:51:40.917214Z"
    }
   },
   "cell_type": "code",
   "source": "X_train1.shape",
   "id": "2651601db22085ba",
   "outputs": [
    {
     "data": {
      "text/plain": [
       "(11610, 8)"
      ]
     },
     "execution_count": 7,
     "metadata": {},
     "output_type": "execute_result"
    }
   ],
   "execution_count": 7
  },
  {
   "metadata": {
    "ExecuteTime": {
     "end_time": "2025-03-26T16:51:40.971768Z",
     "start_time": "2025-03-26T16:51:40.968721Z"
    }
   },
   "cell_type": "code",
   "source": "X_validation.shape",
   "id": "d27717d2895f1136",
   "outputs": [
    {
     "data": {
      "text/plain": [
       "(3870, 8)"
      ]
     },
     "execution_count": 8,
     "metadata": {},
     "output_type": "execute_result"
    }
   ],
   "execution_count": 8
  },
  {
   "metadata": {},
   "cell_type": "markdown",
   "source": [
    "# Normalizing data\n",
    "using \"sklearn.preprocessing.StandardScaler\" function for normalizing data"
   ],
   "id": "d5f81b766123a41e"
  },
  {
   "metadata": {
    "ExecuteTime": {
     "end_time": "2025-03-26T17:06:16.950339Z",
     "start_time": "2025-03-26T17:06:16.943543Z"
    }
   },
   "cell_type": "code",
   "source": [
    "sc = StandardScaler()\n",
    "X_train_s = sc.fit_transform(X_train1)\n",
    "X_validation_s = sc.fit_transform(X_validation)\n",
    "X_test_s = sc.transform(X_test)"
   ],
   "id": "39ad728b48eedb89",
   "outputs": [],
   "execution_count": 33
  },
  {
   "metadata": {},
   "cell_type": "markdown",
   "source": "--------------------------------",
   "id": "fbed35e2f026a826"
  },
  {
   "metadata": {
    "ExecuteTime": {
     "end_time": "2025-03-26T17:06:18.461946Z",
     "start_time": "2025-03-26T17:06:18.455806Z"
    }
   },
   "cell_type": "code",
   "source": "X_train0.shape[1:]",
   "id": "b8169f52f5191661",
   "outputs": [
    {
     "data": {
      "text/plain": [
       "(8,)"
      ]
     },
     "execution_count": 34,
     "metadata": {},
     "output_type": "execute_result"
    }
   ],
   "execution_count": 34
  },
  {
   "metadata": {
    "ExecuteTime": {
     "end_time": "2025-03-26T17:06:20.373443Z",
     "start_time": "2025-03-26T17:06:20.370439Z"
    }
   },
   "cell_type": "code",
   "source": [
    "X_train_s_1, X_train_s_2 = X_train_s[:, :6], X_train_s[:, :-4]\n",
    "X_validation_s_1, X_validation_s_2 = X_validation_s[:, :6], X_validation_s[:, :-4]\n",
    "X_test_s_1, X_test_s_2 = X_test_s[:, :6], X_test_s[:, :-4]"
   ],
   "id": "56ca04c53417051b",
   "outputs": [],
   "execution_count": 35
  },
  {
   "metadata": {},
   "cell_type": "markdown",
   "source": "# Define Model + Compile with Hyperparameter Optimization",
   "id": "b2156c36e6cabac0"
  },
  {
   "metadata": {
    "ExecuteTime": {
     "end_time": "2025-03-26T17:06:21.759490Z",
     "start_time": "2025-03-26T17:06:21.754396Z"
    }
   },
   "cell_type": "code",
   "source": [
    "def ann_model(number_of_hidden_layers=1,\n",
    "              number_of_neurons=50,\n",
    "              lr=0.01):\n",
    "    model = keras.models.Sequential()\n",
    "    model.add(keras.layers.InputLayer(input_shape=[8]))\n",
    "    for hidden_layer in range(number_of_hidden_layers):\n",
    "        model.add(keras.layers.Dense(number_of_neurons, activation=\"selu\"))\n",
    "    model.add(keras.layers.Dense(1))\n",
    "    sgd = keras.optimizers.SGD(lr=lr)\n",
    "    model.compile(loss=\"mse\", optimizer=sgd)\n",
    "    return model"
   ],
   "id": "87277cd5c924d740",
   "outputs": [],
   "execution_count": 36
  },
  {
   "metadata": {},
   "cell_type": "markdown",
   "source": [
    "#### this is deprecated:\n",
    "#### keras_sk_reg = keras.wrappers.scikit_learn.KerasRegressor(build_fn=ann_model)\n",
    "#### instead using scikeras"
   ],
   "id": "a037ce92343caa31"
  },
  {
   "metadata": {
    "ExecuteTime": {
     "end_time": "2025-03-26T17:06:37.500761Z",
     "start_time": "2025-03-26T17:06:37.497269Z"
    }
   },
   "cell_type": "code",
   "source": "keras_sk_reg = KerasRegressor(build_fn=ann_model)",
   "id": "f0fc9ca5730d82f8",
   "outputs": [],
   "execution_count": 38
  },
  {
   "metadata": {
    "ExecuteTime": {
     "end_time": "2025-03-26T17:06:40.798661Z",
     "start_time": "2025-03-26T17:06:40.795341Z"
    }
   },
   "cell_type": "code",
   "source": [
    "param_grid = {\"number_of_hidden_layers\": [1, 3, 5],\n",
    "              \"number_of_neurons\": [50, 100, 150],\n",
    "              \"lr\": [0.001, 0.001, 0.1]}"
   ],
   "id": "25743f2e9db6d587",
   "outputs": [],
   "execution_count": 39
  },
  {
   "metadata": {
    "ExecuteTime": {
     "end_time": "2025-03-26T17:14:03.017803Z",
     "start_time": "2025-03-26T17:14:03.013935Z"
    }
   },
   "cell_type": "code",
   "source": "keras_sk_reg_gs = GridSearchCV(keras_sk_reg, param_grid)",
   "id": "e076eedfe9697051",
   "outputs": [],
   "execution_count": 41
  },
  {
   "metadata": {
    "ExecuteTime": {
     "end_time": "2025-03-26T17:14:55.596411Z",
     "start_time": "2025-03-26T17:14:55.463560Z"
    }
   },
   "cell_type": "code",
   "source": "keras_sk_reg_gs.fit(X_train0, Y_train0)",
   "id": "809e036b69d7cdd1",
   "outputs": [
    {
     "ename": "AttributeError",
     "evalue": "'super' object has no attribute '__sklearn_tags__'",
     "output_type": "error",
     "traceback": [
      "\u001B[31m---------------------------------------------------------------------------\u001B[39m",
      "\u001B[31mAttributeError\u001B[39m                            Traceback (most recent call last)",
      "\u001B[36mCell\u001B[39m\u001B[36m \u001B[39m\u001B[32mIn[42]\u001B[39m\u001B[32m, line 1\u001B[39m\n\u001B[32m----> \u001B[39m\u001B[32m1\u001B[39m \u001B[43mkeras_sk_reg_gs\u001B[49m\u001B[43m.\u001B[49m\u001B[43mfit\u001B[49m\u001B[43m(\u001B[49m\u001B[43mX_train0\u001B[49m\u001B[43m,\u001B[49m\u001B[43m \u001B[49m\u001B[43mY_train0\u001B[49m\u001B[43m)\u001B[49m\n",
      "\u001B[36mFile \u001B[39m\u001B[32m~/repositories/machine-learning/tensorflow-course/start-tensorflow/envs/lib/python3.11/site-packages/sklearn/base.py:1389\u001B[39m, in \u001B[36m_fit_context.<locals>.decorator.<locals>.wrapper\u001B[39m\u001B[34m(estimator, *args, **kwargs)\u001B[39m\n\u001B[32m   1382\u001B[39m     estimator._validate_params()\n\u001B[32m   1384\u001B[39m \u001B[38;5;28;01mwith\u001B[39;00m config_context(\n\u001B[32m   1385\u001B[39m     skip_parameter_validation=(\n\u001B[32m   1386\u001B[39m         prefer_skip_nested_validation \u001B[38;5;129;01mor\u001B[39;00m global_skip_validation\n\u001B[32m   1387\u001B[39m     )\n\u001B[32m   1388\u001B[39m ):\n\u001B[32m-> \u001B[39m\u001B[32m1389\u001B[39m     \u001B[38;5;28;01mreturn\u001B[39;00m \u001B[43mfit_method\u001B[49m\u001B[43m(\u001B[49m\u001B[43mestimator\u001B[49m\u001B[43m,\u001B[49m\u001B[43m \u001B[49m\u001B[43m*\u001B[49m\u001B[43margs\u001B[49m\u001B[43m,\u001B[49m\u001B[43m \u001B[49m\u001B[43m*\u001B[49m\u001B[43m*\u001B[49m\u001B[43mkwargs\u001B[49m\u001B[43m)\u001B[49m\n",
      "\u001B[36mFile \u001B[39m\u001B[32m~/repositories/machine-learning/tensorflow-course/start-tensorflow/envs/lib/python3.11/site-packages/sklearn/model_selection/_search.py:933\u001B[39m, in \u001B[36mBaseSearchCV.fit\u001B[39m\u001B[34m(self, X, y, **params)\u001B[39m\n\u001B[32m    929\u001B[39m params = _check_method_params(X, params=params)\n\u001B[32m    931\u001B[39m routed_params = \u001B[38;5;28mself\u001B[39m._get_routed_params_for_fit(params)\n\u001B[32m--> \u001B[39m\u001B[32m933\u001B[39m cv_orig = check_cv(\u001B[38;5;28mself\u001B[39m.cv, y, classifier=\u001B[43mis_classifier\u001B[49m\u001B[43m(\u001B[49m\u001B[43mestimator\u001B[49m\u001B[43m)\u001B[49m)\n\u001B[32m    934\u001B[39m n_splits = cv_orig.get_n_splits(X, y, **routed_params.splitter.split)\n\u001B[32m    936\u001B[39m base_estimator = clone(\u001B[38;5;28mself\u001B[39m.estimator)\n",
      "\u001B[36mFile \u001B[39m\u001B[32m~/repositories/machine-learning/tensorflow-course/start-tensorflow/envs/lib/python3.11/site-packages/sklearn/base.py:1237\u001B[39m, in \u001B[36mis_classifier\u001B[39m\u001B[34m(estimator)\u001B[39m\n\u001B[32m   1230\u001B[39m     warnings.warn(\n\u001B[32m   1231\u001B[39m         \u001B[33mf\u001B[39m\u001B[33m\"\u001B[39m\u001B[33mpassing a class to \u001B[39m\u001B[38;5;132;01m{\u001B[39;00m\u001B[38;5;28mprint\u001B[39m(inspect.stack()[\u001B[32m0\u001B[39m][\u001B[32m3\u001B[39m])\u001B[38;5;132;01m}\u001B[39;00m\u001B[33m is deprecated and \u001B[39m\u001B[33m\"\u001B[39m\n\u001B[32m   1232\u001B[39m         \u001B[33m\"\u001B[39m\u001B[33mwill be removed in 1.8. Use an instance of the class instead.\u001B[39m\u001B[33m\"\u001B[39m,\n\u001B[32m   1233\u001B[39m         \u001B[38;5;167;01mFutureWarning\u001B[39;00m,\n\u001B[32m   1234\u001B[39m     )\n\u001B[32m   1235\u001B[39m     \u001B[38;5;28;01mreturn\u001B[39;00m \u001B[38;5;28mgetattr\u001B[39m(estimator, \u001B[33m\"\u001B[39m\u001B[33m_estimator_type\u001B[39m\u001B[33m\"\u001B[39m, \u001B[38;5;28;01mNone\u001B[39;00m) == \u001B[33m\"\u001B[39m\u001B[33mclassifier\u001B[39m\u001B[33m\"\u001B[39m\n\u001B[32m-> \u001B[39m\u001B[32m1237\u001B[39m \u001B[38;5;28;01mreturn\u001B[39;00m \u001B[43mget_tags\u001B[49m\u001B[43m(\u001B[49m\u001B[43mestimator\u001B[49m\u001B[43m)\u001B[49m.estimator_type == \u001B[33m\"\u001B[39m\u001B[33mclassifier\u001B[39m\u001B[33m\"\u001B[39m\n",
      "\u001B[36mFile \u001B[39m\u001B[32m~/repositories/machine-learning/tensorflow-course/start-tensorflow/envs/lib/python3.11/site-packages/sklearn/utils/_tags.py:430\u001B[39m, in \u001B[36mget_tags\u001B[39m\u001B[34m(estimator)\u001B[39m\n\u001B[32m    428\u001B[39m \u001B[38;5;28;01mfor\u001B[39;00m klass \u001B[38;5;129;01min\u001B[39;00m \u001B[38;5;28mreversed\u001B[39m(\u001B[38;5;28mtype\u001B[39m(estimator).mro()):\n\u001B[32m    429\u001B[39m     \u001B[38;5;28;01mif\u001B[39;00m \u001B[33m\"\u001B[39m\u001B[33m__sklearn_tags__\u001B[39m\u001B[33m\"\u001B[39m \u001B[38;5;129;01min\u001B[39;00m \u001B[38;5;28mvars\u001B[39m(klass):\n\u001B[32m--> \u001B[39m\u001B[32m430\u001B[39m         sklearn_tags_provider[klass] = \u001B[43mklass\u001B[49m\u001B[43m.\u001B[49m\u001B[43m__sklearn_tags__\u001B[49m\u001B[43m(\u001B[49m\u001B[43mestimator\u001B[49m\u001B[43m)\u001B[49m  \u001B[38;5;66;03m# type: ignore[attr-defined]\u001B[39;00m\n\u001B[32m    431\u001B[39m         class_order.append(klass)\n\u001B[32m    432\u001B[39m     \u001B[38;5;28;01melif\u001B[39;00m \u001B[33m\"\u001B[39m\u001B[33m_more_tags\u001B[39m\u001B[33m\"\u001B[39m \u001B[38;5;129;01min\u001B[39;00m \u001B[38;5;28mvars\u001B[39m(klass):\n",
      "\u001B[36mFile \u001B[39m\u001B[32m~/repositories/machine-learning/tensorflow-course/start-tensorflow/envs/lib/python3.11/site-packages/sklearn/base.py:613\u001B[39m, in \u001B[36mRegressorMixin.__sklearn_tags__\u001B[39m\u001B[34m(self)\u001B[39m\n\u001B[32m    612\u001B[39m \u001B[38;5;28;01mdef\u001B[39;00m\u001B[38;5;250m \u001B[39m\u001B[34m__sklearn_tags__\u001B[39m(\u001B[38;5;28mself\u001B[39m):\n\u001B[32m--> \u001B[39m\u001B[32m613\u001B[39m     tags = \u001B[38;5;28;43msuper\u001B[39;49m\u001B[43m(\u001B[49m\u001B[43m)\u001B[49m\u001B[43m.\u001B[49m\u001B[43m__sklearn_tags__\u001B[49m()\n\u001B[32m    614\u001B[39m     tags.estimator_type = \u001B[33m\"\u001B[39m\u001B[33mregressor\u001B[39m\u001B[33m\"\u001B[39m\n\u001B[32m    615\u001B[39m     tags.regressor_tags = RegressorTags()\n",
      "\u001B[31mAttributeError\u001B[39m: 'super' object has no attribute '__sklearn_tags__'"
     ]
    }
   ],
   "execution_count": 42
  },
  {
   "metadata": {},
   "cell_type": "code",
   "outputs": [],
   "execution_count": null,
   "source": "",
   "id": "413b5759eb4f511"
  },
  {
   "metadata": {},
   "cell_type": "code",
   "outputs": [],
   "execution_count": null,
   "source": "",
   "id": "89b96625d3eeddf0"
  },
  {
   "metadata": {},
   "cell_type": "code",
   "outputs": [],
   "execution_count": null,
   "source": "",
   "id": "f34459753cc2828c"
  },
  {
   "metadata": {},
   "cell_type": "code",
   "outputs": [],
   "execution_count": null,
   "source": "",
   "id": "12335354f4b4e486"
  },
  {
   "metadata": {},
   "cell_type": "code",
   "outputs": [],
   "execution_count": null,
   "source": "",
   "id": "d485ce2012873ec1"
  },
  {
   "metadata": {},
   "cell_type": "code",
   "outputs": [],
   "execution_count": null,
   "source": "",
   "id": "2116b4063fabb990"
  },
  {
   "metadata": {},
   "cell_type": "code",
   "outputs": [],
   "execution_count": null,
   "source": "",
   "id": "1517a4fa64b0fc5d"
  },
  {
   "metadata": {},
   "cell_type": "code",
   "outputs": [],
   "execution_count": null,
   "source": "",
   "id": "832af97658835b64"
  },
  {
   "metadata": {},
   "cell_type": "markdown",
   "source": "# Callbacks",
   "id": "cf951c1b1338a3b2"
  },
  {
   "metadata": {
    "ExecuteTime": {
     "end_time": "2025-03-26T16:51:41.711617665Z",
     "start_time": "2025-03-22T10:11:06.910070Z"
    }
   },
   "cell_type": "code",
   "source": [
    "model_checkpoint_callback = keras.callbacks.ModelCheckpoint(\"model_cb_regression_housing.keras\", save_best_only=True)\n",
    "early_stopping_callback = keras.callbacks.EarlyStopping(patience=5, restore_best_weights=True)\n",
    "tb_callback = keras.callbacks.TensorBoard(\"tb_log3\")"
   ],
   "id": "a083691113a61324",
   "outputs": [],
   "execution_count": 88
  },
  {
   "metadata": {},
   "cell_type": "markdown",
   "source": "# Compile Model",
   "id": "3afb0615e386c186"
  },
  {
   "metadata": {
    "ExecuteTime": {
     "end_time": "2025-03-26T16:51:41.712518383Z",
     "start_time": "2025-03-22T10:11:07.015055Z"
    }
   },
   "cell_type": "code",
   "source": [
    "model_f.compile(loss=[\"mse\", \"mse\"],\n",
    "                loss_weights=[0.8, 0.2],\n",
    "                optimizer=\"sgd\",\n",
    "                metrics=[[\"mean_absolute_error\"], [\"mean_absolute_error\"]])"
   ],
   "id": "14cc03cd63b39d85",
   "outputs": [],
   "execution_count": 90
  },
  {
   "metadata": {},
   "cell_type": "markdown",
   "source": "# Fit Model",
   "id": "cf33f932cd94362a"
  },
  {
   "metadata": {
    "ExecuteTime": {
     "end_time": "2025-03-26T16:51:41.713892276Z",
     "start_time": "2025-03-22T10:11:07.081142Z"
    }
   },
   "cell_type": "code",
   "source": [
    "model_f.fit((X_train_s_1, X_train_s_2), (Y_train1, Y_train1), epochs=5,\n",
    "            validation_data=((X_validation_s_1, X_validation_s_2), (Y_validation, Y_validation)),\n",
    "            callbacks=[tb_callback, model_checkpoint_callback, early_stopping_callback])"
   ],
   "id": "45bd8391b47051f7",
   "outputs": [
    {
     "name": "stdout",
     "output_type": "stream",
     "text": [
      "Epoch 1/5\n",
      "\u001B[1m363/363\u001B[0m \u001B[32m━━━━━━━━━━━━━━━━━━━━\u001B[0m\u001B[37m\u001B[0m \u001B[1m2s\u001B[0m 3ms/step - loss: 1.7204 - mean_absolute_error: 0.8726 - mean_absolute_error_1: 0.9882 - mse_loss: 1.9220 - val_loss: 0.6225 - val_mean_absolute_error: 0.5671 - val_mean_absolute_error_1: 0.5843 - val_mse_loss: 0.6366\n",
      "Epoch 2/5\n",
      "\u001B[1m363/363\u001B[0m \u001B[32m━━━━━━━━━━━━━━━━━━━━\u001B[0m\u001B[37m\u001B[0m \u001B[1m1s\u001B[0m 2ms/step - loss: 0.5822 - mean_absolute_error: 0.5653 - mean_absolute_error_1: 0.5763 - mse_loss: 0.5946 - val_loss: 0.5698 - val_mean_absolute_error: 0.5504 - val_mean_absolute_error_1: 0.5413 - val_mse_loss: 0.5579\n",
      "Epoch 3/5\n",
      "\u001B[1m363/363\u001B[0m \u001B[32m━━━━━━━━━━━━━━━━━━━━\u001B[0m\u001B[37m\u001B[0m \u001B[1m1s\u001B[0m 2ms/step - loss: 0.5505 - mean_absolute_error: 0.5484 - mean_absolute_error_1: 0.5409 - mse_loss: 0.5413 - val_loss: 0.5404 - val_mean_absolute_error: 0.5282 - val_mean_absolute_error_1: 0.5219 - val_mse_loss: 0.5255\n",
      "Epoch 4/5\n",
      "\u001B[1m363/363\u001B[0m \u001B[32m━━━━━━━━━━━━━━━━━━━━\u001B[0m\u001B[37m\u001B[0m \u001B[1m1s\u001B[0m 3ms/step - loss: 0.5649 - mean_absolute_error: 0.5475 - mean_absolute_error_1: 0.5376 - mse_loss: 0.5510 - val_loss: 0.5228 - val_mean_absolute_error: 0.5249 - val_mean_absolute_error_1: 0.5177 - val_mse_loss: 0.5085\n",
      "Epoch 5/5\n",
      "\u001B[1m363/363\u001B[0m \u001B[32m━━━━━━━━━━━━━━━━━━━━\u001B[0m\u001B[37m\u001B[0m \u001B[1m1s\u001B[0m 2ms/step - loss: 0.5413 - mean_absolute_error: 0.5396 - mean_absolute_error_1: 0.5278 - mse_loss: 0.5265 - val_loss: 0.5027 - val_mean_absolute_error: 0.5152 - val_mean_absolute_error_1: 0.5105 - val_mse_loss: 0.4927\n"
     ]
    },
    {
     "data": {
      "text/plain": [
       "<keras.src.callbacks.history.History at 0x76a4e5121f10>"
      ]
     },
     "execution_count": 91,
     "metadata": {},
     "output_type": "execute_result"
    }
   ],
   "execution_count": 91
  },
  {
   "metadata": {
    "ExecuteTime": {
     "end_time": "2025-03-26T16:51:41.715065703Z",
     "start_time": "2025-03-22T10:11:12.115830Z"
    }
   },
   "cell_type": "code",
   "source": "model_f.save(\"housing_reg_model.keras\")",
   "id": "f32d9e361b90b7f",
   "outputs": [],
   "execution_count": 92
  },
  {
   "metadata": {
    "ExecuteTime": {
     "end_time": "2025-03-26T16:51:41.715645587Z",
     "start_time": "2025-03-22T10:11:12.156823Z"
    }
   },
   "cell_type": "code",
   "source": "model_f_reg = keras.models.load_model(\"housing_reg_model.keras\")",
   "id": "1f88563f82446f89",
   "outputs": [],
   "execution_count": 93
  },
  {
   "metadata": {
    "ExecuteTime": {
     "end_time": "2025-03-26T16:51:41.716109197Z",
     "start_time": "2025-03-22T10:11:12.223610Z"
    }
   },
   "cell_type": "code",
   "source": "model_f_reg.summary()",
   "id": "53cbe69ee7cedf33",
   "outputs": [
    {
     "data": {
      "text/plain": [
       "\u001B[1mModel: \"wide_and_deep_ann_2\"\u001B[0m\n"
      ],
      "text/html": [
       "<pre style=\"white-space:pre;overflow-x:auto;line-height:normal;font-family:Menlo,'DejaVu Sans Mono',consolas,'Courier New',monospace\"><span style=\"font-weight: bold\">Model: \"wide_and_deep_ann_2\"</span>\n",
       "</pre>\n"
      ]
     },
     "metadata": {},
     "output_type": "display_data"
    },
    {
     "data": {
      "text/plain": [
       "┏━━━━━━━━━━━━━━━━━━━━━━━━━━━━━━━━━┳━━━━━━━━━━━━━━━━━━━━━━━━┳━━━━━━━━━━━━━━━┓\n",
       "┃\u001B[1m \u001B[0m\u001B[1mLayer (type)                   \u001B[0m\u001B[1m \u001B[0m┃\u001B[1m \u001B[0m\u001B[1mOutput Shape          \u001B[0m\u001B[1m \u001B[0m┃\u001B[1m \u001B[0m\u001B[1m      Param #\u001B[0m\u001B[1m \u001B[0m┃\n",
       "┡━━━━━━━━━━━━━━━━━━━━━━━━━━━━━━━━━╇━━━━━━━━━━━━━━━━━━━━━━━━╇━━━━━━━━━━━━━━━┩\n",
       "│ dense_20 (\u001B[38;5;33mDense\u001B[0m)                │ (\u001B[38;5;45mNone\u001B[0m, \u001B[38;5;34m50\u001B[0m)             │           \u001B[38;5;34m350\u001B[0m │\n",
       "├─────────────────────────────────┼────────────────────────┼───────────────┤\n",
       "│ dense_21 (\u001B[38;5;33mDense\u001B[0m)                │ (\u001B[38;5;45mNone\u001B[0m, \u001B[38;5;34m10\u001B[0m)             │           \u001B[38;5;34m510\u001B[0m │\n",
       "├─────────────────────────────────┼────────────────────────┼───────────────┤\n",
       "│ dense_22 (\u001B[38;5;33mDense\u001B[0m)                │ (\u001B[38;5;45mNone\u001B[0m, \u001B[38;5;34m1\u001B[0m)              │            \u001B[38;5;34m15\u001B[0m │\n",
       "├─────────────────────────────────┼────────────────────────┼───────────────┤\n",
       "│ dense_23 (\u001B[38;5;33mDense\u001B[0m)                │ (\u001B[38;5;45mNone\u001B[0m, \u001B[38;5;34m1\u001B[0m)              │            \u001B[38;5;34m11\u001B[0m │\n",
       "└─────────────────────────────────┴────────────────────────┴───────────────┘\n"
      ],
      "text/html": [
       "<pre style=\"white-space:pre;overflow-x:auto;line-height:normal;font-family:Menlo,'DejaVu Sans Mono',consolas,'Courier New',monospace\">┏━━━━━━━━━━━━━━━━━━━━━━━━━━━━━━━━━┳━━━━━━━━━━━━━━━━━━━━━━━━┳━━━━━━━━━━━━━━━┓\n",
       "┃<span style=\"font-weight: bold\"> Layer (type)                    </span>┃<span style=\"font-weight: bold\"> Output Shape           </span>┃<span style=\"font-weight: bold\">       Param # </span>┃\n",
       "┡━━━━━━━━━━━━━━━━━━━━━━━━━━━━━━━━━╇━━━━━━━━━━━━━━━━━━━━━━━━╇━━━━━━━━━━━━━━━┩\n",
       "│ dense_20 (<span style=\"color: #0087ff; text-decoration-color: #0087ff\">Dense</span>)                │ (<span style=\"color: #00d7ff; text-decoration-color: #00d7ff\">None</span>, <span style=\"color: #00af00; text-decoration-color: #00af00\">50</span>)             │           <span style=\"color: #00af00; text-decoration-color: #00af00\">350</span> │\n",
       "├─────────────────────────────────┼────────────────────────┼───────────────┤\n",
       "│ dense_21 (<span style=\"color: #0087ff; text-decoration-color: #0087ff\">Dense</span>)                │ (<span style=\"color: #00d7ff; text-decoration-color: #00d7ff\">None</span>, <span style=\"color: #00af00; text-decoration-color: #00af00\">10</span>)             │           <span style=\"color: #00af00; text-decoration-color: #00af00\">510</span> │\n",
       "├─────────────────────────────────┼────────────────────────┼───────────────┤\n",
       "│ dense_22 (<span style=\"color: #0087ff; text-decoration-color: #0087ff\">Dense</span>)                │ (<span style=\"color: #00d7ff; text-decoration-color: #00d7ff\">None</span>, <span style=\"color: #00af00; text-decoration-color: #00af00\">1</span>)              │            <span style=\"color: #00af00; text-decoration-color: #00af00\">15</span> │\n",
       "├─────────────────────────────────┼────────────────────────┼───────────────┤\n",
       "│ dense_23 (<span style=\"color: #0087ff; text-decoration-color: #0087ff\">Dense</span>)                │ (<span style=\"color: #00d7ff; text-decoration-color: #00d7ff\">None</span>, <span style=\"color: #00af00; text-decoration-color: #00af00\">1</span>)              │            <span style=\"color: #00af00; text-decoration-color: #00af00\">11</span> │\n",
       "└─────────────────────────────────┴────────────────────────┴───────────────┘\n",
       "</pre>\n"
      ]
     },
     "metadata": {},
     "output_type": "display_data"
    },
    {
     "data": {
      "text/plain": [
       "\u001B[1m Total params: \u001B[0m\u001B[38;5;34m888\u001B[0m (3.47 KB)\n"
      ],
      "text/html": [
       "<pre style=\"white-space:pre;overflow-x:auto;line-height:normal;font-family:Menlo,'DejaVu Sans Mono',consolas,'Courier New',monospace\"><span style=\"font-weight: bold\"> Total params: </span><span style=\"color: #00af00; text-decoration-color: #00af00\">888</span> (3.47 KB)\n",
       "</pre>\n"
      ]
     },
     "metadata": {},
     "output_type": "display_data"
    },
    {
     "data": {
      "text/plain": [
       "\u001B[1m Trainable params: \u001B[0m\u001B[38;5;34m886\u001B[0m (3.46 KB)\n"
      ],
      "text/html": [
       "<pre style=\"white-space:pre;overflow-x:auto;line-height:normal;font-family:Menlo,'DejaVu Sans Mono',consolas,'Courier New',monospace\"><span style=\"font-weight: bold\"> Trainable params: </span><span style=\"color: #00af00; text-decoration-color: #00af00\">886</span> (3.46 KB)\n",
       "</pre>\n"
      ]
     },
     "metadata": {},
     "output_type": "display_data"
    },
    {
     "data": {
      "text/plain": [
       "\u001B[1m Non-trainable params: \u001B[0m\u001B[38;5;34m0\u001B[0m (0.00 B)\n"
      ],
      "text/html": [
       "<pre style=\"white-space:pre;overflow-x:auto;line-height:normal;font-family:Menlo,'DejaVu Sans Mono',consolas,'Courier New',monospace\"><span style=\"font-weight: bold\"> Non-trainable params: </span><span style=\"color: #00af00; text-decoration-color: #00af00\">0</span> (0.00 B)\n",
       "</pre>\n"
      ]
     },
     "metadata": {},
     "output_type": "display_data"
    },
    {
     "data": {
      "text/plain": [
       "\u001B[1m Optimizer params: \u001B[0m\u001B[38;5;34m2\u001B[0m (12.00 B)\n"
      ],
      "text/html": [
       "<pre style=\"white-space:pre;overflow-x:auto;line-height:normal;font-family:Menlo,'DejaVu Sans Mono',consolas,'Courier New',monospace\"><span style=\"font-weight: bold\"> Optimizer params: </span><span style=\"color: #00af00; text-decoration-color: #00af00\">2</span> (12.00 B)\n",
       "</pre>\n"
      ]
     },
     "metadata": {},
     "output_type": "display_data"
    }
   ],
   "execution_count": 94
  }
 ],
 "metadata": {
  "kernelspec": {
   "name": "python3",
   "language": "python",
   "display_name": "Python 3 (ipykernel)"
  }
 },
 "nbformat": 5,
 "nbformat_minor": 9
}
