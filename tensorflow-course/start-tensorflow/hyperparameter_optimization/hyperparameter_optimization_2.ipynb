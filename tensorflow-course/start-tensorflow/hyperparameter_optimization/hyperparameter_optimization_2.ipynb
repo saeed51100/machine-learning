{
 "cells": [
  {
   "metadata": {
    "ExecuteTime": {
     "end_time": "2025-03-20T07:05:19.994762Z",
     "start_time": "2025-03-20T07:05:19.987558Z"
    }
   },
   "cell_type": "code",
   "source": [
    "import tensorflow as tf\n",
    "from tensorflow import keras\n",
    "from sklearn.datasets import fetch_california_housing\n",
    "from sklearn.model_selection import train_test_split\n",
    "from sklearn.preprocessing import StandardScaler\n",
    "from tensorflow.keras.saving import register_keras_serializable\n",
    "from scikeras.wrappers import KerasRegressor"
   ],
   "id": "50f534d73f333375",
   "outputs": [],
   "execution_count": 33
  },
  {
   "metadata": {
    "ExecuteTime": {
     "end_time": "2025-03-20T07:05:20.049160Z",
     "start_time": "2025-03-20T07:05:20.039717Z"
    }
   },
   "cell_type": "code",
   "source": [
    "california_housing = fetch_california_housing()\n",
    "california_housing"
   ],
   "id": "a64bbb9b26724c56",
   "outputs": [
    {
     "data": {
      "text/plain": [
       "{'data': array([[   8.3252    ,   41.        ,    6.98412698, ...,    2.55555556,\n",
       "           37.88      , -122.23      ],\n",
       "        [   8.3014    ,   21.        ,    6.23813708, ...,    2.10984183,\n",
       "           37.86      , -122.22      ],\n",
       "        [   7.2574    ,   52.        ,    8.28813559, ...,    2.80225989,\n",
       "           37.85      , -122.24      ],\n",
       "        ...,\n",
       "        [   1.7       ,   17.        ,    5.20554273, ...,    2.3256351 ,\n",
       "           39.43      , -121.22      ],\n",
       "        [   1.8672    ,   18.        ,    5.32951289, ...,    2.12320917,\n",
       "           39.43      , -121.32      ],\n",
       "        [   2.3886    ,   16.        ,    5.25471698, ...,    2.61698113,\n",
       "           39.37      , -121.24      ]]),\n",
       " 'target': array([4.526, 3.585, 3.521, ..., 0.923, 0.847, 0.894]),\n",
       " 'frame': None,\n",
       " 'target_names': ['MedHouseVal'],\n",
       " 'feature_names': ['MedInc',\n",
       "  'HouseAge',\n",
       "  'AveRooms',\n",
       "  'AveBedrms',\n",
       "  'Population',\n",
       "  'AveOccup',\n",
       "  'Latitude',\n",
       "  'Longitude'],\n",
       " 'DESCR': '.. _california_housing_dataset:\\n\\nCalifornia Housing dataset\\n--------------------------\\n\\n**Data Set Characteristics:**\\n\\n:Number of Instances: 20640\\n\\n:Number of Attributes: 8 numeric, predictive attributes and the target\\n\\n:Attribute Information:\\n    - MedInc        median income in block group\\n    - HouseAge      median house age in block group\\n    - AveRooms      average number of rooms per household\\n    - AveBedrms     average number of bedrooms per household\\n    - Population    block group population\\n    - AveOccup      average number of household members\\n    - Latitude      block group latitude\\n    - Longitude     block group longitude\\n\\n:Missing Attribute Values: None\\n\\nThis dataset was obtained from the StatLib repository.\\nhttps://www.dcc.fc.up.pt/~ltorgo/Regression/cal_housing.html\\n\\nThe target variable is the median house value for California districts,\\nexpressed in hundreds of thousands of dollars ($100,000).\\n\\nThis dataset was derived from the 1990 U.S. census, using one row per census\\nblock group. A block group is the smallest geographical unit for which the U.S.\\nCensus Bureau publishes sample data (a block group typically has a population\\nof 600 to 3,000 people).\\n\\nA household is a group of people residing within a home. Since the average\\nnumber of rooms and bedrooms in this dataset are provided per household, these\\ncolumns may take surprisingly large values for block groups with few households\\nand many empty houses, such as vacation resorts.\\n\\nIt can be downloaded/loaded using the\\n:func:`sklearn.datasets.fetch_california_housing` function.\\n\\n.. rubric:: References\\n\\n- Pace, R. Kelley and Ronald Barry, Sparse Spatial Autoregressions,\\n  Statistics and Probability Letters, 33 (1997) 291-297\\n'}"
      ]
     },
     "execution_count": 34,
     "metadata": {},
     "output_type": "execute_result"
    }
   ],
   "execution_count": 34
  },
  {
   "metadata": {},
   "cell_type": "markdown",
   "source": "# Splitting data into train and test.",
   "id": "d4ee5c97c4d08ff1"
  },
  {
   "metadata": {
    "ExecuteTime": {
     "end_time": "2025-03-20T07:05:20.092170Z",
     "start_time": "2025-03-20T07:05:20.088093Z"
    }
   },
   "cell_type": "code",
   "source": "X_train0, X_test, Y_train0, Y_test = train_test_split(california_housing[\"data\"], california_housing[\"target\"])",
   "id": "1d03ad96117cd460",
   "outputs": [],
   "execution_count": 35
  },
  {
   "metadata": {
    "ExecuteTime": {
     "end_time": "2025-03-20T07:05:20.146787Z",
     "start_time": "2025-03-20T07:05:20.142594Z"
    }
   },
   "cell_type": "code",
   "source": "X_train1, X_validation, Y_train1, Y_validation = train_test_split(X_train0, Y_train0)",
   "id": "165c71bb28853765",
   "outputs": [],
   "execution_count": 36
  },
  {
   "metadata": {
    "ExecuteTime": {
     "end_time": "2025-03-20T07:05:20.193614Z",
     "start_time": "2025-03-20T07:05:20.190407Z"
    }
   },
   "cell_type": "code",
   "source": "X_test.shape",
   "id": "5e19fafead3ba97b",
   "outputs": [
    {
     "data": {
      "text/plain": [
       "(5160, 8)"
      ]
     },
     "execution_count": 37,
     "metadata": {},
     "output_type": "execute_result"
    }
   ],
   "execution_count": 37
  },
  {
   "metadata": {
    "ExecuteTime": {
     "end_time": "2025-03-20T07:05:20.241718Z",
     "start_time": "2025-03-20T07:05:20.238805Z"
    }
   },
   "cell_type": "code",
   "source": "X_train0.shape",
   "id": "54fcacd6a1611d22",
   "outputs": [
    {
     "data": {
      "text/plain": [
       "(15480, 8)"
      ]
     },
     "execution_count": 38,
     "metadata": {},
     "output_type": "execute_result"
    }
   ],
   "execution_count": 38
  },
  {
   "metadata": {
    "ExecuteTime": {
     "end_time": "2025-03-20T07:05:20.290992Z",
     "start_time": "2025-03-20T07:05:20.287868Z"
    }
   },
   "cell_type": "code",
   "source": "X_train1.shape",
   "id": "2651601db22085ba",
   "outputs": [
    {
     "data": {
      "text/plain": [
       "(11610, 8)"
      ]
     },
     "execution_count": 39,
     "metadata": {},
     "output_type": "execute_result"
    }
   ],
   "execution_count": 39
  },
  {
   "metadata": {
    "ExecuteTime": {
     "end_time": "2025-03-20T07:05:20.347230Z",
     "start_time": "2025-03-20T07:05:20.341206Z"
    }
   },
   "cell_type": "code",
   "source": "X_validation.shape",
   "id": "d27717d2895f1136",
   "outputs": [
    {
     "data": {
      "text/plain": [
       "(3870, 8)"
      ]
     },
     "execution_count": 40,
     "metadata": {},
     "output_type": "execute_result"
    }
   ],
   "execution_count": 40
  },
  {
   "metadata": {},
   "cell_type": "markdown",
   "source": [
    "# Normalizing data\n",
    "using \"sklearn.preprocessing.StandardScaler\" function for normalizing data"
   ],
   "id": "d5f81b766123a41e"
  },
  {
   "metadata": {
    "ExecuteTime": {
     "end_time": "2025-03-20T07:05:20.400014Z",
     "start_time": "2025-03-20T07:05:20.393570Z"
    }
   },
   "cell_type": "code",
   "source": [
    "sc = StandardScaler()\n",
    "X_train_s = sc.fit_transform(X_train1)\n",
    "X_validation_s = sc.fit_transform(X_validation)\n",
    "X_test_s = sc.transform(X_test)"
   ],
   "id": "39ad728b48eedb89",
   "outputs": [],
   "execution_count": 41
  },
  {
   "metadata": {},
   "cell_type": "markdown",
   "source": "--------------------------------",
   "id": "fbed35e2f026a826"
  },
  {
   "metadata": {
    "ExecuteTime": {
     "end_time": "2025-03-20T07:05:20.444093Z",
     "start_time": "2025-03-20T07:05:20.441234Z"
    }
   },
   "cell_type": "code",
   "source": "X_train0.shape[1:]",
   "id": "b8169f52f5191661",
   "outputs": [
    {
     "data": {
      "text/plain": [
       "(8,)"
      ]
     },
     "execution_count": 42,
     "metadata": {},
     "output_type": "execute_result"
    }
   ],
   "execution_count": 42
  },
  {
   "metadata": {
    "ExecuteTime": {
     "end_time": "2025-03-20T07:05:20.491501Z",
     "start_time": "2025-03-20T07:05:20.488641Z"
    }
   },
   "cell_type": "code",
   "source": [
    "X_train_s_1, X_train_s_2 = X_train_s[:, :6], X_train_s[:, :-4]\n",
    "X_validation_s_1, X_validation_s_2 = X_validation_s[:, :6], X_validation_s[:, :-4]\n",
    "X_test_s_1, X_test_s_2 = X_test_s[:, :6], X_test_s[:, :-4]"
   ],
   "id": "56ca04c53417051b",
   "outputs": [],
   "execution_count": 43
  },
  {
   "metadata": {},
   "cell_type": "markdown",
   "source": "# Subclass API",
   "id": "b2156c36e6cabac0"
  },
  {
   "metadata": {
    "ExecuteTime": {
     "end_time": "2025-03-20T07:05:20.538728Z",
     "start_time": "2025-03-20T07:05:20.534981Z"
    }
   },
   "cell_type": "code",
   "source": [
    "@register_keras_serializable()\n",
    "class WideAndDeepANN(keras.Model):\n",
    "    def __init__(self, activation=\"relu\", **kwargs):\n",
    "        super().__init__(**kwargs)\n",
    "        self.hidden_layer_1 = keras.layers.Dense(50, activation=activation)\n",
    "        self.hidden_layer_2 = keras.layers.Dense(10, activation=activation)\n",
    "        self.final_output = keras.layers.Dense(1)\n",
    "        self.helper_output = keras.layers.Dense(1)\n",
    "\n",
    "    def call(self, inputs):\n",
    "        input_1, input_2 = inputs\n",
    "        h1_out = self.hidden_layer_1(input_1)\n",
    "        h2_out = self.hidden_layer_2(h1_out)\n",
    "        concat_out = keras.layers.concatenate([input_2, h2_out])\n",
    "        final_out = self.final_output(concat_out)\n",
    "        helper_out = self.helper_output(h2_out)\n",
    "        return final_out, helper_out"
   ],
   "id": "87277cd5c924d740",
   "outputs": [],
   "execution_count": 44
  },
  {
   "metadata": {
    "ExecuteTime": {
     "end_time": "2025-03-20T07:05:20.586661Z",
     "start_time": "2025-03-20T07:05:20.581713Z"
    }
   },
   "cell_type": "code",
   "source": "model_f = WideAndDeepANN()",
   "id": "22d31a6fe56ef937",
   "outputs": [],
   "execution_count": 45
  },
  {
   "metadata": {},
   "cell_type": "markdown",
   "source": "# Callback",
   "id": "cf951c1b1338a3b2"
  },
  {
   "metadata": {
    "ExecuteTime": {
     "end_time": "2025-03-20T07:05:20.634044Z",
     "start_time": "2025-03-20T07:05:20.630409Z"
    }
   },
   "cell_type": "code",
   "source": [
    "model_checkpoint_callback = keras.callbacks.ModelCheckpoint(\"model_cb_regression_housing.keras\", save_best_only=True)\n",
    "early_stopping_callback = keras.callbacks.EarlyStopping(patience=5, restore_best_weights=True)"
   ],
   "id": "a083691113a61324",
   "outputs": [],
   "execution_count": 46
  },
  {
   "metadata": {
    "ExecuteTime": {
     "end_time": "2025-03-20T07:05:20.684602Z",
     "start_time": "2025-03-20T07:05:20.679791Z"
    }
   },
   "cell_type": "code",
   "source": "tb_callback = keras.callbacks.TensorBoard(\"tb_log3\")",
   "id": "d6461f2321720632",
   "outputs": [],
   "execution_count": 47
  },
  {
   "metadata": {},
   "cell_type": "markdown",
   "source": "# Compile Model",
   "id": "3afb0615e386c186"
  },
  {
   "metadata": {
    "ExecuteTime": {
     "end_time": "2025-03-20T07:05:20.736796Z",
     "start_time": "2025-03-20T07:05:20.729797Z"
    }
   },
   "cell_type": "code",
   "source": [
    "model_f.compile(loss=[\"mse\", \"mse\"],\n",
    "                loss_weights=[0.8, 0.2],\n",
    "                optimizer=\"sgd\",\n",
    "                metrics=[[\"mean_absolute_error\"], [\"mean_absolute_error\"]])"
   ],
   "id": "14cc03cd63b39d85",
   "outputs": [],
   "execution_count": 48
  },
  {
   "metadata": {},
   "cell_type": "markdown",
   "source": "# Fit Model",
   "id": "cf33f932cd94362a"
  },
  {
   "metadata": {
    "ExecuteTime": {
     "end_time": "2025-03-20T07:05:25.442299Z",
     "start_time": "2025-03-20T07:05:20.783795Z"
    }
   },
   "cell_type": "code",
   "source": [
    "model_f.fit((X_train_s_1, X_train_s_2), (Y_train1, Y_train1), epochs=5,\n",
    "            validation_data=((X_validation_s_1, X_validation_s_2), (Y_validation, Y_validation)),\n",
    "            callbacks=[tb_callback])"
   ],
   "id": "45bd8391b47051f7",
   "outputs": [
    {
     "name": "stdout",
     "output_type": "stream",
     "text": [
      "Epoch 1/5\n",
      "\u001B[1m363/363\u001B[0m \u001B[32m━━━━━━━━━━━━━━━━━━━━\u001B[0m\u001B[37m\u001B[0m \u001B[1m1s\u001B[0m 2ms/step - loss: 2.1112 - mean_absolute_error: 0.9100 - mean_absolute_error_1: 0.9338 - mse_loss: 1.9873 - val_loss: 0.6242 - val_mean_absolute_error: 0.5682 - val_mean_absolute_error_1: 0.6302 - val_mse_loss: 0.6782\n",
      "Epoch 2/5\n",
      "\u001B[1m363/363\u001B[0m \u001B[32m━━━━━━━━━━━━━━━━━━━━\u001B[0m\u001B[37m\u001B[0m \u001B[1m1s\u001B[0m 2ms/step - loss: 0.6225 - mean_absolute_error: 0.5583 - mean_absolute_error_1: 0.5493 - mse_loss: 0.5762 - val_loss: 0.6332 - val_mean_absolute_error: 0.5858 - val_mean_absolute_error_1: 0.6970 - val_mse_loss: 0.7819\n",
      "Epoch 3/5\n",
      "\u001B[1m363/363\u001B[0m \u001B[32m━━━━━━━━━━━━━━━━━━━━\u001B[0m\u001B[37m\u001B[0m \u001B[1m1s\u001B[0m 2ms/step - loss: 0.5308 - mean_absolute_error: 0.5250 - mean_absolute_error_1: 0.5175 - mse_loss: 0.5161 - val_loss: 0.7124 - val_mean_absolute_error: 0.6331 - val_mean_absolute_error_1: 0.7779 - val_mse_loss: 0.9389\n",
      "Epoch 4/5\n",
      "\u001B[1m363/363\u001B[0m \u001B[32m━━━━━━━━━━━━━━━━━━━━\u001B[0m\u001B[37m\u001B[0m \u001B[1m1s\u001B[0m 2ms/step - loss: 0.4749 - mean_absolute_error: 0.5022 - mean_absolute_error_1: 0.4990 - mse_loss: 0.4740 - val_loss: 0.8582 - val_mean_absolute_error: 0.6899 - val_mean_absolute_error_1: 0.8501 - val_mse_loss: 1.1197\n",
      "Epoch 5/5\n",
      "\u001B[1m363/363\u001B[0m \u001B[32m━━━━━━━━━━━━━━━━━━━━\u001B[0m\u001B[37m\u001B[0m \u001B[1m1s\u001B[0m 2ms/step - loss: 0.4971 - mean_absolute_error: 0.5116 - mean_absolute_error_1: 0.5085 - mse_loss: 0.4857 - val_loss: 0.9453 - val_mean_absolute_error: 0.7335 - val_mean_absolute_error_1: 0.9130 - val_mse_loss: 1.2953\n"
     ]
    },
    {
     "data": {
      "text/plain": [
       "<keras.src.callbacks.history.History at 0x72c1e4fe4090>"
      ]
     },
     "execution_count": 49,
     "metadata": {},
     "output_type": "execute_result"
    }
   ],
   "execution_count": 49
  },
  {
   "metadata": {
    "ExecuteTime": {
     "end_time": "2025-03-20T07:05:25.476058Z",
     "start_time": "2025-03-20T07:05:25.458463Z"
    }
   },
   "cell_type": "code",
   "source": "model_f.save(\"housing_reg_model.keras\")",
   "id": "f32d9e361b90b7f",
   "outputs": [],
   "execution_count": 50
  },
  {
   "metadata": {
    "ExecuteTime": {
     "end_time": "2025-03-20T07:05:25.563017Z",
     "start_time": "2025-03-20T07:05:25.502739Z"
    }
   },
   "cell_type": "code",
   "source": "model_f_reg = keras.models.load_model(\"housing_reg_model.keras\")",
   "id": "1f88563f82446f89",
   "outputs": [],
   "execution_count": 51
  },
  {
   "metadata": {
    "ExecuteTime": {
     "end_time": "2025-03-20T07:05:25.587204Z",
     "start_time": "2025-03-20T07:05:25.577164Z"
    }
   },
   "cell_type": "code",
   "source": "model_f_reg.summary()",
   "id": "53cbe69ee7cedf33",
   "outputs": [
    {
     "data": {
      "text/plain": [
       "\u001B[1mModel: \"wide_and_deep_ann_1\"\u001B[0m\n"
      ],
      "text/html": [
       "<pre style=\"white-space:pre;overflow-x:auto;line-height:normal;font-family:Menlo,'DejaVu Sans Mono',consolas,'Courier New',monospace\"><span style=\"font-weight: bold\">Model: \"wide_and_deep_ann_1\"</span>\n",
       "</pre>\n"
      ]
     },
     "metadata": {},
     "output_type": "display_data"
    },
    {
     "data": {
      "text/plain": [
       "┏━━━━━━━━━━━━━━━━━━━━━━━━━━━━━━━━━┳━━━━━━━━━━━━━━━━━━━━━━━━┳━━━━━━━━━━━━━━━┓\n",
       "┃\u001B[1m \u001B[0m\u001B[1mLayer (type)                   \u001B[0m\u001B[1m \u001B[0m┃\u001B[1m \u001B[0m\u001B[1mOutput Shape          \u001B[0m\u001B[1m \u001B[0m┃\u001B[1m \u001B[0m\u001B[1m      Param #\u001B[0m\u001B[1m \u001B[0m┃\n",
       "┡━━━━━━━━━━━━━━━━━━━━━━━━━━━━━━━━━╇━━━━━━━━━━━━━━━━━━━━━━━━╇━━━━━━━━━━━━━━━┩\n",
       "│ dense_12 (\u001B[38;5;33mDense\u001B[0m)                │ (\u001B[38;5;45mNone\u001B[0m, \u001B[38;5;34m50\u001B[0m)             │           \u001B[38;5;34m350\u001B[0m │\n",
       "├─────────────────────────────────┼────────────────────────┼───────────────┤\n",
       "│ dense_13 (\u001B[38;5;33mDense\u001B[0m)                │ (\u001B[38;5;45mNone\u001B[0m, \u001B[38;5;34m10\u001B[0m)             │           \u001B[38;5;34m510\u001B[0m │\n",
       "├─────────────────────────────────┼────────────────────────┼───────────────┤\n",
       "│ dense_14 (\u001B[38;5;33mDense\u001B[0m)                │ (\u001B[38;5;45mNone\u001B[0m, \u001B[38;5;34m1\u001B[0m)              │            \u001B[38;5;34m15\u001B[0m │\n",
       "├─────────────────────────────────┼────────────────────────┼───────────────┤\n",
       "│ dense_15 (\u001B[38;5;33mDense\u001B[0m)                │ (\u001B[38;5;45mNone\u001B[0m, \u001B[38;5;34m1\u001B[0m)              │            \u001B[38;5;34m11\u001B[0m │\n",
       "└─────────────────────────────────┴────────────────────────┴───────────────┘\n"
      ],
      "text/html": [
       "<pre style=\"white-space:pre;overflow-x:auto;line-height:normal;font-family:Menlo,'DejaVu Sans Mono',consolas,'Courier New',monospace\">┏━━━━━━━━━━━━━━━━━━━━━━━━━━━━━━━━━┳━━━━━━━━━━━━━━━━━━━━━━━━┳━━━━━━━━━━━━━━━┓\n",
       "┃<span style=\"font-weight: bold\"> Layer (type)                    </span>┃<span style=\"font-weight: bold\"> Output Shape           </span>┃<span style=\"font-weight: bold\">       Param # </span>┃\n",
       "┡━━━━━━━━━━━━━━━━━━━━━━━━━━━━━━━━━╇━━━━━━━━━━━━━━━━━━━━━━━━╇━━━━━━━━━━━━━━━┩\n",
       "│ dense_12 (<span style=\"color: #0087ff; text-decoration-color: #0087ff\">Dense</span>)                │ (<span style=\"color: #00d7ff; text-decoration-color: #00d7ff\">None</span>, <span style=\"color: #00af00; text-decoration-color: #00af00\">50</span>)             │           <span style=\"color: #00af00; text-decoration-color: #00af00\">350</span> │\n",
       "├─────────────────────────────────┼────────────────────────┼───────────────┤\n",
       "│ dense_13 (<span style=\"color: #0087ff; text-decoration-color: #0087ff\">Dense</span>)                │ (<span style=\"color: #00d7ff; text-decoration-color: #00d7ff\">None</span>, <span style=\"color: #00af00; text-decoration-color: #00af00\">10</span>)             │           <span style=\"color: #00af00; text-decoration-color: #00af00\">510</span> │\n",
       "├─────────────────────────────────┼────────────────────────┼───────────────┤\n",
       "│ dense_14 (<span style=\"color: #0087ff; text-decoration-color: #0087ff\">Dense</span>)                │ (<span style=\"color: #00d7ff; text-decoration-color: #00d7ff\">None</span>, <span style=\"color: #00af00; text-decoration-color: #00af00\">1</span>)              │            <span style=\"color: #00af00; text-decoration-color: #00af00\">15</span> │\n",
       "├─────────────────────────────────┼────────────────────────┼───────────────┤\n",
       "│ dense_15 (<span style=\"color: #0087ff; text-decoration-color: #0087ff\">Dense</span>)                │ (<span style=\"color: #00d7ff; text-decoration-color: #00d7ff\">None</span>, <span style=\"color: #00af00; text-decoration-color: #00af00\">1</span>)              │            <span style=\"color: #00af00; text-decoration-color: #00af00\">11</span> │\n",
       "└─────────────────────────────────┴────────────────────────┴───────────────┘\n",
       "</pre>\n"
      ]
     },
     "metadata": {},
     "output_type": "display_data"
    },
    {
     "data": {
      "text/plain": [
       "\u001B[1m Total params: \u001B[0m\u001B[38;5;34m888\u001B[0m (3.47 KB)\n"
      ],
      "text/html": [
       "<pre style=\"white-space:pre;overflow-x:auto;line-height:normal;font-family:Menlo,'DejaVu Sans Mono',consolas,'Courier New',monospace\"><span style=\"font-weight: bold\"> Total params: </span><span style=\"color: #00af00; text-decoration-color: #00af00\">888</span> (3.47 KB)\n",
       "</pre>\n"
      ]
     },
     "metadata": {},
     "output_type": "display_data"
    },
    {
     "data": {
      "text/plain": [
       "\u001B[1m Trainable params: \u001B[0m\u001B[38;5;34m886\u001B[0m (3.46 KB)\n"
      ],
      "text/html": [
       "<pre style=\"white-space:pre;overflow-x:auto;line-height:normal;font-family:Menlo,'DejaVu Sans Mono',consolas,'Courier New',monospace\"><span style=\"font-weight: bold\"> Trainable params: </span><span style=\"color: #00af00; text-decoration-color: #00af00\">886</span> (3.46 KB)\n",
       "</pre>\n"
      ]
     },
     "metadata": {},
     "output_type": "display_data"
    },
    {
     "data": {
      "text/plain": [
       "\u001B[1m Non-trainable params: \u001B[0m\u001B[38;5;34m0\u001B[0m (0.00 B)\n"
      ],
      "text/html": [
       "<pre style=\"white-space:pre;overflow-x:auto;line-height:normal;font-family:Menlo,'DejaVu Sans Mono',consolas,'Courier New',monospace\"><span style=\"font-weight: bold\"> Non-trainable params: </span><span style=\"color: #00af00; text-decoration-color: #00af00\">0</span> (0.00 B)\n",
       "</pre>\n"
      ]
     },
     "metadata": {},
     "output_type": "display_data"
    },
    {
     "data": {
      "text/plain": [
       "\u001B[1m Optimizer params: \u001B[0m\u001B[38;5;34m2\u001B[0m (12.00 B)\n"
      ],
      "text/html": [
       "<pre style=\"white-space:pre;overflow-x:auto;line-height:normal;font-family:Menlo,'DejaVu Sans Mono',consolas,'Courier New',monospace\"><span style=\"font-weight: bold\"> Optimizer params: </span><span style=\"color: #00af00; text-decoration-color: #00af00\">2</span> (12.00 B)\n",
       "</pre>\n"
      ]
     },
     "metadata": {},
     "output_type": "display_data"
    }
   ],
   "execution_count": 52
  },
  {
   "metadata": {
    "ExecuteTime": {
     "end_time": "2025-03-20T07:05:25.684331Z",
     "start_time": "2025-03-20T07:05:25.681547Z"
    }
   },
   "cell_type": "code",
   "source": [
    "class Mycallback(keras.callbacks.Callback):\n",
    "    def on_train_end(self, logs=None):\n",
    "        print(\"\")\n",
    "    def on_epoch_end(self, epoch, logs):\n",
    "        print(logs[\"var_loss\"])"
   ],
   "id": "61dffae559728c44",
   "outputs": [],
   "execution_count": 53
  },
  {
   "metadata": {
    "ExecuteTime": {
     "end_time": "2025-03-20T07:05:25.740063Z",
     "start_time": "2025-03-20T07:05:25.737946Z"
    }
   },
   "cell_type": "code",
   "source": "mycb = Mycallback",
   "id": "39203d0571e39b27",
   "outputs": [],
   "execution_count": 54
  },
  {
   "metadata": {
    "ExecuteTime": {
     "end_time": "2025-03-20T07:05:25.807207Z",
     "start_time": "2025-03-20T07:05:25.801266Z"
    }
   },
   "cell_type": "code",
   "source": [
    "%load_ext tensorboard\n",
    "%tensorboard --logdir=\"tb_log3\""
   ],
   "id": "d99a4f0ad5fa7edc",
   "outputs": [
    {
     "name": "stdout",
     "output_type": "stream",
     "text": [
      "The tensorboard extension is already loaded. To reload it, use:\n",
      "  %reload_ext tensorboard\n"
     ]
    },
    {
     "data": {
      "text/plain": [
       "Reusing TensorBoard on port 6006 (pid 9211), started 1:12:40 ago. (Use '!kill 9211' to kill it.)"
      ]
     },
     "metadata": {},
     "output_type": "display_data"
    },
    {
     "data": {
      "text/plain": [
       "<IPython.core.display.HTML object>"
      ],
      "text/html": [
       "\n",
       "      <iframe id=\"tensorboard-frame-30b35e79c8ddd6e3\" width=\"100%\" height=\"800\" frameborder=\"0\">\n",
       "      </iframe>\n",
       "      <script>\n",
       "        (function() {\n",
       "          const frame = document.getElementById(\"tensorboard-frame-30b35e79c8ddd6e3\");\n",
       "          const url = new URL(\"/\", window.location);\n",
       "          const port = 6006;\n",
       "          if (port) {\n",
       "            url.port = port;\n",
       "          }\n",
       "          frame.src = url;\n",
       "        })();\n",
       "      </script>\n",
       "    "
      ]
     },
     "metadata": {},
     "output_type": "display_data"
    }
   ],
   "execution_count": 55
  },
  {
   "metadata": {},
   "cell_type": "markdown",
   "source": "# Hyperparameter Optimization",
   "id": "56e52dcf76c8d3a9"
  },
  {
   "metadata": {
    "ExecuteTime": {
     "end_time": "2025-03-20T07:05:25.851964Z",
     "start_time": "2025-03-20T07:05:25.848222Z"
    }
   },
   "cell_type": "code",
   "source": [
    "def ann_model(number_of_hidden_layers=1,\n",
    "              number_of_neurons=50,\n",
    "              lr=0.01):\n",
    "    model = keras.models.Sequential()\n",
    "    model.add(keras.layers.InputLayer(input_shape=[8]))\n",
    "    for hidden_layer in range(number_of_hidden_layers):\n",
    "        model.add(keras.layers.Dense(number_of_neurons, activation=\"selu\"))\n",
    "    model.add(keras.layers.Dense(1))\n",
    "    sgd = keras.optimizers.SGD(lr=lr)\n",
    "    model.compile(loss=\"mse\", optimizer=sgd)\n",
    "    return model"
   ],
   "id": "22fd06c0484a60dd",
   "outputs": [],
   "execution_count": 56
  },
  {
   "metadata": {},
   "cell_type": "markdown",
   "source": [
    "#### this is deprecated:\n",
    "#### keras_sk_reg = keras.wrappers.scikit_learn.KerasRegressor(build_fn=ann_model)"
   ],
   "id": "b5e9826af0cbf101"
  },
  {
   "metadata": {
    "ExecuteTime": {
     "end_time": "2025-03-20T07:05:25.898113Z",
     "start_time": "2025-03-20T07:05:25.895783Z"
    }
   },
   "cell_type": "code",
   "source": "keras_sk_reg = KerasRegressor(build_fn=ann_model)",
   "id": "13042da9c15f0524",
   "outputs": [],
   "execution_count": 57
  }
 ],
 "metadata": {
  "kernelspec": {
   "name": "python3",
   "language": "python",
   "display_name": "Python 3 (ipykernel)"
  }
 },
 "nbformat": 5,
 "nbformat_minor": 9
}
