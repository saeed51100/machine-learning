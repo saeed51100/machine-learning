{
 "cells": [
  {
   "metadata": {},
   "cell_type": "code",
   "source": [
    "from tensorflow import keras\n",
    "from scikeras.wrappers import KerasRegressor\n",
    "from  sklearn.model_selection import GridSearchCV"
   ],
   "id": "50f534d73f333375",
   "outputs": [],
   "execution_count": null
  },
  {
   "metadata": {},
   "cell_type": "code",
   "source": [
    "ann_model = keras.models.Sequential([\n",
    "    keras.layers.Dense(50 , activation = \"relu\"),\n",
    "    keras.layers.Dense(10 , activation = \"relu\"),\n",
    "    keras.layers.Dense(1)\n",
    "])"
   ],
   "id": "87277cd5c924d740",
   "outputs": [],
   "execution_count": null
  },
  {
   "metadata": {},
   "cell_type": "code",
   "source": "keras_sk_reg = KerasRegressor(build_fn=ann_model)",
   "id": "f0fc9ca5730d82f8",
   "outputs": [],
   "execution_count": null
  },
  {
   "metadata": {},
   "cell_type": "code",
   "source": [
    "param_grid = {\"number_of_hidden_layers\": [1, 3, 5],\n",
    "              \"number_of_neurons\": [50, 100, 150],\n",
    "              \"lr\": [0.001, 0.001, 0.1]}"
   ],
   "id": "25743f2e9db6d587",
   "outputs": [],
   "execution_count": null
  },
  {
   "metadata": {},
   "cell_type": "code",
   "source": "keras_sk_reg_gs = GridSearchCV(keras_sk_reg, param_grid)",
   "id": "e076eedfe9697051",
   "outputs": [],
   "execution_count": null
  },
  {
   "metadata": {},
   "cell_type": "code",
   "source": [
    "keras_sk_reg_gs.compile(loss = \"mean_squared_error\",\n",
    "              optimizer = \"sgd\",\n",
    "              metrics = [\"mean_absolute_error\"])"
   ],
   "id": "2d55fa158447ded0",
   "outputs": [],
   "execution_count": null
  }
 ],
 "metadata": {
  "kernelspec": {
   "name": "python3",
   "language": "python",
   "display_name": "Python 3 (ipykernel)"
  }
 },
 "nbformat": 5,
 "nbformat_minor": 9
}
