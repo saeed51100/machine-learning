{
 "cells": [
  {
   "metadata": {
    "ExecuteTime": {
     "end_time": "2025-03-28T12:47:26.278197Z",
     "start_time": "2025-03-28T12:47:26.275269Z"
    }
   },
   "cell_type": "code",
   "source": [
    "from tensorflow import keras\n",
    "from sklearn.datasets import fetch_california_housing\n",
    "from sklearn.model_selection import train_test_split\n",
    "from sklearn.preprocessing import StandardScaler\n",
    "from scikeras.wrappers import KerasRegressor\n",
    "from  sklearn.model_selection import GridSearchCV"
   ],
   "id": "50f534d73f333375",
   "outputs": [],
   "execution_count": 23
  },
  {
   "metadata": {
    "ExecuteTime": {
     "end_time": "2025-03-28T12:47:27.919590Z",
     "start_time": "2025-03-28T12:47:27.908606Z"
    }
   },
   "cell_type": "code",
   "source": [
    "california_housing = fetch_california_housing()\n",
    "X_train0, X_test, Y_train0, Y_test = train_test_split(california_housing[\"data\"], california_housing[\"target\"])\n",
    "X_train1, X_validation, Y_train1, Y_validation = train_test_split(X_train0, Y_train0)"
   ],
   "id": "5c51123fa654c174",
   "outputs": [],
   "execution_count": 24
  },
  {
   "metadata": {
    "ExecuteTime": {
     "end_time": "2025-03-28T12:47:31.355551Z",
     "start_time": "2025-03-28T12:47:31.338521Z"
    }
   },
   "cell_type": "code",
   "source": [
    "sc = StandardScaler()\n",
    "X_train_s = sc.fit_transform(X_train1)\n",
    "X_validation_s = sc.fit_transform(X_validation)\n",
    "X_test_s = sc.transform(X_test)"
   ],
   "id": "d5bbc3f93363b54e",
   "outputs": [],
   "execution_count": 26
  },
  {
   "metadata": {
    "ExecuteTime": {
     "end_time": "2025-03-28T12:47:38.135489Z",
     "start_time": "2025-03-28T12:47:38.131765Z"
    }
   },
   "cell_type": "code",
   "source": [
    "def ann_model(number_of_hidden_layers=1,\n",
    "              number_of_neurons=50,\n",
    "              lr=0.01):\n",
    "    model = keras.models.Sequential()\n",
    "    model.add(keras.layers.InputLayer(input_shape=[8]))\n",
    "    for hidden_layer in range(number_of_hidden_layers):\n",
    "        model.add(keras.layers.Dense(number_of_neurons, activation=\"selu\"))\n",
    "    model.add(keras.layers.Dense(1))\n",
    "    sgd = keras.optimizers.SGD(lr=lr)\n",
    "    model.compile(loss=\"mse\", optimizer=sgd)\n",
    "    return model"
   ],
   "id": "87277cd5c924d740",
   "outputs": [],
   "execution_count": 28
  },
  {
   "metadata": {
    "ExecuteTime": {
     "end_time": "2025-03-28T12:47:39.348906Z",
     "start_time": "2025-03-28T12:47:39.346554Z"
    }
   },
   "cell_type": "code",
   "source": "keras_sk_reg = KerasRegressor(build_fn=ann_model)",
   "id": "f0fc9ca5730d82f8",
   "outputs": [],
   "execution_count": 29
  },
  {
   "metadata": {
    "ExecuteTime": {
     "end_time": "2025-03-28T12:47:41.010209Z",
     "start_time": "2025-03-28T12:47:41.007886Z"
    }
   },
   "cell_type": "code",
   "source": [
    "param_grid = {\"number_of_hidden_layers\": [1, 3, 5],\n",
    "              \"number_of_neurons\": [50, 100, 150],\n",
    "              \"lr\": [0.001, 0.001, 0.1]}"
   ],
   "id": "25743f2e9db6d587",
   "outputs": [],
   "execution_count": 30
  },
  {
   "metadata": {
    "ExecuteTime": {
     "end_time": "2025-03-28T12:47:42.023591Z",
     "start_time": "2025-03-28T12:47:42.019479Z"
    }
   },
   "cell_type": "code",
   "source": "keras_sk_reg_gs = GridSearchCV(keras_sk_reg, param_grid)",
   "id": "e076eedfe9697051",
   "outputs": [],
   "execution_count": 31
  },
  {
   "metadata": {
    "ExecuteTime": {
     "end_time": "2025-03-28T12:49:41.562862Z",
     "start_time": "2025-03-28T12:49:41.429892Z"
    }
   },
   "cell_type": "code",
   "source": "keras_sk_reg_gs.fit(X_train_s, Y_train1)",
   "id": "de6aa6a89f8b7c3d",
   "outputs": [
    {
     "ename": "AttributeError",
     "evalue": "'super' object has no attribute '__sklearn_tags__'",
     "output_type": "error",
     "traceback": [
      "\u001B[31m---------------------------------------------------------------------------\u001B[39m",
      "\u001B[31mAttributeError\u001B[39m                            Traceback (most recent call last)",
      "\u001B[36mCell\u001B[39m\u001B[36m \u001B[39m\u001B[32mIn[33]\u001B[39m\u001B[32m, line 1\u001B[39m\n\u001B[32m----> \u001B[39m\u001B[32m1\u001B[39m \u001B[43mkeras_sk_reg_gs\u001B[49m\u001B[43m.\u001B[49m\u001B[43mfit\u001B[49m\u001B[43m(\u001B[49m\u001B[43mX_train_s\u001B[49m\u001B[43m,\u001B[49m\u001B[43m \u001B[49m\u001B[43mY_train1\u001B[49m\u001B[43m)\u001B[49m\n",
      "\u001B[36mFile \u001B[39m\u001B[32m~/repositories/machine-learning/tensorflow-course/start-tensorflow/envs/lib/python3.11/site-packages/sklearn/base.py:1389\u001B[39m, in \u001B[36m_fit_context.<locals>.decorator.<locals>.wrapper\u001B[39m\u001B[34m(estimator, *args, **kwargs)\u001B[39m\n\u001B[32m   1382\u001B[39m     estimator._validate_params()\n\u001B[32m   1384\u001B[39m \u001B[38;5;28;01mwith\u001B[39;00m config_context(\n\u001B[32m   1385\u001B[39m     skip_parameter_validation=(\n\u001B[32m   1386\u001B[39m         prefer_skip_nested_validation \u001B[38;5;129;01mor\u001B[39;00m global_skip_validation\n\u001B[32m   1387\u001B[39m     )\n\u001B[32m   1388\u001B[39m ):\n\u001B[32m-> \u001B[39m\u001B[32m1389\u001B[39m     \u001B[38;5;28;01mreturn\u001B[39;00m \u001B[43mfit_method\u001B[49m\u001B[43m(\u001B[49m\u001B[43mestimator\u001B[49m\u001B[43m,\u001B[49m\u001B[43m \u001B[49m\u001B[43m*\u001B[49m\u001B[43margs\u001B[49m\u001B[43m,\u001B[49m\u001B[43m \u001B[49m\u001B[43m*\u001B[49m\u001B[43m*\u001B[49m\u001B[43mkwargs\u001B[49m\u001B[43m)\u001B[49m\n",
      "\u001B[36mFile \u001B[39m\u001B[32m~/repositories/machine-learning/tensorflow-course/start-tensorflow/envs/lib/python3.11/site-packages/sklearn/model_selection/_search.py:933\u001B[39m, in \u001B[36mBaseSearchCV.fit\u001B[39m\u001B[34m(self, X, y, **params)\u001B[39m\n\u001B[32m    929\u001B[39m params = _check_method_params(X, params=params)\n\u001B[32m    931\u001B[39m routed_params = \u001B[38;5;28mself\u001B[39m._get_routed_params_for_fit(params)\n\u001B[32m--> \u001B[39m\u001B[32m933\u001B[39m cv_orig = check_cv(\u001B[38;5;28mself\u001B[39m.cv, y, classifier=\u001B[43mis_classifier\u001B[49m\u001B[43m(\u001B[49m\u001B[43mestimator\u001B[49m\u001B[43m)\u001B[49m)\n\u001B[32m    934\u001B[39m n_splits = cv_orig.get_n_splits(X, y, **routed_params.splitter.split)\n\u001B[32m    936\u001B[39m base_estimator = clone(\u001B[38;5;28mself\u001B[39m.estimator)\n",
      "\u001B[36mFile \u001B[39m\u001B[32m~/repositories/machine-learning/tensorflow-course/start-tensorflow/envs/lib/python3.11/site-packages/sklearn/base.py:1237\u001B[39m, in \u001B[36mis_classifier\u001B[39m\u001B[34m(estimator)\u001B[39m\n\u001B[32m   1230\u001B[39m     warnings.warn(\n\u001B[32m   1231\u001B[39m         \u001B[33mf\u001B[39m\u001B[33m\"\u001B[39m\u001B[33mpassing a class to \u001B[39m\u001B[38;5;132;01m{\u001B[39;00m\u001B[38;5;28mprint\u001B[39m(inspect.stack()[\u001B[32m0\u001B[39m][\u001B[32m3\u001B[39m])\u001B[38;5;132;01m}\u001B[39;00m\u001B[33m is deprecated and \u001B[39m\u001B[33m\"\u001B[39m\n\u001B[32m   1232\u001B[39m         \u001B[33m\"\u001B[39m\u001B[33mwill be removed in 1.8. Use an instance of the class instead.\u001B[39m\u001B[33m\"\u001B[39m,\n\u001B[32m   1233\u001B[39m         \u001B[38;5;167;01mFutureWarning\u001B[39;00m,\n\u001B[32m   1234\u001B[39m     )\n\u001B[32m   1235\u001B[39m     \u001B[38;5;28;01mreturn\u001B[39;00m \u001B[38;5;28mgetattr\u001B[39m(estimator, \u001B[33m\"\u001B[39m\u001B[33m_estimator_type\u001B[39m\u001B[33m\"\u001B[39m, \u001B[38;5;28;01mNone\u001B[39;00m) == \u001B[33m\"\u001B[39m\u001B[33mclassifier\u001B[39m\u001B[33m\"\u001B[39m\n\u001B[32m-> \u001B[39m\u001B[32m1237\u001B[39m \u001B[38;5;28;01mreturn\u001B[39;00m \u001B[43mget_tags\u001B[49m\u001B[43m(\u001B[49m\u001B[43mestimator\u001B[49m\u001B[43m)\u001B[49m.estimator_type == \u001B[33m\"\u001B[39m\u001B[33mclassifier\u001B[39m\u001B[33m\"\u001B[39m\n",
      "\u001B[36mFile \u001B[39m\u001B[32m~/repositories/machine-learning/tensorflow-course/start-tensorflow/envs/lib/python3.11/site-packages/sklearn/utils/_tags.py:430\u001B[39m, in \u001B[36mget_tags\u001B[39m\u001B[34m(estimator)\u001B[39m\n\u001B[32m    428\u001B[39m \u001B[38;5;28;01mfor\u001B[39;00m klass \u001B[38;5;129;01min\u001B[39;00m \u001B[38;5;28mreversed\u001B[39m(\u001B[38;5;28mtype\u001B[39m(estimator).mro()):\n\u001B[32m    429\u001B[39m     \u001B[38;5;28;01mif\u001B[39;00m \u001B[33m\"\u001B[39m\u001B[33m__sklearn_tags__\u001B[39m\u001B[33m\"\u001B[39m \u001B[38;5;129;01min\u001B[39;00m \u001B[38;5;28mvars\u001B[39m(klass):\n\u001B[32m--> \u001B[39m\u001B[32m430\u001B[39m         sklearn_tags_provider[klass] = \u001B[43mklass\u001B[49m\u001B[43m.\u001B[49m\u001B[43m__sklearn_tags__\u001B[49m\u001B[43m(\u001B[49m\u001B[43mestimator\u001B[49m\u001B[43m)\u001B[49m  \u001B[38;5;66;03m# type: ignore[attr-defined]\u001B[39;00m\n\u001B[32m    431\u001B[39m         class_order.append(klass)\n\u001B[32m    432\u001B[39m     \u001B[38;5;28;01melif\u001B[39;00m \u001B[33m\"\u001B[39m\u001B[33m_more_tags\u001B[39m\u001B[33m\"\u001B[39m \u001B[38;5;129;01min\u001B[39;00m \u001B[38;5;28mvars\u001B[39m(klass):\n",
      "\u001B[36mFile \u001B[39m\u001B[32m~/repositories/machine-learning/tensorflow-course/start-tensorflow/envs/lib/python3.11/site-packages/sklearn/base.py:613\u001B[39m, in \u001B[36mRegressorMixin.__sklearn_tags__\u001B[39m\u001B[34m(self)\u001B[39m\n\u001B[32m    612\u001B[39m \u001B[38;5;28;01mdef\u001B[39;00m\u001B[38;5;250m \u001B[39m\u001B[34m__sklearn_tags__\u001B[39m(\u001B[38;5;28mself\u001B[39m):\n\u001B[32m--> \u001B[39m\u001B[32m613\u001B[39m     tags = \u001B[38;5;28;43msuper\u001B[39;49m\u001B[43m(\u001B[49m\u001B[43m)\u001B[49m\u001B[43m.\u001B[49m\u001B[43m__sklearn_tags__\u001B[49m()\n\u001B[32m    614\u001B[39m     tags.estimator_type = \u001B[33m\"\u001B[39m\u001B[33mregressor\u001B[39m\u001B[33m\"\u001B[39m\n\u001B[32m    615\u001B[39m     tags.regressor_tags = RegressorTags()\n",
      "\u001B[31mAttributeError\u001B[39m: 'super' object has no attribute '__sklearn_tags__'"
     ]
    }
   ],
   "execution_count": 33
  }
 ],
 "metadata": {
  "kernelspec": {
   "name": "python3",
   "language": "python",
   "display_name": "Python 3 (ipykernel)"
  }
 },
 "nbformat": 5,
 "nbformat_minor": 9
}
