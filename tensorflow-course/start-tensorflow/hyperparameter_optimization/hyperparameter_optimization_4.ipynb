{
 "cells": [
  {
   "metadata": {},
   "cell_type": "markdown",
   "source": "# b-35",
   "id": "f83cea59ca4e8809"
  },
  {
   "metadata": {},
   "cell_type": "markdown",
   "source": "## General summary of neural network parameters:",
   "id": "11dfffe89022a9bb"
  },
  {
   "metadata": {},
   "cell_type": "markdown",
   "source": [
    "### Number of hidden layers : 1~5 ( recommended )\n",
    "The lower layers detect low-level structures. For example, in a photo, they detect edges and lines.\n",
    "\n",
    "The middle layers detect intermediate-level structures. For example, is it a circle or a square, etc.\n",
    "\n",
    "The higher layers detect high-level structures. For example, faces.\n",
    "\n",
    "This is where the topic of \"transfer learning\" comes from. It means that you use a strong ready-made network. Separate its lower layers and build the upper layers according to your needs and mount them on top of it.\n",
    "\n"
   ],
   "id": "e65c18c924d37724"
  },
  {
   "metadata": {},
   "cell_type": "markdown",
   "source": [
    "### Number of neurons per hidden layers: 100~200 ( It could be a good start. )\n",
    "\n",
    "You can use the same number for all layers, except for the last layer, which should be based on your task."
   ],
   "id": "1e003118c467ebf6"
  },
  {
   "metadata": {},
   "cell_type": "markdown",
   "source": [
    "### Learning rate\n",
    "Start with a small learning rate and continue using an \"adaptive learning rate\".\n",
    "\n",
    "\"Adaptive learning rate\" means that you gradually increase it as you go forward in time.\n",
    "Study the \"adaptive learning rate\" patterns later.\n",
    "\n",
    "The best learning rate is usually half of the maximal learning rate. The maximal learning rate is the learning rate above which the algorithm does not converge.\n"
   ],
   "id": "6bef6de33e445c54"
  },
  {
   "metadata": {},
   "cell_type": "markdown",
   "source": [
    "### Optimizer\n",
    "\"stochastic gradient descent\" is an optimizer."
   ],
   "id": "bfe27b955ac00566"
  },
  {
   "metadata": {},
   "cell_type": "markdown",
   "source": "### Bach size",
   "id": "d44c87a849ad8459"
  }
 ],
 "metadata": {
  "kernelspec": {
   "name": "python3",
   "language": "python",
   "display_name": "Python 3 (ipykernel)"
  }
 },
 "nbformat": 5,
 "nbformat_minor": 9
}
