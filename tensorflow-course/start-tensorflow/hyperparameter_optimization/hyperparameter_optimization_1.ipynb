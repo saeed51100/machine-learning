{
 "cells": [
  {
   "metadata": {},
   "cell_type": "markdown",
   "source": "# b-32",
   "id": "1de4bde2346dd2b4"
  },
  {
   "metadata": {},
   "cell_type": "code",
   "source": [
    "from tensorflow import keras\n",
    "from sklearn.datasets import fetch_california_housing\n",
    "from sklearn.model_selection import train_test_split\n",
    "from sklearn.preprocessing import StandardScaler"
   ],
   "id": "50f534d73f333375",
   "outputs": [],
   "execution_count": null
  },
  {
   "metadata": {},
   "cell_type": "code",
   "source": [
    "california_housing = fetch_california_housing()\n",
    "california_housing"
   ],
   "id": "a64bbb9b26724c56",
   "outputs": [],
   "execution_count": null
  },
  {
   "metadata": {},
   "cell_type": "markdown",
   "source": "# Splitting data into train and test.",
   "id": "d4ee5c97c4d08ff1"
  },
  {
   "metadata": {},
   "cell_type": "code",
   "source": "X_train0, X_test, Y_train0, Y_test = train_test_split(california_housing[\"data\"], california_housing[\"target\"])",
   "id": "1d03ad96117cd460",
   "outputs": [],
   "execution_count": null
  },
  {
   "metadata": {},
   "cell_type": "code",
   "source": "X_train1, X_validation, Y_train1, Y_validation = train_test_split(X_train0, Y_train0)",
   "id": "165c71bb28853765",
   "outputs": [],
   "execution_count": null
  },
  {
   "metadata": {},
   "cell_type": "code",
   "source": "X_test.shape",
   "id": "5e19fafead3ba97b",
   "outputs": [],
   "execution_count": null
  },
  {
   "metadata": {},
   "cell_type": "code",
   "source": "X_train0.shape",
   "id": "54fcacd6a1611d22",
   "outputs": [],
   "execution_count": null
  },
  {
   "metadata": {},
   "cell_type": "code",
   "source": "X_train1.shape",
   "id": "2651601db22085ba",
   "outputs": [],
   "execution_count": null
  },
  {
   "metadata": {},
   "cell_type": "code",
   "source": "X_validation.shape",
   "id": "d27717d2895f1136",
   "outputs": [],
   "execution_count": null
  },
  {
   "metadata": {},
   "cell_type": "markdown",
   "source": [
    "# Normalizing data\n",
    "using \"sklearn.preprocessing.StandardScaler\" function for normalizing data"
   ],
   "id": "d5f81b766123a41e"
  },
  {
   "metadata": {},
   "cell_type": "code",
   "source": [
    "sc = StandardScaler()\n",
    "X_train_s = sc.fit_transform(X_train1)\n",
    "X_validation_s = sc.fit_transform(X_validation)\n",
    "X_test_s = sc.transform(X_test)"
   ],
   "id": "39ad728b48eedb89",
   "outputs": [],
   "execution_count": null
  },
  {
   "metadata": {},
   "cell_type": "markdown",
   "source": "--------------------------------",
   "id": "fbed35e2f026a826"
  },
  {
   "metadata": {},
   "cell_type": "code",
   "source": "X_train0.shape[1:]",
   "id": "b8169f52f5191661",
   "outputs": [],
   "execution_count": null
  },
  {
   "metadata": {},
   "cell_type": "code",
   "source": [
    "X_train_s_1, X_train_s_2 = X_train_s[:, :6], X_train_s[:, :-4]\n",
    "X_validation_s_1, X_validation_s_2 = X_validation_s[:, :6], X_validation_s[:, :-4]\n",
    "X_test_s_1, X_test_s_2 = X_test_s[:, :6], X_test_s[:, :-4]"
   ],
   "id": "56ca04c53417051b",
   "outputs": [],
   "execution_count": null
  },
  {
   "metadata": {},
   "cell_type": "markdown",
   "source": "# Define Model + Compile with Hyperparameter Optimization",
   "id": "b2156c36e6cabac0"
  },
  {
   "metadata": {},
   "cell_type": "code",
   "source": [
    "def ann_model(number_of_hidden_layers=1,\n",
    "              number_of_neurons=50,\n",
    "              lr=0.01):\n",
    "    model = keras.models.Sequential()\n",
    "    model.add(keras.layers.InputLayer(input_shape=[8]))\n",
    "    for hidden_layer in range(number_of_hidden_layers):\n",
    "        model.add(keras.layers.Dense(number_of_neurons, activation=\"selu\"))\n",
    "    model.add(keras.layers.Dense(1))\n",
    "    sgd = keras.optimizers.SGD(lr=lr)\n",
    "    model.compile(loss=\"mse\", optimizer=sgd)\n",
    "    return model"
   ],
   "id": "87277cd5c924d740",
   "outputs": [],
   "execution_count": null
  }
 ],
 "metadata": {
  "kernelspec": {
   "name": "python3",
   "language": "python",
   "display_name": "Python 3 (ipykernel)"
  }
 },
 "nbformat": 5,
 "nbformat_minor": 9
}
