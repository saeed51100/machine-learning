{
 "cells": [
  {
   "metadata": {},
   "cell_type": "markdown",
   "source": "# b-17 >>> b-23",
   "id": "271e6d34f099b9a5"
  },
  {
   "metadata": {
    "ExecuteTime": {
     "end_time": "2025-04-17T17:20:55.027597Z",
     "start_time": "2025-04-17T17:20:55.020625Z"
    }
   },
   "cell_type": "code",
   "source": [
    "from tensorflow import keras\n",
    "import matplotlib.pyplot as plt\n",
    "import numpy as np"
   ],
   "id": "13b8867ef87cb5fe",
   "outputs": [],
   "execution_count": 9
  },
  {
   "metadata": {},
   "cell_type": "markdown",
   "source": "# Classification",
   "id": "53ce0290217a91a6"
  },
  {
   "metadata": {
    "ExecuteTime": {
     "end_time": "2025-04-17T17:20:55.324121Z",
     "start_time": "2025-04-17T17:20:55.050402Z"
    }
   },
   "cell_type": "code",
   "source": "(x_train, y_train), (x_test, y_test) = keras.datasets.fashion_mnist.load_data()",
   "id": "78cec47127f2316b",
   "outputs": [],
   "execution_count": 10
  },
  {
   "metadata": {
    "ExecuteTime": {
     "end_time": "2025-04-17T17:20:55.331710Z",
     "start_time": "2025-04-17T17:20:55.327863Z"
    }
   },
   "cell_type": "code",
   "source": "x_train.shape",
   "id": "da9d38036849252e",
   "outputs": [
    {
     "data": {
      "text/plain": [
       "(60000, 28, 28)"
      ]
     },
     "execution_count": 11,
     "metadata": {},
     "output_type": "execute_result"
    }
   ],
   "execution_count": 11
  },
  {
   "metadata": {
    "ExecuteTime": {
     "end_time": "2025-04-17T17:20:55.378601Z",
     "start_time": "2025-04-17T17:20:55.374903Z"
    }
   },
   "cell_type": "code",
   "source": "x_test.shape",
   "id": "18a6fd741ff0f7d",
   "outputs": [
    {
     "data": {
      "text/plain": [
       "(10000, 28, 28)"
      ]
     },
     "execution_count": 12,
     "metadata": {},
     "output_type": "execute_result"
    }
   ],
   "execution_count": 12
  },
  {
   "metadata": {
    "ExecuteTime": {
     "end_time": "2025-04-17T17:20:55.425162Z",
     "start_time": "2025-04-17T17:20:55.422254Z"
    }
   },
   "cell_type": "code",
   "source": "y_train.shape",
   "id": "a428ffd0c8e6277b",
   "outputs": [
    {
     "data": {
      "text/plain": [
       "(60000,)"
      ]
     },
     "execution_count": 13,
     "metadata": {},
     "output_type": "execute_result"
    }
   ],
   "execution_count": 13
  },
  {
   "metadata": {
    "ExecuteTime": {
     "end_time": "2025-04-17T17:20:55.472770Z",
     "start_time": "2025-04-17T17:20:55.468833Z"
    }
   },
   "cell_type": "code",
   "source": "y_train[:10]",
   "id": "4927ea8448ff28bc",
   "outputs": [
    {
     "data": {
      "text/plain": [
       "array([9, 0, 0, 3, 0, 2, 7, 2, 5, 5], dtype=uint8)"
      ]
     },
     "execution_count": 14,
     "metadata": {},
     "output_type": "execute_result"
    }
   ],
   "execution_count": 14
  },
  {
   "metadata": {
    "ExecuteTime": {
     "end_time": "2025-04-17T17:20:55.656392Z",
     "start_time": "2025-04-17T17:20:55.524251Z"
    }
   },
   "cell_type": "code",
   "source": "plt.imshow(x_train[0,], cmap=\"gray\")",
   "id": "c1b3ed993f2ee09b",
   "outputs": [
    {
     "data": {
      "text/plain": [
       "<matplotlib.image.AxesImage at 0x75721277fb90>"
      ]
     },
     "execution_count": 15,
     "metadata": {},
     "output_type": "execute_result"
    },
    {
     "data": {
      "text/plain": [
       "<Figure size 640x480 with 1 Axes>"
      ],
      "image/png": "[encoded data removed]"
     },
     "metadata": {},
     "output_type": "display_data"
    }
   ],
   "execution_count": 15
  },
  {
   "metadata": {},
   "cell_type": "markdown",
   "source": "# Normalize Data",
   "id": "25fc29be0b1a8c1f"
  },
  {
   "metadata": {
    "ExecuteTime": {
     "end_time": "2025-04-17T17:20:55.748176Z",
     "start_time": "2025-04-17T17:20:55.663940Z"
    }
   },
   "cell_type": "code",
   "source": "x_train, x_test = x_train / 255.0, x_test / 255.0",
   "id": "1152fcdd17ce2dad",
   "outputs": [],
   "execution_count": 16
  },
  {
   "metadata": {},
   "cell_type": "markdown",
   "source": "# Define Model",
   "id": "5dc1478468ed7105"
  },
  {
   "metadata": {
    "ExecuteTime": {
     "end_time": "2025-04-17T17:20:56.751690Z",
     "start_time": "2025-04-17T17:20:55.756021Z"
    }
   },
   "cell_type": "code",
   "source": [
    "model = keras.models.Sequential([\n",
    "    keras.layers.Flatten(input_shape=[28, 28]),\n",
    "    keras.layers.Dense(100, activation=\"relu\"),\n",
    "    keras.layers.Dense(75, activation=\"relu\"),\n",
    "    keras.layers.Dense(10, activation=\"softmax\")\n",
    "    ])"
   ],
   "id": "6ccd30620a08c1f9",
   "outputs": [
    {
     "name": "stderr",
     "output_type": "stream",
     "text": [
      "/home/saeed/repositories/machine-learning/tensorflow-course/start-tensorflow/envs/lib/python3.11/site-packages/keras/src/layers/reshaping/flatten.py:37: UserWarning: Do not pass an `input_shape`/`input_dim` argument to a layer. When using Sequential models, prefer using an `Input(shape)` object as the first layer in the model instead.\n",
      "  super().__init__(**kwargs)\n",
      "I0000 00:00:1744910456.138455   24672 gpu_device.cc:2022] Created device /job:localhost/replica:0/task:0/device:GPU:0 with 2020 MB memory:  -> device: 0, name: NVIDIA GeForce GTX 1650 SUPER, pci bus id: 0000:01:00.0, compute capability: 7.5\n"
     ]
    }
   ],
   "execution_count": 17
  },
  {
   "metadata": {
    "ExecuteTime": {
     "end_time": "2025-04-17T17:20:56.768504Z",
     "start_time": "2025-04-17T17:20:56.759721Z"
    }
   },
   "cell_type": "code",
   "source": "model.summary()",
   "id": "6541ef047f1f4350",
   "outputs": [
    {
     "data": {
      "text/plain": [
       "\u001B[1mModel: \"sequential\"\u001B[0m\n"
      ],
      "text/html": [
       "<pre style=\"white-space:pre;overflow-x:auto;line-height:normal;font-family:Menlo,'DejaVu Sans Mono',consolas,'Courier New',monospace\"><span style=\"font-weight: bold\">Model: \"sequential\"</span>\n",
       "</pre>\n"
      ]
     },
     "metadata": {},
     "output_type": "display_data"
    },
    {
     "data": {
      "text/plain": [
       "┏━━━━━━━━━━━━━━━━━━━━━━━━━━━━━━━━━┳━━━━━━━━━━━━━━━━━━━━━━━━┳━━━━━━━━━━━━━━━┓\n",
       "┃\u001B[1m \u001B[0m\u001B[1mLayer (type)                   \u001B[0m\u001B[1m \u001B[0m┃\u001B[1m \u001B[0m\u001B[1mOutput Shape          \u001B[0m\u001B[1m \u001B[0m┃\u001B[1m \u001B[0m\u001B[1m      Param #\u001B[0m\u001B[1m \u001B[0m┃\n",
       "┡━━━━━━━━━━━━━━━━━━━━━━━━━━━━━━━━━╇━━━━━━━━━━━━━━━━━━━━━━━━╇━━━━━━━━━━━━━━━┩\n",
       "│ flatten (\u001B[38;5;33mFlatten\u001B[0m)               │ (\u001B[38;5;45mNone\u001B[0m, \u001B[38;5;34m784\u001B[0m)            │             \u001B[38;5;34m0\u001B[0m │\n",
       "├─────────────────────────────────┼────────────────────────┼───────────────┤\n",
       "│ dense (\u001B[38;5;33mDense\u001B[0m)                   │ (\u001B[38;5;45mNone\u001B[0m, \u001B[38;5;34m100\u001B[0m)            │        \u001B[38;5;34m78,500\u001B[0m │\n",
       "├─────────────────────────────────┼────────────────────────┼───────────────┤\n",
       "│ dense_1 (\u001B[38;5;33mDense\u001B[0m)                 │ (\u001B[38;5;45mNone\u001B[0m, \u001B[38;5;34m75\u001B[0m)             │         \u001B[38;5;34m7,575\u001B[0m │\n",
       "├─────────────────────────────────┼────────────────────────┼───────────────┤\n",
       "│ dense_2 (\u001B[38;5;33mDense\u001B[0m)                 │ (\u001B[38;5;45mNone\u001B[0m, \u001B[38;5;34m10\u001B[0m)             │           \u001B[38;5;34m760\u001B[0m │\n",
       "└─────────────────────────────────┴────────────────────────┴───────────────┘\n"
      ],
      "text/html": [
       "<pre style=\"white-space:pre;overflow-x:auto;line-height:normal;font-family:Menlo,'DejaVu Sans Mono',consolas,'Courier New',monospace\">┏━━━━━━━━━━━━━━━━━━━━━━━━━━━━━━━━━┳━━━━━━━━━━━━━━━━━━━━━━━━┳━━━━━━━━━━━━━━━┓\n",
       "┃<span style=\"font-weight: bold\"> Layer (type)                    </span>┃<span style=\"font-weight: bold\"> Output Shape           </span>┃<span style=\"font-weight: bold\">       Param # </span>┃\n",
       "┡━━━━━━━━━━━━━━━━━━━━━━━━━━━━━━━━━╇━━━━━━━━━━━━━━━━━━━━━━━━╇━━━━━━━━━━━━━━━┩\n",
       "│ flatten (<span style=\"color: #0087ff; text-decoration-color: #0087ff\">Flatten</span>)               │ (<span style=\"color: #00d7ff; text-decoration-color: #00d7ff\">None</span>, <span style=\"color: #00af00; text-decoration-color: #00af00\">784</span>)            │             <span style=\"color: #00af00; text-decoration-color: #00af00\">0</span> │\n",
       "├─────────────────────────────────┼────────────────────────┼───────────────┤\n",
       "│ dense (<span style=\"color: #0087ff; text-decoration-color: #0087ff\">Dense</span>)                   │ (<span style=\"color: #00d7ff; text-decoration-color: #00d7ff\">None</span>, <span style=\"color: #00af00; text-decoration-color: #00af00\">100</span>)            │        <span style=\"color: #00af00; text-decoration-color: #00af00\">78,500</span> │\n",
       "├─────────────────────────────────┼────────────────────────┼───────────────┤\n",
       "│ dense_1 (<span style=\"color: #0087ff; text-decoration-color: #0087ff\">Dense</span>)                 │ (<span style=\"color: #00d7ff; text-decoration-color: #00d7ff\">None</span>, <span style=\"color: #00af00; text-decoration-color: #00af00\">75</span>)             │         <span style=\"color: #00af00; text-decoration-color: #00af00\">7,575</span> │\n",
       "├─────────────────────────────────┼────────────────────────┼───────────────┤\n",
       "│ dense_2 (<span style=\"color: #0087ff; text-decoration-color: #0087ff\">Dense</span>)                 │ (<span style=\"color: #00d7ff; text-decoration-color: #00d7ff\">None</span>, <span style=\"color: #00af00; text-decoration-color: #00af00\">10</span>)             │           <span style=\"color: #00af00; text-decoration-color: #00af00\">760</span> │\n",
       "└─────────────────────────────────┴────────────────────────┴───────────────┘\n",
       "</pre>\n"
      ]
     },
     "metadata": {},
     "output_type": "display_data"
    },
    {
     "data": {
      "text/plain": [
       "\u001B[1m Total params: \u001B[0m\u001B[38;5;34m86,835\u001B[0m (339.20 KB)\n"
      ],
      "text/html": [
       "<pre style=\"white-space:pre;overflow-x:auto;line-height:normal;font-family:Menlo,'DejaVu Sans Mono',consolas,'Courier New',monospace\"><span style=\"font-weight: bold\"> Total params: </span><span style=\"color: #00af00; text-decoration-color: #00af00\">86,835</span> (339.20 KB)\n",
       "</pre>\n"
      ]
     },
     "metadata": {},
     "output_type": "display_data"
    },
    {
     "data": {
      "text/plain": [
       "\u001B[1m Trainable params: \u001B[0m\u001B[38;5;34m86,835\u001B[0m (339.20 KB)\n"
      ],
      "text/html": [
       "<pre style=\"white-space:pre;overflow-x:auto;line-height:normal;font-family:Menlo,'DejaVu Sans Mono',consolas,'Courier New',monospace\"><span style=\"font-weight: bold\"> Trainable params: </span><span style=\"color: #00af00; text-decoration-color: #00af00\">86,835</span> (339.20 KB)\n",
       "</pre>\n"
      ]
     },
     "metadata": {},
     "output_type": "display_data"
    },
    {
     "data": {
      "text/plain": [
       "\u001B[1m Non-trainable params: \u001B[0m\u001B[38;5;34m0\u001B[0m (0.00 B)\n"
      ],
      "text/html": [
       "<pre style=\"white-space:pre;overflow-x:auto;line-height:normal;font-family:Menlo,'DejaVu Sans Mono',consolas,'Courier New',monospace\"><span style=\"font-weight: bold\"> Non-trainable params: </span><span style=\"color: #00af00; text-decoration-color: #00af00\">0</span> (0.00 B)\n",
       "</pre>\n"
      ]
     },
     "metadata": {},
     "output_type": "display_data"
    }
   ],
   "execution_count": 18
  },
  {
   "metadata": {
    "ExecuteTime": {
     "end_time": "2025-04-17T17:20:56.936507Z",
     "start_time": "2025-04-17T17:20:56.824249Z"
    }
   },
   "cell_type": "code",
   "source": "model.layers",
   "id": "d73ce8b22857e5b1",
   "outputs": [
    {
     "data": {
      "text/plain": [
       "[<Flatten name=flatten, built=True>,\n",
       " <Dense name=dense, built=True>,\n",
       " <Dense name=dense_1, built=True>,\n",
       " <Dense name=dense_2, built=True>]"
      ]
     },
     "execution_count": 19,
     "metadata": {},
     "output_type": "execute_result"
    }
   ],
   "execution_count": 19
  },
  {
   "metadata": {
    "ExecuteTime": {
     "end_time": "2025-04-17T17:20:56.958180Z",
     "start_time": "2025-04-17T17:20:56.953468Z"
    }
   },
   "cell_type": "code",
   "source": "weights, bias = model.layers[1].get_weights()",
   "id": "fd7b795a8f5be114",
   "outputs": [],
   "execution_count": 20
  },
  {
   "metadata": {
    "ExecuteTime": {
     "end_time": "2025-04-17T17:20:56.993549Z",
     "start_time": "2025-04-17T17:20:56.990281Z"
    }
   },
   "cell_type": "code",
   "source": "weights",
   "id": "20bda22d10fccdd8",
   "outputs": [
    {
     "data": {
      "text/plain": [
       "array([[-0.0124925 ,  0.03249547, -0.01894712, ...,  0.02926205,\n",
       "         0.04600506,  0.05837797],\n",
       "       [-0.07945894, -0.07952632,  0.00352331, ..., -0.0677285 ,\n",
       "        -0.0226579 , -0.02277118],\n",
       "       [ 0.03591266, -0.02799299,  0.04911454, ..., -0.03735683,\n",
       "        -0.05943017,  0.03547247],\n",
       "       ...,\n",
       "       [ 0.05078147,  0.01833081, -0.0793376 , ...,  0.04754207,\n",
       "        -0.06762208,  0.04877453],\n",
       "       [-0.08147737,  0.00347044,  0.03818386, ...,  0.07679759,\n",
       "        -0.01133731, -0.06403212],\n",
       "       [ 0.0013887 , -0.02279406,  0.03860216, ...,  0.02934606,\n",
       "         0.0759616 , -0.04380238]], shape=(784, 100), dtype=float32)"
      ]
     },
     "execution_count": 21,
     "metadata": {},
     "output_type": "execute_result"
    }
   ],
   "execution_count": 21
  },
  {
   "metadata": {
    "ExecuteTime": {
     "end_time": "2025-04-17T17:20:57.053740Z",
     "start_time": "2025-04-17T17:20:57.050411Z"
    }
   },
   "cell_type": "code",
   "source": "bias",
   "id": "e2c051a15388273a",
   "outputs": [
    {
     "data": {
      "text/plain": [
       "array([0., 0., 0., 0., 0., 0., 0., 0., 0., 0., 0., 0., 0., 0., 0., 0., 0.,\n",
       "       0., 0., 0., 0., 0., 0., 0., 0., 0., 0., 0., 0., 0., 0., 0., 0., 0.,\n",
       "       0., 0., 0., 0., 0., 0., 0., 0., 0., 0., 0., 0., 0., 0., 0., 0., 0.,\n",
       "       0., 0., 0., 0., 0., 0., 0., 0., 0., 0., 0., 0., 0., 0., 0., 0., 0.,\n",
       "       0., 0., 0., 0., 0., 0., 0., 0., 0., 0., 0., 0., 0., 0., 0., 0., 0.,\n",
       "       0., 0., 0., 0., 0., 0., 0., 0., 0., 0., 0., 0., 0., 0., 0.],\n",
       "      dtype=float32)"
      ]
     },
     "execution_count": 22,
     "metadata": {},
     "output_type": "execute_result"
    }
   ],
   "execution_count": 22
  },
  {
   "metadata": {},
   "cell_type": "markdown",
   "source": "# Compile Model",
   "id": "7c7b0858cffd1e79"
  },
  {
   "metadata": {
    "ExecuteTime": {
     "end_time": "2025-04-17T17:20:57.133801Z",
     "start_time": "2025-04-17T17:20:57.122963Z"
    }
   },
   "cell_type": "code",
   "source": [
    "model.compile(loss=\"sparse_categorical_crossentropy\",\n",
    "              optimizer=\"sgd\",\n",
    "              metrics=[\"accuracy\"])"
   ],
   "id": "1dd22281844ac25e",
   "outputs": [],
   "execution_count": 23
  },
  {
   "metadata": {},
   "cell_type": "markdown",
   "source": "# Fit Model",
   "id": "36e8bc831ff87c9"
  },
  {
   "metadata": {
    "ExecuteTime": {
     "end_time": "2025-04-17T17:23:41.393330Z",
     "start_time": "2025-04-17T17:20:57.391988Z"
    }
   },
   "cell_type": "code",
   "source": "history = model.fit(x_train, y_train, epochs=50, validation_split=0.15)",
   "id": "34f35a0abbfe13bb",
   "outputs": [
    {
     "name": "stdout",
     "output_type": "stream",
     "text": [
      "Epoch 1/50\n"
     ]
    },
    {
     "name": "stderr",
     "output_type": "stream",
     "text": [
      "2025-04-17 20:50:57.498489: W external/local_xla/xla/tsl/framework/cpu_allocator_impl.cc:83] Allocation of 159936000 exceeds 10% of free system memory.\n",
      "2025-04-17 20:50:57.590424: W external/local_xla/xla/tsl/framework/cpu_allocator_impl.cc:83] Allocation of 159936000 exceeds 10% of free system memory.\n",
      "I0000 00:00:1744910457.953578   25232 service.cc:148] XLA service 0x7571900054f0 initialized for platform CUDA (this does not guarantee that XLA will be used). Devices:\n",
      "I0000 00:00:1744910457.953598   25232 service.cc:156]   StreamExecutor device (0): NVIDIA GeForce GTX 1650 SUPER, Compute Capability 7.5\n",
      "2025-04-17 20:50:57.963660: I tensorflow/compiler/mlir/tensorflow/utils/dump_mlir_util.cc:268] disabling MLIR crash reproducer, set env var `MLIR_CRASH_REPRODUCER_DIRECTORY` to enable.\n",
      "I0000 00:00:1744910457.998429   25232 cuda_dnn.cc:529] Loaded cuDNN version 90800\n"
     ]
    },
    {
     "name": "stdout",
     "output_type": "stream",
     "text": [
      "\u001B[1m 110/1594\u001B[0m \u001B[32m━\u001B[0m\u001B[37m━━━━━━━━━━━━━━━━━━━\u001B[0m \u001B[1m2s\u001B[0m 1ms/step - accuracy: 0.2761 - loss: 2.1271"
     ]
    },
    {
     "name": "stderr",
     "output_type": "stream",
     "text": [
      "I0000 00:00:1744910458.637566   25232 device_compiler.h:188] Compiled cluster using XLA!  This line is logged at most once for the lifetime of the process.\n"
     ]
    },
    {
     "name": "stdout",
     "output_type": "stream",
     "text": [
      "\u001B[1m1594/1594\u001B[0m \u001B[32m━━━━━━━━━━━━━━━━━━━━\u001B[0m\u001B[37m\u001B[0m \u001B[1m5s\u001B[0m 3ms/step - accuracy: 0.6349 - loss: 1.1345 - val_accuracy: 0.8123 - val_loss: 0.5412\n",
      "Epoch 2/50\n",
      "\u001B[1m1594/1594\u001B[0m \u001B[32m━━━━━━━━━━━━━━━━━━━━\u001B[0m\u001B[37m\u001B[0m \u001B[1m3s\u001B[0m 2ms/step - accuracy: 0.8159 - loss: 0.5284 - val_accuracy: 0.8322 - val_loss: 0.4812\n",
      "Epoch 3/50\n",
      "\u001B[1m1594/1594\u001B[0m \u001B[32m━━━━━━━━━━━━━━━━━━━━\u001B[0m\u001B[37m\u001B[0m \u001B[1m3s\u001B[0m 2ms/step - accuracy: 0.8358 - loss: 0.4641 - val_accuracy: 0.8356 - val_loss: 0.4584\n",
      "Epoch 4/50\n",
      "\u001B[1m1594/1594\u001B[0m \u001B[32m━━━━━━━━━━━━━━━━━━━━\u001B[0m\u001B[37m\u001B[0m \u001B[1m3s\u001B[0m 2ms/step - accuracy: 0.8500 - loss: 0.4335 - val_accuracy: 0.8300 - val_loss: 0.4762\n",
      "Epoch 5/50\n",
      "\u001B[1m1594/1594\u001B[0m \u001B[32m━━━━━━━━━━━━━━━━━━━━\u001B[0m\u001B[37m\u001B[0m \u001B[1m3s\u001B[0m 2ms/step - accuracy: 0.8546 - loss: 0.4108 - val_accuracy: 0.8529 - val_loss: 0.4126\n",
      "Epoch 6/50\n",
      "\u001B[1m1594/1594\u001B[0m \u001B[32m━━━━━━━━━━━━━━━━━━━━\u001B[0m\u001B[37m\u001B[0m \u001B[1m3s\u001B[0m 2ms/step - accuracy: 0.8613 - loss: 0.3989 - val_accuracy: 0.8562 - val_loss: 0.4140\n",
      "Epoch 7/50\n",
      "\u001B[1m1594/1594\u001B[0m \u001B[32m━━━━━━━━━━━━━━━━━━━━\u001B[0m\u001B[37m\u001B[0m \u001B[1m3s\u001B[0m 2ms/step - accuracy: 0.8678 - loss: 0.3801 - val_accuracy: 0.8626 - val_loss: 0.3899\n",
      "Epoch 8/50\n",
      "\u001B[1m1594/1594\u001B[0m \u001B[32m━━━━━━━━━━━━━━━━━━━━\u001B[0m\u001B[37m\u001B[0m \u001B[1m3s\u001B[0m 2ms/step - accuracy: 0.8691 - loss: 0.3718 - val_accuracy: 0.8632 - val_loss: 0.3893\n",
      "Epoch 9/50\n",
      "\u001B[1m1594/1594\u001B[0m \u001B[32m━━━━━━━━━━━━━━━━━━━━\u001B[0m\u001B[37m\u001B[0m \u001B[1m3s\u001B[0m 2ms/step - accuracy: 0.8705 - loss: 0.3639 - val_accuracy: 0.8607 - val_loss: 0.3884\n",
      "Epoch 10/50\n",
      "\u001B[1m1594/1594\u001B[0m \u001B[32m━━━━━━━━━━━━━━━━━━━━\u001B[0m\u001B[37m\u001B[0m \u001B[1m3s\u001B[0m 2ms/step - accuracy: 0.8741 - loss: 0.3543 - val_accuracy: 0.8698 - val_loss: 0.3690\n",
      "Epoch 11/50\n",
      "\u001B[1m1594/1594\u001B[0m \u001B[32m━━━━━━━━━━━━━━━━━━━━\u001B[0m\u001B[37m\u001B[0m \u001B[1m3s\u001B[0m 2ms/step - accuracy: 0.8765 - loss: 0.3472 - val_accuracy: 0.8712 - val_loss: 0.3684\n",
      "Epoch 12/50\n",
      "\u001B[1m1594/1594\u001B[0m \u001B[32m━━━━━━━━━━━━━━━━━━━━\u001B[0m\u001B[37m\u001B[0m \u001B[1m3s\u001B[0m 2ms/step - accuracy: 0.8823 - loss: 0.3336 - val_accuracy: 0.8750 - val_loss: 0.3561\n",
      "Epoch 13/50\n",
      "\u001B[1m1594/1594\u001B[0m \u001B[32m━━━━━━━━━━━━━━━━━━━━\u001B[0m\u001B[37m\u001B[0m \u001B[1m3s\u001B[0m 2ms/step - accuracy: 0.8799 - loss: 0.3331 - val_accuracy: 0.8731 - val_loss: 0.3592\n",
      "Epoch 14/50\n",
      "\u001B[1m1594/1594\u001B[0m \u001B[32m━━━━━━━━━━━━━━━━━━━━\u001B[0m\u001B[37m\u001B[0m \u001B[1m3s\u001B[0m 2ms/step - accuracy: 0.8853 - loss: 0.3198 - val_accuracy: 0.8720 - val_loss: 0.3609\n",
      "Epoch 15/50\n",
      "\u001B[1m1594/1594\u001B[0m \u001B[32m━━━━━━━━━━━━━━━━━━━━\u001B[0m\u001B[37m\u001B[0m \u001B[1m3s\u001B[0m 2ms/step - accuracy: 0.8836 - loss: 0.3214 - val_accuracy: 0.8789 - val_loss: 0.3501\n",
      "Epoch 16/50\n",
      "\u001B[1m1594/1594\u001B[0m \u001B[32m━━━━━━━━━━━━━━━━━━━━\u001B[0m\u001B[37m\u001B[0m \u001B[1m3s\u001B[0m 2ms/step - accuracy: 0.8870 - loss: 0.3141 - val_accuracy: 0.8792 - val_loss: 0.3473\n",
      "Epoch 17/50\n",
      "\u001B[1m1594/1594\u001B[0m \u001B[32m━━━━━━━━━━━━━━━━━━━━\u001B[0m\u001B[37m\u001B[0m \u001B[1m3s\u001B[0m 2ms/step - accuracy: 0.8905 - loss: 0.3101 - val_accuracy: 0.8690 - val_loss: 0.3786\n",
      "Epoch 18/50\n",
      "\u001B[1m1594/1594\u001B[0m \u001B[32m━━━━━━━━━━━━━━━━━━━━\u001B[0m\u001B[37m\u001B[0m \u001B[1m3s\u001B[0m 2ms/step - accuracy: 0.8934 - loss: 0.3012 - val_accuracy: 0.8752 - val_loss: 0.3556\n",
      "Epoch 19/50\n",
      "\u001B[1m1594/1594\u001B[0m \u001B[32m━━━━━━━━━━━━━━━━━━━━\u001B[0m\u001B[37m\u001B[0m \u001B[1m3s\u001B[0m 2ms/step - accuracy: 0.8929 - loss: 0.2936 - val_accuracy: 0.8820 - val_loss: 0.3365\n",
      "Epoch 20/50\n",
      "\u001B[1m1594/1594\u001B[0m \u001B[32m━━━━━━━━━━━━━━━━━━━━\u001B[0m\u001B[37m\u001B[0m \u001B[1m3s\u001B[0m 2ms/step - accuracy: 0.8951 - loss: 0.2869 - val_accuracy: 0.8786 - val_loss: 0.3493\n",
      "Epoch 21/50\n",
      "\u001B[1m1594/1594\u001B[0m \u001B[32m━━━━━━━━━━━━━━━━━━━━\u001B[0m\u001B[37m\u001B[0m \u001B[1m3s\u001B[0m 2ms/step - accuracy: 0.8959 - loss: 0.2897 - val_accuracy: 0.8828 - val_loss: 0.3354\n",
      "Epoch 22/50\n",
      "\u001B[1m1594/1594\u001B[0m \u001B[32m━━━━━━━━━━━━━━━━━━━━\u001B[0m\u001B[37m\u001B[0m \u001B[1m3s\u001B[0m 2ms/step - accuracy: 0.8984 - loss: 0.2843 - val_accuracy: 0.8822 - val_loss: 0.3334\n",
      "Epoch 23/50\n",
      "\u001B[1m1594/1594\u001B[0m \u001B[32m━━━━━━━━━━━━━━━━━━━━\u001B[0m\u001B[37m\u001B[0m \u001B[1m3s\u001B[0m 2ms/step - accuracy: 0.8992 - loss: 0.2797 - val_accuracy: 0.8820 - val_loss: 0.3316\n",
      "Epoch 24/50\n",
      "\u001B[1m1594/1594\u001B[0m \u001B[32m━━━━━━━━━━━━━━━━━━━━\u001B[0m\u001B[37m\u001B[0m \u001B[1m3s\u001B[0m 2ms/step - accuracy: 0.9008 - loss: 0.2748 - val_accuracy: 0.8803 - val_loss: 0.3435\n",
      "Epoch 25/50\n",
      "\u001B[1m1594/1594\u001B[0m \u001B[32m━━━━━━━━━━━━━━━━━━━━\u001B[0m\u001B[37m\u001B[0m \u001B[1m3s\u001B[0m 2ms/step - accuracy: 0.9037 - loss: 0.2701 - val_accuracy: 0.8790 - val_loss: 0.3447\n",
      "Epoch 26/50\n",
      "\u001B[1m1594/1594\u001B[0m \u001B[32m━━━━━━━━━━━━━━━━━━━━\u001B[0m\u001B[37m\u001B[0m \u001B[1m3s\u001B[0m 2ms/step - accuracy: 0.9051 - loss: 0.2661 - val_accuracy: 0.8809 - val_loss: 0.3377\n",
      "Epoch 27/50\n",
      "\u001B[1m1594/1594\u001B[0m \u001B[32m━━━━━━━━━━━━━━━━━━━━\u001B[0m\u001B[37m\u001B[0m \u001B[1m3s\u001B[0m 2ms/step - accuracy: 0.9069 - loss: 0.2644 - val_accuracy: 0.8854 - val_loss: 0.3261\n",
      "Epoch 28/50\n",
      "\u001B[1m1594/1594\u001B[0m \u001B[32m━━━━━━━━━━━━━━━━━━━━\u001B[0m\u001B[37m\u001B[0m \u001B[1m3s\u001B[0m 2ms/step - accuracy: 0.9054 - loss: 0.2636 - val_accuracy: 0.8793 - val_loss: 0.3388\n",
      "Epoch 29/50\n",
      "\u001B[1m1594/1594\u001B[0m \u001B[32m━━━━━━━━━━━━━━━━━━━━\u001B[0m\u001B[37m\u001B[0m \u001B[1m3s\u001B[0m 2ms/step - accuracy: 0.9095 - loss: 0.2521 - val_accuracy: 0.8843 - val_loss: 0.3301\n",
      "Epoch 30/50\n",
      "\u001B[1m1594/1594\u001B[0m \u001B[32m━━━━━━━━━━━━━━━━━━━━\u001B[0m\u001B[37m\u001B[0m \u001B[1m3s\u001B[0m 2ms/step - accuracy: 0.9093 - loss: 0.2534 - val_accuracy: 0.8844 - val_loss: 0.3314\n",
      "Epoch 31/50\n",
      "\u001B[1m1594/1594\u001B[0m \u001B[32m━━━━━━━━━━━━━━━━━━━━\u001B[0m\u001B[37m\u001B[0m \u001B[1m4s\u001B[0m 2ms/step - accuracy: 0.9111 - loss: 0.2478 - val_accuracy: 0.8791 - val_loss: 0.3377\n",
      "Epoch 32/50\n",
      "\u001B[1m1594/1594\u001B[0m \u001B[32m━━━━━━━━━━━━━━━━━━━━\u001B[0m\u001B[37m\u001B[0m \u001B[1m3s\u001B[0m 2ms/step - accuracy: 0.9099 - loss: 0.2509 - val_accuracy: 0.8832 - val_loss: 0.3403\n",
      "Epoch 33/50\n",
      "\u001B[1m1594/1594\u001B[0m \u001B[32m━━━━━━━━━━━━━━━━━━━━\u001B[0m\u001B[37m\u001B[0m \u001B[1m3s\u001B[0m 2ms/step - accuracy: 0.9129 - loss: 0.2438 - val_accuracy: 0.8834 - val_loss: 0.3277\n",
      "Epoch 34/50\n",
      "\u001B[1m1594/1594\u001B[0m \u001B[32m━━━━━━━━━━━━━━━━━━━━\u001B[0m\u001B[37m\u001B[0m \u001B[1m3s\u001B[0m 2ms/step - accuracy: 0.9129 - loss: 0.2422 - val_accuracy: 0.8753 - val_loss: 0.3499\n",
      "Epoch 35/50\n",
      "\u001B[1m1594/1594\u001B[0m \u001B[32m━━━━━━━━━━━━━━━━━━━━\u001B[0m\u001B[37m\u001B[0m \u001B[1m3s\u001B[0m 2ms/step - accuracy: 0.9141 - loss: 0.2355 - val_accuracy: 0.8832 - val_loss: 0.3251\n",
      "Epoch 36/50\n",
      "\u001B[1m1594/1594\u001B[0m \u001B[32m━━━━━━━━━━━━━━━━━━━━\u001B[0m\u001B[37m\u001B[0m \u001B[1m3s\u001B[0m 2ms/step - accuracy: 0.9163 - loss: 0.2333 - val_accuracy: 0.8801 - val_loss: 0.3491\n",
      "Epoch 37/50\n",
      "\u001B[1m1594/1594\u001B[0m \u001B[32m━━━━━━━━━━━━━━━━━━━━\u001B[0m\u001B[37m\u001B[0m \u001B[1m4s\u001B[0m 2ms/step - accuracy: 0.9139 - loss: 0.2370 - val_accuracy: 0.8830 - val_loss: 0.3355\n",
      "Epoch 38/50\n",
      "\u001B[1m1594/1594\u001B[0m \u001B[32m━━━━━━━━━━━━━━━━━━━━\u001B[0m\u001B[37m\u001B[0m \u001B[1m3s\u001B[0m 2ms/step - accuracy: 0.9172 - loss: 0.2330 - val_accuracy: 0.8849 - val_loss: 0.3306\n",
      "Epoch 39/50\n",
      "\u001B[1m1594/1594\u001B[0m \u001B[32m━━━━━━━━━━━━━━━━━━━━\u001B[0m\u001B[37m\u001B[0m \u001B[1m3s\u001B[0m 2ms/step - accuracy: 0.9191 - loss: 0.2239 - val_accuracy: 0.8872 - val_loss: 0.3266\n",
      "Epoch 40/50\n",
      "\u001B[1m1594/1594\u001B[0m \u001B[32m━━━━━━━━━━━━━━━━━━━━\u001B[0m\u001B[37m\u001B[0m \u001B[1m3s\u001B[0m 2ms/step - accuracy: 0.9185 - loss: 0.2243 - val_accuracy: 0.8677 - val_loss: 0.3795\n",
      "Epoch 41/50\n",
      "\u001B[1m1594/1594\u001B[0m \u001B[32m━━━━━━━━━━━━━━━━━━━━\u001B[0m\u001B[37m\u001B[0m \u001B[1m3s\u001B[0m 2ms/step - accuracy: 0.9189 - loss: 0.2262 - val_accuracy: 0.8897 - val_loss: 0.3254\n",
      "Epoch 42/50\n",
      "\u001B[1m1594/1594\u001B[0m \u001B[32m━━━━━━━━━━━━━━━━━━━━\u001B[0m\u001B[37m\u001B[0m \u001B[1m3s\u001B[0m 2ms/step - accuracy: 0.9213 - loss: 0.2189 - val_accuracy: 0.8923 - val_loss: 0.3200\n",
      "Epoch 43/50\n",
      "\u001B[1m1594/1594\u001B[0m \u001B[32m━━━━━━━━━━━━━━━━━━━━\u001B[0m\u001B[37m\u001B[0m \u001B[1m3s\u001B[0m 2ms/step - accuracy: 0.9220 - loss: 0.2131 - val_accuracy: 0.8859 - val_loss: 0.3292\n",
      "Epoch 44/50\n",
      "\u001B[1m1594/1594\u001B[0m \u001B[32m━━━━━━━━━━━━━━━━━━━━\u001B[0m\u001B[37m\u001B[0m \u001B[1m3s\u001B[0m 2ms/step - accuracy: 0.9231 - loss: 0.2141 - val_accuracy: 0.8854 - val_loss: 0.3330\n",
      "Epoch 45/50\n",
      "\u001B[1m1594/1594\u001B[0m \u001B[32m━━━━━━━━━━━━━━━━━━━━\u001B[0m\u001B[37m\u001B[0m \u001B[1m3s\u001B[0m 2ms/step - accuracy: 0.9228 - loss: 0.2114 - val_accuracy: 0.8853 - val_loss: 0.3325\n",
      "Epoch 46/50\n",
      "\u001B[1m1594/1594\u001B[0m \u001B[32m━━━━━━━━━━━━━━━━━━━━\u001B[0m\u001B[37m\u001B[0m \u001B[1m3s\u001B[0m 2ms/step - accuracy: 0.9261 - loss: 0.2084 - val_accuracy: 0.8850 - val_loss: 0.3434\n",
      "Epoch 47/50\n",
      "\u001B[1m1594/1594\u001B[0m \u001B[32m━━━━━━━━━━━━━━━━━━━━\u001B[0m\u001B[37m\u001B[0m \u001B[1m4s\u001B[0m 2ms/step - accuracy: 0.9255 - loss: 0.2068 - val_accuracy: 0.8853 - val_loss: 0.3280\n",
      "Epoch 48/50\n",
      "\u001B[1m1594/1594\u001B[0m \u001B[32m━━━━━━━━━━━━━━━━━━━━\u001B[0m\u001B[37m\u001B[0m \u001B[1m3s\u001B[0m 2ms/step - accuracy: 0.9258 - loss: 0.2039 - val_accuracy: 0.8816 - val_loss: 0.3515\n",
      "Epoch 49/50\n",
      "\u001B[1m1594/1594\u001B[0m \u001B[32m━━━━━━━━━━━━━━━━━━━━\u001B[0m\u001B[37m\u001B[0m \u001B[1m3s\u001B[0m 2ms/step - accuracy: 0.9296 - loss: 0.1998 - val_accuracy: 0.8873 - val_loss: 0.3259\n",
      "Epoch 50/50\n",
      "\u001B[1m1594/1594\u001B[0m \u001B[32m━━━━━━━━━━━━━━━━━━━━\u001B[0m\u001B[37m\u001B[0m \u001B[1m3s\u001B[0m 2ms/step - accuracy: 0.9280 - loss: 0.2031 - val_accuracy: 0.8899 - val_loss: 0.3315\n"
     ]
    }
   ],
   "execution_count": 24
  },
  {
   "metadata": {
    "ExecuteTime": {
     "end_time": "2025-04-17T17:23:41.437424Z",
     "start_time": "2025-04-17T17:23:41.432933Z"
    }
   },
   "cell_type": "code",
   "source": "history.history",
   "id": "56db3e255545e9cf",
   "outputs": [
    {
     "data": {
      "text/plain": [
       "{'accuracy': [0.7382549047470093,\n",
       "  0.8225882649421692,\n",
       "  0.8384509682655334,\n",
       "  0.8490784168243408,\n",
       "  0.8552352786064148,\n",
       "  0.8615686297416687,\n",
       "  0.8654705882072449,\n",
       "  0.8686666488647461,\n",
       "  0.87147057056427,\n",
       "  0.8739607930183411,\n",
       "  0.8773529529571533,\n",
       "  0.8802353143692017,\n",
       "  0.8820000290870667,\n",
       "  0.8836863040924072,\n",
       "  0.8867254853248596,\n",
       "  0.8882744908332825,\n",
       "  0.8901764750480652,\n",
       "  0.8925686478614807,\n",
       "  0.8923921585083008,\n",
       "  0.8943137526512146,\n",
       "  0.8961960673332214,\n",
       "  0.898254930973053,\n",
       "  0.8986666798591614,\n",
       "  0.9008235335350037,\n",
       "  0.9020980596542358,\n",
       "  0.9029215574264526,\n",
       "  0.9050784111022949,\n",
       "  0.9064313769340515,\n",
       "  0.9073137044906616,\n",
       "  0.9086078405380249,\n",
       "  0.9097254872322083,\n",
       "  0.9110000133514404,\n",
       "  0.9113921523094177,\n",
       "  0.9137254953384399,\n",
       "  0.9136666655540466,\n",
       "  0.9143137335777283,\n",
       "  0.9161568880081177,\n",
       "  0.9167255163192749,\n",
       "  0.9174705743789673,\n",
       "  0.918647050857544,\n",
       "  0.920098066329956,\n",
       "  0.9206666946411133,\n",
       "  0.9200588464736938,\n",
       "  0.922529399394989,\n",
       "  0.9229215979576111,\n",
       "  0.9245686531066895,\n",
       "  0.9244117736816406,\n",
       "  0.9254117608070374,\n",
       "  0.9273529648780823,\n",
       "  0.928352952003479],\n",
       " 'loss': [0.7971643209457397,\n",
       "  0.5100509524345398,\n",
       "  0.46035876870155334,\n",
       "  0.432822048664093,\n",
       "  0.4122883081436157,\n",
       "  0.3966919481754303,\n",
       "  0.3832884430885315,\n",
       "  0.3732236921787262,\n",
       "  0.36193957924842834,\n",
       "  0.3532966077327728,\n",
       "  0.34539031982421875,\n",
       "  0.3371661603450775,\n",
       "  0.33024245500564575,\n",
       "  0.3250143527984619,\n",
       "  0.31823620200157166,\n",
       "  0.3120814263820648,\n",
       "  0.3067542612552643,\n",
       "  0.3017125129699707,\n",
       "  0.29683807492256165,\n",
       "  0.29302480816841125,\n",
       "  0.2878034710884094,\n",
       "  0.2828303873538971,\n",
       "  0.27865996956825256,\n",
       "  0.27471157908439636,\n",
       "  0.2711142599582672,\n",
       "  0.2673740088939667,\n",
       "  0.2644100785255432,\n",
       "  0.2600715458393097,\n",
       "  0.25696447491645813,\n",
       "  0.253339022397995,\n",
       "  0.2501522898674011,\n",
       "  0.24685309827327728,\n",
       "  0.24394376575946808,\n",
       "  0.24050261080265045,\n",
       "  0.23791192471981049,\n",
       "  0.2355925589799881,\n",
       "  0.23274946212768555,\n",
       "  0.23088347911834717,\n",
       "  0.22765670716762543,\n",
       "  0.22572460770606995,\n",
       "  0.22274816036224365,\n",
       "  0.21969451010227203,\n",
       "  0.21719370782375336,\n",
       "  0.21513523161411285,\n",
       "  0.21235008537769318,\n",
       "  0.20991720259189606,\n",
       "  0.20755384862422943,\n",
       "  0.2055695801973343,\n",
       "  0.20330773293972015,\n",
       "  0.20124486088752747],\n",
       " 'val_accuracy': [0.812333345413208,\n",
       "  0.8322222232818604,\n",
       "  0.8355555534362793,\n",
       "  0.8299999833106995,\n",
       "  0.8528888821601868,\n",
       "  0.8562222123146057,\n",
       "  0.8625555634498596,\n",
       "  0.8632222414016724,\n",
       "  0.8606666922569275,\n",
       "  0.8697777986526489,\n",
       "  0.871222198009491,\n",
       "  0.875,\n",
       "  0.8731111288070679,\n",
       "  0.871999979019165,\n",
       "  0.8788889050483704,\n",
       "  0.8792222142219543,\n",
       "  0.8690000176429749,\n",
       "  0.8752222061157227,\n",
       "  0.8820000290870667,\n",
       "  0.8785555362701416,\n",
       "  0.882777750492096,\n",
       "  0.8822222352027893,\n",
       "  0.8820000290870667,\n",
       "  0.8803333044052124,\n",
       "  0.8790000081062317,\n",
       "  0.8808888792991638,\n",
       "  0.8854444622993469,\n",
       "  0.8793333172798157,\n",
       "  0.8843333125114441,\n",
       "  0.8844444155693054,\n",
       "  0.879111111164093,\n",
       "  0.883222222328186,\n",
       "  0.8834444284439087,\n",
       "  0.875333309173584,\n",
       "  0.883222222328186,\n",
       "  0.8801110982894897,\n",
       "  0.8830000162124634,\n",
       "  0.8848888874053955,\n",
       "  0.8872222304344177,\n",
       "  0.8676666617393494,\n",
       "  0.8896666765213013,\n",
       "  0.8923333287239075,\n",
       "  0.8858888745307922,\n",
       "  0.8854444622993469,\n",
       "  0.8853333592414856,\n",
       "  0.8849999904632568,\n",
       "  0.8853333592414856,\n",
       "  0.8815555572509766,\n",
       "  0.887333333492279,\n",
       "  0.8898888826370239],\n",
       " 'val_loss': [0.5412396192550659,\n",
       "  0.4811908006668091,\n",
       "  0.45844417810440063,\n",
       "  0.47617122530937195,\n",
       "  0.41259562969207764,\n",
       "  0.4139845371246338,\n",
       "  0.38985222578048706,\n",
       "  0.3893249034881592,\n",
       "  0.38838085532188416,\n",
       "  0.3690042793750763,\n",
       "  0.36838480830192566,\n",
       "  0.3561365604400635,\n",
       "  0.3592339754104614,\n",
       "  0.36091309785842896,\n",
       "  0.35005173087120056,\n",
       "  0.34733667969703674,\n",
       "  0.37859639525413513,\n",
       "  0.35559776425361633,\n",
       "  0.33646661043167114,\n",
       "  0.34931880235671997,\n",
       "  0.33538392186164856,\n",
       "  0.3334393799304962,\n",
       "  0.3315736949443817,\n",
       "  0.34353742003440857,\n",
       "  0.3446792662143707,\n",
       "  0.3376993238925934,\n",
       "  0.32605689764022827,\n",
       "  0.33877983689308167,\n",
       "  0.3301151394844055,\n",
       "  0.33135339617729187,\n",
       "  0.337662011384964,\n",
       "  0.3403463661670685,\n",
       "  0.3276961147785187,\n",
       "  0.3498636782169342,\n",
       "  0.32510697841644287,\n",
       "  0.34909090399742126,\n",
       "  0.33546826243400574,\n",
       "  0.3305748999118805,\n",
       "  0.32664570212364197,\n",
       "  0.37947073578834534,\n",
       "  0.32535305619239807,\n",
       "  0.31996485590934753,\n",
       "  0.3292023837566376,\n",
       "  0.3329792618751526,\n",
       "  0.332523912191391,\n",
       "  0.3433544337749481,\n",
       "  0.32797008752822876,\n",
       "  0.3514802157878876,\n",
       "  0.32594287395477295,\n",
       "  0.33146533370018005]}"
      ]
     },
     "execution_count": 25,
     "metadata": {},
     "output_type": "execute_result"
    }
   ],
   "execution_count": 25
  },
  {
   "metadata": {
    "ExecuteTime": {
     "end_time": "2025-04-17T17:23:41.641457Z",
     "start_time": "2025-04-17T17:23:41.498032Z"
    }
   },
   "cell_type": "code",
   "source": [
    "fig, ax = plt.subplots(figsize=(12,5))\n",
    "ax.plot(history.history[\"loss\"], label=\"train loss\")\n",
    "ax.plot(history.history[\"accuracy\"], label=\"train accuracy\")\n",
    "ax.plot(history.history[\"val_loss\"], label=\"validation loss\")\n",
    "ax.plot(history.history[\"val_accuracy\"], label=\"validation accuracy\")\n",
    "ax.legend()"
   ],
   "id": "60c31ec2bc1b0c4f",
   "outputs": [
    {
     "data": {
      "text/plain": [
       "<matplotlib.legend.Legend at 0x757208c79d50>"
      ]
     },
     "execution_count": 26,
     "metadata": {},
     "output_type": "execute_result"
    },
    {
     "data": {
      "text/plain": [
       "<Figure size 1200x500 with 1 Axes>"
      ],
      "image/png": "[encoded data removed]"
     },
     "metadata": {},
     "output_type": "display_data"
    }
   ],
   "execution_count": 26
  },
  {
   "metadata": {},
   "cell_type": "markdown",
   "source": "# Evaluate Test Model",
   "id": "766156825543b78c"
  },
  {
   "metadata": {
    "ExecuteTime": {
     "end_time": "2025-04-17T17:23:42.483064Z",
     "start_time": "2025-04-17T17:23:41.652074Z"
    }
   },
   "cell_type": "code",
   "source": "model.evaluate(x_test, y_test, verbose=0)",
   "id": "81b9e09500a92042",
   "outputs": [
    {
     "data": {
      "text/plain": [
       "[0.3554648160934448, 0.8808000087738037]"
      ]
     },
     "execution_count": 27,
     "metadata": {},
     "output_type": "execute_result"
    }
   ],
   "execution_count": 27
  },
  {
   "metadata": {
    "ExecuteTime": {
     "end_time": "2025-04-17T17:23:42.495620Z",
     "start_time": "2025-04-17T17:23:42.492303Z"
    }
   },
   "cell_type": "code",
   "source": [
    "x3 = x_test[1:3,:,:]\n",
    "x3.shape"
   ],
   "id": "7d84c0f28be4f2a9",
   "outputs": [
    {
     "data": {
      "text/plain": [
       "(2, 28, 28)"
      ]
     },
     "execution_count": 28,
     "metadata": {},
     "output_type": "execute_result"
    }
   ],
   "execution_count": 28
  },
  {
   "metadata": {
    "ExecuteTime": {
     "end_time": "2025-04-17T17:23:42.633751Z",
     "start_time": "2025-04-17T17:23:42.538306Z"
    }
   },
   "cell_type": "code",
   "source": "plt.imshow(x3[0], cmap=\"gray\")",
   "id": "3eedd2e8eea25214",
   "outputs": [
    {
     "data": {
      "text/plain": [
       "<matplotlib.image.AxesImage at 0x7572089d6210>"
      ]
     },
     "execution_count": 29,
     "metadata": {},
     "output_type": "execute_result"
    },
    {
     "data": {
      "text/plain": [
       "<Figure size 640x480 with 1 Axes>"
      ],
      "image/png": "[encoded data removed]"
     },
     "metadata": {},
     "output_type": "display_data"
    }
   ],
   "execution_count": 29
  },
  {
   "metadata": {
    "ExecuteTime": {
     "end_time": "2025-04-17T17:23:42.961198Z",
     "start_time": "2025-04-17T17:23:42.643990Z"
    }
   },
   "cell_type": "code",
   "source": "model.predict(x3).round(3)",
   "id": "f387fcf2ee0833e8",
   "outputs": [
    {
     "name": "stdout",
     "output_type": "stream",
     "text": [
      "\u001B[1m1/1\u001B[0m \u001B[32m━━━━━━━━━━━━━━━━━━━━\u001B[0m\u001B[37m\u001B[0m \u001B[1m0s\u001B[0m 284ms/step\n"
     ]
    },
    {
     "data": {
      "text/plain": [
       "array([[0.   , 0.   , 0.948, 0.   , 0.052, 0.   , 0.   , 0.   , 0.   ,\n",
       "        0.   ],\n",
       "       [0.   , 1.   , 0.   , 0.   , 0.   , 0.   , 0.   , 0.   , 0.   ,\n",
       "        0.   ]], dtype=float32)"
      ]
     },
     "execution_count": 30,
     "metadata": {},
     "output_type": "execute_result"
    }
   ],
   "execution_count": 30
  },
  {
   "metadata": {
    "ExecuteTime": {
     "end_time": "2025-04-17T17:23:43.081503Z",
     "start_time": "2025-04-17T17:23:43.014187Z"
    }
   },
   "cell_type": "code",
   "source": "model.predict(x3).shape",
   "id": "389fa4e8e8547388",
   "outputs": [
    {
     "name": "stdout",
     "output_type": "stream",
     "text": [
      "\u001B[1m1/1\u001B[0m \u001B[32m━━━━━━━━━━━━━━━━━━━━\u001B[0m\u001B[37m\u001B[0m \u001B[1m0s\u001B[0m 32ms/step\n"
     ]
    },
    {
     "data": {
      "text/plain": [
       "(2, 10)"
      ]
     },
     "execution_count": 31,
     "metadata": {},
     "output_type": "execute_result"
    }
   ],
   "execution_count": 31
  },
  {
   "metadata": {
    "ExecuteTime": {
     "end_time": "2025-04-17T17:23:43.195664Z",
     "start_time": "2025-04-17T17:23:43.128657Z"
    }
   },
   "cell_type": "code",
   "source": "np.argmax(model.predict(x3),  axis=1)",
   "id": "bd2970262d87aee7",
   "outputs": [
    {
     "name": "stdout",
     "output_type": "stream",
     "text": [
      "\u001B[1m1/1\u001B[0m \u001B[32m━━━━━━━━━━━━━━━━━━━━\u001B[0m\u001B[37m\u001B[0m \u001B[1m0s\u001B[0m 33ms/step\n"
     ]
    },
    {
     "data": {
      "text/plain": [
       "array([2, 1])"
      ]
     },
     "execution_count": 32,
     "metadata": {},
     "output_type": "execute_result"
    }
   ],
   "execution_count": 32
  },
  {
   "metadata": {
    "ExecuteTime": {
     "end_time": "2025-04-17T17:23:43.247147Z",
     "start_time": "2025-04-17T17:23:43.240722Z"
    }
   },
   "cell_type": "code",
   "source": " y_test[1:3]",
   "id": "626a8b5e1ecc9a1e",
   "outputs": [
    {
     "data": {
      "text/plain": [
       "array([2, 1], dtype=uint8)"
      ]
     },
     "execution_count": 33,
     "metadata": {},
     "output_type": "execute_result"
    }
   ],
   "execution_count": 33
  }
 ],
 "metadata": {
  "kernelspec": {
   "name": "python3",
   "language": "python",
   "display_name": "Python 3 (ipykernel)"
  }
 },
 "nbformat": 5,
 "nbformat_minor": 9
}
