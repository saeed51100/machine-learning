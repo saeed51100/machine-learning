{
 "cells": [
  {
   "metadata": {},
   "cell_type": "code",
   "source": [
    "import numpy as np\n",
    "import tensorflow as tf\n",
    "from tensorflow import keras\n",
    "import matplotlib.pyplot as plt\n",
    "import numpy as np"
   ],
   "id": "13b8867ef87cb5fe",
   "outputs": [],
   "execution_count": null
  },
  {
   "metadata": {},
   "cell_type": "markdown",
   "source": "# Classification",
   "id": "53ce0290217a91a6"
  },
  {
   "metadata": {},
   "cell_type": "code",
   "source": "fmnist_data = keras.datasets.fashion_mnist",
   "id": "96f8b3514769e804",
   "outputs": [],
   "execution_count": null
  },
  {
   "metadata": {},
   "cell_type": "code",
   "source": "(x_train, y_train), (x_test, y_test) = fmnist_data.load_data()",
   "id": "78cec47127f2316b",
   "outputs": [],
   "execution_count": null
  },
  {
   "metadata": {},
   "cell_type": "code",
   "source": "x_train.shape",
   "id": "da9d38036849252e",
   "outputs": [],
   "execution_count": null
  },
  {
   "metadata": {},
   "cell_type": "code",
   "source": "x_test.shape",
   "id": "18a6fd741ff0f7d",
   "outputs": [],
   "execution_count": null
  },
  {
   "metadata": {},
   "cell_type": "code",
   "source": "y_train.shape",
   "id": "a428ffd0c8e6277b",
   "outputs": [],
   "execution_count": null
  },
  {
   "metadata": {},
   "cell_type": "code",
   "source": "y_train[:10]",
   "id": "4927ea8448ff28bc",
   "outputs": [],
   "execution_count": null
  },
  {
   "metadata": {},
   "cell_type": "code",
   "source": "plt.imshow(x_train[0,], cmap=\"gray\")",
   "id": "c1b3ed993f2ee09b",
   "outputs": [],
   "execution_count": null
  },
  {
   "metadata": {},
   "cell_type": "code",
   "source": "x_train, x_test = x_train / 255.0, x_test / 255.0",
   "id": "1152fcdd17ce2dad",
   "outputs": [],
   "execution_count": null
  },
  {
   "metadata": {},
   "cell_type": "markdown",
   "source": "# Define Model",
   "id": "5dc1478468ed7105"
  },
  {
   "metadata": {},
   "cell_type": "code",
   "source": [
    "model = keras.models.Sequential([\n",
    "    keras.layers.Flatten(input_shape=[28, 28]),\n",
    "    keras.layers.Dense(100, activation=\"relu\"),\n",
    "    keras.layers.Dense(75, activation=\"relu\"),\n",
    "    keras.layers.Dense(10, activation=\"softmax\")\n",
    "    ])"
   ],
   "id": "6ccd30620a08c1f9",
   "outputs": [],
   "execution_count": null
  },
  {
   "metadata": {},
   "cell_type": "code",
   "source": "model.summary()",
   "id": "6541ef047f1f4350",
   "outputs": [],
   "execution_count": null
  },
  {
   "metadata": {},
   "cell_type": "code",
   "source": "model.layers",
   "id": "d73ce8b22857e5b1",
   "outputs": [],
   "execution_count": null
  },
  {
   "metadata": {},
   "cell_type": "code",
   "source": "weights, bias = model.layers[1].get_weights()",
   "id": "fd7b795a8f5be114",
   "outputs": [],
   "execution_count": null
  },
  {
   "metadata": {},
   "cell_type": "code",
   "source": "weights",
   "id": "20bda22d10fccdd8",
   "outputs": [],
   "execution_count": null
  },
  {
   "metadata": {},
   "cell_type": "code",
   "source": "bias",
   "id": "e2c051a15388273a",
   "outputs": [],
   "execution_count": null
  },
  {
   "metadata": {},
   "cell_type": "markdown",
   "source": "# Compile Model",
   "id": "7c7b0858cffd1e79"
  },
  {
   "metadata": {},
   "cell_type": "code",
   "source": [
    "model.compile(loss=\"sparse_categorical_crossentropy\",\n",
    "              optimizer=\"sgd\",\n",
    "              metrics=[\"accuracy\"])"
   ],
   "id": "1dd22281844ac25e",
   "outputs": [],
   "execution_count": null
  },
  {
   "metadata": {},
   "cell_type": "markdown",
   "source": "# Fit Model",
   "id": "36e8bc831ff87c9"
  },
  {
   "metadata": {},
   "cell_type": "code",
   "source": "history = model.fit(x_train, y_train, epochs=50, validation_split=0.15)",
   "id": "34f35a0abbfe13bb",
   "outputs": [],
   "execution_count": null
  },
  {
   "metadata": {},
   "cell_type": "code",
   "source": "history.history",
   "id": "56db3e255545e9cf",
   "outputs": [],
   "execution_count": null
  },
  {
   "metadata": {},
   "cell_type": "code",
   "source": [
    "fig, ax = plt.subplots(figsize=(12,5))\n",
    "ax.plot(history.history[\"loss\"], label=\"train loss\")\n",
    "ax.plot(history.history[\"accuracy\"], label=\"train accuracy\")\n",
    "ax.plot(history.history[\"val_loss\"], label=\"validation loss\")\n",
    "ax.plot(history.history[\"val_accuracy\"], label=\"validation accuracy\")\n",
    "ax.legend()"
   ],
   "id": "60c31ec2bc1b0c4f",
   "outputs": [],
   "execution_count": null
  },
  {
   "metadata": {},
   "cell_type": "code",
   "source": "model.evaluate(x_test, y_test, verbose=0)",
   "id": "81b9e09500a92042",
   "outputs": [],
   "execution_count": null
  },
  {
   "metadata": {},
   "cell_type": "code",
   "source": [
    "x3 = x_test[1:3,:,:]\n",
    "x3.shape"
   ],
   "id": "7d84c0f28be4f2a9",
   "outputs": [],
   "execution_count": null
  },
  {
   "metadata": {},
   "cell_type": "code",
   "source": "plt.imshow(x3[0], cmap=\"gray\")",
   "id": "3eedd2e8eea25214",
   "outputs": [],
   "execution_count": null
  },
  {
   "metadata": {},
   "cell_type": "code",
   "source": "model.predict(x3)",
   "id": "f387fcf2ee0833e8",
   "outputs": [],
   "execution_count": null
  },
  {
   "metadata": {},
   "cell_type": "code",
   "source": "model.predict(x3).shape",
   "id": "389fa4e8e8547388",
   "outputs": [],
   "execution_count": null
  },
  {
   "metadata": {},
   "cell_type": "code",
   "source": "np.argmax(model.predict(x3),  axis=1)",
   "id": "bd2970262d87aee7",
   "outputs": [],
   "execution_count": null
  },
  {
   "metadata": {},
   "cell_type": "code",
   "source": " y_test[1:3]",
   "id": "626a8b5e1ecc9a1e",
   "outputs": [],
   "execution_count": null
  },
  {
   "metadata": {},
   "cell_type": "code",
   "source": "",
   "id": "48e627c58a2da77",
   "outputs": [],
   "execution_count": null
  }
 ],
 "metadata": {
  "kernelspec": {
   "name": "python3",
   "language": "python",
   "display_name": "Python 3 (ipykernel)"
  }
 },
 "nbformat": 5,
 "nbformat_minor": 9
}
