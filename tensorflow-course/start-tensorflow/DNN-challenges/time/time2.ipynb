{
 "cells": [
  {
   "metadata": {},
   "cell_type": "markdown",
   "source": "# c-14",
   "id": "aa6d038395b2a26d"
  },
  {
   "metadata": {},
   "cell_type": "code",
   "source": [
    "from tensorflow import keras\n",
    "import matplotlib.pyplot as plt\n",
    "import numpy as np"
   ],
   "id": "13b8867ef87cb5fe",
   "outputs": [],
   "execution_count": null
  },
  {
   "metadata": {},
   "cell_type": "markdown",
   "source": "# Classification",
   "id": "53ce0290217a91a6"
  },
  {
   "metadata": {},
   "cell_type": "code",
   "source": "fmnist_data = keras.datasets.fashion_mnist",
   "id": "96f8b3514769e804",
   "outputs": [],
   "execution_count": null
  },
  {
   "metadata": {},
   "cell_type": "code",
   "source": "(x_train, y_train), (x_test, y_test) = fmnist_data.load_data()",
   "id": "78cec47127f2316b",
   "outputs": [],
   "execution_count": null
  },
  {
   "metadata": {},
   "cell_type": "code",
   "source": "x_train.shape",
   "id": "da9d38036849252e",
   "outputs": [],
   "execution_count": null
  },
  {
   "metadata": {},
   "cell_type": "code",
   "source": "x_test.shape",
   "id": "18a6fd741ff0f7d",
   "outputs": [],
   "execution_count": null
  },
  {
   "metadata": {},
   "cell_type": "code",
   "source": "y_train.shape",
   "id": "a428ffd0c8e6277b",
   "outputs": [],
   "execution_count": null
  },
  {
   "metadata": {},
   "cell_type": "code",
   "source": "y_train[:10]",
   "id": "4927ea8448ff28bc",
   "outputs": [],
   "execution_count": null
  },
  {
   "metadata": {},
   "cell_type": "code",
   "source": "plt.imshow(x_train[0,], cmap=\"gray\")",
   "id": "c1b3ed993f2ee09b",
   "outputs": [],
   "execution_count": null
  },
  {
   "metadata": {},
   "cell_type": "code",
   "source": "x_train, x_test = x_train / 255.0, x_test / 255.0",
   "id": "1152fcdd17ce2dad",
   "outputs": [],
   "execution_count": null
  },
  {
   "metadata": {},
   "cell_type": "markdown",
   "source": "# Define Model",
   "id": "5dc1478468ed7105"
  },
  {
   "metadata": {},
   "cell_type": "code",
   "source": "init_1 = keras.initializers.VarianceScaling(scale=2.0, mode='fan_avg', distribution='uniform')",
   "id": "e46b36d722b18e77",
   "outputs": [],
   "execution_count": null
  },
  {
   "metadata": {},
   "cell_type": "code",
   "source": [
    "model = keras.models.Sequential([\n",
    "    keras.layers.Flatten(input_shape=[28, 28]),\n",
    "    keras.layers.BatchNormalization(),\n",
    "    # keras.layers.Dense(100, activation=\"elu\", kernel_initializer=\"he_normal\" ),\n",
    "    keras.layers.Dense(100, kernel_initializer=init_1, use_bias=False),\n",
    "    keras.layers.BatchNormalization(),\n",
    "    keras.layers.Activation(\"elu\"),\n",
    "    keras.layers.Dense(75, use_bias=False),\n",
    "    keras.layers.BatchNormalization(),\n",
    "    keras.layers.LeakyReLU(alpha=0.3),\n",
    "    keras.layers.Dense(10, activation=\"softmax\")\n",
    "])"
   ],
   "id": "804cb3a9a1553738",
   "outputs": [],
   "execution_count": null
  },
  {
   "metadata": {},
   "cell_type": "code",
   "source": "model.layers",
   "id": "d73ce8b22857e5b1",
   "outputs": [],
   "execution_count": null
  },
  {
   "metadata": {},
   "cell_type": "code",
   "source": "weights = model.layers[1].get_weights()",
   "id": "fd7b795a8f5be114",
   "outputs": [],
   "execution_count": null
  },
  {
   "metadata": {},
   "cell_type": "code",
   "source": "weights",
   "id": "20bda22d10fccdd8",
   "outputs": [],
   "execution_count": null
  },
  {
   "metadata": {},
   "cell_type": "markdown",
   "source": "# Compile Model",
   "id": "7c7b0858cffd1e79"
  },
  {
   "metadata": {},
   "cell_type": "code",
   "source": "sgd = keras.optimizers.SGD(clipvalue=1.0)",
   "id": "4385d70e1a628d3e",
   "outputs": [],
   "execution_count": null
  },
  {
   "metadata": {},
   "cell_type": "code",
   "source": [
    "model.compile(loss=\"sparse_categorical_crossentropy\",\n",
    "              optimizer=sgd,\n",
    "              metrics=[\"accuracy\"])"
   ],
   "id": "1dd22281844ac25e",
   "outputs": [],
   "execution_count": null
  },
  {
   "metadata": {},
   "cell_type": "markdown",
   "source": "# Fit Model",
   "id": "36e8bc831ff87c9"
  },
  {
   "metadata": {},
   "cell_type": "code",
   "source": [
    "history = model.fit(x_train, y_train,\n",
    "                    epochs=5,\n",
    "                    validation_split=0.15,\n",
    "                    )"
   ],
   "id": "34f35a0abbfe13bb",
   "outputs": [],
   "execution_count": null
  },
  {
   "metadata": {},
   "cell_type": "markdown",
   "source": "# Optimizers",
   "id": "93a4ad16b66b1d77"
  },
  {
   "metadata": {},
   "cell_type": "code",
   "source": [
    "def func(x):\n",
    "    return x**2\n",
    "def func_grad(x):\n",
    "    return 2*x"
   ],
   "id": "245b1fc5e784bda",
   "outputs": [],
   "execution_count": null
  },
  {
   "metadata": {},
   "cell_type": "code",
   "source": [
    "def gradient_descent(lr, func_grad):\n",
    "    x = -10\n",
    "    x_values = [x]\n",
    "    for i in range(10):\n",
    "        x -= lr * func_grad(x)\n",
    "        x_values.append(x)\n",
    "    print(\"iteration 10, x: %s\" %x)\n",
    "    return x_values\n"
   ],
   "id": "29bd791b10738e83",
   "outputs": [],
   "execution_count": null
  },
  {
   "metadata": {},
   "cell_type": "code",
   "source": [
    "def search_path(x_vals, func):\n",
    "    x_line = np.arange(-15, 15, 0.01)\n",
    "    plt.plot(x_line, [func(x) for x in x_line])\n",
    "    plt.plot(x_vals, [func(x) for x in x_vals], \"ro-\")"
   ],
   "id": "b585d1028f1e9261",
   "outputs": [],
   "execution_count": null
  },
  {
   "metadata": {},
   "cell_type": "code",
   "source": [
    "x_values = gradient_descent(0.1, func_grad)\n",
    "search_path(x_values, func)"
   ],
   "id": "52e602ebe941bcd7",
   "outputs": [],
   "execution_count": null
  },
  {
   "metadata": {},
   "cell_type": "code",
   "source": [
    "def func(x1, x2):\n",
    "    return x1**2 + 2*x2**2\n",
    "\n",
    "def func_grad(x1, x2):\n",
    "    return (2*x1, 4*x2)"
   ],
   "id": "45915f640fa7390",
   "outputs": [],
   "execution_count": null
  },
  {
   "metadata": {},
   "cell_type": "code",
   "source": [
    "class Optimizers:\n",
    "    def __init__(self, lr_schedule, rate=0.01):\n",
    "        self.lr_schedule = self.lr(lr_schedule, rate)\n",
    "\n",
    "    def lr(self, lr_schedule, rate):\n",
    "        if lr_schedule == \"constant\":\n",
    "            return self.constant_lr(rate)\n",
    "\n",
    "    def constnt_lr(self, rate):\n",
    "        return rate\n",
    "\n",
    "    def gradient_descent(self, x1, x2, t1, t2, func_grad):\n",
    "        gr_x1, gr_x2 = func_grad(x1, x2)\n",
    "        return x1 - self.lr_schedule*gr_x1, x2 - self.lr_schedule*gr_x2, 0, 0"
   ],
   "id": "e939996c94f4db5a",
   "outputs": [],
   "execution_count": null
  },
  {
   "metadata": {},
   "cell_type": "code",
   "source": [
    "def search(optimizer, func_grad, iteration=20):\n",
    "    x1, x2, t1, t2 = -5, -2, 0, 0\n",
    "    x_iterations = ([x1, x2])\n",
    "    for i in range(iteration):\n",
    "        x1, x2, t1, t2 = optimizer(x1, x2, t1, t2, func_grad)\n",
    "        x_iterations.append(x1, x2)\n",
    "\n",
    "    print(\"epoch {}, x1: {}, x2: {} \".format(i+1, x1, x2))\n",
    "    return x_iterations"
   ],
   "id": "cac8b6e479bb4c02",
   "outputs": [],
   "execution_count": null
  },
  {
   "metadata": {},
   "cell_type": "code",
   "source": "def search_path(func, x_iterations):",
   "id": "d8e203943c8c3a0e",
   "outputs": [],
   "execution_count": null
  }
 ],
 "metadata": {
  "kernelspec": {
   "name": "python3",
   "language": "python",
   "display_name": "Python 3 (ipykernel)"
  }
 },
 "nbformat": 5,
 "nbformat_minor": 9
}
