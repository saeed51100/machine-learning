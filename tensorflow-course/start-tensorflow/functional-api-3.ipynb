{
 "cells": [
  {
   "metadata": {
    "ExecuteTime": {
     "end_time": "2025-03-05T10:13:08.829436Z",
     "start_time": "2025-03-05T10:13:08.824579Z"
    }
   },
   "cell_type": "code",
   "source": [
    "import tensorflow as tf\n",
    "from tensorflow import keras\n",
    "from sklearn.datasets import fetch_california_housing\n",
    "from sklearn.model_selection import train_test_split\n",
    "from sklearn.preprocessing import StandardScaler"
   ],
   "id": "50f534d73f333375",
   "outputs": [],
   "execution_count": 173
  },
  {
   "metadata": {
    "ExecuteTime": {
     "end_time": "2025-03-05T10:13:08.892987Z",
     "start_time": "2025-03-05T10:13:08.873961Z"
    }
   },
   "cell_type": "code",
   "source": [
    "california_housing = fetch_california_housing()\n",
    "california_housing"
   ],
   "id": "a64bbb9b26724c56",
   "outputs": [
    {
     "data": {
      "text/plain": [
       "{'data': array([[   8.3252    ,   41.        ,    6.98412698, ...,    2.55555556,\n",
       "           37.88      , -122.23      ],\n",
       "        [   8.3014    ,   21.        ,    6.23813708, ...,    2.10984183,\n",
       "           37.86      , -122.22      ],\n",
       "        [   7.2574    ,   52.        ,    8.28813559, ...,    2.80225989,\n",
       "           37.85      , -122.24      ],\n",
       "        ...,\n",
       "        [   1.7       ,   17.        ,    5.20554273, ...,    2.3256351 ,\n",
       "           39.43      , -121.22      ],\n",
       "        [   1.8672    ,   18.        ,    5.32951289, ...,    2.12320917,\n",
       "           39.43      , -121.32      ],\n",
       "        [   2.3886    ,   16.        ,    5.25471698, ...,    2.61698113,\n",
       "           39.37      , -121.24      ]]),\n",
       " 'target': array([4.526, 3.585, 3.521, ..., 0.923, 0.847, 0.894]),\n",
       " 'frame': None,\n",
       " 'target_names': ['MedHouseVal'],\n",
       " 'feature_names': ['MedInc',\n",
       "  'HouseAge',\n",
       "  'AveRooms',\n",
       "  'AveBedrms',\n",
       "  'Population',\n",
       "  'AveOccup',\n",
       "  'Latitude',\n",
       "  'Longitude'],\n",
       " 'DESCR': '.. _california_housing_dataset:\\n\\nCalifornia Housing dataset\\n--------------------------\\n\\n**Data Set Characteristics:**\\n\\n:Number of Instances: 20640\\n\\n:Number of Attributes: 8 numeric, predictive attributes and the target\\n\\n:Attribute Information:\\n    - MedInc        median income in block group\\n    - HouseAge      median house age in block group\\n    - AveRooms      average number of rooms per household\\n    - AveBedrms     average number of bedrooms per household\\n    - Population    block group population\\n    - AveOccup      average number of household members\\n    - Latitude      block group latitude\\n    - Longitude     block group longitude\\n\\n:Missing Attribute Values: None\\n\\nThis dataset was obtained from the StatLib repository.\\nhttps://www.dcc.fc.up.pt/~ltorgo/Regression/cal_housing.html\\n\\nThe target variable is the median house value for California districts,\\nexpressed in hundreds of thousands of dollars ($100,000).\\n\\nThis dataset was derived from the 1990 U.S. census, using one row per census\\nblock group. A block group is the smallest geographical unit for which the U.S.\\nCensus Bureau publishes sample data (a block group typically has a population\\nof 600 to 3,000 people).\\n\\nA household is a group of people residing within a home. Since the average\\nnumber of rooms and bedrooms in this dataset are provided per household, these\\ncolumns may take surprisingly large values for block groups with few households\\nand many empty houses, such as vacation resorts.\\n\\nIt can be downloaded/loaded using the\\n:func:`sklearn.datasets.fetch_california_housing` function.\\n\\n.. rubric:: References\\n\\n- Pace, R. Kelley and Ronald Barry, Sparse Spatial Autoregressions,\\n  Statistics and Probability Letters, 33 (1997) 291-297\\n'}"
      ]
     },
     "execution_count": 174,
     "metadata": {},
     "output_type": "execute_result"
    }
   ],
   "execution_count": 174
  },
  {
   "metadata": {},
   "cell_type": "markdown",
   "source": "# Splitting data into train and test.",
   "id": "d4ee5c97c4d08ff1"
  },
  {
   "metadata": {
    "ExecuteTime": {
     "end_time": "2025-03-05T10:13:08.981517Z",
     "start_time": "2025-03-05T10:13:08.974139Z"
    }
   },
   "cell_type": "code",
   "source": "X_train0, X_test, Y_train0, Y_test  = train_test_split(california_housing[\"data\"], california_housing[\"target\"])",
   "id": "1d03ad96117cd460",
   "outputs": [],
   "execution_count": 175
  },
  {
   "metadata": {
    "ExecuteTime": {
     "end_time": "2025-03-05T10:13:09.033239Z",
     "start_time": "2025-03-05T10:13:09.026838Z"
    }
   },
   "cell_type": "code",
   "source": "X_train1, X_validation, Y_train1, Y_validation = train_test_split(X_train0, Y_train0)",
   "id": "165c71bb28853765",
   "outputs": [],
   "execution_count": 176
  },
  {
   "metadata": {
    "ExecuteTime": {
     "end_time": "2025-03-05T10:13:09.088827Z",
     "start_time": "2025-03-05T10:13:09.081626Z"
    }
   },
   "cell_type": "code",
   "source": "X_test.shape",
   "id": "5e19fafead3ba97b",
   "outputs": [
    {
     "data": {
      "text/plain": [
       "(5160, 8)"
      ]
     },
     "execution_count": 177,
     "metadata": {},
     "output_type": "execute_result"
    }
   ],
   "execution_count": 177
  },
  {
   "metadata": {
    "ExecuteTime": {
     "end_time": "2025-03-05T10:13:09.141583Z",
     "start_time": "2025-03-05T10:13:09.136271Z"
    }
   },
   "cell_type": "code",
   "source": "X_train0.shape",
   "id": "54fcacd6a1611d22",
   "outputs": [
    {
     "data": {
      "text/plain": [
       "(15480, 8)"
      ]
     },
     "execution_count": 178,
     "metadata": {},
     "output_type": "execute_result"
    }
   ],
   "execution_count": 178
  },
  {
   "metadata": {
    "ExecuteTime": {
     "end_time": "2025-03-05T10:13:09.193711Z",
     "start_time": "2025-03-05T10:13:09.188404Z"
    }
   },
   "cell_type": "code",
   "source": "X_train1.shape",
   "id": "2651601db22085ba",
   "outputs": [
    {
     "data": {
      "text/plain": [
       "(11610, 8)"
      ]
     },
     "execution_count": 179,
     "metadata": {},
     "output_type": "execute_result"
    }
   ],
   "execution_count": 179
  },
  {
   "metadata": {
    "ExecuteTime": {
     "end_time": "2025-03-05T10:13:09.250993Z",
     "start_time": "2025-03-05T10:13:09.243584Z"
    }
   },
   "cell_type": "code",
   "source": "X_validation.shape",
   "id": "d27717d2895f1136",
   "outputs": [
    {
     "data": {
      "text/plain": [
       "(3870, 8)"
      ]
     },
     "execution_count": 180,
     "metadata": {},
     "output_type": "execute_result"
    }
   ],
   "execution_count": 180
  },
  {
   "metadata": {},
   "cell_type": "markdown",
   "source": [
    "# Normalizing data\n",
    "using \"sklearn.preprocessing.StandardScaler\" function for normalizing data"
   ],
   "id": "d5f81b766123a41e"
  },
  {
   "metadata": {
    "ExecuteTime": {
     "end_time": "2025-03-05T10:13:09.337759Z",
     "start_time": "2025-03-05T10:13:09.328245Z"
    }
   },
   "cell_type": "code",
   "source": [
    "sc = StandardScaler()\n",
    "X_train_s = sc.fit_transform(X_train1)\n",
    "X_validation_s = sc.fit_transform(X_validation)\n",
    "X_test_s = sc.transform(X_test)"
   ],
   "id": "39ad728b48eedb89",
   "outputs": [],
   "execution_count": 181
  },
  {
   "metadata": {},
   "cell_type": "markdown",
   "source": "--------------------------------",
   "id": "fbed35e2f026a826"
  },
  {
   "metadata": {
    "ExecuteTime": {
     "end_time": "2025-03-05T10:13:09.403473Z",
     "start_time": "2025-03-05T10:13:09.398827Z"
    }
   },
   "cell_type": "code",
   "source": "X_train0.shape[1:]",
   "id": "b8169f52f5191661",
   "outputs": [
    {
     "data": {
      "text/plain": [
       "(8,)"
      ]
     },
     "execution_count": 182,
     "metadata": {},
     "output_type": "execute_result"
    }
   ],
   "execution_count": 182
  },
  {
   "metadata": {
    "ExecuteTime": {
     "end_time": "2025-03-05T10:13:09.455734Z",
     "start_time": "2025-03-05T10:13:09.446562Z"
    }
   },
   "cell_type": "code",
   "source": [
    "X_train_s_1, X_train_s_2 = X_train_s[:, :6], X_train_s[:, :-4]\n",
    "X_validation_s_1, X_validation_s_2 = X_validation_s[:, :6], X_validation_s[:, :-4]\n",
    "X_test_s_1, X_test_s_2 = X_test_s[:, :6], X_test_s[:, :-4]"
   ],
   "id": "56ca04c53417051b",
   "outputs": [],
   "execution_count": 183
  },
  {
   "metadata": {
    "ExecuteTime": {
     "end_time": "2025-03-05T10:13:09.533601Z",
     "start_time": "2025-03-05T10:13:09.499258Z"
    }
   },
   "cell_type": "code",
   "source": [
    "input_1 = keras.layers.Input(shape=[6])\n",
    "input_2 = keras.layers.Input(shape=[4])\n",
    "hidden_layer1 = keras.layers.Dense(50, activation=\"relu\")(input_1)\n",
    "hidden_layer2 = keras.layers.Dense(10, activation=\"relu\")(hidden_layer1)\n",
    "concatenate_layer = keras.layers.Concatenate()([input_2, hidden_layer2])\n",
    "output = keras.layers.Dense(1, name=\"output\")(concatenate_layer)\n",
    "helper_output = keras.layers.Dense(1, name=\"helper_output\")(hidden_layer2)\n",
    "model = keras.Model(inputs=[input_1, input_2], outputs=[output, helper_output])"
   ],
   "id": "e0a98274b8584db7",
   "outputs": [],
   "execution_count": 184
  },
  {
   "metadata": {},
   "cell_type": "markdown",
   "source": "# Compile Model",
   "id": "3afb0615e386c186"
  },
  {
   "metadata": {
    "ExecuteTime": {
     "end_time": "2025-03-05T10:13:09.603987Z",
     "start_time": "2025-03-05T10:13:09.595203Z"
    }
   },
   "cell_type": "code",
   "source": [
    "model.compile(loss = [\"mse\", \"mse\"],\n",
    "              loss_weights = [0.8, 0.2],\n",
    "              optimizer = \"sgd\",\n",
    "              metrics = [[\"mean_absolute_error\"], [\"mean_absolute_error\"]])"
   ],
   "id": "14cc03cd63b39d85",
   "outputs": [],
   "execution_count": 185
  },
  {
   "metadata": {},
   "cell_type": "markdown",
   "source": "# Fit Model",
   "id": "cf33f932cd94362a"
  },
  {
   "metadata": {
    "ExecuteTime": {
     "end_time": "2025-03-05T10:13:50.162420Z",
     "start_time": "2025-03-05T10:13:09.611564Z"
    }
   },
   "cell_type": "code",
   "source": "model.fit((X_train_s_1, X_train_s_2),(Y_train1, Y_train1), epochs=30, validation_data = ((X_validation_s_1, X_validation_s_2), (Y_validation, Y_validation)))",
   "id": "45bd8391b47051f7",
   "outputs": [
    {
     "name": "stdout",
     "output_type": "stream",
     "text": [
      "Epoch 1/30\n",
      "\u001B[1m363/363\u001B[0m \u001B[32m━━━━━━━━━━━━━━━━━━━━\u001B[0m\u001B[37m\u001B[0m \u001B[1m2s\u001B[0m 4ms/step - helper_output_loss: 1.5438 - helper_output_mean_absolute_error: 0.8889 - loss: 1.3773 - output_loss: 1.3356 - output_mean_absolute_error: 0.7881 - val_helper_output_loss: 0.6250 - val_helper_output_mean_absolute_error: 0.6005 - val_loss: 0.5796 - val_output_loss: 0.5684 - val_output_mean_absolute_error: 0.5672\n",
      "Epoch 2/30\n",
      "\u001B[1m363/363\u001B[0m \u001B[32m━━━━━━━━━━━━━━━━━━━━\u001B[0m\u001B[37m\u001B[0m \u001B[1m1s\u001B[0m 3ms/step - helper_output_loss: 0.5782 - helper_output_mean_absolute_error: 0.5689 - loss: 0.5367 - output_loss: 0.5263 - output_mean_absolute_error: 0.5362 - val_helper_output_loss: 0.6142 - val_helper_output_mean_absolute_error: 0.5953 - val_loss: 0.5854 - val_output_loss: 0.5784 - val_output_mean_absolute_error: 0.5723\n",
      "Epoch 3/30\n",
      "\u001B[1m363/363\u001B[0m \u001B[32m━━━━━━━━━━━━━━━━━━━━\u001B[0m\u001B[37m\u001B[0m \u001B[1m1s\u001B[0m 3ms/step - helper_output_loss: 0.5503 - helper_output_mean_absolute_error: 0.5515 - loss: 0.5098 - output_loss: 0.4997 - output_mean_absolute_error: 0.5200 - val_helper_output_loss: 0.6393 - val_helper_output_mean_absolute_error: 0.6052 - val_loss: 0.6613 - val_output_loss: 0.6670 - val_output_mean_absolute_error: 0.6132\n",
      "Epoch 4/30\n",
      "\u001B[1m363/363\u001B[0m \u001B[32m━━━━━━━━━━━━━━━━━━━━\u001B[0m\u001B[37m\u001B[0m \u001B[1m1s\u001B[0m 4ms/step - helper_output_loss: 0.5191 - helper_output_mean_absolute_error: 0.5352 - loss: 0.4973 - output_loss: 0.4918 - output_mean_absolute_error: 0.5170 - val_helper_output_loss: 0.6050 - val_helper_output_mean_absolute_error: 0.5824 - val_loss: 0.5949 - val_output_loss: 0.5927 - val_output_mean_absolute_error: 0.5675\n",
      "Epoch 5/30\n",
      "\u001B[1m363/363\u001B[0m \u001B[32m━━━━━━━━━━━━━━━━━━━━\u001B[0m\u001B[37m\u001B[0m \u001B[1m1s\u001B[0m 4ms/step - helper_output_loss: 0.4981 - helper_output_mean_absolute_error: 0.5197 - loss: 0.4732 - output_loss: 0.4669 - output_mean_absolute_error: 0.5000 - val_helper_output_loss: 0.6646 - val_helper_output_mean_absolute_error: 0.6122 - val_loss: 0.7123 - val_output_loss: 0.7244 - val_output_mean_absolute_error: 0.6185\n",
      "Epoch 6/30\n",
      "\u001B[1m363/363\u001B[0m \u001B[32m━━━━━━━━━━━━━━━━━━━━\u001B[0m\u001B[37m\u001B[0m \u001B[1m1s\u001B[0m 3ms/step - helper_output_loss: 0.4798 - helper_output_mean_absolute_error: 0.5051 - loss: 0.4613 - output_loss: 0.4567 - output_mean_absolute_error: 0.4876 - val_helper_output_loss: 0.6346 - val_helper_output_mean_absolute_error: 0.5962 - val_loss: 0.6444 - val_output_loss: 0.6471 - val_output_mean_absolute_error: 0.5889\n",
      "Epoch 7/30\n",
      "\u001B[1m363/363\u001B[0m \u001B[32m━━━━━━━━━━━━━━━━━━━━\u001B[0m\u001B[37m\u001B[0m \u001B[1m1s\u001B[0m 3ms/step - helper_output_loss: 0.4628 - helper_output_mean_absolute_error: 0.5018 - loss: 0.4455 - output_loss: 0.4412 - output_mean_absolute_error: 0.4848 - val_helper_output_loss: 0.6590 - val_helper_output_mean_absolute_error: 0.6060 - val_loss: 0.6996 - val_output_loss: 0.7099 - val_output_mean_absolute_error: 0.6051\n",
      "Epoch 8/30\n",
      "\u001B[1m363/363\u001B[0m \u001B[32m━━━━━━━━━━━━━━━━━━━━\u001B[0m\u001B[37m\u001B[0m \u001B[1m1s\u001B[0m 3ms/step - helper_output_loss: 0.4488 - helper_output_mean_absolute_error: 0.4926 - loss: 0.4333 - output_loss: 0.4295 - output_mean_absolute_error: 0.4764 - val_helper_output_loss: 0.6925 - val_helper_output_mean_absolute_error: 0.6209 - val_loss: 0.7550 - val_output_loss: 0.7707 - val_output_mean_absolute_error: 0.6288\n",
      "Epoch 9/30\n",
      "\u001B[1m363/363\u001B[0m \u001B[32m━━━━━━━━━━━━━━━━━━━━\u001B[0m\u001B[37m\u001B[0m \u001B[1m1s\u001B[0m 3ms/step - helper_output_loss: 0.4504 - helper_output_mean_absolute_error: 0.4930 - loss: 0.4549 - output_loss: 0.4560 - output_mean_absolute_error: 0.4834 - val_helper_output_loss: 0.6767 - val_helper_output_mean_absolute_error: 0.6101 - val_loss: 0.7168 - val_output_loss: 0.7270 - val_output_mean_absolute_error: 0.6163\n",
      "Epoch 10/30\n",
      "\u001B[1m363/363\u001B[0m \u001B[32m━━━━━━━━━━━━━━━━━━━━\u001B[0m\u001B[37m\u001B[0m \u001B[1m1s\u001B[0m 4ms/step - helper_output_loss: 0.4671 - helper_output_mean_absolute_error: 0.5004 - loss: 0.4475 - output_loss: 0.4427 - output_mean_absolute_error: 0.4866 - val_helper_output_loss: 0.6803 - val_helper_output_mean_absolute_error: 0.6096 - val_loss: 0.7287 - val_output_loss: 0.7409 - val_output_mean_absolute_error: 0.6196\n",
      "Epoch 11/30\n",
      "\u001B[1m363/363\u001B[0m \u001B[32m━━━━━━━━━━━━━━━━━━━━\u001B[0m\u001B[37m\u001B[0m \u001B[1m1s\u001B[0m 3ms/step - helper_output_loss: 0.4598 - helper_output_mean_absolute_error: 0.4861 - loss: 0.4415 - output_loss: 0.4369 - output_mean_absolute_error: 0.4730 - val_helper_output_loss: 0.6946 - val_helper_output_mean_absolute_error: 0.6150 - val_loss: 0.7514 - val_output_loss: 0.7657 - val_output_mean_absolute_error: 0.6283\n",
      "Epoch 12/30\n",
      "\u001B[1m363/363\u001B[0m \u001B[32m━━━━━━━━━━━━━━━━━━━━\u001B[0m\u001B[37m\u001B[0m \u001B[1m1s\u001B[0m 3ms/step - helper_output_loss: 0.4343 - helper_output_mean_absolute_error: 0.4798 - loss: 0.4191 - output_loss: 0.4153 - output_mean_absolute_error: 0.4662 - val_helper_output_loss: 0.6961 - val_helper_output_mean_absolute_error: 0.6117 - val_loss: 0.7367 - val_output_loss: 0.7470 - val_output_mean_absolute_error: 0.6161\n",
      "Epoch 13/30\n",
      "\u001B[1m363/363\u001B[0m \u001B[32m━━━━━━━━━━━━━━━━━━━━\u001B[0m\u001B[37m\u001B[0m \u001B[1m1s\u001B[0m 3ms/step - helper_output_loss: 0.4368 - helper_output_mean_absolute_error: 0.4798 - loss: 0.4208 - output_loss: 0.4168 - output_mean_absolute_error: 0.4676 - val_helper_output_loss: 0.6767 - val_helper_output_mean_absolute_error: 0.6039 - val_loss: 0.7251 - val_output_loss: 0.7373 - val_output_mean_absolute_error: 0.6105\n",
      "Epoch 14/30\n",
      "\u001B[1m363/363\u001B[0m \u001B[32m━━━━━━━━━━━━━━━━━━━━\u001B[0m\u001B[37m\u001B[0m \u001B[1m1s\u001B[0m 4ms/step - helper_output_loss: 0.4436 - helper_output_mean_absolute_error: 0.4847 - loss: 0.4300 - output_loss: 0.4266 - output_mean_absolute_error: 0.4736 - val_helper_output_loss: 0.7754 - val_helper_output_mean_absolute_error: 0.6443 - val_loss: 0.8373 - val_output_loss: 0.8528 - val_output_mean_absolute_error: 0.6573\n",
      "Epoch 15/30\n",
      "\u001B[1m363/363\u001B[0m \u001B[32m━━━━━━━━━━━━━━━━━━━━\u001B[0m\u001B[37m\u001B[0m \u001B[1m1s\u001B[0m 3ms/step - helper_output_loss: 0.4520 - helper_output_mean_absolute_error: 0.4831 - loss: 0.4429 - output_loss: 0.4406 - output_mean_absolute_error: 0.4752 - val_helper_output_loss: 0.7303 - val_helper_output_mean_absolute_error: 0.6233 - val_loss: 0.7675 - val_output_loss: 0.7769 - val_output_mean_absolute_error: 0.6267\n",
      "Epoch 16/30\n",
      "\u001B[1m363/363\u001B[0m \u001B[32m━━━━━━━━━━━━━━━━━━━━\u001B[0m\u001B[37m\u001B[0m \u001B[1m1s\u001B[0m 3ms/step - helper_output_loss: 0.4239 - helper_output_mean_absolute_error: 0.4748 - loss: 0.4108 - output_loss: 0.4075 - output_mean_absolute_error: 0.4641 - val_helper_output_loss: 0.7175 - val_helper_output_mean_absolute_error: 0.6153 - val_loss: 0.7538 - val_output_loss: 0.7629 - val_output_mean_absolute_error: 0.6171\n",
      "Epoch 17/30\n",
      "\u001B[1m363/363\u001B[0m \u001B[32m━━━━━━━━━━━━━━━━━━━━\u001B[0m\u001B[37m\u001B[0m \u001B[1m1s\u001B[0m 3ms/step - helper_output_loss: 0.4274 - helper_output_mean_absolute_error: 0.4751 - loss: 0.4138 - output_loss: 0.4104 - output_mean_absolute_error: 0.4647 - val_helper_output_loss: 0.7241 - val_helper_output_mean_absolute_error: 0.6210 - val_loss: 0.7969 - val_output_loss: 0.8152 - val_output_mean_absolute_error: 0.6429\n",
      "Epoch 18/30\n",
      "\u001B[1m363/363\u001B[0m \u001B[32m━━━━━━━━━━━━━━━━━━━━\u001B[0m\u001B[37m\u001B[0m \u001B[1m1s\u001B[0m 3ms/step - helper_output_loss: 0.4316 - helper_output_mean_absolute_error: 0.4795 - loss: 0.4206 - output_loss: 0.4178 - output_mean_absolute_error: 0.4705 - val_helper_output_loss: 0.7423 - val_helper_output_mean_absolute_error: 0.6244 - val_loss: 0.8194 - val_output_loss: 0.8387 - val_output_mean_absolute_error: 0.6444\n",
      "Epoch 19/30\n",
      "\u001B[1m363/363\u001B[0m \u001B[32m━━━━━━━━━━━━━━━━━━━━\u001B[0m\u001B[37m\u001B[0m \u001B[1m1s\u001B[0m 4ms/step - helper_output_loss: 0.4465 - helper_output_mean_absolute_error: 0.4823 - loss: 0.4334 - output_loss: 0.4302 - output_mean_absolute_error: 0.4714 - val_helper_output_loss: 0.6977 - val_helper_output_mean_absolute_error: 0.6050 - val_loss: 0.7487 - val_output_loss: 0.7615 - val_output_mean_absolute_error: 0.6161\n",
      "Epoch 20/30\n",
      "\u001B[1m363/363\u001B[0m \u001B[32m━━━━━━━━━━━━━━━━━━━━\u001B[0m\u001B[37m\u001B[0m \u001B[1m1s\u001B[0m 3ms/step - helper_output_loss: 0.4170 - helper_output_mean_absolute_error: 0.4674 - loss: 0.4143 - output_loss: 0.4136 - output_mean_absolute_error: 0.4614 - val_helper_output_loss: 0.7099 - val_helper_output_mean_absolute_error: 0.6113 - val_loss: 0.7601 - val_output_loss: 0.7727 - val_output_mean_absolute_error: 0.6230\n",
      "Epoch 21/30\n",
      "\u001B[1m363/363\u001B[0m \u001B[32m━━━━━━━━━━━━━━━━━━━━\u001B[0m\u001B[37m\u001B[0m \u001B[1m2s\u001B[0m 4ms/step - helper_output_loss: 0.4309 - helper_output_mean_absolute_error: 0.4754 - loss: 0.4206 - output_loss: 0.4180 - output_mean_absolute_error: 0.4681 - val_helper_output_loss: 0.7199 - val_helper_output_mean_absolute_error: 0.6126 - val_loss: 0.7741 - val_output_loss: 0.7877 - val_output_mean_absolute_error: 0.6233\n",
      "Epoch 22/30\n",
      "\u001B[1m363/363\u001B[0m \u001B[32m━━━━━━━━━━━━━━━━━━━━\u001B[0m\u001B[37m\u001B[0m \u001B[1m2s\u001B[0m 4ms/step - helper_output_loss: 0.4234 - helper_output_mean_absolute_error: 0.4718 - loss: 0.4123 - output_loss: 0.4095 - output_mean_absolute_error: 0.4629 - val_helper_output_loss: 0.7765 - val_helper_output_mean_absolute_error: 0.6387 - val_loss: 0.8487 - val_output_loss: 0.8669 - val_output_mean_absolute_error: 0.6588\n",
      "Epoch 23/30\n",
      "\u001B[1m363/363\u001B[0m \u001B[32m━━━━━━━━━━━━━━━━━━━━\u001B[0m\u001B[37m\u001B[0m \u001B[1m1s\u001B[0m 4ms/step - helper_output_loss: 0.4200 - helper_output_mean_absolute_error: 0.4692 - loss: 0.4098 - output_loss: 0.4072 - output_mean_absolute_error: 0.4596 - val_helper_output_loss: 0.7782 - val_helper_output_mean_absolute_error: 0.6390 - val_loss: 0.8599 - val_output_loss: 0.8804 - val_output_mean_absolute_error: 0.6633\n",
      "Epoch 24/30\n",
      "\u001B[1m363/363\u001B[0m \u001B[32m━━━━━━━━━━━━━━━━━━━━\u001B[0m\u001B[37m\u001B[0m \u001B[1m1s\u001B[0m 4ms/step - helper_output_loss: 0.4082 - helper_output_mean_absolute_error: 0.4641 - loss: 0.3992 - output_loss: 0.3969 - output_mean_absolute_error: 0.4561 - val_helper_output_loss: 0.7322 - val_helper_output_mean_absolute_error: 0.6163 - val_loss: 0.7831 - val_output_loss: 0.7959 - val_output_mean_absolute_error: 0.6273\n",
      "Epoch 25/30\n",
      "\u001B[1m363/363\u001B[0m \u001B[32m━━━━━━━━━━━━━━━━━━━━\u001B[0m\u001B[37m\u001B[0m \u001B[1m1s\u001B[0m 4ms/step - helper_output_loss: 0.4113 - helper_output_mean_absolute_error: 0.4629 - loss: 0.4015 - output_loss: 0.3991 - output_mean_absolute_error: 0.4549 - val_helper_output_loss: 0.7588 - val_helper_output_mean_absolute_error: 0.6277 - val_loss: 0.7994 - val_output_loss: 0.8097 - val_output_mean_absolute_error: 0.6333\n",
      "Epoch 26/30\n",
      "\u001B[1m363/363\u001B[0m \u001B[32m━━━━━━━━━━━━━━━━━━━━\u001B[0m\u001B[37m\u001B[0m \u001B[1m1s\u001B[0m 4ms/step - helper_output_loss: 0.4212 - helper_output_mean_absolute_error: 0.4683 - loss: 0.4124 - output_loss: 0.4102 - output_mean_absolute_error: 0.4607 - val_helper_output_loss: 0.8005 - val_helper_output_mean_absolute_error: 0.6458 - val_loss: 0.8825 - val_output_loss: 0.9031 - val_output_mean_absolute_error: 0.6697\n",
      "Epoch 27/30\n",
      "\u001B[1m363/363\u001B[0m \u001B[32m━━━━━━━━━━━━━━━━━━━━\u001B[0m\u001B[37m\u001B[0m \u001B[1m1s\u001B[0m 3ms/step - helper_output_loss: 0.4134 - helper_output_mean_absolute_error: 0.4653 - loss: 0.4052 - output_loss: 0.4031 - output_mean_absolute_error: 0.4591 - val_helper_output_loss: 0.7248 - val_helper_output_mean_absolute_error: 0.6108 - val_loss: 0.7634 - val_output_loss: 0.7732 - val_output_mean_absolute_error: 0.6166\n",
      "Epoch 28/30\n",
      "\u001B[1m363/363\u001B[0m \u001B[32m━━━━━━━━━━━━━━━━━━━━\u001B[0m\u001B[37m\u001B[0m \u001B[1m1s\u001B[0m 3ms/step - helper_output_loss: 0.4268 - helper_output_mean_absolute_error: 0.4697 - loss: 0.4155 - output_loss: 0.4127 - output_mean_absolute_error: 0.4619 - val_helper_output_loss: 0.7679 - val_helper_output_mean_absolute_error: 0.6307 - val_loss: 0.8271 - val_output_loss: 0.8420 - val_output_mean_absolute_error: 0.6477\n",
      "Epoch 29/30\n",
      "\u001B[1m363/363\u001B[0m \u001B[32m━━━━━━━━━━━━━━━━━━━━\u001B[0m\u001B[37m\u001B[0m \u001B[1m1s\u001B[0m 3ms/step - helper_output_loss: 0.4278 - helper_output_mean_absolute_error: 0.4702 - loss: 0.4197 - output_loss: 0.4177 - output_mean_absolute_error: 0.4638 - val_helper_output_loss: 0.7804 - val_helper_output_mean_absolute_error: 0.6354 - val_loss: 0.8479 - val_output_loss: 0.8648 - val_output_mean_absolute_error: 0.6539\n",
      "Epoch 30/30\n",
      "\u001B[1m363/363\u001B[0m \u001B[32m━━━━━━━━━━━━━━━━━━━━\u001B[0m\u001B[37m\u001B[0m \u001B[1m1s\u001B[0m 3ms/step - helper_output_loss: 0.4181 - helper_output_mean_absolute_error: 0.4688 - loss: 0.4073 - output_loss: 0.4046 - output_mean_absolute_error: 0.4605 - val_helper_output_loss: 0.7640 - val_helper_output_mean_absolute_error: 0.6303 - val_loss: 0.8302 - val_output_loss: 0.8468 - val_output_mean_absolute_error: 0.6486\n"
     ]
    },
    {
     "data": {
      "text/plain": [
       "<keras.src.callbacks.history.History at 0x7c5c00270c10>"
      ]
     },
     "execution_count": 186,
     "metadata": {},
     "output_type": "execute_result"
    }
   ],
   "execution_count": 186
  }
 ],
 "metadata": {
  "kernelspec": {
   "name": "python3",
   "language": "python",
   "display_name": "Python 3 (ipykernel)"
  }
 },
 "nbformat": 5,
 "nbformat_minor": 9
}
