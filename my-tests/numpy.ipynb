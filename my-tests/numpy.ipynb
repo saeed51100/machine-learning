{
 "cells": [
  {
   "cell_type": "markdown",
   "id": "92b3d3d8-e4e9-49f8-88d0-8bb06e34f786",
   "metadata": {},
   "source": [
    "# numpy"
   ]
  },
  {
   "cell_type": "code",
   "execution_count": 2,
   "id": "49055ee4-b5de-465d-abd4-eecee3ad9426",
   "metadata": {},
   "outputs": [],
   "source": [
    "import numpy as np"
   ]
  },
  {
   "cell_type": "markdown",
   "id": "12f6b680-ff07-4db9-b04c-e08a5d3b692b",
   "metadata": {},
   "source": [
    "## lets do some basic stuff"
   ]
  },
  {
   "cell_type": "code",
   "execution_count": 7,
   "id": "d81e3332-92ef-4c0d-b8e7-724bb6531431",
   "metadata": {},
   "outputs": [
    {
     "data": {
      "text/plain": [
       "array(5)"
      ]
     },
     "execution_count": 7,
     "metadata": {},
     "output_type": "execute_result"
    }
   ],
   "source": [
    "a = np.array(5)\n",
    "a"
   ]
  },
  {
   "cell_type": "code",
   "execution_count": 12,
   "id": "129afa59-bc79-4220-818c-06db3b775a93",
   "metadata": {},
   "outputs": [
    {
     "data": {
      "text/plain": [
       "array([ 0,  1,  2,  3,  4,  5,  6,  7,  8,  9, 10, 11, 12, 13, 14])"
      ]
     },
     "execution_count": 12,
     "metadata": {},
     "output_type": "execute_result"
    }
   ],
   "source": [
    "a = np.arange(15)\n",
    "a"
   ]
  },
  {
   "cell_type": "code",
   "execution_count": 16,
   "id": "e8bc1723-dae8-4d31-8b23-48777f552e48",
   "metadata": {},
   "outputs": [],
   "source": [
    "a = a.reshape(3,5)"
   ]
  },
  {
   "cell_type": "code",
   "execution_count": 18,
   "id": "0ce9e6d8-db76-4ae8-a961-0fde18a599f7",
   "metadata": {},
   "outputs": [
    {
     "name": "stdout",
     "output_type": "stream",
     "text": [
      "(3, 5)\n",
      "2\n",
      "15\n",
      "int64\n"
     ]
    }
   ],
   "source": [
    "print (a.shape)\n",
    "print (a.ndim)\n",
    "print (a.size)\n",
    "print (a.dtype)"
   ]
  },
  {
   "cell_type": "code",
   "execution_count": 20,
   "id": "ae52c360-d44b-4bb9-9857-e561e46b7c19",
   "metadata": {},
   "outputs": [
    {
     "data": {
      "text/plain": [
       "array([[1., 1., 1., 1., 1.],\n",
       "       [1., 1., 1., 1., 1.],\n",
       "       [1., 1., 1., 1., 1.],\n",
       "       [1., 1., 1., 1., 1.]])"
      ]
     },
     "execution_count": 20,
     "metadata": {},
     "output_type": "execute_result"
    }
   ],
   "source": [
    "np.ones((4,5))"
   ]
  },
  {
   "cell_type": "markdown",
   "id": "8c3d51b8-3a74-4089-963e-398a3e9155ce",
   "metadata": {},
   "source": [
    "## some poerations"
   ]
  },
  {
   "cell_type": "code",
   "execution_count": 22,
   "id": "a2d4d04a-ab03-4f7d-9f09-41317954afbb",
   "metadata": {},
   "outputs": [],
   "source": [
    "a = np.array([20,30,40,50])\n",
    "b = np.array(4)"
   ]
  },
  {
   "cell_type": "code",
   "execution_count": 23,
   "id": "1cc64840-dc5a-443c-9980-f911fd120f73",
   "metadata": {},
   "outputs": [
    {
     "data": {
      "text/plain": [
       "array([20, 30, 40, 50])"
      ]
     },
     "execution_count": 23,
     "metadata": {},
     "output_type": "execute_result"
    }
   ],
   "source": [
    "a"
   ]
  },
  {
   "cell_type": "code",
   "execution_count": 24,
   "id": "1d80b50a-a691-406b-836a-05c96ab337ac",
   "metadata": {},
   "outputs": [
    {
     "data": {
      "text/plain": [
       "array(4)"
      ]
     },
     "execution_count": 24,
     "metadata": {},
     "output_type": "execute_result"
    }
   ],
   "source": [
    "b"
   ]
  },
  {
   "cell_type": "code",
   "execution_count": 27,
   "id": "9f417f24-4d00-48e1-9399-6b555a03266b",
   "metadata": {},
   "outputs": [],
   "source": [
    "c = a + b"
   ]
  },
  {
   "cell_type": "code",
   "execution_count": 30,
   "id": "4ce7b702-930e-4007-a22c-d70d525781d0",
   "metadata": {},
   "outputs": [
    {
     "data": {
      "text/plain": [
       "array([24, 34, 44, 54])"
      ]
     },
     "execution_count": 30,
     "metadata": {},
     "output_type": "execute_result"
    }
   ],
   "source": [
    "c"
   ]
  },
  {
   "cell_type": "code",
   "execution_count": 29,
   "id": "f0c5f46a-323d-45c8-9460-9da53fe525f0",
   "metadata": {},
   "outputs": [
    {
     "data": {
      "text/plain": [
       "array([False, False, False,  True])"
      ]
     },
     "execution_count": 29,
     "metadata": {},
     "output_type": "execute_result"
    }
   ],
   "source": [
    "c > 50"
   ]
  },
  {
   "cell_type": "code",
   "execution_count": 31,
   "id": "e149538b-1c9e-47da-bd29-8318fe4af0f5",
   "metadata": {},
   "outputs": [
    {
     "data": {
      "text/plain": [
       "array([-0.90557836,  0.52908269,  0.01770193, -0.55878905])"
      ]
     },
     "execution_count": 31,
     "metadata": {},
     "output_type": "execute_result"
    }
   ],
   "source": [
    "np.sin(c)"
   ]
  }
 ],
 "metadata": {
  "kernelspec": {
   "display_name": "Python 3 (ipykernel)",
   "language": "python",
   "name": "python3"
  },
  "language_info": {
   "codemirror_mode": {
    "name": "ipython",
    "version": 3
   },
   "file_extension": ".py",
   "mimetype": "text/x-python",
   "name": "python",
   "nbconvert_exporter": "python",
   "pygments_lexer": "ipython3",
   "version": "3.13.0"
  }
 },
 "nbformat": 4,
 "nbformat_minor": 5
}
