{
 "cells": [
  {
   "cell_type": "markdown",
   "id": "24c79fe6-536d-46bd-bc54-4d5e85c7754a",
   "metadata": {},
   "source": [
    "# My project"
   ]
  },
  {
   "cell_type": "code",
   "execution_count": 3,
   "id": "03bb163f-ab80-4b81-97ed-480444cd94b3",
   "metadata": {},
   "outputs": [],
   "source": [
    "import math"
   ]
  },
  {
   "cell_type": "code",
   "execution_count": null,
   "id": "f463af76-7fb9-44b6-8851-3a4e7d95d3f7",
   "metadata": {},
   "outputs": [],
   "source": []
  },
  {
   "cell_type": "code",
   "execution_count": 1,
   "id": "3dca03b4-2f0a-4b3a-8f91-22cf99a651e7",
   "metadata": {},
   "outputs": [],
   "source": [
    "a = 'jadi'\n",
    "b = 3.14"
   ]
  },
  {
   "cell_type": "code",
   "execution_count": 2,
   "id": "593db340-d8dc-40e8-a242-15e2fccb5835",
   "metadata": {},
   "outputs": [
    {
     "name": "stdout",
     "output_type": "stream",
     "text": [
      "3.14\n"
     ]
    }
   ],
   "source": [
    "print (b)"
   ]
  },
  {
   "cell_type": "markdown",
   "id": "3d99d27a-0940-42b4-a3b1-b288a3946ce7",
   "metadata": {},
   "source": [
    "## lets compute\n",
    "here we will computer the result based on the formula\n",
    "- point1\n",
    "- point2"
   ]
  },
  {
   "cell_type": "code",
   "execution_count": null,
   "id": "982644a1-4d0b-4cb2-a436-deecf9282a61",
   "metadata": {},
   "outputs": [],
   "source": []
  }
 ],
 "metadata": {
  "kernelspec": {
   "display_name": "Python 3",
   "language": "python",
   "name": "python3"
  },
  "language_info": {
   "codemirror_mode": {
    "name": "ipython",
    "version": 3
   },
   "file_extension": ".py",
   "mimetype": "text/x-python",
   "name": "python",
   "nbconvert_exporter": "python",
   "pygments_lexer": "ipython3",
   "version": "3.13.0"
  }
 },
 "nbformat": 4,
 "nbformat_minor": 5
}
