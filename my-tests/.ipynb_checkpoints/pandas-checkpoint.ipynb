{
 "cells": [
  {
   "cell_type": "markdown",
   "id": "0c7c0f15-02e1-4a3b-8de4-5a7008291737",
   "metadata": {},
   "source": [
    "# Pandas"
   ]
  },
  {
   "cell_type": "code",
   "execution_count": 4,
   "id": "55769c62-550d-4b3e-abbb-46151cda06b6",
   "metadata": {},
   "outputs": [],
   "source": [
    "import pandas as pd\n",
    "import numpy as np"
   ]
  },
  {
   "cell_type": "code",
   "execution_count": 5,
   "id": "79efefdc-adf1-43aa-923f-10b60d59e93a",
   "metadata": {},
   "outputs": [
    {
     "data": {
      "text/plain": [
       "0       1\n",
       "1       2\n",
       "2       3\n",
       "3    jadi\n",
       "4       0\n",
       "5     NaN\n",
       "6      -1\n",
       "dtype: object"
      ]
     },
     "execution_count": 5,
     "metadata": {},
     "output_type": "execute_result"
    }
   ],
   "source": [
    "pd.Series([1, 2, 3, 'jadi', 0, np.nan, -1])"
   ]
  },
  {
   "cell_type": "code",
   "execution_count": 6,
   "id": "d796f4af-a256-421e-95da-d8275eebfa02",
   "metadata": {},
   "outputs": [
    {
     "data": {
      "text/plain": [
       "DatetimeIndex(['2021-01-01', '2021-01-02', '2021-01-03', '2021-01-04',\n",
       "               '2021-01-05', '2021-01-06'],\n",
       "              dtype='datetime64[ns]', freq='D')"
      ]
     },
     "execution_count": 6,
     "metadata": {},
     "output_type": "execute_result"
    }
   ],
   "source": [
    "dates = pd.date_range(\"20210101\", periods=6)\n",
    "dates"
   ]
  },
  {
   "cell_type": "code",
   "execution_count": 10,
   "id": "7eddbae0-eec3-48a2-a51a-6aaf7c8f3363",
   "metadata": {},
   "outputs": [
    {
     "data": {
      "text/html": [
       "<div>\n",
       "<style scoped>\n",
       "    .dataframe tbody tr th:only-of-type {\n",
       "        vertical-align: middle;\n",
       "    }\n",
       "\n",
       "    .dataframe tbody tr th {\n",
       "        vertical-align: top;\n",
       "    }\n",
       "\n",
       "    .dataframe thead th {\n",
       "        text-align: right;\n",
       "    }\n",
       "</style>\n",
       "<table border=\"1\" class=\"dataframe\">\n",
       "  <thead>\n",
       "    <tr style=\"text-align: right;\">\n",
       "      <th></th>\n",
       "      <th>A</th>\n",
       "      <th>B</th>\n",
       "      <th>C</th>\n",
       "      <th>D</th>\n",
       "    </tr>\n",
       "  </thead>\n",
       "  <tbody>\n",
       "    <tr>\n",
       "      <th>2021-01-01</th>\n",
       "      <td>0.263762</td>\n",
       "      <td>0.576488</td>\n",
       "      <td>0.582766</td>\n",
       "      <td>0.358793</td>\n",
       "    </tr>\n",
       "    <tr>\n",
       "      <th>2021-01-02</th>\n",
       "      <td>0.580341</td>\n",
       "      <td>0.357697</td>\n",
       "      <td>0.446655</td>\n",
       "      <td>0.056624</td>\n",
       "    </tr>\n",
       "    <tr>\n",
       "      <th>2021-01-03</th>\n",
       "      <td>0.592444</td>\n",
       "      <td>0.936686</td>\n",
       "      <td>0.641085</td>\n",
       "      <td>0.352337</td>\n",
       "    </tr>\n",
       "    <tr>\n",
       "      <th>2021-01-04</th>\n",
       "      <td>0.209888</td>\n",
       "      <td>0.769959</td>\n",
       "      <td>0.267024</td>\n",
       "      <td>0.959680</td>\n",
       "    </tr>\n",
       "    <tr>\n",
       "      <th>2021-01-05</th>\n",
       "      <td>0.982768</td>\n",
       "      <td>0.702739</td>\n",
       "      <td>0.235398</td>\n",
       "      <td>0.895812</td>\n",
       "    </tr>\n",
       "    <tr>\n",
       "      <th>2021-01-06</th>\n",
       "      <td>0.478685</td>\n",
       "      <td>0.487875</td>\n",
       "      <td>0.130898</td>\n",
       "      <td>0.175452</td>\n",
       "    </tr>\n",
       "  </tbody>\n",
       "</table>\n",
       "</div>"
      ],
      "text/plain": [
       "                   A         B         C         D\n",
       "2021-01-01  0.263762  0.576488  0.582766  0.358793\n",
       "2021-01-02  0.580341  0.357697  0.446655  0.056624\n",
       "2021-01-03  0.592444  0.936686  0.641085  0.352337\n",
       "2021-01-04  0.209888  0.769959  0.267024  0.959680\n",
       "2021-01-05  0.982768  0.702739  0.235398  0.895812\n",
       "2021-01-06  0.478685  0.487875  0.130898  0.175452"
      ]
     },
     "execution_count": 10,
     "metadata": {},
     "output_type": "execute_result"
    }
   ],
   "source": [
    "df = pd.DataFrame(np.random.rand(6, 4), index=dates, columns=[\"A\", \"B\", \"C\", \"D\"])\n",
    "df"
   ]
  },
  {
   "cell_type": "code",
   "execution_count": 12,
   "id": "58841c68-872f-4f16-9df2-cff1c1d56f20",
   "metadata": {},
   "outputs": [
    {
     "data": {
      "text/plain": [
       "A    float64\n",
       "B    float64\n",
       "C    float64\n",
       "D    float64\n",
       "dtype: object"
      ]
     },
     "execution_count": 12,
     "metadata": {},
     "output_type": "execute_result"
    }
   ],
   "source": [
    "df.dtypes"
   ]
  },
  {
   "cell_type": "code",
   "execution_count": 18,
   "id": "4e638951-8106-4c5a-83a3-cc6419e00fd1",
   "metadata": {},
   "outputs": [
    {
     "data": {
      "text/plain": [
       "2021-01-01    0.263762\n",
       "2021-01-02    0.580341\n",
       "2021-01-03    0.592444\n",
       "2021-01-04    0.209888\n",
       "2021-01-05    0.982768\n",
       "2021-01-06    0.478685\n",
       "Freq: D, Name: A, dtype: float64"
      ]
     },
     "execution_count": 18,
     "metadata": {},
     "output_type": "execute_result"
    }
   ],
   "source": [
    "df[\"A\"]"
   ]
  },
  {
   "cell_type": "code",
   "execution_count": 20,
   "id": "3f7ac798-3765-4c6a-88b1-5ce1e806786b",
   "metadata": {},
   "outputs": [
    {
     "data": {
      "text/html": [
       "<div>\n",
       "<style scoped>\n",
       "    .dataframe tbody tr th:only-of-type {\n",
       "        vertical-align: middle;\n",
       "    }\n",
       "\n",
       "    .dataframe tbody tr th {\n",
       "        vertical-align: top;\n",
       "    }\n",
       "\n",
       "    .dataframe thead th {\n",
       "        text-align: right;\n",
       "    }\n",
       "</style>\n",
       "<table border=\"1\" class=\"dataframe\">\n",
       "  <thead>\n",
       "    <tr style=\"text-align: right;\">\n",
       "      <th></th>\n",
       "      <th>A</th>\n",
       "      <th>B</th>\n",
       "      <th>C</th>\n",
       "      <th>D</th>\n",
       "    </tr>\n",
       "  </thead>\n",
       "  <tbody>\n",
       "    <tr>\n",
       "      <th>2021-01-01</th>\n",
       "      <td>0.263762</td>\n",
       "      <td>0.576488</td>\n",
       "      <td>0.582766</td>\n",
       "      <td>0.358793</td>\n",
       "    </tr>\n",
       "    <tr>\n",
       "      <th>2021-01-02</th>\n",
       "      <td>0.580341</td>\n",
       "      <td>0.357697</td>\n",
       "      <td>0.446655</td>\n",
       "      <td>0.056624</td>\n",
       "    </tr>\n",
       "  </tbody>\n",
       "</table>\n",
       "</div>"
      ],
      "text/plain": [
       "                   A         B         C         D\n",
       "2021-01-01  0.263762  0.576488  0.582766  0.358793\n",
       "2021-01-02  0.580341  0.357697  0.446655  0.056624"
      ]
     },
     "execution_count": 20,
     "metadata": {},
     "output_type": "execute_result"
    }
   ],
   "source": [
    "df.head(2)"
   ]
  },
  {
   "cell_type": "code",
   "execution_count": 23,
   "id": "4abd90ea-df3b-4032-83eb-c5c2f832479f",
   "metadata": {},
   "outputs": [
    {
     "data": {
      "text/html": [
       "<div>\n",
       "<style scoped>\n",
       "    .dataframe tbody tr th:only-of-type {\n",
       "        vertical-align: middle;\n",
       "    }\n",
       "\n",
       "    .dataframe tbody tr th {\n",
       "        vertical-align: top;\n",
       "    }\n",
       "\n",
       "    .dataframe thead th {\n",
       "        text-align: right;\n",
       "    }\n",
       "</style>\n",
       "<table border=\"1\" class=\"dataframe\">\n",
       "  <thead>\n",
       "    <tr style=\"text-align: right;\">\n",
       "      <th></th>\n",
       "      <th>A</th>\n",
       "      <th>B</th>\n",
       "      <th>C</th>\n",
       "      <th>D</th>\n",
       "    </tr>\n",
       "  </thead>\n",
       "  <tbody>\n",
       "    <tr>\n",
       "      <th>2021-01-04</th>\n",
       "      <td>0.209888</td>\n",
       "      <td>0.769959</td>\n",
       "      <td>0.267024</td>\n",
       "      <td>0.959680</td>\n",
       "    </tr>\n",
       "    <tr>\n",
       "      <th>2021-01-05</th>\n",
       "      <td>0.982768</td>\n",
       "      <td>0.702739</td>\n",
       "      <td>0.235398</td>\n",
       "      <td>0.895812</td>\n",
       "    </tr>\n",
       "    <tr>\n",
       "      <th>2021-01-06</th>\n",
       "      <td>0.478685</td>\n",
       "      <td>0.487875</td>\n",
       "      <td>0.130898</td>\n",
       "      <td>0.175452</td>\n",
       "    </tr>\n",
       "  </tbody>\n",
       "</table>\n",
       "</div>"
      ],
      "text/plain": [
       "                   A         B         C         D\n",
       "2021-01-04  0.209888  0.769959  0.267024  0.959680\n",
       "2021-01-05  0.982768  0.702739  0.235398  0.895812\n",
       "2021-01-06  0.478685  0.487875  0.130898  0.175452"
      ]
     },
     "execution_count": 23,
     "metadata": {},
     "output_type": "execute_result"
    }
   ],
   "source": [
    "df.tail(3)"
   ]
  },
  {
   "cell_type": "code",
   "execution_count": 25,
   "id": "5b3764a7-f22c-4b4d-bc54-156b5b7dd19c",
   "metadata": {},
   "outputs": [
    {
     "data": {
      "text/html": [
       "<div>\n",
       "<style scoped>\n",
       "    .dataframe tbody tr th:only-of-type {\n",
       "        vertical-align: middle;\n",
       "    }\n",
       "\n",
       "    .dataframe tbody tr th {\n",
       "        vertical-align: top;\n",
       "    }\n",
       "\n",
       "    .dataframe thead th {\n",
       "        text-align: right;\n",
       "    }\n",
       "</style>\n",
       "<table border=\"1\" class=\"dataframe\">\n",
       "  <thead>\n",
       "    <tr style=\"text-align: right;\">\n",
       "      <th></th>\n",
       "      <th>A</th>\n",
       "      <th>B</th>\n",
       "      <th>C</th>\n",
       "      <th>D</th>\n",
       "    </tr>\n",
       "  </thead>\n",
       "  <tbody>\n",
       "    <tr>\n",
       "      <th>count</th>\n",
       "      <td>6.000000</td>\n",
       "      <td>6.000000</td>\n",
       "      <td>6.000000</td>\n",
       "      <td>6.000000</td>\n",
       "    </tr>\n",
       "    <tr>\n",
       "      <th>mean</th>\n",
       "      <td>0.517981</td>\n",
       "      <td>0.638574</td>\n",
       "      <td>0.383971</td>\n",
       "      <td>0.466450</td>\n",
       "    </tr>\n",
       "    <tr>\n",
       "      <th>std</th>\n",
       "      <td>0.278048</td>\n",
       "      <td>0.207705</td>\n",
       "      <td>0.204623</td>\n",
       "      <td>0.375467</td>\n",
       "    </tr>\n",
       "    <tr>\n",
       "      <th>min</th>\n",
       "      <td>0.209888</td>\n",
       "      <td>0.357697</td>\n",
       "      <td>0.130898</td>\n",
       "      <td>0.056624</td>\n",
       "    </tr>\n",
       "    <tr>\n",
       "      <th>25%</th>\n",
       "      <td>0.317493</td>\n",
       "      <td>0.510029</td>\n",
       "      <td>0.243305</td>\n",
       "      <td>0.219673</td>\n",
       "    </tr>\n",
       "    <tr>\n",
       "      <th>50%</th>\n",
       "      <td>0.529513</td>\n",
       "      <td>0.639614</td>\n",
       "      <td>0.356840</td>\n",
       "      <td>0.355565</td>\n",
       "    </tr>\n",
       "    <tr>\n",
       "      <th>75%</th>\n",
       "      <td>0.589418</td>\n",
       "      <td>0.753154</td>\n",
       "      <td>0.548739</td>\n",
       "      <td>0.761558</td>\n",
       "    </tr>\n",
       "    <tr>\n",
       "      <th>max</th>\n",
       "      <td>0.982768</td>\n",
       "      <td>0.936686</td>\n",
       "      <td>0.641085</td>\n",
       "      <td>0.959680</td>\n",
       "    </tr>\n",
       "  </tbody>\n",
       "</table>\n",
       "</div>"
      ],
      "text/plain": [
       "              A         B         C         D\n",
       "count  6.000000  6.000000  6.000000  6.000000\n",
       "mean   0.517981  0.638574  0.383971  0.466450\n",
       "std    0.278048  0.207705  0.204623  0.375467\n",
       "min    0.209888  0.357697  0.130898  0.056624\n",
       "25%    0.317493  0.510029  0.243305  0.219673\n",
       "50%    0.529513  0.639614  0.356840  0.355565\n",
       "75%    0.589418  0.753154  0.548739  0.761558\n",
       "max    0.982768  0.936686  0.641085  0.959680"
      ]
     },
     "execution_count": 25,
     "metadata": {},
     "output_type": "execute_result"
    }
   ],
   "source": [
    "df.describe()"
   ]
  },
  {
   "cell_type": "code",
   "execution_count": 26,
   "id": "9b6ebf1a-5c86-4789-a8a7-4bb8611d02d9",
   "metadata": {},
   "outputs": [
    {
     "data": {
      "text/html": [
       "<div>\n",
       "<style scoped>\n",
       "    .dataframe tbody tr th:only-of-type {\n",
       "        vertical-align: middle;\n",
       "    }\n",
       "\n",
       "    .dataframe tbody tr th {\n",
       "        vertical-align: top;\n",
       "    }\n",
       "\n",
       "    .dataframe thead th {\n",
       "        text-align: right;\n",
       "    }\n",
       "</style>\n",
       "<table border=\"1\" class=\"dataframe\">\n",
       "  <thead>\n",
       "    <tr style=\"text-align: right;\">\n",
       "      <th></th>\n",
       "      <th>A</th>\n",
       "      <th>B</th>\n",
       "      <th>C</th>\n",
       "      <th>D</th>\n",
       "    </tr>\n",
       "  </thead>\n",
       "  <tbody>\n",
       "    <tr>\n",
       "      <th>2021-01-01</th>\n",
       "      <td>0.263762</td>\n",
       "      <td>0.576488</td>\n",
       "      <td>0.582766</td>\n",
       "      <td>0.358793</td>\n",
       "    </tr>\n",
       "    <tr>\n",
       "      <th>2021-01-02</th>\n",
       "      <td>0.580341</td>\n",
       "      <td>0.357697</td>\n",
       "      <td>0.446655</td>\n",
       "      <td>0.056624</td>\n",
       "    </tr>\n",
       "    <tr>\n",
       "      <th>2021-01-03</th>\n",
       "      <td>0.592444</td>\n",
       "      <td>0.936686</td>\n",
       "      <td>0.641085</td>\n",
       "      <td>0.352337</td>\n",
       "    </tr>\n",
       "    <tr>\n",
       "      <th>2021-01-04</th>\n",
       "      <td>0.209888</td>\n",
       "      <td>0.769959</td>\n",
       "      <td>0.267024</td>\n",
       "      <td>0.959680</td>\n",
       "    </tr>\n",
       "    <tr>\n",
       "      <th>2021-01-05</th>\n",
       "      <td>0.982768</td>\n",
       "      <td>0.702739</td>\n",
       "      <td>0.235398</td>\n",
       "      <td>0.895812</td>\n",
       "    </tr>\n",
       "    <tr>\n",
       "      <th>2021-01-06</th>\n",
       "      <td>0.478685</td>\n",
       "      <td>0.487875</td>\n",
       "      <td>0.130898</td>\n",
       "      <td>0.175452</td>\n",
       "    </tr>\n",
       "  </tbody>\n",
       "</table>\n",
       "</div>"
      ],
      "text/plain": [
       "                   A         B         C         D\n",
       "2021-01-01  0.263762  0.576488  0.582766  0.358793\n",
       "2021-01-02  0.580341  0.357697  0.446655  0.056624\n",
       "2021-01-03  0.592444  0.936686  0.641085  0.352337\n",
       "2021-01-04  0.209888  0.769959  0.267024  0.959680\n",
       "2021-01-05  0.982768  0.702739  0.235398  0.895812\n",
       "2021-01-06  0.478685  0.487875  0.130898  0.175452"
      ]
     },
     "execution_count": 26,
     "metadata": {},
     "output_type": "execute_result"
    }
   ],
   "source": [
    "df"
   ]
  },
  {
   "cell_type": "code",
   "execution_count": 27,
   "id": "df228c63-4919-4a7e-bfe5-070aea8503a5",
   "metadata": {},
   "outputs": [
    {
     "data": {
      "text/plain": [
       "A    0.517981\n",
       "B    0.638574\n",
       "C    0.383971\n",
       "D    0.466450\n",
       "dtype: float64"
      ]
     },
     "execution_count": 27,
     "metadata": {},
     "output_type": "execute_result"
    }
   ],
   "source": [
    "df.mean()"
   ]
  },
  {
   "cell_type": "code",
   "execution_count": 29,
   "id": "bfa85ef3-cb57-4aa8-90a5-3b3a6383d9a5",
   "metadata": {},
   "outputs": [
    {
     "data": {
      "text/plain": [
       "np.float64(0.5179813054601132)"
      ]
     },
     "execution_count": 29,
     "metadata": {},
     "output_type": "execute_result"
    }
   ],
   "source": [
    "df[\"A\"].mean()"
   ]
  },
  {
   "cell_type": "code",
   "execution_count": 31,
   "id": "64e9bb91-5544-4ae1-a141-aea5263233ff",
   "metadata": {},
   "outputs": [
    {
     "data": {
      "text/html": [
       "<div>\n",
       "<style scoped>\n",
       "    .dataframe tbody tr th:only-of-type {\n",
       "        vertical-align: middle;\n",
       "    }\n",
       "\n",
       "    .dataframe tbody tr th {\n",
       "        vertical-align: top;\n",
       "    }\n",
       "\n",
       "    .dataframe thead th {\n",
       "        text-align: right;\n",
       "    }\n",
       "</style>\n",
       "<table border=\"1\" class=\"dataframe\">\n",
       "  <thead>\n",
       "    <tr style=\"text-align: right;\">\n",
       "      <th></th>\n",
       "      <th>A</th>\n",
       "      <th>B</th>\n",
       "      <th>C</th>\n",
       "      <th>D</th>\n",
       "    </tr>\n",
       "  </thead>\n",
       "  <tbody>\n",
       "    <tr>\n",
       "      <th>2021-01-01</th>\n",
       "      <td>0.263762</td>\n",
       "      <td>0.576488</td>\n",
       "      <td>0.582766</td>\n",
       "      <td>0.358793</td>\n",
       "    </tr>\n",
       "    <tr>\n",
       "      <th>2021-01-02</th>\n",
       "      <td>0.580341</td>\n",
       "      <td>0.357697</td>\n",
       "      <td>0.446655</td>\n",
       "      <td>0.056624</td>\n",
       "    </tr>\n",
       "  </tbody>\n",
       "</table>\n",
       "</div>"
      ],
      "text/plain": [
       "                   A         B         C         D\n",
       "2021-01-01  0.263762  0.576488  0.582766  0.358793\n",
       "2021-01-02  0.580341  0.357697  0.446655  0.056624"
      ]
     },
     "execution_count": 31,
     "metadata": {},
     "output_type": "execute_result"
    }
   ],
   "source": [
    "df[0:2]"
   ]
  },
  {
   "cell_type": "code",
   "execution_count": 35,
   "id": "4791a57b-1140-4f10-8e9e-0a7993c1eeb9",
   "metadata": {},
   "outputs": [
    {
     "data": {
      "text/html": [
       "<div>\n",
       "<style scoped>\n",
       "    .dataframe tbody tr th:only-of-type {\n",
       "        vertical-align: middle;\n",
       "    }\n",
       "\n",
       "    .dataframe tbody tr th {\n",
       "        vertical-align: top;\n",
       "    }\n",
       "\n",
       "    .dataframe thead th {\n",
       "        text-align: right;\n",
       "    }\n",
       "</style>\n",
       "<table border=\"1\" class=\"dataframe\">\n",
       "  <thead>\n",
       "    <tr style=\"text-align: right;\">\n",
       "      <th></th>\n",
       "      <th>A</th>\n",
       "      <th>B</th>\n",
       "      <th>C</th>\n",
       "      <th>D</th>\n",
       "    </tr>\n",
       "  </thead>\n",
       "  <tbody>\n",
       "    <tr>\n",
       "      <th>2021-01-02</th>\n",
       "      <td>0.580341</td>\n",
       "      <td>0.357697</td>\n",
       "      <td>0.446655</td>\n",
       "      <td>0.056624</td>\n",
       "    </tr>\n",
       "    <tr>\n",
       "      <th>2021-01-06</th>\n",
       "      <td>0.478685</td>\n",
       "      <td>0.487875</td>\n",
       "      <td>0.130898</td>\n",
       "      <td>0.175452</td>\n",
       "    </tr>\n",
       "    <tr>\n",
       "      <th>2021-01-01</th>\n",
       "      <td>0.263762</td>\n",
       "      <td>0.576488</td>\n",
       "      <td>0.582766</td>\n",
       "      <td>0.358793</td>\n",
       "    </tr>\n",
       "    <tr>\n",
       "      <th>2021-01-05</th>\n",
       "      <td>0.982768</td>\n",
       "      <td>0.702739</td>\n",
       "      <td>0.235398</td>\n",
       "      <td>0.895812</td>\n",
       "    </tr>\n",
       "    <tr>\n",
       "      <th>2021-01-04</th>\n",
       "      <td>0.209888</td>\n",
       "      <td>0.769959</td>\n",
       "      <td>0.267024</td>\n",
       "      <td>0.959680</td>\n",
       "    </tr>\n",
       "    <tr>\n",
       "      <th>2021-01-03</th>\n",
       "      <td>0.592444</td>\n",
       "      <td>0.936686</td>\n",
       "      <td>0.641085</td>\n",
       "      <td>0.352337</td>\n",
       "    </tr>\n",
       "  </tbody>\n",
       "</table>\n",
       "</div>"
      ],
      "text/plain": [
       "                   A         B         C         D\n",
       "2021-01-02  0.580341  0.357697  0.446655  0.056624\n",
       "2021-01-06  0.478685  0.487875  0.130898  0.175452\n",
       "2021-01-01  0.263762  0.576488  0.582766  0.358793\n",
       "2021-01-05  0.982768  0.702739  0.235398  0.895812\n",
       "2021-01-04  0.209888  0.769959  0.267024  0.959680\n",
       "2021-01-03  0.592444  0.936686  0.641085  0.352337"
      ]
     },
     "execution_count": 35,
     "metadata": {},
     "output_type": "execute_result"
    }
   ],
   "source": [
    "df.sort_values(by=\"B\")"
   ]
  },
  {
   "cell_type": "code",
   "execution_count": 38,
   "id": "62c3cf8a-fc14-4681-98b7-2e8a2f7238f2",
   "metadata": {},
   "outputs": [
    {
     "data": {
      "text/html": [
       "<div>\n",
       "<style scoped>\n",
       "    .dataframe tbody tr th:only-of-type {\n",
       "        vertical-align: middle;\n",
       "    }\n",
       "\n",
       "    .dataframe tbody tr th {\n",
       "        vertical-align: top;\n",
       "    }\n",
       "\n",
       "    .dataframe thead th {\n",
       "        text-align: right;\n",
       "    }\n",
       "</style>\n",
       "<table border=\"1\" class=\"dataframe\">\n",
       "  <thead>\n",
       "    <tr style=\"text-align: right;\">\n",
       "      <th></th>\n",
       "      <th>A</th>\n",
       "      <th>B</th>\n",
       "      <th>C</th>\n",
       "      <th>D</th>\n",
       "    </tr>\n",
       "  </thead>\n",
       "  <tbody>\n",
       "    <tr>\n",
       "      <th>2021-01-01</th>\n",
       "      <td>0.263762</td>\n",
       "      <td>0.576488</td>\n",
       "      <td>0.582766</td>\n",
       "      <td>0.358793</td>\n",
       "    </tr>\n",
       "    <tr>\n",
       "      <th>2021-01-02</th>\n",
       "      <td>0.580341</td>\n",
       "      <td>0.357697</td>\n",
       "      <td>0.446655</td>\n",
       "      <td>0.056624</td>\n",
       "    </tr>\n",
       "    <tr>\n",
       "      <th>2021-01-03</th>\n",
       "      <td>0.592444</td>\n",
       "      <td>0.936686</td>\n",
       "      <td>0.641085</td>\n",
       "      <td>0.352337</td>\n",
       "    </tr>\n",
       "    <tr>\n",
       "      <th>2021-01-04</th>\n",
       "      <td>0.209888</td>\n",
       "      <td>0.769959</td>\n",
       "      <td>0.267024</td>\n",
       "      <td>0.959680</td>\n",
       "    </tr>\n",
       "    <tr>\n",
       "      <th>2021-01-05</th>\n",
       "      <td>0.982768</td>\n",
       "      <td>0.702739</td>\n",
       "      <td>0.235398</td>\n",
       "      <td>0.895812</td>\n",
       "    </tr>\n",
       "    <tr>\n",
       "      <th>2021-01-06</th>\n",
       "      <td>0.478685</td>\n",
       "      <td>0.487875</td>\n",
       "      <td>0.130898</td>\n",
       "      <td>0.175452</td>\n",
       "    </tr>\n",
       "  </tbody>\n",
       "</table>\n",
       "</div>"
      ],
      "text/plain": [
       "                   A         B         C         D\n",
       "2021-01-01  0.263762  0.576488  0.582766  0.358793\n",
       "2021-01-02  0.580341  0.357697  0.446655  0.056624\n",
       "2021-01-03  0.592444  0.936686  0.641085  0.352337\n",
       "2021-01-04  0.209888  0.769959  0.267024  0.959680\n",
       "2021-01-05  0.982768  0.702739  0.235398  0.895812\n",
       "2021-01-06  0.478685  0.487875  0.130898  0.175452"
      ]
     },
     "execution_count": 38,
     "metadata": {},
     "output_type": "execute_result"
    }
   ],
   "source": [
    "df[df[\"A\"]>0]"
   ]
  }
 ],
 "metadata": {
  "kernelspec": {
   "display_name": "Python 3 (ipykernel)",
   "language": "python",
   "name": "python3"
  },
  "language_info": {
   "codemirror_mode": {
    "name": "ipython",
    "version": 3
   },
   "file_extension": ".py",
   "mimetype": "text/x-python",
   "name": "python",
   "nbconvert_exporter": "python",
   "pygments_lexer": "ipython3",
   "version": "3.13.0"
  }
 },
 "nbformat": 4,
 "nbformat_minor": 5
}
